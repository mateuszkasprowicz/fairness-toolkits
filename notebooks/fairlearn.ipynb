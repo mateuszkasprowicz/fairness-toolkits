{
 "cells": [
  {
   "cell_type": "code",
   "execution_count": 1,
   "id": "initial_id",
   "metadata": {
    "collapsed": true,
    "ExecuteTime": {
     "end_time": "2024-03-15T12:46:05.872530Z",
     "start_time": "2024-03-15T12:46:04.307492Z"
    }
   },
   "outputs": [],
   "source": [
    "import pandas\n",
    "import numpy\n",
    "\n",
    "import catboost\n",
    "\n",
    "from fairlearn.metrics import MetricFrame\n",
    "from fairlearn.metrics import count, \\\n",
    "                              false_positive_rate, \\\n",
    "                              selection_rate\n",
    "from sklearn.metrics import recall_score"
   ]
  },
  {
   "cell_type": "code",
   "outputs": [],
   "source": [
    "y_true = [0, 1, 1, 1, 1, 0, 1, 0, 1, 0, 0, 0, 1, 1, 1, 1, 1, 1]\n",
    "y_pred = [0, 0, 1, 0, 1, 1, 1, 0, 0, 1, 1, 1, 1, 0, 0, 1, 1, 0]\n",
    "sf_data = ['b', 'b', 'a', 'b', 'b', 'c', 'c', 'c', 'a',\n",
    "           'a', 'c', 'a', 'b', 'c', 'c', 'b', 'c', 'c']"
   ],
   "metadata": {
    "collapsed": false,
    "ExecuteTime": {
     "end_time": "2024-03-15T12:46:07.099791Z",
     "start_time": "2024-03-15T12:46:07.097637Z"
    }
   },
   "id": "37098d6a31cc620",
   "execution_count": 2
  },
  {
   "cell_type": "markdown",
   "source": [
    "## Disaggregating base metrics with MetricFrame"
   ],
   "metadata": {
    "collapsed": false
   },
   "id": "f6c5c48cf85b200a"
  },
  {
   "cell_type": "code",
   "outputs": [],
   "source": [
    "my_metrics = {\n",
    "    'tpr' : recall_score,\n",
    "    'fpr' : false_positive_rate,\n",
    "    'sel' : selection_rate,\n",
    "    'count' : count\n",
    "}\n",
    "\n",
    "mf = MetricFrame(\n",
    "    metrics=my_metrics,\n",
    "    y_true=y_true,\n",
    "    y_pred=y_pred,\n",
    "    sensitive_features=sf_data\n",
    ")"
   ],
   "metadata": {
    "collapsed": false,
    "ExecuteTime": {
     "end_time": "2024-03-15T12:47:13.587794Z",
     "start_time": "2024-03-15T12:47:13.568558Z"
    }
   },
   "id": "776d315d14fae37d",
   "execution_count": 7
  },
  {
   "cell_type": "code",
   "outputs": [
    {
     "data": {
      "text/plain": "tpr       0.500000\nfpr       0.666667\nsel       0.555556\ncount    18.000000\ndtype: float64"
     },
     "execution_count": 14,
     "metadata": {},
     "output_type": "execute_result"
    }
   ],
   "source": [
    "mf.overall"
   ],
   "metadata": {
    "collapsed": false,
    "ExecuteTime": {
     "end_time": "2024-03-15T12:48:02.050011Z",
     "start_time": "2024-03-15T12:48:02.042100Z"
    }
   },
   "id": "d61c759cb6259cf7",
   "execution_count": 14
  },
  {
   "cell_type": "code",
   "outputs": [
    {
     "data": {
      "text/plain": "                     tpr       fpr   sel  count\nsensitive_feature_0                            \na                    0.5  1.000000  0.75    4.0\nb                    0.6  0.000000  0.50    6.0\nc                    0.4  0.666667  0.50    8.0",
      "text/html": "<div>\n<style scoped>\n    .dataframe tbody tr th:only-of-type {\n        vertical-align: middle;\n    }\n\n    .dataframe tbody tr th {\n        vertical-align: top;\n    }\n\n    .dataframe thead th {\n        text-align: right;\n    }\n</style>\n<table border=\"1\" class=\"dataframe\">\n  <thead>\n    <tr style=\"text-align: right;\">\n      <th></th>\n      <th>tpr</th>\n      <th>fpr</th>\n      <th>sel</th>\n      <th>count</th>\n    </tr>\n    <tr>\n      <th>sensitive_feature_0</th>\n      <th></th>\n      <th></th>\n      <th></th>\n      <th></th>\n    </tr>\n  </thead>\n  <tbody>\n    <tr>\n      <th>a</th>\n      <td>0.5</td>\n      <td>1.000000</td>\n      <td>0.75</td>\n      <td>4.0</td>\n    </tr>\n    <tr>\n      <th>b</th>\n      <td>0.6</td>\n      <td>0.000000</td>\n      <td>0.50</td>\n      <td>6.0</td>\n    </tr>\n    <tr>\n      <th>c</th>\n      <td>0.4</td>\n      <td>0.666667</td>\n      <td>0.50</td>\n      <td>8.0</td>\n    </tr>\n  </tbody>\n</table>\n</div>"
     },
     "execution_count": 11,
     "metadata": {},
     "output_type": "execute_result"
    }
   ],
   "source": [
    "mf.by_group"
   ],
   "metadata": {
    "collapsed": false,
    "ExecuteTime": {
     "end_time": "2024-03-15T12:47:46.944081Z",
     "start_time": "2024-03-15T12:47:46.935965Z"
    }
   },
   "id": "dd99d1559c5eb6cc",
   "execution_count": 11
  },
  {
   "cell_type": "markdown",
   "source": [
    "## Predefined fairness metrics"
   ],
   "metadata": {
    "collapsed": false
   },
   "id": "55571a3c57c859a8"
  },
  {
   "cell_type": "code",
   "outputs": [],
   "source": [
    "from fairlearn.metrics import demographic_parity_ratio, demographic_parity_difference, equalized_odds_ratio\n"
   ],
   "metadata": {
    "collapsed": false,
    "ExecuteTime": {
     "end_time": "2024-03-15T12:54:05.413232Z",
     "start_time": "2024-03-15T12:54:05.403768Z"
    }
   },
   "id": "54f96a226ef4d804",
   "execution_count": 18
  },
  {
   "cell_type": "code",
   "outputs": [
    {
     "data": {
      "text/plain": "0.6666666666666666"
     },
     "execution_count": 15,
     "metadata": {},
     "output_type": "execute_result"
    }
   ],
   "source": [
    "demographic_parity_ratio(y_true, y_pred, sensitive_features=sf_data)"
   ],
   "metadata": {
    "collapsed": false,
    "ExecuteTime": {
     "end_time": "2024-03-15T12:49:07.189008Z",
     "start_time": "2024-03-15T12:49:07.186497Z"
    }
   },
   "id": "69163d93d6d0a315",
   "execution_count": 15
  },
  {
   "cell_type": "code",
   "outputs": [
    {
     "data": {
      "text/plain": "0.25"
     },
     "execution_count": 19,
     "metadata": {},
     "output_type": "execute_result"
    }
   ],
   "source": [
    "demographic_parity_difference(y_true, y_pred, sensitive_features=sf_data)"
   ],
   "metadata": {
    "collapsed": false,
    "ExecuteTime": {
     "end_time": "2024-03-15T12:54:06.605748Z",
     "start_time": "2024-03-15T12:54:06.599027Z"
    }
   },
   "id": "bd759ff064e209e0",
   "execution_count": 19
  },
  {
   "cell_type": "code",
   "outputs": [
    {
     "data": {
      "text/plain": "0.0"
     },
     "execution_count": 16,
     "metadata": {},
     "output_type": "execute_result"
    }
   ],
   "source": [
    "equalized_odds_ratio(y_true, y_pred, sensitive_features=sf_data)"
   ],
   "metadata": {
    "collapsed": false,
    "ExecuteTime": {
     "end_time": "2024-03-15T12:49:07.942410Z",
     "start_time": "2024-03-15T12:49:07.927145Z"
    }
   },
   "id": "e5dadf7c10c2e927",
   "execution_count": 16
  },
  {
   "cell_type": "code",
   "outputs": [],
   "source": [],
   "metadata": {
    "collapsed": false
   },
   "id": "1d8f6aca09d11683"
  }
 ],
 "metadata": {
  "kernelspec": {
   "display_name": "Python 3",
   "language": "python",
   "name": "python3"
  },
  "language_info": {
   "codemirror_mode": {
    "name": "ipython",
    "version": 2
   },
   "file_extension": ".py",
   "mimetype": "text/x-python",
   "name": "python",
   "nbconvert_exporter": "python",
   "pygments_lexer": "ipython2",
   "version": "2.7.6"
  }
 },
 "nbformat": 4,
 "nbformat_minor": 5
}
