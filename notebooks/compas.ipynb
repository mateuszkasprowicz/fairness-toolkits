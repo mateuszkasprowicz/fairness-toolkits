{
 "cells": [
  {
   "cell_type": "markdown",
   "source": [
    "# Evaluating Fairness in Machine Learning: Comparative Analysis and Benchmarking of Fairlearn and AIF360 | COMPAS Recidivism Dataset"
   ],
   "metadata": {
    "collapsed": false
   },
   "id": "3dab28c6a8ebdde5"
  },
  {
   "cell_type": "code",
   "execution_count": 77,
   "outputs": [
    {
     "name": "stdout",
     "output_type": "stream",
     "text": [
      "The autoreload extension is already loaded. To reload it, use:\n",
      "  %reload_ext autoreload\n"
     ]
    }
   ],
   "source": [
    "%load_ext autoreload\n",
    "%autoreload 2\n",
    "\n",
    "import os\n",
    "import random\n",
    "\n",
    "import pandas as pd\n",
    "import numpy as np\n",
    "from matplotlib import pyplot as plt\n",
    "import sklearn\n",
    "from sklearn.metrics import classification_report\n",
    "from sklearn.model_selection import train_test_split\n",
    "from catboost import CatBoostClassifier\n",
    "\n",
    "from src.constants import RANDOM_STATE, DEFAULT_MODEL_CONFIG, METRICFRAME_METRICS\n",
    "from src.evaluation import plot_roc, print_confusion_matrix, calculate_fairlearn_metrics, calculate_aif360_metrics"
   ],
   "metadata": {
    "collapsed": false,
    "ExecuteTime": {
     "end_time": "2024-03-27T14:33:34.390066Z",
     "start_time": "2024-03-27T14:33:34.368324Z"
    }
   },
   "id": "initial_id"
  },
  {
   "cell_type": "code",
   "outputs": [],
   "source": [
    "sklearn.set_config(transform_output=\"pandas\")"
   ],
   "metadata": {
    "collapsed": false,
    "ExecuteTime": {
     "end_time": "2024-03-27T14:33:34.602742Z",
     "start_time": "2024-03-27T14:33:34.578816Z"
    }
   },
   "id": "bf0ab92c3bdf0a93",
   "execution_count": 78
  },
  {
   "cell_type": "markdown",
   "source": [
    "## Ensure reproducibility\n",
    "\n",
    "Set random seeds for reproducibility."
   ],
   "metadata": {
    "collapsed": false
   },
   "id": "18bb741c498fb006"
  },
  {
   "cell_type": "code",
   "execution_count": 79,
   "outputs": [],
   "source": [
    "np.random.seed(RANDOM_STATE)\n",
    "os.environ[\"PYTHONHASHSEED\"] = str(RANDOM_STATE)\n",
    "random.seed(RANDOM_STATE)"
   ],
   "metadata": {
    "collapsed": false,
    "ExecuteTime": {
     "end_time": "2024-03-27T14:33:34.913939Z",
     "start_time": "2024-03-27T14:33:34.891526Z"
    }
   },
   "id": "e16484de6065a680"
  },
  {
   "cell_type": "markdown",
   "source": [
    "## Load data"
   ],
   "metadata": {
    "collapsed": false
   },
   "id": "186976c34c79d08d"
  },
  {
   "cell_type": "code",
   "execution_count": 80,
   "outputs": [],
   "source": [
    "FEATURES = [\"sex\",\n",
    "            \"age\",\n",
    "            \"age_cat\",\n",
    "            \"race\",\n",
    "            \"juv_fel_count\",\n",
    "            \"juv_misd_count\",\n",
    "            \"juv_other_count\",\n",
    "            \"priors_count\",\n",
    "            \"days_b_screening_arrest\",\n",
    "            \"c_days_from_compas\",\n",
    "            \"c_charge_degree\",\n",
    "            \"decile_score.1\",\n",
    "            \"score_text\",\n",
    "            \"v_type_of_assessment\",\n",
    "            \"v_decile_score\",\n",
    "            \"v_score_text\",\n",
    "            \"end\",\n",
    "            ]\n",
    "TARGET = \"is_recid\"\n",
    "PROTECTED_ATTRIBUTE = \"race\""
   ],
   "metadata": {
    "collapsed": false,
    "ExecuteTime": {
     "end_time": "2024-03-27T14:33:35.222309Z",
     "start_time": "2024-03-27T14:33:35.199337Z"
    }
   },
   "id": "32859a047b63d96e"
  },
  {
   "cell_type": "code",
   "execution_count": 81,
   "outputs": [],
   "source": [
    "data_raw = pd.read_csv(\"../data/compas-scores-two-years.csv\", usecols=[*FEATURES, TARGET])\n",
    "data = data_raw.copy()"
   ],
   "metadata": {
    "collapsed": false,
    "ExecuteTime": {
     "end_time": "2024-03-27T14:33:35.390333Z",
     "start_time": "2024-03-27T14:33:35.353247Z"
    }
   },
   "id": "b2d5a6bf84200a1"
  },
  {
   "cell_type": "code",
   "execution_count": 82,
   "outputs": [
    {
     "name": "stdout",
     "output_type": "stream",
     "text": [
      "<class 'pandas.core.frame.DataFrame'>\n",
      "RangeIndex: 7214 entries, 0 to 7213\n",
      "Data columns (total 18 columns):\n",
      " #   Column                   Non-Null Count  Dtype  \n",
      "---  ------                   --------------  -----  \n",
      " 0   sex                      7214 non-null   object \n",
      " 1   age                      7214 non-null   int64  \n",
      " 2   age_cat                  7214 non-null   object \n",
      " 3   race                     7214 non-null   object \n",
      " 4   juv_fel_count            7214 non-null   int64  \n",
      " 5   juv_misd_count           7214 non-null   int64  \n",
      " 6   juv_other_count          7214 non-null   int64  \n",
      " 7   priors_count             7214 non-null   int64  \n",
      " 8   days_b_screening_arrest  6907 non-null   float64\n",
      " 9   c_days_from_compas       7192 non-null   float64\n",
      " 10  c_charge_degree          7214 non-null   object \n",
      " 11  is_recid                 7214 non-null   int64  \n",
      " 12  decile_score.1           7214 non-null   int64  \n",
      " 13  score_text               7214 non-null   object \n",
      " 14  v_type_of_assessment     7214 non-null   object \n",
      " 15  v_decile_score           7214 non-null   int64  \n",
      " 16  v_score_text             7214 non-null   object \n",
      " 17  end                      7214 non-null   int64  \n",
      "dtypes: float64(2), int64(9), object(7)\n",
      "memory usage: 1014.6+ KB\n"
     ]
    }
   ],
   "source": [
    "data.info()"
   ],
   "metadata": {
    "collapsed": false,
    "ExecuteTime": {
     "end_time": "2024-03-27T14:33:35.542950Z",
     "start_time": "2024-03-27T14:33:35.514701Z"
    }
   },
   "id": "818a51de8d431774"
  },
  {
   "cell_type": "code",
   "outputs": [
    {
     "data": {
      "text/plain": "sex                          0\nage                          0\nage_cat                      0\nrace                         0\njuv_fel_count                0\njuv_misd_count               0\njuv_other_count              0\npriors_count                 0\ndays_b_screening_arrest    307\nc_days_from_compas          22\nc_charge_degree              0\nis_recid                     0\ndecile_score.1               0\nscore_text                   0\nv_type_of_assessment         0\nv_decile_score               0\nv_score_text                 0\nend                          0\ndtype: int64"
     },
     "execution_count": 83,
     "metadata": {},
     "output_type": "execute_result"
    }
   ],
   "source": [
    "data.isna().sum()"
   ],
   "metadata": {
    "collapsed": false,
    "ExecuteTime": {
     "end_time": "2024-03-27T14:33:35.694241Z",
     "start_time": "2024-03-27T14:33:35.666402Z"
    }
   },
   "id": "88277b5b5e0ccc55",
   "execution_count": 83
  },
  {
   "cell_type": "code",
   "outputs": [
    {
     "data": {
      "text/plain": "is_recid\n0    3743\n1    3471\nName: count, dtype: int64"
     },
     "execution_count": 84,
     "metadata": {},
     "output_type": "execute_result"
    }
   ],
   "source": [
    "data[TARGET].value_counts()"
   ],
   "metadata": {
    "collapsed": false,
    "ExecuteTime": {
     "end_time": "2024-03-27T14:33:35.876674Z",
     "start_time": "2024-03-27T14:33:35.840432Z"
    }
   },
   "id": "a9cd41732403b358",
   "execution_count": 84
  },
  {
   "cell_type": "code",
   "outputs": [
    {
     "data": {
      "text/plain": "race\nAfrican-American    3696\nCaucasian           2454\nHispanic             637\nOther                377\nAsian                 32\nNative American       18\nName: count, dtype: int64"
     },
     "execution_count": 85,
     "metadata": {},
     "output_type": "execute_result"
    }
   ],
   "source": [
    "data[PROTECTED_ATTRIBUTE].value_counts()"
   ],
   "metadata": {
    "collapsed": false,
    "ExecuteTime": {
     "end_time": "2024-03-27T14:33:36.041622Z",
     "start_time": "2024-03-27T14:33:36.012302Z"
    }
   },
   "id": "d13747301732f89b",
   "execution_count": 85
  },
  {
   "cell_type": "code",
   "execution_count": 86,
   "outputs": [],
   "source": [
    "y = data[TARGET]\n",
    "z = data[PROTECTED_ATTRIBUTE]\n",
    "X = data.drop(columns=TARGET)"
   ],
   "metadata": {
    "collapsed": false,
    "ExecuteTime": {
     "end_time": "2024-03-27T14:33:36.225802Z",
     "start_time": "2024-03-27T14:33:36.191830Z"
    }
   },
   "id": "d4355e31612e83b1"
  },
  {
   "cell_type": "code",
   "execution_count": 87,
   "outputs": [],
   "source": [
    "X_train, X_test, y_train, y_test, z_train, z_test = train_test_split(X, y, z, test_size=0.2, random_state=RANDOM_STATE, stratify=y)"
   ],
   "metadata": {
    "collapsed": false,
    "ExecuteTime": {
     "end_time": "2024-03-27T14:33:36.330577Z",
     "start_time": "2024-03-27T14:33:36.308282Z"
    }
   },
   "id": "14adf46e9fb5a995"
  },
  {
   "cell_type": "code",
   "execution_count": 88,
   "outputs": [],
   "source": [
    "MODEL_CONFIG = dict(DEFAULT_MODEL_CONFIG, cat_features=X.select_dtypes(\"object\").columns.to_list())"
   ],
   "metadata": {
    "collapsed": false,
    "ExecuteTime": {
     "end_time": "2024-03-27T14:33:36.498405Z",
     "start_time": "2024-03-27T14:33:36.466430Z"
    }
   },
   "id": "77bed94dd8d730aa"
  },
  {
   "cell_type": "code",
   "execution_count": 89,
   "outputs": [],
   "source": [
    "default_model = CatBoostClassifier(**MODEL_CONFIG)\n",
    "model = default_model.copy()"
   ],
   "metadata": {
    "collapsed": false,
    "ExecuteTime": {
     "end_time": "2024-03-27T14:33:36.649745Z",
     "start_time": "2024-03-27T14:33:36.629305Z"
    }
   },
   "id": "decc0e42c91fa4f1"
  },
  {
   "cell_type": "code",
   "execution_count": 90,
   "outputs": [
    {
     "name": "stdout",
     "output_type": "stream",
     "text": [
      "0:\tlearn: 0.6844627\ttotal: 3.39ms\tremaining: 10.2s\n",
      "250:\tlearn: 0.3208956\ttotal: 766ms\tremaining: 8.39s\n",
      "500:\tlearn: 0.3091280\ttotal: 1.54s\tremaining: 7.68s\n",
      "750:\tlearn: 0.3038870\ttotal: 2.34s\tremaining: 7s\n",
      "1000:\tlearn: 0.2994238\ttotal: 3.15s\tremaining: 6.29s\n",
      "1250:\tlearn: 0.2951383\ttotal: 3.92s\tremaining: 5.48s\n",
      "1500:\tlearn: 0.2916133\ttotal: 4.68s\tremaining: 4.67s\n",
      "1750:\tlearn: 0.2886633\ttotal: 5.49s\tremaining: 3.92s\n",
      "2000:\tlearn: 0.2859524\ttotal: 6.29s\tremaining: 3.14s\n",
      "2250:\tlearn: 0.2837542\ttotal: 7.08s\tremaining: 2.35s\n",
      "2500:\tlearn: 0.2815680\ttotal: 7.87s\tremaining: 1.57s\n",
      "2750:\tlearn: 0.2795766\ttotal: 8.67s\tremaining: 785ms\n",
      "2999:\tlearn: 0.2775952\ttotal: 9.55s\tremaining: 0us\n"
     ]
    },
    {
     "data": {
      "text/plain": "<catboost.core.CatBoostClassifier at 0x2a0af3070>"
     },
     "execution_count": 90,
     "metadata": {},
     "output_type": "execute_result"
    }
   ],
   "source": [
    "model.fit(X_train, y_train)"
   ],
   "metadata": {
    "collapsed": false,
    "ExecuteTime": {
     "end_time": "2024-03-27T14:33:46.561187Z",
     "start_time": "2024-03-27T14:33:36.777811Z"
    }
   },
   "id": "4d3290acf9a8a01"
  },
  {
   "cell_type": "code",
   "outputs": [],
   "source": [
    "y_pred = pd.Series(model.predict(X_test), name=\"y_pred\", index=y_test.index)"
   ],
   "metadata": {
    "collapsed": false,
    "ExecuteTime": {
     "end_time": "2024-03-27T14:33:46.590979Z",
     "start_time": "2024-03-27T14:33:46.560249Z"
    }
   },
   "id": "f67f96145c3db7d3",
   "execution_count": 91
  },
  {
   "cell_type": "code",
   "outputs": [
    {
     "name": "stdout",
     "output_type": "stream",
     "text": [
      "              precision    recall  f1-score   support\n",
      "\n",
      "           0       0.92      0.84      0.88       749\n",
      "           1       0.84      0.92      0.88       694\n",
      "\n",
      "    accuracy                           0.88      1443\n",
      "   macro avg       0.88      0.88      0.88      1443\n",
      "weighted avg       0.88      0.88      0.88      1443\n"
     ]
    }
   ],
   "source": [
    "print(classification_report(y_test, y_pred))"
   ],
   "metadata": {
    "collapsed": false,
    "ExecuteTime": {
     "end_time": "2024-03-27T14:33:46.616213Z",
     "start_time": "2024-03-27T14:33:46.582369Z"
    }
   },
   "id": "f4aba63af4778038",
   "execution_count": 92
  },
  {
   "cell_type": "code",
   "outputs": [
    {
     "data": {
      "text/plain": "<Figure size 640x480 with 1 Axes>",
      "image/png": "[encoded data removed]"
     },
     "metadata": {},
     "output_type": "display_data"
    }
   ],
   "source": [
    "fig, ax = plt.subplots()\n",
    "plot_roc(model, X_test, y_test, ax)"
   ],
   "metadata": {
    "collapsed": false,
    "ExecuteTime": {
     "end_time": "2024-03-27T14:33:46.726812Z",
     "start_time": "2024-03-27T14:33:46.608611Z"
    }
   },
   "id": "b7538fc4f508c6eb",
   "execution_count": 93
  },
  {
   "cell_type": "code",
   "outputs": [
    {
     "name": "stdout",
     "output_type": "stream",
     "text": [
      "Confusion Matrix:\n",
      "[[631 118]\n",
      " [ 58 636]]\n"
     ]
    }
   ],
   "source": [
    "print_confusion_matrix(model, X_test, y_test)"
   ],
   "metadata": {
    "collapsed": false,
    "ExecuteTime": {
     "end_time": "2024-03-27T14:33:46.827696Z",
     "start_time": "2024-03-27T14:33:46.727192Z"
    }
   },
   "id": "26b716ccca5bf075",
   "execution_count": 94
  },
  {
   "cell_type": "markdown",
   "source": [
    "## Fairness assessment"
   ],
   "metadata": {
    "collapsed": false
   },
   "id": "8d80782915cebc43"
  },
  {
   "cell_type": "markdown",
   "source": [
    "### Fairlearn"
   ],
   "metadata": {
    "collapsed": false
   },
   "id": "82f35ea89e45b078"
  },
  {
   "cell_type": "markdown",
   "source": [
    "#### Detection"
   ],
   "metadata": {
    "collapsed": false
   },
   "id": "58116a90ba5b596d"
  },
  {
   "cell_type": "code",
   "outputs": [],
   "source": [
    "from fairlearn.metrics import MetricFrame"
   ],
   "metadata": {
    "collapsed": false,
    "ExecuteTime": {
     "end_time": "2024-03-27T15:33:17.712140Z",
     "start_time": "2024-03-27T15:32:59.624954Z"
    }
   },
   "id": "f7eb72540a03da40",
   "execution_count": 105
  },
  {
   "cell_type": "code",
   "outputs": [],
   "source": [
    "mf = MetricFrame(\n",
    "    metrics=METRICFRAME_METRICS,\n",
    "    y_true=y_test,\n",
    "    y_pred=y_pred,\n",
    "    sensitive_features=z_test,\n",
    "    random_state=RANDOM_STATE,\n",
    ")"
   ],
   "metadata": {
    "collapsed": false,
    "ExecuteTime": {
     "end_time": "2024-03-27T15:33:17.757309Z",
     "start_time": "2024-03-27T15:33:17.712911Z"
    }
   },
   "id": "7e6ed420653f6742",
   "execution_count": 106
  },
  {
   "cell_type": "code",
   "outputs": [
    {
     "data": {
      "text/plain": "tpr         0.916427\nfpr         0.157543\nsel         0.522523\ncount    1443.000000\ndtype: float64"
     },
     "execution_count": 107,
     "metadata": {},
     "output_type": "execute_result"
    }
   ],
   "source": [
    "mf.overall"
   ],
   "metadata": {
    "collapsed": false,
    "ExecuteTime": {
     "end_time": "2024-03-27T15:33:17.790342Z",
     "start_time": "2024-03-27T15:33:17.757988Z"
    }
   },
   "id": "bcb987b29f6a6790",
   "execution_count": 107
  },
  {
   "cell_type": "code",
   "outputs": [
    {
     "data": {
      "text/plain": "                       tpr       fpr       sel  count\nrace                                                 \nAfrican-American  0.919240  0.179739  0.607978  727.0\nAsian             0.666667  0.142857  0.300000   10.0\nCaucasian         0.914573  0.148649  0.456566  495.0\nHispanic          0.914894  0.137931  0.410448  134.0\nNative American   1.000000  0.000000  1.000000    3.0\nOther             0.904762  0.113208  0.337838   74.0",
      "text/html": "<div>\n<style scoped>\n    .dataframe tbody tr th:only-of-type {\n        vertical-align: middle;\n    }\n\n    .dataframe tbody tr th {\n        vertical-align: top;\n    }\n\n    .dataframe thead th {\n        text-align: right;\n    }\n</style>\n<table border=\"1\" class=\"dataframe\">\n  <thead>\n    <tr style=\"text-align: right;\">\n      <th></th>\n      <th>tpr</th>\n      <th>fpr</th>\n      <th>sel</th>\n      <th>count</th>\n    </tr>\n    <tr>\n      <th>race</th>\n      <th></th>\n      <th></th>\n      <th></th>\n      <th></th>\n    </tr>\n  </thead>\n  <tbody>\n    <tr>\n      <th>African-American</th>\n      <td>0.919240</td>\n      <td>0.179739</td>\n      <td>0.607978</td>\n      <td>727.0</td>\n    </tr>\n    <tr>\n      <th>Asian</th>\n      <td>0.666667</td>\n      <td>0.142857</td>\n      <td>0.300000</td>\n      <td>10.0</td>\n    </tr>\n    <tr>\n      <th>Caucasian</th>\n      <td>0.914573</td>\n      <td>0.148649</td>\n      <td>0.456566</td>\n      <td>495.0</td>\n    </tr>\n    <tr>\n      <th>Hispanic</th>\n      <td>0.914894</td>\n      <td>0.137931</td>\n      <td>0.410448</td>\n      <td>134.0</td>\n    </tr>\n    <tr>\n      <th>Native American</th>\n      <td>1.000000</td>\n      <td>0.000000</td>\n      <td>1.000000</td>\n      <td>3.0</td>\n    </tr>\n    <tr>\n      <th>Other</th>\n      <td>0.904762</td>\n      <td>0.113208</td>\n      <td>0.337838</td>\n      <td>74.0</td>\n    </tr>\n  </tbody>\n</table>\n</div>"
     },
     "execution_count": 108,
     "metadata": {},
     "output_type": "execute_result"
    }
   ],
   "source": [
    "mf.by_group"
   ],
   "metadata": {
    "collapsed": false,
    "ExecuteTime": {
     "end_time": "2024-03-27T15:33:17.823559Z",
     "start_time": "2024-03-27T15:33:17.786152Z"
    }
   },
   "id": "9c820a0c09e2a2ef",
   "execution_count": 108
  },
  {
   "cell_type": "code",
   "outputs": [
    {
     "data": {
      "text/plain": "                metric        type          method     value\n8   demographic_parity  difference  between_groups  0.700000\n10  demographic_parity  difference      to_overall  0.477477\n9   demographic_parity       ratio  between_groups  0.300000\n11  demographic_parity       ratio      to_overall  0.522523\n0    equal_opportunity  difference  between_groups  0.333333\n2    equal_opportunity  difference      to_overall  0.249760\n1    equal_opportunity       ratio  between_groups  0.666667\n3    equal_opportunity       ratio      to_overall  0.727463\n4       equalized_odds  difference  between_groups  0.333333\n6       equalized_odds  difference      to_overall  0.249760\n5       equalized_odds       ratio  between_groups  0.000000\n7       equalized_odds       ratio      to_overall  0.000000",
      "text/html": "<div>\n<style scoped>\n    .dataframe tbody tr th:only-of-type {\n        vertical-align: middle;\n    }\n\n    .dataframe tbody tr th {\n        vertical-align: top;\n    }\n\n    .dataframe thead th {\n        text-align: right;\n    }\n</style>\n<table border=\"1\" class=\"dataframe\">\n  <thead>\n    <tr style=\"text-align: right;\">\n      <th></th>\n      <th>metric</th>\n      <th>type</th>\n      <th>method</th>\n      <th>value</th>\n    </tr>\n  </thead>\n  <tbody>\n    <tr>\n      <th>8</th>\n      <td>demographic_parity</td>\n      <td>difference</td>\n      <td>between_groups</td>\n      <td>0.700000</td>\n    </tr>\n    <tr>\n      <th>10</th>\n      <td>demographic_parity</td>\n      <td>difference</td>\n      <td>to_overall</td>\n      <td>0.477477</td>\n    </tr>\n    <tr>\n      <th>9</th>\n      <td>demographic_parity</td>\n      <td>ratio</td>\n      <td>between_groups</td>\n      <td>0.300000</td>\n    </tr>\n    <tr>\n      <th>11</th>\n      <td>demographic_parity</td>\n      <td>ratio</td>\n      <td>to_overall</td>\n      <td>0.522523</td>\n    </tr>\n    <tr>\n      <th>0</th>\n      <td>equal_opportunity</td>\n      <td>difference</td>\n      <td>between_groups</td>\n      <td>0.333333</td>\n    </tr>\n    <tr>\n      <th>2</th>\n      <td>equal_opportunity</td>\n      <td>difference</td>\n      <td>to_overall</td>\n      <td>0.249760</td>\n    </tr>\n    <tr>\n      <th>1</th>\n      <td>equal_opportunity</td>\n      <td>ratio</td>\n      <td>between_groups</td>\n      <td>0.666667</td>\n    </tr>\n    <tr>\n      <th>3</th>\n      <td>equal_opportunity</td>\n      <td>ratio</td>\n      <td>to_overall</td>\n      <td>0.727463</td>\n    </tr>\n    <tr>\n      <th>4</th>\n      <td>equalized_odds</td>\n      <td>difference</td>\n      <td>between_groups</td>\n      <td>0.333333</td>\n    </tr>\n    <tr>\n      <th>6</th>\n      <td>equalized_odds</td>\n      <td>difference</td>\n      <td>to_overall</td>\n      <td>0.249760</td>\n    </tr>\n    <tr>\n      <th>5</th>\n      <td>equalized_odds</td>\n      <td>ratio</td>\n      <td>between_groups</td>\n      <td>0.000000</td>\n    </tr>\n    <tr>\n      <th>7</th>\n      <td>equalized_odds</td>\n      <td>ratio</td>\n      <td>to_overall</td>\n      <td>0.000000</td>\n    </tr>\n  </tbody>\n</table>\n</div>"
     },
     "execution_count": 109,
     "metadata": {},
     "output_type": "execute_result"
    }
   ],
   "source": [
    "calculate_fairlearn_metrics(y_test, y_pred, z_test)"
   ],
   "metadata": {
    "collapsed": false,
    "ExecuteTime": {
     "end_time": "2024-03-27T15:33:17.959928Z",
     "start_time": "2024-03-27T15:33:17.814968Z"
    }
   },
   "id": "c07c413c5b48bb6d",
   "execution_count": 109
  },
  {
   "cell_type": "markdown",
   "source": [
    "#### Mitigation"
   ],
   "metadata": {
    "collapsed": false
   },
   "id": "1c97cba4a0ec9c15"
  },
  {
   "cell_type": "code",
   "outputs": [],
   "source": [
    "from fairlearn.reductions import DemographicParity, ExponentiatedGradient"
   ],
   "metadata": {
    "collapsed": false,
    "ExecuteTime": {
     "end_time": "2024-03-27T15:33:17.994482Z",
     "start_time": "2024-03-27T15:33:17.953356Z"
    }
   },
   "id": "ab98478abca8d079",
   "execution_count": 110
  },
  {
   "cell_type": "code",
   "outputs": [
    {
     "name": "stderr",
     "output_type": "stream",
     "text": [
      "/opt/homebrew/Caskroom/miniconda/base/envs/fairness-toolkits/lib/python3.10/site-packages/fairlearn/reductions/_moments/utility_parity.py:214: FutureWarning: ChainedAssignmentError: behaviour will change in pandas 3.0!\n",
      "You are setting values through chained assignment. Currently this works in certain cases, but when using Copy-on-Write (which will become the default behaviour in pandas 3.0) this will never work to update the original DataFrame or Series, because the intermediate object on which we are setting values will behave as a copy.\n",
      "A typical example is when you are setting values in a column of a DataFrame, like:\n",
      "\n",
      "df[\"col\"][row_indexer] = value\n",
      "\n",
      "Use `df.loc[row_indexer, \"col\"] = values` instead, to perform the assignment in a single step and ensure this keeps updating the original `df`.\n",
      "\n",
      "See the caveats in the documentation: https://pandas.pydata.org/pandas-docs/stable/user_guide/indexing.html#returning-a-view-versus-a-copy\n",
      "\n",
      "  self.pos_basis[i][\"+\", e, g] = 1\n",
      "/opt/homebrew/Caskroom/miniconda/base/envs/fairness-toolkits/lib/python3.10/site-packages/fairlearn/reductions/_moments/utility_parity.py:215: FutureWarning: ChainedAssignmentError: behaviour will change in pandas 3.0!\n",
      "You are setting values through chained assignment. Currently this works in certain cases, but when using Copy-on-Write (which will become the default behaviour in pandas 3.0) this will never work to update the original DataFrame or Series, because the intermediate object on which we are setting values will behave as a copy.\n",
      "A typical example is when you are setting values in a column of a DataFrame, like:\n",
      "\n",
      "df[\"col\"][row_indexer] = value\n",
      "\n",
      "Use `df.loc[row_indexer, \"col\"] = values` instead, to perform the assignment in a single step and ensure this keeps updating the original `df`.\n",
      "\n",
      "See the caveats in the documentation: https://pandas.pydata.org/pandas-docs/stable/user_guide/indexing.html#returning-a-view-versus-a-copy\n",
      "\n",
      "  self.neg_basis[i][\"-\", e, g] = 1\n",
      "/opt/homebrew/Caskroom/miniconda/base/envs/fairness-toolkits/lib/python3.10/site-packages/fairlearn/reductions/_moments/utility_parity.py:214: FutureWarning: ChainedAssignmentError: behaviour will change in pandas 3.0!\n",
      "You are setting values through chained assignment. Currently this works in certain cases, but when using Copy-on-Write (which will become the default behaviour in pandas 3.0) this will never work to update the original DataFrame or Series, because the intermediate object on which we are setting values will behave as a copy.\n",
      "A typical example is when you are setting values in a column of a DataFrame, like:\n",
      "\n",
      "df[\"col\"][row_indexer] = value\n",
      "\n",
      "Use `df.loc[row_indexer, \"col\"] = values` instead, to perform the assignment in a single step and ensure this keeps updating the original `df`.\n",
      "\n",
      "See the caveats in the documentation: https://pandas.pydata.org/pandas-docs/stable/user_guide/indexing.html#returning-a-view-versus-a-copy\n",
      "\n",
      "  self.pos_basis[i][\"+\", e, g] = 1\n",
      "/opt/homebrew/Caskroom/miniconda/base/envs/fairness-toolkits/lib/python3.10/site-packages/fairlearn/reductions/_moments/utility_parity.py:215: FutureWarning: ChainedAssignmentError: behaviour will change in pandas 3.0!\n",
      "You are setting values through chained assignment. Currently this works in certain cases, but when using Copy-on-Write (which will become the default behaviour in pandas 3.0) this will never work to update the original DataFrame or Series, because the intermediate object on which we are setting values will behave as a copy.\n",
      "A typical example is when you are setting values in a column of a DataFrame, like:\n",
      "\n",
      "df[\"col\"][row_indexer] = value\n",
      "\n",
      "Use `df.loc[row_indexer, \"col\"] = values` instead, to perform the assignment in a single step and ensure this keeps updating the original `df`.\n",
      "\n",
      "See the caveats in the documentation: https://pandas.pydata.org/pandas-docs/stable/user_guide/indexing.html#returning-a-view-versus-a-copy\n",
      "\n",
      "  self.neg_basis[i][\"-\", e, g] = 1\n",
      "/opt/homebrew/Caskroom/miniconda/base/envs/fairness-toolkits/lib/python3.10/site-packages/fairlearn/reductions/_moments/utility_parity.py:214: FutureWarning: ChainedAssignmentError: behaviour will change in pandas 3.0!\n",
      "You are setting values through chained assignment. Currently this works in certain cases, but when using Copy-on-Write (which will become the default behaviour in pandas 3.0) this will never work to update the original DataFrame or Series, because the intermediate object on which we are setting values will behave as a copy.\n",
      "A typical example is when you are setting values in a column of a DataFrame, like:\n",
      "\n",
      "df[\"col\"][row_indexer] = value\n",
      "\n",
      "Use `df.loc[row_indexer, \"col\"] = values` instead, to perform the assignment in a single step and ensure this keeps updating the original `df`.\n",
      "\n",
      "See the caveats in the documentation: https://pandas.pydata.org/pandas-docs/stable/user_guide/indexing.html#returning-a-view-versus-a-copy\n",
      "\n",
      "  self.pos_basis[i][\"+\", e, g] = 1\n",
      "/opt/homebrew/Caskroom/miniconda/base/envs/fairness-toolkits/lib/python3.10/site-packages/fairlearn/reductions/_moments/utility_parity.py:215: FutureWarning: ChainedAssignmentError: behaviour will change in pandas 3.0!\n",
      "You are setting values through chained assignment. Currently this works in certain cases, but when using Copy-on-Write (which will become the default behaviour in pandas 3.0) this will never work to update the original DataFrame or Series, because the intermediate object on which we are setting values will behave as a copy.\n",
      "A typical example is when you are setting values in a column of a DataFrame, like:\n",
      "\n",
      "df[\"col\"][row_indexer] = value\n",
      "\n",
      "Use `df.loc[row_indexer, \"col\"] = values` instead, to perform the assignment in a single step and ensure this keeps updating the original `df`.\n",
      "\n",
      "See the caveats in the documentation: https://pandas.pydata.org/pandas-docs/stable/user_guide/indexing.html#returning-a-view-versus-a-copy\n",
      "\n",
      "  self.neg_basis[i][\"-\", e, g] = 1\n",
      "/opt/homebrew/Caskroom/miniconda/base/envs/fairness-toolkits/lib/python3.10/site-packages/fairlearn/reductions/_moments/utility_parity.py:214: FutureWarning: ChainedAssignmentError: behaviour will change in pandas 3.0!\n",
      "You are setting values through chained assignment. Currently this works in certain cases, but when using Copy-on-Write (which will become the default behaviour in pandas 3.0) this will never work to update the original DataFrame or Series, because the intermediate object on which we are setting values will behave as a copy.\n",
      "A typical example is when you are setting values in a column of a DataFrame, like:\n",
      "\n",
      "df[\"col\"][row_indexer] = value\n",
      "\n",
      "Use `df.loc[row_indexer, \"col\"] = values` instead, to perform the assignment in a single step and ensure this keeps updating the original `df`.\n",
      "\n",
      "See the caveats in the documentation: https://pandas.pydata.org/pandas-docs/stable/user_guide/indexing.html#returning-a-view-versus-a-copy\n",
      "\n",
      "  self.pos_basis[i][\"+\", e, g] = 1\n",
      "/opt/homebrew/Caskroom/miniconda/base/envs/fairness-toolkits/lib/python3.10/site-packages/fairlearn/reductions/_moments/utility_parity.py:215: FutureWarning: ChainedAssignmentError: behaviour will change in pandas 3.0!\n",
      "You are setting values through chained assignment. Currently this works in certain cases, but when using Copy-on-Write (which will become the default behaviour in pandas 3.0) this will never work to update the original DataFrame or Series, because the intermediate object on which we are setting values will behave as a copy.\n",
      "A typical example is when you are setting values in a column of a DataFrame, like:\n",
      "\n",
      "df[\"col\"][row_indexer] = value\n",
      "\n",
      "Use `df.loc[row_indexer, \"col\"] = values` instead, to perform the assignment in a single step and ensure this keeps updating the original `df`.\n",
      "\n",
      "See the caveats in the documentation: https://pandas.pydata.org/pandas-docs/stable/user_guide/indexing.html#returning-a-view-versus-a-copy\n",
      "\n",
      "  self.neg_basis[i][\"-\", e, g] = 1\n",
      "/opt/homebrew/Caskroom/miniconda/base/envs/fairness-toolkits/lib/python3.10/site-packages/fairlearn/reductions/_moments/utility_parity.py:214: FutureWarning: ChainedAssignmentError: behaviour will change in pandas 3.0!\n",
      "You are setting values through chained assignment. Currently this works in certain cases, but when using Copy-on-Write (which will become the default behaviour in pandas 3.0) this will never work to update the original DataFrame or Series, because the intermediate object on which we are setting values will behave as a copy.\n",
      "A typical example is when you are setting values in a column of a DataFrame, like:\n",
      "\n",
      "df[\"col\"][row_indexer] = value\n",
      "\n",
      "Use `df.loc[row_indexer, \"col\"] = values` instead, to perform the assignment in a single step and ensure this keeps updating the original `df`.\n",
      "\n",
      "See the caveats in the documentation: https://pandas.pydata.org/pandas-docs/stable/user_guide/indexing.html#returning-a-view-versus-a-copy\n",
      "\n",
      "  self.pos_basis[i][\"+\", e, g] = 1\n",
      "/opt/homebrew/Caskroom/miniconda/base/envs/fairness-toolkits/lib/python3.10/site-packages/fairlearn/reductions/_moments/utility_parity.py:215: FutureWarning: ChainedAssignmentError: behaviour will change in pandas 3.0!\n",
      "You are setting values through chained assignment. Currently this works in certain cases, but when using Copy-on-Write (which will become the default behaviour in pandas 3.0) this will never work to update the original DataFrame or Series, because the intermediate object on which we are setting values will behave as a copy.\n",
      "A typical example is when you are setting values in a column of a DataFrame, like:\n",
      "\n",
      "df[\"col\"][row_indexer] = value\n",
      "\n",
      "Use `df.loc[row_indexer, \"col\"] = values` instead, to perform the assignment in a single step and ensure this keeps updating the original `df`.\n",
      "\n",
      "See the caveats in the documentation: https://pandas.pydata.org/pandas-docs/stable/user_guide/indexing.html#returning-a-view-versus-a-copy\n",
      "\n",
      "  self.neg_basis[i][\"-\", e, g] = 1\n"
     ]
    },
    {
     "name": "stdout",
     "output_type": "stream",
     "text": [
      "0:\tlearn: 0.6844627\ttotal: 9.15ms\tremaining: 27.4s\n",
      "250:\tlearn: 0.3208956\ttotal: 1.21s\tremaining: 13.2s\n",
      "500:\tlearn: 0.3091280\ttotal: 2.39s\tremaining: 11.9s\n",
      "750:\tlearn: 0.3038870\ttotal: 3.42s\tremaining: 10.2s\n",
      "1000:\tlearn: 0.2994238\ttotal: 4.63s\tremaining: 9.24s\n",
      "1250:\tlearn: 0.2951383\ttotal: 5.94s\tremaining: 8.3s\n",
      "1500:\tlearn: 0.2916133\ttotal: 7.25s\tremaining: 7.24s\n",
      "1750:\tlearn: 0.2886633\ttotal: 8.46s\tremaining: 6.03s\n",
      "2000:\tlearn: 0.2859524\ttotal: 9.15s\tremaining: 4.57s\n",
      "2250:\tlearn: 0.2837542\ttotal: 9.85s\tremaining: 3.28s\n",
      "2500:\tlearn: 0.2815680\ttotal: 10.5s\tremaining: 2.1s\n",
      "2750:\tlearn: 0.2795766\ttotal: 11.2s\tremaining: 1.02s\n",
      "2999:\tlearn: 0.2775952\ttotal: 12s\tremaining: 0us\n",
      "0:\tlearn: 0.6844627\ttotal: 6.56ms\tremaining: 19.7s\n",
      "250:\tlearn: 0.3208956\ttotal: 956ms\tremaining: 10.5s\n",
      "500:\tlearn: 0.3091280\ttotal: 1.61s\tremaining: 8.02s\n",
      "750:\tlearn: 0.3038870\ttotal: 2.27s\tremaining: 6.79s\n",
      "1000:\tlearn: 0.2994238\ttotal: 2.97s\tremaining: 5.93s\n",
      "1250:\tlearn: 0.2951383\ttotal: 3.65s\tremaining: 5.1s\n",
      "1500:\tlearn: 0.2916133\ttotal: 4.32s\tremaining: 4.32s\n",
      "1750:\tlearn: 0.2886633\ttotal: 5.01s\tremaining: 3.57s\n",
      "2000:\tlearn: 0.2859524\ttotal: 5.69s\tremaining: 2.84s\n",
      "2250:\tlearn: 0.2837542\ttotal: 6.38s\tremaining: 2.12s\n",
      "2500:\tlearn: 0.2815680\ttotal: 7.3s\tremaining: 1.46s\n",
      "2750:\tlearn: 0.2795766\ttotal: 8.22s\tremaining: 745ms\n",
      "2999:\tlearn: 0.2775952\ttotal: 8.89s\tremaining: 0us\n",
      "0:\tlearn: 0.6839275\ttotal: 7.84ms\tremaining: 23.5s\n",
      "250:\tlearn: 0.3167206\ttotal: 1.51s\tremaining: 16.5s\n",
      "500:\tlearn: 0.3009107\ttotal: 2.71s\tremaining: 13.5s\n",
      "750:\tlearn: 0.2935073\ttotal: 3.47s\tremaining: 10.4s\n",
      "1000:\tlearn: 0.2879445\ttotal: 4.41s\tremaining: 8.81s\n",
      "1250:\tlearn: 0.2836529\ttotal: 5.52s\tremaining: 7.72s\n",
      "1500:\tlearn: 0.2796121\ttotal: 6.63s\tremaining: 6.62s\n",
      "1750:\tlearn: 0.2762119\ttotal: 7.49s\tremaining: 5.34s\n",
      "2000:\tlearn: 0.2732463\ttotal: 8.3s\tremaining: 4.14s\n",
      "2250:\tlearn: 0.2704486\ttotal: 9.45s\tremaining: 3.14s\n",
      "2500:\tlearn: 0.2676928\ttotal: 10.4s\tremaining: 2.07s\n",
      "2750:\tlearn: 0.2652809\ttotal: 11.4s\tremaining: 1.03s\n",
      "2999:\tlearn: 0.2629570\ttotal: 12.4s\tremaining: 0us\n",
      "0:\tlearn: 0.6863485\ttotal: 15.2ms\tremaining: 45.7s\n",
      "250:\tlearn: 0.3247749\ttotal: 952ms\tremaining: 10.4s\n",
      "500:\tlearn: 0.3092829\ttotal: 2.07s\tremaining: 10.3s\n",
      "750:\tlearn: 0.3024681\ttotal: 3.11s\tremaining: 9.3s\n",
      "1000:\tlearn: 0.2972355\ttotal: 4.52s\tremaining: 9.02s\n",
      "1250:\tlearn: 0.2930219\ttotal: 6.03s\tremaining: 8.43s\n",
      "1500:\tlearn: 0.2890083\ttotal: 6.7s\tremaining: 6.69s\n",
      "1750:\tlearn: 0.2854868\ttotal: 7.37s\tremaining: 5.25s\n",
      "2000:\tlearn: 0.2824888\ttotal: 8.04s\tremaining: 4.02s\n",
      "2250:\tlearn: 0.2795952\ttotal: 8.77s\tremaining: 2.92s\n",
      "2500:\tlearn: 0.2772009\ttotal: 9.93s\tremaining: 1.98s\n",
      "2750:\tlearn: 0.2748868\ttotal: 11.2s\tremaining: 1.02s\n",
      "2999:\tlearn: 0.2726372\ttotal: 12.5s\tremaining: 0us\n",
      "0:\tlearn: 0.6599957\ttotal: 10ms\tremaining: 30.1s\n",
      "250:\tlearn: 0.0022262\ttotal: 828ms\tremaining: 9.07s\n",
      "500:\tlearn: 0.0011470\ttotal: 1.84s\tremaining: 9.16s\n",
      "750:\tlearn: 0.0009061\ttotal: 2.77s\tremaining: 8.28s\n",
      "1000:\tlearn: 0.0008903\ttotal: 3.75s\tremaining: 7.5s\n",
      "1250:\tlearn: 0.0008880\ttotal: 4.53s\tremaining: 6.33s\n",
      "1500:\tlearn: 0.0008878\ttotal: 5.32s\tremaining: 5.32s\n",
      "1750:\tlearn: 0.0008876\ttotal: 6.23s\tremaining: 4.45s\n",
      "2000:\tlearn: 0.0008875\ttotal: 6.82s\tremaining: 3.4s\n",
      "2250:\tlearn: 0.0008873\ttotal: 7.3s\tremaining: 2.43s\n",
      "2500:\tlearn: 0.0008872\ttotal: 7.78s\tremaining: 1.55s\n",
      "2750:\tlearn: 0.0008870\ttotal: 8.25s\tremaining: 747ms\n",
      "2999:\tlearn: 0.0008869\ttotal: 8.73s\tremaining: 0us\n",
      "0:\tlearn: 0.6829029\ttotal: 23.4ms\tremaining: 1m 10s\n",
      "250:\tlearn: 0.2864770\ttotal: 805ms\tremaining: 8.82s\n",
      "500:\tlearn: 0.2692939\ttotal: 1.46s\tremaining: 7.27s\n",
      "750:\tlearn: 0.2602142\ttotal: 2.13s\tremaining: 6.39s\n",
      "1000:\tlearn: 0.2541893\ttotal: 2.82s\tremaining: 5.63s\n",
      "1250:\tlearn: 0.2493678\ttotal: 3.49s\tremaining: 4.88s\n",
      "1500:\tlearn: 0.2444502\ttotal: 4.18s\tremaining: 4.17s\n",
      "1750:\tlearn: 0.2410255\ttotal: 4.86s\tremaining: 3.47s\n",
      "2000:\tlearn: 0.2378717\ttotal: 5.55s\tremaining: 2.77s\n",
      "2250:\tlearn: 0.2349869\ttotal: 6.23s\tremaining: 2.07s\n",
      "2500:\tlearn: 0.2327190\ttotal: 6.93s\tremaining: 1.38s\n",
      "2750:\tlearn: 0.2303730\ttotal: 7.61s\tremaining: 688ms\n",
      "2999:\tlearn: 0.2282009\ttotal: 8.28s\tremaining: 0us\n",
      "0:\tlearn: 0.6859690\ttotal: 15.2ms\tremaining: 45.7s\n",
      "250:\tlearn: 0.3199596\ttotal: 1.06s\tremaining: 11.6s\n",
      "500:\tlearn: 0.3053319\ttotal: 1.86s\tremaining: 9.3s\n",
      "750:\tlearn: 0.2984650\ttotal: 2.62s\tremaining: 7.84s\n",
      "1000:\tlearn: 0.2931296\ttotal: 3.34s\tremaining: 6.67s\n",
      "1250:\tlearn: 0.2890082\ttotal: 4.42s\tremaining: 6.18s\n",
      "1500:\tlearn: 0.2851091\ttotal: 5.6s\tremaining: 5.6s\n",
      "1750:\tlearn: 0.2819069\ttotal: 6.42s\tremaining: 4.58s\n",
      "2000:\tlearn: 0.2786263\ttotal: 7.23s\tremaining: 3.61s\n",
      "2250:\tlearn: 0.2762181\ttotal: 8.46s\tremaining: 2.81s\n",
      "2500:\tlearn: 0.2739760\ttotal: 9.83s\tremaining: 1.96s\n",
      "2750:\tlearn: 0.2718750\ttotal: 10.6s\tremaining: 959ms\n",
      "2999:\tlearn: 0.2697157\ttotal: 12.1s\tremaining: 0us\n",
      "0:\tlearn: 0.6594651\ttotal: 5.62ms\tremaining: 16.9s\n",
      "250:\tlearn: 0.0023279\ttotal: 1.09s\tremaining: 11.9s\n",
      "500:\tlearn: 0.0012052\ttotal: 2.3s\tremaining: 11.5s\n",
      "750:\tlearn: 0.0010611\ttotal: 3.28s\tremaining: 9.82s\n",
      "1000:\tlearn: 0.0008387\ttotal: 3.84s\tremaining: 7.66s\n",
      "1250:\tlearn: 0.0008181\ttotal: 4.33s\tremaining: 6.06s\n",
      "1500:\tlearn: 0.0008180\ttotal: 5.02s\tremaining: 5.01s\n",
      "1750:\tlearn: 0.0008178\ttotal: 5.85s\tremaining: 4.18s\n",
      "2000:\tlearn: 0.0008176\ttotal: 6.68s\tremaining: 3.33s\n",
      "2250:\tlearn: 0.0008175\ttotal: 7.47s\tremaining: 2.48s\n",
      "2500:\tlearn: 0.0008174\ttotal: 8.2s\tremaining: 1.64s\n",
      "2750:\tlearn: 0.0008173\ttotal: 8.92s\tremaining: 808ms\n",
      "2999:\tlearn: 0.0008172\ttotal: 9.71s\tremaining: 0us\n",
      "0:\tlearn: 0.6816261\ttotal: 9.26ms\tremaining: 27.8s\n",
      "250:\tlearn: 0.2851541\ttotal: 1.17s\tremaining: 12.9s\n",
      "500:\tlearn: 0.2705604\ttotal: 1.84s\tremaining: 9.2s\n",
      "750:\tlearn: 0.2641365\ttotal: 2.52s\tremaining: 7.54s\n",
      "1000:\tlearn: 0.2589522\ttotal: 3.19s\tremaining: 6.36s\n",
      "1250:\tlearn: 0.2545925\ttotal: 3.84s\tremaining: 5.36s\n",
      "1500:\tlearn: 0.2516799\ttotal: 4.5s\tremaining: 4.5s\n",
      "1750:\tlearn: 0.2491276\ttotal: 5.17s\tremaining: 3.69s\n",
      "2000:\tlearn: 0.2469478\ttotal: 5.83s\tremaining: 2.91s\n",
      "2250:\tlearn: 0.2447704\ttotal: 6.49s\tremaining: 2.16s\n",
      "2500:\tlearn: 0.2424722\ttotal: 7.15s\tremaining: 1.43s\n",
      "2750:\tlearn: 0.2406322\ttotal: 7.86s\tremaining: 712ms\n",
      "2999:\tlearn: 0.2384392\ttotal: 8.53s\tremaining: 0us\n",
      "0:\tlearn: 0.6865720\ttotal: 8ms\tremaining: 24s\n",
      "250:\tlearn: 0.3140480\ttotal: 775ms\tremaining: 8.49s\n",
      "500:\tlearn: 0.2989702\ttotal: 1.43s\tremaining: 7.13s\n",
      "750:\tlearn: 0.2922351\ttotal: 2.08s\tremaining: 6.24s\n",
      "1000:\tlearn: 0.2871307\ttotal: 2.74s\tremaining: 5.48s\n",
      "1250:\tlearn: 0.2832155\ttotal: 3.4s\tremaining: 4.75s\n",
      "1500:\tlearn: 0.2795259\ttotal: 4.05s\tremaining: 4.04s\n",
      "1750:\tlearn: 0.2763709\ttotal: 4.71s\tremaining: 3.36s\n",
      "2000:\tlearn: 0.2735010\ttotal: 5.39s\tremaining: 2.69s\n",
      "2250:\tlearn: 0.2708768\ttotal: 6.07s\tremaining: 2.02s\n",
      "2500:\tlearn: 0.2683986\ttotal: 6.75s\tremaining: 1.34s\n",
      "2750:\tlearn: 0.2659888\ttotal: 7.43s\tremaining: 672ms\n",
      "2999:\tlearn: 0.2638074\ttotal: 8.11s\tremaining: 0us\n",
      "0:\tlearn: 0.6602846\ttotal: 5.29ms\tremaining: 15.9s\n",
      "250:\tlearn: 0.0037239\ttotal: 741ms\tremaining: 8.11s\n",
      "500:\tlearn: 0.0027104\ttotal: 1.26s\tremaining: 6.29s\n",
      "750:\tlearn: 0.0021287\ttotal: 1.75s\tremaining: 5.25s\n",
      "1000:\tlearn: 0.0016342\ttotal: 2.25s\tremaining: 4.49s\n",
      "1250:\tlearn: 0.0011997\ttotal: 2.76s\tremaining: 3.86s\n",
      "1500:\tlearn: 0.0011249\ttotal: 3.26s\tremaining: 3.25s\n",
      "1750:\tlearn: 0.0011098\ttotal: 3.74s\tremaining: 2.67s\n",
      "2000:\tlearn: 0.0011014\ttotal: 4.21s\tremaining: 2.1s\n",
      "2250:\tlearn: 0.0010960\ttotal: 4.68s\tremaining: 1.56s\n",
      "2500:\tlearn: 0.0010906\ttotal: 5.16s\tremaining: 1.03s\n",
      "2750:\tlearn: 0.0010880\ttotal: 5.64s\tremaining: 510ms\n",
      "2999:\tlearn: 0.0010855\ttotal: 6.11s\tremaining: 0us\n",
      "0:\tlearn: 0.6815153\ttotal: 5.3ms\tremaining: 15.9s\n",
      "250:\tlearn: 0.2387828\ttotal: 804ms\tremaining: 8.8s\n",
      "500:\tlearn: 0.2283276\ttotal: 1.47s\tremaining: 7.34s\n",
      "750:\tlearn: 0.2226682\ttotal: 2.14s\tremaining: 6.41s\n",
      "1000:\tlearn: 0.2183852\ttotal: 2.83s\tremaining: 5.64s\n",
      "1250:\tlearn: 0.2155138\ttotal: 3.49s\tremaining: 4.88s\n",
      "1500:\tlearn: 0.2126213\ttotal: 4.16s\tremaining: 4.16s\n",
      "1750:\tlearn: 0.2101181\ttotal: 4.85s\tremaining: 3.46s\n",
      "2000:\tlearn: 0.2078048\ttotal: 5.53s\tremaining: 2.76s\n",
      "2250:\tlearn: 0.2055679\ttotal: 6.22s\tremaining: 2.07s\n",
      "2500:\tlearn: 0.2035562\ttotal: 6.94s\tremaining: 1.38s\n",
      "2750:\tlearn: 0.2017835\ttotal: 7.97s\tremaining: 722ms\n",
      "2999:\tlearn: 0.2002420\ttotal: 9.3s\tremaining: 0us\n",
      "0:\tlearn: 0.6849975\ttotal: 42.6ms\tremaining: 2m 7s\n",
      "250:\tlearn: 0.3283950\ttotal: 1.16s\tremaining: 12.7s\n",
      "500:\tlearn: 0.3131474\ttotal: 2.3s\tremaining: 11.5s\n",
      "750:\tlearn: 0.3058532\ttotal: 3.3s\tremaining: 9.87s\n",
      "1000:\tlearn: 0.3003417\ttotal: 3.98s\tremaining: 7.94s\n",
      "1250:\tlearn: 0.2966121\ttotal: 4.64s\tremaining: 6.48s\n",
      "1500:\tlearn: 0.2930559\ttotal: 5.31s\tremaining: 5.3s\n",
      "1750:\tlearn: 0.2899634\ttotal: 6.04s\tremaining: 4.31s\n",
      "2000:\tlearn: 0.2871373\ttotal: 6.72s\tremaining: 3.36s\n",
      "2250:\tlearn: 0.2845036\ttotal: 7.42s\tremaining: 2.47s\n",
      "2500:\tlearn: 0.2820816\ttotal: 8.11s\tremaining: 1.62s\n",
      "2750:\tlearn: 0.2796963\ttotal: 8.8s\tremaining: 797ms\n",
      "2999:\tlearn: 0.2774424\ttotal: 9.5s\tremaining: 0us\n",
      "0:\tlearn: 0.6589314\ttotal: 10.5ms\tremaining: 31.4s\n",
      "250:\tlearn: 0.0043089\ttotal: 942ms\tremaining: 10.3s\n",
      "500:\tlearn: 0.0019669\ttotal: 1.57s\tremaining: 7.84s\n",
      "750:\tlearn: 0.0013754\ttotal: 2.19s\tremaining: 6.57s\n",
      "1000:\tlearn: 0.0012638\ttotal: 2.7s\tremaining: 5.39s\n",
      "1250:\tlearn: 0.0012503\ttotal: 3.46s\tremaining: 4.84s\n",
      "1500:\tlearn: 0.0012502\ttotal: 4.05s\tremaining: 4.05s\n",
      "1750:\tlearn: 0.0012502\ttotal: 4.59s\tremaining: 3.28s\n",
      "2000:\tlearn: 0.0012502\ttotal: 5.5s\tremaining: 2.75s\n",
      "2250:\tlearn: 0.0012502\ttotal: 6.24s\tremaining: 2.08s\n",
      "2500:\tlearn: 0.0012502\ttotal: 6.97s\tremaining: 1.39s\n",
      "2750:\tlearn: 0.0012502\ttotal: 7.46s\tremaining: 675ms\n",
      "2999:\tlearn: 0.0012501\ttotal: 8.29s\tremaining: 0us\n",
      "0:\tlearn: 0.6789349\ttotal: 8.94ms\tremaining: 26.8s\n",
      "250:\tlearn: 0.2554707\ttotal: 1.55s\tremaining: 17s\n",
      "500:\tlearn: 0.2441467\ttotal: 2.69s\tremaining: 13.4s\n",
      "750:\tlearn: 0.2382220\ttotal: 3.49s\tremaining: 10.5s\n",
      "1000:\tlearn: 0.2335371\ttotal: 4.22s\tremaining: 8.44s\n",
      "1250:\tlearn: 0.2292916\ttotal: 5.22s\tremaining: 7.29s\n",
      "1500:\tlearn: 0.2258110\ttotal: 6.03s\tremaining: 6.02s\n",
      "1750:\tlearn: 0.2227522\ttotal: 7s\tremaining: 5s\n",
      "2000:\tlearn: 0.2200453\ttotal: 8.06s\tremaining: 4.02s\n",
      "2250:\tlearn: 0.2176344\ttotal: 9.4s\tremaining: 3.13s\n",
      "2500:\tlearn: 0.2153498\ttotal: 10.5s\tremaining: 2.09s\n",
      "2750:\tlearn: 0.2133471\ttotal: 11.2s\tremaining: 1.01s\n",
      "2999:\tlearn: 0.2114488\ttotal: 12.2s\tremaining: 0us\n",
      "0:\tlearn: 0.6862342\ttotal: 6.01ms\tremaining: 18s\n",
      "250:\tlearn: 0.3208307\ttotal: 1.05s\tremaining: 11.5s\n",
      "500:\tlearn: 0.3060571\ttotal: 2.17s\tremaining: 10.8s\n",
      "750:\tlearn: 0.2988621\ttotal: 3.02s\tremaining: 9.04s\n",
      "1000:\tlearn: 0.2933710\ttotal: 4.08s\tremaining: 8.16s\n",
      "1250:\tlearn: 0.2893334\ttotal: 5.49s\tremaining: 7.67s\n",
      "1500:\tlearn: 0.2854175\ttotal: 6.59s\tremaining: 6.58s\n",
      "1750:\tlearn: 0.2820367\ttotal: 8.04s\tremaining: 5.74s\n",
      "2000:\tlearn: 0.2791528\ttotal: 9.26s\tremaining: 4.62s\n",
      "2250:\tlearn: 0.2765333\ttotal: 9.95s\tremaining: 3.31s\n",
      "2500:\tlearn: 0.2740389\ttotal: 10.7s\tremaining: 2.13s\n",
      "2750:\tlearn: 0.2717111\ttotal: 11.4s\tremaining: 1.03s\n",
      "2999:\tlearn: 0.2697160\ttotal: 12.1s\tremaining: 0us\n",
      "0:\tlearn: 0.6791777\ttotal: 17.2ms\tremaining: 51.6s\n",
      "250:\tlearn: 0.2050072\ttotal: 806ms\tremaining: 8.82s\n",
      "500:\tlearn: 0.1938755\ttotal: 1.46s\tremaining: 7.27s\n",
      "750:\tlearn: 0.1886421\ttotal: 2.12s\tremaining: 6.35s\n",
      "1000:\tlearn: 0.1844238\ttotal: 2.79s\tremaining: 5.57s\n",
      "1250:\tlearn: 0.1808290\ttotal: 3.48s\tremaining: 4.86s\n",
      "1500:\tlearn: 0.1779287\ttotal: 4.18s\tremaining: 4.17s\n",
      "1750:\tlearn: 0.1757444\ttotal: 4.88s\tremaining: 3.48s\n",
      "2000:\tlearn: 0.1738384\ttotal: 5.57s\tremaining: 2.78s\n",
      "2250:\tlearn: 0.1721397\ttotal: 6.25s\tremaining: 2.08s\n",
      "2500:\tlearn: 0.1705114\ttotal: 6.92s\tremaining: 1.38s\n",
      "2750:\tlearn: 0.1688588\ttotal: 7.61s\tremaining: 689ms\n",
      "2999:\tlearn: 0.1674336\ttotal: 8.29s\tremaining: 0us\n",
      "0:\tlearn: 0.6856540\ttotal: 15ms\tremaining: 45.1s\n",
      "250:\tlearn: 0.2940819\ttotal: 807ms\tremaining: 8.84s\n",
      "500:\tlearn: 0.2786892\ttotal: 1.45s\tremaining: 7.26s\n",
      "750:\tlearn: 0.2717669\ttotal: 2.13s\tremaining: 6.37s\n",
      "1000:\tlearn: 0.2663861\ttotal: 2.8s\tremaining: 5.59s\n",
      "1250:\tlearn: 0.2623245\ttotal: 3.47s\tremaining: 4.85s\n",
      "1500:\tlearn: 0.2590714\ttotal: 4.13s\tremaining: 4.13s\n",
      "1750:\tlearn: 0.2561011\ttotal: 4.8s\tremaining: 3.43s\n",
      "2000:\tlearn: 0.2536710\ttotal: 5.47s\tremaining: 2.73s\n",
      "2250:\tlearn: 0.2513914\ttotal: 6.14s\tremaining: 2.04s\n",
      "2500:\tlearn: 0.2496194\ttotal: 6.82s\tremaining: 1.36s\n",
      "2750:\tlearn: 0.2478668\ttotal: 7.5s\tremaining: 679ms\n",
      "2999:\tlearn: 0.2461802\ttotal: 8.17s\tremaining: 0us\n",
      "0:\tlearn: 0.6858813\ttotal: 13.8ms\tremaining: 41.5s\n",
      "250:\tlearn: 0.3306967\ttotal: 837ms\tremaining: 9.16s\n",
      "500:\tlearn: 0.3140619\ttotal: 1.53s\tremaining: 7.66s\n",
      "750:\tlearn: 0.3065667\ttotal: 2.23s\tremaining: 6.66s\n",
      "1000:\tlearn: 0.3008078\ttotal: 2.96s\tremaining: 5.91s\n",
      "1250:\tlearn: 0.2961898\ttotal: 3.64s\tremaining: 5.09s\n",
      "1500:\tlearn: 0.2920887\ttotal: 4.3s\tremaining: 4.3s\n",
      "1750:\tlearn: 0.2884623\ttotal: 4.96s\tremaining: 3.54s\n",
      "2000:\tlearn: 0.2853902\ttotal: 5.64s\tremaining: 2.81s\n",
      "2250:\tlearn: 0.2825660\ttotal: 6.31s\tremaining: 2.1s\n",
      "2500:\tlearn: 0.2800862\ttotal: 6.99s\tremaining: 1.39s\n",
      "2750:\tlearn: 0.2776595\ttotal: 7.73s\tremaining: 700ms\n",
      "2999:\tlearn: 0.2757317\ttotal: 8.48s\tremaining: 0us\n",
      "0:\tlearn: 0.6730802\ttotal: 10.3ms\tremaining: 30.9s\n",
      "250:\tlearn: 0.1665044\ttotal: 839ms\tremaining: 9.19s\n",
      "500:\tlearn: 0.1550196\ttotal: 1.53s\tremaining: 7.64s\n",
      "750:\tlearn: 0.1502977\ttotal: 2.2s\tremaining: 6.58s\n",
      "1000:\tlearn: 0.1467162\ttotal: 2.88s\tremaining: 5.74s\n",
      "1250:\tlearn: 0.1439088\ttotal: 3.58s\tremaining: 5s\n",
      "1500:\tlearn: 0.1409142\ttotal: 4.25s\tremaining: 4.24s\n",
      "1750:\tlearn: 0.1383935\ttotal: 4.95s\tremaining: 3.53s\n",
      "2000:\tlearn: 0.1364516\ttotal: 5.66s\tremaining: 2.82s\n",
      "2250:\tlearn: 0.1348201\ttotal: 6.36s\tremaining: 2.12s\n",
      "2500:\tlearn: 0.1333712\ttotal: 7.04s\tremaining: 1.41s\n",
      "2750:\tlearn: 0.1319696\ttotal: 7.72s\tremaining: 698ms\n",
      "2999:\tlearn: 0.1307504\ttotal: 8.38s\tremaining: 0us\n",
      "0:\tlearn: 0.6798816\ttotal: 11.2ms\tremaining: 33.6s\n",
      "250:\tlearn: 0.2659817\ttotal: 810ms\tremaining: 8.87s\n",
      "500:\tlearn: 0.2536721\ttotal: 1.46s\tremaining: 7.29s\n",
      "750:\tlearn: 0.2475114\ttotal: 2.13s\tremaining: 6.37s\n",
      "1000:\tlearn: 0.2426734\ttotal: 2.79s\tremaining: 5.58s\n",
      "1250:\tlearn: 0.2385852\ttotal: 3.46s\tremaining: 4.83s\n",
      "1500:\tlearn: 0.2348331\ttotal: 4.17s\tremaining: 4.16s\n",
      "1750:\tlearn: 0.2316453\ttotal: 4.85s\tremaining: 3.46s\n",
      "2000:\tlearn: 0.2290052\ttotal: 5.53s\tremaining: 2.76s\n",
      "2250:\tlearn: 0.2265720\ttotal: 6.21s\tremaining: 2.07s\n",
      "2500:\tlearn: 0.2244583\ttotal: 6.91s\tremaining: 1.38s\n",
      "2750:\tlearn: 0.2223145\ttotal: 7.58s\tremaining: 686ms\n",
      "2999:\tlearn: 0.2203528\ttotal: 8.26s\tremaining: 0us\n",
      "0:\tlearn: 0.6865372\ttotal: 6.06ms\tremaining: 18.2s\n",
      "250:\tlearn: 0.3225043\ttotal: 831ms\tremaining: 9.1s\n",
      "500:\tlearn: 0.3071577\ttotal: 1.49s\tremaining: 7.45s\n",
      "750:\tlearn: 0.2997379\ttotal: 2.15s\tremaining: 6.45s\n",
      "1000:\tlearn: 0.2939918\ttotal: 2.82s\tremaining: 5.64s\n",
      "1250:\tlearn: 0.2896138\ttotal: 3.51s\tremaining: 4.91s\n",
      "1500:\tlearn: 0.2857643\ttotal: 4.21s\tremaining: 4.21s\n",
      "1750:\tlearn: 0.2826914\ttotal: 4.88s\tremaining: 3.48s\n",
      "2000:\tlearn: 0.2798665\ttotal: 5.56s\tremaining: 2.77s\n",
      "2250:\tlearn: 0.2772843\ttotal: 6.23s\tremaining: 2.07s\n",
      "2500:\tlearn: 0.2749412\ttotal: 6.89s\tremaining: 1.38s\n",
      "2750:\tlearn: 0.2726126\ttotal: 7.57s\tremaining: 685ms\n",
      "2999:\tlearn: 0.2703260\ttotal: 8.23s\tremaining: 0us\n",
      "0:\tlearn: 0.6858937\ttotal: 13.3ms\tremaining: 39.8s\n",
      "250:\tlearn: 0.2381992\ttotal: 789ms\tremaining: 8.64s\n",
      "500:\tlearn: 0.2225354\ttotal: 1.43s\tremaining: 7.15s\n",
      "750:\tlearn: 0.2157154\ttotal: 2.08s\tremaining: 6.24s\n",
      "1000:\tlearn: 0.2109832\ttotal: 2.75s\tremaining: 5.49s\n",
      "1250:\tlearn: 0.2068427\ttotal: 3.41s\tremaining: 4.77s\n",
      "1500:\tlearn: 0.2035322\ttotal: 4.08s\tremaining: 4.08s\n",
      "1750:\tlearn: 0.2009510\ttotal: 4.74s\tremaining: 3.38s\n",
      "2000:\tlearn: 0.1985352\ttotal: 5.42s\tremaining: 2.71s\n",
      "2250:\tlearn: 0.1961549\ttotal: 6.09s\tremaining: 2.03s\n",
      "2500:\tlearn: 0.1940488\ttotal: 6.77s\tremaining: 1.35s\n",
      "2750:\tlearn: 0.1922748\ttotal: 7.45s\tremaining: 675ms\n",
      "2999:\tlearn: 0.1905674\ttotal: 8.14s\tremaining: 0us\n",
      "0:\tlearn: 0.6857685\ttotal: 10.3ms\tremaining: 30.8s\n",
      "250:\tlearn: 0.3050715\ttotal: 778ms\tremaining: 8.52s\n",
      "500:\tlearn: 0.2874759\ttotal: 1.43s\tremaining: 7.13s\n",
      "750:\tlearn: 0.2797175\ttotal: 2.07s\tremaining: 6.21s\n",
      "1000:\tlearn: 0.2740389\ttotal: 2.74s\tremaining: 5.47s\n",
      "1250:\tlearn: 0.2693870\ttotal: 3.38s\tremaining: 4.73s\n",
      "1500:\tlearn: 0.2661263\ttotal: 4.04s\tremaining: 4.03s\n",
      "1750:\tlearn: 0.2632038\ttotal: 4.7s\tremaining: 3.35s\n",
      "2000:\tlearn: 0.2610419\ttotal: 5.35s\tremaining: 2.67s\n",
      "2250:\tlearn: 0.2589791\ttotal: 6s\tremaining: 2s\n",
      "2500:\tlearn: 0.2567397\ttotal: 6.65s\tremaining: 1.33s\n",
      "2750:\tlearn: 0.2548631\ttotal: 7.32s\tremaining: 663ms\n",
      "2999:\tlearn: 0.2530673\ttotal: 7.99s\tremaining: 0us\n",
      "0:\tlearn: 0.6864577\ttotal: 12.3ms\tremaining: 36.8s\n",
      "250:\tlearn: 0.3272996\ttotal: 801ms\tremaining: 8.77s\n",
      "500:\tlearn: 0.3110283\ttotal: 1.45s\tremaining: 7.23s\n",
      "750:\tlearn: 0.3031245\ttotal: 2.11s\tremaining: 6.33s\n",
      "1000:\tlearn: 0.2974895\ttotal: 2.78s\tremaining: 5.55s\n",
      "1250:\tlearn: 0.2930802\ttotal: 3.43s\tremaining: 4.79s\n",
      "1500:\tlearn: 0.2889300\ttotal: 4.08s\tremaining: 4.07s\n",
      "1750:\tlearn: 0.2852605\ttotal: 4.75s\tremaining: 3.39s\n",
      "2000:\tlearn: 0.2821901\ttotal: 5.41s\tremaining: 2.7s\n",
      "2250:\tlearn: 0.2792744\ttotal: 6.08s\tremaining: 2.02s\n",
      "2500:\tlearn: 0.2767935\ttotal: 6.75s\tremaining: 1.35s\n",
      "2750:\tlearn: 0.2744817\ttotal: 7.42s\tremaining: 672ms\n",
      "2999:\tlearn: 0.2723251\ttotal: 8.09s\tremaining: 0us\n",
      "0:\tlearn: 0.6847920\ttotal: 11.8ms\tremaining: 35.4s\n",
      "250:\tlearn: 0.2458104\ttotal: 844ms\tremaining: 9.24s\n",
      "500:\tlearn: 0.2307006\ttotal: 1.48s\tremaining: 7.39s\n",
      "750:\tlearn: 0.2238719\ttotal: 2.13s\tremaining: 6.39s\n",
      "1000:\tlearn: 0.2181748\ttotal: 2.78s\tremaining: 5.56s\n",
      "1250:\tlearn: 0.2141961\ttotal: 3.44s\tremaining: 4.81s\n",
      "1500:\tlearn: 0.2108465\ttotal: 4.1s\tremaining: 4.09s\n",
      "1750:\tlearn: 0.2078616\ttotal: 4.76s\tremaining: 3.4s\n",
      "2000:\tlearn: 0.2051900\ttotal: 5.43s\tremaining: 2.71s\n",
      "2250:\tlearn: 0.2028992\ttotal: 6.09s\tremaining: 2.03s\n",
      "2500:\tlearn: 0.2007927\ttotal: 6.75s\tremaining: 1.35s\n",
      "2750:\tlearn: 0.1989632\ttotal: 7.42s\tremaining: 672ms\n",
      "2999:\tlearn: 0.1971072\ttotal: 8.09s\tremaining: 0us\n",
      "0:\tlearn: 0.6804763\ttotal: 23.2ms\tremaining: 1m 9s\n",
      "250:\tlearn: 0.2621318\ttotal: 782ms\tremaining: 8.57s\n",
      "500:\tlearn: 0.2478569\ttotal: 1.43s\tremaining: 7.15s\n",
      "750:\tlearn: 0.2413429\ttotal: 2.09s\tremaining: 6.25s\n",
      "1000:\tlearn: 0.2363904\ttotal: 2.76s\tremaining: 5.52s\n",
      "1250:\tlearn: 0.2321236\ttotal: 3.42s\tremaining: 4.79s\n",
      "1500:\tlearn: 0.2291195\ttotal: 4.06s\tremaining: 4.06s\n",
      "1750:\tlearn: 0.2267382\ttotal: 4.71s\tremaining: 3.36s\n",
      "2000:\tlearn: 0.2245817\ttotal: 5.35s\tremaining: 2.67s\n",
      "2250:\tlearn: 0.2227545\ttotal: 6s\tremaining: 2s\n",
      "2500:\tlearn: 0.2207956\ttotal: 6.68s\tremaining: 1.33s\n",
      "2750:\tlearn: 0.2188000\ttotal: 7.34s\tremaining: 664ms\n",
      "2999:\tlearn: 0.2169314\ttotal: 8.01s\tremaining: 0us\n",
      "0:\tlearn: 0.6865983\ttotal: 9.76ms\tremaining: 29.3s\n",
      "250:\tlearn: 0.3210899\ttotal: 790ms\tremaining: 8.65s\n",
      "500:\tlearn: 0.3059993\ttotal: 1.44s\tremaining: 7.17s\n",
      "750:\tlearn: 0.2987927\ttotal: 2.09s\tremaining: 6.27s\n",
      "1000:\tlearn: 0.2933825\ttotal: 2.77s\tremaining: 5.54s\n",
      "1250:\tlearn: 0.2889417\ttotal: 3.44s\tremaining: 4.81s\n",
      "1500:\tlearn: 0.2851387\ttotal: 4.11s\tremaining: 4.1s\n",
      "1750:\tlearn: 0.2815758\ttotal: 4.79s\tremaining: 3.42s\n",
      "2000:\tlearn: 0.2787105\ttotal: 5.48s\tremaining: 2.74s\n",
      "2250:\tlearn: 0.2760959\ttotal: 6.17s\tremaining: 2.05s\n",
      "2500:\tlearn: 0.2736809\ttotal: 6.85s\tremaining: 1.37s\n",
      "2750:\tlearn: 0.2713561\ttotal: 7.53s\tremaining: 681ms\n",
      "2999:\tlearn: 0.2689894\ttotal: 8.21s\tremaining: 0us\n",
      "0:\tlearn: 0.6860131\ttotal: 9.55ms\tremaining: 28.6s\n",
      "250:\tlearn: 0.2880403\ttotal: 756ms\tremaining: 8.28s\n",
      "500:\tlearn: 0.2715513\ttotal: 1.42s\tremaining: 7.08s\n",
      "750:\tlearn: 0.2639946\ttotal: 2.09s\tremaining: 6.26s\n",
      "1000:\tlearn: 0.2587874\ttotal: 2.76s\tremaining: 5.52s\n",
      "1250:\tlearn: 0.2538860\ttotal: 3.44s\tremaining: 4.8s\n",
      "1500:\tlearn: 0.2500375\ttotal: 4.12s\tremaining: 4.11s\n",
      "1750:\tlearn: 0.2465166\ttotal: 4.79s\tremaining: 3.42s\n",
      "2000:\tlearn: 0.2435089\ttotal: 5.5s\tremaining: 2.75s\n",
      "2250:\tlearn: 0.2409375\ttotal: 6.22s\tremaining: 2.07s\n",
      "2500:\tlearn: 0.2386009\ttotal: 6.91s\tremaining: 1.38s\n",
      "2750:\tlearn: 0.2364366\ttotal: 7.6s\tremaining: 688ms\n",
      "2999:\tlearn: 0.2343662\ttotal: 8.28s\tremaining: 0us\n"
     ]
    },
    {
     "data": {
      "text/plain": "ExponentiatedGradient(constraints=<fairlearn.reductions._moments.utility_parity.DemographicParity object at 0x2c045a980>,\n                      estimator=<catboost.core.CatBoostClassifier object at 0x2c045af80>,\n                      max_iter=10, nu=0.0020654979885385933)",
      "text/html": "<style>#sk-container-id-2 {\n  /* Definition of color scheme common for light and dark mode */\n  --sklearn-color-text: black;\n  --sklearn-color-line: gray;\n  /* Definition of color scheme for unfitted estimators */\n  --sklearn-color-unfitted-level-0: #fff5e6;\n  --sklearn-color-unfitted-level-1: #f6e4d2;\n  --sklearn-color-unfitted-level-2: #ffe0b3;\n  --sklearn-color-unfitted-level-3: chocolate;\n  /* Definition of color scheme for fitted estimators */\n  --sklearn-color-fitted-level-0: #f0f8ff;\n  --sklearn-color-fitted-level-1: #d4ebff;\n  --sklearn-color-fitted-level-2: #b3dbfd;\n  --sklearn-color-fitted-level-3: cornflowerblue;\n\n  /* Specific color for light theme */\n  --sklearn-color-text-on-default-background: var(--sg-text-color, var(--theme-code-foreground, var(--jp-content-font-color1, black)));\n  --sklearn-color-background: var(--sg-background-color, var(--theme-background, var(--jp-layout-color0, white)));\n  --sklearn-color-border-box: var(--sg-text-color, var(--theme-code-foreground, var(--jp-content-font-color1, black)));\n  --sklearn-color-icon: #696969;\n\n  @media (prefers-color-scheme: dark) {\n    /* Redefinition of color scheme for dark theme */\n    --sklearn-color-text-on-default-background: var(--sg-text-color, var(--theme-code-foreground, var(--jp-content-font-color1, white)));\n    --sklearn-color-background: var(--sg-background-color, var(--theme-background, var(--jp-layout-color0, #111)));\n    --sklearn-color-border-box: var(--sg-text-color, var(--theme-code-foreground, var(--jp-content-font-color1, white)));\n    --sklearn-color-icon: #878787;\n  }\n}\n\n#sk-container-id-2 {\n  color: var(--sklearn-color-text);\n}\n\n#sk-container-id-2 pre {\n  padding: 0;\n}\n\n#sk-container-id-2 input.sk-hidden--visually {\n  border: 0;\n  clip: rect(1px 1px 1px 1px);\n  clip: rect(1px, 1px, 1px, 1px);\n  height: 1px;\n  margin: -1px;\n  overflow: hidden;\n  padding: 0;\n  position: absolute;\n  width: 1px;\n}\n\n#sk-container-id-2 div.sk-dashed-wrapped {\n  border: 1px dashed var(--sklearn-color-line);\n  margin: 0 0.4em 0.5em 0.4em;\n  box-sizing: border-box;\n  padding-bottom: 0.4em;\n  background-color: var(--sklearn-color-background);\n}\n\n#sk-container-id-2 div.sk-container {\n  /* jupyter's `normalize.less` sets `[hidden] { display: none; }`\n     but bootstrap.min.css set `[hidden] { display: none !important; }`\n     so we also need the `!important` here to be able to override the\n     default hidden behavior on the sphinx rendered scikit-learn.org.\n     See: https://github.com/scikit-learn/scikit-learn/issues/21755 */\n  display: inline-block !important;\n  position: relative;\n}\n\n#sk-container-id-2 div.sk-text-repr-fallback {\n  display: none;\n}\n\ndiv.sk-parallel-item,\ndiv.sk-serial,\ndiv.sk-item {\n  /* draw centered vertical line to link estimators */\n  background-image: linear-gradient(var(--sklearn-color-text-on-default-background), var(--sklearn-color-text-on-default-background));\n  background-size: 2px 100%;\n  background-repeat: no-repeat;\n  background-position: center center;\n}\n\n/* Parallel-specific style estimator block */\n\n#sk-container-id-2 div.sk-parallel-item::after {\n  content: \"\";\n  width: 100%;\n  border-bottom: 2px solid var(--sklearn-color-text-on-default-background);\n  flex-grow: 1;\n}\n\n#sk-container-id-2 div.sk-parallel {\n  display: flex;\n  align-items: stretch;\n  justify-content: center;\n  background-color: var(--sklearn-color-background);\n  position: relative;\n}\n\n#sk-container-id-2 div.sk-parallel-item {\n  display: flex;\n  flex-direction: column;\n}\n\n#sk-container-id-2 div.sk-parallel-item:first-child::after {\n  align-self: flex-end;\n  width: 50%;\n}\n\n#sk-container-id-2 div.sk-parallel-item:last-child::after {\n  align-self: flex-start;\n  width: 50%;\n}\n\n#sk-container-id-2 div.sk-parallel-item:only-child::after {\n  width: 0;\n}\n\n/* Serial-specific style estimator block */\n\n#sk-container-id-2 div.sk-serial {\n  display: flex;\n  flex-direction: column;\n  align-items: center;\n  background-color: var(--sklearn-color-background);\n  padding-right: 1em;\n  padding-left: 1em;\n}\n\n\n/* Toggleable style: style used for estimator/Pipeline/ColumnTransformer box that is\nclickable and can be expanded/collapsed.\n- Pipeline and ColumnTransformer use this feature and define the default style\n- Estimators will overwrite some part of the style using the `sk-estimator` class\n*/\n\n/* Pipeline and ColumnTransformer style (default) */\n\n#sk-container-id-2 div.sk-toggleable {\n  /* Default theme specific background. It is overwritten whether we have a\n  specific estimator or a Pipeline/ColumnTransformer */\n  background-color: var(--sklearn-color-background);\n}\n\n/* Toggleable label */\n#sk-container-id-2 label.sk-toggleable__label {\n  cursor: pointer;\n  display: block;\n  width: 100%;\n  margin-bottom: 0;\n  padding: 0.5em;\n  box-sizing: border-box;\n  text-align: center;\n}\n\n#sk-container-id-2 label.sk-toggleable__label-arrow:before {\n  /* Arrow on the left of the label */\n  content: \"▸\";\n  float: left;\n  margin-right: 0.25em;\n  color: var(--sklearn-color-icon);\n}\n\n#sk-container-id-2 label.sk-toggleable__label-arrow:hover:before {\n  color: var(--sklearn-color-text);\n}\n\n/* Toggleable content - dropdown */\n\n#sk-container-id-2 div.sk-toggleable__content {\n  max-height: 0;\n  max-width: 0;\n  overflow: hidden;\n  text-align: left;\n  /* unfitted */\n  background-color: var(--sklearn-color-unfitted-level-0);\n}\n\n#sk-container-id-2 div.sk-toggleable__content.fitted {\n  /* fitted */\n  background-color: var(--sklearn-color-fitted-level-0);\n}\n\n#sk-container-id-2 div.sk-toggleable__content pre {\n  margin: 0.2em;\n  border-radius: 0.25em;\n  color: var(--sklearn-color-text);\n  /* unfitted */\n  background-color: var(--sklearn-color-unfitted-level-0);\n}\n\n#sk-container-id-2 div.sk-toggleable__content.fitted pre {\n  /* unfitted */\n  background-color: var(--sklearn-color-fitted-level-0);\n}\n\n#sk-container-id-2 input.sk-toggleable__control:checked~div.sk-toggleable__content {\n  /* Expand drop-down */\n  max-height: 200px;\n  max-width: 100%;\n  overflow: auto;\n}\n\n#sk-container-id-2 input.sk-toggleable__control:checked~label.sk-toggleable__label-arrow:before {\n  content: \"▾\";\n}\n\n/* Pipeline/ColumnTransformer-specific style */\n\n#sk-container-id-2 div.sk-label input.sk-toggleable__control:checked~label.sk-toggleable__label {\n  color: var(--sklearn-color-text);\n  background-color: var(--sklearn-color-unfitted-level-2);\n}\n\n#sk-container-id-2 div.sk-label.fitted input.sk-toggleable__control:checked~label.sk-toggleable__label {\n  background-color: var(--sklearn-color-fitted-level-2);\n}\n\n/* Estimator-specific style */\n\n/* Colorize estimator box */\n#sk-container-id-2 div.sk-estimator input.sk-toggleable__control:checked~label.sk-toggleable__label {\n  /* unfitted */\n  background-color: var(--sklearn-color-unfitted-level-2);\n}\n\n#sk-container-id-2 div.sk-estimator.fitted input.sk-toggleable__control:checked~label.sk-toggleable__label {\n  /* fitted */\n  background-color: var(--sklearn-color-fitted-level-2);\n}\n\n#sk-container-id-2 div.sk-label label.sk-toggleable__label,\n#sk-container-id-2 div.sk-label label {\n  /* The background is the default theme color */\n  color: var(--sklearn-color-text-on-default-background);\n}\n\n/* On hover, darken the color of the background */\n#sk-container-id-2 div.sk-label:hover label.sk-toggleable__label {\n  color: var(--sklearn-color-text);\n  background-color: var(--sklearn-color-unfitted-level-2);\n}\n\n/* Label box, darken color on hover, fitted */\n#sk-container-id-2 div.sk-label.fitted:hover label.sk-toggleable__label.fitted {\n  color: var(--sklearn-color-text);\n  background-color: var(--sklearn-color-fitted-level-2);\n}\n\n/* Estimator label */\n\n#sk-container-id-2 div.sk-label label {\n  font-family: monospace;\n  font-weight: bold;\n  display: inline-block;\n  line-height: 1.2em;\n}\n\n#sk-container-id-2 div.sk-label-container {\n  text-align: center;\n}\n\n/* Estimator-specific */\n#sk-container-id-2 div.sk-estimator {\n  font-family: monospace;\n  border: 1px dotted var(--sklearn-color-border-box);\n  border-radius: 0.25em;\n  box-sizing: border-box;\n  margin-bottom: 0.5em;\n  /* unfitted */\n  background-color: var(--sklearn-color-unfitted-level-0);\n}\n\n#sk-container-id-2 div.sk-estimator.fitted {\n  /* fitted */\n  background-color: var(--sklearn-color-fitted-level-0);\n}\n\n/* on hover */\n#sk-container-id-2 div.sk-estimator:hover {\n  /* unfitted */\n  background-color: var(--sklearn-color-unfitted-level-2);\n}\n\n#sk-container-id-2 div.sk-estimator.fitted:hover {\n  /* fitted */\n  background-color: var(--sklearn-color-fitted-level-2);\n}\n\n/* Specification for estimator info (e.g. \"i\" and \"?\") */\n\n/* Common style for \"i\" and \"?\" */\n\n.sk-estimator-doc-link,\na:link.sk-estimator-doc-link,\na:visited.sk-estimator-doc-link {\n  float: right;\n  font-size: smaller;\n  line-height: 1em;\n  font-family: monospace;\n  background-color: var(--sklearn-color-background);\n  border-radius: 1em;\n  height: 1em;\n  width: 1em;\n  text-decoration: none !important;\n  margin-left: 1ex;\n  /* unfitted */\n  border: var(--sklearn-color-unfitted-level-1) 1pt solid;\n  color: var(--sklearn-color-unfitted-level-1);\n}\n\n.sk-estimator-doc-link.fitted,\na:link.sk-estimator-doc-link.fitted,\na:visited.sk-estimator-doc-link.fitted {\n  /* fitted */\n  border: var(--sklearn-color-fitted-level-1) 1pt solid;\n  color: var(--sklearn-color-fitted-level-1);\n}\n\n/* On hover */\ndiv.sk-estimator:hover .sk-estimator-doc-link:hover,\n.sk-estimator-doc-link:hover,\ndiv.sk-label-container:hover .sk-estimator-doc-link:hover,\n.sk-estimator-doc-link:hover {\n  /* unfitted */\n  background-color: var(--sklearn-color-unfitted-level-3);\n  color: var(--sklearn-color-background);\n  text-decoration: none;\n}\n\ndiv.sk-estimator.fitted:hover .sk-estimator-doc-link.fitted:hover,\n.sk-estimator-doc-link.fitted:hover,\ndiv.sk-label-container:hover .sk-estimator-doc-link.fitted:hover,\n.sk-estimator-doc-link.fitted:hover {\n  /* fitted */\n  background-color: var(--sklearn-color-fitted-level-3);\n  color: var(--sklearn-color-background);\n  text-decoration: none;\n}\n\n/* Span, style for the box shown on hovering the info icon */\n.sk-estimator-doc-link span {\n  display: none;\n  z-index: 9999;\n  position: relative;\n  font-weight: normal;\n  right: .2ex;\n  padding: .5ex;\n  margin: .5ex;\n  width: min-content;\n  min-width: 20ex;\n  max-width: 50ex;\n  color: var(--sklearn-color-text);\n  box-shadow: 2pt 2pt 4pt #999;\n  /* unfitted */\n  background: var(--sklearn-color-unfitted-level-0);\n  border: .5pt solid var(--sklearn-color-unfitted-level-3);\n}\n\n.sk-estimator-doc-link.fitted span {\n  /* fitted */\n  background: var(--sklearn-color-fitted-level-0);\n  border: var(--sklearn-color-fitted-level-3);\n}\n\n.sk-estimator-doc-link:hover span {\n  display: block;\n}\n\n/* \"?\"-specific style due to the `<a>` HTML tag */\n\n#sk-container-id-2 a.estimator_doc_link {\n  float: right;\n  font-size: 1rem;\n  line-height: 1em;\n  font-family: monospace;\n  background-color: var(--sklearn-color-background);\n  border-radius: 1rem;\n  height: 1rem;\n  width: 1rem;\n  text-decoration: none;\n  /* unfitted */\n  color: var(--sklearn-color-unfitted-level-1);\n  border: var(--sklearn-color-unfitted-level-1) 1pt solid;\n}\n\n#sk-container-id-2 a.estimator_doc_link.fitted {\n  /* fitted */\n  border: var(--sklearn-color-fitted-level-1) 1pt solid;\n  color: var(--sklearn-color-fitted-level-1);\n}\n\n/* On hover */\n#sk-container-id-2 a.estimator_doc_link:hover {\n  /* unfitted */\n  background-color: var(--sklearn-color-unfitted-level-3);\n  color: var(--sklearn-color-background);\n  text-decoration: none;\n}\n\n#sk-container-id-2 a.estimator_doc_link.fitted:hover {\n  /* fitted */\n  background-color: var(--sklearn-color-fitted-level-3);\n}\n</style><div id=\"sk-container-id-2\" class=\"sk-top-container\"><div class=\"sk-text-repr-fallback\"><pre>ExponentiatedGradient(constraints=&lt;fairlearn.reductions._moments.utility_parity.DemographicParity object at 0x2c045a980&gt;,\n                      estimator=&lt;catboost.core.CatBoostClassifier object at 0x2c045af80&gt;,\n                      max_iter=10, nu=0.0020654979885385933)</pre><b>In a Jupyter environment, please rerun this cell to show the HTML representation or trust the notebook. <br />On GitHub, the HTML representation is unable to render, please try loading this page with nbviewer.org.</b></div><div class=\"sk-container\" hidden><div class=\"sk-item sk-dashed-wrapped\"><div class=\"sk-label-container\"><div class=\"sk-label fitted sk-toggleable\"><input class=\"sk-toggleable__control sk-hidden--visually\" id=\"sk-estimator-id-4\" type=\"checkbox\" ><label for=\"sk-estimator-id-4\" class=\"sk-toggleable__label fitted sk-toggleable__label-arrow fitted\">&nbsp;ExponentiatedGradient<span class=\"sk-estimator-doc-link fitted\">i<span>Fitted</span></span></label><div class=\"sk-toggleable__content fitted\"><pre>ExponentiatedGradient(constraints=&lt;fairlearn.reductions._moments.utility_parity.DemographicParity object at 0x2c045a980&gt;,\n                      estimator=&lt;catboost.core.CatBoostClassifier object at 0x2c045af80&gt;,\n                      max_iter=10, nu=0.0020654979885385933)</pre></div> </div></div><div class=\"sk-parallel\"><div class=\"sk-parallel-item\"><div class=\"sk-item\"><div class=\"sk-label-container\"><div class=\"sk-label fitted sk-toggleable\"><input class=\"sk-toggleable__control sk-hidden--visually\" id=\"sk-estimator-id-5\" type=\"checkbox\" ><label for=\"sk-estimator-id-5\" class=\"sk-toggleable__label fitted sk-toggleable__label-arrow fitted\">estimator: CatBoostClassifier</label><div class=\"sk-toggleable__content fitted\"><pre>&lt;catboost.core.CatBoostClassifier object at 0x2c045af80&gt;</pre></div> </div></div><div class=\"sk-serial\"><div class=\"sk-item\"><div class=\"sk-estimator fitted sk-toggleable\"><input class=\"sk-toggleable__control sk-hidden--visually\" id=\"sk-estimator-id-6\" type=\"checkbox\" ><label for=\"sk-estimator-id-6\" class=\"sk-toggleable__label fitted sk-toggleable__label-arrow fitted\">CatBoostClassifier</label><div class=\"sk-toggleable__content fitted\"><pre>&lt;catboost.core.CatBoostClassifier object at 0x2c045af80&gt;</pre></div> </div></div></div></div></div></div></div></div></div>"
     },
     "execution_count": 111,
     "metadata": {},
     "output_type": "execute_result"
    }
   ],
   "source": [
    "reduction = ExponentiatedGradient(estimator=default_model.copy(), constraints=DemographicParity(difference_bound=0.01), max_iter=10)\n",
    "reduction.fit(X_train, y_train, sensitive_features=z_train)"
   ],
   "metadata": {
    "collapsed": false,
    "ExecuteTime": {
     "end_time": "2024-03-27T15:37:52.080185Z",
     "start_time": "2024-03-27T15:33:17.979515Z"
    }
   },
   "id": "4b8a9cba1d4bf895",
   "execution_count": 111
  },
  {
   "cell_type": "code",
   "outputs": [],
   "source": [
    "y_pred_reduced = reduction.predict(X_test)"
   ],
   "metadata": {
    "collapsed": false,
    "ExecuteTime": {
     "end_time": "2024-03-27T15:37:52.153891Z",
     "start_time": "2024-03-27T15:37:52.074894Z"
    }
   },
   "id": "dabde3cdd3d0eb70",
   "execution_count": 112
  },
  {
   "cell_type": "code",
   "outputs": [
    {
     "name": "stdout",
     "output_type": "stream",
     "text": [
      "              precision    recall  f1-score   support\n",
      "\n",
      "           0       0.87      0.84      0.85       749\n",
      "           1       0.83      0.86      0.85       694\n",
      "\n",
      "    accuracy                           0.85      1443\n",
      "   macro avg       0.85      0.85      0.85      1443\n",
      "weighted avg       0.85      0.85      0.85      1443\n"
     ]
    }
   ],
   "source": [
    "print(classification_report(y_test, y_pred_reduced))"
   ],
   "metadata": {
    "collapsed": false,
    "ExecuteTime": {
     "end_time": "2024-03-27T15:37:52.217269Z",
     "start_time": "2024-03-27T15:37:52.175715Z"
    }
   },
   "id": "d9af79c056e6430c",
   "execution_count": 113
  },
  {
   "cell_type": "markdown",
   "source": [
    "### AIF360"
   ],
   "metadata": {
    "collapsed": false
   },
   "id": "2825f7824182b87f"
  },
  {
   "cell_type": "markdown",
   "source": [
    "#### Detection\n",
    "\n",
    "_\"Since the main computation of confusion matrices is common for a large set of metrics, we utilize memoization and caching of computations for performance on large-scale datasets.\"_"
   ],
   "metadata": {
    "collapsed": false
   },
   "id": "1a212e8ee774ed51"
  },
  {
   "cell_type": "code",
   "outputs": [],
   "source": [
    "priv_group = \"Caucasian\""
   ],
   "metadata": {
    "collapsed": false,
    "ExecuteTime": {
     "end_time": "2024-03-27T15:37:52.267478Z",
     "start_time": "2024-03-27T15:37:52.227103Z"
    }
   },
   "id": "c8117b5215ab7b7e",
   "execution_count": 114
  },
  {
   "cell_type": "code",
   "outputs": [
    {
     "ename": "NameError",
     "evalue": "name 'calculate_aif360_metrics' is not defined",
     "output_type": "error",
     "traceback": [
      "\u001B[0;31m---------------------------------------------------------------------------\u001B[0m",
      "\u001B[0;31mNameError\u001B[0m                                 Traceback (most recent call last)",
      "Cell \u001B[0;32mIn[115], line 1\u001B[0m\n\u001B[0;32m----> 1\u001B[0m \u001B[43mcalculate_aif360_metrics\u001B[49m(y_test, y_pred, z_test, priv_group\u001B[38;5;241m=\u001B[39m\u001B[38;5;241m3\u001B[39m)\n",
      "\u001B[0;31mNameError\u001B[0m: name 'calculate_aif360_metrics' is not defined"
     ]
    }
   ],
   "source": [
    "calculate_aif360_metrics(y_test, y_pred, z_test, priv_group=priv_group)"
   ],
   "metadata": {
    "collapsed": false,
    "ExecuteTime": {
     "end_time": "2024-03-27T15:37:52.460679Z",
     "start_time": "2024-03-27T15:37:52.265724Z"
    }
   },
   "id": "dd220c7052694a3f",
   "execution_count": 115
  },
  {
   "cell_type": "markdown",
   "source": [
    "#### Mitigation"
   ],
   "metadata": {
    "collapsed": false
   },
   "id": "7c8ebd286d86622d"
  },
  {
   "cell_type": "code",
   "outputs": [],
   "source": [
    "from aif360.sklearn.inprocessing import ExponentiatedGradientReduction as ExponentiatedGradientReductionAif"
   ],
   "metadata": {
    "collapsed": false,
    "ExecuteTime": {
     "end_time": "2024-03-27T15:37:52.465900Z",
     "start_time": "2024-03-27T15:37:52.462126Z"
    }
   },
   "id": "a8fd6bbbae26771c",
   "execution_count": null
  },
  {
   "cell_type": "code",
   "outputs": [],
   "source": [
    "reduction_aif = ExponentiatedGradientReductionAif(prot_attr=PROTECTED_ATTRIBUTE, estimator=default_model.copy(), constraints=DemographicParity(difference_bound=0.01), max_iter=10)"
   ],
   "metadata": {
    "collapsed": false,
    "ExecuteTime": {
     "start_time": "2024-03-27T15:37:52.463311Z"
    }
   },
   "id": "4f6a51543c57935f",
   "execution_count": null
  },
  {
   "cell_type": "code",
   "outputs": [],
   "source": [
    "reduction_aif.fit(X_train, y_train)"
   ],
   "metadata": {
    "collapsed": false,
    "ExecuteTime": {
     "start_time": "2024-03-27T15:37:52.464818Z"
    }
   },
   "id": "113260cbbf36efec",
   "execution_count": null
  },
  {
   "cell_type": "code",
   "outputs": [],
   "source": [
    "y_pred_reduced_aif = reduction_aif.predict(X_test)"
   ],
   "metadata": {
    "collapsed": false,
    "ExecuteTime": {
     "end_time": "2024-03-27T15:37:52.467100Z",
     "start_time": "2024-03-27T15:37:52.466072Z"
    }
   },
   "id": "8abe326bcb3cf935",
   "execution_count": null
  },
  {
   "cell_type": "code",
   "outputs": [],
   "source": [
    "calculate_aif360_metrics(y_test, y_pred_reduced_aif, z_test, priv_group=priv_group)"
   ],
   "metadata": {
    "collapsed": false,
    "ExecuteTime": {
     "start_time": "2024-03-27T15:37:52.466857Z"
    }
   },
   "id": "b704d59e738814b8",
   "execution_count": null
  },
  {
   "cell_type": "code",
   "outputs": [],
   "source": [
    "print(classification_report(y_test, y_pred_reduced_aif))\n"
   ],
   "metadata": {
    "collapsed": false,
    "ExecuteTime": {
     "start_time": "2024-03-27T15:37:52.467740Z"
    }
   },
   "id": "ededc7bf4c7b4f79",
   "execution_count": null
  },
  {
   "cell_type": "code",
   "outputs": [],
   "source": [],
   "metadata": {
    "collapsed": false,
    "ExecuteTime": {
     "start_time": "2024-03-27T15:37:52.468543Z"
    }
   },
   "id": "351c4b67f52ca979"
  }
 ],
 "metadata": {
  "kernelspec": {
   "display_name": "Python 3",
   "language": "python",
   "name": "python3"
  },
  "language_info": {
   "codemirror_mode": {
    "name": "ipython",
    "version": 2
   },
   "file_extension": ".py",
   "mimetype": "text/x-python",
   "name": "python",
   "nbconvert_exporter": "python",
   "pygments_lexer": "ipython2",
   "version": "2.7.6"
  }
 },
 "nbformat": 4,
 "nbformat_minor": 5
}
