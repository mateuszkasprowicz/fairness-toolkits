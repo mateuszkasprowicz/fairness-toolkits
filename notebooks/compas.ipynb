{
 "cells": [
  {
   "cell_type": "markdown",
   "source": [
    "# Evaluating Fairness in Machine Learning: Comparative Analysis and Benchmarking of Fairlearn and AIF360 | COMPAS Recidivism Dataset"
   ],
   "metadata": {
    "collapsed": false
   },
   "id": "3dab28c6a8ebdde5"
  },
  {
   "cell_type": "code",
   "execution_count": 8,
   "outputs": [],
   "source": [
    "%load_ext autoreload\n",
    "%autoreload 2\n",
    "\n",
    "import os\n",
    "import random\n",
    "\n",
    "import pandas as pd\n",
    "import numpy as np\n",
    "\n",
    "import sklearn\n",
    "from sklearn.model_selection import train_test_split\n",
    "from catboost import CatBoostClassifier\n",
    "\n",
    "from src.constants import RANDOM_STATE, DEFAULT_MODEL_CONFIG\n",
    "from src.evaluation import calculate_metrics, plot_roc, print_confusion_matrix"
   ],
   "metadata": {
    "collapsed": false,
    "ExecuteTime": {
     "end_time": "2024-03-22T10:08:58.481349Z",
     "start_time": "2024-03-22T10:08:58.480256Z"
    }
   },
   "id": "initial_id"
  },
  {
   "cell_type": "code",
   "outputs": [],
   "source": [
    "sklearn.set_config(transform_output=\"pandas\")"
   ],
   "metadata": {
    "collapsed": false,
    "ExecuteTime": {
     "end_time": "2024-03-22T10:08:58.977688Z",
     "start_time": "2024-03-22T10:08:58.973679Z"
    }
   },
   "id": "bf0ab92c3bdf0a93",
   "execution_count": 9
  },
  {
   "cell_type": "markdown",
   "source": [
    "## Ensure reproducibility\n",
    "\n",
    "Set random seeds for reproducibility."
   ],
   "metadata": {
    "collapsed": false
   },
   "id": "18bb741c498fb006"
  },
  {
   "cell_type": "code",
   "execution_count": 10,
   "outputs": [],
   "source": [
    "np.random.seed(RANDOM_STATE)\n",
    "os.environ[\"PYTHONHASHSEED\"] = str(RANDOM_STATE)\n",
    "random.seed(RANDOM_STATE)"
   ],
   "metadata": {
    "collapsed": false,
    "ExecuteTime": {
     "end_time": "2024-03-22T10:08:59.496921Z",
     "start_time": "2024-03-22T10:08:59.492597Z"
    }
   },
   "id": "e16484de6065a680"
  },
  {
   "cell_type": "markdown",
   "source": [
    "## Load data"
   ],
   "metadata": {
    "collapsed": false
   },
   "id": "186976c34c79d08d"
  },
  {
   "cell_type": "code",
   "execution_count": 16,
   "outputs": [],
   "source": [
    "FEATURES = [\"sex\",\n",
    "            \"age\",\n",
    "            \"age_cat\",\n",
    "            \"race\",\n",
    "            \"juv_fel_count\",\n",
    "            \"juv_misd_count\",\n",
    "            \"juv_other_count\",\n",
    "            \"priors_count\",\n",
    "            \"days_b_screening_arrest\",\n",
    "            \"c_days_from_compas\",\n",
    "            \"c_charge_degree\",\n",
    "            \"decile_score.1\",\n",
    "            \"score_text\",\n",
    "            \"v_type_of_assessment\",\n",
    "            \"v_decile_score\",\n",
    "            \"v_score_text\",\n",
    "            \"end\",\n",
    "            ]\n",
    "TARGET = \"is_recid\"\n",
    "PROTECTED_ATTRIBUTE = \"race\""
   ],
   "metadata": {
    "collapsed": false,
    "ExecuteTime": {
     "end_time": "2024-03-22T10:09:58.077375Z",
     "start_time": "2024-03-22T10:09:58.072140Z"
    }
   },
   "id": "32859a047b63d96e"
  },
  {
   "cell_type": "code",
   "execution_count": 17,
   "outputs": [],
   "source": [
    "data = pd.read_csv(\"../data/compas-scores-two-years.csv\", usecols=[*FEATURES, TARGET])"
   ],
   "metadata": {
    "collapsed": false,
    "ExecuteTime": {
     "end_time": "2024-03-22T10:09:58.380481Z",
     "start_time": "2024-03-22T10:09:58.354152Z"
    }
   },
   "id": "b2d5a6bf84200a1"
  },
  {
   "cell_type": "code",
   "execution_count": 18,
   "outputs": [
    {
     "name": "stdout",
     "output_type": "stream",
     "text": [
      "<class 'pandas.core.frame.DataFrame'>\n",
      "RangeIndex: 7214 entries, 0 to 7213\n",
      "Data columns (total 18 columns):\n",
      " #   Column                   Non-Null Count  Dtype  \n",
      "---  ------                   --------------  -----  \n",
      " 0   sex                      7214 non-null   object \n",
      " 1   age                      7214 non-null   int64  \n",
      " 2   age_cat                  7214 non-null   object \n",
      " 3   race                     7214 non-null   object \n",
      " 4   juv_fel_count            7214 non-null   int64  \n",
      " 5   juv_misd_count           7214 non-null   int64  \n",
      " 6   juv_other_count          7214 non-null   int64  \n",
      " 7   priors_count             7214 non-null   int64  \n",
      " 8   days_b_screening_arrest  6907 non-null   float64\n",
      " 9   c_days_from_compas       7192 non-null   float64\n",
      " 10  c_charge_degree          7214 non-null   object \n",
      " 11  is_recid                 7214 non-null   int64  \n",
      " 12  decile_score.1           7214 non-null   int64  \n",
      " 13  score_text               7214 non-null   object \n",
      " 14  v_type_of_assessment     7214 non-null   object \n",
      " 15  v_decile_score           7214 non-null   int64  \n",
      " 16  v_score_text             7214 non-null   object \n",
      " 17  end                      7214 non-null   int64  \n",
      "dtypes: float64(2), int64(9), object(7)\n",
      "memory usage: 1014.6+ KB\n"
     ]
    }
   ],
   "source": [
    "data.info()"
   ],
   "metadata": {
    "collapsed": false,
    "ExecuteTime": {
     "end_time": "2024-03-22T10:09:58.567943Z",
     "start_time": "2024-03-22T10:09:58.563952Z"
    }
   },
   "id": "818a51de8d431774"
  },
  {
   "cell_type": "code",
   "execution_count": 19,
   "outputs": [],
   "source": [
    "y = data[TARGET]\n",
    "z = data[PROTECTED_ATTRIBUTE]\n",
    "X = data.drop(columns=TARGET)"
   ],
   "metadata": {
    "collapsed": false,
    "ExecuteTime": {
     "end_time": "2024-03-22T10:09:59.081264Z",
     "start_time": "2024-03-22T10:09:59.077262Z"
    }
   },
   "id": "d4355e31612e83b1"
  },
  {
   "cell_type": "code",
   "execution_count": 20,
   "outputs": [],
   "source": [
    "X_train, X_test, y_train, y_test, z_train, z_test = train_test_split(X, y, z, test_size=0.2, random_state=RANDOM_STATE, stratify=y)"
   ],
   "metadata": {
    "collapsed": false,
    "ExecuteTime": {
     "end_time": "2024-03-22T10:10:00.120975Z",
     "start_time": "2024-03-22T10:10:00.114994Z"
    }
   },
   "id": "14adf46e9fb5a995"
  },
  {
   "cell_type": "code",
   "execution_count": 21,
   "outputs": [],
   "source": [
    "MODEL_CONFIG = dict(DEFAULT_MODEL_CONFIG, cat_features=X.select_dtypes(\"object\").columns.to_list())"
   ],
   "metadata": {
    "collapsed": false,
    "ExecuteTime": {
     "end_time": "2024-03-22T10:10:01.122799Z",
     "start_time": "2024-03-22T10:10:01.121274Z"
    }
   },
   "id": "77bed94dd8d730aa"
  },
  {
   "cell_type": "code",
   "execution_count": 22,
   "outputs": [],
   "source": [
    "default_model = CatBoostClassifier(**MODEL_CONFIG)\n",
    "model = default_model.copy()"
   ],
   "metadata": {
    "collapsed": false,
    "ExecuteTime": {
     "end_time": "2024-03-22T10:10:01.700287Z",
     "start_time": "2024-03-22T10:10:01.698146Z"
    }
   },
   "id": "decc0e42c91fa4f1"
  },
  {
   "cell_type": "code",
   "execution_count": 23,
   "outputs": [
    {
     "name": "stdout",
     "output_type": "stream",
     "text": [
      "0:\tlearn: 0.6844627\ttotal: 58.5ms\tremaining: 2m 55s\n",
      "250:\tlearn: 0.3208956\ttotal: 711ms\tremaining: 7.78s\n",
      "500:\tlearn: 0.3091280\ttotal: 1.78s\tremaining: 8.89s\n",
      "750:\tlearn: 0.3038870\ttotal: 2.79s\tremaining: 8.37s\n",
      "1000:\tlearn: 0.2994238\ttotal: 3.84s\tremaining: 7.67s\n",
      "1250:\tlearn: 0.2951383\ttotal: 5s\tremaining: 6.99s\n",
      "1500:\tlearn: 0.2916133\ttotal: 6.01s\tremaining: 6s\n",
      "1750:\tlearn: 0.2886633\ttotal: 6.67s\tremaining: 4.76s\n",
      "2000:\tlearn: 0.2859524\ttotal: 7.34s\tremaining: 3.67s\n",
      "2250:\tlearn: 0.2837542\ttotal: 8.13s\tremaining: 2.7s\n",
      "2500:\tlearn: 0.2815680\ttotal: 8.8s\tremaining: 1.76s\n",
      "2750:\tlearn: 0.2795766\ttotal: 9.75s\tremaining: 882ms\n",
      "2999:\tlearn: 0.2775952\ttotal: 10.5s\tremaining: 0us\n"
     ]
    },
    {
     "data": {
      "text/plain": "<catboost.core.CatBoostClassifier at 0x142692fb0>"
     },
     "execution_count": 23,
     "metadata": {},
     "output_type": "execute_result"
    }
   ],
   "source": [
    "model.fit(X_train, y_train)"
   ],
   "metadata": {
    "collapsed": false,
    "ExecuteTime": {
     "end_time": "2024-03-22T10:10:12.637082Z",
     "start_time": "2024-03-22T10:10:01.860983Z"
    }
   },
   "id": "4d3290acf9a8a01"
  },
  {
   "cell_type": "code",
   "outputs": [],
   "source": [
    "y_pred = pd.Series(model.predict(X_test), name=\"y_pred\", index=y_test.index)"
   ],
   "metadata": {
    "collapsed": false
   },
   "id": "f67f96145c3db7d3",
   "execution_count": 0
  },
  {
   "cell_type": "code",
   "outputs": [],
   "source": [
    "calculate_metrics(model, X_test, y_test)"
   ],
   "metadata": {
    "collapsed": false
   },
   "id": "f4aba63af4778038"
  },
  {
   "cell_type": "markdown",
   "source": [
    "## Fairness assessment"
   ],
   "metadata": {
    "collapsed": false
   },
   "id": "67e2d0d14f791ff4"
  },
  {
   "cell_type": "markdown",
   "source": [
    "### Fairlearn"
   ],
   "metadata": {
    "collapsed": false
   },
   "id": "c62b0821fb78effc"
  },
  {
   "cell_type": "markdown",
   "source": [
    "#### Detection"
   ],
   "metadata": {
    "collapsed": false
   },
   "id": "7e2cf2da3065920c"
  },
  {
   "cell_type": "code",
   "outputs": [],
   "source": [
    "from fairlearn.metrics import demographic_parity_ratio, demographic_parity_difference"
   ],
   "metadata": {
    "collapsed": false
   },
   "id": "d4bdfff44e4413e0",
   "execution_count": 16
  },
  {
   "cell_type": "code",
   "outputs": [
    {
     "data": {
      "text/plain": "0.30000000000000004"
     },
     "execution_count": 17,
     "metadata": {},
     "output_type": "execute_result"
    }
   ],
   "source": [
    "demographic_parity_difference(y_test, y_pred, sensitive_features=z_test, method=\"between_groups\")"
   ],
   "metadata": {
    "collapsed": false
   },
   "id": "bb6fd26de67d2895",
   "execution_count": 17
  },
  {
   "cell_type": "code",
   "outputs": [
    {
     "data": {
      "text/plain": "0.22999999999999998"
     },
     "execution_count": 18,
     "metadata": {},
     "output_type": "execute_result"
    }
   ],
   "source": [
    "demographic_parity_difference(y_test, y_pred, sensitive_features=z_test, method=\"to_overall\")"
   ],
   "metadata": {
    "collapsed": false
   },
   "id": "cc1c969597762b76",
   "execution_count": 18
  },
  {
   "cell_type": "code",
   "outputs": [
    {
     "data": {
      "text/plain": "0.625"
     },
     "execution_count": 19,
     "metadata": {},
     "output_type": "execute_result"
    }
   ],
   "source": [
    "demographic_parity_ratio(y_test, y_pred, sensitive_features=z_test)"
   ],
   "metadata": {
    "collapsed": false
   },
   "id": "ea32ee7736e1ac74",
   "execution_count": 19
  },
  {
   "cell_type": "markdown",
   "source": [
    "#### Mitigation"
   ],
   "metadata": {
    "collapsed": false
   },
   "id": "d58981c774bd741c"
  },
  {
   "cell_type": "code",
   "outputs": [],
   "source": [
    "from fairlearn.reductions import DemographicParity, ExponentiatedGradient"
   ],
   "metadata": {
    "collapsed": false
   },
   "id": "bbe0300edb2a8fb4",
   "execution_count": 20
  },
  {
   "cell_type": "code",
   "outputs": [
    {
     "name": "stderr",
     "output_type": "stream",
     "text": [
      "/opt/homebrew/Caskroom/miniconda/base/envs/fairness-toolkits/lib/python3.10/site-packages/fairlearn/reductions/_moments/utility_parity.py:214: FutureWarning: ChainedAssignmentError: behaviour will change in pandas 3.0!\n",
      "You are setting values through chained assignment. Currently this works in certain cases, but when using Copy-on-Write (which will become the default behaviour in pandas 3.0) this will never work to update the original DataFrame or Series, because the intermediate object on which we are setting values will behave as a copy.\n",
      "A typical example is when you are setting values in a column of a DataFrame, like:\n",
      "\n",
      "df[\"col\"][row_indexer] = value\n",
      "\n",
      "Use `df.loc[row_indexer, \"col\"] = values` instead, to perform the assignment in a single step and ensure this keeps updating the original `df`.\n",
      "\n",
      "See the caveats in the documentation: https://pandas.pydata.org/pandas-docs/stable/user_guide/indexing.html#returning-a-view-versus-a-copy\n",
      "\n",
      "  self.pos_basis[i][\"+\", e, g] = 1\n",
      "/opt/homebrew/Caskroom/miniconda/base/envs/fairness-toolkits/lib/python3.10/site-packages/fairlearn/reductions/_moments/utility_parity.py:215: FutureWarning: ChainedAssignmentError: behaviour will change in pandas 3.0!\n",
      "You are setting values through chained assignment. Currently this works in certain cases, but when using Copy-on-Write (which will become the default behaviour in pandas 3.0) this will never work to update the original DataFrame or Series, because the intermediate object on which we are setting values will behave as a copy.\n",
      "A typical example is when you are setting values in a column of a DataFrame, like:\n",
      "\n",
      "df[\"col\"][row_indexer] = value\n",
      "\n",
      "Use `df.loc[row_indexer, \"col\"] = values` instead, to perform the assignment in a single step and ensure this keeps updating the original `df`.\n",
      "\n",
      "See the caveats in the documentation: https://pandas.pydata.org/pandas-docs/stable/user_guide/indexing.html#returning-a-view-versus-a-copy\n",
      "\n",
      "  self.neg_basis[i][\"-\", e, g] = 1\n",
      "/opt/homebrew/Caskroom/miniconda/base/envs/fairness-toolkits/lib/python3.10/site-packages/fairlearn/reductions/_moments/utility_parity.py:214: FutureWarning: ChainedAssignmentError: behaviour will change in pandas 3.0!\n",
      "You are setting values through chained assignment. Currently this works in certain cases, but when using Copy-on-Write (which will become the default behaviour in pandas 3.0) this will never work to update the original DataFrame or Series, because the intermediate object on which we are setting values will behave as a copy.\n",
      "A typical example is when you are setting values in a column of a DataFrame, like:\n",
      "\n",
      "df[\"col\"][row_indexer] = value\n",
      "\n",
      "Use `df.loc[row_indexer, \"col\"] = values` instead, to perform the assignment in a single step and ensure this keeps updating the original `df`.\n",
      "\n",
      "See the caveats in the documentation: https://pandas.pydata.org/pandas-docs/stable/user_guide/indexing.html#returning-a-view-versus-a-copy\n",
      "\n",
      "  self.pos_basis[i][\"+\", e, g] = 1\n",
      "/opt/homebrew/Caskroom/miniconda/base/envs/fairness-toolkits/lib/python3.10/site-packages/fairlearn/reductions/_moments/utility_parity.py:215: FutureWarning: ChainedAssignmentError: behaviour will change in pandas 3.0!\n",
      "You are setting values through chained assignment. Currently this works in certain cases, but when using Copy-on-Write (which will become the default behaviour in pandas 3.0) this will never work to update the original DataFrame or Series, because the intermediate object on which we are setting values will behave as a copy.\n",
      "A typical example is when you are setting values in a column of a DataFrame, like:\n",
      "\n",
      "df[\"col\"][row_indexer] = value\n",
      "\n",
      "Use `df.loc[row_indexer, \"col\"] = values` instead, to perform the assignment in a single step and ensure this keeps updating the original `df`.\n",
      "\n",
      "See the caveats in the documentation: https://pandas.pydata.org/pandas-docs/stable/user_guide/indexing.html#returning-a-view-versus-a-copy\n",
      "\n",
      "  self.neg_basis[i][\"-\", e, g] = 1\n",
      "/opt/homebrew/Caskroom/miniconda/base/envs/fairness-toolkits/lib/python3.10/site-packages/fairlearn/reductions/_moments/utility_parity.py:214: FutureWarning: ChainedAssignmentError: behaviour will change in pandas 3.0!\n",
      "You are setting values through chained assignment. Currently this works in certain cases, but when using Copy-on-Write (which will become the default behaviour in pandas 3.0) this will never work to update the original DataFrame or Series, because the intermediate object on which we are setting values will behave as a copy.\n",
      "A typical example is when you are setting values in a column of a DataFrame, like:\n",
      "\n",
      "df[\"col\"][row_indexer] = value\n",
      "\n",
      "Use `df.loc[row_indexer, \"col\"] = values` instead, to perform the assignment in a single step and ensure this keeps updating the original `df`.\n",
      "\n",
      "See the caveats in the documentation: https://pandas.pydata.org/pandas-docs/stable/user_guide/indexing.html#returning-a-view-versus-a-copy\n",
      "\n",
      "  self.pos_basis[i][\"+\", e, g] = 1\n",
      "/opt/homebrew/Caskroom/miniconda/base/envs/fairness-toolkits/lib/python3.10/site-packages/fairlearn/reductions/_moments/utility_parity.py:215: FutureWarning: ChainedAssignmentError: behaviour will change in pandas 3.0!\n",
      "You are setting values through chained assignment. Currently this works in certain cases, but when using Copy-on-Write (which will become the default behaviour in pandas 3.0) this will never work to update the original DataFrame or Series, because the intermediate object on which we are setting values will behave as a copy.\n",
      "A typical example is when you are setting values in a column of a DataFrame, like:\n",
      "\n",
      "df[\"col\"][row_indexer] = value\n",
      "\n",
      "Use `df.loc[row_indexer, \"col\"] = values` instead, to perform the assignment in a single step and ensure this keeps updating the original `df`.\n",
      "\n",
      "See the caveats in the documentation: https://pandas.pydata.org/pandas-docs/stable/user_guide/indexing.html#returning-a-view-versus-a-copy\n",
      "\n",
      "  self.neg_basis[i][\"-\", e, g] = 1\n"
     ]
    },
    {
     "name": "stdout",
     "output_type": "stream",
     "text": [
      "0:\tlearn: 0.6899831\ttotal: 530us\tremaining: 1.59s\n",
      "250:\tlearn: 0.4698964\ttotal: 102ms\tremaining: 1.12s\n",
      "500:\tlearn: 0.4234232\ttotal: 198ms\tremaining: 989ms\n",
      "750:\tlearn: 0.3885434\ttotal: 302ms\tremaining: 906ms\n",
      "1000:\tlearn: 0.3550001\ttotal: 401ms\tremaining: 802ms\n",
      "1250:\tlearn: 0.3265120\ttotal: 500ms\tremaining: 699ms\n",
      "1500:\tlearn: 0.3027580\ttotal: 599ms\tremaining: 599ms\n",
      "1750:\tlearn: 0.2828691\ttotal: 699ms\tremaining: 499ms\n",
      "2000:\tlearn: 0.2648067\ttotal: 798ms\tremaining: 398ms\n",
      "2250:\tlearn: 0.2487316\ttotal: 894ms\tremaining: 297ms\n",
      "2500:\tlearn: 0.2338165\ttotal: 995ms\tremaining: 199ms\n",
      "2750:\tlearn: 0.2203859\ttotal: 1.09s\tremaining: 99ms\n",
      "2999:\tlearn: 0.2079273\ttotal: 1.19s\tremaining: 0us\n",
      "0:\tlearn: 0.6899831\ttotal: 542us\tremaining: 1.63s\n",
      "250:\tlearn: 0.4698964\ttotal: 98.2ms\tremaining: 1.07s\n",
      "500:\tlearn: 0.4234232\ttotal: 197ms\tremaining: 984ms\n",
      "750:\tlearn: 0.3885434\ttotal: 300ms\tremaining: 897ms\n",
      "1000:\tlearn: 0.3550001\ttotal: 397ms\tremaining: 792ms\n",
      "1250:\tlearn: 0.3265120\ttotal: 496ms\tremaining: 693ms\n",
      "1500:\tlearn: 0.3027580\ttotal: 593ms\tremaining: 592ms\n",
      "1750:\tlearn: 0.2828691\ttotal: 693ms\tremaining: 494ms\n",
      "2000:\tlearn: 0.2648067\ttotal: 790ms\tremaining: 395ms\n",
      "2250:\tlearn: 0.2487316\ttotal: 887ms\tremaining: 295ms\n",
      "2500:\tlearn: 0.2338165\ttotal: 983ms\tremaining: 196ms\n",
      "2750:\tlearn: 0.2203859\ttotal: 1.08s\tremaining: 98.1ms\n",
      "2999:\tlearn: 0.2079273\ttotal: 1.18s\tremaining: 0us\n",
      "0:\tlearn: 0.6899493\ttotal: 456us\tremaining: 1.37s\n",
      "250:\tlearn: 0.4627546\ttotal: 97.8ms\tremaining: 1.07s\n",
      "500:\tlearn: 0.4132722\ttotal: 201ms\tremaining: 1s\n",
      "750:\tlearn: 0.3771573\ttotal: 299ms\tremaining: 896ms\n",
      "1000:\tlearn: 0.3436374\ttotal: 398ms\tremaining: 794ms\n",
      "1250:\tlearn: 0.3147134\ttotal: 495ms\tremaining: 692ms\n",
      "1500:\tlearn: 0.2909270\ttotal: 594ms\tremaining: 593ms\n",
      "1750:\tlearn: 0.2704269\ttotal: 695ms\tremaining: 496ms\n",
      "2000:\tlearn: 0.2523806\ttotal: 797ms\tremaining: 398ms\n",
      "2250:\tlearn: 0.2352190\ttotal: 896ms\tremaining: 298ms\n",
      "2500:\tlearn: 0.2201979\ttotal: 991ms\tremaining: 198ms\n",
      "2750:\tlearn: 0.2066196\ttotal: 1.09s\tremaining: 98.6ms\n",
      "2999:\tlearn: 0.1941748\ttotal: 1.19s\tremaining: 0us\n",
      "0:\tlearn: 0.6899684\ttotal: 424us\tremaining: 1.27s\n",
      "250:\tlearn: 0.4699231\ttotal: 99.7ms\tremaining: 1.09s\n",
      "500:\tlearn: 0.4239687\ttotal: 201ms\tremaining: 1s\n",
      "750:\tlearn: 0.3890262\ttotal: 300ms\tremaining: 898ms\n",
      "1000:\tlearn: 0.3547733\ttotal: 401ms\tremaining: 801ms\n",
      "1250:\tlearn: 0.3260716\ttotal: 500ms\tremaining: 699ms\n",
      "1500:\tlearn: 0.3033935\ttotal: 597ms\tremaining: 596ms\n",
      "1750:\tlearn: 0.2832790\ttotal: 696ms\tremaining: 496ms\n",
      "2000:\tlearn: 0.2656658\ttotal: 797ms\tremaining: 398ms\n",
      "2250:\tlearn: 0.2492579\ttotal: 899ms\tremaining: 299ms\n",
      "2500:\tlearn: 0.2349963\ttotal: 997ms\tremaining: 199ms\n",
      "2750:\tlearn: 0.2215264\ttotal: 1.09s\tremaining: 99.1ms\n",
      "2999:\tlearn: 0.2092003\ttotal: 1.19s\tremaining: 0us\n",
      "0:\tlearn: 0.6631278\ttotal: 476us\tremaining: 1.43s\n",
      "250:\tlearn: 0.0022519\ttotal: 100ms\tremaining: 1.1s\n",
      "500:\tlearn: 0.0007460\ttotal: 196ms\tremaining: 977ms\n",
      "750:\tlearn: 0.0007336\ttotal: 285ms\tremaining: 854ms\n",
      "1000:\tlearn: 0.0007260\ttotal: 371ms\tremaining: 741ms\n",
      "1250:\tlearn: 0.0007201\ttotal: 455ms\tremaining: 637ms\n",
      "1500:\tlearn: 0.0007194\ttotal: 539ms\tremaining: 538ms\n",
      "1750:\tlearn: 0.0007188\ttotal: 621ms\tremaining: 443ms\n",
      "2000:\tlearn: 0.0007182\ttotal: 708ms\tremaining: 353ms\n",
      "2250:\tlearn: 0.0007167\ttotal: 792ms\tremaining: 264ms\n",
      "2500:\tlearn: 0.0007160\ttotal: 876ms\tremaining: 175ms\n",
      "2750:\tlearn: 0.0007156\ttotal: 960ms\tremaining: 86.9ms\n",
      "2999:\tlearn: 0.0007150\ttotal: 1.04s\tremaining: 0us\n",
      "0:\tlearn: 0.6891885\ttotal: 531us\tremaining: 1.59s\n",
      "250:\tlearn: 0.4452838\ttotal: 105ms\tremaining: 1.15s\n",
      "500:\tlearn: 0.3975755\ttotal: 206ms\tremaining: 1.03s\n",
      "750:\tlearn: 0.3625072\ttotal: 307ms\tremaining: 921ms\n",
      "1000:\tlearn: 0.3321642\ttotal: 404ms\tremaining: 807ms\n",
      "1250:\tlearn: 0.3053185\ttotal: 505ms\tremaining: 706ms\n",
      "1500:\tlearn: 0.2824193\ttotal: 607ms\tremaining: 606ms\n",
      "1750:\tlearn: 0.2624316\ttotal: 709ms\tremaining: 506ms\n",
      "2000:\tlearn: 0.2452098\ttotal: 810ms\tremaining: 405ms\n",
      "2250:\tlearn: 0.2293367\ttotal: 912ms\tremaining: 303ms\n",
      "2500:\tlearn: 0.2144922\ttotal: 1.01s\tremaining: 202ms\n",
      "2750:\tlearn: 0.2013515\ttotal: 1.11s\tremaining: 100ms\n",
      "2999:\tlearn: 0.1890280\ttotal: 1.2s\tremaining: 0us\n",
      "0:\tlearn: 0.6899752\ttotal: 408us\tremaining: 1.23s\n",
      "250:\tlearn: 0.4695027\ttotal: 101ms\tremaining: 1.1s\n",
      "500:\tlearn: 0.4251611\ttotal: 201ms\tremaining: 1s\n",
      "750:\tlearn: 0.3911896\ttotal: 298ms\tremaining: 893ms\n",
      "1000:\tlearn: 0.3573907\ttotal: 395ms\tremaining: 789ms\n",
      "1250:\tlearn: 0.3290682\ttotal: 493ms\tremaining: 689ms\n",
      "1500:\tlearn: 0.3059648\ttotal: 595ms\tremaining: 594ms\n",
      "1750:\tlearn: 0.2850012\ttotal: 697ms\tremaining: 497ms\n",
      "2000:\tlearn: 0.2671691\ttotal: 799ms\tremaining: 399ms\n",
      "2250:\tlearn: 0.2504020\ttotal: 896ms\tremaining: 298ms\n",
      "2500:\tlearn: 0.2357615\ttotal: 997ms\tremaining: 199ms\n",
      "2750:\tlearn: 0.2219635\ttotal: 1.1s\tremaining: 99.4ms\n",
      "2999:\tlearn: 0.2098565\ttotal: 1.2s\tremaining: 0us\n",
      "0:\tlearn: 0.6630231\ttotal: 513us\tremaining: 1.54s\n",
      "250:\tlearn: 0.0023091\ttotal: 105ms\tremaining: 1.15s\n",
      "500:\tlearn: 0.0007617\ttotal: 200ms\tremaining: 996ms\n",
      "750:\tlearn: 0.0007101\ttotal: 281ms\tremaining: 842ms\n",
      "1000:\tlearn: 0.0007094\ttotal: 368ms\tremaining: 734ms\n",
      "1250:\tlearn: 0.0007082\ttotal: 453ms\tremaining: 633ms\n",
      "1500:\tlearn: 0.0007076\ttotal: 536ms\tremaining: 536ms\n",
      "1750:\tlearn: 0.0007072\ttotal: 619ms\tremaining: 441ms\n",
      "2000:\tlearn: 0.0007066\ttotal: 702ms\tremaining: 350ms\n",
      "2250:\tlearn: 0.0007062\ttotal: 784ms\tremaining: 261ms\n",
      "2500:\tlearn: 0.0007058\ttotal: 871ms\tremaining: 174ms\n",
      "2750:\tlearn: 0.0007049\ttotal: 955ms\tremaining: 86.4ms\n",
      "2999:\tlearn: 0.0007039\ttotal: 1.04s\tremaining: 0us\n",
      "0:\tlearn: 0.6899576\ttotal: 493us\tremaining: 1.48s\n",
      "250:\tlearn: 0.4690361\ttotal: 96.3ms\tremaining: 1.05s\n",
      "500:\tlearn: 0.4231668\ttotal: 197ms\tremaining: 980ms\n",
      "750:\tlearn: 0.3881614\ttotal: 297ms\tremaining: 888ms\n",
      "1000:\tlearn: 0.3549225\ttotal: 399ms\tremaining: 796ms\n",
      "1250:\tlearn: 0.3259127\ttotal: 500ms\tremaining: 699ms\n",
      "1500:\tlearn: 0.3025434\ttotal: 599ms\tremaining: 598ms\n",
      "1750:\tlearn: 0.2821656\ttotal: 699ms\tremaining: 499ms\n",
      "2000:\tlearn: 0.2637768\ttotal: 800ms\tremaining: 399ms\n",
      "2250:\tlearn: 0.2475443\ttotal: 899ms\tremaining: 299ms\n",
      "2500:\tlearn: 0.2333037\ttotal: 999ms\tremaining: 199ms\n",
      "2750:\tlearn: 0.2204696\ttotal: 1.1s\tremaining: 99.6ms\n",
      "2999:\tlearn: 0.2080723\ttotal: 1.2s\tremaining: 0us\n",
      "0:\tlearn: 0.6899707\ttotal: 416us\tremaining: 1.25s\n",
      "250:\tlearn: 0.4716940\ttotal: 99.1ms\tremaining: 1.08s\n",
      "500:\tlearn: 0.4262207\ttotal: 200ms\tremaining: 997ms\n",
      "750:\tlearn: 0.3926361\ttotal: 300ms\tremaining: 898ms\n",
      "1000:\tlearn: 0.3591068\ttotal: 400ms\tremaining: 798ms\n",
      "1250:\tlearn: 0.3297120\ttotal: 498ms\tremaining: 696ms\n",
      "1500:\tlearn: 0.3061370\ttotal: 597ms\tremaining: 597ms\n",
      "1750:\tlearn: 0.2858950\ttotal: 703ms\tremaining: 501ms\n",
      "2000:\tlearn: 0.2682870\ttotal: 811ms\tremaining: 405ms\n",
      "2250:\tlearn: 0.2515581\ttotal: 915ms\tremaining: 304ms\n",
      "2500:\tlearn: 0.2367217\ttotal: 1.01s\tremaining: 203ms\n",
      "2750:\tlearn: 0.2228813\ttotal: 1.12s\tremaining: 101ms\n",
      "2999:\tlearn: 0.2105991\ttotal: 1.22s\tremaining: 0us\n",
      "0:\tlearn: 0.6817835\ttotal: 414us\tremaining: 1.24s\n",
      "250:\tlearn: 0.2197868\ttotal: 102ms\tremaining: 1.12s\n",
      "500:\tlearn: 0.1862370\ttotal: 207ms\tremaining: 1.03s\n",
      "750:\tlearn: 0.1649804\ttotal: 311ms\tremaining: 932ms\n",
      "1000:\tlearn: 0.1489537\ttotal: 415ms\tremaining: 828ms\n",
      "1250:\tlearn: 0.1356350\ttotal: 518ms\tremaining: 724ms\n",
      "1500:\tlearn: 0.1241815\ttotal: 621ms\tremaining: 620ms\n",
      "1750:\tlearn: 0.1145523\ttotal: 723ms\tremaining: 516ms\n",
      "2000:\tlearn: 0.1060215\ttotal: 823ms\tremaining: 411ms\n",
      "2250:\tlearn: 0.0986111\ttotal: 916ms\tremaining: 305ms\n",
      "2500:\tlearn: 0.0923188\ttotal: 1.02s\tremaining: 204ms\n",
      "2750:\tlearn: 0.0867235\ttotal: 1.13s\tremaining: 102ms\n",
      "2999:\tlearn: 0.0816578\ttotal: 1.23s\tremaining: 0us\n",
      "0:\tlearn: 0.6899239\ttotal: 1.3ms\tremaining: 3.9s\n",
      "250:\tlearn: 0.4578791\ttotal: 102ms\tremaining: 1.12s\n",
      "500:\tlearn: 0.4071582\ttotal: 202ms\tremaining: 1.01s\n",
      "750:\tlearn: 0.3704222\ttotal: 304ms\tremaining: 909ms\n",
      "1000:\tlearn: 0.3380884\ttotal: 404ms\tremaining: 806ms\n",
      "1250:\tlearn: 0.3089054\ttotal: 506ms\tremaining: 707ms\n",
      "1500:\tlearn: 0.2855615\ttotal: 609ms\tremaining: 608ms\n",
      "1750:\tlearn: 0.2649580\ttotal: 710ms\tremaining: 507ms\n",
      "2000:\tlearn: 0.2473312\ttotal: 812ms\tremaining: 406ms\n",
      "2250:\tlearn: 0.2313429\ttotal: 914ms\tremaining: 304ms\n",
      "2500:\tlearn: 0.2177599\ttotal: 1.01s\tremaining: 203ms\n",
      "2750:\tlearn: 0.2044491\ttotal: 1.12s\tremaining: 101ms\n",
      "2999:\tlearn: 0.1926599\ttotal: 1.23s\tremaining: 0us\n",
      "0:\tlearn: 0.6899654\ttotal: 473us\tremaining: 1.42s\n",
      "250:\tlearn: 0.4704957\ttotal: 96.8ms\tremaining: 1.06s\n",
      "500:\tlearn: 0.4241409\ttotal: 195ms\tremaining: 975ms\n",
      "750:\tlearn: 0.3894388\ttotal: 294ms\tremaining: 880ms\n",
      "1000:\tlearn: 0.3558857\ttotal: 392ms\tremaining: 782ms\n",
      "1250:\tlearn: 0.3278572\ttotal: 489ms\tremaining: 684ms\n",
      "1500:\tlearn: 0.3055003\ttotal: 589ms\tremaining: 588ms\n",
      "1750:\tlearn: 0.2854971\ttotal: 689ms\tremaining: 492ms\n",
      "2000:\tlearn: 0.2676824\ttotal: 788ms\tremaining: 394ms\n",
      "2250:\tlearn: 0.2509773\ttotal: 888ms\tremaining: 296ms\n",
      "2500:\tlearn: 0.2358834\ttotal: 989ms\tremaining: 197ms\n",
      "2750:\tlearn: 0.2228919\ttotal: 1.09s\tremaining: 98.5ms\n",
      "2999:\tlearn: 0.2105530\ttotal: 1.19s\tremaining: 0us\n",
      "0:\tlearn: 0.6679032\ttotal: 490us\tremaining: 1.47s\n",
      "250:\tlearn: 0.0462158\ttotal: 101ms\tremaining: 1.1s\n",
      "500:\tlearn: 0.0403274\ttotal: 202ms\tremaining: 1.01s\n",
      "750:\tlearn: 0.0351920\ttotal: 302ms\tremaining: 904ms\n",
      "1000:\tlearn: 0.0325470\ttotal: 402ms\tremaining: 803ms\n",
      "1250:\tlearn: 0.0288604\ttotal: 501ms\tremaining: 700ms\n",
      "1500:\tlearn: 0.0254083\ttotal: 601ms\tremaining: 600ms\n",
      "1750:\tlearn: 0.0228433\ttotal: 702ms\tremaining: 501ms\n",
      "2000:\tlearn: 0.0208804\ttotal: 804ms\tremaining: 401ms\n",
      "2250:\tlearn: 0.0193365\ttotal: 902ms\tremaining: 300ms\n",
      "2500:\tlearn: 0.0181600\ttotal: 1s\tremaining: 200ms\n",
      "2750:\tlearn: 0.0168865\ttotal: 1.11s\tremaining: 100ms\n",
      "2999:\tlearn: 0.0158180\ttotal: 1.21s\tremaining: 0us\n",
      "0:\tlearn: 0.6888180\ttotal: 434us\tremaining: 1.3s\n",
      "250:\tlearn: 0.4381679\ttotal: 102ms\tremaining: 1.12s\n",
      "500:\tlearn: 0.3912580\ttotal: 205ms\tremaining: 1.02s\n",
      "750:\tlearn: 0.3561775\ttotal: 308ms\tremaining: 922ms\n",
      "1000:\tlearn: 0.3265617\ttotal: 410ms\tremaining: 819ms\n",
      "1250:\tlearn: 0.2995022\ttotal: 512ms\tremaining: 715ms\n",
      "1500:\tlearn: 0.2772618\ttotal: 611ms\tremaining: 611ms\n",
      "1750:\tlearn: 0.2586459\ttotal: 714ms\tremaining: 510ms\n",
      "2000:\tlearn: 0.2414772\ttotal: 813ms\tremaining: 406ms\n",
      "2250:\tlearn: 0.2262154\ttotal: 912ms\tremaining: 303ms\n",
      "2500:\tlearn: 0.2133274\ttotal: 1.01s\tremaining: 202ms\n",
      "2750:\tlearn: 0.2000719\ttotal: 1.12s\tremaining: 101ms\n",
      "2999:\tlearn: 0.1883747\ttotal: 1.22s\tremaining: 0us\n",
      "0:\tlearn: 0.6899621\ttotal: 480us\tremaining: 1.44s\n",
      "250:\tlearn: 0.4698719\ttotal: 100ms\tremaining: 1.1s\n",
      "500:\tlearn: 0.4250401\ttotal: 200ms\tremaining: 999ms\n",
      "750:\tlearn: 0.3903237\ttotal: 302ms\tremaining: 904ms\n",
      "1000:\tlearn: 0.3578801\ttotal: 401ms\tremaining: 801ms\n",
      "1250:\tlearn: 0.3292680\ttotal: 500ms\tremaining: 699ms\n",
      "1500:\tlearn: 0.3052913\ttotal: 601ms\tremaining: 600ms\n",
      "1750:\tlearn: 0.2850451\ttotal: 703ms\tremaining: 501ms\n",
      "2000:\tlearn: 0.2666760\ttotal: 802ms\tremaining: 400ms\n",
      "2250:\tlearn: 0.2507526\ttotal: 901ms\tremaining: 300ms\n",
      "2500:\tlearn: 0.2365998\ttotal: 1s\tremaining: 200ms\n",
      "2750:\tlearn: 0.2232664\ttotal: 1.1s\tremaining: 99.6ms\n",
      "2999:\tlearn: 0.2111436\ttotal: 1.2s\tremaining: 0us\n",
      "0:\tlearn: 0.6765815\ttotal: 447us\tremaining: 1.34s\n",
      "250:\tlearn: 0.1906477\ttotal: 105ms\tremaining: 1.15s\n",
      "500:\tlearn: 0.1612006\ttotal: 206ms\tremaining: 1.02s\n",
      "750:\tlearn: 0.1422800\ttotal: 312ms\tremaining: 934ms\n",
      "1000:\tlearn: 0.1292309\ttotal: 417ms\tremaining: 833ms\n",
      "1250:\tlearn: 0.1185397\ttotal: 522ms\tremaining: 730ms\n",
      "1500:\tlearn: 0.1092349\ttotal: 625ms\tremaining: 624ms\n",
      "1750:\tlearn: 0.1013680\ttotal: 724ms\tremaining: 516ms\n",
      "2000:\tlearn: 0.0943111\ttotal: 821ms\tremaining: 410ms\n",
      "2250:\tlearn: 0.0884304\ttotal: 926ms\tremaining: 308ms\n",
      "2500:\tlearn: 0.0832566\ttotal: 1.03s\tremaining: 205ms\n",
      "2750:\tlearn: 0.0787493\ttotal: 1.13s\tremaining: 102ms\n",
      "2999:\tlearn: 0.0743991\ttotal: 1.23s\tremaining: 0us\n",
      "0:\tlearn: 0.6861085\ttotal: 533us\tremaining: 1.6s\n",
      "250:\tlearn: 0.4172489\ttotal: 102ms\tremaining: 1.12s\n",
      "500:\tlearn: 0.3675571\ttotal: 205ms\tremaining: 1.02s\n",
      "750:\tlearn: 0.3332923\ttotal: 309ms\tremaining: 925ms\n",
      "1000:\tlearn: 0.3027016\ttotal: 411ms\tremaining: 821ms\n",
      "1250:\tlearn: 0.2761531\ttotal: 510ms\tremaining: 713ms\n",
      "1500:\tlearn: 0.2546336\ttotal: 611ms\tremaining: 610ms\n",
      "1750:\tlearn: 0.2353550\ttotal: 712ms\tremaining: 508ms\n",
      "2000:\tlearn: 0.2187754\ttotal: 816ms\tremaining: 407ms\n",
      "2250:\tlearn: 0.2040980\ttotal: 918ms\tremaining: 306ms\n",
      "2500:\tlearn: 0.1909548\ttotal: 1.02s\tremaining: 204ms\n",
      "2750:\tlearn: 0.1794093\ttotal: 1.13s\tremaining: 102ms\n",
      "2999:\tlearn: 0.1680340\ttotal: 1.23s\tremaining: 0us\n",
      "0:\tlearn: 0.6899513\ttotal: 469us\tremaining: 1.41s\n",
      "250:\tlearn: 0.4701203\ttotal: 97.7ms\tremaining: 1.07s\n",
      "500:\tlearn: 0.4224262\ttotal: 196ms\tremaining: 979ms\n",
      "750:\tlearn: 0.3863557\ttotal: 301ms\tremaining: 900ms\n",
      "1000:\tlearn: 0.3527760\ttotal: 400ms\tremaining: 799ms\n",
      "1250:\tlearn: 0.3243351\ttotal: 499ms\tremaining: 698ms\n",
      "1500:\tlearn: 0.3014890\ttotal: 605ms\tremaining: 605ms\n",
      "1750:\tlearn: 0.2813264\ttotal: 706ms\tremaining: 503ms\n",
      "2000:\tlearn: 0.2631048\ttotal: 804ms\tremaining: 401ms\n",
      "2250:\tlearn: 0.2474147\ttotal: 902ms\tremaining: 300ms\n",
      "2500:\tlearn: 0.2332412\ttotal: 1s\tremaining: 200ms\n",
      "2750:\tlearn: 0.2199815\ttotal: 1.11s\tremaining: 100ms\n",
      "2999:\tlearn: 0.2078508\ttotal: 1.21s\tremaining: 0us\n",
      "0:\tlearn: 0.6841641\ttotal: 1.2ms\tremaining: 3.61s\n",
      "250:\tlearn: 0.3051178\ttotal: 104ms\tremaining: 1.14s\n",
      "500:\tlearn: 0.2608902\ttotal: 206ms\tremaining: 1.03s\n",
      "750:\tlearn: 0.2322993\ttotal: 306ms\tremaining: 916ms\n",
      "1000:\tlearn: 0.2093144\ttotal: 409ms\tremaining: 816ms\n",
      "1250:\tlearn: 0.1912975\ttotal: 509ms\tremaining: 712ms\n",
      "1500:\tlearn: 0.1754656\ttotal: 609ms\tremaining: 609ms\n",
      "1750:\tlearn: 0.1608409\ttotal: 710ms\tremaining: 506ms\n",
      "2000:\tlearn: 0.1490564\ttotal: 812ms\tremaining: 405ms\n",
      "2250:\tlearn: 0.1375229\ttotal: 911ms\tremaining: 303ms\n",
      "2500:\tlearn: 0.1275874\ttotal: 1.01s\tremaining: 202ms\n",
      "2750:\tlearn: 0.1189596\ttotal: 1.11s\tremaining: 101ms\n",
      "2999:\tlearn: 0.1108924\ttotal: 1.21s\tremaining: 0us\n",
      "0:\tlearn: 0.6881734\ttotal: 442us\tremaining: 1.32s\n",
      "250:\tlearn: 0.4466705\ttotal: 109ms\tremaining: 1.2s\n",
      "500:\tlearn: 0.3969217\ttotal: 216ms\tremaining: 1.08s\n",
      "750:\tlearn: 0.3594144\ttotal: 311ms\tremaining: 933ms\n",
      "1000:\tlearn: 0.3284931\ttotal: 412ms\tremaining: 823ms\n",
      "1250:\tlearn: 0.2999508\ttotal: 509ms\tremaining: 712ms\n",
      "1500:\tlearn: 0.2767450\ttotal: 617ms\tremaining: 616ms\n",
      "1750:\tlearn: 0.2568492\ttotal: 731ms\tremaining: 521ms\n",
      "2000:\tlearn: 0.2388416\ttotal: 839ms\tremaining: 419ms\n",
      "2250:\tlearn: 0.2234360\ttotal: 949ms\tremaining: 316ms\n",
      "2500:\tlearn: 0.2089611\ttotal: 1.06s\tremaining: 211ms\n",
      "2750:\tlearn: 0.1962603\ttotal: 1.16s\tremaining: 105ms\n",
      "2999:\tlearn: 0.1845619\ttotal: 1.26s\tremaining: 0us\n",
      "0:\tlearn: 0.6899499\ttotal: 421us\tremaining: 1.26s\n",
      "250:\tlearn: 0.4653690\ttotal: 100ms\tremaining: 1.1s\n",
      "500:\tlearn: 0.4169978\ttotal: 203ms\tremaining: 1.01s\n",
      "750:\tlearn: 0.3808061\ttotal: 305ms\tremaining: 914ms\n",
      "1000:\tlearn: 0.3480221\ttotal: 408ms\tremaining: 815ms\n",
      "1250:\tlearn: 0.3187698\ttotal: 509ms\tremaining: 711ms\n",
      "1500:\tlearn: 0.2957325\ttotal: 608ms\tremaining: 608ms\n",
      "1750:\tlearn: 0.2753950\ttotal: 710ms\tremaining: 506ms\n",
      "2000:\tlearn: 0.2572127\ttotal: 814ms\tremaining: 407ms\n",
      "2250:\tlearn: 0.2412586\ttotal: 917ms\tremaining: 305ms\n",
      "2500:\tlearn: 0.2266792\ttotal: 1.02s\tremaining: 204ms\n",
      "2750:\tlearn: 0.2136545\ttotal: 1.13s\tremaining: 102ms\n",
      "2999:\tlearn: 0.2021208\ttotal: 1.23s\tremaining: 0us\n",
      "0:\tlearn: 0.6867395\ttotal: 434us\tremaining: 1.3s\n",
      "250:\tlearn: 0.3835969\ttotal: 99.5ms\tremaining: 1.09s\n",
      "500:\tlearn: 0.3398105\ttotal: 200ms\tremaining: 998ms\n",
      "750:\tlearn: 0.3086385\ttotal: 302ms\tremaining: 906ms\n",
      "1000:\tlearn: 0.2795312\ttotal: 403ms\tremaining: 806ms\n",
      "1250:\tlearn: 0.2592306\ttotal: 507ms\tremaining: 709ms\n",
      "1500:\tlearn: 0.2446741\ttotal: 609ms\tremaining: 608ms\n",
      "1750:\tlearn: 0.2320427\ttotal: 708ms\tremaining: 505ms\n",
      "2000:\tlearn: 0.2210562\ttotal: 808ms\tremaining: 404ms\n",
      "2250:\tlearn: 0.2101820\ttotal: 906ms\tremaining: 302ms\n",
      "2500:\tlearn: 0.1990842\ttotal: 1s\tremaining: 201ms\n",
      "2750:\tlearn: 0.1881452\ttotal: 1.1s\tremaining: 99.9ms\n",
      "2999:\tlearn: 0.1780453\ttotal: 1.21s\tremaining: 0us\n",
      "0:\tlearn: 0.6737394\ttotal: 527us\tremaining: 1.58s\n",
      "250:\tlearn: 0.1478478\ttotal: 104ms\tremaining: 1.14s\n",
      "500:\tlearn: 0.1272166\ttotal: 205ms\tremaining: 1.02s\n",
      "750:\tlearn: 0.1136732\ttotal: 305ms\tremaining: 914ms\n",
      "1000:\tlearn: 0.1035830\ttotal: 411ms\tremaining: 820ms\n",
      "1250:\tlearn: 0.0953584\ttotal: 515ms\tremaining: 719ms\n",
      "1500:\tlearn: 0.0887757\ttotal: 617ms\tremaining: 616ms\n",
      "1750:\tlearn: 0.0830164\ttotal: 718ms\tremaining: 512ms\n",
      "2000:\tlearn: 0.0776455\ttotal: 821ms\tremaining: 410ms\n",
      "2250:\tlearn: 0.0726598\ttotal: 921ms\tremaining: 306ms\n",
      "2500:\tlearn: 0.0682831\ttotal: 1.02s\tremaining: 204ms\n",
      "2750:\tlearn: 0.0641845\ttotal: 1.12s\tremaining: 101ms\n",
      "2999:\tlearn: 0.0603447\ttotal: 1.22s\tremaining: 0us\n",
      "0:\tlearn: 0.6631846\ttotal: 416us\tremaining: 1.25s\n",
      "250:\tlearn: 0.0023784\ttotal: 104ms\tremaining: 1.14s\n",
      "500:\tlearn: 0.0007761\ttotal: 200ms\tremaining: 996ms\n",
      "750:\tlearn: 0.0006992\ttotal: 285ms\tremaining: 854ms\n",
      "1000:\tlearn: 0.0006986\ttotal: 368ms\tremaining: 734ms\n",
      "1250:\tlearn: 0.0006985\ttotal: 448ms\tremaining: 627ms\n",
      "1500:\tlearn: 0.0006985\ttotal: 527ms\tremaining: 526ms\n",
      "1750:\tlearn: 0.0006985\ttotal: 607ms\tremaining: 433ms\n",
      "2000:\tlearn: 0.0006985\ttotal: 686ms\tremaining: 342ms\n",
      "2250:\tlearn: 0.0006985\ttotal: 765ms\tremaining: 255ms\n",
      "2500:\tlearn: 0.0006985\ttotal: 849ms\tremaining: 169ms\n",
      "2750:\tlearn: 0.0006985\ttotal: 929ms\tremaining: 84.1ms\n",
      "2999:\tlearn: 0.0006985\ttotal: 1.01s\tremaining: 0us\n",
      "0:\tlearn: 0.6632391\ttotal: 418us\tremaining: 1.25s\n",
      "250:\tlearn: 0.0023734\ttotal: 102ms\tremaining: 1.11s\n",
      "500:\tlearn: 0.0007804\ttotal: 197ms\tremaining: 984ms\n",
      "750:\tlearn: 0.0006979\ttotal: 284ms\tremaining: 850ms\n",
      "1000:\tlearn: 0.0006931\ttotal: 375ms\tremaining: 749ms\n",
      "1250:\tlearn: 0.0006928\ttotal: 463ms\tremaining: 648ms\n",
      "1500:\tlearn: 0.0006925\ttotal: 548ms\tremaining: 547ms\n",
      "1750:\tlearn: 0.0006922\ttotal: 628ms\tremaining: 448ms\n",
      "2000:\tlearn: 0.0006920\ttotal: 711ms\tremaining: 355ms\n",
      "2250:\tlearn: 0.0006907\ttotal: 794ms\tremaining: 264ms\n",
      "2500:\tlearn: 0.0006898\ttotal: 880ms\tremaining: 175ms\n",
      "2750:\tlearn: 0.0006890\ttotal: 962ms\tremaining: 87.1ms\n",
      "2999:\tlearn: 0.0006883\ttotal: 1.05s\tremaining: 0us\n"
     ]
    },
    {
     "data": {
      "text/plain": "ExponentiatedGradient(constraints=<fairlearn.reductions._moments.utility_parity.DemographicParity object at 0x156728d90>,\n                      estimator=<catboost.core.CatBoostClassifier object at 0x156749f30>,\n                      max_iter=10, nu=0.0038551689859054623)",
      "text/html": "<style>#sk-container-id-1 {\n  /* Definition of color scheme common for light and dark mode */\n  --sklearn-color-text: black;\n  --sklearn-color-line: gray;\n  /* Definition of color scheme for unfitted estimators */\n  --sklearn-color-unfitted-level-0: #fff5e6;\n  --sklearn-color-unfitted-level-1: #f6e4d2;\n  --sklearn-color-unfitted-level-2: #ffe0b3;\n  --sklearn-color-unfitted-level-3: chocolate;\n  /* Definition of color scheme for fitted estimators */\n  --sklearn-color-fitted-level-0: #f0f8ff;\n  --sklearn-color-fitted-level-1: #d4ebff;\n  --sklearn-color-fitted-level-2: #b3dbfd;\n  --sklearn-color-fitted-level-3: cornflowerblue;\n\n  /* Specific color for light theme */\n  --sklearn-color-text-on-default-background: var(--sg-text-color, var(--theme-code-foreground, var(--jp-content-font-color1, black)));\n  --sklearn-color-background: var(--sg-background-color, var(--theme-background, var(--jp-layout-color0, white)));\n  --sklearn-color-border-box: var(--sg-text-color, var(--theme-code-foreground, var(--jp-content-font-color1, black)));\n  --sklearn-color-icon: #696969;\n\n  @media (prefers-color-scheme: dark) {\n    /* Redefinition of color scheme for dark theme */\n    --sklearn-color-text-on-default-background: var(--sg-text-color, var(--theme-code-foreground, var(--jp-content-font-color1, white)));\n    --sklearn-color-background: var(--sg-background-color, var(--theme-background, var(--jp-layout-color0, #111)));\n    --sklearn-color-border-box: var(--sg-text-color, var(--theme-code-foreground, var(--jp-content-font-color1, white)));\n    --sklearn-color-icon: #878787;\n  }\n}\n\n#sk-container-id-1 {\n  color: var(--sklearn-color-text);\n}\n\n#sk-container-id-1 pre {\n  padding: 0;\n}\n\n#sk-container-id-1 input.sk-hidden--visually {\n  border: 0;\n  clip: rect(1px 1px 1px 1px);\n  clip: rect(1px, 1px, 1px, 1px);\n  height: 1px;\n  margin: -1px;\n  overflow: hidden;\n  padding: 0;\n  position: absolute;\n  width: 1px;\n}\n\n#sk-container-id-1 div.sk-dashed-wrapped {\n  border: 1px dashed var(--sklearn-color-line);\n  margin: 0 0.4em 0.5em 0.4em;\n  box-sizing: border-box;\n  padding-bottom: 0.4em;\n  background-color: var(--sklearn-color-background);\n}\n\n#sk-container-id-1 div.sk-container {\n  /* jupyter's `normalize.less` sets `[hidden] { display: none; }`\n     but bootstrap.min.css set `[hidden] { display: none !important; }`\n     so we also need the `!important` here to be able to override the\n     default hidden behavior on the sphinx rendered scikit-learn.org.\n     See: https://github.com/scikit-learn/scikit-learn/issues/21755 */\n  display: inline-block !important;\n  position: relative;\n}\n\n#sk-container-id-1 div.sk-text-repr-fallback {\n  display: none;\n}\n\ndiv.sk-parallel-item,\ndiv.sk-serial,\ndiv.sk-item {\n  /* draw centered vertical line to link estimators */\n  background-image: linear-gradient(var(--sklearn-color-text-on-default-background), var(--sklearn-color-text-on-default-background));\n  background-size: 2px 100%;\n  background-repeat: no-repeat;\n  background-position: center center;\n}\n\n/* Parallel-specific style estimator block */\n\n#sk-container-id-1 div.sk-parallel-item::after {\n  content: \"\";\n  width: 100%;\n  border-bottom: 2px solid var(--sklearn-color-text-on-default-background);\n  flex-grow: 1;\n}\n\n#sk-container-id-1 div.sk-parallel {\n  display: flex;\n  align-items: stretch;\n  justify-content: center;\n  background-color: var(--sklearn-color-background);\n  position: relative;\n}\n\n#sk-container-id-1 div.sk-parallel-item {\n  display: flex;\n  flex-direction: column;\n}\n\n#sk-container-id-1 div.sk-parallel-item:first-child::after {\n  align-self: flex-end;\n  width: 50%;\n}\n\n#sk-container-id-1 div.sk-parallel-item:last-child::after {\n  align-self: flex-start;\n  width: 50%;\n}\n\n#sk-container-id-1 div.sk-parallel-item:only-child::after {\n  width: 0;\n}\n\n/* Serial-specific style estimator block */\n\n#sk-container-id-1 div.sk-serial {\n  display: flex;\n  flex-direction: column;\n  align-items: center;\n  background-color: var(--sklearn-color-background);\n  padding-right: 1em;\n  padding-left: 1em;\n}\n\n\n/* Toggleable style: style used for estimator/Pipeline/ColumnTransformer box that is\nclickable and can be expanded/collapsed.\n- Pipeline and ColumnTransformer use this feature and define the default style\n- Estimators will overwrite some part of the style using the `sk-estimator` class\n*/\n\n/* Pipeline and ColumnTransformer style (default) */\n\n#sk-container-id-1 div.sk-toggleable {\n  /* Default theme specific background. It is overwritten whether we have a\n  specific estimator or a Pipeline/ColumnTransformer */\n  background-color: var(--sklearn-color-background);\n}\n\n/* Toggleable label */\n#sk-container-id-1 label.sk-toggleable__label {\n  cursor: pointer;\n  display: block;\n  width: 100%;\n  margin-bottom: 0;\n  padding: 0.5em;\n  box-sizing: border-box;\n  text-align: center;\n}\n\n#sk-container-id-1 label.sk-toggleable__label-arrow:before {\n  /* Arrow on the left of the label */\n  content: \"▸\";\n  float: left;\n  margin-right: 0.25em;\n  color: var(--sklearn-color-icon);\n}\n\n#sk-container-id-1 label.sk-toggleable__label-arrow:hover:before {\n  color: var(--sklearn-color-text);\n}\n\n/* Toggleable content - dropdown */\n\n#sk-container-id-1 div.sk-toggleable__content {\n  max-height: 0;\n  max-width: 0;\n  overflow: hidden;\n  text-align: left;\n  /* unfitted */\n  background-color: var(--sklearn-color-unfitted-level-0);\n}\n\n#sk-container-id-1 div.sk-toggleable__content.fitted {\n  /* fitted */\n  background-color: var(--sklearn-color-fitted-level-0);\n}\n\n#sk-container-id-1 div.sk-toggleable__content pre {\n  margin: 0.2em;\n  border-radius: 0.25em;\n  color: var(--sklearn-color-text);\n  /* unfitted */\n  background-color: var(--sklearn-color-unfitted-level-0);\n}\n\n#sk-container-id-1 div.sk-toggleable__content.fitted pre {\n  /* unfitted */\n  background-color: var(--sklearn-color-fitted-level-0);\n}\n\n#sk-container-id-1 input.sk-toggleable__control:checked~div.sk-toggleable__content {\n  /* Expand drop-down */\n  max-height: 200px;\n  max-width: 100%;\n  overflow: auto;\n}\n\n#sk-container-id-1 input.sk-toggleable__control:checked~label.sk-toggleable__label-arrow:before {\n  content: \"▾\";\n}\n\n/* Pipeline/ColumnTransformer-specific style */\n\n#sk-container-id-1 div.sk-label input.sk-toggleable__control:checked~label.sk-toggleable__label {\n  color: var(--sklearn-color-text);\n  background-color: var(--sklearn-color-unfitted-level-2);\n}\n\n#sk-container-id-1 div.sk-label.fitted input.sk-toggleable__control:checked~label.sk-toggleable__label {\n  background-color: var(--sklearn-color-fitted-level-2);\n}\n\n/* Estimator-specific style */\n\n/* Colorize estimator box */\n#sk-container-id-1 div.sk-estimator input.sk-toggleable__control:checked~label.sk-toggleable__label {\n  /* unfitted */\n  background-color: var(--sklearn-color-unfitted-level-2);\n}\n\n#sk-container-id-1 div.sk-estimator.fitted input.sk-toggleable__control:checked~label.sk-toggleable__label {\n  /* fitted */\n  background-color: var(--sklearn-color-fitted-level-2);\n}\n\n#sk-container-id-1 div.sk-label label.sk-toggleable__label,\n#sk-container-id-1 div.sk-label label {\n  /* The background is the default theme color */\n  color: var(--sklearn-color-text-on-default-background);\n}\n\n/* On hover, darken the color of the background */\n#sk-container-id-1 div.sk-label:hover label.sk-toggleable__label {\n  color: var(--sklearn-color-text);\n  background-color: var(--sklearn-color-unfitted-level-2);\n}\n\n/* Label box, darken color on hover, fitted */\n#sk-container-id-1 div.sk-label.fitted:hover label.sk-toggleable__label.fitted {\n  color: var(--sklearn-color-text);\n  background-color: var(--sklearn-color-fitted-level-2);\n}\n\n/* Estimator label */\n\n#sk-container-id-1 div.sk-label label {\n  font-family: monospace;\n  font-weight: bold;\n  display: inline-block;\n  line-height: 1.2em;\n}\n\n#sk-container-id-1 div.sk-label-container {\n  text-align: center;\n}\n\n/* Estimator-specific */\n#sk-container-id-1 div.sk-estimator {\n  font-family: monospace;\n  border: 1px dotted var(--sklearn-color-border-box);\n  border-radius: 0.25em;\n  box-sizing: border-box;\n  margin-bottom: 0.5em;\n  /* unfitted */\n  background-color: var(--sklearn-color-unfitted-level-0);\n}\n\n#sk-container-id-1 div.sk-estimator.fitted {\n  /* fitted */\n  background-color: var(--sklearn-color-fitted-level-0);\n}\n\n/* on hover */\n#sk-container-id-1 div.sk-estimator:hover {\n  /* unfitted */\n  background-color: var(--sklearn-color-unfitted-level-2);\n}\n\n#sk-container-id-1 div.sk-estimator.fitted:hover {\n  /* fitted */\n  background-color: var(--sklearn-color-fitted-level-2);\n}\n\n/* Specification for estimator info (e.g. \"i\" and \"?\") */\n\n/* Common style for \"i\" and \"?\" */\n\n.sk-estimator-doc-link,\na:link.sk-estimator-doc-link,\na:visited.sk-estimator-doc-link {\n  float: right;\n  font-size: smaller;\n  line-height: 1em;\n  font-family: monospace;\n  background-color: var(--sklearn-color-background);\n  border-radius: 1em;\n  height: 1em;\n  width: 1em;\n  text-decoration: none !important;\n  margin-left: 1ex;\n  /* unfitted */\n  border: var(--sklearn-color-unfitted-level-1) 1pt solid;\n  color: var(--sklearn-color-unfitted-level-1);\n}\n\n.sk-estimator-doc-link.fitted,\na:link.sk-estimator-doc-link.fitted,\na:visited.sk-estimator-doc-link.fitted {\n  /* fitted */\n  border: var(--sklearn-color-fitted-level-1) 1pt solid;\n  color: var(--sklearn-color-fitted-level-1);\n}\n\n/* On hover */\ndiv.sk-estimator:hover .sk-estimator-doc-link:hover,\n.sk-estimator-doc-link:hover,\ndiv.sk-label-container:hover .sk-estimator-doc-link:hover,\n.sk-estimator-doc-link:hover {\n  /* unfitted */\n  background-color: var(--sklearn-color-unfitted-level-3);\n  color: var(--sklearn-color-background);\n  text-decoration: none;\n}\n\ndiv.sk-estimator.fitted:hover .sk-estimator-doc-link.fitted:hover,\n.sk-estimator-doc-link.fitted:hover,\ndiv.sk-label-container:hover .sk-estimator-doc-link.fitted:hover,\n.sk-estimator-doc-link.fitted:hover {\n  /* fitted */\n  background-color: var(--sklearn-color-fitted-level-3);\n  color: var(--sklearn-color-background);\n  text-decoration: none;\n}\n\n/* Span, style for the box shown on hovering the info icon */\n.sk-estimator-doc-link span {\n  display: none;\n  z-index: 9999;\n  position: relative;\n  font-weight: normal;\n  right: .2ex;\n  padding: .5ex;\n  margin: .5ex;\n  width: min-content;\n  min-width: 20ex;\n  max-width: 50ex;\n  color: var(--sklearn-color-text);\n  box-shadow: 2pt 2pt 4pt #999;\n  /* unfitted */\n  background: var(--sklearn-color-unfitted-level-0);\n  border: .5pt solid var(--sklearn-color-unfitted-level-3);\n}\n\n.sk-estimator-doc-link.fitted span {\n  /* fitted */\n  background: var(--sklearn-color-fitted-level-0);\n  border: var(--sklearn-color-fitted-level-3);\n}\n\n.sk-estimator-doc-link:hover span {\n  display: block;\n}\n\n/* \"?\"-specific style due to the `<a>` HTML tag */\n\n#sk-container-id-1 a.estimator_doc_link {\n  float: right;\n  font-size: 1rem;\n  line-height: 1em;\n  font-family: monospace;\n  background-color: var(--sklearn-color-background);\n  border-radius: 1rem;\n  height: 1rem;\n  width: 1rem;\n  text-decoration: none;\n  /* unfitted */\n  color: var(--sklearn-color-unfitted-level-1);\n  border: var(--sklearn-color-unfitted-level-1) 1pt solid;\n}\n\n#sk-container-id-1 a.estimator_doc_link.fitted {\n  /* fitted */\n  border: var(--sklearn-color-fitted-level-1) 1pt solid;\n  color: var(--sklearn-color-fitted-level-1);\n}\n\n/* On hover */\n#sk-container-id-1 a.estimator_doc_link:hover {\n  /* unfitted */\n  background-color: var(--sklearn-color-unfitted-level-3);\n  color: var(--sklearn-color-background);\n  text-decoration: none;\n}\n\n#sk-container-id-1 a.estimator_doc_link.fitted:hover {\n  /* fitted */\n  background-color: var(--sklearn-color-fitted-level-3);\n}\n</style><div id=\"sk-container-id-1\" class=\"sk-top-container\"><div class=\"sk-text-repr-fallback\"><pre>ExponentiatedGradient(constraints=&lt;fairlearn.reductions._moments.utility_parity.DemographicParity object at 0x156728d90&gt;,\n                      estimator=&lt;catboost.core.CatBoostClassifier object at 0x156749f30&gt;,\n                      max_iter=10, nu=0.0038551689859054623)</pre><b>In a Jupyter environment, please rerun this cell to show the HTML representation or trust the notebook. <br />On GitHub, the HTML representation is unable to render, please try loading this page with nbviewer.org.</b></div><div class=\"sk-container\" hidden><div class=\"sk-item sk-dashed-wrapped\"><div class=\"sk-label-container\"><div class=\"sk-label fitted sk-toggleable\"><input class=\"sk-toggleable__control sk-hidden--visually\" id=\"sk-estimator-id-1\" type=\"checkbox\" ><label for=\"sk-estimator-id-1\" class=\"sk-toggleable__label fitted sk-toggleable__label-arrow fitted\">&nbsp;ExponentiatedGradient<span class=\"sk-estimator-doc-link fitted\">i<span>Fitted</span></span></label><div class=\"sk-toggleable__content fitted\"><pre>ExponentiatedGradient(constraints=&lt;fairlearn.reductions._moments.utility_parity.DemographicParity object at 0x156728d90&gt;,\n                      estimator=&lt;catboost.core.CatBoostClassifier object at 0x156749f30&gt;,\n                      max_iter=10, nu=0.0038551689859054623)</pre></div> </div></div><div class=\"sk-parallel\"><div class=\"sk-parallel-item\"><div class=\"sk-item\"><div class=\"sk-label-container\"><div class=\"sk-label fitted sk-toggleable\"><input class=\"sk-toggleable__control sk-hidden--visually\" id=\"sk-estimator-id-2\" type=\"checkbox\" ><label for=\"sk-estimator-id-2\" class=\"sk-toggleable__label fitted sk-toggleable__label-arrow fitted\">estimator: CatBoostClassifier</label><div class=\"sk-toggleable__content fitted\"><pre>&lt;catboost.core.CatBoostClassifier object at 0x156749f30&gt;</pre></div> </div></div><div class=\"sk-serial\"><div class=\"sk-item\"><div class=\"sk-estimator fitted sk-toggleable\"><input class=\"sk-toggleable__control sk-hidden--visually\" id=\"sk-estimator-id-3\" type=\"checkbox\" ><label for=\"sk-estimator-id-3\" class=\"sk-toggleable__label fitted sk-toggleable__label-arrow fitted\">CatBoostClassifier</label><div class=\"sk-toggleable__content fitted\"><pre>&lt;catboost.core.CatBoostClassifier object at 0x156749f30&gt;</pre></div> </div></div></div></div></div></div></div></div></div>"
     },
     "execution_count": 22,
     "metadata": {},
     "output_type": "execute_result"
    }
   ],
   "source": [
    "reduction = ExponentiatedGradient(estimator=default_model.copy(), constraints=DemographicParity(difference_bound=0.01), max_iter=10)\n",
    "reduction.fit(X_train, y_train, sensitive_features=z_train)"
   ],
   "metadata": {
    "collapsed": false
   },
   "id": "f9f7797de38f1d3",
   "execution_count": 22
  },
  {
   "cell_type": "code",
   "outputs": [],
   "source": [
    "y_pred_reduced = reduction.predict(X_test)"
   ],
   "metadata": {
    "collapsed": false
   },
   "id": "b4c764a493a8f071",
   "execution_count": 23
  },
  {
   "cell_type": "code",
   "outputs": [
    {
     "data": {
      "text/plain": "{'Accuracy': 0.74,\n 'Precision': 0.7894736842105263,\n 'Recall': 0.8571428571428571,\n 'F1 Score': 0.821917808219178}"
     },
     "execution_count": 24,
     "metadata": {},
     "output_type": "execute_result"
    }
   ],
   "source": [
    "calculate_metrics(reduction, X_test, y_test)"
   ],
   "metadata": {
    "collapsed": false
   },
   "id": "342ff6d8b1437cd0",
   "execution_count": 24
  },
  {
   "cell_type": "code",
   "outputs": [
    {
     "data": {
      "text/plain": "0.08333333333333337"
     },
     "execution_count": 25,
     "metadata": {},
     "output_type": "execute_result"
    }
   ],
   "source": [
    "demographic_parity_difference(y_test, y_pred_reduced, sensitive_features=z_test, method=\"to_overall\")"
   ],
   "metadata": {
    "collapsed": false
   },
   "id": "95b94f579ccc470b",
   "execution_count": 25
  },
  {
   "cell_type": "code",
   "outputs": [
    {
     "data": {
      "text/plain": "0.8888888888888888"
     },
     "execution_count": 26,
     "metadata": {},
     "output_type": "execute_result"
    }
   ],
   "source": [
    "demographic_parity_ratio(y_test, y_pred_reduced, sensitive_features=z_test, method=\"to_overall\")"
   ],
   "metadata": {
    "collapsed": false
   },
   "id": "e02ac112de10a54e",
   "execution_count": 26
  },
  {
   "cell_type": "markdown",
   "source": [
    "### AIF360"
   ],
   "metadata": {
    "collapsed": false
   },
   "id": "4acd1e50fb0b083a"
  },
  {
   "cell_type": "code",
   "outputs": [],
   "source": [
    "from aif360.datasets import BinaryLabelDataset"
   ],
   "metadata": {
    "collapsed": false
   },
   "id": "95389bfa47e37430",
   "execution_count": 27
  },
  {
   "cell_type": "code",
   "outputs": [],
   "source": [
    "dataset_aif360_train = BinaryLabelDataset(df=pd.concat([X_train, y_train], axis=1), \n",
    "                                    label_names=[TARGET],\n",
    "                                    protected_attribute_names=[PROTECTED_ATTRIBUTE],\n",
    "                                    )\n",
    "\n",
    "dataset_aif360_test = BinaryLabelDataset(df=pd.concat([X_test, y_test], axis=1), \n",
    "                                    label_names=[TARGET],\n",
    "                                    protected_attribute_names=[PROTECTED_ATTRIBUTE],\n",
    "                                    )\n",
    "\n",
    "predictions_aif360 = BinaryLabelDataset(df=X_test.assign(**{TARGET: y_pred}), \n",
    "                                        label_names=[TARGET],\n",
    "                                        protected_attribute_names=[PROTECTED_ATTRIBUTE],\n",
    "                                        )"
   ],
   "metadata": {
    "collapsed": false
   },
   "id": "5713b793914549c9",
   "execution_count": 50
  },
  {
   "cell_type": "markdown",
   "source": [
    "#### Detection\n",
    "\n",
    "_\"Since the main computation of confusion matrices is common for a large set of metrics, we utilize memoization and caching of computations for performance on large-scale datasets.\"_"
   ],
   "metadata": {
    "collapsed": false
   },
   "id": "31fd2129c0f40177"
  },
  {
   "cell_type": "code",
   "outputs": [
    {
     "name": "stderr",
     "output_type": "stream",
     "text": [
      "WARNING:root:No module named 'tensorflow': AdversarialDebiasing will be unavailable. To install, run:\n",
      "pip install 'aif360[AdversarialDebiasing]'\n",
      "WARNING:root:No module named 'tensorflow': AdversarialDebiasing will be unavailable. To install, run:\n",
      "pip install 'aif360[AdversarialDebiasing]'\n",
      "WARNING:root:No module named 'inFairness': SenSeI and SenSR will be unavailable. To install, run:\n",
      "pip install 'aif360[inFairness]'\n"
     ]
    }
   ],
   "source": [
    "from aif360.metrics import BinaryLabelDatasetMetric, ClassificationMetric\n",
    "from aif360.explainers import MetricTextExplainer"
   ],
   "metadata": {
    "collapsed": false
   },
   "id": "e64690d011b87b84",
   "execution_count": 29
  },
  {
   "cell_type": "code",
   "outputs": [],
   "source": [
    "priv = [{PROTECTED_ATTRIBUTE: 1}, {PROTECTED_ATTRIBUTE: 3}, {PROTECTED_ATTRIBUTE: 4}]\n",
    "unpriv = [{PROTECTED_ATTRIBUTE: 2}]"
   ],
   "metadata": {
    "collapsed": false
   },
   "id": "711d188d09f70d94",
   "execution_count": 30
  },
  {
   "cell_type": "code",
   "outputs": [],
   "source": [
    "cm = ClassificationMetric(dataset_aif360_test,\n",
    "                         predictions_aif360,\n",
    "                         privileged_groups=priv,\n",
    "                         unprivileged_groups=unpriv,\n",
    "                         )"
   ],
   "metadata": {
    "collapsed": false
   },
   "id": "48b6f3904d720800",
   "execution_count": 31
  },
  {
   "cell_type": "code",
   "outputs": [
    {
     "data": {
      "text/plain": "0.8439955106621774"
     },
     "execution_count": 32,
     "metadata": {},
     "output_type": "execute_result"
    }
   ],
   "source": [
    "cm.disparate_impact()"
   ],
   "metadata": {
    "collapsed": false
   },
   "id": "e95b5370bd587dd7",
   "execution_count": 32
  },
  {
   "cell_type": "code",
   "outputs": [
    {
     "data": {
      "text/plain": "-0.12065972222222221"
     },
     "execution_count": 33,
     "metadata": {},
     "output_type": "execute_result"
    }
   ],
   "source": [
    "cm.statistical_parity_difference()"
   ],
   "metadata": {
    "collapsed": false
   },
   "id": "6e2d6aa9e64fe8d2",
   "execution_count": 33
  },
  {
   "cell_type": "code",
   "outputs": [],
   "source": [
    "text_expl = MetricTextExplainer(cm)"
   ],
   "metadata": {
    "collapsed": false
   },
   "id": "dfb7a88187ab4f0e",
   "execution_count": 34
  },
  {
   "cell_type": "code",
   "outputs": [
    {
     "data": {
      "text/plain": "'Statistical parity difference (probability of favorable outcome for unprivileged instances - probability of favorable outcome for privileged instances): -0.12065972222222221'"
     },
     "execution_count": 35,
     "metadata": {},
     "output_type": "execute_result"
    }
   ],
   "source": [
    "text_expl.statistical_parity_difference()"
   ],
   "metadata": {
    "collapsed": false
   },
   "id": "c9cdd483872d2d9a",
   "execution_count": 35
  },
  {
   "cell_type": "code",
   "outputs": [
    {
     "name": "stderr",
     "output_type": "stream",
     "text": [
      "WARNING:root:No module named 'ot': ot_distance will be unavailable. To install, run:\n",
      "pip install 'aif360[OptimalTransport]'\n"
     ]
    }
   ],
   "source": [
    "from aif360.sklearn.metrics import statistical_parity_difference, disparate_impact_ratio"
   ],
   "metadata": {
    "collapsed": false
   },
   "id": "3aad21a0f8216175",
   "execution_count": 36
  },
  {
   "cell_type": "code",
   "outputs": [
    {
     "data": {
      "text/plain": "-0.1473684210526316"
     },
     "execution_count": 37,
     "metadata": {},
     "output_type": "execute_result"
    }
   ],
   "source": [
    "statistical_parity_difference(y_test, y_pred, prot_attr=z_test, priv_group=3)"
   ],
   "metadata": {
    "collapsed": false
   },
   "id": "1b62641dcc74b6ab",
   "execution_count": 37
  },
  {
   "cell_type": "code",
   "outputs": [
    {
     "data": {
      "text/plain": "0.8157894736842105"
     },
     "execution_count": 38,
     "metadata": {},
     "output_type": "execute_result"
    }
   ],
   "source": [
    "disparate_impact_ratio(y_test, y_pred, prot_attr=z_test, priv_group=3)"
   ],
   "metadata": {
    "collapsed": false
   },
   "id": "b416c36853fccf62",
   "execution_count": 38
  },
  {
   "cell_type": "markdown",
   "source": [
    "___"
   ],
   "metadata": {
    "collapsed": false
   },
   "id": "1e64ab8d2b4eff71"
  },
  {
   "cell_type": "code",
   "outputs": [
    {
     "data": {
      "text/plain": "                      Creditability    y_pred\nSex & Marital Status                         \n1                          0.666667  0.500000\n2                          0.625000  0.652778\n3                          0.761905  0.800000\n4                          0.647059  0.705882",
      "text/html": "<div>\n<style scoped>\n    .dataframe tbody tr th:only-of-type {\n        vertical-align: middle;\n    }\n\n    .dataframe tbody tr th {\n        vertical-align: top;\n    }\n\n    .dataframe thead th {\n        text-align: right;\n    }\n</style>\n<table border=\"1\" class=\"dataframe\">\n  <thead>\n    <tr style=\"text-align: right;\">\n      <th></th>\n      <th>Creditability</th>\n      <th>y_pred</th>\n    </tr>\n    <tr>\n      <th>Sex &amp; Marital Status</th>\n      <th></th>\n      <th></th>\n    </tr>\n  </thead>\n  <tbody>\n    <tr>\n      <th>1</th>\n      <td>0.666667</td>\n      <td>0.500000</td>\n    </tr>\n    <tr>\n      <th>2</th>\n      <td>0.625000</td>\n      <td>0.652778</td>\n    </tr>\n    <tr>\n      <th>3</th>\n      <td>0.761905</td>\n      <td>0.800000</td>\n    </tr>\n    <tr>\n      <th>4</th>\n      <td>0.647059</td>\n      <td>0.705882</td>\n    </tr>\n  </tbody>\n</table>\n</div>"
     },
     "execution_count": 39,
     "metadata": {},
     "output_type": "execute_result"
    }
   ],
   "source": [
    "pd.concat([y_test, y_pred], axis=1).groupby(z_test, sort=False).sum().div(z_test.value_counts(), axis=0)"
   ],
   "metadata": {
    "collapsed": false
   },
   "id": "2c145f8ab10a39c7",
   "execution_count": 39
  },
  {
   "cell_type": "code",
   "outputs": [
    {
     "data": {
      "text/plain": "Creditability    0.70\ny_pred           0.73\ndtype: float64"
     },
     "execution_count": 40,
     "metadata": {},
     "output_type": "execute_result"
    }
   ],
   "source": [
    "pd.concat([y_test, y_pred], axis=1).mean()"
   ],
   "metadata": {
    "collapsed": false
   },
   "id": "fd99165aab784340",
   "execution_count": 40
  },
  {
   "cell_type": "code",
   "outputs": [
    {
     "data": {
      "text/plain": "-0.1473684210526316"
     },
     "execution_count": 41,
     "metadata": {},
     "output_type": "execute_result"
    }
   ],
   "source": [
    "y_pred.loc[z_test.ne(3)].mean() - y_pred.loc[z_test.eq(3)].mean() "
   ],
   "metadata": {
    "collapsed": false
   },
   "id": "58902a0cbe069af1",
   "execution_count": 41
  },
  {
   "cell_type": "markdown",
   "source": [
    "#### Mitigation"
   ],
   "metadata": {
    "collapsed": false
   },
   "id": "852d36507ea4246b"
  },
  {
   "cell_type": "code",
   "outputs": [],
   "source": [
    "from aif360.algorithms.inprocessing import ExponentiatedGradientReduction as ExponentiatedGradientReductionAif"
   ],
   "metadata": {
    "collapsed": false
   },
   "id": "3c61ea2606dada43",
   "execution_count": 52
  },
  {
   "cell_type": "code",
   "outputs": [],
   "source": [
    "reduction_aif = ExponentiatedGradientReductionAif(estimator=default_model.copy(), constraints=DemographicParity(difference_bound=0.01), max_iter=10)"
   ],
   "metadata": {
    "collapsed": false
   },
   "id": "7ccc36850b8f363d",
   "execution_count": 56
  },
  {
   "cell_type": "code",
   "outputs": [
    {
     "name": "stderr",
     "output_type": "stream",
     "text": [
      "/opt/homebrew/Caskroom/miniconda/base/envs/fairness-toolkits/lib/python3.10/site-packages/sklearn/preprocessing/_label.py:114: DataConversionWarning: A column-vector y was passed when a 1d array was expected. Please change the shape of y to (n_samples, ), for example using ravel().\n",
      "  y = column_or_1d(y, warn=True)\n",
      "/opt/homebrew/Caskroom/miniconda/base/envs/fairness-toolkits/lib/python3.10/site-packages/fairlearn/reductions/_moments/utility_parity.py:214: FutureWarning: ChainedAssignmentError: behaviour will change in pandas 3.0!\n",
      "You are setting values through chained assignment. Currently this works in certain cases, but when using Copy-on-Write (which will become the default behaviour in pandas 3.0) this will never work to update the original DataFrame or Series, because the intermediate object on which we are setting values will behave as a copy.\n",
      "A typical example is when you are setting values in a column of a DataFrame, like:\n",
      "\n",
      "df[\"col\"][row_indexer] = value\n",
      "\n",
      "Use `df.loc[row_indexer, \"col\"] = values` instead, to perform the assignment in a single step and ensure this keeps updating the original `df`.\n",
      "\n",
      "See the caveats in the documentation: https://pandas.pydata.org/pandas-docs/stable/user_guide/indexing.html#returning-a-view-versus-a-copy\n",
      "\n",
      "  self.pos_basis[i][\"+\", e, g] = 1\n",
      "/opt/homebrew/Caskroom/miniconda/base/envs/fairness-toolkits/lib/python3.10/site-packages/fairlearn/reductions/_moments/utility_parity.py:215: FutureWarning: ChainedAssignmentError: behaviour will change in pandas 3.0!\n",
      "You are setting values through chained assignment. Currently this works in certain cases, but when using Copy-on-Write (which will become the default behaviour in pandas 3.0) this will never work to update the original DataFrame or Series, because the intermediate object on which we are setting values will behave as a copy.\n",
      "A typical example is when you are setting values in a column of a DataFrame, like:\n",
      "\n",
      "df[\"col\"][row_indexer] = value\n",
      "\n",
      "Use `df.loc[row_indexer, \"col\"] = values` instead, to perform the assignment in a single step and ensure this keeps updating the original `df`.\n",
      "\n",
      "See the caveats in the documentation: https://pandas.pydata.org/pandas-docs/stable/user_guide/indexing.html#returning-a-view-versus-a-copy\n",
      "\n",
      "  self.neg_basis[i][\"-\", e, g] = 1\n",
      "/opt/homebrew/Caskroom/miniconda/base/envs/fairness-toolkits/lib/python3.10/site-packages/fairlearn/reductions/_moments/utility_parity.py:214: FutureWarning: ChainedAssignmentError: behaviour will change in pandas 3.0!\n",
      "You are setting values through chained assignment. Currently this works in certain cases, but when using Copy-on-Write (which will become the default behaviour in pandas 3.0) this will never work to update the original DataFrame or Series, because the intermediate object on which we are setting values will behave as a copy.\n",
      "A typical example is when you are setting values in a column of a DataFrame, like:\n",
      "\n",
      "df[\"col\"][row_indexer] = value\n",
      "\n",
      "Use `df.loc[row_indexer, \"col\"] = values` instead, to perform the assignment in a single step and ensure this keeps updating the original `df`.\n",
      "\n",
      "See the caveats in the documentation: https://pandas.pydata.org/pandas-docs/stable/user_guide/indexing.html#returning-a-view-versus-a-copy\n",
      "\n",
      "  self.pos_basis[i][\"+\", e, g] = 1\n",
      "/opt/homebrew/Caskroom/miniconda/base/envs/fairness-toolkits/lib/python3.10/site-packages/fairlearn/reductions/_moments/utility_parity.py:215: FutureWarning: ChainedAssignmentError: behaviour will change in pandas 3.0!\n",
      "You are setting values through chained assignment. Currently this works in certain cases, but when using Copy-on-Write (which will become the default behaviour in pandas 3.0) this will never work to update the original DataFrame or Series, because the intermediate object on which we are setting values will behave as a copy.\n",
      "A typical example is when you are setting values in a column of a DataFrame, like:\n",
      "\n",
      "df[\"col\"][row_indexer] = value\n",
      "\n",
      "Use `df.loc[row_indexer, \"col\"] = values` instead, to perform the assignment in a single step and ensure this keeps updating the original `df`.\n",
      "\n",
      "See the caveats in the documentation: https://pandas.pydata.org/pandas-docs/stable/user_guide/indexing.html#returning-a-view-versus-a-copy\n",
      "\n",
      "  self.neg_basis[i][\"-\", e, g] = 1\n",
      "/opt/homebrew/Caskroom/miniconda/base/envs/fairness-toolkits/lib/python3.10/site-packages/fairlearn/reductions/_moments/utility_parity.py:214: FutureWarning: ChainedAssignmentError: behaviour will change in pandas 3.0!\n",
      "You are setting values through chained assignment. Currently this works in certain cases, but when using Copy-on-Write (which will become the default behaviour in pandas 3.0) this will never work to update the original DataFrame or Series, because the intermediate object on which we are setting values will behave as a copy.\n",
      "A typical example is when you are setting values in a column of a DataFrame, like:\n",
      "\n",
      "df[\"col\"][row_indexer] = value\n",
      "\n",
      "Use `df.loc[row_indexer, \"col\"] = values` instead, to perform the assignment in a single step and ensure this keeps updating the original `df`.\n",
      "\n",
      "See the caveats in the documentation: https://pandas.pydata.org/pandas-docs/stable/user_guide/indexing.html#returning-a-view-versus-a-copy\n",
      "\n",
      "  self.pos_basis[i][\"+\", e, g] = 1\n",
      "/opt/homebrew/Caskroom/miniconda/base/envs/fairness-toolkits/lib/python3.10/site-packages/fairlearn/reductions/_moments/utility_parity.py:215: FutureWarning: ChainedAssignmentError: behaviour will change in pandas 3.0!\n",
      "You are setting values through chained assignment. Currently this works in certain cases, but when using Copy-on-Write (which will become the default behaviour in pandas 3.0) this will never work to update the original DataFrame or Series, because the intermediate object on which we are setting values will behave as a copy.\n",
      "A typical example is when you are setting values in a column of a DataFrame, like:\n",
      "\n",
      "df[\"col\"][row_indexer] = value\n",
      "\n",
      "Use `df.loc[row_indexer, \"col\"] = values` instead, to perform the assignment in a single step and ensure this keeps updating the original `df`.\n",
      "\n",
      "See the caveats in the documentation: https://pandas.pydata.org/pandas-docs/stable/user_guide/indexing.html#returning-a-view-versus-a-copy\n",
      "\n",
      "  self.neg_basis[i][\"-\", e, g] = 1\n"
     ]
    },
    {
     "name": "stdout",
     "output_type": "stream",
     "text": [
      "0:\tlearn: 0.6896976\ttotal: 513us\tremaining: 1.54s\n",
      "250:\tlearn: 0.4713271\ttotal: 96.1ms\tremaining: 1.05s\n",
      "500:\tlearn: 0.4265194\ttotal: 199ms\tremaining: 991ms\n",
      "750:\tlearn: 0.3916272\ttotal: 301ms\tremaining: 901ms\n",
      "1000:\tlearn: 0.3590966\ttotal: 403ms\tremaining: 805ms\n",
      "1250:\tlearn: 0.3306166\ttotal: 503ms\tremaining: 704ms\n",
      "1500:\tlearn: 0.3073161\ttotal: 604ms\tremaining: 603ms\n",
      "1750:\tlearn: 0.2868668\ttotal: 704ms\tremaining: 502ms\n",
      "2000:\tlearn: 0.2696378\ttotal: 799ms\tremaining: 399ms\n",
      "2250:\tlearn: 0.2536365\ttotal: 895ms\tremaining: 298ms\n",
      "2500:\tlearn: 0.2391847\ttotal: 997ms\tremaining: 199ms\n",
      "2750:\tlearn: 0.2255040\ttotal: 1.1s\tremaining: 99.7ms\n",
      "2999:\tlearn: 0.2136827\ttotal: 1.2s\tremaining: 0us\n",
      "0:\tlearn: 0.6896976\ttotal: 511us\tremaining: 1.53s\n",
      "250:\tlearn: 0.4713271\ttotal: 100ms\tremaining: 1.09s\n",
      "500:\tlearn: 0.4265194\ttotal: 198ms\tremaining: 990ms\n",
      "750:\tlearn: 0.3916272\ttotal: 300ms\tremaining: 899ms\n",
      "1000:\tlearn: 0.3590966\ttotal: 402ms\tremaining: 802ms\n",
      "1250:\tlearn: 0.3306166\ttotal: 502ms\tremaining: 701ms\n",
      "1500:\tlearn: 0.3073161\ttotal: 609ms\tremaining: 609ms\n",
      "1750:\tlearn: 0.2868668\ttotal: 713ms\tremaining: 509ms\n",
      "2000:\tlearn: 0.2696378\ttotal: 811ms\tremaining: 405ms\n",
      "2250:\tlearn: 0.2536365\ttotal: 912ms\tremaining: 303ms\n",
      "2500:\tlearn: 0.2391847\ttotal: 1.01s\tremaining: 202ms\n",
      "2750:\tlearn: 0.2255040\ttotal: 1.11s\tremaining: 101ms\n",
      "2999:\tlearn: 0.2136827\ttotal: 1.21s\tremaining: 0us\n",
      "0:\tlearn: 0.6890717\ttotal: 451us\tremaining: 1.35s\n",
      "250:\tlearn: 0.4690166\ttotal: 99.6ms\tremaining: 1.09s\n",
      "500:\tlearn: 0.4209497\ttotal: 199ms\tremaining: 992ms\n",
      "750:\tlearn: 0.3838991\ttotal: 299ms\tremaining: 896ms\n",
      "1000:\tlearn: 0.3509589\ttotal: 397ms\tremaining: 793ms\n",
      "1250:\tlearn: 0.3225620\ttotal: 500ms\tremaining: 699ms\n",
      "1500:\tlearn: 0.2994367\ttotal: 593ms\tremaining: 592ms\n",
      "1750:\tlearn: 0.2797167\ttotal: 691ms\tremaining: 493ms\n",
      "2000:\tlearn: 0.2618470\ttotal: 792ms\tremaining: 395ms\n",
      "2250:\tlearn: 0.2456513\ttotal: 891ms\tremaining: 296ms\n",
      "2500:\tlearn: 0.2314727\ttotal: 990ms\tremaining: 198ms\n",
      "2750:\tlearn: 0.2183096\ttotal: 1.09s\tremaining: 98.6ms\n",
      "2999:\tlearn: 0.2064661\ttotal: 1.18s\tremaining: 0us\n",
      "0:\tlearn: 0.6897014\ttotal: 433us\tremaining: 1.3s\n",
      "250:\tlearn: 0.4692864\ttotal: 106ms\tremaining: 1.17s\n",
      "500:\tlearn: 0.4232510\ttotal: 219ms\tremaining: 1.09s\n",
      "750:\tlearn: 0.3881931\ttotal: 318ms\tremaining: 953ms\n",
      "1000:\tlearn: 0.3557008\ttotal: 418ms\tremaining: 834ms\n",
      "1250:\tlearn: 0.3272047\ttotal: 521ms\tremaining: 729ms\n",
      "1500:\tlearn: 0.3041150\ttotal: 624ms\tremaining: 623ms\n",
      "1750:\tlearn: 0.2843750\ttotal: 723ms\tremaining: 516ms\n",
      "2000:\tlearn: 0.2668141\ttotal: 822ms\tremaining: 411ms\n",
      "2250:\tlearn: 0.2502369\ttotal: 927ms\tremaining: 309ms\n",
      "2500:\tlearn: 0.2358756\ttotal: 1.03s\tremaining: 205ms\n",
      "2750:\tlearn: 0.2228153\ttotal: 1.13s\tremaining: 102ms\n",
      "2999:\tlearn: 0.2107438\ttotal: 1.23s\tremaining: 0us\n",
      "0:\tlearn: 0.6916758\ttotal: 340us\tremaining: 1.02s\n",
      "250:\tlearn: 0.5821156\ttotal: 98.9ms\tremaining: 1.08s\n",
      "500:\tlearn: 0.5411594\ttotal: 195ms\tremaining: 973ms\n",
      "750:\tlearn: 0.5065595\ttotal: 296ms\tremaining: 886ms\n",
      "1000:\tlearn: 0.4730112\ttotal: 396ms\tremaining: 792ms\n",
      "1250:\tlearn: 0.4423220\ttotal: 500ms\tremaining: 699ms\n",
      "1500:\tlearn: 0.4153450\ttotal: 602ms\tremaining: 602ms\n",
      "1750:\tlearn: 0.3930941\ttotal: 704ms\tremaining: 502ms\n",
      "2000:\tlearn: 0.3735681\ttotal: 803ms\tremaining: 401ms\n",
      "2250:\tlearn: 0.3555608\ttotal: 900ms\tremaining: 299ms\n",
      "2500:\tlearn: 0.3382033\ttotal: 998ms\tremaining: 199ms\n",
      "2750:\tlearn: 0.3211616\ttotal: 1.09s\tremaining: 98.9ms\n",
      "2999:\tlearn: 0.3063410\ttotal: 1.19s\tremaining: 0us\n",
      "0:\tlearn: 0.6895225\ttotal: 424us\tremaining: 1.27s\n",
      "250:\tlearn: 0.4685021\ttotal: 94.7ms\tremaining: 1.04s\n",
      "500:\tlearn: 0.4222554\ttotal: 194ms\tremaining: 969ms\n",
      "750:\tlearn: 0.3870346\ttotal: 291ms\tremaining: 872ms\n",
      "1000:\tlearn: 0.3538398\ttotal: 395ms\tremaining: 790ms\n",
      "1250:\tlearn: 0.3258703\ttotal: 494ms\tremaining: 691ms\n",
      "1500:\tlearn: 0.3022672\ttotal: 592ms\tremaining: 591ms\n",
      "1750:\tlearn: 0.2827862\ttotal: 689ms\tremaining: 491ms\n",
      "2000:\tlearn: 0.2652736\ttotal: 789ms\tremaining: 394ms\n",
      "2250:\tlearn: 0.2496446\ttotal: 888ms\tremaining: 296ms\n",
      "2500:\tlearn: 0.2355296\ttotal: 985ms\tremaining: 197ms\n",
      "2750:\tlearn: 0.2224056\ttotal: 1.08s\tremaining: 98.1ms\n",
      "2999:\tlearn: 0.2098160\ttotal: 1.19s\tremaining: 0us\n",
      "0:\tlearn: 0.6896864\ttotal: 479us\tremaining: 1.44s\n",
      "250:\tlearn: 0.4694686\ttotal: 101ms\tremaining: 1.1s\n",
      "500:\tlearn: 0.4226214\ttotal: 201ms\tremaining: 1s\n",
      "750:\tlearn: 0.3893275\ttotal: 304ms\tremaining: 910ms\n",
      "1000:\tlearn: 0.3554341\ttotal: 401ms\tremaining: 801ms\n",
      "1250:\tlearn: 0.3270159\ttotal: 498ms\tremaining: 697ms\n",
      "1500:\tlearn: 0.3042748\ttotal: 592ms\tremaining: 591ms\n",
      "1750:\tlearn: 0.2841186\ttotal: 692ms\tremaining: 493ms\n",
      "2000:\tlearn: 0.2668567\ttotal: 790ms\tremaining: 395ms\n",
      "2250:\tlearn: 0.2504964\ttotal: 889ms\tremaining: 296ms\n",
      "2500:\tlearn: 0.2361092\ttotal: 987ms\tremaining: 197ms\n",
      "2750:\tlearn: 0.2226696\ttotal: 1.09s\tremaining: 98.4ms\n",
      "2999:\tlearn: 0.2113199\ttotal: 1.18s\tremaining: 0us\n",
      "0:\tlearn: 0.6914304\ttotal: 601us\tremaining: 1.8s\n",
      "250:\tlearn: 0.5250187\ttotal: 96.8ms\tremaining: 1.06s\n",
      "500:\tlearn: 0.4590947\ttotal: 198ms\tremaining: 987ms\n",
      "750:\tlearn: 0.4074805\ttotal: 296ms\tremaining: 886ms\n",
      "1000:\tlearn: 0.3567350\ttotal: 396ms\tremaining: 790ms\n",
      "1250:\tlearn: 0.3179646\ttotal: 492ms\tremaining: 687ms\n",
      "1500:\tlearn: 0.2865221\ttotal: 588ms\tremaining: 587ms\n",
      "1750:\tlearn: 0.2605837\ttotal: 688ms\tremaining: 491ms\n",
      "2000:\tlearn: 0.2376560\ttotal: 788ms\tremaining: 393ms\n",
      "2250:\tlearn: 0.2183319\ttotal: 892ms\tremaining: 297ms\n",
      "2500:\tlearn: 0.2019897\ttotal: 989ms\tremaining: 197ms\n",
      "2750:\tlearn: 0.1884360\ttotal: 1.09s\tremaining: 98.3ms\n",
      "2999:\tlearn: 0.1759399\ttotal: 1.19s\tremaining: 0us\n",
      "0:\tlearn: 0.6894871\ttotal: 468us\tremaining: 1.4s\n",
      "250:\tlearn: 0.4680604\ttotal: 97.9ms\tremaining: 1.07s\n",
      "500:\tlearn: 0.4217577\ttotal: 197ms\tremaining: 983ms\n",
      "750:\tlearn: 0.3864040\ttotal: 288ms\tremaining: 862ms\n",
      "1000:\tlearn: 0.3527271\ttotal: 386ms\tremaining: 771ms\n",
      "1250:\tlearn: 0.3251484\ttotal: 482ms\tremaining: 673ms\n",
      "1500:\tlearn: 0.3017512\ttotal: 584ms\tremaining: 583ms\n",
      "1750:\tlearn: 0.2819080\ttotal: 682ms\tremaining: 487ms\n",
      "2000:\tlearn: 0.2642891\ttotal: 780ms\tremaining: 390ms\n",
      "2250:\tlearn: 0.2487696\ttotal: 879ms\tremaining: 293ms\n",
      "2500:\tlearn: 0.2343381\ttotal: 979ms\tremaining: 195ms\n",
      "2750:\tlearn: 0.2211463\ttotal: 1.07s\tremaining: 97.3ms\n",
      "2999:\tlearn: 0.2092415\ttotal: 1.18s\tremaining: 0us\n",
      "0:\tlearn: 0.6896853\ttotal: 1.25ms\tremaining: 3.73s\n",
      "250:\tlearn: 0.4692166\ttotal: 95.8ms\tremaining: 1.05s\n",
      "500:\tlearn: 0.4223260\ttotal: 190ms\tremaining: 948ms\n",
      "750:\tlearn: 0.3871615\ttotal: 287ms\tremaining: 861ms\n",
      "1000:\tlearn: 0.3555984\ttotal: 383ms\tremaining: 765ms\n",
      "1250:\tlearn: 0.3271264\ttotal: 479ms\tremaining: 669ms\n",
      "1500:\tlearn: 0.3031712\ttotal: 576ms\tremaining: 575ms\n",
      "1750:\tlearn: 0.2833518\ttotal: 679ms\tremaining: 484ms\n",
      "2000:\tlearn: 0.2657616\ttotal: 775ms\tremaining: 387ms\n",
      "2250:\tlearn: 0.2505318\ttotal: 877ms\tremaining: 292ms\n",
      "2500:\tlearn: 0.2361202\ttotal: 980ms\tremaining: 196ms\n",
      "2750:\tlearn: 0.2227826\ttotal: 1.08s\tremaining: 97.7ms\n",
      "2999:\tlearn: 0.2107924\ttotal: 1.18s\tremaining: 0us\n",
      "0:\tlearn: 0.6916224\ttotal: 445us\tremaining: 1.34s\n",
      "250:\tlearn: 0.5650832\ttotal: 99.3ms\tremaining: 1.09s\n",
      "500:\tlearn: 0.5221281\ttotal: 200ms\tremaining: 999ms\n",
      "750:\tlearn: 0.4802096\ttotal: 303ms\tremaining: 906ms\n",
      "1000:\tlearn: 0.4374273\ttotal: 402ms\tremaining: 803ms\n",
      "1250:\tlearn: 0.4014260\ttotal: 500ms\tremaining: 699ms\n",
      "1500:\tlearn: 0.3715566\ttotal: 600ms\tremaining: 599ms\n",
      "1750:\tlearn: 0.3460236\ttotal: 702ms\tremaining: 501ms\n",
      "2000:\tlearn: 0.3238612\ttotal: 801ms\tremaining: 400ms\n",
      "2250:\tlearn: 0.3038663\ttotal: 903ms\tremaining: 301ms\n",
      "2500:\tlearn: 0.2865459\ttotal: 1.01s\tremaining: 201ms\n",
      "2750:\tlearn: 0.2703501\ttotal: 1.1s\tremaining: 100ms\n",
      "2999:\tlearn: 0.2558633\ttotal: 1.21s\tremaining: 0us\n",
      "0:\tlearn: 0.6890248\ttotal: 382us\tremaining: 1.15s\n",
      "250:\tlearn: 0.4668417\ttotal: 101ms\tremaining: 1.11s\n",
      "500:\tlearn: 0.4198874\ttotal: 203ms\tremaining: 1.01s\n",
      "750:\tlearn: 0.3849459\ttotal: 299ms\tremaining: 896ms\n",
      "1000:\tlearn: 0.3523402\ttotal: 397ms\tremaining: 793ms\n",
      "1250:\tlearn: 0.3240223\ttotal: 496ms\tremaining: 694ms\n",
      "1500:\tlearn: 0.3013471\ttotal: 597ms\tremaining: 596ms\n",
      "1750:\tlearn: 0.2813120\ttotal: 693ms\tremaining: 495ms\n",
      "2000:\tlearn: 0.2639802\ttotal: 791ms\tremaining: 395ms\n",
      "2250:\tlearn: 0.2484614\ttotal: 890ms\tremaining: 296ms\n",
      "2500:\tlearn: 0.2346490\ttotal: 990ms\tremaining: 197ms\n",
      "2750:\tlearn: 0.2212934\ttotal: 1.09s\tremaining: 98.8ms\n",
      "2999:\tlearn: 0.2085441\ttotal: 1.2s\tremaining: 0us\n",
      "0:\tlearn: 0.6895147\ttotal: 471us\tremaining: 1.41s\n",
      "250:\tlearn: 0.4700993\ttotal: 106ms\tremaining: 1.17s\n",
      "500:\tlearn: 0.4232135\ttotal: 211ms\tremaining: 1.05s\n",
      "750:\tlearn: 0.3872259\ttotal: 318ms\tremaining: 953ms\n",
      "1000:\tlearn: 0.3556842\ttotal: 418ms\tremaining: 834ms\n",
      "1250:\tlearn: 0.3272478\ttotal: 516ms\tremaining: 722ms\n",
      "1500:\tlearn: 0.3043315\ttotal: 617ms\tremaining: 616ms\n",
      "1750:\tlearn: 0.2845284\ttotal: 716ms\tremaining: 510ms\n",
      "2000:\tlearn: 0.2665889\ttotal: 811ms\tremaining: 405ms\n",
      "2250:\tlearn: 0.2510691\ttotal: 911ms\tremaining: 303ms\n",
      "2500:\tlearn: 0.2362133\ttotal: 1.01s\tremaining: 202ms\n",
      "2750:\tlearn: 0.2229990\ttotal: 1.11s\tremaining: 101ms\n",
      "2999:\tlearn: 0.2112838\ttotal: 1.21s\tremaining: 0us\n",
      "0:\tlearn: 0.6894180\ttotal: 478us\tremaining: 1.43s\n",
      "250:\tlearn: 0.4493208\ttotal: 97.3ms\tremaining: 1.07s\n",
      "500:\tlearn: 0.3943466\ttotal: 196ms\tremaining: 975ms\n",
      "750:\tlearn: 0.3483453\ttotal: 294ms\tremaining: 880ms\n",
      "1000:\tlearn: 0.3100134\ttotal: 397ms\tremaining: 792ms\n",
      "1250:\tlearn: 0.2819515\ttotal: 498ms\tremaining: 696ms\n",
      "1500:\tlearn: 0.2573566\ttotal: 597ms\tremaining: 596ms\n",
      "1750:\tlearn: 0.2376140\ttotal: 705ms\tremaining: 503ms\n",
      "2000:\tlearn: 0.2197642\ttotal: 805ms\tremaining: 402ms\n",
      "2250:\tlearn: 0.2038646\ttotal: 901ms\tremaining: 300ms\n",
      "2500:\tlearn: 0.1895912\ttotal: 998ms\tremaining: 199ms\n",
      "2750:\tlearn: 0.1766385\ttotal: 1.1s\tremaining: 99.6ms\n",
      "2999:\tlearn: 0.1654359\ttotal: 1.2s\tremaining: 0us\n",
      "0:\tlearn: 0.6894036\ttotal: 417us\tremaining: 1.25s\n",
      "250:\tlearn: 0.4682231\ttotal: 100ms\tremaining: 1.1s\n",
      "500:\tlearn: 0.4207080\ttotal: 196ms\tremaining: 980ms\n",
      "750:\tlearn: 0.3843453\ttotal: 295ms\tremaining: 884ms\n",
      "1000:\tlearn: 0.3524625\ttotal: 392ms\tremaining: 782ms\n",
      "1250:\tlearn: 0.3244336\ttotal: 491ms\tremaining: 686ms\n",
      "1500:\tlearn: 0.3021655\ttotal: 588ms\tremaining: 587ms\n",
      "1750:\tlearn: 0.2819774\ttotal: 681ms\tremaining: 485ms\n",
      "2000:\tlearn: 0.2644300\ttotal: 768ms\tremaining: 384ms\n",
      "2250:\tlearn: 0.2489089\ttotal: 870ms\tremaining: 289ms\n",
      "2500:\tlearn: 0.2352319\ttotal: 968ms\tremaining: 193ms\n",
      "2750:\tlearn: 0.2217456\ttotal: 1.07s\tremaining: 96.7ms\n",
      "2999:\tlearn: 0.2094356\ttotal: 1.18s\tremaining: 0us\n",
      "0:\tlearn: 0.6890428\ttotal: 462us\tremaining: 1.39s\n",
      "250:\tlearn: 0.4688846\ttotal: 102ms\tremaining: 1.11s\n",
      "500:\tlearn: 0.4222029\ttotal: 202ms\tremaining: 1.01s\n",
      "750:\tlearn: 0.3877068\ttotal: 306ms\tremaining: 916ms\n",
      "1000:\tlearn: 0.3539110\ttotal: 404ms\tremaining: 807ms\n",
      "1250:\tlearn: 0.3258576\ttotal: 500ms\tremaining: 700ms\n",
      "1500:\tlearn: 0.3023994\ttotal: 600ms\tremaining: 599ms\n",
      "1750:\tlearn: 0.2822922\ttotal: 698ms\tremaining: 498ms\n",
      "2000:\tlearn: 0.2654925\ttotal: 796ms\tremaining: 397ms\n",
      "2250:\tlearn: 0.2495161\ttotal: 894ms\tremaining: 298ms\n",
      "2500:\tlearn: 0.2345453\ttotal: 994ms\tremaining: 198ms\n",
      "2750:\tlearn: 0.2213407\ttotal: 1.09s\tremaining: 98.9ms\n",
      "2999:\tlearn: 0.2091515\ttotal: 1.2s\tremaining: 0us\n",
      "0:\tlearn: 0.6896612\ttotal: 397us\tremaining: 1.19s\n",
      "250:\tlearn: 0.4947904\ttotal: 99.2ms\tremaining: 1.09s\n",
      "500:\tlearn: 0.4495822\ttotal: 200ms\tremaining: 999ms\n",
      "750:\tlearn: 0.4102092\ttotal: 301ms\tremaining: 900ms\n",
      "1000:\tlearn: 0.3726201\ttotal: 402ms\tremaining: 803ms\n",
      "1250:\tlearn: 0.3456695\ttotal: 502ms\tremaining: 702ms\n",
      "1500:\tlearn: 0.3258452\ttotal: 599ms\tremaining: 598ms\n",
      "1750:\tlearn: 0.3091705\ttotal: 701ms\tremaining: 500ms\n",
      "2000:\tlearn: 0.2944986\ttotal: 795ms\tremaining: 397ms\n",
      "2250:\tlearn: 0.2819796\ttotal: 892ms\tremaining: 297ms\n",
      "2500:\tlearn: 0.2695417\ttotal: 997ms\tremaining: 199ms\n",
      "2750:\tlearn: 0.2581141\ttotal: 1.1s\tremaining: 99.5ms\n",
      "2999:\tlearn: 0.2476671\ttotal: 1.2s\tremaining: 0us\n",
      "0:\tlearn: 0.6893931\ttotal: 477us\tremaining: 1.43s\n",
      "250:\tlearn: 0.4679730\ttotal: 97.2ms\tremaining: 1.06s\n",
      "500:\tlearn: 0.4215734\ttotal: 204ms\tremaining: 1.01s\n",
      "750:\tlearn: 0.3848509\ttotal: 303ms\tremaining: 906ms\n",
      "1000:\tlearn: 0.3529067\ttotal: 399ms\tremaining: 797ms\n",
      "1250:\tlearn: 0.3240863\ttotal: 495ms\tremaining: 693ms\n",
      "1500:\tlearn: 0.3017504\ttotal: 600ms\tremaining: 599ms\n",
      "1750:\tlearn: 0.2817158\ttotal: 701ms\tremaining: 500ms\n",
      "2000:\tlearn: 0.2644882\ttotal: 800ms\tremaining: 399ms\n",
      "2250:\tlearn: 0.2483456\ttotal: 901ms\tremaining: 300ms\n",
      "2500:\tlearn: 0.2340275\ttotal: 1s\tremaining: 200ms\n",
      "2750:\tlearn: 0.2207923\ttotal: 1.1s\tremaining: 99.7ms\n",
      "2999:\tlearn: 0.2088232\ttotal: 1.2s\tremaining: 0us\n",
      "0:\tlearn: 0.6890391\ttotal: 494us\tremaining: 1.48s\n",
      "250:\tlearn: 0.4675678\ttotal: 95.2ms\tremaining: 1.04s\n",
      "500:\tlearn: 0.4198209\ttotal: 191ms\tremaining: 953ms\n",
      "750:\tlearn: 0.3854519\ttotal: 288ms\tremaining: 863ms\n",
      "1000:\tlearn: 0.3537101\ttotal: 386ms\tremaining: 771ms\n",
      "1250:\tlearn: 0.3250241\ttotal: 486ms\tremaining: 680ms\n",
      "1500:\tlearn: 0.3029915\ttotal: 584ms\tremaining: 583ms\n",
      "1750:\tlearn: 0.2836407\ttotal: 683ms\tremaining: 487ms\n",
      "2000:\tlearn: 0.2653824\ttotal: 783ms\tremaining: 391ms\n",
      "2250:\tlearn: 0.2489040\ttotal: 884ms\tremaining: 294ms\n",
      "2500:\tlearn: 0.2347524\ttotal: 981ms\tremaining: 196ms\n",
      "2750:\tlearn: 0.2217138\ttotal: 1.07s\tremaining: 97.2ms\n",
      "2999:\tlearn: 0.2092732\ttotal: 1.17s\tremaining: 0us\n",
      "0:\tlearn: 0.6891713\ttotal: 440us\tremaining: 1.32s\n",
      "250:\tlearn: 0.4473186\ttotal: 98.7ms\tremaining: 1.08s\n",
      "500:\tlearn: 0.3975986\ttotal: 195ms\tremaining: 975ms\n",
      "750:\tlearn: 0.3580024\ttotal: 288ms\tremaining: 863ms\n",
      "1000:\tlearn: 0.3202968\ttotal: 387ms\tremaining: 772ms\n",
      "1250:\tlearn: 0.2948159\ttotal: 490ms\tremaining: 685ms\n",
      "1500:\tlearn: 0.2759524\ttotal: 590ms\tremaining: 589ms\n",
      "1750:\tlearn: 0.2584153\ttotal: 686ms\tremaining: 489ms\n",
      "2000:\tlearn: 0.2406479\ttotal: 787ms\tremaining: 393ms\n",
      "2250:\tlearn: 0.2249526\ttotal: 888ms\tremaining: 295ms\n",
      "2500:\tlearn: 0.2104617\ttotal: 986ms\tremaining: 197ms\n",
      "2750:\tlearn: 0.1984443\ttotal: 1.08s\tremaining: 98.3ms\n",
      "2999:\tlearn: 0.1863271\ttotal: 1.19s\tremaining: 0us\n",
      "0:\tlearn: 0.6893876\ttotal: 465us\tremaining: 1.4s\n",
      "250:\tlearn: 0.4665414\ttotal: 97.5ms\tremaining: 1.07s\n",
      "500:\tlearn: 0.4191287\ttotal: 197ms\tremaining: 982ms\n",
      "750:\tlearn: 0.3845566\ttotal: 291ms\tremaining: 872ms\n",
      "1000:\tlearn: 0.3525266\ttotal: 389ms\tremaining: 776ms\n",
      "1250:\tlearn: 0.3245568\ttotal: 485ms\tremaining: 679ms\n",
      "1500:\tlearn: 0.3004449\ttotal: 584ms\tremaining: 583ms\n",
      "1750:\tlearn: 0.2809331\ttotal: 683ms\tremaining: 487ms\n",
      "2000:\tlearn: 0.2637858\ttotal: 784ms\tremaining: 391ms\n",
      "2250:\tlearn: 0.2486018\ttotal: 886ms\tremaining: 295ms\n",
      "2500:\tlearn: 0.2345455\ttotal: 984ms\tremaining: 196ms\n",
      "2750:\tlearn: 0.2216785\ttotal: 1.08s\tremaining: 98.2ms\n",
      "2999:\tlearn: 0.2092565\ttotal: 1.18s\tremaining: 0us\n",
      "0:\tlearn: 0.6890366\ttotal: 382us\tremaining: 1.15s\n",
      "250:\tlearn: 0.4667259\ttotal: 100ms\tremaining: 1.09s\n",
      "500:\tlearn: 0.4214627\ttotal: 197ms\tremaining: 985ms\n",
      "750:\tlearn: 0.3859282\ttotal: 295ms\tremaining: 885ms\n",
      "1000:\tlearn: 0.3527503\ttotal: 395ms\tremaining: 789ms\n",
      "1250:\tlearn: 0.3250249\ttotal: 496ms\tremaining: 693ms\n",
      "1500:\tlearn: 0.3016804\ttotal: 595ms\tremaining: 594ms\n",
      "1750:\tlearn: 0.2817022\ttotal: 693ms\tremaining: 494ms\n",
      "2000:\tlearn: 0.2641286\ttotal: 795ms\tremaining: 397ms\n",
      "2250:\tlearn: 0.2481297\ttotal: 898ms\tremaining: 299ms\n",
      "2500:\tlearn: 0.2337186\ttotal: 999ms\tremaining: 199ms\n",
      "2750:\tlearn: 0.2204270\ttotal: 1.1s\tremaining: 99.2ms\n",
      "2999:\tlearn: 0.2086438\ttotal: 1.2s\tremaining: 0us\n",
      "0:\tlearn: 0.6893042\ttotal: 418us\tremaining: 1.25s\n",
      "250:\tlearn: 0.4579473\ttotal: 101ms\tremaining: 1.11s\n",
      "500:\tlearn: 0.4119273\ttotal: 201ms\tremaining: 1s\n",
      "750:\tlearn: 0.3751543\ttotal: 300ms\tremaining: 897ms\n",
      "1000:\tlearn: 0.3466064\ttotal: 401ms\tremaining: 801ms\n",
      "1250:\tlearn: 0.3196291\ttotal: 501ms\tremaining: 700ms\n",
      "1500:\tlearn: 0.2946633\ttotal: 603ms\tremaining: 602ms\n",
      "1750:\tlearn: 0.2741819\ttotal: 704ms\tremaining: 502ms\n",
      "2000:\tlearn: 0.2564401\ttotal: 805ms\tremaining: 402ms\n",
      "2250:\tlearn: 0.2402318\ttotal: 905ms\tremaining: 301ms\n",
      "2500:\tlearn: 0.2255316\ttotal: 1s\tremaining: 201ms\n",
      "2750:\tlearn: 0.2121186\ttotal: 1.1s\tremaining: 100ms\n",
      "2999:\tlearn: 0.1997487\ttotal: 1.21s\tremaining: 0us\n",
      "0:\tlearn: 0.6893749\ttotal: 472us\tremaining: 1.42s\n",
      "250:\tlearn: 0.4664826\ttotal: 95.6ms\tremaining: 1.05s\n",
      "500:\tlearn: 0.4193903\ttotal: 191ms\tremaining: 953ms\n",
      "750:\tlearn: 0.3844898\ttotal: 288ms\tremaining: 861ms\n",
      "1000:\tlearn: 0.3535883\ttotal: 384ms\tremaining: 767ms\n",
      "1250:\tlearn: 0.3249181\ttotal: 483ms\tremaining: 676ms\n",
      "1500:\tlearn: 0.3015499\ttotal: 581ms\tremaining: 581ms\n",
      "1750:\tlearn: 0.2820704\ttotal: 681ms\tremaining: 485ms\n",
      "2000:\tlearn: 0.2643686\ttotal: 780ms\tremaining: 389ms\n",
      "2250:\tlearn: 0.2485469\ttotal: 882ms\tremaining: 293ms\n",
      "2500:\tlearn: 0.2339009\ttotal: 982ms\tremaining: 196ms\n",
      "2750:\tlearn: 0.2203301\ttotal: 1.08s\tremaining: 98ms\n",
      "2999:\tlearn: 0.2079991\ttotal: 1.18s\tremaining: 0us\n",
      "0:\tlearn: 0.6890413\ttotal: 383us\tremaining: 1.15s\n",
      "250:\tlearn: 0.4675396\ttotal: 96.9ms\tremaining: 1.06s\n",
      "500:\tlearn: 0.4206171\ttotal: 198ms\tremaining: 986ms\n",
      "750:\tlearn: 0.3847055\ttotal: 294ms\tremaining: 880ms\n",
      "1000:\tlearn: 0.3525119\ttotal: 391ms\tremaining: 781ms\n",
      "1250:\tlearn: 0.3247515\ttotal: 491ms\tremaining: 686ms\n",
      "1500:\tlearn: 0.3018851\ttotal: 589ms\tremaining: 588ms\n",
      "1750:\tlearn: 0.2825269\ttotal: 686ms\tremaining: 489ms\n",
      "2000:\tlearn: 0.2649058\ttotal: 786ms\tremaining: 393ms\n",
      "2250:\tlearn: 0.2490214\ttotal: 884ms\tremaining: 294ms\n",
      "2500:\tlearn: 0.2344928\ttotal: 986ms\tremaining: 197ms\n",
      "2750:\tlearn: 0.2208398\ttotal: 1.08s\tremaining: 98.2ms\n",
      "2999:\tlearn: 0.2085333\ttotal: 1.18s\tremaining: 0us\n",
      "0:\tlearn: 0.6892446\ttotal: 422us\tremaining: 1.27s\n",
      "250:\tlearn: 0.4575262\ttotal: 99.2ms\tremaining: 1.09s\n",
      "500:\tlearn: 0.4043629\ttotal: 198ms\tremaining: 988ms\n",
      "750:\tlearn: 0.3624648\ttotal: 297ms\tremaining: 891ms\n",
      "1000:\tlearn: 0.3276211\ttotal: 396ms\tremaining: 792ms\n",
      "1250:\tlearn: 0.3004669\ttotal: 495ms\tremaining: 691ms\n",
      "1500:\tlearn: 0.2777303\ttotal: 594ms\tremaining: 593ms\n",
      "1750:\tlearn: 0.2576503\ttotal: 693ms\tremaining: 494ms\n",
      "2000:\tlearn: 0.2390075\ttotal: 790ms\tremaining: 394ms\n",
      "2250:\tlearn: 0.2216376\ttotal: 892ms\tremaining: 297ms\n",
      "2500:\tlearn: 0.2067787\ttotal: 991ms\tremaining: 198ms\n",
      "2750:\tlearn: 0.1935310\ttotal: 1.09s\tremaining: 98.5ms\n",
      "2999:\tlearn: 0.1822185\ttotal: 1.19s\tremaining: 0us\n",
      "0:\tlearn: 0.6893652\ttotal: 1.07ms\tremaining: 3.23s\n",
      "250:\tlearn: 0.4658309\ttotal: 99.1ms\tremaining: 1.08s\n",
      "500:\tlearn: 0.4184318\ttotal: 199ms\tremaining: 995ms\n",
      "750:\tlearn: 0.3834885\ttotal: 302ms\tremaining: 904ms\n",
      "1000:\tlearn: 0.3509689\ttotal: 403ms\tremaining: 805ms\n",
      "1250:\tlearn: 0.3227248\ttotal: 505ms\tremaining: 706ms\n",
      "1500:\tlearn: 0.2990221\ttotal: 604ms\tremaining: 604ms\n",
      "1750:\tlearn: 0.2791825\ttotal: 706ms\tremaining: 504ms\n",
      "2000:\tlearn: 0.2614601\ttotal: 806ms\tremaining: 402ms\n",
      "2250:\tlearn: 0.2455962\ttotal: 906ms\tremaining: 301ms\n",
      "2500:\tlearn: 0.2314730\ttotal: 1.01s\tremaining: 201ms\n",
      "2750:\tlearn: 0.2184657\ttotal: 1.11s\tremaining: 100ms\n",
      "2999:\tlearn: 0.2062875\ttotal: 1.21s\tremaining: 0us\n",
      "0:\tlearn: 0.6890456\ttotal: 565us\tremaining: 1.7s\n",
      "250:\tlearn: 0.4697966\ttotal: 104ms\tremaining: 1.14s\n",
      "500:\tlearn: 0.4221449\ttotal: 203ms\tremaining: 1.01s\n",
      "750:\tlearn: 0.3855775\ttotal: 299ms\tremaining: 895ms\n",
      "1000:\tlearn: 0.3535732\ttotal: 400ms\tremaining: 799ms\n",
      "1250:\tlearn: 0.3248880\ttotal: 500ms\tremaining: 699ms\n",
      "1500:\tlearn: 0.3019032\ttotal: 597ms\tremaining: 596ms\n",
      "1750:\tlearn: 0.2825485\ttotal: 699ms\tremaining: 498ms\n",
      "2000:\tlearn: 0.2646501\ttotal: 802ms\tremaining: 400ms\n",
      "2250:\tlearn: 0.2495547\ttotal: 902ms\tremaining: 300ms\n",
      "2500:\tlearn: 0.2350921\ttotal: 997ms\tremaining: 199ms\n",
      "2750:\tlearn: 0.2215710\ttotal: 1.1s\tremaining: 99.3ms\n",
      "2999:\tlearn: 0.2097991\ttotal: 1.2s\tremaining: 0us\n",
      "0:\tlearn: 0.6894009\ttotal: 445us\tremaining: 1.33s\n",
      "250:\tlearn: 0.4677116\ttotal: 103ms\tremaining: 1.12s\n",
      "500:\tlearn: 0.4211705\ttotal: 198ms\tremaining: 986ms\n",
      "750:\tlearn: 0.3858475\ttotal: 290ms\tremaining: 869ms\n",
      "1000:\tlearn: 0.3539338\ttotal: 387ms\tremaining: 774ms\n",
      "1250:\tlearn: 0.3253022\ttotal: 484ms\tremaining: 676ms\n",
      "1500:\tlearn: 0.3028332\ttotal: 582ms\tremaining: 582ms\n",
      "1750:\tlearn: 0.2833999\ttotal: 677ms\tremaining: 483ms\n",
      "2000:\tlearn: 0.2655084\ttotal: 773ms\tremaining: 386ms\n",
      "2250:\tlearn: 0.2491630\ttotal: 872ms\tremaining: 290ms\n",
      "2500:\tlearn: 0.2343091\ttotal: 971ms\tremaining: 194ms\n",
      "2750:\tlearn: 0.2208846\ttotal: 1.07s\tremaining: 96.7ms\n",
      "2999:\tlearn: 0.2089404\ttotal: 1.16s\tremaining: 0us\n",
      "0:\tlearn: 0.6892701\ttotal: 435us\tremaining: 1.3s\n",
      "250:\tlearn: 0.4603338\ttotal: 96.7ms\tremaining: 1.06s\n",
      "500:\tlearn: 0.4112722\ttotal: 195ms\tremaining: 973ms\n",
      "750:\tlearn: 0.3721004\ttotal: 294ms\tremaining: 881ms\n",
      "1000:\tlearn: 0.3419690\ttotal: 389ms\tremaining: 777ms\n",
      "1250:\tlearn: 0.3139293\ttotal: 485ms\tremaining: 678ms\n",
      "1500:\tlearn: 0.2911407\ttotal: 584ms\tremaining: 583ms\n",
      "1750:\tlearn: 0.2714360\ttotal: 683ms\tremaining: 487ms\n",
      "2000:\tlearn: 0.2538039\ttotal: 778ms\tremaining: 389ms\n",
      "2250:\tlearn: 0.2379682\ttotal: 875ms\tremaining: 291ms\n",
      "2500:\tlearn: 0.2234352\ttotal: 972ms\tremaining: 194ms\n",
      "2750:\tlearn: 0.2104192\ttotal: 1.07s\tremaining: 96.6ms\n",
      "2999:\tlearn: 0.1985461\ttotal: 1.17s\tremaining: 0us\n",
      "0:\tlearn: 0.6904260\ttotal: 450us\tremaining: 1.35s\n",
      "250:\tlearn: 0.4987380\ttotal: 89.2ms\tremaining: 977ms\n",
      "500:\tlearn: 0.4489739\ttotal: 186ms\tremaining: 930ms\n",
      "750:\tlearn: 0.4096141\ttotal: 280ms\tremaining: 839ms\n",
      "1000:\tlearn: 0.3704046\ttotal: 374ms\tremaining: 747ms\n",
      "1250:\tlearn: 0.3377076\ttotal: 468ms\tremaining: 654ms\n",
      "1500:\tlearn: 0.3102557\ttotal: 565ms\tremaining: 564ms\n",
      "1750:\tlearn: 0.2879903\ttotal: 662ms\tremaining: 472ms\n",
      "2000:\tlearn: 0.2690317\ttotal: 758ms\tremaining: 378ms\n",
      "2250:\tlearn: 0.2519764\ttotal: 849ms\tremaining: 283ms\n",
      "2500:\tlearn: 0.2372010\ttotal: 944ms\tremaining: 188ms\n",
      "2750:\tlearn: 0.2240323\ttotal: 1.04s\tremaining: 94ms\n",
      "2999:\tlearn: 0.2124653\ttotal: 1.13s\tremaining: 0us\n",
      "0:\tlearn: 0.6920084\ttotal: 501us\tremaining: 1.5s\n",
      "250:\tlearn: 0.5644777\ttotal: 96ms\tremaining: 1.05s\n",
      "500:\tlearn: 0.5159259\ttotal: 190ms\tremaining: 945ms\n",
      "750:\tlearn: 0.4715630\ttotal: 285ms\tremaining: 854ms\n",
      "1000:\tlearn: 0.4267844\ttotal: 377ms\tremaining: 753ms\n",
      "1250:\tlearn: 0.3889782\ttotal: 473ms\tremaining: 661ms\n",
      "1500:\tlearn: 0.3570122\ttotal: 570ms\tremaining: 569ms\n",
      "1750:\tlearn: 0.3299929\ttotal: 666ms\tremaining: 475ms\n",
      "2000:\tlearn: 0.3059195\ttotal: 764ms\tremaining: 382ms\n",
      "2250:\tlearn: 0.2848483\ttotal: 852ms\tremaining: 284ms\n",
      "2500:\tlearn: 0.2652331\ttotal: 946ms\tremaining: 189ms\n",
      "2750:\tlearn: 0.2475457\ttotal: 1.04s\tremaining: 94.3ms\n",
      "2999:\tlearn: 0.2313618\ttotal: 1.14s\tremaining: 0us\n"
     ]
    },
    {
     "data": {
      "text/plain": "<aif360.algorithms.inprocessing.exponentiated_gradient_reduction.ExponentiatedGradientReduction at 0x29e4d6560>"
     },
     "execution_count": 57,
     "metadata": {},
     "output_type": "execute_result"
    }
   ],
   "source": [
    "reduction_aif.fit(dataset_aif360_train)"
   ],
   "metadata": {
    "collapsed": false
   },
   "id": "a29342aaee0084b2",
   "execution_count": 57
  },
  {
   "cell_type": "code",
   "outputs": [],
   "source": [
    "y_pred_reduced_aif = reduction_aif.predict(dataset_aif360_test).labels"
   ],
   "metadata": {
    "collapsed": false
   },
   "id": "a1aad58bc7247fb9",
   "execution_count": 77
  },
  {
   "cell_type": "code",
   "outputs": [
    {
     "data": {
      "text/plain": "-0.09573934837092724"
     },
     "execution_count": 78,
     "metadata": {},
     "output_type": "execute_result"
    }
   ],
   "source": [
    "statistical_parity_difference(y_test, y_pred_reduced_aif, prot_attr=z_test, priv_group=3)"
   ],
   "metadata": {
    "collapsed": false
   },
   "id": "5e9b9f87160a379a",
   "execution_count": 78
  },
  {
   "cell_type": "code",
   "outputs": [
    {
     "data": {
      "text/plain": "0.8788839568801523"
     },
     "execution_count": 80,
     "metadata": {},
     "output_type": "execute_result"
    }
   ],
   "source": [
    "disparate_impact_ratio(y_test, y_pred_reduced_aif, prot_attr=z_test, priv_group=3)"
   ],
   "metadata": {
    "collapsed": false
   },
   "id": "be7704164e7c7b68",
   "execution_count": 80
  }
 ],
 "metadata": {
  "kernelspec": {
   "display_name": "Python 3",
   "language": "python",
   "name": "python3"
  },
  "language_info": {
   "codemirror_mode": {
    "name": "ipython",
    "version": 2
   },
   "file_extension": ".py",
   "mimetype": "text/x-python",
   "name": "python",
   "nbconvert_exporter": "python",
   "pygments_lexer": "ipython2",
   "version": "2.7.6"
  }
 },
 "nbformat": 4,
 "nbformat_minor": 5
}
