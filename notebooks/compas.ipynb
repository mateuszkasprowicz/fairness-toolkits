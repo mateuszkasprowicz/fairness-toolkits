{
 "cells": [
  {
   "cell_type": "markdown",
   "source": [
    "# Evaluating Fairness in Machine Learning: Comparative Analysis and Benchmarking of Fairlearn and AIF360 | COMPAS Recidivism Dataset"
   ],
   "metadata": {
    "collapsed": false
   },
   "id": "3dab28c6a8ebdde5"
  },
  {
   "cell_type": "code",
   "execution_count": 112,
   "outputs": [],
   "source": [
    "import os\n",
    "import random\n",
    "\n",
    "import pandas as pd\n",
    "import numpy as np\n",
    "\n",
    "from sklearn.model_selection import train_test_split\n",
    "from catboost import CatBoostClassifier\n",
    "\n",
    "from src.constants import RANDOM_STATE, DEFAULT_MODEL_CONFIG"
   ],
   "metadata": {
    "collapsed": false,
    "ExecuteTime": {
     "end_time": "2024-03-15T18:04:17.959776600Z",
     "start_time": "2024-03-15T18:04:17.946348400Z"
    }
   },
   "id": "initial_id"
  },
  {
   "cell_type": "markdown",
   "source": [
    "## Ensure reproducibility\n",
    "\n",
    "Set random seeds for reproducibility."
   ],
   "metadata": {
    "collapsed": false
   },
   "id": "18bb741c498fb006"
  },
  {
   "cell_type": "code",
   "execution_count": 114,
   "outputs": [],
   "source": [
    "np.random.seed(RANDOM_STATE)\n",
    "os.environ[\"PYTHONHASHSEED\"] = str(RANDOM_STATE)\n",
    "random.seed(RANDOM_STATE)"
   ],
   "metadata": {
    "collapsed": false,
    "ExecuteTime": {
     "end_time": "2024-03-15T18:04:39.622197900Z",
     "start_time": "2024-03-15T18:04:39.604548200Z"
    }
   },
   "id": "e16484de6065a680"
  },
  {
   "cell_type": "markdown",
   "source": [
    "## Load data"
   ],
   "metadata": {
    "collapsed": false
   },
   "id": "186976c34c79d08d"
  },
  {
   "cell_type": "code",
   "execution_count": 115,
   "outputs": [],
   "source": [
    "FEATURES = [\"sex\",\n",
    "            \"age\",\n",
    "            \"age_cat\",\n",
    "            \"race\",\n",
    "            \"juv_fel_count\",\n",
    "            \"juv_misd_count\",\n",
    "            \"juv_other_count\",\n",
    "            \"priors_count\",\n",
    "            \"days_b_screening_arrest\",\n",
    "            \"c_days_from_compas\",\n",
    "            \"c_charge_degree\",\n",
    "            \"decile_score.1\",\n",
    "            \"score_text\",\n",
    "            \"v_type_of_assessment\",\n",
    "            \"v_decile_score\",\n",
    "            \"v_score_text\",\n",
    "            \"end\",\n",
    "            ]\n",
    "TARGET = [\"is_recid\"]"
   ],
   "metadata": {
    "collapsed": false,
    "ExecuteTime": {
     "end_time": "2024-03-15T18:04:45.574523200Z",
     "start_time": "2024-03-15T18:04:45.559774800Z"
    }
   },
   "id": "32859a047b63d96e"
  },
  {
   "cell_type": "code",
   "execution_count": 116,
   "outputs": [],
   "source": [
    "data = pd.read_csv(\"../data/compas-scores-two-years.csv\", usecols=FEATURES + TARGET)"
   ],
   "metadata": {
    "collapsed": false,
    "ExecuteTime": {
     "end_time": "2024-03-15T18:04:46.417578Z",
     "start_time": "2024-03-15T18:04:46.365498600Z"
    }
   },
   "id": "b2d5a6bf84200a1"
  },
  {
   "cell_type": "code",
   "execution_count": 117,
   "outputs": [
    {
     "name": "stdout",
     "output_type": "stream",
     "text": [
      "<class 'pandas.core.frame.DataFrame'>\n",
      "RangeIndex: 7214 entries, 0 to 7213\n",
      "Data columns (total 18 columns):\n",
      " #   Column                   Non-Null Count  Dtype  \n",
      "---  ------                   --------------  -----  \n",
      " 0   sex                      7214 non-null   object \n",
      " 1   age                      7214 non-null   int64  \n",
      " 2   age_cat                  7214 non-null   object \n",
      " 3   race                     7214 non-null   object \n",
      " 4   juv_fel_count            7214 non-null   int64  \n",
      " 5   juv_misd_count           7214 non-null   int64  \n",
      " 6   juv_other_count          7214 non-null   int64  \n",
      " 7   priors_count             7214 non-null   int64  \n",
      " 8   days_b_screening_arrest  6907 non-null   float64\n",
      " 9   c_days_from_compas       7192 non-null   float64\n",
      " 10  c_charge_degree          7214 non-null   object \n",
      " 11  is_recid                 7214 non-null   int64  \n",
      " 12  decile_score.1           7214 non-null   int64  \n",
      " 13  score_text               7214 non-null   object \n",
      " 14  v_type_of_assessment     7214 non-null   object \n",
      " 15  v_decile_score           7214 non-null   int64  \n",
      " 16  v_score_text             7214 non-null   object \n",
      " 17  end                      7214 non-null   int64  \n",
      "dtypes: float64(2), int64(9), object(7)\n",
      "memory usage: 1014.6+ KB\n"
     ]
    }
   ],
   "source": [
    "data.info()"
   ],
   "metadata": {
    "collapsed": false,
    "ExecuteTime": {
     "end_time": "2024-03-15T18:04:46.527668700Z",
     "start_time": "2024-03-15T18:04:46.508292300Z"
    }
   },
   "id": "818a51de8d431774"
  },
  {
   "cell_type": "code",
   "execution_count": 118,
   "outputs": [],
   "source": [
    "y = data.loc[:, *TARGET]\n",
    "z = data.loc[:, \"race\"]\n",
    "X = data.drop(columns=TARGET)"
   ],
   "metadata": {
    "collapsed": false,
    "ExecuteTime": {
     "end_time": "2024-03-15T18:04:48.458372400Z",
     "start_time": "2024-03-15T18:04:48.446844300Z"
    }
   },
   "id": "d4355e31612e83b1"
  },
  {
   "cell_type": "code",
   "execution_count": 101,
   "outputs": [],
   "source": [
    "X_train, X_test, y_train, y_test, z_train, z_test = train_test_split(X, y, z, test_size=0.2, random_state=RANDOM_STATE, stratify=y)"
   ],
   "metadata": {
    "collapsed": false,
    "ExecuteTime": {
     "end_time": "2024-03-15T17:54:21.228698400Z",
     "start_time": "2024-03-15T17:54:21.155232800Z"
    }
   },
   "id": "14adf46e9fb5a995"
  },
  {
   "cell_type": "code",
   "execution_count": 119,
   "outputs": [],
   "source": [
    "MODEL_CONFIG = dict(DEFAULT_MODEL_CONFIG, cat_features=X.select_dtypes(\"object\").columns.to_list())"
   ],
   "metadata": {
    "collapsed": false,
    "ExecuteTime": {
     "end_time": "2024-03-15T18:06:43.962236900Z",
     "start_time": "2024-03-15T18:06:43.940849700Z"
    }
   },
   "id": "77bed94dd8d730aa"
  },
  {
   "cell_type": "code",
   "execution_count": 120,
   "outputs": [],
   "source": [
    "model = CatBoostClassifier(**MODEL_CONFIG)"
   ],
   "metadata": {
    "collapsed": false,
    "ExecuteTime": {
     "end_time": "2024-03-15T18:06:45.133400500Z",
     "start_time": "2024-03-15T18:06:45.124075600Z"
    }
   },
   "id": "decc0e42c91fa4f1"
  },
  {
   "cell_type": "code",
   "execution_count": 121,
   "outputs": [
    {
     "name": "stdout",
     "output_type": "stream",
     "text": [
      "0:\tlearn: 0.6844627\ttotal: 20ms\tremaining: 60s\n",
      "250:\tlearn: 0.3213289\ttotal: 18.4s\tremaining: 3m 21s\n",
      "500:\tlearn: 0.3093007\ttotal: 24.8s\tremaining: 2m 3s\n",
      "750:\tlearn: 0.3036685\ttotal: 39.5s\tremaining: 1m 58s\n",
      "1000:\tlearn: 0.2989033\ttotal: 59s\tremaining: 1m 57s\n",
      "1250:\tlearn: 0.2949101\ttotal: 1m 20s\tremaining: 1m 51s\n",
      "1500:\tlearn: 0.2914104\ttotal: 1m 31s\tremaining: 1m 31s\n",
      "1750:\tlearn: 0.2886387\ttotal: 2m 3s\tremaining: 1m 28s\n",
      "2000:\tlearn: 0.2861932\ttotal: 2m 16s\tremaining: 1m 8s\n",
      "2250:\tlearn: 0.2838329\ttotal: 2m 26s\tremaining: 48.8s\n",
      "2500:\tlearn: 0.2818264\ttotal: 2m 32s\tremaining: 30.5s\n",
      "2750:\tlearn: 0.2797286\ttotal: 2m 39s\tremaining: 14.4s\n",
      "2999:\tlearn: 0.2777593\ttotal: 2m 45s\tremaining: 0us\n"
     ]
    },
    {
     "data": {
      "text/plain": "<catboost.core.CatBoostClassifier at 0x1c08c7a4150>"
     },
     "execution_count": 121,
     "metadata": {},
     "output_type": "execute_result"
    }
   ],
   "source": [
    "model.fit(X_train, y_train)"
   ],
   "metadata": {
    "collapsed": false,
    "ExecuteTime": {
     "end_time": "2024-03-15T18:09:32.353697400Z",
     "start_time": "2024-03-15T18:06:45.716875100Z"
    }
   },
   "id": "4d3290acf9a8a01"
  },
  {
   "cell_type": "code",
   "execution_count": 108,
   "outputs": [],
   "source": [
    "y_pred = model.predict(X_test)"
   ],
   "metadata": {
    "collapsed": false,
    "ExecuteTime": {
     "end_time": "2024-03-15T17:58:36.068234400Z",
     "start_time": "2024-03-15T17:58:36.034219500Z"
    }
   },
   "id": "273817d998d1c159"
  },
  {
   "cell_type": "markdown",
   "source": [
    "## Detection"
   ],
   "metadata": {
    "collapsed": false
   },
   "id": "60c118c1cf05c8e8"
  },
  {
   "cell_type": "code",
   "execution_count": 109,
   "outputs": [],
   "source": [
    "from fairlearn.metrics import demographic_parity_ratio, demographic_parity_difference, equalized_odds_ratio"
   ],
   "metadata": {
    "collapsed": false,
    "ExecuteTime": {
     "end_time": "2024-03-15T17:58:36.540332300Z",
     "start_time": "2024-03-15T17:58:36.521754300Z"
    }
   },
   "id": "d15f9e047e368a71"
  },
  {
   "cell_type": "code",
   "execution_count": 110,
   "outputs": [
    {
     "data": {
      "text/plain": "0.33783783783783783"
     },
     "execution_count": 110,
     "metadata": {},
     "output_type": "execute_result"
    }
   ],
   "source": [
    "demographic_parity_ratio(y_test, y_pred, sensitive_features=z_test)\n"
   ],
   "metadata": {
    "collapsed": false,
    "ExecuteTime": {
     "end_time": "2024-03-15T17:58:37.177160Z",
     "start_time": "2024-03-15T17:58:37.124470900Z"
    }
   },
   "id": "5e6e573628dcae13"
  },
  {
   "cell_type": "markdown",
   "source": [
    "## Mitigation"
   ],
   "metadata": {
    "collapsed": false
   },
   "id": "2de94abc45d20ecf"
  },
  {
   "cell_type": "code",
   "execution_count": null,
   "outputs": [],
   "source": [],
   "metadata": {
    "collapsed": false
   },
   "id": "82764cf5351da633"
  }
 ],
 "metadata": {
  "kernelspec": {
   "display_name": "Python 3",
   "language": "python",
   "name": "python3"
  },
  "language_info": {
   "codemirror_mode": {
    "name": "ipython",
    "version": 2
   },
   "file_extension": ".py",
   "mimetype": "text/x-python",
   "name": "python",
   "nbconvert_exporter": "python",
   "pygments_lexer": "ipython2",
   "version": "2.7.6"
  }
 },
 "nbformat": 4,
 "nbformat_minor": 5
}
