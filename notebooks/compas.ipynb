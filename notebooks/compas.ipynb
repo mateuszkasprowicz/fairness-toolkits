{
 "cells": [
  {
   "cell_type": "markdown",
   "source": [
    "# Evaluating Fairness in Machine Learning: Comparative Analysis and Benchmarking of Fairlearn and AIF360 | COMPAS Recidivism Dataset"
   ],
   "metadata": {
    "collapsed": false
   },
   "id": "3dab28c6a8ebdde5"
  },
  {
   "cell_type": "code",
   "execution_count": 2,
   "outputs": [
    {
     "name": "stderr",
     "output_type": "stream",
     "text": [
      "/opt/homebrew/Caskroom/miniconda/base/envs/fairness-toolkits/lib/python3.10/site-packages/torch/_functorch/deprecated.py:61: UserWarning: We've integrated functorch into PyTorch. As the final step of the integration, functorch.vmap is deprecated as of PyTorch 2.0 and will be deleted in a future version of PyTorch >= 2.3. Please use torch.vmap instead; see the PyTorch 2.0 release notes and/or the torch.func migration guide for more details https://pytorch.org/docs/master/func.migrating.html\n",
      "  warn_deprecated('vmap', 'torch.vmap')\n"
     ]
    }
   ],
   "source": [
    "%load_ext autoreload\n",
    "%autoreload 2\n",
    "\n",
    "import os\n",
    "import random\n",
    "\n",
    "import pandas as pd\n",
    "import numpy as np\n",
    "from matplotlib import pyplot as plt\n",
    "import sklearn\n",
    "from sklearn.metrics import classification_report\n",
    "from sklearn.model_selection import train_test_split\n",
    "from catboost import CatBoostClassifier\n",
    "\n",
    "from src.constants import RANDOM_STATE, DEFAULT_MODEL_CONFIG, METRICFRAME_METRICS\n",
    "from src.evaluation import plot_roc, print_confusion_matrix, calculate_fairlearn_metrics, calculate_aif360_metrics"
   ],
   "metadata": {
    "collapsed": false,
    "ExecuteTime": {
     "end_time": "2024-03-28T11:46:45.361880Z",
     "start_time": "2024-03-28T11:46:38.295646Z"
    }
   },
   "id": "initial_id"
  },
  {
   "cell_type": "code",
   "outputs": [],
   "source": [
    "sklearn.set_config(transform_output=\"pandas\")"
   ],
   "metadata": {
    "collapsed": false,
    "ExecuteTime": {
     "end_time": "2024-03-28T11:46:45.372512Z",
     "start_time": "2024-03-28T11:46:45.340958Z"
    }
   },
   "id": "bf0ab92c3bdf0a93",
   "execution_count": 3
  },
  {
   "cell_type": "markdown",
   "source": [
    "## Ensure reproducibility\n",
    "\n",
    "Set random seeds for reproducibility."
   ],
   "metadata": {
    "collapsed": false
   },
   "id": "18bb741c498fb006"
  },
  {
   "cell_type": "code",
   "execution_count": 4,
   "outputs": [],
   "source": [
    "np.random.seed(RANDOM_STATE)\n",
    "os.environ[\"PYTHONHASHSEED\"] = str(RANDOM_STATE)\n",
    "random.seed(RANDOM_STATE)"
   ],
   "metadata": {
    "collapsed": false,
    "ExecuteTime": {
     "end_time": "2024-03-28T11:46:45.391949Z",
     "start_time": "2024-03-28T11:46:45.363827Z"
    }
   },
   "id": "e16484de6065a680"
  },
  {
   "cell_type": "markdown",
   "source": [
    "## Load data"
   ],
   "metadata": {
    "collapsed": false
   },
   "id": "186976c34c79d08d"
  },
  {
   "cell_type": "code",
   "execution_count": 5,
   "outputs": [],
   "source": [
    "FEATURES = [\"sex\",\n",
    "            \"age\",\n",
    "            \"age_cat\",\n",
    "            \"race\",\n",
    "            \"juv_fel_count\",\n",
    "            \"juv_misd_count\",\n",
    "            \"juv_other_count\",\n",
    "            \"priors_count\",\n",
    "            \"days_b_screening_arrest\",\n",
    "            \"c_days_from_compas\",\n",
    "            \"c_charge_degree\",\n",
    "            \"decile_score.1\",\n",
    "            \"score_text\",\n",
    "            \"v_type_of_assessment\",\n",
    "            \"v_decile_score\",\n",
    "            \"v_score_text\",\n",
    "            \"end\",\n",
    "            ]\n",
    "TARGET = \"is_recid\"\n",
    "PROTECTED_ATTRIBUTE = \"race\""
   ],
   "metadata": {
    "collapsed": false,
    "ExecuteTime": {
     "end_time": "2024-03-28T11:46:45.423845Z",
     "start_time": "2024-03-28T11:46:45.392075Z"
    }
   },
   "id": "32859a047b63d96e"
  },
  {
   "cell_type": "code",
   "execution_count": 6,
   "outputs": [],
   "source": [
    "data_raw = pd.read_csv(\"../data/compas-scores-two-years.csv\", usecols=[*FEATURES, TARGET])\n",
    "data = data_raw.copy()"
   ],
   "metadata": {
    "collapsed": false,
    "ExecuteTime": {
     "end_time": "2024-03-28T11:46:45.464228Z",
     "start_time": "2024-03-28T11:46:45.419913Z"
    }
   },
   "id": "b2d5a6bf84200a1"
  },
  {
   "cell_type": "code",
   "execution_count": 7,
   "outputs": [
    {
     "name": "stdout",
     "output_type": "stream",
     "text": [
      "<class 'pandas.core.frame.DataFrame'>\n",
      "RangeIndex: 7214 entries, 0 to 7213\n",
      "Data columns (total 18 columns):\n",
      " #   Column                   Non-Null Count  Dtype  \n",
      "---  ------                   --------------  -----  \n",
      " 0   sex                      7214 non-null   object \n",
      " 1   age                      7214 non-null   int64  \n",
      " 2   age_cat                  7214 non-null   object \n",
      " 3   race                     7214 non-null   object \n",
      " 4   juv_fel_count            7214 non-null   int64  \n",
      " 5   juv_misd_count           7214 non-null   int64  \n",
      " 6   juv_other_count          7214 non-null   int64  \n",
      " 7   priors_count             7214 non-null   int64  \n",
      " 8   days_b_screening_arrest  6907 non-null   float64\n",
      " 9   c_days_from_compas       7192 non-null   float64\n",
      " 10  c_charge_degree          7214 non-null   object \n",
      " 11  is_recid                 7214 non-null   int64  \n",
      " 12  decile_score.1           7214 non-null   int64  \n",
      " 13  score_text               7214 non-null   object \n",
      " 14  v_type_of_assessment     7214 non-null   object \n",
      " 15  v_decile_score           7214 non-null   int64  \n",
      " 16  v_score_text             7214 non-null   object \n",
      " 17  end                      7214 non-null   int64  \n",
      "dtypes: float64(2), int64(9), object(7)\n",
      "memory usage: 1014.6+ KB\n"
     ]
    }
   ],
   "source": [
    "data.info()"
   ],
   "metadata": {
    "collapsed": false,
    "ExecuteTime": {
     "end_time": "2024-03-28T11:46:45.498376Z",
     "start_time": "2024-03-28T11:46:45.464841Z"
    }
   },
   "id": "818a51de8d431774"
  },
  {
   "cell_type": "code",
   "outputs": [
    {
     "data": {
      "text/plain": "sex                          0\nage                          0\nage_cat                      0\nrace                         0\njuv_fel_count                0\njuv_misd_count               0\njuv_other_count              0\npriors_count                 0\ndays_b_screening_arrest    307\nc_days_from_compas          22\nc_charge_degree              0\nis_recid                     0\ndecile_score.1               0\nscore_text                   0\nv_type_of_assessment         0\nv_decile_score               0\nv_score_text                 0\nend                          0\ndtype: int64"
     },
     "execution_count": 8,
     "metadata": {},
     "output_type": "execute_result"
    }
   ],
   "source": [
    "data.isna().sum()"
   ],
   "metadata": {
    "collapsed": false,
    "ExecuteTime": {
     "end_time": "2024-03-28T11:46:45.527508Z",
     "start_time": "2024-03-28T11:46:45.496851Z"
    }
   },
   "id": "88277b5b5e0ccc55",
   "execution_count": 8
  },
  {
   "cell_type": "code",
   "outputs": [
    {
     "data": {
      "text/plain": "is_recid\n0    3743\n1    3471\nName: count, dtype: int64"
     },
     "execution_count": 9,
     "metadata": {},
     "output_type": "execute_result"
    }
   ],
   "source": [
    "data[TARGET].value_counts()"
   ],
   "metadata": {
    "collapsed": false,
    "ExecuteTime": {
     "end_time": "2024-03-28T11:46:45.558462Z",
     "start_time": "2024-03-28T11:46:45.527961Z"
    }
   },
   "id": "a9cd41732403b358",
   "execution_count": 9
  },
  {
   "cell_type": "code",
   "outputs": [
    {
     "data": {
      "text/plain": "race\nAfrican-American    3696\nCaucasian           2454\nHispanic             637\nOther                377\nAsian                 32\nNative American       18\nName: count, dtype: int64"
     },
     "execution_count": 10,
     "metadata": {},
     "output_type": "execute_result"
    }
   ],
   "source": [
    "data[PROTECTED_ATTRIBUTE].value_counts()"
   ],
   "metadata": {
    "collapsed": false,
    "ExecuteTime": {
     "end_time": "2024-03-28T11:46:45.585999Z",
     "start_time": "2024-03-28T11:46:45.554922Z"
    }
   },
   "id": "d13747301732f89b",
   "execution_count": 10
  },
  {
   "cell_type": "code",
   "execution_count": 11,
   "outputs": [],
   "source": [
    "y = data[TARGET]\n",
    "z = data[PROTECTED_ATTRIBUTE]\n",
    "X = data.drop(columns=TARGET)"
   ],
   "metadata": {
    "collapsed": false,
    "ExecuteTime": {
     "end_time": "2024-03-28T11:46:45.618851Z",
     "start_time": "2024-03-28T11:46:45.584885Z"
    }
   },
   "id": "d4355e31612e83b1"
  },
  {
   "cell_type": "code",
   "execution_count": 12,
   "outputs": [],
   "source": [
    "X_train, X_test, y_train, y_test, z_train, z_test = train_test_split(X, y, z, test_size=0.2, random_state=RANDOM_STATE, stratify=y)"
   ],
   "metadata": {
    "collapsed": false,
    "ExecuteTime": {
     "end_time": "2024-03-28T11:46:45.655725Z",
     "start_time": "2024-03-28T11:46:45.611755Z"
    }
   },
   "id": "14adf46e9fb5a995"
  },
  {
   "cell_type": "code",
   "execution_count": 13,
   "outputs": [],
   "source": [
    "MODEL_CONFIG = dict(DEFAULT_MODEL_CONFIG, cat_features=X.select_dtypes(\"object\").columns.to_list())"
   ],
   "metadata": {
    "collapsed": false,
    "ExecuteTime": {
     "end_time": "2024-03-28T11:46:45.675242Z",
     "start_time": "2024-03-28T11:46:45.642754Z"
    }
   },
   "id": "77bed94dd8d730aa"
  },
  {
   "cell_type": "code",
   "execution_count": 14,
   "outputs": [],
   "source": [
    "default_model = CatBoostClassifier(**MODEL_CONFIG)\n",
    "model = default_model.copy()"
   ],
   "metadata": {
    "collapsed": false,
    "ExecuteTime": {
     "end_time": "2024-03-28T11:46:45.701738Z",
     "start_time": "2024-03-28T11:46:45.670661Z"
    }
   },
   "id": "decc0e42c91fa4f1"
  },
  {
   "cell_type": "code",
   "execution_count": 15,
   "outputs": [
    {
     "name": "stdout",
     "output_type": "stream",
     "text": [
      "0:\tlearn: 0.6844627\ttotal: 53.8ms\tremaining: 2m 41s\n",
      "250:\tlearn: 0.3208956\ttotal: 793ms\tremaining: 8.69s\n",
      "500:\tlearn: 0.3091280\ttotal: 1.71s\tremaining: 8.51s\n",
      "750:\tlearn: 0.3038870\ttotal: 2.94s\tremaining: 8.8s\n",
      "1000:\tlearn: 0.2994238\ttotal: 4.18s\tremaining: 8.36s\n",
      "1250:\tlearn: 0.2951383\ttotal: 5.34s\tremaining: 7.46s\n",
      "1500:\tlearn: 0.2916133\ttotal: 6.26s\tremaining: 6.25s\n",
      "1750:\tlearn: 0.2886633\ttotal: 6.93s\tremaining: 4.94s\n",
      "2000:\tlearn: 0.2859524\ttotal: 7.59s\tremaining: 3.79s\n",
      "2250:\tlearn: 0.2837542\ttotal: 8.56s\tremaining: 2.85s\n",
      "2500:\tlearn: 0.2815680\ttotal: 9.52s\tremaining: 1.9s\n",
      "2750:\tlearn: 0.2795766\ttotal: 10.7s\tremaining: 966ms\n",
      "2999:\tlearn: 0.2775952\ttotal: 12s\tremaining: 0us\n"
     ]
    },
    {
     "data": {
      "text/plain": "<catboost.core.CatBoostClassifier at 0x2ac10ed40>"
     },
     "execution_count": 15,
     "metadata": {},
     "output_type": "execute_result"
    }
   ],
   "source": [
    "model.fit(X_train, y_train)"
   ],
   "metadata": {
    "collapsed": false,
    "ExecuteTime": {
     "end_time": "2024-03-28T11:46:58.267752Z",
     "start_time": "2024-03-28T11:46:45.699319Z"
    }
   },
   "id": "4d3290acf9a8a01"
  },
  {
   "cell_type": "code",
   "outputs": [],
   "source": [
    "y_pred = pd.Series(model.predict(X_test), name=\"y_pred\", index=y_test.index)"
   ],
   "metadata": {
    "collapsed": false,
    "ExecuteTime": {
     "end_time": "2024-03-28T11:46:58.286998Z",
     "start_time": "2024-03-28T11:46:58.254702Z"
    }
   },
   "id": "f67f96145c3db7d3",
   "execution_count": 16
  },
  {
   "cell_type": "code",
   "outputs": [
    {
     "name": "stdout",
     "output_type": "stream",
     "text": [
      "              precision    recall  f1-score   support\n",
      "\n",
      "           0       0.92      0.84      0.88       749\n",
      "           1       0.84      0.92      0.88       694\n",
      "\n",
      "    accuracy                           0.88      1443\n",
      "   macro avg       0.88      0.88      0.88      1443\n",
      "weighted avg       0.88      0.88      0.88      1443\n"
     ]
    }
   ],
   "source": [
    "print(classification_report(y_test, y_pred))"
   ],
   "metadata": {
    "collapsed": false,
    "ExecuteTime": {
     "end_time": "2024-03-28T11:46:58.316420Z",
     "start_time": "2024-03-28T11:46:58.285598Z"
    }
   },
   "id": "f4aba63af4778038",
   "execution_count": 17
  },
  {
   "cell_type": "code",
   "outputs": [
    {
     "data": {
      "text/plain": "<Figure size 640x480 with 1 Axes>",
      "image/png": "[encoded data removed]"
     },
     "metadata": {},
     "output_type": "display_data"
    }
   ],
   "source": [
    "fig, ax = plt.subplots()\n",
    "plot_roc(model, X_test, y_test, ax)"
   ],
   "metadata": {
    "collapsed": false,
    "ExecuteTime": {
     "end_time": "2024-03-28T11:46:58.624257Z",
     "start_time": "2024-03-28T11:46:58.317320Z"
    }
   },
   "id": "b7538fc4f508c6eb",
   "execution_count": 18
  },
  {
   "cell_type": "code",
   "outputs": [
    {
     "name": "stdout",
     "output_type": "stream",
     "text": [
      "Confusion Matrix:\n",
      "[[631 118]\n",
      " [ 58 636]]\n"
     ]
    }
   ],
   "source": [
    "print_confusion_matrix(model, X_test, y_test)"
   ],
   "metadata": {
    "collapsed": false,
    "ExecuteTime": {
     "end_time": "2024-03-28T11:46:58.639331Z",
     "start_time": "2024-03-28T11:46:58.549112Z"
    }
   },
   "id": "26b716ccca5bf075",
   "execution_count": 19
  },
  {
   "cell_type": "markdown",
   "source": [
    "## Fairness assessment"
   ],
   "metadata": {
    "collapsed": false
   },
   "id": "8d80782915cebc43"
  },
  {
   "cell_type": "markdown",
   "source": [
    "### Fairlearn"
   ],
   "metadata": {
    "collapsed": false
   },
   "id": "82f35ea89e45b078"
  },
  {
   "cell_type": "markdown",
   "source": [
    "#### Detection"
   ],
   "metadata": {
    "collapsed": false
   },
   "id": "58116a90ba5b596d"
  },
  {
   "cell_type": "code",
   "outputs": [],
   "source": [
    "from fairlearn.metrics import MetricFrame"
   ],
   "metadata": {
    "collapsed": false,
    "ExecuteTime": {
     "end_time": "2024-03-28T11:46:58.664027Z",
     "start_time": "2024-03-28T11:46:58.638439Z"
    }
   },
   "id": "f7eb72540a03da40",
   "execution_count": 20
  },
  {
   "cell_type": "code",
   "outputs": [],
   "source": [
    "mf = MetricFrame(\n",
    "    metrics=METRICFRAME_METRICS,\n",
    "    y_true=y_test,\n",
    "    y_pred=y_pred,\n",
    "    sensitive_features=z_test,\n",
    "    random_state=RANDOM_STATE,\n",
    ")"
   ],
   "metadata": {
    "collapsed": false,
    "ExecuteTime": {
     "end_time": "2024-03-28T11:46:58.706790Z",
     "start_time": "2024-03-28T11:46:58.664548Z"
    }
   },
   "id": "7e6ed420653f6742",
   "execution_count": 21
  },
  {
   "cell_type": "code",
   "outputs": [
    {
     "data": {
      "text/plain": "tpr         0.916427\nfpr         0.157543\nsel         0.522523\ncount    1443.000000\ndtype: float64"
     },
     "execution_count": 22,
     "metadata": {},
     "output_type": "execute_result"
    }
   ],
   "source": [
    "mf.overall"
   ],
   "metadata": {
    "collapsed": false,
    "ExecuteTime": {
     "end_time": "2024-03-28T11:46:58.733955Z",
     "start_time": "2024-03-28T11:46:58.706857Z"
    }
   },
   "id": "bcb987b29f6a6790",
   "execution_count": 22
  },
  {
   "cell_type": "code",
   "outputs": [
    {
     "data": {
      "text/plain": "                       tpr       fpr       sel  count\nrace                                                 \nAfrican-American  0.919240  0.179739  0.607978  727.0\nAsian             0.666667  0.142857  0.300000   10.0\nCaucasian         0.914573  0.148649  0.456566  495.0\nHispanic          0.914894  0.137931  0.410448  134.0\nNative American   1.000000  0.000000  1.000000    3.0\nOther             0.904762  0.113208  0.337838   74.0",
      "text/html": "<div>\n<style scoped>\n    .dataframe tbody tr th:only-of-type {\n        vertical-align: middle;\n    }\n\n    .dataframe tbody tr th {\n        vertical-align: top;\n    }\n\n    .dataframe thead th {\n        text-align: right;\n    }\n</style>\n<table border=\"1\" class=\"dataframe\">\n  <thead>\n    <tr style=\"text-align: right;\">\n      <th></th>\n      <th>tpr</th>\n      <th>fpr</th>\n      <th>sel</th>\n      <th>count</th>\n    </tr>\n    <tr>\n      <th>race</th>\n      <th></th>\n      <th></th>\n      <th></th>\n      <th></th>\n    </tr>\n  </thead>\n  <tbody>\n    <tr>\n      <th>African-American</th>\n      <td>0.919240</td>\n      <td>0.179739</td>\n      <td>0.607978</td>\n      <td>727.0</td>\n    </tr>\n    <tr>\n      <th>Asian</th>\n      <td>0.666667</td>\n      <td>0.142857</td>\n      <td>0.300000</td>\n      <td>10.0</td>\n    </tr>\n    <tr>\n      <th>Caucasian</th>\n      <td>0.914573</td>\n      <td>0.148649</td>\n      <td>0.456566</td>\n      <td>495.0</td>\n    </tr>\n    <tr>\n      <th>Hispanic</th>\n      <td>0.914894</td>\n      <td>0.137931</td>\n      <td>0.410448</td>\n      <td>134.0</td>\n    </tr>\n    <tr>\n      <th>Native American</th>\n      <td>1.000000</td>\n      <td>0.000000</td>\n      <td>1.000000</td>\n      <td>3.0</td>\n    </tr>\n    <tr>\n      <th>Other</th>\n      <td>0.904762</td>\n      <td>0.113208</td>\n      <td>0.337838</td>\n      <td>74.0</td>\n    </tr>\n  </tbody>\n</table>\n</div>"
     },
     "execution_count": 23,
     "metadata": {},
     "output_type": "execute_result"
    }
   ],
   "source": [
    "mf.by_group"
   ],
   "metadata": {
    "collapsed": false,
    "ExecuteTime": {
     "end_time": "2024-03-28T11:46:58.764122Z",
     "start_time": "2024-03-28T11:46:58.734571Z"
    }
   },
   "id": "9c820a0c09e2a2ef",
   "execution_count": 23
  },
  {
   "cell_type": "code",
   "outputs": [
    {
     "data": {
      "text/plain": "                metric        type          method     value\n8   demographic_parity  difference  between_groups  0.700000\n10  demographic_parity  difference      to_overall  0.477477\n9   demographic_parity       ratio  between_groups  0.300000\n11  demographic_parity       ratio      to_overall  0.522523\n0    equal_opportunity  difference  between_groups  0.333333\n2    equal_opportunity  difference      to_overall  0.249760\n1    equal_opportunity       ratio  between_groups  0.666667\n3    equal_opportunity       ratio      to_overall  0.727463\n4       equalized_odds  difference  between_groups  0.333333\n6       equalized_odds  difference      to_overall  0.249760\n5       equalized_odds       ratio  between_groups  0.000000\n7       equalized_odds       ratio      to_overall  0.000000",
      "text/html": "<div>\n<style scoped>\n    .dataframe tbody tr th:only-of-type {\n        vertical-align: middle;\n    }\n\n    .dataframe tbody tr th {\n        vertical-align: top;\n    }\n\n    .dataframe thead th {\n        text-align: right;\n    }\n</style>\n<table border=\"1\" class=\"dataframe\">\n  <thead>\n    <tr style=\"text-align: right;\">\n      <th></th>\n      <th>metric</th>\n      <th>type</th>\n      <th>method</th>\n      <th>value</th>\n    </tr>\n  </thead>\n  <tbody>\n    <tr>\n      <th>8</th>\n      <td>demographic_parity</td>\n      <td>difference</td>\n      <td>between_groups</td>\n      <td>0.700000</td>\n    </tr>\n    <tr>\n      <th>10</th>\n      <td>demographic_parity</td>\n      <td>difference</td>\n      <td>to_overall</td>\n      <td>0.477477</td>\n    </tr>\n    <tr>\n      <th>9</th>\n      <td>demographic_parity</td>\n      <td>ratio</td>\n      <td>between_groups</td>\n      <td>0.300000</td>\n    </tr>\n    <tr>\n      <th>11</th>\n      <td>demographic_parity</td>\n      <td>ratio</td>\n      <td>to_overall</td>\n      <td>0.522523</td>\n    </tr>\n    <tr>\n      <th>0</th>\n      <td>equal_opportunity</td>\n      <td>difference</td>\n      <td>between_groups</td>\n      <td>0.333333</td>\n    </tr>\n    <tr>\n      <th>2</th>\n      <td>equal_opportunity</td>\n      <td>difference</td>\n      <td>to_overall</td>\n      <td>0.249760</td>\n    </tr>\n    <tr>\n      <th>1</th>\n      <td>equal_opportunity</td>\n      <td>ratio</td>\n      <td>between_groups</td>\n      <td>0.666667</td>\n    </tr>\n    <tr>\n      <th>3</th>\n      <td>equal_opportunity</td>\n      <td>ratio</td>\n      <td>to_overall</td>\n      <td>0.727463</td>\n    </tr>\n    <tr>\n      <th>4</th>\n      <td>equalized_odds</td>\n      <td>difference</td>\n      <td>between_groups</td>\n      <td>0.333333</td>\n    </tr>\n    <tr>\n      <th>6</th>\n      <td>equalized_odds</td>\n      <td>difference</td>\n      <td>to_overall</td>\n      <td>0.249760</td>\n    </tr>\n    <tr>\n      <th>5</th>\n      <td>equalized_odds</td>\n      <td>ratio</td>\n      <td>between_groups</td>\n      <td>0.000000</td>\n    </tr>\n    <tr>\n      <th>7</th>\n      <td>equalized_odds</td>\n      <td>ratio</td>\n      <td>to_overall</td>\n      <td>0.000000</td>\n    </tr>\n  </tbody>\n</table>\n</div>"
     },
     "execution_count": 24,
     "metadata": {},
     "output_type": "execute_result"
    }
   ],
   "source": [
    "calculate_fairlearn_metrics(y_test, y_pred, z_test)"
   ],
   "metadata": {
    "collapsed": false,
    "ExecuteTime": {
     "end_time": "2024-03-28T11:46:58.898659Z",
     "start_time": "2024-03-28T11:46:58.764855Z"
    }
   },
   "id": "c07c413c5b48bb6d",
   "execution_count": 24
  },
  {
   "cell_type": "markdown",
   "source": [
    "#### Mitigation"
   ],
   "metadata": {
    "collapsed": false
   },
   "id": "1c97cba4a0ec9c15"
  },
  {
   "cell_type": "code",
   "outputs": [],
   "source": [
    "from fairlearn.reductions import DemographicParity, ExponentiatedGradient"
   ],
   "metadata": {
    "collapsed": false,
    "ExecuteTime": {
     "end_time": "2024-03-28T11:56:45.546685Z",
     "start_time": "2024-03-28T11:56:45.511131Z"
    }
   },
   "id": "ab98478abca8d079",
   "execution_count": 37
  },
  {
   "cell_type": "code",
   "outputs": [
    {
     "name": "stderr",
     "output_type": "stream",
     "text": [
      "/opt/homebrew/Caskroom/miniconda/base/envs/fairness-toolkits/lib/python3.10/site-packages/fairlearn/reductions/_moments/utility_parity.py:214: FutureWarning: ChainedAssignmentError: behaviour will change in pandas 3.0!\n",
      "You are setting values through chained assignment. Currently this works in certain cases, but when using Copy-on-Write (which will become the default behaviour in pandas 3.0) this will never work to update the original DataFrame or Series, because the intermediate object on which we are setting values will behave as a copy.\n",
      "A typical example is when you are setting values in a column of a DataFrame, like:\n",
      "\n",
      "df[\"col\"][row_indexer] = value\n",
      "\n",
      "Use `df.loc[row_indexer, \"col\"] = values` instead, to perform the assignment in a single step and ensure this keeps updating the original `df`.\n",
      "\n",
      "See the caveats in the documentation: https://pandas.pydata.org/pandas-docs/stable/user_guide/indexing.html#returning-a-view-versus-a-copy\n",
      "\n",
      "  self.pos_basis[i][\"+\", e, g] = 1\n",
      "/opt/homebrew/Caskroom/miniconda/base/envs/fairness-toolkits/lib/python3.10/site-packages/fairlearn/reductions/_moments/utility_parity.py:215: FutureWarning: ChainedAssignmentError: behaviour will change in pandas 3.0!\n",
      "You are setting values through chained assignment. Currently this works in certain cases, but when using Copy-on-Write (which will become the default behaviour in pandas 3.0) this will never work to update the original DataFrame or Series, because the intermediate object on which we are setting values will behave as a copy.\n",
      "A typical example is when you are setting values in a column of a DataFrame, like:\n",
      "\n",
      "df[\"col\"][row_indexer] = value\n",
      "\n",
      "Use `df.loc[row_indexer, \"col\"] = values` instead, to perform the assignment in a single step and ensure this keeps updating the original `df`.\n",
      "\n",
      "See the caveats in the documentation: https://pandas.pydata.org/pandas-docs/stable/user_guide/indexing.html#returning-a-view-versus-a-copy\n",
      "\n",
      "  self.neg_basis[i][\"-\", e, g] = 1\n",
      "/opt/homebrew/Caskroom/miniconda/base/envs/fairness-toolkits/lib/python3.10/site-packages/fairlearn/reductions/_moments/utility_parity.py:214: FutureWarning: ChainedAssignmentError: behaviour will change in pandas 3.0!\n",
      "You are setting values through chained assignment. Currently this works in certain cases, but when using Copy-on-Write (which will become the default behaviour in pandas 3.0) this will never work to update the original DataFrame or Series, because the intermediate object on which we are setting values will behave as a copy.\n",
      "A typical example is when you are setting values in a column of a DataFrame, like:\n",
      "\n",
      "df[\"col\"][row_indexer] = value\n",
      "\n",
      "Use `df.loc[row_indexer, \"col\"] = values` instead, to perform the assignment in a single step and ensure this keeps updating the original `df`.\n",
      "\n",
      "See the caveats in the documentation: https://pandas.pydata.org/pandas-docs/stable/user_guide/indexing.html#returning-a-view-versus-a-copy\n",
      "\n",
      "  self.pos_basis[i][\"+\", e, g] = 1\n",
      "/opt/homebrew/Caskroom/miniconda/base/envs/fairness-toolkits/lib/python3.10/site-packages/fairlearn/reductions/_moments/utility_parity.py:215: FutureWarning: ChainedAssignmentError: behaviour will change in pandas 3.0!\n",
      "You are setting values through chained assignment. Currently this works in certain cases, but when using Copy-on-Write (which will become the default behaviour in pandas 3.0) this will never work to update the original DataFrame or Series, because the intermediate object on which we are setting values will behave as a copy.\n",
      "A typical example is when you are setting values in a column of a DataFrame, like:\n",
      "\n",
      "df[\"col\"][row_indexer] = value\n",
      "\n",
      "Use `df.loc[row_indexer, \"col\"] = values` instead, to perform the assignment in a single step and ensure this keeps updating the original `df`.\n",
      "\n",
      "See the caveats in the documentation: https://pandas.pydata.org/pandas-docs/stable/user_guide/indexing.html#returning-a-view-versus-a-copy\n",
      "\n",
      "  self.neg_basis[i][\"-\", e, g] = 1\n",
      "/opt/homebrew/Caskroom/miniconda/base/envs/fairness-toolkits/lib/python3.10/site-packages/fairlearn/reductions/_moments/utility_parity.py:214: FutureWarning: ChainedAssignmentError: behaviour will change in pandas 3.0!\n",
      "You are setting values through chained assignment. Currently this works in certain cases, but when using Copy-on-Write (which will become the default behaviour in pandas 3.0) this will never work to update the original DataFrame or Series, because the intermediate object on which we are setting values will behave as a copy.\n",
      "A typical example is when you are setting values in a column of a DataFrame, like:\n",
      "\n",
      "df[\"col\"][row_indexer] = value\n",
      "\n",
      "Use `df.loc[row_indexer, \"col\"] = values` instead, to perform the assignment in a single step and ensure this keeps updating the original `df`.\n",
      "\n",
      "See the caveats in the documentation: https://pandas.pydata.org/pandas-docs/stable/user_guide/indexing.html#returning-a-view-versus-a-copy\n",
      "\n",
      "  self.pos_basis[i][\"+\", e, g] = 1\n",
      "/opt/homebrew/Caskroom/miniconda/base/envs/fairness-toolkits/lib/python3.10/site-packages/fairlearn/reductions/_moments/utility_parity.py:215: FutureWarning: ChainedAssignmentError: behaviour will change in pandas 3.0!\n",
      "You are setting values through chained assignment. Currently this works in certain cases, but when using Copy-on-Write (which will become the default behaviour in pandas 3.0) this will never work to update the original DataFrame or Series, because the intermediate object on which we are setting values will behave as a copy.\n",
      "A typical example is when you are setting values in a column of a DataFrame, like:\n",
      "\n",
      "df[\"col\"][row_indexer] = value\n",
      "\n",
      "Use `df.loc[row_indexer, \"col\"] = values` instead, to perform the assignment in a single step and ensure this keeps updating the original `df`.\n",
      "\n",
      "See the caveats in the documentation: https://pandas.pydata.org/pandas-docs/stable/user_guide/indexing.html#returning-a-view-versus-a-copy\n",
      "\n",
      "  self.neg_basis[i][\"-\", e, g] = 1\n",
      "/opt/homebrew/Caskroom/miniconda/base/envs/fairness-toolkits/lib/python3.10/site-packages/fairlearn/reductions/_moments/utility_parity.py:214: FutureWarning: ChainedAssignmentError: behaviour will change in pandas 3.0!\n",
      "You are setting values through chained assignment. Currently this works in certain cases, but when using Copy-on-Write (which will become the default behaviour in pandas 3.0) this will never work to update the original DataFrame or Series, because the intermediate object on which we are setting values will behave as a copy.\n",
      "A typical example is when you are setting values in a column of a DataFrame, like:\n",
      "\n",
      "df[\"col\"][row_indexer] = value\n",
      "\n",
      "Use `df.loc[row_indexer, \"col\"] = values` instead, to perform the assignment in a single step and ensure this keeps updating the original `df`.\n",
      "\n",
      "See the caveats in the documentation: https://pandas.pydata.org/pandas-docs/stable/user_guide/indexing.html#returning-a-view-versus-a-copy\n",
      "\n",
      "  self.pos_basis[i][\"+\", e, g] = 1\n",
      "/opt/homebrew/Caskroom/miniconda/base/envs/fairness-toolkits/lib/python3.10/site-packages/fairlearn/reductions/_moments/utility_parity.py:215: FutureWarning: ChainedAssignmentError: behaviour will change in pandas 3.0!\n",
      "You are setting values through chained assignment. Currently this works in certain cases, but when using Copy-on-Write (which will become the default behaviour in pandas 3.0) this will never work to update the original DataFrame or Series, because the intermediate object on which we are setting values will behave as a copy.\n",
      "A typical example is when you are setting values in a column of a DataFrame, like:\n",
      "\n",
      "df[\"col\"][row_indexer] = value\n",
      "\n",
      "Use `df.loc[row_indexer, \"col\"] = values` instead, to perform the assignment in a single step and ensure this keeps updating the original `df`.\n",
      "\n",
      "See the caveats in the documentation: https://pandas.pydata.org/pandas-docs/stable/user_guide/indexing.html#returning-a-view-versus-a-copy\n",
      "\n",
      "  self.neg_basis[i][\"-\", e, g] = 1\n",
      "/opt/homebrew/Caskroom/miniconda/base/envs/fairness-toolkits/lib/python3.10/site-packages/fairlearn/reductions/_moments/utility_parity.py:214: FutureWarning: ChainedAssignmentError: behaviour will change in pandas 3.0!\n",
      "You are setting values through chained assignment. Currently this works in certain cases, but when using Copy-on-Write (which will become the default behaviour in pandas 3.0) this will never work to update the original DataFrame or Series, because the intermediate object on which we are setting values will behave as a copy.\n",
      "A typical example is when you are setting values in a column of a DataFrame, like:\n",
      "\n",
      "df[\"col\"][row_indexer] = value\n",
      "\n",
      "Use `df.loc[row_indexer, \"col\"] = values` instead, to perform the assignment in a single step and ensure this keeps updating the original `df`.\n",
      "\n",
      "See the caveats in the documentation: https://pandas.pydata.org/pandas-docs/stable/user_guide/indexing.html#returning-a-view-versus-a-copy\n",
      "\n",
      "  self.pos_basis[i][\"+\", e, g] = 1\n",
      "/opt/homebrew/Caskroom/miniconda/base/envs/fairness-toolkits/lib/python3.10/site-packages/fairlearn/reductions/_moments/utility_parity.py:215: FutureWarning: ChainedAssignmentError: behaviour will change in pandas 3.0!\n",
      "You are setting values through chained assignment. Currently this works in certain cases, but when using Copy-on-Write (which will become the default behaviour in pandas 3.0) this will never work to update the original DataFrame or Series, because the intermediate object on which we are setting values will behave as a copy.\n",
      "A typical example is when you are setting values in a column of a DataFrame, like:\n",
      "\n",
      "df[\"col\"][row_indexer] = value\n",
      "\n",
      "Use `df.loc[row_indexer, \"col\"] = values` instead, to perform the assignment in a single step and ensure this keeps updating the original `df`.\n",
      "\n",
      "See the caveats in the documentation: https://pandas.pydata.org/pandas-docs/stable/user_guide/indexing.html#returning-a-view-versus-a-copy\n",
      "\n",
      "  self.neg_basis[i][\"-\", e, g] = 1\n"
     ]
    },
    {
     "name": "stdout",
     "output_type": "stream",
     "text": [
      "0:\tlearn: 0.6844627\ttotal: 4.7ms\tremaining: 14.1s\n",
      "250:\tlearn: 0.3208956\ttotal: 1.44s\tremaining: 15.8s\n",
      "500:\tlearn: 0.3091280\ttotal: 2.59s\tremaining: 12.9s\n",
      "750:\tlearn: 0.3038870\ttotal: 3.71s\tremaining: 11.1s\n",
      "1000:\tlearn: 0.2994238\ttotal: 4.39s\tremaining: 8.76s\n",
      "1250:\tlearn: 0.2951383\ttotal: 5.59s\tremaining: 7.81s\n",
      "1500:\tlearn: 0.2916133\ttotal: 6.78s\tremaining: 6.77s\n",
      "1750:\tlearn: 0.2886633\ttotal: 8.13s\tremaining: 5.8s\n",
      "2000:\tlearn: 0.2859524\ttotal: 9.05s\tremaining: 4.52s\n",
      "2250:\tlearn: 0.2837542\ttotal: 10.2s\tremaining: 3.4s\n",
      "2500:\tlearn: 0.2815680\ttotal: 10.9s\tremaining: 2.18s\n",
      "2750:\tlearn: 0.2795766\ttotal: 11.6s\tremaining: 1.05s\n",
      "2999:\tlearn: 0.2775952\ttotal: 12.3s\tremaining: 0us\n",
      "0:\tlearn: 0.6844627\ttotal: 17.2ms\tremaining: 51.5s\n",
      "250:\tlearn: 0.3208956\ttotal: 807ms\tremaining: 8.83s\n",
      "500:\tlearn: 0.3091280\ttotal: 1.48s\tremaining: 7.37s\n",
      "750:\tlearn: 0.3038870\ttotal: 2.46s\tremaining: 7.37s\n",
      "1000:\tlearn: 0.2994238\ttotal: 3.47s\tremaining: 6.92s\n",
      "1250:\tlearn: 0.2951383\ttotal: 4.4s\tremaining: 6.16s\n",
      "1500:\tlearn: 0.2916133\ttotal: 5.28s\tremaining: 5.27s\n",
      "1750:\tlearn: 0.2886633\ttotal: 6.5s\tremaining: 4.64s\n",
      "2000:\tlearn: 0.2859524\ttotal: 7.41s\tremaining: 3.7s\n",
      "2250:\tlearn: 0.2837542\ttotal: 8.61s\tremaining: 2.86s\n",
      "2500:\tlearn: 0.2815680\ttotal: 9.97s\tremaining: 1.99s\n",
      "2750:\tlearn: 0.2795766\ttotal: 10.9s\tremaining: 987ms\n",
      "2999:\tlearn: 0.2775952\ttotal: 11.6s\tremaining: 0us\n",
      "0:\tlearn: 0.6839275\ttotal: 16ms\tremaining: 47.9s\n",
      "250:\tlearn: 0.3167206\ttotal: 790ms\tremaining: 8.66s\n",
      "500:\tlearn: 0.3009107\ttotal: 1.46s\tremaining: 7.29s\n",
      "750:\tlearn: 0.2935073\ttotal: 2.13s\tremaining: 6.38s\n",
      "1000:\tlearn: 0.2879445\ttotal: 2.8s\tremaining: 5.59s\n",
      "1250:\tlearn: 0.2836529\ttotal: 3.47s\tremaining: 4.85s\n",
      "1500:\tlearn: 0.2796121\ttotal: 4.15s\tremaining: 4.14s\n",
      "1750:\tlearn: 0.2762119\ttotal: 4.81s\tremaining: 3.43s\n",
      "2000:\tlearn: 0.2732463\ttotal: 5.5s\tremaining: 2.74s\n",
      "2250:\tlearn: 0.2704486\ttotal: 6.18s\tremaining: 2.06s\n",
      "2500:\tlearn: 0.2676928\ttotal: 6.86s\tremaining: 1.37s\n",
      "2750:\tlearn: 0.2652809\ttotal: 7.62s\tremaining: 689ms\n",
      "2999:\tlearn: 0.2629570\ttotal: 8.61s\tremaining: 0us\n",
      "0:\tlearn: 0.6863485\ttotal: 9.39ms\tremaining: 28.2s\n",
      "250:\tlearn: 0.3247749\ttotal: 1.06s\tremaining: 11.6s\n",
      "500:\tlearn: 0.3092829\ttotal: 2.31s\tremaining: 11.5s\n",
      "750:\tlearn: 0.3024681\ttotal: 3.91s\tremaining: 11.7s\n",
      "1000:\tlearn: 0.2972355\ttotal: 4.61s\tremaining: 9.21s\n",
      "1250:\tlearn: 0.2930219\ttotal: 5.27s\tremaining: 7.37s\n",
      "1500:\tlearn: 0.2890083\ttotal: 5.95s\tremaining: 5.94s\n",
      "1750:\tlearn: 0.2854868\ttotal: 7.2s\tremaining: 5.13s\n",
      "2000:\tlearn: 0.2824888\ttotal: 8.37s\tremaining: 4.18s\n",
      "2250:\tlearn: 0.2795952\ttotal: 9.78s\tremaining: 3.25s\n",
      "2500:\tlearn: 0.2772009\ttotal: 11.2s\tremaining: 2.24s\n",
      "2750:\tlearn: 0.2748868\ttotal: 12.5s\tremaining: 1.13s\n",
      "2999:\tlearn: 0.2726372\ttotal: 13.7s\tremaining: 0us\n",
      "0:\tlearn: 0.6599957\ttotal: 25.9ms\tremaining: 1m 17s\n",
      "250:\tlearn: 0.0022262\ttotal: 1.03s\tremaining: 11.3s\n",
      "500:\tlearn: 0.0011470\ttotal: 1.66s\tremaining: 8.27s\n",
      "750:\tlearn: 0.0009061\ttotal: 2.39s\tremaining: 7.15s\n",
      "1000:\tlearn: 0.0008903\ttotal: 3.08s\tremaining: 6.14s\n",
      "1250:\tlearn: 0.0008880\ttotal: 3.77s\tremaining: 5.27s\n",
      "1500:\tlearn: 0.0008878\ttotal: 4.26s\tremaining: 4.25s\n",
      "1750:\tlearn: 0.0008876\ttotal: 4.75s\tremaining: 3.38s\n",
      "2000:\tlearn: 0.0008875\ttotal: 5.23s\tremaining: 2.61s\n",
      "2250:\tlearn: 0.0008873\ttotal: 5.84s\tremaining: 1.94s\n",
      "2500:\tlearn: 0.0008872\ttotal: 6.53s\tremaining: 1.3s\n",
      "2750:\tlearn: 0.0008870\ttotal: 7.14s\tremaining: 646ms\n",
      "2999:\tlearn: 0.0008869\ttotal: 7.61s\tremaining: 0us\n",
      "0:\tlearn: 0.6829029\ttotal: 7.11ms\tremaining: 21.3s\n",
      "250:\tlearn: 0.2864770\ttotal: 1.25s\tremaining: 13.7s\n",
      "500:\tlearn: 0.2692939\ttotal: 2.25s\tremaining: 11.2s\n",
      "750:\tlearn: 0.2602142\ttotal: 2.94s\tremaining: 8.82s\n",
      "1000:\tlearn: 0.2541893\ttotal: 3.62s\tremaining: 7.22s\n",
      "1250:\tlearn: 0.2493678\ttotal: 4.29s\tremaining: 5.99s\n",
      "1500:\tlearn: 0.2444502\ttotal: 4.95s\tremaining: 4.95s\n",
      "1750:\tlearn: 0.2410255\ttotal: 5.95s\tremaining: 4.25s\n",
      "2000:\tlearn: 0.2378717\ttotal: 7.38s\tremaining: 3.69s\n",
      "2250:\tlearn: 0.2349869\ttotal: 8.6s\tremaining: 2.86s\n",
      "2500:\tlearn: 0.2327190\ttotal: 9.51s\tremaining: 1.9s\n",
      "2750:\tlearn: 0.2303730\ttotal: 10.4s\tremaining: 938ms\n",
      "2999:\tlearn: 0.2282009\ttotal: 11.3s\tremaining: 0us\n",
      "0:\tlearn: 0.6859690\ttotal: 7.1ms\tremaining: 21.3s\n",
      "250:\tlearn: 0.3199596\ttotal: 1.6s\tremaining: 17.5s\n",
      "500:\tlearn: 0.3053319\ttotal: 2.94s\tremaining: 14.7s\n",
      "750:\tlearn: 0.2984650\ttotal: 4.67s\tremaining: 14s\n",
      "1000:\tlearn: 0.2931296\ttotal: 6.06s\tremaining: 12.1s\n",
      "1250:\tlearn: 0.2890082\ttotal: 7.09s\tremaining: 9.92s\n",
      "1500:\tlearn: 0.2851091\ttotal: 7.98s\tremaining: 7.97s\n",
      "1750:\tlearn: 0.2819069\ttotal: 8.82s\tremaining: 6.29s\n",
      "2000:\tlearn: 0.2786263\ttotal: 9.66s\tremaining: 4.82s\n",
      "2250:\tlearn: 0.2762181\ttotal: 10.5s\tremaining: 3.5s\n",
      "2500:\tlearn: 0.2739760\ttotal: 11.4s\tremaining: 2.28s\n",
      "2750:\tlearn: 0.2718750\ttotal: 12.3s\tremaining: 1.11s\n",
      "2999:\tlearn: 0.2697157\ttotal: 13.2s\tremaining: 0us\n",
      "0:\tlearn: 0.6594651\ttotal: 17.7ms\tremaining: 53.1s\n",
      "250:\tlearn: 0.0023279\ttotal: 960ms\tremaining: 10.5s\n",
      "500:\tlearn: 0.0012052\ttotal: 1.76s\tremaining: 8.77s\n",
      "750:\tlearn: 0.0010611\ttotal: 2.44s\tremaining: 7.29s\n",
      "1000:\tlearn: 0.0008387\ttotal: 3.11s\tremaining: 6.21s\n",
      "1250:\tlearn: 0.0008181\ttotal: 3.73s\tremaining: 5.21s\n",
      "1500:\tlearn: 0.0008180\ttotal: 4.36s\tremaining: 4.35s\n",
      "1750:\tlearn: 0.0008178\ttotal: 4.98s\tremaining: 3.56s\n",
      "2000:\tlearn: 0.0008176\ttotal: 5.65s\tremaining: 2.82s\n",
      "2250:\tlearn: 0.0008175\ttotal: 6.27s\tremaining: 2.09s\n",
      "2500:\tlearn: 0.0008174\ttotal: 6.92s\tremaining: 1.38s\n",
      "2750:\tlearn: 0.0008173\ttotal: 7.58s\tremaining: 687ms\n",
      "2999:\tlearn: 0.0008172\ttotal: 8.25s\tremaining: 0us\n",
      "0:\tlearn: 0.6816261\ttotal: 6.59ms\tremaining: 19.8s\n",
      "250:\tlearn: 0.2851541\ttotal: 966ms\tremaining: 10.6s\n",
      "500:\tlearn: 0.2705604\ttotal: 1.79s\tremaining: 8.92s\n",
      "750:\tlearn: 0.2641365\ttotal: 2.67s\tremaining: 8.01s\n",
      "1000:\tlearn: 0.2589522\ttotal: 3.55s\tremaining: 7.08s\n",
      "1250:\tlearn: 0.2545925\ttotal: 4.39s\tremaining: 6.14s\n",
      "1500:\tlearn: 0.2516799\ttotal: 5.35s\tremaining: 5.34s\n",
      "1750:\tlearn: 0.2491276\ttotal: 6.2s\tremaining: 4.42s\n",
      "2000:\tlearn: 0.2469478\ttotal: 7.04s\tremaining: 3.51s\n",
      "2250:\tlearn: 0.2447704\ttotal: 7.94s\tremaining: 2.64s\n",
      "2500:\tlearn: 0.2424722\ttotal: 8.83s\tremaining: 1.76s\n",
      "2750:\tlearn: 0.2406322\ttotal: 9.66s\tremaining: 875ms\n",
      "2999:\tlearn: 0.2384392\ttotal: 10.5s\tremaining: 0us\n",
      "0:\tlearn: 0.6865720\ttotal: 8.21ms\tremaining: 24.6s\n",
      "250:\tlearn: 0.3140480\ttotal: 984ms\tremaining: 10.8s\n",
      "500:\tlearn: 0.2989702\ttotal: 1.85s\tremaining: 9.24s\n",
      "750:\tlearn: 0.2922351\ttotal: 2.7s\tremaining: 8.1s\n",
      "1000:\tlearn: 0.2871307\ttotal: 3.54s\tremaining: 7.08s\n",
      "1250:\tlearn: 0.2832155\ttotal: 4.61s\tremaining: 6.45s\n",
      "1500:\tlearn: 0.2795259\ttotal: 5.47s\tremaining: 5.46s\n",
      "1750:\tlearn: 0.2763709\ttotal: 6.35s\tremaining: 4.53s\n",
      "2000:\tlearn: 0.2735010\ttotal: 7.23s\tremaining: 3.61s\n",
      "2250:\tlearn: 0.2708768\ttotal: 8.1s\tremaining: 2.7s\n",
      "2500:\tlearn: 0.2683986\ttotal: 8.97s\tremaining: 1.79s\n",
      "2750:\tlearn: 0.2659888\ttotal: 9.88s\tremaining: 895ms\n",
      "2999:\tlearn: 0.2638074\ttotal: 10.8s\tremaining: 0us\n",
      "0:\tlearn: 0.6602846\ttotal: 5.56ms\tremaining: 16.7s\n",
      "250:\tlearn: 0.0037239\ttotal: 895ms\tremaining: 9.8s\n",
      "500:\tlearn: 0.0027104\ttotal: 1.56s\tremaining: 7.79s\n",
      "750:\tlearn: 0.0021287\ttotal: 2.26s\tremaining: 6.77s\n",
      "1000:\tlearn: 0.0016342\ttotal: 2.94s\tremaining: 5.86s\n",
      "1250:\tlearn: 0.0011997\ttotal: 3.66s\tremaining: 5.11s\n",
      "1500:\tlearn: 0.0011249\ttotal: 4.33s\tremaining: 4.33s\n",
      "1750:\tlearn: 0.0011098\ttotal: 5s\tremaining: 3.56s\n",
      "2000:\tlearn: 0.0011014\ttotal: 5.65s\tremaining: 2.82s\n",
      "2250:\tlearn: 0.0010960\ttotal: 6.27s\tremaining: 2.09s\n",
      "2500:\tlearn: 0.0010906\ttotal: 6.9s\tremaining: 1.38s\n",
      "2750:\tlearn: 0.0010880\ttotal: 7.54s\tremaining: 683ms\n",
      "2999:\tlearn: 0.0010855\ttotal: 8.16s\tremaining: 0us\n",
      "0:\tlearn: 0.6815153\ttotal: 23.2ms\tremaining: 1m 9s\n",
      "250:\tlearn: 0.2387828\ttotal: 1.03s\tremaining: 11.3s\n",
      "500:\tlearn: 0.2283276\ttotal: 1.87s\tremaining: 9.35s\n",
      "750:\tlearn: 0.2226682\ttotal: 2.74s\tremaining: 8.22s\n",
      "1000:\tlearn: 0.2183852\ttotal: 3.62s\tremaining: 7.23s\n",
      "1250:\tlearn: 0.2155138\ttotal: 4.6s\tremaining: 6.43s\n",
      "1500:\tlearn: 0.2126213\ttotal: 5.47s\tremaining: 5.46s\n",
      "1750:\tlearn: 0.2101181\ttotal: 6.35s\tremaining: 4.53s\n",
      "2000:\tlearn: 0.2078048\ttotal: 7.24s\tremaining: 3.61s\n",
      "2250:\tlearn: 0.2055679\ttotal: 8.12s\tremaining: 2.7s\n",
      "2500:\tlearn: 0.2035562\ttotal: 8.99s\tremaining: 1.79s\n",
      "2750:\tlearn: 0.2017835\ttotal: 9.87s\tremaining: 894ms\n",
      "2999:\tlearn: 0.2002420\ttotal: 10.8s\tremaining: 0us\n",
      "0:\tlearn: 0.6849975\ttotal: 19.9ms\tremaining: 59.5s\n",
      "250:\tlearn: 0.3283950\ttotal: 1.04s\tremaining: 11.4s\n",
      "500:\tlearn: 0.3131474\ttotal: 1.88s\tremaining: 9.4s\n",
      "750:\tlearn: 0.3058532\ttotal: 2.76s\tremaining: 8.26s\n",
      "1000:\tlearn: 0.3003417\ttotal: 3.65s\tremaining: 7.29s\n",
      "1250:\tlearn: 0.2966121\ttotal: 4.49s\tremaining: 6.28s\n",
      "1500:\tlearn: 0.2930559\ttotal: 5.34s\tremaining: 5.34s\n",
      "1750:\tlearn: 0.2899634\ttotal: 6.22s\tremaining: 4.43s\n",
      "2000:\tlearn: 0.2871373\ttotal: 7.26s\tremaining: 3.63s\n",
      "2250:\tlearn: 0.2845036\ttotal: 8.16s\tremaining: 2.71s\n",
      "2500:\tlearn: 0.2820816\ttotal: 9.06s\tremaining: 1.81s\n",
      "2750:\tlearn: 0.2796963\ttotal: 9.99s\tremaining: 904ms\n",
      "2999:\tlearn: 0.2774424\ttotal: 10.9s\tremaining: 0us\n",
      "0:\tlearn: 0.6589314\ttotal: 7.94ms\tremaining: 23.8s\n",
      "250:\tlearn: 0.0043089\ttotal: 912ms\tremaining: 9.99s\n",
      "500:\tlearn: 0.0019669\ttotal: 1.66s\tremaining: 8.27s\n",
      "750:\tlearn: 0.0013754\ttotal: 2.35s\tremaining: 7.04s\n",
      "1000:\tlearn: 0.0012638\ttotal: 3.02s\tremaining: 6.03s\n",
      "1250:\tlearn: 0.0012503\ttotal: 3.69s\tremaining: 5.16s\n",
      "1500:\tlearn: 0.0012502\ttotal: 4.35s\tremaining: 4.34s\n",
      "1750:\tlearn: 0.0012502\ttotal: 5.17s\tremaining: 3.68s\n",
      "2000:\tlearn: 0.0012502\ttotal: 6.42s\tremaining: 3.2s\n",
      "2250:\tlearn: 0.0012502\ttotal: 7.52s\tremaining: 2.5s\n",
      "2500:\tlearn: 0.0012502\ttotal: 8.48s\tremaining: 1.69s\n",
      "2750:\tlearn: 0.0012502\ttotal: 9.17s\tremaining: 830ms\n",
      "2999:\tlearn: 0.0012501\ttotal: 9.86s\tremaining: 0us\n",
      "0:\tlearn: 0.6789349\ttotal: 10.5ms\tremaining: 31.5s\n",
      "250:\tlearn: 0.2554707\ttotal: 980ms\tremaining: 10.7s\n",
      "500:\tlearn: 0.2441467\ttotal: 1.84s\tremaining: 9.19s\n",
      "750:\tlearn: 0.2382220\ttotal: 2.92s\tremaining: 8.74s\n",
      "1000:\tlearn: 0.2335371\ttotal: 4.07s\tremaining: 8.12s\n",
      "1250:\tlearn: 0.2292916\ttotal: 5.81s\tremaining: 8.12s\n",
      "1500:\tlearn: 0.2258110\ttotal: 7.23s\tremaining: 7.22s\n",
      "1750:\tlearn: 0.2227522\ttotal: 8.77s\tremaining: 6.25s\n",
      "2000:\tlearn: 0.2200453\ttotal: 9.93s\tremaining: 4.96s\n",
      "2250:\tlearn: 0.2176344\ttotal: 10.8s\tremaining: 3.59s\n",
      "2500:\tlearn: 0.2153498\ttotal: 11.6s\tremaining: 2.32s\n",
      "2750:\tlearn: 0.2133471\ttotal: 12.5s\tremaining: 1.13s\n",
      "2999:\tlearn: 0.2114488\ttotal: 13.4s\tremaining: 0us\n",
      "0:\tlearn: 0.6862342\ttotal: 5.04ms\tremaining: 15.1s\n",
      "250:\tlearn: 0.3208307\ttotal: 1.02s\tremaining: 11.2s\n",
      "500:\tlearn: 0.3060571\ttotal: 1.88s\tremaining: 9.38s\n",
      "750:\tlearn: 0.2988621\ttotal: 2.72s\tremaining: 8.13s\n",
      "1000:\tlearn: 0.2933710\ttotal: 3.59s\tremaining: 7.17s\n",
      "1250:\tlearn: 0.2893334\ttotal: 4.42s\tremaining: 6.19s\n",
      "1500:\tlearn: 0.2854175\ttotal: 5.25s\tremaining: 5.24s\n",
      "1750:\tlearn: 0.2820367\ttotal: 6.11s\tremaining: 4.36s\n",
      "2000:\tlearn: 0.2791528\ttotal: 6.99s\tremaining: 3.49s\n",
      "2250:\tlearn: 0.2765333\ttotal: 7.84s\tremaining: 2.61s\n",
      "2500:\tlearn: 0.2740389\ttotal: 8.71s\tremaining: 1.74s\n",
      "2750:\tlearn: 0.2717111\ttotal: 9.58s\tremaining: 867ms\n",
      "2999:\tlearn: 0.2697160\ttotal: 10.4s\tremaining: 0us\n",
      "0:\tlearn: 0.6791777\ttotal: 6.43ms\tremaining: 19.3s\n",
      "250:\tlearn: 0.2050072\ttotal: 1.16s\tremaining: 12.7s\n",
      "500:\tlearn: 0.1938755\ttotal: 2.01s\tremaining: 10s\n",
      "750:\tlearn: 0.1886421\ttotal: 2.84s\tremaining: 8.51s\n",
      "1000:\tlearn: 0.1844238\ttotal: 3.71s\tremaining: 7.41s\n",
      "1250:\tlearn: 0.1808290\ttotal: 4.6s\tremaining: 6.43s\n",
      "1500:\tlearn: 0.1779287\ttotal: 5.49s\tremaining: 5.48s\n",
      "1750:\tlearn: 0.1757444\ttotal: 6.38s\tremaining: 4.55s\n",
      "2000:\tlearn: 0.1738384\ttotal: 7.24s\tremaining: 3.62s\n",
      "2250:\tlearn: 0.1721397\ttotal: 8.11s\tremaining: 2.7s\n",
      "2500:\tlearn: 0.1705114\ttotal: 8.98s\tremaining: 1.79s\n",
      "2750:\tlearn: 0.1688588\ttotal: 9.88s\tremaining: 894ms\n",
      "2999:\tlearn: 0.1674336\ttotal: 10.8s\tremaining: 0us\n",
      "0:\tlearn: 0.6856540\ttotal: 15ms\tremaining: 44.9s\n",
      "250:\tlearn: 0.2940819\ttotal: 998ms\tremaining: 10.9s\n",
      "500:\tlearn: 0.2786892\ttotal: 1.83s\tremaining: 9.12s\n",
      "750:\tlearn: 0.2717669\ttotal: 2.64s\tremaining: 7.92s\n",
      "1000:\tlearn: 0.2663861\ttotal: 3.48s\tremaining: 6.95s\n",
      "1250:\tlearn: 0.2623245\ttotal: 4.36s\tremaining: 6.1s\n",
      "1500:\tlearn: 0.2590714\ttotal: 5.2s\tremaining: 5.19s\n",
      "1750:\tlearn: 0.2561011\ttotal: 6.06s\tremaining: 4.32s\n",
      "2000:\tlearn: 0.2536710\ttotal: 6.92s\tremaining: 3.46s\n",
      "2250:\tlearn: 0.2513914\ttotal: 7.79s\tremaining: 2.59s\n",
      "2500:\tlearn: 0.2496194\ttotal: 8.65s\tremaining: 1.73s\n",
      "2750:\tlearn: 0.2478668\ttotal: 9.51s\tremaining: 861ms\n",
      "2999:\tlearn: 0.2461802\ttotal: 10.4s\tremaining: 0us\n",
      "0:\tlearn: 0.6858813\ttotal: 17.3ms\tremaining: 51.8s\n",
      "250:\tlearn: 0.3306967\ttotal: 1.01s\tremaining: 11s\n",
      "500:\tlearn: 0.3140619\ttotal: 1.84s\tremaining: 9.19s\n",
      "750:\tlearn: 0.3065667\ttotal: 2.69s\tremaining: 8.04s\n",
      "1000:\tlearn: 0.3008078\ttotal: 3.52s\tremaining: 7.02s\n",
      "1250:\tlearn: 0.2961898\ttotal: 4.34s\tremaining: 6.07s\n",
      "1500:\tlearn: 0.2920887\ttotal: 5.18s\tremaining: 5.18s\n",
      "1750:\tlearn: 0.2884623\ttotal: 6.03s\tremaining: 4.3s\n",
      "2000:\tlearn: 0.2853902\ttotal: 6.91s\tremaining: 3.45s\n",
      "2250:\tlearn: 0.2825660\ttotal: 7.78s\tremaining: 2.59s\n",
      "2500:\tlearn: 0.2800862\ttotal: 8.63s\tremaining: 1.72s\n",
      "2750:\tlearn: 0.2776595\ttotal: 9.53s\tremaining: 863ms\n",
      "2999:\tlearn: 0.2757317\ttotal: 10.4s\tremaining: 0us\n",
      "0:\tlearn: 0.6730802\ttotal: 10.9ms\tremaining: 32.6s\n",
      "250:\tlearn: 0.1665044\ttotal: 947ms\tremaining: 10.4s\n",
      "500:\tlearn: 0.1550196\ttotal: 1.94s\tremaining: 9.67s\n",
      "750:\tlearn: 0.1502977\ttotal: 2.76s\tremaining: 8.27s\n",
      "1000:\tlearn: 0.1467162\ttotal: 3.63s\tremaining: 7.24s\n",
      "1250:\tlearn: 0.1439088\ttotal: 4.51s\tremaining: 6.3s\n",
      "1500:\tlearn: 0.1409142\ttotal: 5.37s\tremaining: 5.36s\n",
      "1750:\tlearn: 0.1383935\ttotal: 6.25s\tremaining: 4.46s\n",
      "2000:\tlearn: 0.1364516\ttotal: 7.1s\tremaining: 3.54s\n",
      "2250:\tlearn: 0.1348201\ttotal: 8s\tremaining: 2.66s\n",
      "2500:\tlearn: 0.1333712\ttotal: 8.88s\tremaining: 1.77s\n",
      "2750:\tlearn: 0.1319696\ttotal: 9.76s\tremaining: 883ms\n",
      "2999:\tlearn: 0.1307504\ttotal: 10.6s\tremaining: 0us\n",
      "0:\tlearn: 0.6798816\ttotal: 5.08ms\tremaining: 15.2s\n",
      "250:\tlearn: 0.2659817\ttotal: 968ms\tremaining: 10.6s\n",
      "500:\tlearn: 0.2536721\ttotal: 1.81s\tremaining: 9.02s\n",
      "750:\tlearn: 0.2475114\ttotal: 2.65s\tremaining: 7.95s\n",
      "1000:\tlearn: 0.2426734\ttotal: 3.52s\tremaining: 7.03s\n",
      "1250:\tlearn: 0.2385852\ttotal: 4.36s\tremaining: 6.1s\n",
      "1500:\tlearn: 0.2348331\ttotal: 5.2s\tremaining: 5.19s\n",
      "1750:\tlearn: 0.2316453\ttotal: 6.05s\tremaining: 4.32s\n",
      "2000:\tlearn: 0.2290052\ttotal: 6.95s\tremaining: 3.47s\n",
      "2250:\tlearn: 0.2265720\ttotal: 7.83s\tremaining: 2.6s\n",
      "2500:\tlearn: 0.2244583\ttotal: 8.71s\tremaining: 1.74s\n",
      "2750:\tlearn: 0.2223145\ttotal: 9.6s\tremaining: 869ms\n",
      "2999:\tlearn: 0.2203528\ttotal: 10.5s\tremaining: 0us\n",
      "0:\tlearn: 0.6865372\ttotal: 6.9ms\tremaining: 20.7s\n",
      "250:\tlearn: 0.3225043\ttotal: 1.03s\tremaining: 11.3s\n",
      "500:\tlearn: 0.3071577\ttotal: 2s\tremaining: 9.99s\n",
      "750:\tlearn: 0.2997379\ttotal: 3.76s\tremaining: 11.3s\n",
      "1000:\tlearn: 0.2939918\ttotal: 5.79s\tremaining: 11.6s\n",
      "1250:\tlearn: 0.2896138\ttotal: 7.41s\tremaining: 10.4s\n",
      "1500:\tlearn: 0.2857643\ttotal: 8.48s\tremaining: 8.46s\n",
      "1750:\tlearn: 0.2826914\ttotal: 9.4s\tremaining: 6.7s\n",
      "2000:\tlearn: 0.2798665\ttotal: 10.3s\tremaining: 5.14s\n",
      "2250:\tlearn: 0.2772843\ttotal: 11.2s\tremaining: 3.72s\n",
      "2500:\tlearn: 0.2749412\ttotal: 12.1s\tremaining: 2.42s\n",
      "2750:\tlearn: 0.2726126\ttotal: 13s\tremaining: 1.18s\n",
      "2999:\tlearn: 0.2703260\ttotal: 13.9s\tremaining: 0us\n",
      "0:\tlearn: 0.6858937\ttotal: 10.8ms\tremaining: 32.5s\n",
      "250:\tlearn: 0.2381992\ttotal: 1.13s\tremaining: 12.4s\n",
      "500:\tlearn: 0.2225354\ttotal: 1.99s\tremaining: 9.91s\n",
      "750:\tlearn: 0.2157154\ttotal: 2.85s\tremaining: 8.53s\n",
      "1000:\tlearn: 0.2109832\ttotal: 3.71s\tremaining: 7.4s\n",
      "1250:\tlearn: 0.2068427\ttotal: 4.59s\tremaining: 6.41s\n",
      "1500:\tlearn: 0.2035322\ttotal: 5.5s\tremaining: 5.5s\n",
      "1750:\tlearn: 0.2009510\ttotal: 6.37s\tremaining: 4.54s\n",
      "2000:\tlearn: 0.1985352\ttotal: 7.23s\tremaining: 3.61s\n",
      "2250:\tlearn: 0.1961549\ttotal: 8.1s\tremaining: 2.7s\n",
      "2500:\tlearn: 0.1940488\ttotal: 8.97s\tremaining: 1.79s\n",
      "2750:\tlearn: 0.1922748\ttotal: 9.85s\tremaining: 892ms\n",
      "2999:\tlearn: 0.1905674\ttotal: 10.7s\tremaining: 0us\n",
      "0:\tlearn: 0.6857685\ttotal: 12.1ms\tremaining: 36.2s\n",
      "250:\tlearn: 0.3050715\ttotal: 981ms\tremaining: 10.7s\n",
      "500:\tlearn: 0.2874759\ttotal: 1.81s\tremaining: 9.04s\n",
      "750:\tlearn: 0.2797175\ttotal: 2.67s\tremaining: 7.98s\n",
      "1000:\tlearn: 0.2740389\ttotal: 3.53s\tremaining: 7.06s\n",
      "1250:\tlearn: 0.2693870\ttotal: 4.38s\tremaining: 6.13s\n",
      "1500:\tlearn: 0.2661263\ttotal: 5.26s\tremaining: 5.25s\n",
      "1750:\tlearn: 0.2632038\ttotal: 6.09s\tremaining: 4.34s\n",
      "2000:\tlearn: 0.2610419\ttotal: 6.96s\tremaining: 3.48s\n",
      "2250:\tlearn: 0.2589791\ttotal: 7.82s\tremaining: 2.6s\n",
      "2500:\tlearn: 0.2567397\ttotal: 8.77s\tremaining: 1.75s\n",
      "2750:\tlearn: 0.2548631\ttotal: 9.71s\tremaining: 879ms\n",
      "2999:\tlearn: 0.2530673\ttotal: 10.6s\tremaining: 0us\n",
      "0:\tlearn: 0.6864577\ttotal: 4.94ms\tremaining: 14.8s\n",
      "250:\tlearn: 0.3272996\ttotal: 1.04s\tremaining: 11.4s\n",
      "500:\tlearn: 0.3110283\ttotal: 1.92s\tremaining: 9.57s\n",
      "750:\tlearn: 0.3031245\ttotal: 2.88s\tremaining: 8.64s\n",
      "1000:\tlearn: 0.2974895\ttotal: 3.79s\tremaining: 7.56s\n",
      "1250:\tlearn: 0.2930802\ttotal: 4.66s\tremaining: 6.51s\n",
      "1500:\tlearn: 0.2889300\ttotal: 5.85s\tremaining: 5.84s\n",
      "1750:\tlearn: 0.2852605\ttotal: 7.21s\tremaining: 5.14s\n",
      "2000:\tlearn: 0.2821901\ttotal: 9.01s\tremaining: 4.5s\n",
      "2250:\tlearn: 0.2792744\ttotal: 10.5s\tremaining: 3.49s\n",
      "2500:\tlearn: 0.2767935\ttotal: 11.6s\tremaining: 2.32s\n",
      "2750:\tlearn: 0.2744817\ttotal: 12.8s\tremaining: 1.16s\n",
      "2999:\tlearn: 0.2723251\ttotal: 13.8s\tremaining: 0us\n",
      "0:\tlearn: 0.6847920\ttotal: 23ms\tremaining: 1m 9s\n",
      "250:\tlearn: 0.2458104\ttotal: 1.24s\tremaining: 13.5s\n",
      "500:\tlearn: 0.2307006\ttotal: 2.08s\tremaining: 10.4s\n",
      "750:\tlearn: 0.2238719\ttotal: 3.56s\tremaining: 10.7s\n",
      "1000:\tlearn: 0.2181748\ttotal: 4.46s\tremaining: 8.9s\n",
      "1250:\tlearn: 0.2141961\ttotal: 5.4s\tremaining: 7.56s\n",
      "1500:\tlearn: 0.2108465\ttotal: 6.47s\tremaining: 6.46s\n",
      "1750:\tlearn: 0.2078616\ttotal: 7.33s\tremaining: 5.23s\n",
      "2000:\tlearn: 0.2051900\ttotal: 8.86s\tremaining: 4.42s\n",
      "2250:\tlearn: 0.2028992\ttotal: 10.3s\tremaining: 3.42s\n",
      "2500:\tlearn: 0.2007927\ttotal: 11.8s\tremaining: 2.36s\n",
      "2750:\tlearn: 0.1989632\ttotal: 13.5s\tremaining: 1.22s\n",
      "2999:\tlearn: 0.1971072\ttotal: 14.9s\tremaining: 0us\n",
      "0:\tlearn: 0.6804763\ttotal: 24.8ms\tremaining: 1m 14s\n",
      "250:\tlearn: 0.2621318\ttotal: 972ms\tremaining: 10.6s\n",
      "500:\tlearn: 0.2478569\ttotal: 1.84s\tremaining: 9.17s\n",
      "750:\tlearn: 0.2413429\ttotal: 2.69s\tremaining: 8.05s\n",
      "1000:\tlearn: 0.2363904\ttotal: 3.56s\tremaining: 7.11s\n",
      "1250:\tlearn: 0.2321236\ttotal: 4.45s\tremaining: 6.23s\n",
      "1500:\tlearn: 0.2291195\ttotal: 5.3s\tremaining: 5.29s\n",
      "1750:\tlearn: 0.2267382\ttotal: 6.15s\tremaining: 4.39s\n",
      "2000:\tlearn: 0.2245817\ttotal: 7.04s\tremaining: 3.52s\n",
      "2250:\tlearn: 0.2227545\ttotal: 7.98s\tremaining: 2.65s\n",
      "2500:\tlearn: 0.2207956\ttotal: 8.85s\tremaining: 1.77s\n",
      "2750:\tlearn: 0.2188000\ttotal: 9.73s\tremaining: 881ms\n",
      "2999:\tlearn: 0.2169314\ttotal: 10.9s\tremaining: 0us\n",
      "0:\tlearn: 0.6865983\ttotal: 7.34ms\tremaining: 22s\n",
      "250:\tlearn: 0.3210899\ttotal: 1.66s\tremaining: 18.2s\n",
      "500:\tlearn: 0.3059993\ttotal: 2.96s\tremaining: 14.8s\n",
      "750:\tlearn: 0.2987927\ttotal: 4.78s\tremaining: 14.3s\n",
      "1000:\tlearn: 0.2933825\ttotal: 5.74s\tremaining: 11.5s\n",
      "1250:\tlearn: 0.2889417\ttotal: 6.6s\tremaining: 9.22s\n",
      "1500:\tlearn: 0.2851387\ttotal: 7.46s\tremaining: 7.45s\n",
      "1750:\tlearn: 0.2815758\ttotal: 8.8s\tremaining: 6.28s\n",
      "2000:\tlearn: 0.2787105\ttotal: 10.5s\tremaining: 5.26s\n",
      "2250:\tlearn: 0.2760959\ttotal: 11.7s\tremaining: 3.9s\n",
      "2500:\tlearn: 0.2736809\ttotal: 13.4s\tremaining: 2.67s\n",
      "2750:\tlearn: 0.2713561\ttotal: 14.3s\tremaining: 1.3s\n",
      "2999:\tlearn: 0.2689894\ttotal: 15.2s\tremaining: 0us\n",
      "0:\tlearn: 0.6860131\ttotal: 5.1ms\tremaining: 15.3s\n",
      "250:\tlearn: 0.2880403\ttotal: 910ms\tremaining: 9.96s\n",
      "500:\tlearn: 0.2715513\ttotal: 1.74s\tremaining: 8.69s\n",
      "750:\tlearn: 0.2639946\ttotal: 2.62s\tremaining: 7.83s\n",
      "1000:\tlearn: 0.2587874\ttotal: 3.48s\tremaining: 6.96s\n",
      "1250:\tlearn: 0.2538860\ttotal: 4.38s\tremaining: 6.12s\n",
      "1500:\tlearn: 0.2500375\ttotal: 5.36s\tremaining: 5.35s\n",
      "1750:\tlearn: 0.2465166\ttotal: 6.36s\tremaining: 4.53s\n",
      "2000:\tlearn: 0.2435089\ttotal: 7.28s\tremaining: 3.63s\n",
      "2250:\tlearn: 0.2409375\ttotal: 8.19s\tremaining: 2.72s\n",
      "2500:\tlearn: 0.2386009\ttotal: 9.07s\tremaining: 1.81s\n",
      "2750:\tlearn: 0.2364366\ttotal: 9.98s\tremaining: 903ms\n",
      "2999:\tlearn: 0.2343662\ttotal: 10.9s\tremaining: 0us\n"
     ]
    },
    {
     "data": {
      "text/plain": "ExponentiatedGradient(constraints=<fairlearn.reductions._moments.utility_parity.DemographicParity object at 0x2ae747e20>,\n                      estimator=<catboost.core.CatBoostClassifier object at 0x1077f1900>,\n                      max_iter=10, nu=0.0020654979885385933)",
      "text/html": "<style>#sk-container-id-2 {\n  /* Definition of color scheme common for light and dark mode */\n  --sklearn-color-text: black;\n  --sklearn-color-line: gray;\n  /* Definition of color scheme for unfitted estimators */\n  --sklearn-color-unfitted-level-0: #fff5e6;\n  --sklearn-color-unfitted-level-1: #f6e4d2;\n  --sklearn-color-unfitted-level-2: #ffe0b3;\n  --sklearn-color-unfitted-level-3: chocolate;\n  /* Definition of color scheme for fitted estimators */\n  --sklearn-color-fitted-level-0: #f0f8ff;\n  --sklearn-color-fitted-level-1: #d4ebff;\n  --sklearn-color-fitted-level-2: #b3dbfd;\n  --sklearn-color-fitted-level-3: cornflowerblue;\n\n  /* Specific color for light theme */\n  --sklearn-color-text-on-default-background: var(--sg-text-color, var(--theme-code-foreground, var(--jp-content-font-color1, black)));\n  --sklearn-color-background: var(--sg-background-color, var(--theme-background, var(--jp-layout-color0, white)));\n  --sklearn-color-border-box: var(--sg-text-color, var(--theme-code-foreground, var(--jp-content-font-color1, black)));\n  --sklearn-color-icon: #696969;\n\n  @media (prefers-color-scheme: dark) {\n    /* Redefinition of color scheme for dark theme */\n    --sklearn-color-text-on-default-background: var(--sg-text-color, var(--theme-code-foreground, var(--jp-content-font-color1, white)));\n    --sklearn-color-background: var(--sg-background-color, var(--theme-background, var(--jp-layout-color0, #111)));\n    --sklearn-color-border-box: var(--sg-text-color, var(--theme-code-foreground, var(--jp-content-font-color1, white)));\n    --sklearn-color-icon: #878787;\n  }\n}\n\n#sk-container-id-2 {\n  color: var(--sklearn-color-text);\n}\n\n#sk-container-id-2 pre {\n  padding: 0;\n}\n\n#sk-container-id-2 input.sk-hidden--visually {\n  border: 0;\n  clip: rect(1px 1px 1px 1px);\n  clip: rect(1px, 1px, 1px, 1px);\n  height: 1px;\n  margin: -1px;\n  overflow: hidden;\n  padding: 0;\n  position: absolute;\n  width: 1px;\n}\n\n#sk-container-id-2 div.sk-dashed-wrapped {\n  border: 1px dashed var(--sklearn-color-line);\n  margin: 0 0.4em 0.5em 0.4em;\n  box-sizing: border-box;\n  padding-bottom: 0.4em;\n  background-color: var(--sklearn-color-background);\n}\n\n#sk-container-id-2 div.sk-container {\n  /* jupyter's `normalize.less` sets `[hidden] { display: none; }`\n     but bootstrap.min.css set `[hidden] { display: none !important; }`\n     so we also need the `!important` here to be able to override the\n     default hidden behavior on the sphinx rendered scikit-learn.org.\n     See: https://github.com/scikit-learn/scikit-learn/issues/21755 */\n  display: inline-block !important;\n  position: relative;\n}\n\n#sk-container-id-2 div.sk-text-repr-fallback {\n  display: none;\n}\n\ndiv.sk-parallel-item,\ndiv.sk-serial,\ndiv.sk-item {\n  /* draw centered vertical line to link estimators */\n  background-image: linear-gradient(var(--sklearn-color-text-on-default-background), var(--sklearn-color-text-on-default-background));\n  background-size: 2px 100%;\n  background-repeat: no-repeat;\n  background-position: center center;\n}\n\n/* Parallel-specific style estimator block */\n\n#sk-container-id-2 div.sk-parallel-item::after {\n  content: \"\";\n  width: 100%;\n  border-bottom: 2px solid var(--sklearn-color-text-on-default-background);\n  flex-grow: 1;\n}\n\n#sk-container-id-2 div.sk-parallel {\n  display: flex;\n  align-items: stretch;\n  justify-content: center;\n  background-color: var(--sklearn-color-background);\n  position: relative;\n}\n\n#sk-container-id-2 div.sk-parallel-item {\n  display: flex;\n  flex-direction: column;\n}\n\n#sk-container-id-2 div.sk-parallel-item:first-child::after {\n  align-self: flex-end;\n  width: 50%;\n}\n\n#sk-container-id-2 div.sk-parallel-item:last-child::after {\n  align-self: flex-start;\n  width: 50%;\n}\n\n#sk-container-id-2 div.sk-parallel-item:only-child::after {\n  width: 0;\n}\n\n/* Serial-specific style estimator block */\n\n#sk-container-id-2 div.sk-serial {\n  display: flex;\n  flex-direction: column;\n  align-items: center;\n  background-color: var(--sklearn-color-background);\n  padding-right: 1em;\n  padding-left: 1em;\n}\n\n\n/* Toggleable style: style used for estimator/Pipeline/ColumnTransformer box that is\nclickable and can be expanded/collapsed.\n- Pipeline and ColumnTransformer use this feature and define the default style\n- Estimators will overwrite some part of the style using the `sk-estimator` class\n*/\n\n/* Pipeline and ColumnTransformer style (default) */\n\n#sk-container-id-2 div.sk-toggleable {\n  /* Default theme specific background. It is overwritten whether we have a\n  specific estimator or a Pipeline/ColumnTransformer */\n  background-color: var(--sklearn-color-background);\n}\n\n/* Toggleable label */\n#sk-container-id-2 label.sk-toggleable__label {\n  cursor: pointer;\n  display: block;\n  width: 100%;\n  margin-bottom: 0;\n  padding: 0.5em;\n  box-sizing: border-box;\n  text-align: center;\n}\n\n#sk-container-id-2 label.sk-toggleable__label-arrow:before {\n  /* Arrow on the left of the label */\n  content: \"▸\";\n  float: left;\n  margin-right: 0.25em;\n  color: var(--sklearn-color-icon);\n}\n\n#sk-container-id-2 label.sk-toggleable__label-arrow:hover:before {\n  color: var(--sklearn-color-text);\n}\n\n/* Toggleable content - dropdown */\n\n#sk-container-id-2 div.sk-toggleable__content {\n  max-height: 0;\n  max-width: 0;\n  overflow: hidden;\n  text-align: left;\n  /* unfitted */\n  background-color: var(--sklearn-color-unfitted-level-0);\n}\n\n#sk-container-id-2 div.sk-toggleable__content.fitted {\n  /* fitted */\n  background-color: var(--sklearn-color-fitted-level-0);\n}\n\n#sk-container-id-2 div.sk-toggleable__content pre {\n  margin: 0.2em;\n  border-radius: 0.25em;\n  color: var(--sklearn-color-text);\n  /* unfitted */\n  background-color: var(--sklearn-color-unfitted-level-0);\n}\n\n#sk-container-id-2 div.sk-toggleable__content.fitted pre {\n  /* unfitted */\n  background-color: var(--sklearn-color-fitted-level-0);\n}\n\n#sk-container-id-2 input.sk-toggleable__control:checked~div.sk-toggleable__content {\n  /* Expand drop-down */\n  max-height: 200px;\n  max-width: 100%;\n  overflow: auto;\n}\n\n#sk-container-id-2 input.sk-toggleable__control:checked~label.sk-toggleable__label-arrow:before {\n  content: \"▾\";\n}\n\n/* Pipeline/ColumnTransformer-specific style */\n\n#sk-container-id-2 div.sk-label input.sk-toggleable__control:checked~label.sk-toggleable__label {\n  color: var(--sklearn-color-text);\n  background-color: var(--sklearn-color-unfitted-level-2);\n}\n\n#sk-container-id-2 div.sk-label.fitted input.sk-toggleable__control:checked~label.sk-toggleable__label {\n  background-color: var(--sklearn-color-fitted-level-2);\n}\n\n/* Estimator-specific style */\n\n/* Colorize estimator box */\n#sk-container-id-2 div.sk-estimator input.sk-toggleable__control:checked~label.sk-toggleable__label {\n  /* unfitted */\n  background-color: var(--sklearn-color-unfitted-level-2);\n}\n\n#sk-container-id-2 div.sk-estimator.fitted input.sk-toggleable__control:checked~label.sk-toggleable__label {\n  /* fitted */\n  background-color: var(--sklearn-color-fitted-level-2);\n}\n\n#sk-container-id-2 div.sk-label label.sk-toggleable__label,\n#sk-container-id-2 div.sk-label label {\n  /* The background is the default theme color */\n  color: var(--sklearn-color-text-on-default-background);\n}\n\n/* On hover, darken the color of the background */\n#sk-container-id-2 div.sk-label:hover label.sk-toggleable__label {\n  color: var(--sklearn-color-text);\n  background-color: var(--sklearn-color-unfitted-level-2);\n}\n\n/* Label box, darken color on hover, fitted */\n#sk-container-id-2 div.sk-label.fitted:hover label.sk-toggleable__label.fitted {\n  color: var(--sklearn-color-text);\n  background-color: var(--sklearn-color-fitted-level-2);\n}\n\n/* Estimator label */\n\n#sk-container-id-2 div.sk-label label {\n  font-family: monospace;\n  font-weight: bold;\n  display: inline-block;\n  line-height: 1.2em;\n}\n\n#sk-container-id-2 div.sk-label-container {\n  text-align: center;\n}\n\n/* Estimator-specific */\n#sk-container-id-2 div.sk-estimator {\n  font-family: monospace;\n  border: 1px dotted var(--sklearn-color-border-box);\n  border-radius: 0.25em;\n  box-sizing: border-box;\n  margin-bottom: 0.5em;\n  /* unfitted */\n  background-color: var(--sklearn-color-unfitted-level-0);\n}\n\n#sk-container-id-2 div.sk-estimator.fitted {\n  /* fitted */\n  background-color: var(--sklearn-color-fitted-level-0);\n}\n\n/* on hover */\n#sk-container-id-2 div.sk-estimator:hover {\n  /* unfitted */\n  background-color: var(--sklearn-color-unfitted-level-2);\n}\n\n#sk-container-id-2 div.sk-estimator.fitted:hover {\n  /* fitted */\n  background-color: var(--sklearn-color-fitted-level-2);\n}\n\n/* Specification for estimator info (e.g. \"i\" and \"?\") */\n\n/* Common style for \"i\" and \"?\" */\n\n.sk-estimator-doc-link,\na:link.sk-estimator-doc-link,\na:visited.sk-estimator-doc-link {\n  float: right;\n  font-size: smaller;\n  line-height: 1em;\n  font-family: monospace;\n  background-color: var(--sklearn-color-background);\n  border-radius: 1em;\n  height: 1em;\n  width: 1em;\n  text-decoration: none !important;\n  margin-left: 1ex;\n  /* unfitted */\n  border: var(--sklearn-color-unfitted-level-1) 1pt solid;\n  color: var(--sklearn-color-unfitted-level-1);\n}\n\n.sk-estimator-doc-link.fitted,\na:link.sk-estimator-doc-link.fitted,\na:visited.sk-estimator-doc-link.fitted {\n  /* fitted */\n  border: var(--sklearn-color-fitted-level-1) 1pt solid;\n  color: var(--sklearn-color-fitted-level-1);\n}\n\n/* On hover */\ndiv.sk-estimator:hover .sk-estimator-doc-link:hover,\n.sk-estimator-doc-link:hover,\ndiv.sk-label-container:hover .sk-estimator-doc-link:hover,\n.sk-estimator-doc-link:hover {\n  /* unfitted */\n  background-color: var(--sklearn-color-unfitted-level-3);\n  color: var(--sklearn-color-background);\n  text-decoration: none;\n}\n\ndiv.sk-estimator.fitted:hover .sk-estimator-doc-link.fitted:hover,\n.sk-estimator-doc-link.fitted:hover,\ndiv.sk-label-container:hover .sk-estimator-doc-link.fitted:hover,\n.sk-estimator-doc-link.fitted:hover {\n  /* fitted */\n  background-color: var(--sklearn-color-fitted-level-3);\n  color: var(--sklearn-color-background);\n  text-decoration: none;\n}\n\n/* Span, style for the box shown on hovering the info icon */\n.sk-estimator-doc-link span {\n  display: none;\n  z-index: 9999;\n  position: relative;\n  font-weight: normal;\n  right: .2ex;\n  padding: .5ex;\n  margin: .5ex;\n  width: min-content;\n  min-width: 20ex;\n  max-width: 50ex;\n  color: var(--sklearn-color-text);\n  box-shadow: 2pt 2pt 4pt #999;\n  /* unfitted */\n  background: var(--sklearn-color-unfitted-level-0);\n  border: .5pt solid var(--sklearn-color-unfitted-level-3);\n}\n\n.sk-estimator-doc-link.fitted span {\n  /* fitted */\n  background: var(--sklearn-color-fitted-level-0);\n  border: var(--sklearn-color-fitted-level-3);\n}\n\n.sk-estimator-doc-link:hover span {\n  display: block;\n}\n\n/* \"?\"-specific style due to the `<a>` HTML tag */\n\n#sk-container-id-2 a.estimator_doc_link {\n  float: right;\n  font-size: 1rem;\n  line-height: 1em;\n  font-family: monospace;\n  background-color: var(--sklearn-color-background);\n  border-radius: 1rem;\n  height: 1rem;\n  width: 1rem;\n  text-decoration: none;\n  /* unfitted */\n  color: var(--sklearn-color-unfitted-level-1);\n  border: var(--sklearn-color-unfitted-level-1) 1pt solid;\n}\n\n#sk-container-id-2 a.estimator_doc_link.fitted {\n  /* fitted */\n  border: var(--sklearn-color-fitted-level-1) 1pt solid;\n  color: var(--sklearn-color-fitted-level-1);\n}\n\n/* On hover */\n#sk-container-id-2 a.estimator_doc_link:hover {\n  /* unfitted */\n  background-color: var(--sklearn-color-unfitted-level-3);\n  color: var(--sklearn-color-background);\n  text-decoration: none;\n}\n\n#sk-container-id-2 a.estimator_doc_link.fitted:hover {\n  /* fitted */\n  background-color: var(--sklearn-color-fitted-level-3);\n}\n</style><div id=\"sk-container-id-2\" class=\"sk-top-container\"><div class=\"sk-text-repr-fallback\"><pre>ExponentiatedGradient(constraints=&lt;fairlearn.reductions._moments.utility_parity.DemographicParity object at 0x2ae747e20&gt;,\n                      estimator=&lt;catboost.core.CatBoostClassifier object at 0x1077f1900&gt;,\n                      max_iter=10, nu=0.0020654979885385933)</pre><b>In a Jupyter environment, please rerun this cell to show the HTML representation or trust the notebook. <br />On GitHub, the HTML representation is unable to render, please try loading this page with nbviewer.org.</b></div><div class=\"sk-container\" hidden><div class=\"sk-item sk-dashed-wrapped\"><div class=\"sk-label-container\"><div class=\"sk-label fitted sk-toggleable\"><input class=\"sk-toggleable__control sk-hidden--visually\" id=\"sk-estimator-id-4\" type=\"checkbox\" ><label for=\"sk-estimator-id-4\" class=\"sk-toggleable__label fitted sk-toggleable__label-arrow fitted\">&nbsp;ExponentiatedGradient<span class=\"sk-estimator-doc-link fitted\">i<span>Fitted</span></span></label><div class=\"sk-toggleable__content fitted\"><pre>ExponentiatedGradient(constraints=&lt;fairlearn.reductions._moments.utility_parity.DemographicParity object at 0x2ae747e20&gt;,\n                      estimator=&lt;catboost.core.CatBoostClassifier object at 0x1077f1900&gt;,\n                      max_iter=10, nu=0.0020654979885385933)</pre></div> </div></div><div class=\"sk-parallel\"><div class=\"sk-parallel-item\"><div class=\"sk-item\"><div class=\"sk-label-container\"><div class=\"sk-label fitted sk-toggleable\"><input class=\"sk-toggleable__control sk-hidden--visually\" id=\"sk-estimator-id-5\" type=\"checkbox\" ><label for=\"sk-estimator-id-5\" class=\"sk-toggleable__label fitted sk-toggleable__label-arrow fitted\">estimator: CatBoostClassifier</label><div class=\"sk-toggleable__content fitted\"><pre>&lt;catboost.core.CatBoostClassifier object at 0x1077f1900&gt;</pre></div> </div></div><div class=\"sk-serial\"><div class=\"sk-item\"><div class=\"sk-estimator fitted sk-toggleable\"><input class=\"sk-toggleable__control sk-hidden--visually\" id=\"sk-estimator-id-6\" type=\"checkbox\" ><label for=\"sk-estimator-id-6\" class=\"sk-toggleable__label fitted sk-toggleable__label-arrow fitted\">CatBoostClassifier</label><div class=\"sk-toggleable__content fitted\"><pre>&lt;catboost.core.CatBoostClassifier object at 0x1077f1900&gt;</pre></div> </div></div></div></div></div></div></div></div></div>"
     },
     "execution_count": 38,
     "metadata": {},
     "output_type": "execute_result"
    }
   ],
   "source": [
    "reduction = ExponentiatedGradient(estimator=default_model.copy(), constraints=DemographicParity(difference_bound=0.01), max_iter=10)\n",
    "reduction.fit(X_train, y_train, sensitive_features=z_train)"
   ],
   "metadata": {
    "collapsed": false,
    "ExecuteTime": {
     "end_time": "2024-03-28T12:02:20.569867Z",
     "start_time": "2024-03-28T11:56:45.670037Z"
    }
   },
   "id": "4b8a9cba1d4bf895",
   "execution_count": 38
  },
  {
   "cell_type": "code",
   "outputs": [],
   "source": [
    "y_pred_reduced = reduction.predict(X_test)"
   ],
   "metadata": {
    "collapsed": false,
    "ExecuteTime": {
     "end_time": "2024-03-28T12:02:20.761305Z",
     "start_time": "2024-03-28T12:02:20.570997Z"
    }
   },
   "id": "dabde3cdd3d0eb70",
   "execution_count": 39
  },
  {
   "cell_type": "code",
   "outputs": [
    {
     "name": "stdout",
     "output_type": "stream",
     "text": [
      "              precision    recall  f1-score   support\n",
      "\n",
      "           0       0.87      0.84      0.85       749\n",
      "           1       0.83      0.86      0.85       694\n",
      "\n",
      "    accuracy                           0.85      1443\n",
      "   macro avg       0.85      0.85      0.85      1443\n",
      "weighted avg       0.85      0.85      0.85      1443\n"
     ]
    }
   ],
   "source": [
    "print(classification_report(y_test, y_pred_reduced))"
   ],
   "metadata": {
    "collapsed": false,
    "ExecuteTime": {
     "end_time": "2024-03-28T12:02:20.838446Z",
     "start_time": "2024-03-28T12:02:20.764441Z"
    }
   },
   "id": "d9af79c056e6430c",
   "execution_count": 40
  },
  {
   "cell_type": "code",
   "outputs": [
    {
     "data": {
      "text/plain": "                metric        type          method     value\n8   demographic_parity  difference  between_groups  0.700000\n10  demographic_parity  difference      to_overall  0.477477\n9   demographic_parity       ratio  between_groups  0.300000\n11  demographic_parity       ratio      to_overall  0.522523\n0    equal_opportunity  difference  between_groups  0.333333\n2    equal_opportunity  difference      to_overall  0.249760\n1    equal_opportunity       ratio  between_groups  0.666667\n3    equal_opportunity       ratio      to_overall  0.727463\n4       equalized_odds  difference  between_groups  0.333333\n6       equalized_odds  difference      to_overall  0.249760\n5       equalized_odds       ratio  between_groups  0.000000\n7       equalized_odds       ratio      to_overall  0.000000",
      "text/html": "<div>\n<style scoped>\n    .dataframe tbody tr th:only-of-type {\n        vertical-align: middle;\n    }\n\n    .dataframe tbody tr th {\n        vertical-align: top;\n    }\n\n    .dataframe thead th {\n        text-align: right;\n    }\n</style>\n<table border=\"1\" class=\"dataframe\">\n  <thead>\n    <tr style=\"text-align: right;\">\n      <th></th>\n      <th>metric</th>\n      <th>type</th>\n      <th>method</th>\n      <th>value</th>\n    </tr>\n  </thead>\n  <tbody>\n    <tr>\n      <th>8</th>\n      <td>demographic_parity</td>\n      <td>difference</td>\n      <td>between_groups</td>\n      <td>0.700000</td>\n    </tr>\n    <tr>\n      <th>10</th>\n      <td>demographic_parity</td>\n      <td>difference</td>\n      <td>to_overall</td>\n      <td>0.477477</td>\n    </tr>\n    <tr>\n      <th>9</th>\n      <td>demographic_parity</td>\n      <td>ratio</td>\n      <td>between_groups</td>\n      <td>0.300000</td>\n    </tr>\n    <tr>\n      <th>11</th>\n      <td>demographic_parity</td>\n      <td>ratio</td>\n      <td>to_overall</td>\n      <td>0.522523</td>\n    </tr>\n    <tr>\n      <th>0</th>\n      <td>equal_opportunity</td>\n      <td>difference</td>\n      <td>between_groups</td>\n      <td>0.333333</td>\n    </tr>\n    <tr>\n      <th>2</th>\n      <td>equal_opportunity</td>\n      <td>difference</td>\n      <td>to_overall</td>\n      <td>0.249760</td>\n    </tr>\n    <tr>\n      <th>1</th>\n      <td>equal_opportunity</td>\n      <td>ratio</td>\n      <td>between_groups</td>\n      <td>0.666667</td>\n    </tr>\n    <tr>\n      <th>3</th>\n      <td>equal_opportunity</td>\n      <td>ratio</td>\n      <td>to_overall</td>\n      <td>0.727463</td>\n    </tr>\n    <tr>\n      <th>4</th>\n      <td>equalized_odds</td>\n      <td>difference</td>\n      <td>between_groups</td>\n      <td>0.333333</td>\n    </tr>\n    <tr>\n      <th>6</th>\n      <td>equalized_odds</td>\n      <td>difference</td>\n      <td>to_overall</td>\n      <td>0.249760</td>\n    </tr>\n    <tr>\n      <th>5</th>\n      <td>equalized_odds</td>\n      <td>ratio</td>\n      <td>between_groups</td>\n      <td>0.000000</td>\n    </tr>\n    <tr>\n      <th>7</th>\n      <td>equalized_odds</td>\n      <td>ratio</td>\n      <td>to_overall</td>\n      <td>0.000000</td>\n    </tr>\n  </tbody>\n</table>\n</div>"
     },
     "execution_count": 41,
     "metadata": {},
     "output_type": "execute_result"
    }
   ],
   "source": [
    "calculate_fairlearn_metrics(y_test, y_pred, z_test)"
   ],
   "metadata": {
    "collapsed": false,
    "ExecuteTime": {
     "end_time": "2024-03-28T12:02:21.091116Z",
     "start_time": "2024-03-28T12:02:20.843811Z"
    }
   },
   "id": "68ea9be3a71b7ebc",
   "execution_count": 41
  },
  {
   "cell_type": "markdown",
   "source": [
    "### AIF360"
   ],
   "metadata": {
    "collapsed": false
   },
   "id": "2825f7824182b87f"
  },
  {
   "cell_type": "markdown",
   "source": [
    "#### Detection\n",
    "\n",
    "_\"Since the main computation of confusion matrices is common for a large set of metrics, we utilize memoization and caching of computations for performance on large-scale datasets.\"_"
   ],
   "metadata": {
    "collapsed": false
   },
   "id": "1a212e8ee774ed51"
  },
  {
   "cell_type": "code",
   "outputs": [],
   "source": [
    "priv_group = \"Caucasian\""
   ],
   "metadata": {
    "collapsed": false,
    "ExecuteTime": {
     "end_time": "2024-03-28T12:02:21.131871Z",
     "start_time": "2024-03-28T12:02:21.091537Z"
    }
   },
   "id": "c8117b5215ab7b7e",
   "execution_count": 42
  },
  {
   "cell_type": "code",
   "outputs": [
    {
     "data": {
      "text/plain": "               metric        type method     value\n0  demographic_parity  difference  other  0.100396\n1  demographic_parity       ratio  other  1.219895\n2   equal_opportunity  difference  other  0.002599",
      "text/html": "<div>\n<style scoped>\n    .dataframe tbody tr th:only-of-type {\n        vertical-align: middle;\n    }\n\n    .dataframe tbody tr th {\n        vertical-align: top;\n    }\n\n    .dataframe thead th {\n        text-align: right;\n    }\n</style>\n<table border=\"1\" class=\"dataframe\">\n  <thead>\n    <tr style=\"text-align: right;\">\n      <th></th>\n      <th>metric</th>\n      <th>type</th>\n      <th>method</th>\n      <th>value</th>\n    </tr>\n  </thead>\n  <tbody>\n    <tr>\n      <th>0</th>\n      <td>demographic_parity</td>\n      <td>difference</td>\n      <td>other</td>\n      <td>0.100396</td>\n    </tr>\n    <tr>\n      <th>1</th>\n      <td>demographic_parity</td>\n      <td>ratio</td>\n      <td>other</td>\n      <td>1.219895</td>\n    </tr>\n    <tr>\n      <th>2</th>\n      <td>equal_opportunity</td>\n      <td>difference</td>\n      <td>other</td>\n      <td>0.002599</td>\n    </tr>\n  </tbody>\n</table>\n</div>"
     },
     "execution_count": 43,
     "metadata": {},
     "output_type": "execute_result"
    }
   ],
   "source": [
    "calculate_aif360_metrics(y_test, y_pred, z_test, priv_group=priv_group)"
   ],
   "metadata": {
    "collapsed": false,
    "ExecuteTime": {
     "end_time": "2024-03-28T12:02:21.174845Z",
     "start_time": "2024-03-28T12:02:21.125087Z"
    }
   },
   "id": "dd220c7052694a3f",
   "execution_count": 43
  },
  {
   "cell_type": "markdown",
   "source": [
    "#### Mitigation"
   ],
   "metadata": {
    "collapsed": false
   },
   "id": "7c8ebd286d86622d"
  },
  {
   "cell_type": "code",
   "outputs": [],
   "source": [
    "from aif360.sklearn.inprocessing import ExponentiatedGradientReduction as ExponentiatedGradientReductionAif"
   ],
   "metadata": {
    "collapsed": false,
    "ExecuteTime": {
     "end_time": "2024-03-28T11:46:58.928375Z",
     "start_time": "2024-03-28T11:46:58.899508Z"
    }
   },
   "id": "a8fd6bbbae26771c",
   "execution_count": 25
  },
  {
   "cell_type": "code",
   "outputs": [],
   "source": [
    "# drop_prot_attr=True is incompatible with catboost cat_features parameter\n",
    "reduction_aif = ExponentiatedGradientReductionAif(prot_attr=PROTECTED_ATTRIBUTE, estimator=default_model.copy(), constraints=DemographicParity(difference_bound=0.01), max_iter=10, drop_prot_attr=False)"
   ],
   "metadata": {
    "collapsed": false,
    "ExecuteTime": {
     "end_time": "2024-03-28T11:49:48.908201Z",
     "start_time": "2024-03-28T11:49:48.870058Z"
    }
   },
   "id": "53831a45caca1e6",
   "execution_count": 33
  },
  {
   "cell_type": "code",
   "outputs": [
    {
     "name": "stderr",
     "output_type": "stream",
     "text": [
      "/opt/homebrew/Caskroom/miniconda/base/envs/fairness-toolkits/lib/python3.10/site-packages/fairlearn/reductions/_moments/utility_parity.py:214: FutureWarning: ChainedAssignmentError: behaviour will change in pandas 3.0!\n",
      "You are setting values through chained assignment. Currently this works in certain cases, but when using Copy-on-Write (which will become the default behaviour in pandas 3.0) this will never work to update the original DataFrame or Series, because the intermediate object on which we are setting values will behave as a copy.\n",
      "A typical example is when you are setting values in a column of a DataFrame, like:\n",
      "\n",
      "df[\"col\"][row_indexer] = value\n",
      "\n",
      "Use `df.loc[row_indexer, \"col\"] = values` instead, to perform the assignment in a single step and ensure this keeps updating the original `df`.\n",
      "\n",
      "See the caveats in the documentation: https://pandas.pydata.org/pandas-docs/stable/user_guide/indexing.html#returning-a-view-versus-a-copy\n",
      "\n",
      "  self.pos_basis[i][\"+\", e, g] = 1\n",
      "/opt/homebrew/Caskroom/miniconda/base/envs/fairness-toolkits/lib/python3.10/site-packages/fairlearn/reductions/_moments/utility_parity.py:215: FutureWarning: ChainedAssignmentError: behaviour will change in pandas 3.0!\n",
      "You are setting values through chained assignment. Currently this works in certain cases, but when using Copy-on-Write (which will become the default behaviour in pandas 3.0) this will never work to update the original DataFrame or Series, because the intermediate object on which we are setting values will behave as a copy.\n",
      "A typical example is when you are setting values in a column of a DataFrame, like:\n",
      "\n",
      "df[\"col\"][row_indexer] = value\n",
      "\n",
      "Use `df.loc[row_indexer, \"col\"] = values` instead, to perform the assignment in a single step and ensure this keeps updating the original `df`.\n",
      "\n",
      "See the caveats in the documentation: https://pandas.pydata.org/pandas-docs/stable/user_guide/indexing.html#returning-a-view-versus-a-copy\n",
      "\n",
      "  self.neg_basis[i][\"-\", e, g] = 1\n",
      "/opt/homebrew/Caskroom/miniconda/base/envs/fairness-toolkits/lib/python3.10/site-packages/fairlearn/reductions/_moments/utility_parity.py:214: FutureWarning: ChainedAssignmentError: behaviour will change in pandas 3.0!\n",
      "You are setting values through chained assignment. Currently this works in certain cases, but when using Copy-on-Write (which will become the default behaviour in pandas 3.0) this will never work to update the original DataFrame or Series, because the intermediate object on which we are setting values will behave as a copy.\n",
      "A typical example is when you are setting values in a column of a DataFrame, like:\n",
      "\n",
      "df[\"col\"][row_indexer] = value\n",
      "\n",
      "Use `df.loc[row_indexer, \"col\"] = values` instead, to perform the assignment in a single step and ensure this keeps updating the original `df`.\n",
      "\n",
      "See the caveats in the documentation: https://pandas.pydata.org/pandas-docs/stable/user_guide/indexing.html#returning-a-view-versus-a-copy\n",
      "\n",
      "  self.pos_basis[i][\"+\", e, g] = 1\n",
      "/opt/homebrew/Caskroom/miniconda/base/envs/fairness-toolkits/lib/python3.10/site-packages/fairlearn/reductions/_moments/utility_parity.py:215: FutureWarning: ChainedAssignmentError: behaviour will change in pandas 3.0!\n",
      "You are setting values through chained assignment. Currently this works in certain cases, but when using Copy-on-Write (which will become the default behaviour in pandas 3.0) this will never work to update the original DataFrame or Series, because the intermediate object on which we are setting values will behave as a copy.\n",
      "A typical example is when you are setting values in a column of a DataFrame, like:\n",
      "\n",
      "df[\"col\"][row_indexer] = value\n",
      "\n",
      "Use `df.loc[row_indexer, \"col\"] = values` instead, to perform the assignment in a single step and ensure this keeps updating the original `df`.\n",
      "\n",
      "See the caveats in the documentation: https://pandas.pydata.org/pandas-docs/stable/user_guide/indexing.html#returning-a-view-versus-a-copy\n",
      "\n",
      "  self.neg_basis[i][\"-\", e, g] = 1\n",
      "/opt/homebrew/Caskroom/miniconda/base/envs/fairness-toolkits/lib/python3.10/site-packages/fairlearn/reductions/_moments/utility_parity.py:214: FutureWarning: ChainedAssignmentError: behaviour will change in pandas 3.0!\n",
      "You are setting values through chained assignment. Currently this works in certain cases, but when using Copy-on-Write (which will become the default behaviour in pandas 3.0) this will never work to update the original DataFrame or Series, because the intermediate object on which we are setting values will behave as a copy.\n",
      "A typical example is when you are setting values in a column of a DataFrame, like:\n",
      "\n",
      "df[\"col\"][row_indexer] = value\n",
      "\n",
      "Use `df.loc[row_indexer, \"col\"] = values` instead, to perform the assignment in a single step and ensure this keeps updating the original `df`.\n",
      "\n",
      "See the caveats in the documentation: https://pandas.pydata.org/pandas-docs/stable/user_guide/indexing.html#returning-a-view-versus-a-copy\n",
      "\n",
      "  self.pos_basis[i][\"+\", e, g] = 1\n",
      "/opt/homebrew/Caskroom/miniconda/base/envs/fairness-toolkits/lib/python3.10/site-packages/fairlearn/reductions/_moments/utility_parity.py:215: FutureWarning: ChainedAssignmentError: behaviour will change in pandas 3.0!\n",
      "You are setting values through chained assignment. Currently this works in certain cases, but when using Copy-on-Write (which will become the default behaviour in pandas 3.0) this will never work to update the original DataFrame or Series, because the intermediate object on which we are setting values will behave as a copy.\n",
      "A typical example is when you are setting values in a column of a DataFrame, like:\n",
      "\n",
      "df[\"col\"][row_indexer] = value\n",
      "\n",
      "Use `df.loc[row_indexer, \"col\"] = values` instead, to perform the assignment in a single step and ensure this keeps updating the original `df`.\n",
      "\n",
      "See the caveats in the documentation: https://pandas.pydata.org/pandas-docs/stable/user_guide/indexing.html#returning-a-view-versus-a-copy\n",
      "\n",
      "  self.neg_basis[i][\"-\", e, g] = 1\n",
      "/opt/homebrew/Caskroom/miniconda/base/envs/fairness-toolkits/lib/python3.10/site-packages/fairlearn/reductions/_moments/utility_parity.py:214: FutureWarning: ChainedAssignmentError: behaviour will change in pandas 3.0!\n",
      "You are setting values through chained assignment. Currently this works in certain cases, but when using Copy-on-Write (which will become the default behaviour in pandas 3.0) this will never work to update the original DataFrame or Series, because the intermediate object on which we are setting values will behave as a copy.\n",
      "A typical example is when you are setting values in a column of a DataFrame, like:\n",
      "\n",
      "df[\"col\"][row_indexer] = value\n",
      "\n",
      "Use `df.loc[row_indexer, \"col\"] = values` instead, to perform the assignment in a single step and ensure this keeps updating the original `df`.\n",
      "\n",
      "See the caveats in the documentation: https://pandas.pydata.org/pandas-docs/stable/user_guide/indexing.html#returning-a-view-versus-a-copy\n",
      "\n",
      "  self.pos_basis[i][\"+\", e, g] = 1\n",
      "/opt/homebrew/Caskroom/miniconda/base/envs/fairness-toolkits/lib/python3.10/site-packages/fairlearn/reductions/_moments/utility_parity.py:215: FutureWarning: ChainedAssignmentError: behaviour will change in pandas 3.0!\n",
      "You are setting values through chained assignment. Currently this works in certain cases, but when using Copy-on-Write (which will become the default behaviour in pandas 3.0) this will never work to update the original DataFrame or Series, because the intermediate object on which we are setting values will behave as a copy.\n",
      "A typical example is when you are setting values in a column of a DataFrame, like:\n",
      "\n",
      "df[\"col\"][row_indexer] = value\n",
      "\n",
      "Use `df.loc[row_indexer, \"col\"] = values` instead, to perform the assignment in a single step and ensure this keeps updating the original `df`.\n",
      "\n",
      "See the caveats in the documentation: https://pandas.pydata.org/pandas-docs/stable/user_guide/indexing.html#returning-a-view-versus-a-copy\n",
      "\n",
      "  self.neg_basis[i][\"-\", e, g] = 1\n",
      "/opt/homebrew/Caskroom/miniconda/base/envs/fairness-toolkits/lib/python3.10/site-packages/fairlearn/reductions/_moments/utility_parity.py:214: FutureWarning: ChainedAssignmentError: behaviour will change in pandas 3.0!\n",
      "You are setting values through chained assignment. Currently this works in certain cases, but when using Copy-on-Write (which will become the default behaviour in pandas 3.0) this will never work to update the original DataFrame or Series, because the intermediate object on which we are setting values will behave as a copy.\n",
      "A typical example is when you are setting values in a column of a DataFrame, like:\n",
      "\n",
      "df[\"col\"][row_indexer] = value\n",
      "\n",
      "Use `df.loc[row_indexer, \"col\"] = values` instead, to perform the assignment in a single step and ensure this keeps updating the original `df`.\n",
      "\n",
      "See the caveats in the documentation: https://pandas.pydata.org/pandas-docs/stable/user_guide/indexing.html#returning-a-view-versus-a-copy\n",
      "\n",
      "  self.pos_basis[i][\"+\", e, g] = 1\n",
      "/opt/homebrew/Caskroom/miniconda/base/envs/fairness-toolkits/lib/python3.10/site-packages/fairlearn/reductions/_moments/utility_parity.py:215: FutureWarning: ChainedAssignmentError: behaviour will change in pandas 3.0!\n",
      "You are setting values through chained assignment. Currently this works in certain cases, but when using Copy-on-Write (which will become the default behaviour in pandas 3.0) this will never work to update the original DataFrame or Series, because the intermediate object on which we are setting values will behave as a copy.\n",
      "A typical example is when you are setting values in a column of a DataFrame, like:\n",
      "\n",
      "df[\"col\"][row_indexer] = value\n",
      "\n",
      "Use `df.loc[row_indexer, \"col\"] = values` instead, to perform the assignment in a single step and ensure this keeps updating the original `df`.\n",
      "\n",
      "See the caveats in the documentation: https://pandas.pydata.org/pandas-docs/stable/user_guide/indexing.html#returning-a-view-versus-a-copy\n",
      "\n",
      "  self.neg_basis[i][\"-\", e, g] = 1\n"
     ]
    },
    {
     "name": "stdout",
     "output_type": "stream",
     "text": [
      "0:\tlearn: 0.6844627\ttotal: 15.8ms\tremaining: 47.3s\n",
      "250:\tlearn: 0.3208956\ttotal: 1.43s\tremaining: 15.6s\n",
      "500:\tlearn: 0.3091280\ttotal: 2.33s\tremaining: 11.6s\n",
      "750:\tlearn: 0.3038870\ttotal: 3.15s\tremaining: 9.45s\n",
      "1000:\tlearn: 0.2994238\ttotal: 4.51s\tremaining: 9s\n",
      "1250:\tlearn: 0.2951383\ttotal: 5.69s\tremaining: 7.95s\n",
      "1500:\tlearn: 0.2916133\ttotal: 7.01s\tremaining: 7s\n",
      "1750:\tlearn: 0.2886633\ttotal: 7.92s\tremaining: 5.65s\n",
      "2000:\tlearn: 0.2859524\ttotal: 8.6s\tremaining: 4.29s\n",
      "2250:\tlearn: 0.2837542\ttotal: 9.28s\tremaining: 3.09s\n",
      "2500:\tlearn: 0.2815680\ttotal: 9.96s\tremaining: 1.99s\n",
      "2750:\tlearn: 0.2795766\ttotal: 10.6s\tremaining: 964ms\n",
      "2999:\tlearn: 0.2775952\ttotal: 11.3s\tremaining: 0us\n",
      "0:\tlearn: 0.6844627\ttotal: 8.18ms\tremaining: 24.5s\n",
      "250:\tlearn: 0.3208956\ttotal: 812ms\tremaining: 8.89s\n",
      "500:\tlearn: 0.3091280\ttotal: 1.47s\tremaining: 7.34s\n",
      "750:\tlearn: 0.3038870\ttotal: 2.13s\tremaining: 6.38s\n",
      "1000:\tlearn: 0.2994238\ttotal: 2.8s\tremaining: 5.59s\n",
      "1250:\tlearn: 0.2951383\ttotal: 3.48s\tremaining: 4.86s\n",
      "1500:\tlearn: 0.2916133\ttotal: 4.14s\tremaining: 4.14s\n",
      "1750:\tlearn: 0.2886633\ttotal: 4.82s\tremaining: 3.44s\n",
      "2000:\tlearn: 0.2859524\ttotal: 5.5s\tremaining: 2.74s\n",
      "2250:\tlearn: 0.2837542\ttotal: 6.18s\tremaining: 2.06s\n",
      "2500:\tlearn: 0.2815680\ttotal: 6.86s\tremaining: 1.37s\n",
      "2750:\tlearn: 0.2795766\ttotal: 7.54s\tremaining: 683ms\n",
      "2999:\tlearn: 0.2775952\ttotal: 8.21s\tremaining: 0us\n",
      "0:\tlearn: 0.6839275\ttotal: 13.3ms\tremaining: 39.9s\n",
      "250:\tlearn: 0.3167206\ttotal: 802ms\tremaining: 8.78s\n",
      "500:\tlearn: 0.3009107\ttotal: 1.44s\tremaining: 7.2s\n",
      "750:\tlearn: 0.2935073\ttotal: 2.11s\tremaining: 6.31s\n",
      "1000:\tlearn: 0.2879445\ttotal: 2.77s\tremaining: 5.53s\n",
      "1250:\tlearn: 0.2836529\ttotal: 3.44s\tremaining: 4.81s\n",
      "1500:\tlearn: 0.2796121\ttotal: 4.1s\tremaining: 4.1s\n",
      "1750:\tlearn: 0.2762119\ttotal: 4.77s\tremaining: 3.4s\n",
      "2000:\tlearn: 0.2732463\ttotal: 5.45s\tremaining: 2.72s\n",
      "2250:\tlearn: 0.2704486\ttotal: 6.13s\tremaining: 2.04s\n",
      "2500:\tlearn: 0.2676928\ttotal: 6.79s\tremaining: 1.35s\n",
      "2750:\tlearn: 0.2652809\ttotal: 7.47s\tremaining: 676ms\n",
      "2999:\tlearn: 0.2629570\ttotal: 8.14s\tremaining: 0us\n",
      "0:\tlearn: 0.6863485\ttotal: 15.7ms\tremaining: 47s\n",
      "250:\tlearn: 0.3247749\ttotal: 814ms\tremaining: 8.92s\n",
      "500:\tlearn: 0.3092829\ttotal: 1.47s\tremaining: 7.35s\n",
      "750:\tlearn: 0.3024681\ttotal: 2.15s\tremaining: 6.43s\n",
      "1000:\tlearn: 0.2972355\ttotal: 2.83s\tremaining: 5.65s\n",
      "1250:\tlearn: 0.2930219\ttotal: 3.49s\tremaining: 4.88s\n",
      "1500:\tlearn: 0.2890083\ttotal: 4.16s\tremaining: 4.15s\n",
      "1750:\tlearn: 0.2854868\ttotal: 4.83s\tremaining: 3.44s\n",
      "2000:\tlearn: 0.2824888\ttotal: 5.5s\tremaining: 2.75s\n",
      "2250:\tlearn: 0.2795952\ttotal: 6.17s\tremaining: 2.05s\n",
      "2500:\tlearn: 0.2772009\ttotal: 6.84s\tremaining: 1.36s\n",
      "2750:\tlearn: 0.2748868\ttotal: 7.51s\tremaining: 680ms\n",
      "2999:\tlearn: 0.2726372\ttotal: 8.19s\tremaining: 0us\n",
      "0:\tlearn: 0.6599957\ttotal: 5.67ms\tremaining: 17s\n",
      "250:\tlearn: 0.0022262\ttotal: 777ms\tremaining: 8.5s\n",
      "500:\tlearn: 0.0011470\ttotal: 1.32s\tremaining: 6.61s\n",
      "750:\tlearn: 0.0009061\ttotal: 1.87s\tremaining: 5.61s\n",
      "1000:\tlearn: 0.0008903\ttotal: 2.38s\tremaining: 4.75s\n",
      "1250:\tlearn: 0.0008880\ttotal: 2.86s\tremaining: 4s\n",
      "1500:\tlearn: 0.0008878\ttotal: 3.36s\tremaining: 3.35s\n",
      "1750:\tlearn: 0.0008876\ttotal: 3.85s\tremaining: 2.75s\n",
      "2000:\tlearn: 0.0008875\ttotal: 4.34s\tremaining: 2.17s\n",
      "2250:\tlearn: 0.0008873\ttotal: 4.82s\tremaining: 1.6s\n",
      "2500:\tlearn: 0.0008872\ttotal: 5.29s\tremaining: 1.06s\n",
      "2750:\tlearn: 0.0008870\ttotal: 5.77s\tremaining: 523ms\n",
      "2999:\tlearn: 0.0008869\ttotal: 6.25s\tremaining: 0us\n",
      "0:\tlearn: 0.6829029\ttotal: 15.4ms\tremaining: 46.2s\n",
      "250:\tlearn: 0.2864770\ttotal: 804ms\tremaining: 8.8s\n",
      "500:\tlearn: 0.2692939\ttotal: 1.46s\tremaining: 7.29s\n",
      "750:\tlearn: 0.2602142\ttotal: 2.13s\tremaining: 6.37s\n",
      "1000:\tlearn: 0.2541893\ttotal: 2.8s\tremaining: 5.58s\n",
      "1250:\tlearn: 0.2493678\ttotal: 3.46s\tremaining: 4.84s\n",
      "1500:\tlearn: 0.2444502\ttotal: 4.13s\tremaining: 4.12s\n",
      "1750:\tlearn: 0.2410255\ttotal: 4.81s\tremaining: 3.43s\n",
      "2000:\tlearn: 0.2378717\ttotal: 5.48s\tremaining: 2.74s\n",
      "2250:\tlearn: 0.2349869\ttotal: 6.16s\tremaining: 2.05s\n",
      "2500:\tlearn: 0.2327190\ttotal: 6.85s\tremaining: 1.37s\n",
      "2750:\tlearn: 0.2303730\ttotal: 7.52s\tremaining: 680ms\n",
      "2999:\tlearn: 0.2282009\ttotal: 8.2s\tremaining: 0us\n",
      "0:\tlearn: 0.6859690\ttotal: 7.54ms\tremaining: 22.6s\n",
      "250:\tlearn: 0.3199596\ttotal: 817ms\tremaining: 8.94s\n",
      "500:\tlearn: 0.3053319\ttotal: 1.47s\tremaining: 7.33s\n",
      "750:\tlearn: 0.2984650\ttotal: 2.12s\tremaining: 6.36s\n",
      "1000:\tlearn: 0.2931296\ttotal: 2.79s\tremaining: 5.58s\n",
      "1250:\tlearn: 0.2890082\ttotal: 3.46s\tremaining: 4.84s\n",
      "1500:\tlearn: 0.2851091\ttotal: 4.14s\tremaining: 4.13s\n",
      "1750:\tlearn: 0.2819069\ttotal: 4.82s\tremaining: 3.44s\n",
      "2000:\tlearn: 0.2786263\ttotal: 5.49s\tremaining: 2.74s\n",
      "2250:\tlearn: 0.2762181\ttotal: 6.17s\tremaining: 2.05s\n",
      "2500:\tlearn: 0.2739760\ttotal: 6.85s\tremaining: 1.37s\n",
      "2750:\tlearn: 0.2718750\ttotal: 7.54s\tremaining: 682ms\n",
      "2999:\tlearn: 0.2697157\ttotal: 8.21s\tremaining: 0us\n",
      "0:\tlearn: 0.6594651\ttotal: 7.82ms\tremaining: 23.5s\n",
      "250:\tlearn: 0.0023279\ttotal: 769ms\tremaining: 8.42s\n",
      "500:\tlearn: 0.0012052\ttotal: 1.32s\tremaining: 6.58s\n",
      "750:\tlearn: 0.0010611\ttotal: 1.84s\tremaining: 5.5s\n",
      "1000:\tlearn: 0.0008387\ttotal: 2.36s\tremaining: 4.71s\n",
      "1250:\tlearn: 0.0008181\ttotal: 2.85s\tremaining: 3.98s\n",
      "1500:\tlearn: 0.0008180\ttotal: 3.33s\tremaining: 3.32s\n",
      "1750:\tlearn: 0.0008178\ttotal: 3.8s\tremaining: 2.71s\n",
      "2000:\tlearn: 0.0008176\ttotal: 4.29s\tremaining: 2.14s\n",
      "2250:\tlearn: 0.0008175\ttotal: 4.76s\tremaining: 1.58s\n",
      "2500:\tlearn: 0.0008174\ttotal: 5.23s\tremaining: 1.04s\n",
      "2750:\tlearn: 0.0008173\ttotal: 5.71s\tremaining: 517ms\n",
      "2999:\tlearn: 0.0008172\ttotal: 6.19s\tremaining: 0us\n",
      "0:\tlearn: 0.6816261\ttotal: 11.2ms\tremaining: 33.6s\n",
      "250:\tlearn: 0.2851541\ttotal: 783ms\tremaining: 8.58s\n",
      "500:\tlearn: 0.2705604\ttotal: 1.44s\tremaining: 7.18s\n",
      "750:\tlearn: 0.2641365\ttotal: 2.12s\tremaining: 6.34s\n",
      "1000:\tlearn: 0.2589522\ttotal: 2.79s\tremaining: 5.57s\n",
      "1250:\tlearn: 0.2545925\ttotal: 3.44s\tremaining: 4.81s\n",
      "1500:\tlearn: 0.2516799\ttotal: 4.09s\tremaining: 4.09s\n",
      "1750:\tlearn: 0.2491276\ttotal: 4.76s\tremaining: 3.39s\n",
      "2000:\tlearn: 0.2469478\ttotal: 5.42s\tremaining: 2.7s\n",
      "2250:\tlearn: 0.2447704\ttotal: 6.07s\tremaining: 2.02s\n",
      "2500:\tlearn: 0.2424722\ttotal: 6.74s\tremaining: 1.34s\n",
      "2750:\tlearn: 0.2406322\ttotal: 7.4s\tremaining: 670ms\n",
      "2999:\tlearn: 0.2384392\ttotal: 8.08s\tremaining: 0us\n",
      "0:\tlearn: 0.6865720\ttotal: 19ms\tremaining: 56.8s\n",
      "250:\tlearn: 0.3140480\ttotal: 793ms\tremaining: 8.69s\n",
      "500:\tlearn: 0.2989702\ttotal: 1.46s\tremaining: 7.26s\n",
      "750:\tlearn: 0.2922351\ttotal: 2.11s\tremaining: 6.31s\n",
      "1000:\tlearn: 0.2871307\ttotal: 2.78s\tremaining: 5.55s\n",
      "1250:\tlearn: 0.2832155\ttotal: 3.44s\tremaining: 4.8s\n",
      "1500:\tlearn: 0.2795259\ttotal: 4.1s\tremaining: 4.09s\n",
      "1750:\tlearn: 0.2763709\ttotal: 4.77s\tremaining: 3.4s\n",
      "2000:\tlearn: 0.2735010\ttotal: 5.46s\tremaining: 2.73s\n",
      "2250:\tlearn: 0.2708768\ttotal: 6.13s\tremaining: 2.04s\n",
      "2500:\tlearn: 0.2683986\ttotal: 6.81s\tremaining: 1.36s\n",
      "2750:\tlearn: 0.2659888\ttotal: 7.49s\tremaining: 678ms\n",
      "2999:\tlearn: 0.2638074\ttotal: 8.16s\tremaining: 0us\n",
      "0:\tlearn: 0.6602846\ttotal: 11.3ms\tremaining: 34s\n",
      "250:\tlearn: 0.0037239\ttotal: 756ms\tremaining: 8.29s\n",
      "500:\tlearn: 0.0027104\ttotal: 1.28s\tremaining: 6.38s\n",
      "750:\tlearn: 0.0021287\ttotal: 1.77s\tremaining: 5.29s\n",
      "1000:\tlearn: 0.0016342\ttotal: 2.26s\tremaining: 4.52s\n",
      "1250:\tlearn: 0.0011997\ttotal: 2.77s\tremaining: 3.88s\n",
      "1500:\tlearn: 0.0011249\ttotal: 3.27s\tremaining: 3.27s\n",
      "1750:\tlearn: 0.0011098\ttotal: 3.75s\tremaining: 2.67s\n",
      "2000:\tlearn: 0.0011014\ttotal: 4.22s\tremaining: 2.11s\n",
      "2250:\tlearn: 0.0010960\ttotal: 4.71s\tremaining: 1.57s\n",
      "2500:\tlearn: 0.0010906\ttotal: 5.2s\tremaining: 1.04s\n",
      "2750:\tlearn: 0.0010880\ttotal: 5.68s\tremaining: 514ms\n",
      "2999:\tlearn: 0.0010855\ttotal: 6.17s\tremaining: 0us\n",
      "0:\tlearn: 0.6815153\ttotal: 23.5ms\tremaining: 1m 10s\n",
      "250:\tlearn: 0.2387828\ttotal: 766ms\tremaining: 8.39s\n",
      "500:\tlearn: 0.2283276\ttotal: 1.43s\tremaining: 7.11s\n",
      "750:\tlearn: 0.2226682\ttotal: 2.08s\tremaining: 6.22s\n",
      "1000:\tlearn: 0.2183852\ttotal: 2.74s\tremaining: 5.47s\n",
      "1250:\tlearn: 0.2155138\ttotal: 3.4s\tremaining: 4.75s\n",
      "1500:\tlearn: 0.2126213\ttotal: 4.06s\tremaining: 4.05s\n",
      "1750:\tlearn: 0.2101181\ttotal: 4.74s\tremaining: 3.38s\n",
      "2000:\tlearn: 0.2078048\ttotal: 5.42s\tremaining: 2.71s\n",
      "2250:\tlearn: 0.2055679\ttotal: 6.1s\tremaining: 2.03s\n",
      "2500:\tlearn: 0.2035562\ttotal: 6.79s\tremaining: 1.35s\n",
      "2750:\tlearn: 0.2017835\ttotal: 7.47s\tremaining: 676ms\n",
      "2999:\tlearn: 0.2002420\ttotal: 8.15s\tremaining: 0us\n",
      "0:\tlearn: 0.6849975\ttotal: 9.45ms\tremaining: 28.4s\n",
      "250:\tlearn: 0.3283950\ttotal: 793ms\tremaining: 8.69s\n",
      "500:\tlearn: 0.3131474\ttotal: 1.44s\tremaining: 7.18s\n",
      "750:\tlearn: 0.3058532\ttotal: 2.1s\tremaining: 6.28s\n",
      "1000:\tlearn: 0.3003417\ttotal: 2.76s\tremaining: 5.5s\n",
      "1250:\tlearn: 0.2966121\ttotal: 3.41s\tremaining: 4.77s\n",
      "1500:\tlearn: 0.2930559\ttotal: 4.08s\tremaining: 4.08s\n",
      "1750:\tlearn: 0.2899634\ttotal: 4.74s\tremaining: 3.38s\n",
      "2000:\tlearn: 0.2871373\ttotal: 5.41s\tremaining: 2.7s\n",
      "2250:\tlearn: 0.2845036\ttotal: 6.1s\tremaining: 2.03s\n",
      "2500:\tlearn: 0.2820816\ttotal: 6.77s\tremaining: 1.35s\n",
      "2750:\tlearn: 0.2796963\ttotal: 7.46s\tremaining: 675ms\n",
      "2999:\tlearn: 0.2774424\ttotal: 8.13s\tremaining: 0us\n",
      "0:\tlearn: 0.6589314\ttotal: 19.6ms\tremaining: 58.7s\n",
      "250:\tlearn: 0.0043089\ttotal: 733ms\tremaining: 8.03s\n",
      "500:\tlearn: 0.0019669\ttotal: 1.41s\tremaining: 7.02s\n",
      "750:\tlearn: 0.0013754\ttotal: 2s\tremaining: 5.99s\n",
      "1000:\tlearn: 0.0012638\ttotal: 2.73s\tremaining: 5.46s\n",
      "1250:\tlearn: 0.0012503\ttotal: 3.51s\tremaining: 4.91s\n",
      "1500:\tlearn: 0.0012502\ttotal: 4.33s\tremaining: 4.33s\n",
      "1750:\tlearn: 0.0012502\ttotal: 4.94s\tremaining: 3.52s\n",
      "2000:\tlearn: 0.0012502\ttotal: 5.43s\tremaining: 2.71s\n",
      "2250:\tlearn: 0.0012502\ttotal: 5.92s\tremaining: 1.97s\n",
      "2500:\tlearn: 0.0012502\ttotal: 6.4s\tremaining: 1.28s\n",
      "2750:\tlearn: 0.0012502\ttotal: 7.13s\tremaining: 645ms\n",
      "2999:\tlearn: 0.0012501\ttotal: 7.91s\tremaining: 0us\n",
      "0:\tlearn: 0.6789349\ttotal: 5.78ms\tremaining: 17.3s\n",
      "250:\tlearn: 0.2554707\ttotal: 1.01s\tremaining: 11.1s\n",
      "500:\tlearn: 0.2441467\ttotal: 1.94s\tremaining: 9.67s\n",
      "750:\tlearn: 0.2382220\ttotal: 2.86s\tremaining: 8.56s\n",
      "1000:\tlearn: 0.2335371\ttotal: 3.65s\tremaining: 7.28s\n",
      "1250:\tlearn: 0.2292916\ttotal: 4.49s\tremaining: 6.28s\n",
      "1500:\tlearn: 0.2258110\ttotal: 5.34s\tremaining: 5.33s\n",
      "1750:\tlearn: 0.2227522\ttotal: 6.25s\tremaining: 4.46s\n",
      "2000:\tlearn: 0.2200453\ttotal: 6.93s\tremaining: 3.46s\n",
      "2250:\tlearn: 0.2176344\ttotal: 7.76s\tremaining: 2.58s\n",
      "2500:\tlearn: 0.2153498\ttotal: 8.46s\tremaining: 1.69s\n",
      "2750:\tlearn: 0.2133471\ttotal: 9.19s\tremaining: 832ms\n",
      "2999:\tlearn: 0.2114488\ttotal: 9.89s\tremaining: 0us\n",
      "0:\tlearn: 0.6862342\ttotal: 16.6ms\tremaining: 49.7s\n",
      "250:\tlearn: 0.3208307\ttotal: 1.06s\tremaining: 11.6s\n",
      "500:\tlearn: 0.3060571\ttotal: 2.47s\tremaining: 12.3s\n",
      "750:\tlearn: 0.2988621\ttotal: 3.64s\tremaining: 10.9s\n",
      "1000:\tlearn: 0.2933710\ttotal: 4.71s\tremaining: 9.41s\n",
      "1250:\tlearn: 0.2893334\ttotal: 5.67s\tremaining: 7.93s\n",
      "1500:\tlearn: 0.2854175\ttotal: 6.35s\tremaining: 6.35s\n",
      "1750:\tlearn: 0.2820367\ttotal: 7.33s\tremaining: 5.23s\n",
      "2000:\tlearn: 0.2791528\ttotal: 8.67s\tremaining: 4.33s\n",
      "2250:\tlearn: 0.2765333\ttotal: 10.1s\tremaining: 3.35s\n",
      "2500:\tlearn: 0.2740389\ttotal: 11.3s\tremaining: 2.26s\n",
      "2750:\tlearn: 0.2717111\ttotal: 12s\tremaining: 1.09s\n",
      "2999:\tlearn: 0.2697160\ttotal: 12.7s\tremaining: 0us\n",
      "0:\tlearn: 0.6791777\ttotal: 6.41ms\tremaining: 19.2s\n",
      "250:\tlearn: 0.2050072\ttotal: 785ms\tremaining: 8.6s\n",
      "500:\tlearn: 0.1938755\ttotal: 1.44s\tremaining: 7.2s\n",
      "750:\tlearn: 0.1886421\ttotal: 2.12s\tremaining: 6.34s\n",
      "1000:\tlearn: 0.1844238\ttotal: 2.96s\tremaining: 5.92s\n",
      "1250:\tlearn: 0.1808290\ttotal: 3.64s\tremaining: 5.09s\n",
      "1500:\tlearn: 0.1779287\ttotal: 4.33s\tremaining: 4.32s\n",
      "1750:\tlearn: 0.1757444\ttotal: 5.58s\tremaining: 3.98s\n",
      "2000:\tlearn: 0.1738384\ttotal: 6.78s\tremaining: 3.39s\n",
      "2250:\tlearn: 0.1721397\ttotal: 8.31s\tremaining: 2.76s\n",
      "2500:\tlearn: 0.1705114\ttotal: 9.14s\tremaining: 1.82s\n",
      "2750:\tlearn: 0.1688588\ttotal: 9.87s\tremaining: 893ms\n",
      "2999:\tlearn: 0.1674336\ttotal: 10.8s\tremaining: 0us\n",
      "0:\tlearn: 0.6856540\ttotal: 42ms\tremaining: 2m 6s\n",
      "250:\tlearn: 0.2940819\ttotal: 1.04s\tremaining: 11.5s\n",
      "500:\tlearn: 0.2786892\ttotal: 1.87s\tremaining: 9.32s\n",
      "750:\tlearn: 0.2717669\ttotal: 2.73s\tremaining: 8.18s\n",
      "1000:\tlearn: 0.2663861\ttotal: 3.39s\tremaining: 6.76s\n",
      "1250:\tlearn: 0.2623245\ttotal: 4.05s\tremaining: 5.67s\n",
      "1500:\tlearn: 0.2590714\ttotal: 4.71s\tremaining: 4.7s\n",
      "1750:\tlearn: 0.2561011\ttotal: 5.82s\tremaining: 4.15s\n",
      "2000:\tlearn: 0.2536710\ttotal: 7.06s\tremaining: 3.52s\n",
      "2250:\tlearn: 0.2513914\ttotal: 8.3s\tremaining: 2.76s\n",
      "2500:\tlearn: 0.2496194\ttotal: 9.76s\tremaining: 1.95s\n",
      "2750:\tlearn: 0.2478668\ttotal: 10.4s\tremaining: 945ms\n",
      "2999:\tlearn: 0.2461802\ttotal: 11.1s\tremaining: 0us\n",
      "0:\tlearn: 0.6858813\ttotal: 6.15ms\tremaining: 18.4s\n",
      "250:\tlearn: 0.3306967\ttotal: 790ms\tremaining: 8.65s\n",
      "500:\tlearn: 0.3140619\ttotal: 1.44s\tremaining: 7.17s\n",
      "750:\tlearn: 0.3065667\ttotal: 2.1s\tremaining: 6.29s\n",
      "1000:\tlearn: 0.3008078\ttotal: 2.77s\tremaining: 5.53s\n",
      "1250:\tlearn: 0.2961898\ttotal: 3.42s\tremaining: 4.78s\n",
      "1500:\tlearn: 0.2920887\ttotal: 4.07s\tremaining: 4.07s\n",
      "1750:\tlearn: 0.2884623\ttotal: 4.75s\tremaining: 3.39s\n",
      "2000:\tlearn: 0.2853902\ttotal: 5.43s\tremaining: 2.71s\n",
      "2250:\tlearn: 0.2825660\ttotal: 6.15s\tremaining: 2.04s\n",
      "2500:\tlearn: 0.2800862\ttotal: 7.67s\tremaining: 1.53s\n",
      "2750:\tlearn: 0.2776595\ttotal: 9.16s\tremaining: 829ms\n",
      "2999:\tlearn: 0.2757317\ttotal: 10.7s\tremaining: 0us\n",
      "0:\tlearn: 0.6730802\ttotal: 12.3ms\tremaining: 37s\n",
      "250:\tlearn: 0.1665044\ttotal: 811ms\tremaining: 8.88s\n",
      "500:\tlearn: 0.1550196\ttotal: 1.45s\tremaining: 7.22s\n",
      "750:\tlearn: 0.1502977\ttotal: 2.09s\tremaining: 6.27s\n",
      "1000:\tlearn: 0.1467162\ttotal: 2.76s\tremaining: 5.51s\n",
      "1250:\tlearn: 0.1439088\ttotal: 3.43s\tremaining: 4.79s\n",
      "1500:\tlearn: 0.1409142\ttotal: 4.1s\tremaining: 4.09s\n",
      "1750:\tlearn: 0.1383935\ttotal: 4.81s\tremaining: 3.43s\n",
      "2000:\tlearn: 0.1364516\ttotal: 5.49s\tremaining: 2.74s\n",
      "2250:\tlearn: 0.1348201\ttotal: 6.18s\tremaining: 2.06s\n",
      "2500:\tlearn: 0.1333712\ttotal: 6.99s\tremaining: 1.4s\n",
      "2750:\tlearn: 0.1319696\ttotal: 7.68s\tremaining: 696ms\n",
      "2999:\tlearn: 0.1307504\ttotal: 8.36s\tremaining: 0us\n",
      "0:\tlearn: 0.6798816\ttotal: 17.5ms\tremaining: 52.4s\n",
      "250:\tlearn: 0.2659817\ttotal: 776ms\tremaining: 8.5s\n",
      "500:\tlearn: 0.2536721\ttotal: 1.44s\tremaining: 7.17s\n",
      "750:\tlearn: 0.2475114\ttotal: 2.16s\tremaining: 6.46s\n",
      "1000:\tlearn: 0.2426734\ttotal: 2.81s\tremaining: 5.61s\n",
      "1250:\tlearn: 0.2385852\ttotal: 3.48s\tremaining: 4.86s\n",
      "1500:\tlearn: 0.2348331\ttotal: 4.16s\tremaining: 4.15s\n",
      "1750:\tlearn: 0.2316453\ttotal: 4.83s\tremaining: 3.45s\n",
      "2000:\tlearn: 0.2290052\ttotal: 5.51s\tremaining: 2.75s\n",
      "2250:\tlearn: 0.2265720\ttotal: 6.19s\tremaining: 2.06s\n",
      "2500:\tlearn: 0.2244583\ttotal: 6.87s\tremaining: 1.37s\n",
      "2750:\tlearn: 0.2223145\ttotal: 7.55s\tremaining: 683ms\n",
      "2999:\tlearn: 0.2203528\ttotal: 8.22s\tremaining: 0us\n",
      "0:\tlearn: 0.6865372\ttotal: 12.1ms\tremaining: 36.2s\n",
      "250:\tlearn: 0.3225043\ttotal: 793ms\tremaining: 8.68s\n",
      "500:\tlearn: 0.3071577\ttotal: 1.44s\tremaining: 7.18s\n",
      "750:\tlearn: 0.2997379\ttotal: 2.11s\tremaining: 6.31s\n",
      "1000:\tlearn: 0.2939918\ttotal: 2.76s\tremaining: 5.52s\n",
      "1250:\tlearn: 0.2896138\ttotal: 3.43s\tremaining: 4.8s\n",
      "1500:\tlearn: 0.2857643\ttotal: 4.09s\tremaining: 4.08s\n",
      "1750:\tlearn: 0.2826914\ttotal: 4.76s\tremaining: 3.4s\n",
      "2000:\tlearn: 0.2798665\ttotal: 5.47s\tremaining: 2.73s\n",
      "2250:\tlearn: 0.2772843\ttotal: 6.15s\tremaining: 2.04s\n",
      "2500:\tlearn: 0.2749412\ttotal: 6.84s\tremaining: 1.36s\n",
      "2750:\tlearn: 0.2726126\ttotal: 7.52s\tremaining: 680ms\n",
      "2999:\tlearn: 0.2703260\ttotal: 8.19s\tremaining: 0us\n",
      "0:\tlearn: 0.6858937\ttotal: 10.7ms\tremaining: 32s\n",
      "250:\tlearn: 0.2381992\ttotal: 781ms\tremaining: 8.55s\n",
      "500:\tlearn: 0.2225354\ttotal: 1.42s\tremaining: 7.08s\n",
      "750:\tlearn: 0.2157154\ttotal: 2.07s\tremaining: 6.21s\n",
      "1000:\tlearn: 0.2109832\ttotal: 2.75s\tremaining: 5.5s\n",
      "1250:\tlearn: 0.2068427\ttotal: 3.41s\tremaining: 4.77s\n",
      "1500:\tlearn: 0.2035322\ttotal: 4.08s\tremaining: 4.07s\n",
      "1750:\tlearn: 0.2009510\ttotal: 4.76s\tremaining: 3.4s\n",
      "2000:\tlearn: 0.1985352\ttotal: 5.44s\tremaining: 2.71s\n",
      "2250:\tlearn: 0.1961549\ttotal: 6.16s\tremaining: 2.05s\n",
      "2500:\tlearn: 0.1940488\ttotal: 6.9s\tremaining: 1.38s\n",
      "2750:\tlearn: 0.1922748\ttotal: 7.63s\tremaining: 691ms\n",
      "2999:\tlearn: 0.1905674\ttotal: 8.33s\tremaining: 0us\n",
      "0:\tlearn: 0.6857685\ttotal: 5.8ms\tremaining: 17.4s\n",
      "250:\tlearn: 0.3050715\ttotal: 768ms\tremaining: 8.41s\n",
      "500:\tlearn: 0.2874759\ttotal: 1.43s\tremaining: 7.11s\n",
      "750:\tlearn: 0.2797175\ttotal: 2.07s\tremaining: 6.2s\n",
      "1000:\tlearn: 0.2740389\ttotal: 2.74s\tremaining: 5.47s\n",
      "1250:\tlearn: 0.2693870\ttotal: 3.38s\tremaining: 4.73s\n",
      "1500:\tlearn: 0.2661263\ttotal: 4.04s\tremaining: 4.04s\n",
      "1750:\tlearn: 0.2632038\ttotal: 4.71s\tremaining: 3.36s\n",
      "2000:\tlearn: 0.2610419\ttotal: 5.37s\tremaining: 2.68s\n",
      "2250:\tlearn: 0.2589791\ttotal: 6.01s\tremaining: 2s\n",
      "2500:\tlearn: 0.2567397\ttotal: 6.67s\tremaining: 1.33s\n",
      "2750:\tlearn: 0.2548631\ttotal: 7.33s\tremaining: 664ms\n",
      "2999:\tlearn: 0.2530673\ttotal: 8.01s\tremaining: 0us\n",
      "0:\tlearn: 0.6864577\ttotal: 8.1ms\tremaining: 24.3s\n",
      "250:\tlearn: 0.3272996\ttotal: 789ms\tremaining: 8.64s\n",
      "500:\tlearn: 0.3110283\ttotal: 1.43s\tremaining: 7.16s\n",
      "750:\tlearn: 0.3031245\ttotal: 2.09s\tremaining: 6.25s\n",
      "1000:\tlearn: 0.2974895\ttotal: 2.75s\tremaining: 5.5s\n",
      "1250:\tlearn: 0.2930802\ttotal: 3.46s\tremaining: 4.84s\n",
      "1500:\tlearn: 0.2889300\ttotal: 4.13s\tremaining: 4.12s\n",
      "1750:\tlearn: 0.2852605\ttotal: 4.82s\tremaining: 3.44s\n",
      "2000:\tlearn: 0.2821901\ttotal: 5.52s\tremaining: 2.76s\n",
      "2250:\tlearn: 0.2792744\ttotal: 6.2s\tremaining: 2.06s\n",
      "2500:\tlearn: 0.2767935\ttotal: 6.86s\tremaining: 1.37s\n",
      "2750:\tlearn: 0.2744817\ttotal: 7.53s\tremaining: 682ms\n",
      "2999:\tlearn: 0.2723251\ttotal: 8.2s\tremaining: 0us\n",
      "0:\tlearn: 0.6847920\ttotal: 7ms\tremaining: 21s\n",
      "250:\tlearn: 0.2458104\ttotal: 767ms\tremaining: 8.4s\n",
      "500:\tlearn: 0.2307006\ttotal: 1.4s\tremaining: 6.99s\n",
      "750:\tlearn: 0.2238719\ttotal: 2.03s\tremaining: 6.09s\n",
      "1000:\tlearn: 0.2181748\ttotal: 2.68s\tremaining: 5.36s\n",
      "1250:\tlearn: 0.2141961\ttotal: 3.32s\tremaining: 4.64s\n",
      "1500:\tlearn: 0.2108465\ttotal: 3.97s\tremaining: 3.96s\n",
      "1750:\tlearn: 0.2078616\ttotal: 4.63s\tremaining: 3.3s\n",
      "2000:\tlearn: 0.2051900\ttotal: 5.3s\tremaining: 2.65s\n",
      "2250:\tlearn: 0.2028992\ttotal: 6s\tremaining: 2s\n",
      "2500:\tlearn: 0.2007927\ttotal: 6.72s\tremaining: 1.34s\n",
      "2750:\tlearn: 0.1989632\ttotal: 7.43s\tremaining: 672ms\n",
      "2999:\tlearn: 0.1971072\ttotal: 8.11s\tremaining: 0us\n",
      "0:\tlearn: 0.6804763\ttotal: 5.8ms\tremaining: 17.4s\n",
      "250:\tlearn: 0.2621318\ttotal: 773ms\tremaining: 8.46s\n",
      "500:\tlearn: 0.2478569\ttotal: 1.42s\tremaining: 7.07s\n",
      "750:\tlearn: 0.2413429\ttotal: 2.07s\tremaining: 6.21s\n",
      "1000:\tlearn: 0.2363904\ttotal: 2.73s\tremaining: 5.46s\n",
      "1250:\tlearn: 0.2321236\ttotal: 3.39s\tremaining: 4.74s\n",
      "1500:\tlearn: 0.2291195\ttotal: 4.02s\tremaining: 4.01s\n",
      "1750:\tlearn: 0.2267382\ttotal: 4.66s\tremaining: 3.32s\n",
      "2000:\tlearn: 0.2245817\ttotal: 5.32s\tremaining: 2.66s\n",
      "2250:\tlearn: 0.2227545\ttotal: 5.97s\tremaining: 1.99s\n",
      "2500:\tlearn: 0.2207956\ttotal: 6.63s\tremaining: 1.32s\n",
      "2750:\tlearn: 0.2188000\ttotal: 7.3s\tremaining: 661ms\n",
      "2999:\tlearn: 0.2169314\ttotal: 7.96s\tremaining: 0us\n",
      "0:\tlearn: 0.6865983\ttotal: 5.04ms\tremaining: 15.1s\n",
      "250:\tlearn: 0.3210899\ttotal: 782ms\tremaining: 8.56s\n",
      "500:\tlearn: 0.3059993\ttotal: 1.4s\tremaining: 6.97s\n",
      "750:\tlearn: 0.2987927\ttotal: 2.04s\tremaining: 6.1s\n",
      "1000:\tlearn: 0.2933825\ttotal: 2.69s\tremaining: 5.38s\n",
      "1250:\tlearn: 0.2889417\ttotal: 3.36s\tremaining: 4.69s\n",
      "1500:\tlearn: 0.2851387\ttotal: 4.02s\tremaining: 4.01s\n",
      "1750:\tlearn: 0.2815758\ttotal: 4.68s\tremaining: 3.34s\n",
      "2000:\tlearn: 0.2787105\ttotal: 5.34s\tremaining: 2.67s\n",
      "2250:\tlearn: 0.2760959\ttotal: 6.01s\tremaining: 2s\n",
      "2500:\tlearn: 0.2736809\ttotal: 6.69s\tremaining: 1.33s\n",
      "2750:\tlearn: 0.2713561\ttotal: 7.37s\tremaining: 667ms\n",
      "2999:\tlearn: 0.2689894\ttotal: 8.04s\tremaining: 0us\n",
      "0:\tlearn: 0.6860131\ttotal: 5.46ms\tremaining: 16.4s\n",
      "250:\tlearn: 0.2880403\ttotal: 762ms\tremaining: 8.35s\n",
      "500:\tlearn: 0.2715513\ttotal: 1.4s\tremaining: 6.99s\n",
      "750:\tlearn: 0.2639946\ttotal: 2.05s\tremaining: 6.14s\n",
      "1000:\tlearn: 0.2587874\ttotal: 2.71s\tremaining: 5.41s\n",
      "1250:\tlearn: 0.2538860\ttotal: 3.36s\tremaining: 4.7s\n",
      "1500:\tlearn: 0.2500375\ttotal: 4.02s\tremaining: 4.01s\n",
      "1750:\tlearn: 0.2465166\ttotal: 4.68s\tremaining: 3.34s\n",
      "2000:\tlearn: 0.2435089\ttotal: 5.35s\tremaining: 2.67s\n",
      "2250:\tlearn: 0.2409375\ttotal: 6.01s\tremaining: 2s\n",
      "2500:\tlearn: 0.2386009\ttotal: 6.68s\tremaining: 1.33s\n",
      "2750:\tlearn: 0.2364366\ttotal: 7.36s\tremaining: 666ms\n",
      "2999:\tlearn: 0.2343662\ttotal: 8.04s\tremaining: 0us\n"
     ]
    },
    {
     "data": {
      "text/plain": "ExponentiatedGradientReduction(constraints=<fairlearn.reductions._moments.utility_parity.DemographicParity object at 0x2ac10e050>,\n                               drop_prot_attr=False,\n                               estimator=<catboost.core.CatBoostClassifier object at 0x2ac10e0b0>,\n                               max_iter=10, prot_attr='race')",
      "text/html": "<style>#sk-container-id-1 {\n  /* Definition of color scheme common for light and dark mode */\n  --sklearn-color-text: black;\n  --sklearn-color-line: gray;\n  /* Definition of color scheme for unfitted estimators */\n  --sklearn-color-unfitted-level-0: #fff5e6;\n  --sklearn-color-unfitted-level-1: #f6e4d2;\n  --sklearn-color-unfitted-level-2: #ffe0b3;\n  --sklearn-color-unfitted-level-3: chocolate;\n  /* Definition of color scheme for fitted estimators */\n  --sklearn-color-fitted-level-0: #f0f8ff;\n  --sklearn-color-fitted-level-1: #d4ebff;\n  --sklearn-color-fitted-level-2: #b3dbfd;\n  --sklearn-color-fitted-level-3: cornflowerblue;\n\n  /* Specific color for light theme */\n  --sklearn-color-text-on-default-background: var(--sg-text-color, var(--theme-code-foreground, var(--jp-content-font-color1, black)));\n  --sklearn-color-background: var(--sg-background-color, var(--theme-background, var(--jp-layout-color0, white)));\n  --sklearn-color-border-box: var(--sg-text-color, var(--theme-code-foreground, var(--jp-content-font-color1, black)));\n  --sklearn-color-icon: #696969;\n\n  @media (prefers-color-scheme: dark) {\n    /* Redefinition of color scheme for dark theme */\n    --sklearn-color-text-on-default-background: var(--sg-text-color, var(--theme-code-foreground, var(--jp-content-font-color1, white)));\n    --sklearn-color-background: var(--sg-background-color, var(--theme-background, var(--jp-layout-color0, #111)));\n    --sklearn-color-border-box: var(--sg-text-color, var(--theme-code-foreground, var(--jp-content-font-color1, white)));\n    --sklearn-color-icon: #878787;\n  }\n}\n\n#sk-container-id-1 {\n  color: var(--sklearn-color-text);\n}\n\n#sk-container-id-1 pre {\n  padding: 0;\n}\n\n#sk-container-id-1 input.sk-hidden--visually {\n  border: 0;\n  clip: rect(1px 1px 1px 1px);\n  clip: rect(1px, 1px, 1px, 1px);\n  height: 1px;\n  margin: -1px;\n  overflow: hidden;\n  padding: 0;\n  position: absolute;\n  width: 1px;\n}\n\n#sk-container-id-1 div.sk-dashed-wrapped {\n  border: 1px dashed var(--sklearn-color-line);\n  margin: 0 0.4em 0.5em 0.4em;\n  box-sizing: border-box;\n  padding-bottom: 0.4em;\n  background-color: var(--sklearn-color-background);\n}\n\n#sk-container-id-1 div.sk-container {\n  /* jupyter's `normalize.less` sets `[hidden] { display: none; }`\n     but bootstrap.min.css set `[hidden] { display: none !important; }`\n     so we also need the `!important` here to be able to override the\n     default hidden behavior on the sphinx rendered scikit-learn.org.\n     See: https://github.com/scikit-learn/scikit-learn/issues/21755 */\n  display: inline-block !important;\n  position: relative;\n}\n\n#sk-container-id-1 div.sk-text-repr-fallback {\n  display: none;\n}\n\ndiv.sk-parallel-item,\ndiv.sk-serial,\ndiv.sk-item {\n  /* draw centered vertical line to link estimators */\n  background-image: linear-gradient(var(--sklearn-color-text-on-default-background), var(--sklearn-color-text-on-default-background));\n  background-size: 2px 100%;\n  background-repeat: no-repeat;\n  background-position: center center;\n}\n\n/* Parallel-specific style estimator block */\n\n#sk-container-id-1 div.sk-parallel-item::after {\n  content: \"\";\n  width: 100%;\n  border-bottom: 2px solid var(--sklearn-color-text-on-default-background);\n  flex-grow: 1;\n}\n\n#sk-container-id-1 div.sk-parallel {\n  display: flex;\n  align-items: stretch;\n  justify-content: center;\n  background-color: var(--sklearn-color-background);\n  position: relative;\n}\n\n#sk-container-id-1 div.sk-parallel-item {\n  display: flex;\n  flex-direction: column;\n}\n\n#sk-container-id-1 div.sk-parallel-item:first-child::after {\n  align-self: flex-end;\n  width: 50%;\n}\n\n#sk-container-id-1 div.sk-parallel-item:last-child::after {\n  align-self: flex-start;\n  width: 50%;\n}\n\n#sk-container-id-1 div.sk-parallel-item:only-child::after {\n  width: 0;\n}\n\n/* Serial-specific style estimator block */\n\n#sk-container-id-1 div.sk-serial {\n  display: flex;\n  flex-direction: column;\n  align-items: center;\n  background-color: var(--sklearn-color-background);\n  padding-right: 1em;\n  padding-left: 1em;\n}\n\n\n/* Toggleable style: style used for estimator/Pipeline/ColumnTransformer box that is\nclickable and can be expanded/collapsed.\n- Pipeline and ColumnTransformer use this feature and define the default style\n- Estimators will overwrite some part of the style using the `sk-estimator` class\n*/\n\n/* Pipeline and ColumnTransformer style (default) */\n\n#sk-container-id-1 div.sk-toggleable {\n  /* Default theme specific background. It is overwritten whether we have a\n  specific estimator or a Pipeline/ColumnTransformer */\n  background-color: var(--sklearn-color-background);\n}\n\n/* Toggleable label */\n#sk-container-id-1 label.sk-toggleable__label {\n  cursor: pointer;\n  display: block;\n  width: 100%;\n  margin-bottom: 0;\n  padding: 0.5em;\n  box-sizing: border-box;\n  text-align: center;\n}\n\n#sk-container-id-1 label.sk-toggleable__label-arrow:before {\n  /* Arrow on the left of the label */\n  content: \"▸\";\n  float: left;\n  margin-right: 0.25em;\n  color: var(--sklearn-color-icon);\n}\n\n#sk-container-id-1 label.sk-toggleable__label-arrow:hover:before {\n  color: var(--sklearn-color-text);\n}\n\n/* Toggleable content - dropdown */\n\n#sk-container-id-1 div.sk-toggleable__content {\n  max-height: 0;\n  max-width: 0;\n  overflow: hidden;\n  text-align: left;\n  /* unfitted */\n  background-color: var(--sklearn-color-unfitted-level-0);\n}\n\n#sk-container-id-1 div.sk-toggleable__content.fitted {\n  /* fitted */\n  background-color: var(--sklearn-color-fitted-level-0);\n}\n\n#sk-container-id-1 div.sk-toggleable__content pre {\n  margin: 0.2em;\n  border-radius: 0.25em;\n  color: var(--sklearn-color-text);\n  /* unfitted */\n  background-color: var(--sklearn-color-unfitted-level-0);\n}\n\n#sk-container-id-1 div.sk-toggleable__content.fitted pre {\n  /* unfitted */\n  background-color: var(--sklearn-color-fitted-level-0);\n}\n\n#sk-container-id-1 input.sk-toggleable__control:checked~div.sk-toggleable__content {\n  /* Expand drop-down */\n  max-height: 200px;\n  max-width: 100%;\n  overflow: auto;\n}\n\n#sk-container-id-1 input.sk-toggleable__control:checked~label.sk-toggleable__label-arrow:before {\n  content: \"▾\";\n}\n\n/* Pipeline/ColumnTransformer-specific style */\n\n#sk-container-id-1 div.sk-label input.sk-toggleable__control:checked~label.sk-toggleable__label {\n  color: var(--sklearn-color-text);\n  background-color: var(--sklearn-color-unfitted-level-2);\n}\n\n#sk-container-id-1 div.sk-label.fitted input.sk-toggleable__control:checked~label.sk-toggleable__label {\n  background-color: var(--sklearn-color-fitted-level-2);\n}\n\n/* Estimator-specific style */\n\n/* Colorize estimator box */\n#sk-container-id-1 div.sk-estimator input.sk-toggleable__control:checked~label.sk-toggleable__label {\n  /* unfitted */\n  background-color: var(--sklearn-color-unfitted-level-2);\n}\n\n#sk-container-id-1 div.sk-estimator.fitted input.sk-toggleable__control:checked~label.sk-toggleable__label {\n  /* fitted */\n  background-color: var(--sklearn-color-fitted-level-2);\n}\n\n#sk-container-id-1 div.sk-label label.sk-toggleable__label,\n#sk-container-id-1 div.sk-label label {\n  /* The background is the default theme color */\n  color: var(--sklearn-color-text-on-default-background);\n}\n\n/* On hover, darken the color of the background */\n#sk-container-id-1 div.sk-label:hover label.sk-toggleable__label {\n  color: var(--sklearn-color-text);\n  background-color: var(--sklearn-color-unfitted-level-2);\n}\n\n/* Label box, darken color on hover, fitted */\n#sk-container-id-1 div.sk-label.fitted:hover label.sk-toggleable__label.fitted {\n  color: var(--sklearn-color-text);\n  background-color: var(--sklearn-color-fitted-level-2);\n}\n\n/* Estimator label */\n\n#sk-container-id-1 div.sk-label label {\n  font-family: monospace;\n  font-weight: bold;\n  display: inline-block;\n  line-height: 1.2em;\n}\n\n#sk-container-id-1 div.sk-label-container {\n  text-align: center;\n}\n\n/* Estimator-specific */\n#sk-container-id-1 div.sk-estimator {\n  font-family: monospace;\n  border: 1px dotted var(--sklearn-color-border-box);\n  border-radius: 0.25em;\n  box-sizing: border-box;\n  margin-bottom: 0.5em;\n  /* unfitted */\n  background-color: var(--sklearn-color-unfitted-level-0);\n}\n\n#sk-container-id-1 div.sk-estimator.fitted {\n  /* fitted */\n  background-color: var(--sklearn-color-fitted-level-0);\n}\n\n/* on hover */\n#sk-container-id-1 div.sk-estimator:hover {\n  /* unfitted */\n  background-color: var(--sklearn-color-unfitted-level-2);\n}\n\n#sk-container-id-1 div.sk-estimator.fitted:hover {\n  /* fitted */\n  background-color: var(--sklearn-color-fitted-level-2);\n}\n\n/* Specification for estimator info (e.g. \"i\" and \"?\") */\n\n/* Common style for \"i\" and \"?\" */\n\n.sk-estimator-doc-link,\na:link.sk-estimator-doc-link,\na:visited.sk-estimator-doc-link {\n  float: right;\n  font-size: smaller;\n  line-height: 1em;\n  font-family: monospace;\n  background-color: var(--sklearn-color-background);\n  border-radius: 1em;\n  height: 1em;\n  width: 1em;\n  text-decoration: none !important;\n  margin-left: 1ex;\n  /* unfitted */\n  border: var(--sklearn-color-unfitted-level-1) 1pt solid;\n  color: var(--sklearn-color-unfitted-level-1);\n}\n\n.sk-estimator-doc-link.fitted,\na:link.sk-estimator-doc-link.fitted,\na:visited.sk-estimator-doc-link.fitted {\n  /* fitted */\n  border: var(--sklearn-color-fitted-level-1) 1pt solid;\n  color: var(--sklearn-color-fitted-level-1);\n}\n\n/* On hover */\ndiv.sk-estimator:hover .sk-estimator-doc-link:hover,\n.sk-estimator-doc-link:hover,\ndiv.sk-label-container:hover .sk-estimator-doc-link:hover,\n.sk-estimator-doc-link:hover {\n  /* unfitted */\n  background-color: var(--sklearn-color-unfitted-level-3);\n  color: var(--sklearn-color-background);\n  text-decoration: none;\n}\n\ndiv.sk-estimator.fitted:hover .sk-estimator-doc-link.fitted:hover,\n.sk-estimator-doc-link.fitted:hover,\ndiv.sk-label-container:hover .sk-estimator-doc-link.fitted:hover,\n.sk-estimator-doc-link.fitted:hover {\n  /* fitted */\n  background-color: var(--sklearn-color-fitted-level-3);\n  color: var(--sklearn-color-background);\n  text-decoration: none;\n}\n\n/* Span, style for the box shown on hovering the info icon */\n.sk-estimator-doc-link span {\n  display: none;\n  z-index: 9999;\n  position: relative;\n  font-weight: normal;\n  right: .2ex;\n  padding: .5ex;\n  margin: .5ex;\n  width: min-content;\n  min-width: 20ex;\n  max-width: 50ex;\n  color: var(--sklearn-color-text);\n  box-shadow: 2pt 2pt 4pt #999;\n  /* unfitted */\n  background: var(--sklearn-color-unfitted-level-0);\n  border: .5pt solid var(--sklearn-color-unfitted-level-3);\n}\n\n.sk-estimator-doc-link.fitted span {\n  /* fitted */\n  background: var(--sklearn-color-fitted-level-0);\n  border: var(--sklearn-color-fitted-level-3);\n}\n\n.sk-estimator-doc-link:hover span {\n  display: block;\n}\n\n/* \"?\"-specific style due to the `<a>` HTML tag */\n\n#sk-container-id-1 a.estimator_doc_link {\n  float: right;\n  font-size: 1rem;\n  line-height: 1em;\n  font-family: monospace;\n  background-color: var(--sklearn-color-background);\n  border-radius: 1rem;\n  height: 1rem;\n  width: 1rem;\n  text-decoration: none;\n  /* unfitted */\n  color: var(--sklearn-color-unfitted-level-1);\n  border: var(--sklearn-color-unfitted-level-1) 1pt solid;\n}\n\n#sk-container-id-1 a.estimator_doc_link.fitted {\n  /* fitted */\n  border: var(--sklearn-color-fitted-level-1) 1pt solid;\n  color: var(--sklearn-color-fitted-level-1);\n}\n\n/* On hover */\n#sk-container-id-1 a.estimator_doc_link:hover {\n  /* unfitted */\n  background-color: var(--sklearn-color-unfitted-level-3);\n  color: var(--sklearn-color-background);\n  text-decoration: none;\n}\n\n#sk-container-id-1 a.estimator_doc_link.fitted:hover {\n  /* fitted */\n  background-color: var(--sklearn-color-fitted-level-3);\n}\n</style><div id=\"sk-container-id-1\" class=\"sk-top-container\"><div class=\"sk-text-repr-fallback\"><pre>ExponentiatedGradientReduction(constraints=&lt;fairlearn.reductions._moments.utility_parity.DemographicParity object at 0x2ac10e050&gt;,\n                               drop_prot_attr=False,\n                               estimator=&lt;catboost.core.CatBoostClassifier object at 0x2ac10e0b0&gt;,\n                               max_iter=10, prot_attr=&#x27;race&#x27;)</pre><b>In a Jupyter environment, please rerun this cell to show the HTML representation or trust the notebook. <br />On GitHub, the HTML representation is unable to render, please try loading this page with nbviewer.org.</b></div><div class=\"sk-container\" hidden><div class=\"sk-item sk-dashed-wrapped\"><div class=\"sk-label-container\"><div class=\"sk-label fitted sk-toggleable\"><input class=\"sk-toggleable__control sk-hidden--visually\" id=\"sk-estimator-id-1\" type=\"checkbox\" ><label for=\"sk-estimator-id-1\" class=\"sk-toggleable__label fitted sk-toggleable__label-arrow fitted\">&nbsp;ExponentiatedGradientReduction<span class=\"sk-estimator-doc-link fitted\">i<span>Fitted</span></span></label><div class=\"sk-toggleable__content fitted\"><pre>ExponentiatedGradientReduction(constraints=&lt;fairlearn.reductions._moments.utility_parity.DemographicParity object at 0x2ac10e050&gt;,\n                               drop_prot_attr=False,\n                               estimator=&lt;catboost.core.CatBoostClassifier object at 0x2ac10e0b0&gt;,\n                               max_iter=10, prot_attr=&#x27;race&#x27;)</pre></div> </div></div><div class=\"sk-parallel\"><div class=\"sk-parallel-item\"><div class=\"sk-item\"><div class=\"sk-label-container\"><div class=\"sk-label fitted sk-toggleable\"><input class=\"sk-toggleable__control sk-hidden--visually\" id=\"sk-estimator-id-2\" type=\"checkbox\" ><label for=\"sk-estimator-id-2\" class=\"sk-toggleable__label fitted sk-toggleable__label-arrow fitted\">estimator: CatBoostClassifier</label><div class=\"sk-toggleable__content fitted\"><pre>&lt;catboost.core.CatBoostClassifier object at 0x2ac10e0b0&gt;</pre></div> </div></div><div class=\"sk-serial\"><div class=\"sk-item\"><div class=\"sk-estimator fitted sk-toggleable\"><input class=\"sk-toggleable__control sk-hidden--visually\" id=\"sk-estimator-id-3\" type=\"checkbox\" ><label for=\"sk-estimator-id-3\" class=\"sk-toggleable__label fitted sk-toggleable__label-arrow fitted\">CatBoostClassifier</label><div class=\"sk-toggleable__content fitted\"><pre>&lt;catboost.core.CatBoostClassifier object at 0x2ac10e0b0&gt;</pre></div> </div></div></div></div></div></div></div></div></div>"
     },
     "execution_count": 34,
     "metadata": {},
     "output_type": "execute_result"
    }
   ],
   "source": [
    "reduction_aif.fit(X_train, y_train)"
   ],
   "metadata": {
    "collapsed": false,
    "ExecuteTime": {
     "end_time": "2024-03-28T11:54:05.284783Z",
     "start_time": "2024-03-28T11:49:49.747779Z"
    }
   },
   "id": "113260cbbf36efec",
   "execution_count": 34
  },
  {
   "cell_type": "code",
   "outputs": [],
   "source": [
    "y_pred_reduced_aif = reduction_aif.predict(X_test)"
   ],
   "metadata": {
    "collapsed": false,
    "ExecuteTime": {
     "end_time": "2024-03-28T11:54:05.553942Z",
     "start_time": "2024-03-28T11:54:05.279305Z"
    }
   },
   "id": "8abe326bcb3cf935",
   "execution_count": 35
  },
  {
   "cell_type": "code",
   "outputs": [
    {
     "data": {
      "text/plain": "               metric        type method     value\n0  demographic_parity  difference  other  0.035980\n1  demographic_parity       ratio  other  1.075148\n2   equal_opportunity  difference  other -0.097325",
      "text/html": "<div>\n<style scoped>\n    .dataframe tbody tr th:only-of-type {\n        vertical-align: middle;\n    }\n\n    .dataframe tbody tr th {\n        vertical-align: top;\n    }\n\n    .dataframe thead th {\n        text-align: right;\n    }\n</style>\n<table border=\"1\" class=\"dataframe\">\n  <thead>\n    <tr style=\"text-align: right;\">\n      <th></th>\n      <th>metric</th>\n      <th>type</th>\n      <th>method</th>\n      <th>value</th>\n    </tr>\n  </thead>\n  <tbody>\n    <tr>\n      <th>0</th>\n      <td>demographic_parity</td>\n      <td>difference</td>\n      <td>other</td>\n      <td>0.035980</td>\n    </tr>\n    <tr>\n      <th>1</th>\n      <td>demographic_parity</td>\n      <td>ratio</td>\n      <td>other</td>\n      <td>1.075148</td>\n    </tr>\n    <tr>\n      <th>2</th>\n      <td>equal_opportunity</td>\n      <td>difference</td>\n      <td>other</td>\n      <td>-0.097325</td>\n    </tr>\n  </tbody>\n</table>\n</div>"
     },
     "execution_count": 44,
     "metadata": {},
     "output_type": "execute_result"
    }
   ],
   "source": [
    "calculate_aif360_metrics(y_test, y_pred_reduced_aif, z_test, priv_group=priv_group)"
   ],
   "metadata": {
    "collapsed": false,
    "ExecuteTime": {
     "end_time": "2024-03-28T12:02:21.217166Z",
     "start_time": "2024-03-28T12:02:21.165104Z"
    }
   },
   "id": "b704d59e738814b8",
   "execution_count": 44
  },
  {
   "cell_type": "code",
   "outputs": [
    {
     "name": "stdout",
     "output_type": "stream",
     "text": [
      "              precision    recall  f1-score   support\n",
      "\n",
      "           0       0.86      0.83      0.85       749\n",
      "           1       0.82      0.86      0.84       694\n",
      "\n",
      "    accuracy                           0.84      1443\n",
      "   macro avg       0.84      0.84      0.84      1443\n",
      "weighted avg       0.84      0.84      0.84      1443\n",
      "\n"
     ]
    }
   ],
   "source": [
    "print(classification_report(y_test, y_pred_reduced_aif))\n"
   ],
   "metadata": {
    "collapsed": false,
    "ExecuteTime": {
     "end_time": "2024-03-28T12:02:21.240384Z",
     "start_time": "2024-03-28T12:02:21.202787Z"
    }
   },
   "id": "ededc7bf4c7b4f79",
   "execution_count": 45
  },
  {
   "cell_type": "code",
   "outputs": [],
   "source": [],
   "metadata": {
    "collapsed": false,
    "ExecuteTime": {
     "start_time": "2024-03-27T15:37:52.468543Z"
    }
   },
   "id": "351c4b67f52ca979"
  }
 ],
 "metadata": {
  "kernelspec": {
   "display_name": "Python 3",
   "language": "python",
   "name": "python3"
  },
  "language_info": {
   "codemirror_mode": {
    "name": "ipython",
    "version": 2
   },
   "file_extension": ".py",
   "mimetype": "text/x-python",
   "name": "python",
   "nbconvert_exporter": "python",
   "pygments_lexer": "ipython2",
   "version": "2.7.6"
  }
 },
 "nbformat": 4,
 "nbformat_minor": 5
}
