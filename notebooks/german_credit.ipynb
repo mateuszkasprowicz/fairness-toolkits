{
 "cells": [
  {
   "cell_type": "markdown",
   "source": [
    "# Evaluating Fairness in Machine Learning: Comparative Analysis and Benchmarking of Fairlearn and AIF360 | German Credit Dataset"
   ],
   "metadata": {
    "collapsed": false
   },
   "id": "3dab28c6a8ebdde5"
  },
  {
   "cell_type": "code",
   "execution_count": 182,
   "outputs": [
    {
     "name": "stdout",
     "output_type": "stream",
     "text": [
      "The autoreload extension is already loaded. To reload it, use:\n",
      "  %reload_ext autoreload\n"
     ]
    }
   ],
   "source": [
    "%load_ext autoreload\n",
    "%autoreload 2\n",
    "\n",
    "import os\n",
    "import random\n",
    "\n",
    "import pandas as pd\n",
    "import numpy as np\n",
    "from matplotlib import pyplot as plt\n",
    "import sklearn\n",
    "from sklearn.metrics import classification_report\n",
    "from sklearn.model_selection import train_test_split\n",
    "from catboost import CatBoostClassifier\n",
    "\n",
    "from src.constants import RANDOM_STATE, DEFAULT_MODEL_CONFIG, METRICFRAME_METRICS\n",
    "from src.evaluation import plot_roc, print_confusion_matrix, calculate_fairlearn_metrics, calculate_aif360_metrics"
   ],
   "metadata": {
    "collapsed": false,
    "ExecuteTime": {
     "end_time": "2024-03-27T15:27:20.941245Z",
     "start_time": "2024-03-27T15:27:20.920420Z"
    }
   },
   "id": "initial_id"
  },
  {
   "cell_type": "code",
   "execution_count": 134,
   "outputs": [],
   "source": [
    "sklearn.set_config(transform_output=\"pandas\")"
   ],
   "metadata": {
    "collapsed": false,
    "ExecuteTime": {
     "end_time": "2024-03-27T14:33:18.584521Z",
     "start_time": "2024-03-27T14:33:18.564878Z"
    }
   },
   "id": "46df34862adf4d9a"
  },
  {
   "cell_type": "markdown",
   "source": [
    "## Ensure reproducibility\n",
    "\n",
    "Set random seeds for reproducibility."
   ],
   "metadata": {
    "collapsed": false
   },
   "id": "18bb741c498fb006"
  },
  {
   "cell_type": "code",
   "execution_count": 135,
   "outputs": [],
   "source": [
    "np.random.seed(RANDOM_STATE)\n",
    "os.environ[\"PYTHONHASHSEED\"] = str(RANDOM_STATE)\n",
    "random.seed(RANDOM_STATE)"
   ],
   "metadata": {
    "collapsed": false,
    "ExecuteTime": {
     "end_time": "2024-03-27T14:33:18.927529Z",
     "start_time": "2024-03-27T14:33:18.909174Z"
    }
   },
   "id": "e16484de6065a680"
  },
  {
   "cell_type": "markdown",
   "source": [
    "## Load data"
   ],
   "metadata": {
    "collapsed": false
   },
   "id": "186976c34c79d08d"
  },
  {
   "cell_type": "code",
   "execution_count": 136,
   "outputs": [],
   "source": [
    "TARGET = \"Creditability\"\n",
    "PROTECTED_ATTRIBUTE = \"Sex & Marital Status\""
   ],
   "metadata": {
    "collapsed": false,
    "ExecuteTime": {
     "end_time": "2024-03-27T14:33:19.232135Z",
     "start_time": "2024-03-27T14:33:19.212940Z"
    }
   },
   "id": "4c826daffb4194a5"
  },
  {
   "cell_type": "code",
   "execution_count": 137,
   "outputs": [],
   "source": [
    "data_raw = pd.read_csv(\"../data/german_credit_data.csv\")\n",
    "data = data_raw.copy()"
   ],
   "metadata": {
    "collapsed": false,
    "ExecuteTime": {
     "end_time": "2024-03-27T14:33:19.410502Z",
     "start_time": "2024-03-27T14:33:19.373065Z"
    }
   },
   "id": "b2d5a6bf84200a1"
  },
  {
   "cell_type": "code",
   "execution_count": 138,
   "outputs": [
    {
     "name": "stdout",
     "output_type": "stream",
     "text": [
      "<class 'pandas.core.frame.DataFrame'>\n",
      "RangeIndex: 1000 entries, 0 to 999\n",
      "Data columns (total 21 columns):\n",
      " #   Column                             Non-Null Count  Dtype\n",
      "---  ------                             --------------  -----\n",
      " 0   Creditability                      1000 non-null   int64\n",
      " 1   Account Balance                    1000 non-null   int64\n",
      " 2   Duration of Credit (month)         1000 non-null   int64\n",
      " 3   Payment Status of Previous Credit  1000 non-null   int64\n",
      " 4   Purpose                            1000 non-null   int64\n",
      " 5   Credit Amount                      1000 non-null   int64\n",
      " 6   Value Savings/Stocks               1000 non-null   int64\n",
      " 7   Length of current employment       1000 non-null   int64\n",
      " 8   Instalment per cent                1000 non-null   int64\n",
      " 9   Sex & Marital Status               1000 non-null   int64\n",
      " 10  Guarantors                         1000 non-null   int64\n",
      " 11  Duration in Current address        1000 non-null   int64\n",
      " 12  Most valuable available asset      1000 non-null   int64\n",
      " 13  Age (years)                        1000 non-null   int64\n",
      " 14  Concurrent Credits                 1000 non-null   int64\n",
      " 15  Type of apartment                  1000 non-null   int64\n",
      " 16  No of Credits at this Bank         1000 non-null   int64\n",
      " 17  Occupation                         1000 non-null   int64\n",
      " 18  No of dependents                   1000 non-null   int64\n",
      " 19  Telephone                          1000 non-null   int64\n",
      " 20  Foreign Worker                     1000 non-null   int64\n",
      "dtypes: int64(21)\n",
      "memory usage: 164.2 KB\n"
     ]
    }
   ],
   "source": [
    "data.info()"
   ],
   "metadata": {
    "collapsed": false,
    "ExecuteTime": {
     "end_time": "2024-03-27T14:33:19.542011Z",
     "start_time": "2024-03-27T14:33:19.519906Z"
    }
   },
   "id": "818a51de8d431774"
  },
  {
   "cell_type": "code",
   "outputs": [
    {
     "data": {
      "text/plain": "Creditability                        0\nAccount Balance                      0\nDuration of Credit (month)           0\nPayment Status of Previous Credit    0\nPurpose                              0\nCredit Amount                        0\nValue Savings/Stocks                 0\nLength of current employment         0\nInstalment per cent                  0\nSex & Marital Status                 0\nGuarantors                           0\nDuration in Current address          0\nMost valuable available asset        0\nAge (years)                          0\nConcurrent Credits                   0\nType of apartment                    0\nNo of Credits at this Bank           0\nOccupation                           0\nNo of dependents                     0\nTelephone                            0\nForeign Worker                       0\ndtype: int64"
     },
     "execution_count": 139,
     "metadata": {},
     "output_type": "execute_result"
    }
   ],
   "source": [
    "data.isna().sum()"
   ],
   "metadata": {
    "collapsed": false,
    "ExecuteTime": {
     "end_time": "2024-03-27T14:33:19.693484Z",
     "start_time": "2024-03-27T14:33:19.672316Z"
    }
   },
   "id": "c9e3e53fc40f3721",
   "execution_count": 139
  },
  {
   "cell_type": "code",
   "execution_count": 140,
   "outputs": [
    {
     "data": {
      "text/plain": "Creditability\n1    700\n0    300\nName: count, dtype: int64"
     },
     "execution_count": 140,
     "metadata": {},
     "output_type": "execute_result"
    }
   ],
   "source": [
    "data[TARGET].value_counts()"
   ],
   "metadata": {
    "collapsed": false,
    "ExecuteTime": {
     "end_time": "2024-03-27T14:33:19.854304Z",
     "start_time": "2024-03-27T14:33:19.838052Z"
    }
   },
   "id": "df3c033e2c0c7c0d"
  },
  {
   "cell_type": "code",
   "execution_count": 141,
   "outputs": [
    {
     "data": {
      "text/plain": "Sex & Marital Status\n3    548\n2    310\n4     92\n1     50\nName: count, dtype: int64"
     },
     "execution_count": 141,
     "metadata": {},
     "output_type": "execute_result"
    }
   ],
   "source": [
    "data[PROTECTED_ATTRIBUTE].value_counts()"
   ],
   "metadata": {
    "collapsed": false,
    "ExecuteTime": {
     "end_time": "2024-03-27T14:33:19.995896Z",
     "start_time": "2024-03-27T14:33:19.977587Z"
    }
   },
   "id": "7b5ca13ce10f0b3d"
  },
  {
   "cell_type": "code",
   "execution_count": 142,
   "outputs": [],
   "source": [
    "y = data.loc[:, TARGET]\n",
    "z = data.loc[:, PROTECTED_ATTRIBUTE]\n",
    "X = data.drop(columns=TARGET)"
   ],
   "metadata": {
    "collapsed": false,
    "ExecuteTime": {
     "end_time": "2024-03-27T14:33:20.153816Z",
     "start_time": "2024-03-27T14:33:20.136735Z"
    }
   },
   "id": "d4355e31612e83b1"
  },
  {
   "cell_type": "code",
   "execution_count": 143,
   "outputs": [],
   "source": [
    "X_train, X_test, y_train, y_test, z_train, z_test = train_test_split(X, y, z, test_size=0.2, random_state=RANDOM_STATE, stratify=y)"
   ],
   "metadata": {
    "collapsed": false,
    "ExecuteTime": {
     "end_time": "2024-03-27T14:33:20.303739Z",
     "start_time": "2024-03-27T14:33:20.271405Z"
    }
   },
   "id": "14adf46e9fb5a995"
  },
  {
   "cell_type": "code",
   "execution_count": 144,
   "outputs": [],
   "source": [
    "MODEL_CONFIG = dict(DEFAULT_MODEL_CONFIG, cat_features=X.select_dtypes(\"object\").columns.to_list())"
   ],
   "metadata": {
    "collapsed": false,
    "ExecuteTime": {
     "end_time": "2024-03-27T14:33:20.449869Z",
     "start_time": "2024-03-27T14:33:20.428244Z"
    }
   },
   "id": "77bed94dd8d730aa"
  },
  {
   "cell_type": "code",
   "execution_count": 145,
   "outputs": [],
   "source": [
    "default_model = CatBoostClassifier(**MODEL_CONFIG)\n",
    "model = default_model.copy()"
   ],
   "metadata": {
    "collapsed": false,
    "ExecuteTime": {
     "end_time": "2024-03-27T14:33:20.605584Z",
     "start_time": "2024-03-27T14:33:20.579615Z"
    }
   },
   "id": "decc0e42c91fa4f1"
  },
  {
   "cell_type": "code",
   "execution_count": 146,
   "outputs": [
    {
     "name": "stdout",
     "output_type": "stream",
     "text": [
      "0:\tlearn: 0.6899831\ttotal: 2.11ms\tremaining: 6.33s\n",
      "250:\tlearn: 0.4698964\ttotal: 106ms\tremaining: 1.16s\n",
      "500:\tlearn: 0.4234232\ttotal: 209ms\tremaining: 1.04s\n",
      "750:\tlearn: 0.3885434\ttotal: 313ms\tremaining: 937ms\n",
      "1000:\tlearn: 0.3550001\ttotal: 416ms\tremaining: 831ms\n",
      "1250:\tlearn: 0.3265120\ttotal: 517ms\tremaining: 722ms\n",
      "1500:\tlearn: 0.3027580\ttotal: 620ms\tremaining: 620ms\n",
      "1750:\tlearn: 0.2828691\ttotal: 729ms\tremaining: 520ms\n",
      "2000:\tlearn: 0.2648067\ttotal: 834ms\tremaining: 416ms\n",
      "2250:\tlearn: 0.2487316\ttotal: 937ms\tremaining: 312ms\n",
      "2500:\tlearn: 0.2338165\ttotal: 1.04s\tremaining: 208ms\n",
      "2750:\tlearn: 0.2203859\ttotal: 1.15s\tremaining: 104ms\n",
      "2999:\tlearn: 0.2079273\ttotal: 1.25s\tremaining: 0us\n"
     ]
    },
    {
     "data": {
      "text/plain": "<catboost.core.CatBoostClassifier at 0x29bd25750>"
     },
     "execution_count": 146,
     "metadata": {},
     "output_type": "execute_result"
    }
   ],
   "source": [
    "model.fit(X_train, y_train)"
   ],
   "metadata": {
    "collapsed": false,
    "ExecuteTime": {
     "end_time": "2024-03-27T14:33:22.175934Z",
     "start_time": "2024-03-27T14:33:20.737048Z"
    }
   },
   "id": "4d3290acf9a8a01"
  },
  {
   "cell_type": "code",
   "execution_count": 147,
   "outputs": [],
   "source": [
    "y_pred = pd.Series(model.predict(X_test), name=\"y_pred\", index=y_test.index)"
   ],
   "metadata": {
    "collapsed": false,
    "ExecuteTime": {
     "end_time": "2024-03-27T14:33:22.190728Z",
     "start_time": "2024-03-27T14:33:22.176138Z"
    }
   },
   "id": "273817d998d1c159"
  },
  {
   "cell_type": "code",
   "outputs": [
    {
     "name": "stdout",
     "output_type": "stream",
     "text": [
      "              precision    recall  f1-score   support\n",
      "\n",
      "           0       0.59      0.53      0.56        60\n",
      "           1       0.81      0.84      0.83       140\n",
      "\n",
      "    accuracy                           0.75       200\n",
      "   macro avg       0.70      0.69      0.69       200\n",
      "weighted avg       0.74      0.75      0.75       200\n"
     ]
    }
   ],
   "source": [
    "print(classification_report(y_test, y_pred))"
   ],
   "metadata": {
    "collapsed": false,
    "ExecuteTime": {
     "end_time": "2024-03-27T14:33:22.215873Z",
     "start_time": "2024-03-27T14:33:22.191092Z"
    }
   },
   "id": "ec360e15ece44016",
   "execution_count": 148
  },
  {
   "cell_type": "code",
   "outputs": [
    {
     "data": {
      "text/plain": "<Figure size 640x480 with 1 Axes>",
      "image/png": "[encoded data removed]"
     },
     "metadata": {},
     "output_type": "display_data"
    }
   ],
   "source": [
    "fig, ax = plt.subplots()\n",
    "plot_roc(model, X_test, y_test, ax)"
   ],
   "metadata": {
    "collapsed": false,
    "ExecuteTime": {
     "end_time": "2024-03-27T14:33:22.309950Z",
     "start_time": "2024-03-27T14:33:22.209209Z"
    }
   },
   "id": "6df3e4fe97aae466",
   "execution_count": 149
  },
  {
   "cell_type": "code",
   "outputs": [
    {
     "name": "stdout",
     "output_type": "stream",
     "text": [
      "Confusion Matrix:\n",
      "[[ 32  28]\n",
      " [ 22 118]]\n"
     ]
    }
   ],
   "source": [
    "print_confusion_matrix(model, X_test, y_test)"
   ],
   "metadata": {
    "collapsed": false,
    "ExecuteTime": {
     "end_time": "2024-03-27T14:33:22.334680Z",
     "start_time": "2024-03-27T14:33:22.310860Z"
    }
   },
   "id": "24879deffc54342e",
   "execution_count": 150
  },
  {
   "cell_type": "markdown",
   "source": [
    "## Fairness assessment"
   ],
   "metadata": {
    "collapsed": false
   },
   "id": "b1772a8c54a878b4"
  },
  {
   "cell_type": "markdown",
   "source": [
    "### Fairlearn"
   ],
   "metadata": {
    "collapsed": false
   },
   "id": "9dc507cbb6b9a9db"
  },
  {
   "cell_type": "markdown",
   "source": [
    "#### Detection"
   ],
   "metadata": {
    "collapsed": false
   },
   "id": "60c118c1cf05c8e8"
  },
  {
   "cell_type": "code",
   "execution_count": 151,
   "outputs": [],
   "source": [
    "from fairlearn.metrics import MetricFrame"
   ],
   "metadata": {
    "collapsed": false,
    "ExecuteTime": {
     "end_time": "2024-03-27T14:33:22.381574Z",
     "start_time": "2024-03-27T14:33:22.328210Z"
    }
   },
   "id": "d15f9e047e368a71"
  },
  {
   "cell_type": "code",
   "outputs": [],
   "source": [
    "mf = MetricFrame(\n",
    "    metrics=METRICFRAME_METRICS,\n",
    "    y_true=y_test,\n",
    "    y_pred=y_pred,\n",
    "    sensitive_features=z_test,\n",
    "    random_state=RANDOM_STATE,\n",
    ")"
   ],
   "metadata": {
    "collapsed": false,
    "ExecuteTime": {
     "end_time": "2024-03-27T15:31:19.773438Z",
     "start_time": "2024-03-27T15:31:19.747530Z"
    }
   },
   "id": "9d8e1950e7c72aee",
   "execution_count": 187
  },
  {
   "cell_type": "code",
   "outputs": [
    {
     "data": {
      "text/plain": "tpr        0.842857\nfpr        0.466667\nsel        0.730000\ncount    200.000000\ndtype: float64"
     },
     "execution_count": 188,
     "metadata": {},
     "output_type": "execute_result"
    }
   ],
   "source": [
    "mf.overall"
   ],
   "metadata": {
    "collapsed": false,
    "ExecuteTime": {
     "end_time": "2024-03-27T15:31:20.073092Z",
     "start_time": "2024-03-27T15:31:20.050910Z"
    }
   },
   "id": "209397bd9c32ba19",
   "execution_count": 188
  },
  {
   "cell_type": "code",
   "outputs": [
    {
     "data": {
      "text/plain": "                           tpr       fpr       sel  count\nSex & Marital Status                                     \n1                     0.500000  0.500000  0.500000    6.0\n2                     0.844444  0.333333  0.652778   72.0\n3                     0.875000  0.560000  0.800000  105.0\n4                     0.727273  0.666667  0.705882   17.0",
      "text/html": "<div>\n<style scoped>\n    .dataframe tbody tr th:only-of-type {\n        vertical-align: middle;\n    }\n\n    .dataframe tbody tr th {\n        vertical-align: top;\n    }\n\n    .dataframe thead th {\n        text-align: right;\n    }\n</style>\n<table border=\"1\" class=\"dataframe\">\n  <thead>\n    <tr style=\"text-align: right;\">\n      <th></th>\n      <th>tpr</th>\n      <th>fpr</th>\n      <th>sel</th>\n      <th>count</th>\n    </tr>\n    <tr>\n      <th>Sex &amp; Marital Status</th>\n      <th></th>\n      <th></th>\n      <th></th>\n      <th></th>\n    </tr>\n  </thead>\n  <tbody>\n    <tr>\n      <th>1</th>\n      <td>0.500000</td>\n      <td>0.500000</td>\n      <td>0.500000</td>\n      <td>6.0</td>\n    </tr>\n    <tr>\n      <th>2</th>\n      <td>0.844444</td>\n      <td>0.333333</td>\n      <td>0.652778</td>\n      <td>72.0</td>\n    </tr>\n    <tr>\n      <th>3</th>\n      <td>0.875000</td>\n      <td>0.560000</td>\n      <td>0.800000</td>\n      <td>105.0</td>\n    </tr>\n    <tr>\n      <th>4</th>\n      <td>0.727273</td>\n      <td>0.666667</td>\n      <td>0.705882</td>\n      <td>17.0</td>\n    </tr>\n  </tbody>\n</table>\n</div>"
     },
     "execution_count": 189,
     "metadata": {},
     "output_type": "execute_result"
    }
   ],
   "source": [
    "mf.by_group"
   ],
   "metadata": {
    "collapsed": false,
    "ExecuteTime": {
     "end_time": "2024-03-27T15:31:20.353785Z",
     "start_time": "2024-03-27T15:31:20.328781Z"
    }
   },
   "id": "8fd7451d480a2ea2",
   "execution_count": 189
  },
  {
   "cell_type": "code",
   "outputs": [
    {
     "data": {
      "text/plain": "                metric        type          method     value\n8   demographic_parity  difference  between_groups  0.300000\n10  demographic_parity  difference      to_overall  0.230000\n9   demographic_parity       ratio  between_groups  0.625000\n11  demographic_parity       ratio      to_overall  0.684932\n0    equal_opportunity  difference  between_groups  0.375000\n2    equal_opportunity  difference      to_overall  0.342857\n1    equal_opportunity       ratio  between_groups  0.571429\n3    equal_opportunity       ratio      to_overall  0.593220\n4       equalized_odds  difference  between_groups  0.375000\n6       equalized_odds  difference      to_overall  0.342857\n5       equalized_odds       ratio  between_groups  0.500000\n7       equalized_odds       ratio      to_overall  0.593220",
      "text/html": "<div>\n<style scoped>\n    .dataframe tbody tr th:only-of-type {\n        vertical-align: middle;\n    }\n\n    .dataframe tbody tr th {\n        vertical-align: top;\n    }\n\n    .dataframe thead th {\n        text-align: right;\n    }\n</style>\n<table border=\"1\" class=\"dataframe\">\n  <thead>\n    <tr style=\"text-align: right;\">\n      <th></th>\n      <th>metric</th>\n      <th>type</th>\n      <th>method</th>\n      <th>value</th>\n    </tr>\n  </thead>\n  <tbody>\n    <tr>\n      <th>8</th>\n      <td>demographic_parity</td>\n      <td>difference</td>\n      <td>between_groups</td>\n      <td>0.300000</td>\n    </tr>\n    <tr>\n      <th>10</th>\n      <td>demographic_parity</td>\n      <td>difference</td>\n      <td>to_overall</td>\n      <td>0.230000</td>\n    </tr>\n    <tr>\n      <th>9</th>\n      <td>demographic_parity</td>\n      <td>ratio</td>\n      <td>between_groups</td>\n      <td>0.625000</td>\n    </tr>\n    <tr>\n      <th>11</th>\n      <td>demographic_parity</td>\n      <td>ratio</td>\n      <td>to_overall</td>\n      <td>0.684932</td>\n    </tr>\n    <tr>\n      <th>0</th>\n      <td>equal_opportunity</td>\n      <td>difference</td>\n      <td>between_groups</td>\n      <td>0.375000</td>\n    </tr>\n    <tr>\n      <th>2</th>\n      <td>equal_opportunity</td>\n      <td>difference</td>\n      <td>to_overall</td>\n      <td>0.342857</td>\n    </tr>\n    <tr>\n      <th>1</th>\n      <td>equal_opportunity</td>\n      <td>ratio</td>\n      <td>between_groups</td>\n      <td>0.571429</td>\n    </tr>\n    <tr>\n      <th>3</th>\n      <td>equal_opportunity</td>\n      <td>ratio</td>\n      <td>to_overall</td>\n      <td>0.593220</td>\n    </tr>\n    <tr>\n      <th>4</th>\n      <td>equalized_odds</td>\n      <td>difference</td>\n      <td>between_groups</td>\n      <td>0.375000</td>\n    </tr>\n    <tr>\n      <th>6</th>\n      <td>equalized_odds</td>\n      <td>difference</td>\n      <td>to_overall</td>\n      <td>0.342857</td>\n    </tr>\n    <tr>\n      <th>5</th>\n      <td>equalized_odds</td>\n      <td>ratio</td>\n      <td>between_groups</td>\n      <td>0.500000</td>\n    </tr>\n    <tr>\n      <th>7</th>\n      <td>equalized_odds</td>\n      <td>ratio</td>\n      <td>to_overall</td>\n      <td>0.593220</td>\n    </tr>\n  </tbody>\n</table>\n</div>"
     },
     "execution_count": 183,
     "metadata": {},
     "output_type": "execute_result"
    }
   ],
   "source": [
    "calculate_fairlearn_metrics(y_test, y_pred, z_test)"
   ],
   "metadata": {
    "collapsed": false,
    "ExecuteTime": {
     "end_time": "2024-03-27T15:29:21.037736Z",
     "start_time": "2024-03-27T15:29:20.952360Z"
    }
   },
   "id": "83ca31f541c81002",
   "execution_count": 183
  },
  {
   "cell_type": "markdown",
   "source": [
    "#### Mitigation"
   ],
   "metadata": {
    "collapsed": false
   },
   "id": "2de94abc45d20ecf"
  },
  {
   "cell_type": "code",
   "execution_count": 156,
   "outputs": [],
   "source": [
    "from fairlearn.reductions import DemographicParity, ExponentiatedGradient"
   ],
   "metadata": {
    "collapsed": false,
    "ExecuteTime": {
     "end_time": "2024-03-27T14:33:23.125154Z",
     "start_time": "2024-03-27T14:33:23.101054Z"
    }
   },
   "id": "cb5a058fc758f4e4"
  },
  {
   "cell_type": "code",
   "execution_count": 157,
   "outputs": [
    {
     "name": "stderr",
     "output_type": "stream",
     "text": [
      "/opt/homebrew/Caskroom/miniconda/base/envs/fairness-toolkits/lib/python3.10/site-packages/fairlearn/reductions/_moments/utility_parity.py:214: FutureWarning: ChainedAssignmentError: behaviour will change in pandas 3.0!\n",
      "You are setting values through chained assignment. Currently this works in certain cases, but when using Copy-on-Write (which will become the default behaviour in pandas 3.0) this will never work to update the original DataFrame or Series, because the intermediate object on which we are setting values will behave as a copy.\n",
      "A typical example is when you are setting values in a column of a DataFrame, like:\n",
      "\n",
      "df[\"col\"][row_indexer] = value\n",
      "\n",
      "Use `df.loc[row_indexer, \"col\"] = values` instead, to perform the assignment in a single step and ensure this keeps updating the original `df`.\n",
      "\n",
      "See the caveats in the documentation: https://pandas.pydata.org/pandas-docs/stable/user_guide/indexing.html#returning-a-view-versus-a-copy\n",
      "\n",
      "  self.pos_basis[i][\"+\", e, g] = 1\n",
      "/opt/homebrew/Caskroom/miniconda/base/envs/fairness-toolkits/lib/python3.10/site-packages/fairlearn/reductions/_moments/utility_parity.py:215: FutureWarning: ChainedAssignmentError: behaviour will change in pandas 3.0!\n",
      "You are setting values through chained assignment. Currently this works in certain cases, but when using Copy-on-Write (which will become the default behaviour in pandas 3.0) this will never work to update the original DataFrame or Series, because the intermediate object on which we are setting values will behave as a copy.\n",
      "A typical example is when you are setting values in a column of a DataFrame, like:\n",
      "\n",
      "df[\"col\"][row_indexer] = value\n",
      "\n",
      "Use `df.loc[row_indexer, \"col\"] = values` instead, to perform the assignment in a single step and ensure this keeps updating the original `df`.\n",
      "\n",
      "See the caveats in the documentation: https://pandas.pydata.org/pandas-docs/stable/user_guide/indexing.html#returning-a-view-versus-a-copy\n",
      "\n",
      "  self.neg_basis[i][\"-\", e, g] = 1\n",
      "/opt/homebrew/Caskroom/miniconda/base/envs/fairness-toolkits/lib/python3.10/site-packages/fairlearn/reductions/_moments/utility_parity.py:214: FutureWarning: ChainedAssignmentError: behaviour will change in pandas 3.0!\n",
      "You are setting values through chained assignment. Currently this works in certain cases, but when using Copy-on-Write (which will become the default behaviour in pandas 3.0) this will never work to update the original DataFrame or Series, because the intermediate object on which we are setting values will behave as a copy.\n",
      "A typical example is when you are setting values in a column of a DataFrame, like:\n",
      "\n",
      "df[\"col\"][row_indexer] = value\n",
      "\n",
      "Use `df.loc[row_indexer, \"col\"] = values` instead, to perform the assignment in a single step and ensure this keeps updating the original `df`.\n",
      "\n",
      "See the caveats in the documentation: https://pandas.pydata.org/pandas-docs/stable/user_guide/indexing.html#returning-a-view-versus-a-copy\n",
      "\n",
      "  self.pos_basis[i][\"+\", e, g] = 1\n",
      "/opt/homebrew/Caskroom/miniconda/base/envs/fairness-toolkits/lib/python3.10/site-packages/fairlearn/reductions/_moments/utility_parity.py:215: FutureWarning: ChainedAssignmentError: behaviour will change in pandas 3.0!\n",
      "You are setting values through chained assignment. Currently this works in certain cases, but when using Copy-on-Write (which will become the default behaviour in pandas 3.0) this will never work to update the original DataFrame or Series, because the intermediate object on which we are setting values will behave as a copy.\n",
      "A typical example is when you are setting values in a column of a DataFrame, like:\n",
      "\n",
      "df[\"col\"][row_indexer] = value\n",
      "\n",
      "Use `df.loc[row_indexer, \"col\"] = values` instead, to perform the assignment in a single step and ensure this keeps updating the original `df`.\n",
      "\n",
      "See the caveats in the documentation: https://pandas.pydata.org/pandas-docs/stable/user_guide/indexing.html#returning-a-view-versus-a-copy\n",
      "\n",
      "  self.neg_basis[i][\"-\", e, g] = 1\n",
      "/opt/homebrew/Caskroom/miniconda/base/envs/fairness-toolkits/lib/python3.10/site-packages/fairlearn/reductions/_moments/utility_parity.py:214: FutureWarning: ChainedAssignmentError: behaviour will change in pandas 3.0!\n",
      "You are setting values through chained assignment. Currently this works in certain cases, but when using Copy-on-Write (which will become the default behaviour in pandas 3.0) this will never work to update the original DataFrame or Series, because the intermediate object on which we are setting values will behave as a copy.\n",
      "A typical example is when you are setting values in a column of a DataFrame, like:\n",
      "\n",
      "df[\"col\"][row_indexer] = value\n",
      "\n",
      "Use `df.loc[row_indexer, \"col\"] = values` instead, to perform the assignment in a single step and ensure this keeps updating the original `df`.\n",
      "\n",
      "See the caveats in the documentation: https://pandas.pydata.org/pandas-docs/stable/user_guide/indexing.html#returning-a-view-versus-a-copy\n",
      "\n",
      "  self.pos_basis[i][\"+\", e, g] = 1\n",
      "/opt/homebrew/Caskroom/miniconda/base/envs/fairness-toolkits/lib/python3.10/site-packages/fairlearn/reductions/_moments/utility_parity.py:215: FutureWarning: ChainedAssignmentError: behaviour will change in pandas 3.0!\n",
      "You are setting values through chained assignment. Currently this works in certain cases, but when using Copy-on-Write (which will become the default behaviour in pandas 3.0) this will never work to update the original DataFrame or Series, because the intermediate object on which we are setting values will behave as a copy.\n",
      "A typical example is when you are setting values in a column of a DataFrame, like:\n",
      "\n",
      "df[\"col\"][row_indexer] = value\n",
      "\n",
      "Use `df.loc[row_indexer, \"col\"] = values` instead, to perform the assignment in a single step and ensure this keeps updating the original `df`.\n",
      "\n",
      "See the caveats in the documentation: https://pandas.pydata.org/pandas-docs/stable/user_guide/indexing.html#returning-a-view-versus-a-copy\n",
      "\n",
      "  self.neg_basis[i][\"-\", e, g] = 1\n"
     ]
    },
    {
     "name": "stdout",
     "output_type": "stream",
     "text": [
      "0:\tlearn: 0.6899831\ttotal: 518us\tremaining: 1.55s\n",
      "250:\tlearn: 0.4698964\ttotal: 106ms\tremaining: 1.16s\n",
      "500:\tlearn: 0.4234232\ttotal: 212ms\tremaining: 1.05s\n",
      "750:\tlearn: 0.3885434\ttotal: 321ms\tremaining: 961ms\n",
      "1000:\tlearn: 0.3550001\ttotal: 427ms\tremaining: 853ms\n",
      "1250:\tlearn: 0.3265120\ttotal: 535ms\tremaining: 749ms\n",
      "1500:\tlearn: 0.3027580\ttotal: 637ms\tremaining: 636ms\n",
      "1750:\tlearn: 0.2828691\ttotal: 742ms\tremaining: 529ms\n",
      "2000:\tlearn: 0.2648067\ttotal: 845ms\tremaining: 422ms\n",
      "2250:\tlearn: 0.2487316\ttotal: 949ms\tremaining: 316ms\n",
      "2500:\tlearn: 0.2338165\ttotal: 1.05s\tremaining: 209ms\n",
      "2750:\tlearn: 0.2203859\ttotal: 1.16s\tremaining: 105ms\n",
      "2999:\tlearn: 0.2079273\ttotal: 1.26s\tremaining: 0us\n",
      "0:\tlearn: 0.6899831\ttotal: 566us\tremaining: 1.7s\n",
      "250:\tlearn: 0.4698964\ttotal: 104ms\tremaining: 1.14s\n",
      "500:\tlearn: 0.4234232\ttotal: 204ms\tremaining: 1.02s\n",
      "750:\tlearn: 0.3885434\ttotal: 308ms\tremaining: 921ms\n",
      "1000:\tlearn: 0.3550001\ttotal: 414ms\tremaining: 826ms\n",
      "1250:\tlearn: 0.3265120\ttotal: 521ms\tremaining: 729ms\n",
      "1500:\tlearn: 0.3027580\ttotal: 627ms\tremaining: 626ms\n",
      "1750:\tlearn: 0.2828691\ttotal: 731ms\tremaining: 521ms\n",
      "2000:\tlearn: 0.2648067\ttotal: 837ms\tremaining: 418ms\n",
      "2250:\tlearn: 0.2487316\ttotal: 941ms\tremaining: 313ms\n",
      "2500:\tlearn: 0.2338165\ttotal: 1.05s\tremaining: 209ms\n",
      "2750:\tlearn: 0.2203859\ttotal: 1.15s\tremaining: 104ms\n",
      "2999:\tlearn: 0.2079273\ttotal: 1.26s\tremaining: 0us\n",
      "0:\tlearn: 0.6899493\ttotal: 497us\tremaining: 1.49s\n",
      "250:\tlearn: 0.4627546\ttotal: 107ms\tremaining: 1.17s\n",
      "500:\tlearn: 0.4132722\ttotal: 215ms\tremaining: 1.07s\n",
      "750:\tlearn: 0.3771573\ttotal: 325ms\tremaining: 972ms\n",
      "1000:\tlearn: 0.3436374\ttotal: 439ms\tremaining: 877ms\n",
      "1250:\tlearn: 0.3147134\ttotal: 545ms\tremaining: 763ms\n",
      "1500:\tlearn: 0.2909270\ttotal: 652ms\tremaining: 651ms\n",
      "1750:\tlearn: 0.2704269\ttotal: 759ms\tremaining: 541ms\n",
      "2000:\tlearn: 0.2523806\ttotal: 873ms\tremaining: 436ms\n",
      "2250:\tlearn: 0.2352190\ttotal: 980ms\tremaining: 326ms\n",
      "2500:\tlearn: 0.2201979\ttotal: 1.09s\tremaining: 217ms\n",
      "2750:\tlearn: 0.2066196\ttotal: 1.2s\tremaining: 108ms\n",
      "2999:\tlearn: 0.1941748\ttotal: 1.31s\tremaining: 0us\n",
      "0:\tlearn: 0.6899684\ttotal: 1.2ms\tremaining: 3.6s\n",
      "250:\tlearn: 0.4699231\ttotal: 105ms\tremaining: 1.15s\n",
      "500:\tlearn: 0.4239687\ttotal: 212ms\tremaining: 1.06s\n",
      "750:\tlearn: 0.3890262\ttotal: 316ms\tremaining: 947ms\n",
      "1000:\tlearn: 0.3547733\ttotal: 424ms\tremaining: 847ms\n",
      "1250:\tlearn: 0.3260716\ttotal: 536ms\tremaining: 750ms\n",
      "1500:\tlearn: 0.3033935\ttotal: 645ms\tremaining: 644ms\n",
      "1750:\tlearn: 0.2832790\ttotal: 753ms\tremaining: 537ms\n",
      "2000:\tlearn: 0.2656658\ttotal: 862ms\tremaining: 430ms\n",
      "2250:\tlearn: 0.2492579\ttotal: 974ms\tremaining: 324ms\n",
      "2500:\tlearn: 0.2349963\ttotal: 1.08s\tremaining: 216ms\n",
      "2750:\tlearn: 0.2215264\ttotal: 1.19s\tremaining: 107ms\n",
      "2999:\tlearn: 0.2092003\ttotal: 1.29s\tremaining: 0us\n",
      "0:\tlearn: 0.6631278\ttotal: 576us\tremaining: 1.73s\n",
      "250:\tlearn: 0.0022519\ttotal: 109ms\tremaining: 1.2s\n",
      "500:\tlearn: 0.0007460\ttotal: 214ms\tremaining: 1.07s\n",
      "750:\tlearn: 0.0007336\ttotal: 301ms\tremaining: 902ms\n",
      "1000:\tlearn: 0.0007260\ttotal: 391ms\tremaining: 780ms\n",
      "1250:\tlearn: 0.0007201\ttotal: 479ms\tremaining: 669ms\n",
      "1500:\tlearn: 0.0007194\ttotal: 571ms\tremaining: 570ms\n",
      "1750:\tlearn: 0.0007188\ttotal: 660ms\tremaining: 471ms\n",
      "2000:\tlearn: 0.0007182\ttotal: 750ms\tremaining: 375ms\n",
      "2250:\tlearn: 0.0007167\ttotal: 841ms\tremaining: 280ms\n",
      "2500:\tlearn: 0.0007160\ttotal: 930ms\tremaining: 186ms\n",
      "2750:\tlearn: 0.0007156\ttotal: 1.02s\tremaining: 92.7ms\n",
      "2999:\tlearn: 0.0007150\ttotal: 1.11s\tremaining: 0us\n",
      "0:\tlearn: 0.6891885\ttotal: 516us\tremaining: 1.55s\n",
      "250:\tlearn: 0.4452838\ttotal: 119ms\tremaining: 1.3s\n",
      "500:\tlearn: 0.3975755\ttotal: 230ms\tremaining: 1.15s\n",
      "750:\tlearn: 0.3625072\ttotal: 336ms\tremaining: 1s\n",
      "1000:\tlearn: 0.3321642\ttotal: 442ms\tremaining: 882ms\n",
      "1250:\tlearn: 0.3053185\ttotal: 550ms\tremaining: 769ms\n",
      "1500:\tlearn: 0.2824193\ttotal: 656ms\tremaining: 655ms\n",
      "1750:\tlearn: 0.2624316\ttotal: 761ms\tremaining: 543ms\n",
      "2000:\tlearn: 0.2452098\ttotal: 868ms\tremaining: 433ms\n",
      "2250:\tlearn: 0.2293367\ttotal: 972ms\tremaining: 323ms\n",
      "2500:\tlearn: 0.2144922\ttotal: 1.07s\tremaining: 214ms\n",
      "2750:\tlearn: 0.2013515\ttotal: 1.17s\tremaining: 106ms\n",
      "2999:\tlearn: 0.1890280\ttotal: 1.27s\tremaining: 0us\n",
      "0:\tlearn: 0.6899752\ttotal: 442us\tremaining: 1.33s\n",
      "250:\tlearn: 0.4695027\ttotal: 104ms\tremaining: 1.13s\n",
      "500:\tlearn: 0.4251611\ttotal: 208ms\tremaining: 1.04s\n",
      "750:\tlearn: 0.3911896\ttotal: 316ms\tremaining: 946ms\n",
      "1000:\tlearn: 0.3573907\ttotal: 422ms\tremaining: 843ms\n",
      "1250:\tlearn: 0.3290682\ttotal: 530ms\tremaining: 741ms\n",
      "1500:\tlearn: 0.3059648\ttotal: 637ms\tremaining: 636ms\n",
      "1750:\tlearn: 0.2850012\ttotal: 756ms\tremaining: 539ms\n",
      "2000:\tlearn: 0.2671691\ttotal: 863ms\tremaining: 431ms\n",
      "2250:\tlearn: 0.2504020\ttotal: 972ms\tremaining: 323ms\n",
      "2500:\tlearn: 0.2357615\ttotal: 1.08s\tremaining: 216ms\n",
      "2750:\tlearn: 0.2219635\ttotal: 1.19s\tremaining: 107ms\n",
      "2999:\tlearn: 0.2098565\ttotal: 1.3s\tremaining: 0us\n",
      "0:\tlearn: 0.6630231\ttotal: 454us\tremaining: 1.36s\n",
      "250:\tlearn: 0.0023091\ttotal: 106ms\tremaining: 1.16s\n",
      "500:\tlearn: 0.0007617\ttotal: 208ms\tremaining: 1.04s\n",
      "750:\tlearn: 0.0007101\ttotal: 296ms\tremaining: 887ms\n",
      "1000:\tlearn: 0.0007094\ttotal: 386ms\tremaining: 772ms\n",
      "1250:\tlearn: 0.0007082\ttotal: 474ms\tremaining: 662ms\n",
      "1500:\tlearn: 0.0007076\ttotal: 561ms\tremaining: 560ms\n",
      "1750:\tlearn: 0.0007072\ttotal: 642ms\tremaining: 458ms\n",
      "2000:\tlearn: 0.0007066\ttotal: 732ms\tremaining: 365ms\n",
      "2250:\tlearn: 0.0007062\ttotal: 817ms\tremaining: 272ms\n",
      "2500:\tlearn: 0.0007058\ttotal: 902ms\tremaining: 180ms\n",
      "2750:\tlearn: 0.0007049\ttotal: 986ms\tremaining: 89.3ms\n",
      "2999:\tlearn: 0.0007039\ttotal: 1.07s\tremaining: 0us\n",
      "0:\tlearn: 0.6899576\ttotal: 584us\tremaining: 1.75s\n",
      "250:\tlearn: 0.4690361\ttotal: 103ms\tremaining: 1.13s\n",
      "500:\tlearn: 0.4231668\ttotal: 207ms\tremaining: 1.03s\n",
      "750:\tlearn: 0.3881614\ttotal: 315ms\tremaining: 942ms\n",
      "1000:\tlearn: 0.3549225\ttotal: 421ms\tremaining: 840ms\n",
      "1250:\tlearn: 0.3259127\ttotal: 524ms\tremaining: 732ms\n",
      "1500:\tlearn: 0.3025434\ttotal: 633ms\tremaining: 632ms\n",
      "1750:\tlearn: 0.2821656\ttotal: 739ms\tremaining: 527ms\n",
      "2000:\tlearn: 0.2637768\ttotal: 852ms\tremaining: 425ms\n",
      "2250:\tlearn: 0.2475443\ttotal: 958ms\tremaining: 319ms\n",
      "2500:\tlearn: 0.2333037\ttotal: 1.07s\tremaining: 213ms\n",
      "2750:\tlearn: 0.2204696\ttotal: 1.18s\tremaining: 107ms\n",
      "2999:\tlearn: 0.2080723\ttotal: 1.29s\tremaining: 0us\n",
      "0:\tlearn: 0.6899707\ttotal: 402us\tremaining: 1.21s\n",
      "250:\tlearn: 0.4716940\ttotal: 105ms\tremaining: 1.15s\n",
      "500:\tlearn: 0.4262207\ttotal: 211ms\tremaining: 1.05s\n",
      "750:\tlearn: 0.3926361\ttotal: 317ms\tremaining: 949ms\n",
      "1000:\tlearn: 0.3591068\ttotal: 443ms\tremaining: 884ms\n",
      "1250:\tlearn: 0.3297120\ttotal: 568ms\tremaining: 794ms\n",
      "1500:\tlearn: 0.3061370\ttotal: 684ms\tremaining: 683ms\n",
      "1750:\tlearn: 0.2858950\ttotal: 804ms\tremaining: 574ms\n",
      "2000:\tlearn: 0.2682870\ttotal: 941ms\tremaining: 470ms\n",
      "2250:\tlearn: 0.2515581\ttotal: 1.05s\tremaining: 350ms\n",
      "2500:\tlearn: 0.2367217\ttotal: 1.17s\tremaining: 234ms\n",
      "2750:\tlearn: 0.2228813\ttotal: 1.29s\tremaining: 117ms\n",
      "2999:\tlearn: 0.2105991\ttotal: 1.4s\tremaining: 0us\n",
      "0:\tlearn: 0.6817835\ttotal: 1.1ms\tremaining: 3.29s\n",
      "250:\tlearn: 0.2197868\ttotal: 117ms\tremaining: 1.28s\n",
      "500:\tlearn: 0.1862370\ttotal: 234ms\tremaining: 1.17s\n",
      "750:\tlearn: 0.1649804\ttotal: 367ms\tremaining: 1.1s\n",
      "1000:\tlearn: 0.1489537\ttotal: 490ms\tremaining: 978ms\n",
      "1250:\tlearn: 0.1356350\ttotal: 626ms\tremaining: 875ms\n",
      "1500:\tlearn: 0.1241815\ttotal: 745ms\tremaining: 744ms\n",
      "1750:\tlearn: 0.1145523\ttotal: 865ms\tremaining: 617ms\n",
      "2000:\tlearn: 0.1060215\ttotal: 995ms\tremaining: 497ms\n",
      "2250:\tlearn: 0.0986111\ttotal: 1.12s\tremaining: 373ms\n",
      "2500:\tlearn: 0.0923188\ttotal: 1.24s\tremaining: 247ms\n",
      "2750:\tlearn: 0.0867235\ttotal: 1.35s\tremaining: 122ms\n",
      "2999:\tlearn: 0.0816578\ttotal: 1.46s\tremaining: 0us\n",
      "0:\tlearn: 0.6899239\ttotal: 511us\tremaining: 1.53s\n",
      "250:\tlearn: 0.4578791\ttotal: 118ms\tremaining: 1.29s\n",
      "500:\tlearn: 0.4071582\ttotal: 227ms\tremaining: 1.13s\n",
      "750:\tlearn: 0.3704222\ttotal: 347ms\tremaining: 1.04s\n",
      "1000:\tlearn: 0.3380884\ttotal: 468ms\tremaining: 934ms\n",
      "1250:\tlearn: 0.3089054\ttotal: 597ms\tremaining: 835ms\n",
      "1500:\tlearn: 0.2855615\ttotal: 720ms\tremaining: 719ms\n",
      "1750:\tlearn: 0.2649580\ttotal: 824ms\tremaining: 588ms\n",
      "2000:\tlearn: 0.2473312\ttotal: 935ms\tremaining: 467ms\n",
      "2250:\tlearn: 0.2313429\ttotal: 1.05s\tremaining: 349ms\n",
      "2500:\tlearn: 0.2177599\ttotal: 1.17s\tremaining: 233ms\n",
      "2750:\tlearn: 0.2044491\ttotal: 1.28s\tremaining: 116ms\n",
      "2999:\tlearn: 0.1926599\ttotal: 1.4s\tremaining: 0us\n",
      "0:\tlearn: 0.6899654\ttotal: 556us\tremaining: 1.67s\n",
      "250:\tlearn: 0.4704957\ttotal: 119ms\tremaining: 1.3s\n",
      "500:\tlearn: 0.4241409\ttotal: 237ms\tremaining: 1.18s\n",
      "750:\tlearn: 0.3894388\ttotal: 351ms\tremaining: 1.05s\n",
      "1000:\tlearn: 0.3558857\ttotal: 470ms\tremaining: 939ms\n",
      "1250:\tlearn: 0.3278572\ttotal: 598ms\tremaining: 837ms\n",
      "1500:\tlearn: 0.3055003\ttotal: 714ms\tremaining: 713ms\n",
      "1750:\tlearn: 0.2854971\ttotal: 831ms\tremaining: 593ms\n",
      "2000:\tlearn: 0.2676824\ttotal: 952ms\tremaining: 475ms\n",
      "2250:\tlearn: 0.2509773\ttotal: 1.06s\tremaining: 353ms\n",
      "2500:\tlearn: 0.2358834\ttotal: 1.17s\tremaining: 234ms\n",
      "2750:\tlearn: 0.2228919\ttotal: 1.29s\tremaining: 117ms\n",
      "2999:\tlearn: 0.2105530\ttotal: 1.41s\tremaining: 0us\n",
      "0:\tlearn: 0.6679032\ttotal: 551us\tremaining: 1.65s\n",
      "250:\tlearn: 0.0462158\ttotal: 112ms\tremaining: 1.22s\n",
      "500:\tlearn: 0.0403274\ttotal: 228ms\tremaining: 1.14s\n",
      "750:\tlearn: 0.0351920\ttotal: 340ms\tremaining: 1.02s\n",
      "1000:\tlearn: 0.0325470\ttotal: 447ms\tremaining: 892ms\n",
      "1250:\tlearn: 0.0288604\ttotal: 553ms\tremaining: 773ms\n",
      "1500:\tlearn: 0.0254083\ttotal: 666ms\tremaining: 665ms\n",
      "1750:\tlearn: 0.0228433\ttotal: 774ms\tremaining: 552ms\n",
      "2000:\tlearn: 0.0208804\ttotal: 891ms\tremaining: 445ms\n",
      "2250:\tlearn: 0.0193365\ttotal: 1s\tremaining: 334ms\n",
      "2500:\tlearn: 0.0181600\ttotal: 1.11s\tremaining: 222ms\n",
      "2750:\tlearn: 0.0168865\ttotal: 1.21s\tremaining: 110ms\n",
      "2999:\tlearn: 0.0158180\ttotal: 1.32s\tremaining: 0us\n",
      "0:\tlearn: 0.6888180\ttotal: 691us\tremaining: 2.07s\n",
      "250:\tlearn: 0.4381679\ttotal: 118ms\tremaining: 1.29s\n",
      "500:\tlearn: 0.3912580\ttotal: 250ms\tremaining: 1.25s\n",
      "750:\tlearn: 0.3561775\ttotal: 371ms\tremaining: 1.11s\n",
      "1000:\tlearn: 0.3265617\ttotal: 480ms\tremaining: 959ms\n",
      "1250:\tlearn: 0.2995022\ttotal: 588ms\tremaining: 822ms\n",
      "1500:\tlearn: 0.2772618\ttotal: 702ms\tremaining: 701ms\n",
      "1750:\tlearn: 0.2586459\ttotal: 815ms\tremaining: 581ms\n",
      "2000:\tlearn: 0.2414772\ttotal: 931ms\tremaining: 465ms\n",
      "2250:\tlearn: 0.2262154\ttotal: 1.04s\tremaining: 348ms\n",
      "2500:\tlearn: 0.2133274\ttotal: 1.16s\tremaining: 231ms\n",
      "2750:\tlearn: 0.2000719\ttotal: 1.27s\tremaining: 115ms\n",
      "2999:\tlearn: 0.1883747\ttotal: 1.39s\tremaining: 0us\n",
      "0:\tlearn: 0.6899621\ttotal: 543us\tremaining: 1.63s\n",
      "250:\tlearn: 0.4698719\ttotal: 125ms\tremaining: 1.37s\n",
      "500:\tlearn: 0.4250401\ttotal: 254ms\tremaining: 1.27s\n",
      "750:\tlearn: 0.3903237\ttotal: 390ms\tremaining: 1.17s\n",
      "1000:\tlearn: 0.3578801\ttotal: 505ms\tremaining: 1.01s\n",
      "1250:\tlearn: 0.3292680\ttotal: 631ms\tremaining: 882ms\n",
      "1500:\tlearn: 0.3052913\ttotal: 760ms\tremaining: 759ms\n",
      "1750:\tlearn: 0.2850451\ttotal: 875ms\tremaining: 624ms\n",
      "2000:\tlearn: 0.2666760\ttotal: 991ms\tremaining: 495ms\n",
      "2250:\tlearn: 0.2507526\ttotal: 1.11s\tremaining: 369ms\n",
      "2500:\tlearn: 0.2365998\ttotal: 1.34s\tremaining: 268ms\n",
      "2750:\tlearn: 0.2232664\ttotal: 1.46s\tremaining: 133ms\n",
      "2999:\tlearn: 0.2111436\ttotal: 1.6s\tremaining: 0us\n",
      "0:\tlearn: 0.6765815\ttotal: 535us\tremaining: 1.61s\n",
      "250:\tlearn: 0.1906477\ttotal: 135ms\tremaining: 1.48s\n",
      "500:\tlearn: 0.1612006\ttotal: 268ms\tremaining: 1.34s\n",
      "750:\tlearn: 0.1422800\ttotal: 401ms\tremaining: 1.2s\n",
      "1000:\tlearn: 0.1292309\ttotal: 533ms\tremaining: 1.06s\n",
      "1250:\tlearn: 0.1185397\ttotal: 656ms\tremaining: 917ms\n",
      "1500:\tlearn: 0.1092349\ttotal: 808ms\tremaining: 807ms\n",
      "1750:\tlearn: 0.1013680\ttotal: 945ms\tremaining: 674ms\n",
      "2000:\tlearn: 0.0943111\ttotal: 1.09s\tremaining: 543ms\n",
      "2250:\tlearn: 0.0884304\ttotal: 1.21s\tremaining: 403ms\n",
      "2500:\tlearn: 0.0832566\ttotal: 1.35s\tremaining: 270ms\n",
      "2750:\tlearn: 0.0787493\ttotal: 1.47s\tremaining: 133ms\n",
      "2999:\tlearn: 0.0743991\ttotal: 1.57s\tremaining: 0us\n",
      "0:\tlearn: 0.6861085\ttotal: 436us\tremaining: 1.31s\n",
      "250:\tlearn: 0.4172489\ttotal: 125ms\tremaining: 1.37s\n",
      "500:\tlearn: 0.3675571\ttotal: 242ms\tremaining: 1.21s\n",
      "750:\tlearn: 0.3332923\ttotal: 363ms\tremaining: 1.08s\n",
      "1000:\tlearn: 0.3027016\ttotal: 488ms\tremaining: 974ms\n",
      "1250:\tlearn: 0.2761531\ttotal: 598ms\tremaining: 837ms\n",
      "1500:\tlearn: 0.2546336\ttotal: 739ms\tremaining: 738ms\n",
      "1750:\tlearn: 0.2353550\ttotal: 877ms\tremaining: 626ms\n",
      "2000:\tlearn: 0.2187754\ttotal: 992ms\tremaining: 495ms\n",
      "2250:\tlearn: 0.2040980\ttotal: 1.11s\tremaining: 369ms\n",
      "2500:\tlearn: 0.1909548\ttotal: 1.24s\tremaining: 246ms\n",
      "2750:\tlearn: 0.1794093\ttotal: 1.36s\tremaining: 123ms\n",
      "2999:\tlearn: 0.1680340\ttotal: 1.48s\tremaining: 0us\n",
      "0:\tlearn: 0.6899513\ttotal: 700us\tremaining: 2.1s\n",
      "250:\tlearn: 0.4701203\ttotal: 136ms\tremaining: 1.49s\n",
      "500:\tlearn: 0.4224262\ttotal: 266ms\tremaining: 1.32s\n",
      "750:\tlearn: 0.3863557\ttotal: 409ms\tremaining: 1.23s\n",
      "1000:\tlearn: 0.3527760\ttotal: 562ms\tremaining: 1.12s\n",
      "1250:\tlearn: 0.3243351\ttotal: 693ms\tremaining: 969ms\n",
      "1500:\tlearn: 0.3014890\ttotal: 844ms\tremaining: 843ms\n",
      "1750:\tlearn: 0.2813264\ttotal: 961ms\tremaining: 686ms\n",
      "2000:\tlearn: 0.2631048\ttotal: 1.08s\tremaining: 539ms\n",
      "2250:\tlearn: 0.2474147\ttotal: 1.19s\tremaining: 396ms\n",
      "2500:\tlearn: 0.2332412\ttotal: 1.3s\tremaining: 260ms\n",
      "2750:\tlearn: 0.2199815\ttotal: 1.43s\tremaining: 129ms\n",
      "2999:\tlearn: 0.2078508\ttotal: 1.56s\tremaining: 0us\n",
      "0:\tlearn: 0.6841641\ttotal: 584us\tremaining: 1.75s\n",
      "250:\tlearn: 0.3051178\ttotal: 140ms\tremaining: 1.53s\n",
      "500:\tlearn: 0.2608902\ttotal: 284ms\tremaining: 1.42s\n",
      "750:\tlearn: 0.2322993\ttotal: 412ms\tremaining: 1.23s\n",
      "1000:\tlearn: 0.2093144\ttotal: 543ms\tremaining: 1.08s\n",
      "1250:\tlearn: 0.1912975\ttotal: 669ms\tremaining: 935ms\n",
      "1500:\tlearn: 0.1754656\ttotal: 791ms\tremaining: 790ms\n",
      "1750:\tlearn: 0.1608409\ttotal: 912ms\tremaining: 650ms\n",
      "2000:\tlearn: 0.1490564\ttotal: 1.03s\tremaining: 516ms\n",
      "2250:\tlearn: 0.1375229\ttotal: 1.16s\tremaining: 384ms\n",
      "2500:\tlearn: 0.1275874\ttotal: 1.27s\tremaining: 254ms\n",
      "2750:\tlearn: 0.1189596\ttotal: 1.4s\tremaining: 127ms\n",
      "2999:\tlearn: 0.1108924\ttotal: 1.54s\tremaining: 0us\n",
      "0:\tlearn: 0.6881734\ttotal: 359us\tremaining: 1.08s\n",
      "250:\tlearn: 0.4466705\ttotal: 119ms\tremaining: 1.31s\n",
      "500:\tlearn: 0.3969217\ttotal: 222ms\tremaining: 1.11s\n",
      "750:\tlearn: 0.3594144\ttotal: 330ms\tremaining: 987ms\n",
      "1000:\tlearn: 0.3284931\ttotal: 433ms\tremaining: 866ms\n",
      "1250:\tlearn: 0.2999508\ttotal: 557ms\tremaining: 778ms\n",
      "1500:\tlearn: 0.2767450\ttotal: 673ms\tremaining: 673ms\n",
      "1750:\tlearn: 0.2568492\ttotal: 794ms\tremaining: 566ms\n",
      "2000:\tlearn: 0.2388416\ttotal: 909ms\tremaining: 454ms\n",
      "2250:\tlearn: 0.2234360\ttotal: 1.03s\tremaining: 342ms\n",
      "2500:\tlearn: 0.2089611\ttotal: 1.14s\tremaining: 228ms\n",
      "2750:\tlearn: 0.1962603\ttotal: 1.25s\tremaining: 114ms\n",
      "2999:\tlearn: 0.1845619\ttotal: 1.36s\tremaining: 0us\n",
      "0:\tlearn: 0.6899499\ttotal: 360us\tremaining: 1.08s\n",
      "250:\tlearn: 0.4653690\ttotal: 106ms\tremaining: 1.16s\n",
      "500:\tlearn: 0.4169978\ttotal: 220ms\tremaining: 1.1s\n",
      "750:\tlearn: 0.3808061\ttotal: 331ms\tremaining: 992ms\n",
      "1000:\tlearn: 0.3480221\ttotal: 441ms\tremaining: 882ms\n",
      "1250:\tlearn: 0.3187698\ttotal: 555ms\tremaining: 776ms\n",
      "1500:\tlearn: 0.2957325\ttotal: 668ms\tremaining: 667ms\n",
      "1750:\tlearn: 0.2753950\ttotal: 775ms\tremaining: 553ms\n",
      "2000:\tlearn: 0.2572127\ttotal: 889ms\tremaining: 444ms\n",
      "2250:\tlearn: 0.2412586\ttotal: 1s\tremaining: 335ms\n",
      "2500:\tlearn: 0.2266792\ttotal: 1.13s\tremaining: 225ms\n",
      "2750:\tlearn: 0.2136545\ttotal: 1.25s\tremaining: 113ms\n",
      "2999:\tlearn: 0.2021208\ttotal: 1.38s\tremaining: 0us\n",
      "0:\tlearn: 0.6867395\ttotal: 392us\tremaining: 1.18s\n",
      "250:\tlearn: 0.3835969\ttotal: 123ms\tremaining: 1.35s\n",
      "500:\tlearn: 0.3398105\ttotal: 233ms\tremaining: 1.16s\n",
      "750:\tlearn: 0.3086385\ttotal: 345ms\tremaining: 1.03s\n",
      "1000:\tlearn: 0.2795312\ttotal: 461ms\tremaining: 921ms\n",
      "1250:\tlearn: 0.2592306\ttotal: 580ms\tremaining: 811ms\n",
      "1500:\tlearn: 0.2446741\ttotal: 682ms\tremaining: 681ms\n",
      "1750:\tlearn: 0.2320427\ttotal: 798ms\tremaining: 569ms\n",
      "2000:\tlearn: 0.2210562\ttotal: 911ms\tremaining: 455ms\n",
      "2250:\tlearn: 0.2101820\ttotal: 1.03s\tremaining: 342ms\n",
      "2500:\tlearn: 0.1990842\ttotal: 1.15s\tremaining: 230ms\n",
      "2750:\tlearn: 0.1881452\ttotal: 1.28s\tremaining: 116ms\n",
      "2999:\tlearn: 0.1780453\ttotal: 1.4s\tremaining: 0us\n",
      "0:\tlearn: 0.6737394\ttotal: 407us\tremaining: 1.22s\n",
      "250:\tlearn: 0.1478478\ttotal: 116ms\tremaining: 1.27s\n",
      "500:\tlearn: 0.1272166\ttotal: 228ms\tremaining: 1.14s\n",
      "750:\tlearn: 0.1136732\ttotal: 332ms\tremaining: 994ms\n",
      "1000:\tlearn: 0.1035830\ttotal: 447ms\tremaining: 892ms\n",
      "1250:\tlearn: 0.0953584\ttotal: 562ms\tremaining: 785ms\n",
      "1500:\tlearn: 0.0887757\ttotal: 673ms\tremaining: 672ms\n",
      "1750:\tlearn: 0.0830164\ttotal: 788ms\tremaining: 562ms\n",
      "2000:\tlearn: 0.0776455\ttotal: 931ms\tremaining: 465ms\n",
      "2250:\tlearn: 0.0726598\ttotal: 1.13s\tremaining: 375ms\n",
      "2500:\tlearn: 0.0682831\ttotal: 1.24s\tremaining: 248ms\n",
      "2750:\tlearn: 0.0641845\ttotal: 1.36s\tremaining: 123ms\n",
      "2999:\tlearn: 0.0603447\ttotal: 1.48s\tremaining: 0us\n",
      "0:\tlearn: 0.6631846\ttotal: 356us\tremaining: 1.07s\n",
      "250:\tlearn: 0.0023784\ttotal: 110ms\tremaining: 1.2s\n",
      "500:\tlearn: 0.0007761\ttotal: 215ms\tremaining: 1.07s\n",
      "750:\tlearn: 0.0006992\ttotal: 312ms\tremaining: 936ms\n",
      "1000:\tlearn: 0.0006986\ttotal: 471ms\tremaining: 941ms\n",
      "1250:\tlearn: 0.0006985\ttotal: 583ms\tremaining: 815ms\n",
      "1500:\tlearn: 0.0006985\ttotal: 687ms\tremaining: 686ms\n",
      "1750:\tlearn: 0.0006985\ttotal: 796ms\tremaining: 568ms\n",
      "2000:\tlearn: 0.0006985\ttotal: 898ms\tremaining: 448ms\n",
      "2250:\tlearn: 0.0006985\ttotal: 983ms\tremaining: 327ms\n",
      "2500:\tlearn: 0.0006985\ttotal: 1.07s\tremaining: 214ms\n",
      "2750:\tlearn: 0.0006985\ttotal: 1.18s\tremaining: 106ms\n",
      "2999:\tlearn: 0.0006985\ttotal: 1.27s\tremaining: 0us\n",
      "0:\tlearn: 0.6632391\ttotal: 1.09ms\tremaining: 3.28s\n",
      "250:\tlearn: 0.0023734\ttotal: 117ms\tremaining: 1.28s\n",
      "500:\tlearn: 0.0007804\ttotal: 225ms\tremaining: 1.12s\n",
      "750:\tlearn: 0.0006979\ttotal: 333ms\tremaining: 998ms\n",
      "1000:\tlearn: 0.0006931\ttotal: 443ms\tremaining: 885ms\n",
      "1250:\tlearn: 0.0006928\ttotal: 556ms\tremaining: 777ms\n",
      "1500:\tlearn: 0.0006925\ttotal: 655ms\tremaining: 654ms\n",
      "1750:\tlearn: 0.0006922\ttotal: 753ms\tremaining: 537ms\n",
      "2000:\tlearn: 0.0006920\ttotal: 852ms\tremaining: 425ms\n",
      "2250:\tlearn: 0.0006907\ttotal: 943ms\tremaining: 314ms\n",
      "2500:\tlearn: 0.0006898\ttotal: 1.05s\tremaining: 209ms\n",
      "2750:\tlearn: 0.0006890\ttotal: 1.16s\tremaining: 105ms\n",
      "2999:\tlearn: 0.0006883\ttotal: 1.27s\tremaining: 0us\n"
     ]
    }
   ],
   "source": [
    "reduction = ExponentiatedGradient(estimator=default_model.copy(), constraints=DemographicParity(difference_bound=0.01), max_iter=10)\n",
    "reduction.fit(X_train, y_train, sensitive_features=z_train)"
   ],
   "metadata": {
    "collapsed": false,
    "ExecuteTime": {
     "end_time": "2024-03-27T14:34:03.663014Z",
     "start_time": "2024-03-27T14:33:23.730807Z"
    }
   },
   "id": "28de82c8c17d6bd5"
  },
  {
   "cell_type": "code",
   "execution_count": 158,
   "outputs": [],
   "source": [
    "y_pred_reduced = reduction.predict(X_test)"
   ],
   "metadata": {
    "collapsed": false,
    "ExecuteTime": {
     "end_time": "2024-03-27T14:34:03.689223Z",
     "start_time": "2024-03-27T14:34:03.663870Z"
    }
   },
   "id": "8e97b4c932ad0e0"
  },
  {
   "cell_type": "code",
   "outputs": [
    {
     "name": "stdout",
     "output_type": "stream",
     "text": [
      "              precision    recall  f1-score   support\n",
      "\n",
      "           0       0.62      0.52      0.56        60\n",
      "           1       0.81      0.86      0.83       140\n",
      "\n",
      "    accuracy                           0.76       200\n",
      "   macro avg       0.71      0.69      0.70       200\n",
      "weighted avg       0.75      0.76      0.75       200\n"
     ]
    }
   ],
   "source": [
    "print(classification_report(y_test, y_pred_reduced))"
   ],
   "metadata": {
    "collapsed": false,
    "ExecuteTime": {
     "end_time": "2024-03-27T14:34:03.703530Z",
     "start_time": "2024-03-27T14:34:03.686416Z"
    }
   },
   "id": "9b5b3d15d7901fbd",
   "execution_count": 159
  },
  {
   "cell_type": "markdown",
   "source": [
    "### AIF360"
   ],
   "metadata": {
    "collapsed": false
   },
   "id": "a1d0a355b0f46f8c"
  },
  {
   "cell_type": "markdown",
   "source": [
    "#### Detection\n",
    "\n",
    "_\"Since the main computation of confusion matrices is common for a large set of metrics, we utilize memoization and caching of computations for performance on large-scale datasets.\"_"
   ],
   "metadata": {
    "collapsed": false
   },
   "id": "c2dd4adbf0904615"
  },
  {
   "cell_type": "code",
   "outputs": [],
   "source": [
    "priv_group = 3"
   ],
   "metadata": {
    "collapsed": false,
    "ExecuteTime": {
     "end_time": "2024-03-27T15:33:47.283378Z",
     "start_time": "2024-03-27T15:33:47.257077Z"
    }
   },
   "id": "35152e9ca6c53340",
   "execution_count": 190
  },
  {
   "cell_type": "code",
   "outputs": [
    {
     "data": {
      "text/plain": "               metric        type method     value\n0  demographic_parity  difference  other -0.147368\n1  demographic_parity       ratio  other  0.815789\n2   equal_opportunity  difference  other -0.075000",
      "text/html": "<div>\n<style scoped>\n    .dataframe tbody tr th:only-of-type {\n        vertical-align: middle;\n    }\n\n    .dataframe tbody tr th {\n        vertical-align: top;\n    }\n\n    .dataframe thead th {\n        text-align: right;\n    }\n</style>\n<table border=\"1\" class=\"dataframe\">\n  <thead>\n    <tr style=\"text-align: right;\">\n      <th></th>\n      <th>metric</th>\n      <th>type</th>\n      <th>method</th>\n      <th>value</th>\n    </tr>\n  </thead>\n  <tbody>\n    <tr>\n      <th>0</th>\n      <td>demographic_parity</td>\n      <td>difference</td>\n      <td>other</td>\n      <td>-0.147368</td>\n    </tr>\n    <tr>\n      <th>1</th>\n      <td>demographic_parity</td>\n      <td>ratio</td>\n      <td>other</td>\n      <td>0.815789</td>\n    </tr>\n    <tr>\n      <th>2</th>\n      <td>equal_opportunity</td>\n      <td>difference</td>\n      <td>other</td>\n      <td>-0.075000</td>\n    </tr>\n  </tbody>\n</table>\n</div>"
     },
     "execution_count": 191,
     "metadata": {},
     "output_type": "execute_result"
    }
   ],
   "source": [
    "calculate_aif360_metrics(y_test, y_pred, z_test, priv_group=priv_group)"
   ],
   "metadata": {
    "collapsed": false,
    "ExecuteTime": {
     "end_time": "2024-03-27T15:33:47.498284Z",
     "start_time": "2024-03-27T15:33:47.476468Z"
    }
   },
   "id": "cc46408a1e5377f1",
   "execution_count": 191
  },
  {
   "cell_type": "markdown",
   "source": [
    "#### Mitigation"
   ],
   "metadata": {
    "collapsed": false
   },
   "id": "9f8c22f681822c06"
  },
  {
   "cell_type": "code",
   "execution_count": 193,
   "outputs": [],
   "source": [
    "from aif360.sklearn.inprocessing import ExponentiatedGradientReduction as ExponentiatedGradientReductionAif"
   ],
   "metadata": {
    "collapsed": false,
    "ExecuteTime": {
     "end_time": "2024-03-28T10:50:37.448850Z",
     "start_time": "2024-03-28T10:50:37.415586Z"
    }
   },
   "id": "b1bd7b9630a82a6a"
  },
  {
   "cell_type": "code",
   "execution_count": 203,
   "outputs": [],
   "source": [
    "reduction_aif = ExponentiatedGradientReductionAif(prot_attr=PROTECTED_ATTRIBUTE, estimator=default_model.copy(), constraints=DemographicParity(difference_bound=0.01), max_iter=10, drop_prot_attr=False)"
   ],
   "metadata": {
    "collapsed": false,
    "ExecuteTime": {
     "end_time": "2024-03-28T13:33:14.937794Z",
     "start_time": "2024-03-28T13:33:14.828483Z"
    }
   },
   "id": "d754919b9fc7dfd7"
  },
  {
   "cell_type": "code",
   "outputs": [
    {
     "name": "stdout",
     "output_type": "stream",
     "text": [
      "0:\tlearn: 0.6899831\ttotal: 567us\tremaining: 1.7s\n",
      "250:\tlearn: 0.4698964\ttotal: 96.4ms\tremaining: 1.06s\n"
     ]
    },
    {
     "name": "stderr",
     "output_type": "stream",
     "text": [
      "/opt/homebrew/Caskroom/miniconda/base/envs/fairness-toolkits/lib/python3.10/site-packages/fairlearn/reductions/_moments/utility_parity.py:214: FutureWarning: ChainedAssignmentError: behaviour will change in pandas 3.0!\n",
      "You are setting values through chained assignment. Currently this works in certain cases, but when using Copy-on-Write (which will become the default behaviour in pandas 3.0) this will never work to update the original DataFrame or Series, because the intermediate object on which we are setting values will behave as a copy.\n",
      "A typical example is when you are setting values in a column of a DataFrame, like:\n",
      "\n",
      "df[\"col\"][row_indexer] = value\n",
      "\n",
      "Use `df.loc[row_indexer, \"col\"] = values` instead, to perform the assignment in a single step and ensure this keeps updating the original `df`.\n",
      "\n",
      "See the caveats in the documentation: https://pandas.pydata.org/pandas-docs/stable/user_guide/indexing.html#returning-a-view-versus-a-copy\n",
      "\n",
      "  self.pos_basis[i][\"+\", e, g] = 1\n",
      "/opt/homebrew/Caskroom/miniconda/base/envs/fairness-toolkits/lib/python3.10/site-packages/fairlearn/reductions/_moments/utility_parity.py:215: FutureWarning: ChainedAssignmentError: behaviour will change in pandas 3.0!\n",
      "You are setting values through chained assignment. Currently this works in certain cases, but when using Copy-on-Write (which will become the default behaviour in pandas 3.0) this will never work to update the original DataFrame or Series, because the intermediate object on which we are setting values will behave as a copy.\n",
      "A typical example is when you are setting values in a column of a DataFrame, like:\n",
      "\n",
      "df[\"col\"][row_indexer] = value\n",
      "\n",
      "Use `df.loc[row_indexer, \"col\"] = values` instead, to perform the assignment in a single step and ensure this keeps updating the original `df`.\n",
      "\n",
      "See the caveats in the documentation: https://pandas.pydata.org/pandas-docs/stable/user_guide/indexing.html#returning-a-view-versus-a-copy\n",
      "\n",
      "  self.neg_basis[i][\"-\", e, g] = 1\n",
      "/opt/homebrew/Caskroom/miniconda/base/envs/fairness-toolkits/lib/python3.10/site-packages/fairlearn/reductions/_moments/utility_parity.py:214: FutureWarning: ChainedAssignmentError: behaviour will change in pandas 3.0!\n",
      "You are setting values through chained assignment. Currently this works in certain cases, but when using Copy-on-Write (which will become the default behaviour in pandas 3.0) this will never work to update the original DataFrame or Series, because the intermediate object on which we are setting values will behave as a copy.\n",
      "A typical example is when you are setting values in a column of a DataFrame, like:\n",
      "\n",
      "df[\"col\"][row_indexer] = value\n",
      "\n",
      "Use `df.loc[row_indexer, \"col\"] = values` instead, to perform the assignment in a single step and ensure this keeps updating the original `df`.\n",
      "\n",
      "See the caveats in the documentation: https://pandas.pydata.org/pandas-docs/stable/user_guide/indexing.html#returning-a-view-versus-a-copy\n",
      "\n",
      "  self.pos_basis[i][\"+\", e, g] = 1\n",
      "/opt/homebrew/Caskroom/miniconda/base/envs/fairness-toolkits/lib/python3.10/site-packages/fairlearn/reductions/_moments/utility_parity.py:215: FutureWarning: ChainedAssignmentError: behaviour will change in pandas 3.0!\n",
      "You are setting values through chained assignment. Currently this works in certain cases, but when using Copy-on-Write (which will become the default behaviour in pandas 3.0) this will never work to update the original DataFrame or Series, because the intermediate object on which we are setting values will behave as a copy.\n",
      "A typical example is when you are setting values in a column of a DataFrame, like:\n",
      "\n",
      "df[\"col\"][row_indexer] = value\n",
      "\n",
      "Use `df.loc[row_indexer, \"col\"] = values` instead, to perform the assignment in a single step and ensure this keeps updating the original `df`.\n",
      "\n",
      "See the caveats in the documentation: https://pandas.pydata.org/pandas-docs/stable/user_guide/indexing.html#returning-a-view-versus-a-copy\n",
      "\n",
      "  self.neg_basis[i][\"-\", e, g] = 1\n",
      "/opt/homebrew/Caskroom/miniconda/base/envs/fairness-toolkits/lib/python3.10/site-packages/fairlearn/reductions/_moments/utility_parity.py:214: FutureWarning: ChainedAssignmentError: behaviour will change in pandas 3.0!\n",
      "You are setting values through chained assignment. Currently this works in certain cases, but when using Copy-on-Write (which will become the default behaviour in pandas 3.0) this will never work to update the original DataFrame or Series, because the intermediate object on which we are setting values will behave as a copy.\n",
      "A typical example is when you are setting values in a column of a DataFrame, like:\n",
      "\n",
      "df[\"col\"][row_indexer] = value\n",
      "\n",
      "Use `df.loc[row_indexer, \"col\"] = values` instead, to perform the assignment in a single step and ensure this keeps updating the original `df`.\n",
      "\n",
      "See the caveats in the documentation: https://pandas.pydata.org/pandas-docs/stable/user_guide/indexing.html#returning-a-view-versus-a-copy\n",
      "\n",
      "  self.pos_basis[i][\"+\", e, g] = 1\n",
      "/opt/homebrew/Caskroom/miniconda/base/envs/fairness-toolkits/lib/python3.10/site-packages/fairlearn/reductions/_moments/utility_parity.py:215: FutureWarning: ChainedAssignmentError: behaviour will change in pandas 3.0!\n",
      "You are setting values through chained assignment. Currently this works in certain cases, but when using Copy-on-Write (which will become the default behaviour in pandas 3.0) this will never work to update the original DataFrame or Series, because the intermediate object on which we are setting values will behave as a copy.\n",
      "A typical example is when you are setting values in a column of a DataFrame, like:\n",
      "\n",
      "df[\"col\"][row_indexer] = value\n",
      "\n",
      "Use `df.loc[row_indexer, \"col\"] = values` instead, to perform the assignment in a single step and ensure this keeps updating the original `df`.\n",
      "\n",
      "See the caveats in the documentation: https://pandas.pydata.org/pandas-docs/stable/user_guide/indexing.html#returning-a-view-versus-a-copy\n",
      "\n",
      "  self.neg_basis[i][\"-\", e, g] = 1\n"
     ]
    },
    {
     "name": "stdout",
     "output_type": "stream",
     "text": [
      "500:\tlearn: 0.4234232\ttotal: 193ms\tremaining: 962ms\n",
      "750:\tlearn: 0.3885434\ttotal: 291ms\tremaining: 873ms\n",
      "1000:\tlearn: 0.3550001\ttotal: 385ms\tremaining: 768ms\n",
      "1250:\tlearn: 0.3265120\ttotal: 483ms\tremaining: 675ms\n",
      "1500:\tlearn: 0.3027580\ttotal: 581ms\tremaining: 581ms\n",
      "1750:\tlearn: 0.2828691\ttotal: 683ms\tremaining: 487ms\n",
      "2000:\tlearn: 0.2648067\ttotal: 782ms\tremaining: 391ms\n",
      "2250:\tlearn: 0.2487316\ttotal: 880ms\tremaining: 293ms\n",
      "2500:\tlearn: 0.2338165\ttotal: 983ms\tremaining: 196ms\n",
      "2750:\tlearn: 0.2203859\ttotal: 1.08s\tremaining: 98.1ms\n",
      "2999:\tlearn: 0.2079273\ttotal: 1.19s\tremaining: 0us\n",
      "0:\tlearn: 0.6899831\ttotal: 446us\tremaining: 1.34s\n",
      "250:\tlearn: 0.4698964\ttotal: 99.9ms\tremaining: 1.09s\n",
      "500:\tlearn: 0.4234232\ttotal: 198ms\tremaining: 986ms\n",
      "750:\tlearn: 0.3885434\ttotal: 298ms\tremaining: 894ms\n",
      "1000:\tlearn: 0.3550001\ttotal: 399ms\tremaining: 796ms\n",
      "1250:\tlearn: 0.3265120\ttotal: 501ms\tremaining: 700ms\n",
      "1500:\tlearn: 0.3027580\ttotal: 604ms\tremaining: 603ms\n",
      "1750:\tlearn: 0.2828691\ttotal: 708ms\tremaining: 505ms\n",
      "2000:\tlearn: 0.2648067\ttotal: 811ms\tremaining: 405ms\n",
      "2250:\tlearn: 0.2487316\ttotal: 912ms\tremaining: 303ms\n",
      "2500:\tlearn: 0.2338165\ttotal: 1.01s\tremaining: 202ms\n",
      "2750:\tlearn: 0.2203859\ttotal: 1.11s\tremaining: 101ms\n",
      "2999:\tlearn: 0.2079273\ttotal: 1.22s\tremaining: 0us\n",
      "0:\tlearn: 0.6899493\ttotal: 539us\tremaining: 1.62s\n",
      "250:\tlearn: 0.4627546\ttotal: 101ms\tremaining: 1.1s\n",
      "500:\tlearn: 0.4132722\ttotal: 202ms\tremaining: 1.01s\n",
      "750:\tlearn: 0.3771573\ttotal: 306ms\tremaining: 916ms\n",
      "1000:\tlearn: 0.3436374\ttotal: 408ms\tremaining: 815ms\n",
      "1250:\tlearn: 0.3147134\ttotal: 507ms\tremaining: 708ms\n",
      "1500:\tlearn: 0.2909270\ttotal: 606ms\tremaining: 605ms\n",
      "1750:\tlearn: 0.2704269\ttotal: 706ms\tremaining: 504ms\n",
      "2000:\tlearn: 0.2523806\ttotal: 808ms\tremaining: 404ms\n",
      "2250:\tlearn: 0.2352190\ttotal: 911ms\tremaining: 303ms\n",
      "2500:\tlearn: 0.2201979\ttotal: 1.02s\tremaining: 203ms\n",
      "2750:\tlearn: 0.2066196\ttotal: 1.12s\tremaining: 101ms\n",
      "2999:\tlearn: 0.1941748\ttotal: 1.22s\tremaining: 0us\n",
      "0:\tlearn: 0.6899684\ttotal: 482us\tremaining: 1.45s\n",
      "250:\tlearn: 0.4699231\ttotal: 98.2ms\tremaining: 1.07s\n",
      "500:\tlearn: 0.4239687\ttotal: 198ms\tremaining: 986ms\n",
      "750:\tlearn: 0.3890262\ttotal: 297ms\tremaining: 888ms\n",
      "1000:\tlearn: 0.3547733\ttotal: 394ms\tremaining: 786ms\n",
      "1250:\tlearn: 0.3260716\ttotal: 493ms\tremaining: 689ms\n",
      "1500:\tlearn: 0.3033935\ttotal: 593ms\tremaining: 592ms\n",
      "1750:\tlearn: 0.2832790\ttotal: 692ms\tremaining: 494ms\n",
      "2000:\tlearn: 0.2656658\ttotal: 791ms\tremaining: 395ms\n",
      "2250:\tlearn: 0.2492579\ttotal: 893ms\tremaining: 297ms\n",
      "2500:\tlearn: 0.2349963\ttotal: 995ms\tremaining: 198ms\n",
      "2750:\tlearn: 0.2215264\ttotal: 1.09s\tremaining: 99.1ms\n",
      "2999:\tlearn: 0.2092003\ttotal: 1.19s\tremaining: 0us\n",
      "0:\tlearn: 0.6631278\ttotal: 439us\tremaining: 1.32s\n",
      "250:\tlearn: 0.0022519\ttotal: 96.1ms\tremaining: 1.05s\n",
      "500:\tlearn: 0.0007460\ttotal: 194ms\tremaining: 969ms\n",
      "750:\tlearn: 0.0007336\ttotal: 279ms\tremaining: 835ms\n",
      "1000:\tlearn: 0.0007260\ttotal: 361ms\tremaining: 720ms\n",
      "1250:\tlearn: 0.0007201\ttotal: 442ms\tremaining: 618ms\n",
      "1500:\tlearn: 0.0007194\ttotal: 528ms\tremaining: 527ms\n",
      "1750:\tlearn: 0.0007188\ttotal: 611ms\tremaining: 436ms\n",
      "2000:\tlearn: 0.0007182\ttotal: 696ms\tremaining: 347ms\n",
      "2250:\tlearn: 0.0007167\ttotal: 781ms\tremaining: 260ms\n",
      "2500:\tlearn: 0.0007160\ttotal: 861ms\tremaining: 172ms\n",
      "2750:\tlearn: 0.0007156\ttotal: 944ms\tremaining: 85.4ms\n",
      "2999:\tlearn: 0.0007150\ttotal: 1.03s\tremaining: 0us\n",
      "0:\tlearn: 0.6891885\ttotal: 514us\tremaining: 1.54s\n",
      "250:\tlearn: 0.4452838\ttotal: 104ms\tremaining: 1.14s\n",
      "500:\tlearn: 0.3975755\ttotal: 206ms\tremaining: 1.02s\n",
      "750:\tlearn: 0.3625072\ttotal: 306ms\tremaining: 917ms\n",
      "1000:\tlearn: 0.3321642\ttotal: 408ms\tremaining: 815ms\n",
      "1250:\tlearn: 0.3053185\ttotal: 507ms\tremaining: 709ms\n",
      "1500:\tlearn: 0.2824193\ttotal: 603ms\tremaining: 603ms\n",
      "1750:\tlearn: 0.2624316\ttotal: 702ms\tremaining: 501ms\n",
      "2000:\tlearn: 0.2452098\ttotal: 796ms\tremaining: 397ms\n",
      "2250:\tlearn: 0.2293367\ttotal: 895ms\tremaining: 298ms\n",
      "2500:\tlearn: 0.2144922\ttotal: 996ms\tremaining: 199ms\n",
      "2750:\tlearn: 0.2013515\ttotal: 1.1s\tremaining: 99.2ms\n",
      "2999:\tlearn: 0.1890280\ttotal: 1.19s\tremaining: 0us\n",
      "0:\tlearn: 0.6899752\ttotal: 503us\tremaining: 1.51s\n",
      "250:\tlearn: 0.4695027\ttotal: 101ms\tremaining: 1.11s\n",
      "500:\tlearn: 0.4251611\ttotal: 204ms\tremaining: 1.02s\n",
      "750:\tlearn: 0.3911896\ttotal: 303ms\tremaining: 906ms\n",
      "1000:\tlearn: 0.3573907\ttotal: 407ms\tremaining: 813ms\n",
      "1250:\tlearn: 0.3290682\ttotal: 505ms\tremaining: 707ms\n",
      "1500:\tlearn: 0.3059648\ttotal: 609ms\tremaining: 608ms\n",
      "1750:\tlearn: 0.2850012\ttotal: 711ms\tremaining: 507ms\n",
      "2000:\tlearn: 0.2671691\ttotal: 812ms\tremaining: 405ms\n",
      "2250:\tlearn: 0.2504020\ttotal: 912ms\tremaining: 303ms\n",
      "2500:\tlearn: 0.2357615\ttotal: 1.01s\tremaining: 201ms\n",
      "2750:\tlearn: 0.2219635\ttotal: 1.11s\tremaining: 100ms\n",
      "2999:\tlearn: 0.2098565\ttotal: 1.21s\tremaining: 0us\n",
      "0:\tlearn: 0.6630231\ttotal: 420us\tremaining: 1.26s\n",
      "250:\tlearn: 0.0023091\ttotal: 101ms\tremaining: 1.1s\n",
      "500:\tlearn: 0.0007617\ttotal: 191ms\tremaining: 953ms\n",
      "750:\tlearn: 0.0007101\ttotal: 272ms\tremaining: 813ms\n",
      "1000:\tlearn: 0.0007094\ttotal: 354ms\tremaining: 707ms\n",
      "1250:\tlearn: 0.0007082\ttotal: 435ms\tremaining: 608ms\n",
      "1500:\tlearn: 0.0007076\ttotal: 517ms\tremaining: 516ms\n",
      "1750:\tlearn: 0.0007072\ttotal: 598ms\tremaining: 427ms\n",
      "2000:\tlearn: 0.0007066\ttotal: 682ms\tremaining: 340ms\n",
      "2250:\tlearn: 0.0007062\ttotal: 758ms\tremaining: 252ms\n",
      "2500:\tlearn: 0.0007058\ttotal: 835ms\tremaining: 167ms\n",
      "2750:\tlearn: 0.0007049\ttotal: 916ms\tremaining: 82.9ms\n",
      "2999:\tlearn: 0.0007039\ttotal: 998ms\tremaining: 0us\n",
      "0:\tlearn: 0.6899576\ttotal: 424us\tremaining: 1.27s\n",
      "250:\tlearn: 0.4690361\ttotal: 94ms\tremaining: 1.03s\n",
      "500:\tlearn: 0.4231668\ttotal: 205ms\tremaining: 1.02s\n",
      "750:\tlearn: 0.3881614\ttotal: 309ms\tremaining: 925ms\n",
      "1000:\tlearn: 0.3549225\ttotal: 409ms\tremaining: 817ms\n",
      "1250:\tlearn: 0.3259127\ttotal: 509ms\tremaining: 712ms\n",
      "1500:\tlearn: 0.3025434\ttotal: 631ms\tremaining: 631ms\n",
      "1750:\tlearn: 0.2821656\ttotal: 736ms\tremaining: 525ms\n",
      "2000:\tlearn: 0.2637768\ttotal: 838ms\tremaining: 419ms\n",
      "2250:\tlearn: 0.2475443\ttotal: 942ms\tremaining: 314ms\n",
      "2500:\tlearn: 0.2333037\ttotal: 1.04s\tremaining: 208ms\n",
      "2750:\tlearn: 0.2204696\ttotal: 1.15s\tremaining: 104ms\n",
      "2999:\tlearn: 0.2080723\ttotal: 1.25s\tremaining: 0us\n",
      "0:\tlearn: 0.6899707\ttotal: 412us\tremaining: 1.24s\n",
      "250:\tlearn: 0.4716940\ttotal: 95.6ms\tremaining: 1.05s\n",
      "500:\tlearn: 0.4262207\ttotal: 194ms\tremaining: 965ms\n",
      "750:\tlearn: 0.3926361\ttotal: 288ms\tremaining: 863ms\n",
      "1000:\tlearn: 0.3591068\ttotal: 386ms\tremaining: 770ms\n",
      "1250:\tlearn: 0.3297120\ttotal: 480ms\tremaining: 671ms\n",
      "1500:\tlearn: 0.3061370\ttotal: 578ms\tremaining: 577ms\n",
      "1750:\tlearn: 0.2858950\ttotal: 676ms\tremaining: 482ms\n",
      "2000:\tlearn: 0.2682870\ttotal: 777ms\tremaining: 388ms\n",
      "2250:\tlearn: 0.2515581\ttotal: 878ms\tremaining: 292ms\n",
      "2500:\tlearn: 0.2367217\ttotal: 975ms\tremaining: 195ms\n",
      "2750:\tlearn: 0.2228813\ttotal: 1.07s\tremaining: 97.1ms\n",
      "2999:\tlearn: 0.2105991\ttotal: 1.17s\tremaining: 0us\n",
      "0:\tlearn: 0.6817835\ttotal: 399us\tremaining: 1.2s\n",
      "250:\tlearn: 0.2197868\ttotal: 97.7ms\tremaining: 1.07s\n",
      "500:\tlearn: 0.1862370\ttotal: 198ms\tremaining: 990ms\n",
      "750:\tlearn: 0.1649804\ttotal: 299ms\tremaining: 895ms\n",
      "1000:\tlearn: 0.1489537\ttotal: 400ms\tremaining: 799ms\n",
      "1250:\tlearn: 0.1356350\ttotal: 501ms\tremaining: 701ms\n",
      "1500:\tlearn: 0.1241815\ttotal: 601ms\tremaining: 600ms\n",
      "1750:\tlearn: 0.1145523\ttotal: 701ms\tremaining: 500ms\n",
      "2000:\tlearn: 0.1060215\ttotal: 798ms\tremaining: 399ms\n",
      "2250:\tlearn: 0.0986111\ttotal: 900ms\tremaining: 300ms\n",
      "2500:\tlearn: 0.0923188\ttotal: 998ms\tremaining: 199ms\n",
      "2750:\tlearn: 0.0867235\ttotal: 1.09s\tremaining: 99ms\n",
      "2999:\tlearn: 0.0816578\ttotal: 1.19s\tremaining: 0us\n",
      "0:\tlearn: 0.6899239\ttotal: 442us\tremaining: 1.32s\n",
      "250:\tlearn: 0.4578791\ttotal: 96.2ms\tremaining: 1.05s\n",
      "500:\tlearn: 0.4071582\ttotal: 194ms\tremaining: 966ms\n",
      "750:\tlearn: 0.3704222\ttotal: 293ms\tremaining: 876ms\n",
      "1000:\tlearn: 0.3380884\ttotal: 394ms\tremaining: 787ms\n",
      "1250:\tlearn: 0.3089054\ttotal: 490ms\tremaining: 685ms\n",
      "1500:\tlearn: 0.2855615\ttotal: 590ms\tremaining: 589ms\n",
      "1750:\tlearn: 0.2649580\ttotal: 690ms\tremaining: 492ms\n",
      "2000:\tlearn: 0.2473312\ttotal: 789ms\tremaining: 394ms\n",
      "2250:\tlearn: 0.2313429\ttotal: 890ms\tremaining: 296ms\n",
      "2500:\tlearn: 0.2177599\ttotal: 989ms\tremaining: 197ms\n",
      "2750:\tlearn: 0.2044491\ttotal: 1.09s\tremaining: 98.7ms\n",
      "2999:\tlearn: 0.1926599\ttotal: 1.19s\tremaining: 0us\n",
      "0:\tlearn: 0.6899654\ttotal: 839us\tremaining: 2.52s\n",
      "250:\tlearn: 0.4704957\ttotal: 95.9ms\tremaining: 1.05s\n",
      "500:\tlearn: 0.4241409\ttotal: 193ms\tremaining: 962ms\n",
      "750:\tlearn: 0.3894388\ttotal: 289ms\tremaining: 866ms\n",
      "1000:\tlearn: 0.3558857\ttotal: 387ms\tremaining: 773ms\n",
      "1250:\tlearn: 0.3278572\ttotal: 485ms\tremaining: 677ms\n",
      "1500:\tlearn: 0.3055003\ttotal: 582ms\tremaining: 581ms\n",
      "1750:\tlearn: 0.2854971\ttotal: 683ms\tremaining: 487ms\n",
      "2000:\tlearn: 0.2676824\ttotal: 781ms\tremaining: 390ms\n",
      "2250:\tlearn: 0.2509773\ttotal: 880ms\tremaining: 293ms\n",
      "2500:\tlearn: 0.2358834\ttotal: 978ms\tremaining: 195ms\n",
      "2750:\tlearn: 0.2228919\ttotal: 1.08s\tremaining: 97.5ms\n",
      "2999:\tlearn: 0.2105530\ttotal: 1.18s\tremaining: 0us\n",
      "0:\tlearn: 0.6679032\ttotal: 426us\tremaining: 1.28s\n",
      "250:\tlearn: 0.0462158\ttotal: 96.8ms\tremaining: 1.06s\n",
      "500:\tlearn: 0.0403274\ttotal: 192ms\tremaining: 957ms\n",
      "750:\tlearn: 0.0351920\ttotal: 287ms\tremaining: 860ms\n",
      "1000:\tlearn: 0.0325470\ttotal: 385ms\tremaining: 770ms\n",
      "1250:\tlearn: 0.0288604\ttotal: 484ms\tremaining: 676ms\n",
      "1500:\tlearn: 0.0254083\ttotal: 581ms\tremaining: 581ms\n",
      "1750:\tlearn: 0.0228433\ttotal: 675ms\tremaining: 482ms\n",
      "2000:\tlearn: 0.0208804\ttotal: 774ms\tremaining: 386ms\n",
      "2250:\tlearn: 0.0193365\ttotal: 871ms\tremaining: 290ms\n",
      "2500:\tlearn: 0.0181600\ttotal: 966ms\tremaining: 193ms\n",
      "2750:\tlearn: 0.0168865\ttotal: 1.06s\tremaining: 96.5ms\n",
      "2999:\tlearn: 0.0158180\ttotal: 1.16s\tremaining: 0us\n",
      "0:\tlearn: 0.6888180\ttotal: 402us\tremaining: 1.21s\n",
      "250:\tlearn: 0.4381679\ttotal: 102ms\tremaining: 1.11s\n",
      "500:\tlearn: 0.3912580\ttotal: 198ms\tremaining: 988ms\n",
      "750:\tlearn: 0.3561775\ttotal: 297ms\tremaining: 891ms\n",
      "1000:\tlearn: 0.3265617\ttotal: 394ms\tremaining: 787ms\n",
      "1250:\tlearn: 0.2995022\ttotal: 491ms\tremaining: 687ms\n",
      "1500:\tlearn: 0.2772618\ttotal: 591ms\tremaining: 590ms\n",
      "1750:\tlearn: 0.2586459\ttotal: 690ms\tremaining: 492ms\n",
      "2000:\tlearn: 0.2414772\ttotal: 786ms\tremaining: 393ms\n",
      "2250:\tlearn: 0.2262154\ttotal: 890ms\tremaining: 296ms\n",
      "2500:\tlearn: 0.2133274\ttotal: 989ms\tremaining: 197ms\n",
      "2750:\tlearn: 0.2000719\ttotal: 1.09s\tremaining: 98.6ms\n",
      "2999:\tlearn: 0.1883747\ttotal: 1.19s\tremaining: 0us\n",
      "0:\tlearn: 0.6899621\ttotal: 408us\tremaining: 1.22s\n",
      "250:\tlearn: 0.4698719\ttotal: 103ms\tremaining: 1.13s\n",
      "500:\tlearn: 0.4250401\ttotal: 201ms\tremaining: 1s\n",
      "750:\tlearn: 0.3903237\ttotal: 303ms\tremaining: 906ms\n",
      "1000:\tlearn: 0.3578801\ttotal: 400ms\tremaining: 798ms\n",
      "1250:\tlearn: 0.3292680\ttotal: 501ms\tremaining: 701ms\n",
      "1500:\tlearn: 0.3052913\ttotal: 599ms\tremaining: 598ms\n",
      "1750:\tlearn: 0.2850451\ttotal: 699ms\tremaining: 499ms\n",
      "2000:\tlearn: 0.2666760\ttotal: 798ms\tremaining: 399ms\n",
      "2250:\tlearn: 0.2507526\ttotal: 900ms\tremaining: 299ms\n",
      "2500:\tlearn: 0.2365998\ttotal: 999ms\tremaining: 199ms\n",
      "2750:\tlearn: 0.2232664\ttotal: 1.1s\tremaining: 99.5ms\n",
      "2999:\tlearn: 0.2111436\ttotal: 1.2s\tremaining: 0us\n",
      "0:\tlearn: 0.6765815\ttotal: 535us\tremaining: 1.61s\n",
      "250:\tlearn: 0.1906477\ttotal: 103ms\tremaining: 1.13s\n",
      "500:\tlearn: 0.1612006\ttotal: 200ms\tremaining: 998ms\n",
      "750:\tlearn: 0.1422800\ttotal: 297ms\tremaining: 888ms\n",
      "1000:\tlearn: 0.1292309\ttotal: 399ms\tremaining: 797ms\n",
      "1250:\tlearn: 0.1185397\ttotal: 498ms\tremaining: 696ms\n",
      "1500:\tlearn: 0.1092349\ttotal: 595ms\tremaining: 595ms\n",
      "1750:\tlearn: 0.1013680\ttotal: 692ms\tremaining: 494ms\n",
      "2000:\tlearn: 0.0943111\ttotal: 795ms\tremaining: 397ms\n",
      "2250:\tlearn: 0.0884304\ttotal: 893ms\tremaining: 297ms\n",
      "2500:\tlearn: 0.0832566\ttotal: 992ms\tremaining: 198ms\n",
      "2750:\tlearn: 0.0787493\ttotal: 1.09s\tremaining: 98.6ms\n",
      "2999:\tlearn: 0.0743991\ttotal: 1.19s\tremaining: 0us\n",
      "0:\tlearn: 0.6861085\ttotal: 427us\tremaining: 1.28s\n",
      "250:\tlearn: 0.4172489\ttotal: 95.2ms\tremaining: 1.04s\n",
      "500:\tlearn: 0.3675571\ttotal: 195ms\tremaining: 971ms\n",
      "750:\tlearn: 0.3332923\ttotal: 289ms\tremaining: 866ms\n",
      "1000:\tlearn: 0.3027016\ttotal: 387ms\tremaining: 772ms\n",
      "1250:\tlearn: 0.2761531\ttotal: 483ms\tremaining: 676ms\n",
      "1500:\tlearn: 0.2546336\ttotal: 582ms\tremaining: 581ms\n",
      "1750:\tlearn: 0.2353550\ttotal: 684ms\tremaining: 488ms\n",
      "2000:\tlearn: 0.2187754\ttotal: 780ms\tremaining: 390ms\n",
      "2250:\tlearn: 0.2040980\ttotal: 877ms\tremaining: 292ms\n",
      "2500:\tlearn: 0.1909548\ttotal: 973ms\tremaining: 194ms\n",
      "2750:\tlearn: 0.1794093\ttotal: 1.07s\tremaining: 96.9ms\n",
      "2999:\tlearn: 0.1680340\ttotal: 1.17s\tremaining: 0us\n",
      "0:\tlearn: 0.6899513\ttotal: 523us\tremaining: 1.57s\n",
      "250:\tlearn: 0.4701203\ttotal: 98.9ms\tremaining: 1.08s\n",
      "500:\tlearn: 0.4224262\ttotal: 198ms\tremaining: 985ms\n",
      "750:\tlearn: 0.3863557\ttotal: 297ms\tremaining: 889ms\n",
      "1000:\tlearn: 0.3527760\ttotal: 396ms\tremaining: 790ms\n",
      "1250:\tlearn: 0.3243351\ttotal: 495ms\tremaining: 692ms\n",
      "1500:\tlearn: 0.3014890\ttotal: 591ms\tremaining: 590ms\n",
      "1750:\tlearn: 0.2813264\ttotal: 689ms\tremaining: 491ms\n",
      "2000:\tlearn: 0.2631048\ttotal: 790ms\tremaining: 394ms\n",
      "2250:\tlearn: 0.2474147\ttotal: 892ms\tremaining: 297ms\n",
      "2500:\tlearn: 0.2332412\ttotal: 990ms\tremaining: 198ms\n",
      "2750:\tlearn: 0.2199815\ttotal: 1.09s\tremaining: 98.7ms\n",
      "2999:\tlearn: 0.2078508\ttotal: 1.19s\tremaining: 0us\n",
      "0:\tlearn: 0.6841641\ttotal: 415us\tremaining: 1.25s\n",
      "250:\tlearn: 0.3051178\ttotal: 100ms\tremaining: 1.1s\n",
      "500:\tlearn: 0.2608902\ttotal: 201ms\tremaining: 1s\n",
      "750:\tlearn: 0.2322993\ttotal: 302ms\tremaining: 904ms\n",
      "1000:\tlearn: 0.2093144\ttotal: 405ms\tremaining: 809ms\n",
      "1250:\tlearn: 0.1912975\ttotal: 506ms\tremaining: 708ms\n",
      "1500:\tlearn: 0.1754656\ttotal: 609ms\tremaining: 608ms\n",
      "1750:\tlearn: 0.1608409\ttotal: 709ms\tremaining: 506ms\n",
      "2000:\tlearn: 0.1490564\ttotal: 810ms\tremaining: 404ms\n",
      "2250:\tlearn: 0.1375229\ttotal: 908ms\tremaining: 302ms\n",
      "2500:\tlearn: 0.1275874\ttotal: 1s\tremaining: 201ms\n",
      "2750:\tlearn: 0.1189596\ttotal: 1.1s\tremaining: 99.8ms\n",
      "2999:\tlearn: 0.1108924\ttotal: 1.2s\tremaining: 0us\n",
      "0:\tlearn: 0.6881734\ttotal: 531us\tremaining: 1.59s\n",
      "250:\tlearn: 0.4466705\ttotal: 95.7ms\tremaining: 1.05s\n",
      "500:\tlearn: 0.3969217\ttotal: 192ms\tremaining: 956ms\n",
      "750:\tlearn: 0.3594144\ttotal: 286ms\tremaining: 857ms\n",
      "1000:\tlearn: 0.3284931\ttotal: 382ms\tremaining: 764ms\n",
      "1250:\tlearn: 0.2999508\ttotal: 482ms\tremaining: 674ms\n",
      "1500:\tlearn: 0.2767450\ttotal: 579ms\tremaining: 578ms\n",
      "1750:\tlearn: 0.2568492\ttotal: 681ms\tremaining: 486ms\n",
      "2000:\tlearn: 0.2388416\ttotal: 784ms\tremaining: 392ms\n",
      "2250:\tlearn: 0.2234360\ttotal: 885ms\tremaining: 295ms\n",
      "2500:\tlearn: 0.2089611\ttotal: 993ms\tremaining: 198ms\n",
      "2750:\tlearn: 0.1962603\ttotal: 1.1s\tremaining: 99.3ms\n",
      "2999:\tlearn: 0.1845619\ttotal: 1.2s\tremaining: 0us\n",
      "0:\tlearn: 0.6899499\ttotal: 497us\tremaining: 1.49s\n",
      "250:\tlearn: 0.4653690\ttotal: 97ms\tremaining: 1.06s\n",
      "500:\tlearn: 0.4169978\ttotal: 196ms\tremaining: 979ms\n",
      "750:\tlearn: 0.3808061\ttotal: 286ms\tremaining: 855ms\n",
      "1000:\tlearn: 0.3480221\ttotal: 386ms\tremaining: 770ms\n",
      "1250:\tlearn: 0.3187698\ttotal: 478ms\tremaining: 669ms\n",
      "1500:\tlearn: 0.2957325\ttotal: 578ms\tremaining: 577ms\n",
      "1750:\tlearn: 0.2753950\ttotal: 667ms\tremaining: 476ms\n",
      "2000:\tlearn: 0.2572127\ttotal: 764ms\tremaining: 381ms\n",
      "2250:\tlearn: 0.2412586\ttotal: 858ms\tremaining: 286ms\n",
      "2500:\tlearn: 0.2266792\ttotal: 954ms\tremaining: 190ms\n",
      "2750:\tlearn: 0.2136545\ttotal: 1.06s\tremaining: 95.6ms\n",
      "2999:\tlearn: 0.2021208\ttotal: 1.16s\tremaining: 0us\n",
      "0:\tlearn: 0.6867395\ttotal: 539us\tremaining: 1.62s\n",
      "250:\tlearn: 0.3835969\ttotal: 104ms\tremaining: 1.14s\n",
      "500:\tlearn: 0.3398105\ttotal: 200ms\tremaining: 997ms\n",
      "750:\tlearn: 0.3086385\ttotal: 303ms\tremaining: 907ms\n",
      "1000:\tlearn: 0.2795312\ttotal: 399ms\tremaining: 797ms\n",
      "1250:\tlearn: 0.2592306\ttotal: 503ms\tremaining: 703ms\n",
      "1500:\tlearn: 0.2446741\ttotal: 605ms\tremaining: 604ms\n",
      "1750:\tlearn: 0.2320427\ttotal: 706ms\tremaining: 504ms\n",
      "2000:\tlearn: 0.2210562\ttotal: 811ms\tremaining: 405ms\n",
      "2250:\tlearn: 0.2101820\ttotal: 906ms\tremaining: 302ms\n",
      "2500:\tlearn: 0.1990842\ttotal: 1s\tremaining: 201ms\n",
      "2750:\tlearn: 0.1881452\ttotal: 1.11s\tremaining: 100ms\n",
      "2999:\tlearn: 0.1780453\ttotal: 1.21s\tremaining: 0us\n",
      "0:\tlearn: 0.6737394\ttotal: 453us\tremaining: 1.36s\n",
      "250:\tlearn: 0.1478478\ttotal: 109ms\tremaining: 1.19s\n",
      "500:\tlearn: 0.1272166\ttotal: 223ms\tremaining: 1.11s\n",
      "750:\tlearn: 0.1136732\ttotal: 333ms\tremaining: 996ms\n",
      "1000:\tlearn: 0.1035830\ttotal: 443ms\tremaining: 885ms\n",
      "1250:\tlearn: 0.0953584\ttotal: 550ms\tremaining: 768ms\n",
      "1500:\tlearn: 0.0887757\ttotal: 655ms\tremaining: 654ms\n",
      "1750:\tlearn: 0.0830164\ttotal: 767ms\tremaining: 547ms\n",
      "2000:\tlearn: 0.0776455\ttotal: 874ms\tremaining: 436ms\n",
      "2250:\tlearn: 0.0726598\ttotal: 972ms\tremaining: 323ms\n",
      "2500:\tlearn: 0.0682831\ttotal: 1.07s\tremaining: 214ms\n",
      "2750:\tlearn: 0.0641845\ttotal: 1.17s\tremaining: 106ms\n",
      "2999:\tlearn: 0.0603447\ttotal: 1.28s\tremaining: 0us\n",
      "0:\tlearn: 0.6631846\ttotal: 1.28ms\tremaining: 3.85s\n",
      "250:\tlearn: 0.0023784\ttotal: 99.3ms\tremaining: 1.09s\n",
      "500:\tlearn: 0.0007761\ttotal: 193ms\tremaining: 962ms\n",
      "750:\tlearn: 0.0006992\ttotal: 273ms\tremaining: 816ms\n",
      "1000:\tlearn: 0.0006986\ttotal: 350ms\tremaining: 698ms\n",
      "1250:\tlearn: 0.0006985\ttotal: 428ms\tremaining: 598ms\n",
      "1500:\tlearn: 0.0006985\ttotal: 503ms\tremaining: 503ms\n",
      "1750:\tlearn: 0.0006985\ttotal: 581ms\tremaining: 414ms\n",
      "2000:\tlearn: 0.0006985\ttotal: 657ms\tremaining: 328ms\n",
      "2250:\tlearn: 0.0006985\ttotal: 731ms\tremaining: 243ms\n",
      "2500:\tlearn: 0.0006985\ttotal: 811ms\tremaining: 162ms\n",
      "2750:\tlearn: 0.0006985\ttotal: 886ms\tremaining: 80.2ms\n",
      "2999:\tlearn: 0.0006985\ttotal: 956ms\tremaining: 0us\n",
      "0:\tlearn: 0.6632391\ttotal: 450us\tremaining: 1.35s\n",
      "250:\tlearn: 0.0023734\ttotal: 96ms\tremaining: 1.05s\n",
      "500:\tlearn: 0.0007804\ttotal: 187ms\tremaining: 931ms\n",
      "750:\tlearn: 0.0006979\ttotal: 268ms\tremaining: 803ms\n",
      "1000:\tlearn: 0.0006931\ttotal: 348ms\tremaining: 696ms\n",
      "1250:\tlearn: 0.0006928\ttotal: 427ms\tremaining: 597ms\n",
      "1500:\tlearn: 0.0006925\ttotal: 508ms\tremaining: 507ms\n",
      "1750:\tlearn: 0.0006922\ttotal: 595ms\tremaining: 424ms\n",
      "2000:\tlearn: 0.0006920\ttotal: 678ms\tremaining: 338ms\n",
      "2250:\tlearn: 0.0006907\ttotal: 761ms\tremaining: 253ms\n",
      "2500:\tlearn: 0.0006898\ttotal: 848ms\tremaining: 169ms\n",
      "2750:\tlearn: 0.0006890\ttotal: 931ms\tremaining: 84.3ms\n",
      "2999:\tlearn: 0.0006883\ttotal: 1.02s\tremaining: 0us\n"
     ]
    },
    {
     "data": {
      "text/plain": "ExponentiatedGradientReduction(constraints=<fairlearn.reductions._moments.utility_parity.DemographicParity object at 0x29fbadc30>,\n                               drop_prot_attr=False,\n                               estimator=<catboost.core.CatBoostClassifier object at 0x29fc21480>,\n                               max_iter=10, prot_attr='Sex & Marital Status')",
      "text/html": "<style>#sk-container-id-4 {\n  /* Definition of color scheme common for light and dark mode */\n  --sklearn-color-text: black;\n  --sklearn-color-line: gray;\n  /* Definition of color scheme for unfitted estimators */\n  --sklearn-color-unfitted-level-0: #fff5e6;\n  --sklearn-color-unfitted-level-1: #f6e4d2;\n  --sklearn-color-unfitted-level-2: #ffe0b3;\n  --sklearn-color-unfitted-level-3: chocolate;\n  /* Definition of color scheme for fitted estimators */\n  --sklearn-color-fitted-level-0: #f0f8ff;\n  --sklearn-color-fitted-level-1: #d4ebff;\n  --sklearn-color-fitted-level-2: #b3dbfd;\n  --sklearn-color-fitted-level-3: cornflowerblue;\n\n  /* Specific color for light theme */\n  --sklearn-color-text-on-default-background: var(--sg-text-color, var(--theme-code-foreground, var(--jp-content-font-color1, black)));\n  --sklearn-color-background: var(--sg-background-color, var(--theme-background, var(--jp-layout-color0, white)));\n  --sklearn-color-border-box: var(--sg-text-color, var(--theme-code-foreground, var(--jp-content-font-color1, black)));\n  --sklearn-color-icon: #696969;\n\n  @media (prefers-color-scheme: dark) {\n    /* Redefinition of color scheme for dark theme */\n    --sklearn-color-text-on-default-background: var(--sg-text-color, var(--theme-code-foreground, var(--jp-content-font-color1, white)));\n    --sklearn-color-background: var(--sg-background-color, var(--theme-background, var(--jp-layout-color0, #111)));\n    --sklearn-color-border-box: var(--sg-text-color, var(--theme-code-foreground, var(--jp-content-font-color1, white)));\n    --sklearn-color-icon: #878787;\n  }\n}\n\n#sk-container-id-4 {\n  color: var(--sklearn-color-text);\n}\n\n#sk-container-id-4 pre {\n  padding: 0;\n}\n\n#sk-container-id-4 input.sk-hidden--visually {\n  border: 0;\n  clip: rect(1px 1px 1px 1px);\n  clip: rect(1px, 1px, 1px, 1px);\n  height: 1px;\n  margin: -1px;\n  overflow: hidden;\n  padding: 0;\n  position: absolute;\n  width: 1px;\n}\n\n#sk-container-id-4 div.sk-dashed-wrapped {\n  border: 1px dashed var(--sklearn-color-line);\n  margin: 0 0.4em 0.5em 0.4em;\n  box-sizing: border-box;\n  padding-bottom: 0.4em;\n  background-color: var(--sklearn-color-background);\n}\n\n#sk-container-id-4 div.sk-container {\n  /* jupyter's `normalize.less` sets `[hidden] { display: none; }`\n     but bootstrap.min.css set `[hidden] { display: none !important; }`\n     so we also need the `!important` here to be able to override the\n     default hidden behavior on the sphinx rendered scikit-learn.org.\n     See: https://github.com/scikit-learn/scikit-learn/issues/21755 */\n  display: inline-block !important;\n  position: relative;\n}\n\n#sk-container-id-4 div.sk-text-repr-fallback {\n  display: none;\n}\n\ndiv.sk-parallel-item,\ndiv.sk-serial,\ndiv.sk-item {\n  /* draw centered vertical line to link estimators */\n  background-image: linear-gradient(var(--sklearn-color-text-on-default-background), var(--sklearn-color-text-on-default-background));\n  background-size: 2px 100%;\n  background-repeat: no-repeat;\n  background-position: center center;\n}\n\n/* Parallel-specific style estimator block */\n\n#sk-container-id-4 div.sk-parallel-item::after {\n  content: \"\";\n  width: 100%;\n  border-bottom: 2px solid var(--sklearn-color-text-on-default-background);\n  flex-grow: 1;\n}\n\n#sk-container-id-4 div.sk-parallel {\n  display: flex;\n  align-items: stretch;\n  justify-content: center;\n  background-color: var(--sklearn-color-background);\n  position: relative;\n}\n\n#sk-container-id-4 div.sk-parallel-item {\n  display: flex;\n  flex-direction: column;\n}\n\n#sk-container-id-4 div.sk-parallel-item:first-child::after {\n  align-self: flex-end;\n  width: 50%;\n}\n\n#sk-container-id-4 div.sk-parallel-item:last-child::after {\n  align-self: flex-start;\n  width: 50%;\n}\n\n#sk-container-id-4 div.sk-parallel-item:only-child::after {\n  width: 0;\n}\n\n/* Serial-specific style estimator block */\n\n#sk-container-id-4 div.sk-serial {\n  display: flex;\n  flex-direction: column;\n  align-items: center;\n  background-color: var(--sklearn-color-background);\n  padding-right: 1em;\n  padding-left: 1em;\n}\n\n\n/* Toggleable style: style used for estimator/Pipeline/ColumnTransformer box that is\nclickable and can be expanded/collapsed.\n- Pipeline and ColumnTransformer use this feature and define the default style\n- Estimators will overwrite some part of the style using the `sk-estimator` class\n*/\n\n/* Pipeline and ColumnTransformer style (default) */\n\n#sk-container-id-4 div.sk-toggleable {\n  /* Default theme specific background. It is overwritten whether we have a\n  specific estimator or a Pipeline/ColumnTransformer */\n  background-color: var(--sklearn-color-background);\n}\n\n/* Toggleable label */\n#sk-container-id-4 label.sk-toggleable__label {\n  cursor: pointer;\n  display: block;\n  width: 100%;\n  margin-bottom: 0;\n  padding: 0.5em;\n  box-sizing: border-box;\n  text-align: center;\n}\n\n#sk-container-id-4 label.sk-toggleable__label-arrow:before {\n  /* Arrow on the left of the label */\n  content: \"▸\";\n  float: left;\n  margin-right: 0.25em;\n  color: var(--sklearn-color-icon);\n}\n\n#sk-container-id-4 label.sk-toggleable__label-arrow:hover:before {\n  color: var(--sklearn-color-text);\n}\n\n/* Toggleable content - dropdown */\n\n#sk-container-id-4 div.sk-toggleable__content {\n  max-height: 0;\n  max-width: 0;\n  overflow: hidden;\n  text-align: left;\n  /* unfitted */\n  background-color: var(--sklearn-color-unfitted-level-0);\n}\n\n#sk-container-id-4 div.sk-toggleable__content.fitted {\n  /* fitted */\n  background-color: var(--sklearn-color-fitted-level-0);\n}\n\n#sk-container-id-4 div.sk-toggleable__content pre {\n  margin: 0.2em;\n  border-radius: 0.25em;\n  color: var(--sklearn-color-text);\n  /* unfitted */\n  background-color: var(--sklearn-color-unfitted-level-0);\n}\n\n#sk-container-id-4 div.sk-toggleable__content.fitted pre {\n  /* unfitted */\n  background-color: var(--sklearn-color-fitted-level-0);\n}\n\n#sk-container-id-4 input.sk-toggleable__control:checked~div.sk-toggleable__content {\n  /* Expand drop-down */\n  max-height: 200px;\n  max-width: 100%;\n  overflow: auto;\n}\n\n#sk-container-id-4 input.sk-toggleable__control:checked~label.sk-toggleable__label-arrow:before {\n  content: \"▾\";\n}\n\n/* Pipeline/ColumnTransformer-specific style */\n\n#sk-container-id-4 div.sk-label input.sk-toggleable__control:checked~label.sk-toggleable__label {\n  color: var(--sklearn-color-text);\n  background-color: var(--sklearn-color-unfitted-level-2);\n}\n\n#sk-container-id-4 div.sk-label.fitted input.sk-toggleable__control:checked~label.sk-toggleable__label {\n  background-color: var(--sklearn-color-fitted-level-2);\n}\n\n/* Estimator-specific style */\n\n/* Colorize estimator box */\n#sk-container-id-4 div.sk-estimator input.sk-toggleable__control:checked~label.sk-toggleable__label {\n  /* unfitted */\n  background-color: var(--sklearn-color-unfitted-level-2);\n}\n\n#sk-container-id-4 div.sk-estimator.fitted input.sk-toggleable__control:checked~label.sk-toggleable__label {\n  /* fitted */\n  background-color: var(--sklearn-color-fitted-level-2);\n}\n\n#sk-container-id-4 div.sk-label label.sk-toggleable__label,\n#sk-container-id-4 div.sk-label label {\n  /* The background is the default theme color */\n  color: var(--sklearn-color-text-on-default-background);\n}\n\n/* On hover, darken the color of the background */\n#sk-container-id-4 div.sk-label:hover label.sk-toggleable__label {\n  color: var(--sklearn-color-text);\n  background-color: var(--sklearn-color-unfitted-level-2);\n}\n\n/* Label box, darken color on hover, fitted */\n#sk-container-id-4 div.sk-label.fitted:hover label.sk-toggleable__label.fitted {\n  color: var(--sklearn-color-text);\n  background-color: var(--sklearn-color-fitted-level-2);\n}\n\n/* Estimator label */\n\n#sk-container-id-4 div.sk-label label {\n  font-family: monospace;\n  font-weight: bold;\n  display: inline-block;\n  line-height: 1.2em;\n}\n\n#sk-container-id-4 div.sk-label-container {\n  text-align: center;\n}\n\n/* Estimator-specific */\n#sk-container-id-4 div.sk-estimator {\n  font-family: monospace;\n  border: 1px dotted var(--sklearn-color-border-box);\n  border-radius: 0.25em;\n  box-sizing: border-box;\n  margin-bottom: 0.5em;\n  /* unfitted */\n  background-color: var(--sklearn-color-unfitted-level-0);\n}\n\n#sk-container-id-4 div.sk-estimator.fitted {\n  /* fitted */\n  background-color: var(--sklearn-color-fitted-level-0);\n}\n\n/* on hover */\n#sk-container-id-4 div.sk-estimator:hover {\n  /* unfitted */\n  background-color: var(--sklearn-color-unfitted-level-2);\n}\n\n#sk-container-id-4 div.sk-estimator.fitted:hover {\n  /* fitted */\n  background-color: var(--sklearn-color-fitted-level-2);\n}\n\n/* Specification for estimator info (e.g. \"i\" and \"?\") */\n\n/* Common style for \"i\" and \"?\" */\n\n.sk-estimator-doc-link,\na:link.sk-estimator-doc-link,\na:visited.sk-estimator-doc-link {\n  float: right;\n  font-size: smaller;\n  line-height: 1em;\n  font-family: monospace;\n  background-color: var(--sklearn-color-background);\n  border-radius: 1em;\n  height: 1em;\n  width: 1em;\n  text-decoration: none !important;\n  margin-left: 1ex;\n  /* unfitted */\n  border: var(--sklearn-color-unfitted-level-1) 1pt solid;\n  color: var(--sklearn-color-unfitted-level-1);\n}\n\n.sk-estimator-doc-link.fitted,\na:link.sk-estimator-doc-link.fitted,\na:visited.sk-estimator-doc-link.fitted {\n  /* fitted */\n  border: var(--sklearn-color-fitted-level-1) 1pt solid;\n  color: var(--sklearn-color-fitted-level-1);\n}\n\n/* On hover */\ndiv.sk-estimator:hover .sk-estimator-doc-link:hover,\n.sk-estimator-doc-link:hover,\ndiv.sk-label-container:hover .sk-estimator-doc-link:hover,\n.sk-estimator-doc-link:hover {\n  /* unfitted */\n  background-color: var(--sklearn-color-unfitted-level-3);\n  color: var(--sklearn-color-background);\n  text-decoration: none;\n}\n\ndiv.sk-estimator.fitted:hover .sk-estimator-doc-link.fitted:hover,\n.sk-estimator-doc-link.fitted:hover,\ndiv.sk-label-container:hover .sk-estimator-doc-link.fitted:hover,\n.sk-estimator-doc-link.fitted:hover {\n  /* fitted */\n  background-color: var(--sklearn-color-fitted-level-3);\n  color: var(--sklearn-color-background);\n  text-decoration: none;\n}\n\n/* Span, style for the box shown on hovering the info icon */\n.sk-estimator-doc-link span {\n  display: none;\n  z-index: 9999;\n  position: relative;\n  font-weight: normal;\n  right: .2ex;\n  padding: .5ex;\n  margin: .5ex;\n  width: min-content;\n  min-width: 20ex;\n  max-width: 50ex;\n  color: var(--sklearn-color-text);\n  box-shadow: 2pt 2pt 4pt #999;\n  /* unfitted */\n  background: var(--sklearn-color-unfitted-level-0);\n  border: .5pt solid var(--sklearn-color-unfitted-level-3);\n}\n\n.sk-estimator-doc-link.fitted span {\n  /* fitted */\n  background: var(--sklearn-color-fitted-level-0);\n  border: var(--sklearn-color-fitted-level-3);\n}\n\n.sk-estimator-doc-link:hover span {\n  display: block;\n}\n\n/* \"?\"-specific style due to the `<a>` HTML tag */\n\n#sk-container-id-4 a.estimator_doc_link {\n  float: right;\n  font-size: 1rem;\n  line-height: 1em;\n  font-family: monospace;\n  background-color: var(--sklearn-color-background);\n  border-radius: 1rem;\n  height: 1rem;\n  width: 1rem;\n  text-decoration: none;\n  /* unfitted */\n  color: var(--sklearn-color-unfitted-level-1);\n  border: var(--sklearn-color-unfitted-level-1) 1pt solid;\n}\n\n#sk-container-id-4 a.estimator_doc_link.fitted {\n  /* fitted */\n  border: var(--sklearn-color-fitted-level-1) 1pt solid;\n  color: var(--sklearn-color-fitted-level-1);\n}\n\n/* On hover */\n#sk-container-id-4 a.estimator_doc_link:hover {\n  /* unfitted */\n  background-color: var(--sklearn-color-unfitted-level-3);\n  color: var(--sklearn-color-background);\n  text-decoration: none;\n}\n\n#sk-container-id-4 a.estimator_doc_link.fitted:hover {\n  /* fitted */\n  background-color: var(--sklearn-color-fitted-level-3);\n}\n</style><div id=\"sk-container-id-4\" class=\"sk-top-container\"><div class=\"sk-text-repr-fallback\"><pre>ExponentiatedGradientReduction(constraints=&lt;fairlearn.reductions._moments.utility_parity.DemographicParity object at 0x29fbadc30&gt;,\n                               drop_prot_attr=False,\n                               estimator=&lt;catboost.core.CatBoostClassifier object at 0x29fc21480&gt;,\n                               max_iter=10, prot_attr=&#x27;Sex &amp; Marital Status&#x27;)</pre><b>In a Jupyter environment, please rerun this cell to show the HTML representation or trust the notebook. <br />On GitHub, the HTML representation is unable to render, please try loading this page with nbviewer.org.</b></div><div class=\"sk-container\" hidden><div class=\"sk-item sk-dashed-wrapped\"><div class=\"sk-label-container\"><div class=\"sk-label fitted sk-toggleable\"><input class=\"sk-toggleable__control sk-hidden--visually\" id=\"sk-estimator-id-10\" type=\"checkbox\" ><label for=\"sk-estimator-id-10\" class=\"sk-toggleable__label fitted sk-toggleable__label-arrow fitted\">&nbsp;ExponentiatedGradientReduction<span class=\"sk-estimator-doc-link fitted\">i<span>Fitted</span></span></label><div class=\"sk-toggleable__content fitted\"><pre>ExponentiatedGradientReduction(constraints=&lt;fairlearn.reductions._moments.utility_parity.DemographicParity object at 0x29fbadc30&gt;,\n                               drop_prot_attr=False,\n                               estimator=&lt;catboost.core.CatBoostClassifier object at 0x29fc21480&gt;,\n                               max_iter=10, prot_attr=&#x27;Sex &amp; Marital Status&#x27;)</pre></div> </div></div><div class=\"sk-parallel\"><div class=\"sk-parallel-item\"><div class=\"sk-item\"><div class=\"sk-label-container\"><div class=\"sk-label fitted sk-toggleable\"><input class=\"sk-toggleable__control sk-hidden--visually\" id=\"sk-estimator-id-11\" type=\"checkbox\" ><label for=\"sk-estimator-id-11\" class=\"sk-toggleable__label fitted sk-toggleable__label-arrow fitted\">estimator: CatBoostClassifier</label><div class=\"sk-toggleable__content fitted\"><pre>&lt;catboost.core.CatBoostClassifier object at 0x29fc21480&gt;</pre></div> </div></div><div class=\"sk-serial\"><div class=\"sk-item\"><div class=\"sk-estimator fitted sk-toggleable\"><input class=\"sk-toggleable__control sk-hidden--visually\" id=\"sk-estimator-id-12\" type=\"checkbox\" ><label for=\"sk-estimator-id-12\" class=\"sk-toggleable__label fitted sk-toggleable__label-arrow fitted\">CatBoostClassifier</label><div class=\"sk-toggleable__content fitted\"><pre>&lt;catboost.core.CatBoostClassifier object at 0x29fc21480&gt;</pre></div> </div></div></div></div></div></div></div></div></div>"
     },
     "execution_count": 204,
     "metadata": {},
     "output_type": "execute_result"
    }
   ],
   "source": [
    "reduction_aif.fit(X_train, y_train)"
   ],
   "metadata": {
    "collapsed": false,
    "ExecuteTime": {
     "end_time": "2024-03-28T13:33:48.998711Z",
     "start_time": "2024-03-28T13:33:15.009998Z"
    }
   },
   "id": "a4b3e87031cc6272",
   "execution_count": 204
  },
  {
   "cell_type": "code",
   "execution_count": 205,
   "outputs": [],
   "source": [
    "y_pred_reduced_aif = reduction_aif.predict(X_test)"
   ],
   "metadata": {
    "collapsed": false,
    "ExecuteTime": {
     "end_time": "2024-03-28T13:33:49.129612Z",
     "start_time": "2024-03-28T13:33:48.999472Z"
    }
   },
   "id": "725378210757dd46"
  },
  {
   "cell_type": "code",
   "outputs": [
    {
     "data": {
      "text/plain": "               metric        type method     value\n0  demographic_parity  difference  other -0.044110\n1  demographic_parity       ratio  other  0.943517\n2   equal_opportunity  difference  other -0.012500",
      "text/html": "<div>\n<style scoped>\n    .dataframe tbody tr th:only-of-type {\n        vertical-align: middle;\n    }\n\n    .dataframe tbody tr th {\n        vertical-align: top;\n    }\n\n    .dataframe thead th {\n        text-align: right;\n    }\n</style>\n<table border=\"1\" class=\"dataframe\">\n  <thead>\n    <tr style=\"text-align: right;\">\n      <th></th>\n      <th>metric</th>\n      <th>type</th>\n      <th>method</th>\n      <th>value</th>\n    </tr>\n  </thead>\n  <tbody>\n    <tr>\n      <th>0</th>\n      <td>demographic_parity</td>\n      <td>difference</td>\n      <td>other</td>\n      <td>-0.044110</td>\n    </tr>\n    <tr>\n      <th>1</th>\n      <td>demographic_parity</td>\n      <td>ratio</td>\n      <td>other</td>\n      <td>0.943517</td>\n    </tr>\n    <tr>\n      <th>2</th>\n      <td>equal_opportunity</td>\n      <td>difference</td>\n      <td>other</td>\n      <td>-0.012500</td>\n    </tr>\n  </tbody>\n</table>\n</div>"
     },
     "execution_count": 206,
     "metadata": {},
     "output_type": "execute_result"
    }
   ],
   "source": [
    "calculate_aif360_metrics(y_test, y_pred_reduced_aif, z_test, priv_group=priv_group)"
   ],
   "metadata": {
    "collapsed": false,
    "ExecuteTime": {
     "end_time": "2024-03-28T13:33:49.152715Z",
     "start_time": "2024-03-28T13:33:49.124167Z"
    }
   },
   "id": "5beb07cb30c407dd",
   "execution_count": 206
  },
  {
   "cell_type": "code",
   "outputs": [
    {
     "name": "stdout",
     "output_type": "stream",
     "text": [
      "              precision    recall  f1-score   support\n",
      "\n",
      "           0       0.61      0.50      0.55        60\n",
      "           1       0.80      0.86      0.83       140\n",
      "\n",
      "    accuracy                           0.76       200\n",
      "   macro avg       0.71      0.68      0.69       200\n",
      "weighted avg       0.74      0.76      0.75       200\n"
     ]
    }
   ],
   "source": [
    "print(classification_report(y_test, y_pred_reduced_aif))\n"
   ],
   "metadata": {
    "collapsed": false,
    "ExecuteTime": {
     "end_time": "2024-03-28T10:51:21.027625Z",
     "start_time": "2024-03-28T10:51:21.011240Z"
    }
   },
   "id": "a5a858f1e133ae75",
   "execution_count": 198
  },
  {
   "cell_type": "code",
   "outputs": [],
   "source": [],
   "metadata": {
    "collapsed": false
   },
   "id": "ed335efd6bf27734"
  }
 ],
 "metadata": {
  "kernelspec": {
   "display_name": "Python 3",
   "language": "python",
   "name": "python3"
  },
  "language_info": {
   "codemirror_mode": {
    "name": "ipython",
    "version": 2
   },
   "file_extension": ".py",
   "mimetype": "text/x-python",
   "name": "python",
   "nbconvert_exporter": "python",
   "pygments_lexer": "ipython2",
   "version": "2.7.6"
  }
 },
 "nbformat": 4,
 "nbformat_minor": 5
}
