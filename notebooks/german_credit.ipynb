{
 "cells": [
  {
   "cell_type": "markdown",
   "source": [
    "# Evaluating Fairness in Machine Learning: Comparative Analysis and Benchmarking of Fairlearn and AIF360 | German Credit Dataset"
   ],
   "metadata": {
    "collapsed": false
   },
   "id": "3dab28c6a8ebdde5"
  },
  {
   "cell_type": "code",
   "execution_count": 7,
   "outputs": [],
   "source": [
    "import os\n",
    "import random\n",
    "\n",
    "import pandas as pd\n",
    "import numpy as np\n",
    "\n",
    "import sklearn\n",
    "from sklearn.model_selection import train_test_split\n",
    "from catboost import CatBoostClassifier\n",
    "\n",
    "from src.constants import RANDOM_STATE, DEFAULT_MODEL_CONFIG"
   ],
   "metadata": {
    "collapsed": false,
    "ExecuteTime": {
     "end_time": "2024-03-20T15:43:26.179112500Z",
     "start_time": "2024-03-20T15:43:25.906643700Z"
    }
   },
   "id": "initial_id"
  },
  {
   "cell_type": "code",
   "execution_count": 66,
   "outputs": [],
   "source": [
    "sklearn.set_config(transform_output=\"pandas\")"
   ],
   "metadata": {
    "collapsed": false,
    "ExecuteTime": {
     "end_time": "2024-03-20T16:16:45.665530Z",
     "start_time": "2024-03-20T16:16:45.645686800Z"
    }
   },
   "id": "46df34862adf4d9a"
  },
  {
   "cell_type": "markdown",
   "source": [
    "## Ensure reproducibility\n",
    "\n",
    "Set random seeds for reproducibility."
   ],
   "metadata": {
    "collapsed": false
   },
   "id": "18bb741c498fb006"
  },
  {
   "cell_type": "code",
   "execution_count": 9,
   "outputs": [],
   "source": [
    "np.random.seed(RANDOM_STATE)\n",
    "os.environ[\"PYTHONHASHSEED\"] = str(RANDOM_STATE)\n",
    "random.seed(RANDOM_STATE)"
   ],
   "metadata": {
    "collapsed": false,
    "ExecuteTime": {
     "end_time": "2024-03-20T15:43:26.402365400Z",
     "start_time": "2024-03-20T15:43:26.375885400Z"
    }
   },
   "id": "e16484de6065a680"
  },
  {
   "cell_type": "markdown",
   "source": [
    "## Load data"
   ],
   "metadata": {
    "collapsed": false
   },
   "id": "186976c34c79d08d"
  },
  {
   "cell_type": "code",
   "execution_count": 10,
   "outputs": [],
   "source": [
    "TARGET = \"Creditability\"\n",
    "PROTECTED_ATTRIBUTE = \"Sex & Marital Status\""
   ],
   "metadata": {
    "collapsed": false,
    "ExecuteTime": {
     "end_time": "2024-03-20T15:43:26.701451900Z",
     "start_time": "2024-03-20T15:43:26.691520300Z"
    }
   },
   "id": "4c826daffb4194a5"
  },
  {
   "cell_type": "code",
   "execution_count": 11,
   "outputs": [],
   "source": [
    "data = pd.read_csv(\"../data/german_credit_data.csv\")"
   ],
   "metadata": {
    "collapsed": false,
    "ExecuteTime": {
     "end_time": "2024-03-20T15:43:26.914926Z",
     "start_time": "2024-03-20T15:43:26.876290Z"
    }
   },
   "id": "b2d5a6bf84200a1"
  },
  {
   "cell_type": "code",
   "execution_count": 12,
   "outputs": [
    {
     "name": "stdout",
     "output_type": "stream",
     "text": [
      "<class 'pandas.core.frame.DataFrame'>\n",
      "RangeIndex: 1000 entries, 0 to 999\n",
      "Data columns (total 21 columns):\n",
      " #   Column                             Non-Null Count  Dtype\n",
      "---  ------                             --------------  -----\n",
      " 0   Creditability                      1000 non-null   int64\n",
      " 1   Account Balance                    1000 non-null   int64\n",
      " 2   Duration of Credit (month)         1000 non-null   int64\n",
      " 3   Payment Status of Previous Credit  1000 non-null   int64\n",
      " 4   Purpose                            1000 non-null   int64\n",
      " 5   Credit Amount                      1000 non-null   int64\n",
      " 6   Value Savings/Stocks               1000 non-null   int64\n",
      " 7   Length of current employment       1000 non-null   int64\n",
      " 8   Instalment per cent                1000 non-null   int64\n",
      " 9   Sex & Marital Status               1000 non-null   int64\n",
      " 10  Guarantors                         1000 non-null   int64\n",
      " 11  Duration in Current address        1000 non-null   int64\n",
      " 12  Most valuable available asset      1000 non-null   int64\n",
      " 13  Age (years)                        1000 non-null   int64\n",
      " 14  Concurrent Credits                 1000 non-null   int64\n",
      " 15  Type of apartment                  1000 non-null   int64\n",
      " 16  No of Credits at this Bank         1000 non-null   int64\n",
      " 17  Occupation                         1000 non-null   int64\n",
      " 18  No of dependents                   1000 non-null   int64\n",
      " 19  Telephone                          1000 non-null   int64\n",
      " 20  Foreign Worker                     1000 non-null   int64\n",
      "dtypes: int64(21)\n",
      "memory usage: 164.2 KB\n"
     ]
    }
   ],
   "source": [
    "data.info()"
   ],
   "metadata": {
    "collapsed": false,
    "ExecuteTime": {
     "end_time": "2024-03-20T15:43:27.060284700Z",
     "start_time": "2024-03-20T15:43:27.027656100Z"
    }
   },
   "id": "818a51de8d431774"
  },
  {
   "cell_type": "code",
   "execution_count": 13,
   "outputs": [
    {
     "data": {
      "text/plain": "Creditability\n1    700\n0    300\nName: count, dtype: int64"
     },
     "execution_count": 13,
     "metadata": {},
     "output_type": "execute_result"
    }
   ],
   "source": [
    "data[TARGET].value_counts()"
   ],
   "metadata": {
    "collapsed": false,
    "ExecuteTime": {
     "end_time": "2024-03-20T15:43:27.228639900Z",
     "start_time": "2024-03-20T15:43:27.198122700Z"
    }
   },
   "id": "df3c033e2c0c7c0d"
  },
  {
   "cell_type": "code",
   "execution_count": 14,
   "outputs": [
    {
     "data": {
      "text/plain": "Sex & Marital Status\n3    548\n2    310\n4     92\n1     50\nName: count, dtype: int64"
     },
     "execution_count": 14,
     "metadata": {},
     "output_type": "execute_result"
    }
   ],
   "source": [
    "data[PROTECTED_ATTRIBUTE].value_counts()"
   ],
   "metadata": {
    "collapsed": false,
    "ExecuteTime": {
     "end_time": "2024-03-20T15:43:27.627040800Z",
     "start_time": "2024-03-20T15:43:27.439536400Z"
    }
   },
   "id": "7b5ca13ce10f0b3d"
  },
  {
   "cell_type": "code",
   "execution_count": 67,
   "outputs": [],
   "source": [
    "y = data.loc[:, TARGET]\n",
    "z = data.loc[:, PROTECTED_ATTRIBUTE]\n",
    "X = data.drop(columns=TARGET)"
   ],
   "metadata": {
    "collapsed": false,
    "ExecuteTime": {
     "end_time": "2024-03-20T16:16:48.726879300Z",
     "start_time": "2024-03-20T16:16:48.722574100Z"
    }
   },
   "id": "d4355e31612e83b1"
  },
  {
   "cell_type": "code",
   "execution_count": 68,
   "outputs": [],
   "source": [
    "X_train, X_test, y_train, y_test, z_train, z_test = train_test_split(X, y, z, test_size=0.2, random_state=RANDOM_STATE, stratify=y)"
   ],
   "metadata": {
    "collapsed": false,
    "ExecuteTime": {
     "end_time": "2024-03-20T16:16:49.937588200Z",
     "start_time": "2024-03-20T16:16:49.900054200Z"
    }
   },
   "id": "14adf46e9fb5a995"
  },
  {
   "cell_type": "code",
   "execution_count": 17,
   "outputs": [],
   "source": [
    "MODEL_CONFIG = dict(DEFAULT_MODEL_CONFIG, cat_features=X.select_dtypes(\"object\").columns.to_list())"
   ],
   "metadata": {
    "collapsed": false,
    "ExecuteTime": {
     "end_time": "2024-03-20T15:43:27.978679Z",
     "start_time": "2024-03-20T15:43:27.887232900Z"
    }
   },
   "id": "77bed94dd8d730aa"
  },
  {
   "cell_type": "code",
   "execution_count": 18,
   "outputs": [],
   "source": [
    "model = CatBoostClassifier(**MODEL_CONFIG)"
   ],
   "metadata": {
    "collapsed": false,
    "ExecuteTime": {
     "end_time": "2024-03-20T15:43:28.186448Z",
     "start_time": "2024-03-20T15:43:28.024450600Z"
    }
   },
   "id": "decc0e42c91fa4f1"
  },
  {
   "cell_type": "code",
   "execution_count": 19,
   "outputs": [
    {
     "name": "stdout",
     "output_type": "stream",
     "text": [
      "0:\tlearn: 0.6899835\ttotal: 146ms\tremaining: 7m 16s\n",
      "250:\tlearn: 0.4704244\ttotal: 594ms\tremaining: 6.5s\n",
      "500:\tlearn: 0.4235692\ttotal: 1.03s\tremaining: 5.15s\n",
      "750:\tlearn: 0.3888618\ttotal: 1.49s\tremaining: 4.45s\n",
      "1000:\tlearn: 0.3559247\ttotal: 1.99s\tremaining: 3.97s\n",
      "1250:\tlearn: 0.3269348\ttotal: 2.69s\tremaining: 3.76s\n",
      "1500:\tlearn: 0.3030500\ttotal: 3.21s\tremaining: 3.21s\n",
      "1750:\tlearn: 0.2826410\ttotal: 3.73s\tremaining: 2.66s\n",
      "2000:\tlearn: 0.2646425\ttotal: 4.29s\tremaining: 2.14s\n",
      "2250:\tlearn: 0.2486124\ttotal: 4.75s\tremaining: 1.58s\n",
      "2500:\tlearn: 0.2337442\ttotal: 5.17s\tremaining: 1.03s\n",
      "2750:\tlearn: 0.2201144\ttotal: 5.6s\tremaining: 507ms\n",
      "2999:\tlearn: 0.2080692\ttotal: 6.01s\tremaining: 0us\n"
     ]
    },
    {
     "data": {
      "text/plain": "<catboost.core.CatBoostClassifier at 0x1d985e46fd0>"
     },
     "execution_count": 19,
     "metadata": {},
     "output_type": "execute_result"
    }
   ],
   "source": [
    "model.fit(X_train, y_train)"
   ],
   "metadata": {
    "collapsed": false,
    "ExecuteTime": {
     "end_time": "2024-03-20T15:43:34.839678900Z",
     "start_time": "2024-03-20T15:43:28.284305200Z"
    }
   },
   "id": "4d3290acf9a8a01"
  },
  {
   "cell_type": "code",
   "execution_count": 104,
   "outputs": [],
   "source": [
    "y_pred = pd.Series(model.predict(X_test), name=\"y_pred\", index=y_test.index)"
   ],
   "metadata": {
    "collapsed": false,
    "ExecuteTime": {
     "end_time": "2024-03-20T16:31:23.157701200Z",
     "start_time": "2024-03-20T16:31:23.080695400Z"
    }
   },
   "id": "273817d998d1c159"
  },
  {
   "cell_type": "markdown",
   "source": [
    "## Fairness assessment"
   ],
   "metadata": {
    "collapsed": false
   },
   "id": "b1772a8c54a878b4"
  },
  {
   "cell_type": "markdown",
   "source": [
    "### Fairlearn"
   ],
   "metadata": {
    "collapsed": false
   },
   "id": "9dc507cbb6b9a9db"
  },
  {
   "cell_type": "markdown",
   "source": [
    "#### Detection"
   ],
   "metadata": {
    "collapsed": false
   },
   "id": "60c118c1cf05c8e8"
  },
  {
   "cell_type": "code",
   "execution_count": 21,
   "outputs": [],
   "source": [
    "from fairlearn.metrics import demographic_parity_ratio, demographic_parity_difference, equalized_odds_ratio, equalized_odds_difference"
   ],
   "metadata": {
    "collapsed": false,
    "ExecuteTime": {
     "end_time": "2024-03-20T15:43:34.917813300Z",
     "start_time": "2024-03-20T15:43:34.828983300Z"
    }
   },
   "id": "d15f9e047e368a71"
  },
  {
   "cell_type": "code",
   "execution_count": 58,
   "outputs": [
    {
     "data": {
      "text/plain": "0.30952380952380953"
     },
     "execution_count": 58,
     "metadata": {},
     "output_type": "execute_result"
    }
   ],
   "source": [
    "demographic_parity_difference(y_test, y_pred, sensitive_features=z_test, method=\"between_groups\")"
   ],
   "metadata": {
    "collapsed": false,
    "ExecuteTime": {
     "end_time": "2024-03-20T16:10:55.208814Z",
     "start_time": "2024-03-20T16:10:55.173148800Z"
    }
   },
   "id": "66ea2e18ccc97745"
  },
  {
   "cell_type": "code",
   "execution_count": 59,
   "outputs": [
    {
     "data": {
      "text/plain": "0.235"
     },
     "execution_count": 59,
     "metadata": {},
     "output_type": "execute_result"
    }
   ],
   "source": [
    "demographic_parity_difference(y_test, y_pred, sensitive_features=z_test, method=\"to_overall\")"
   ],
   "metadata": {
    "collapsed": false,
    "ExecuteTime": {
     "end_time": "2024-03-20T16:11:25.143065400Z",
     "start_time": "2024-03-20T16:11:25.041143700Z"
    }
   },
   "id": "3c2cea80b8c6504"
  },
  {
   "cell_type": "code",
   "execution_count": 22,
   "outputs": [
    {
     "data": {
      "text/plain": "0.6176470588235294"
     },
     "execution_count": 22,
     "metadata": {},
     "output_type": "execute_result"
    }
   ],
   "source": [
    "demographic_parity_ratio(y_test, y_pred, sensitive_features=z_test)"
   ],
   "metadata": {
    "collapsed": false,
    "ExecuteTime": {
     "start_time": "2024-03-20T15:43:35.017373700Z"
    }
   },
   "id": "5e6e573628dcae13"
  },
  {
   "cell_type": "markdown",
   "source": [
    "#### Mitigation"
   ],
   "metadata": {
    "collapsed": false
   },
   "id": "2de94abc45d20ecf"
  },
  {
   "cell_type": "markdown",
   "source": [
    "### AIF360"
   ],
   "metadata": {
    "collapsed": false
   },
   "id": "a1d0a355b0f46f8c"
  },
  {
   "cell_type": "code",
   "execution_count": 24,
   "outputs": [],
   "source": [
    "import aif360\n",
    "from aif360.datasets import BinaryLabelDataset"
   ],
   "metadata": {
    "collapsed": false,
    "ExecuteTime": {
     "end_time": "2024-03-20T15:43:37.127593200Z",
     "start_time": "2024-03-20T15:43:36.972503100Z"
    }
   },
   "id": "79d0784d67267853"
  },
  {
   "cell_type": "code",
   "execution_count": 25,
   "outputs": [],
   "source": [
    "dataset_aif360 = BinaryLabelDataset(df=pd.concat([X_test, y_test], axis=1), \n",
    "                                    label_names=[TARGET],\n",
    "                                    protected_attribute_names=[PROTECTED_ATTRIBUTE],\n",
    "                                    )\n",
    "\n",
    "predictions_aif360 = BinaryLabelDataset(df=X_test.assign(**{TARGET: y_pred}), \n",
    "                                        label_names=[TARGET],\n",
    "                                        protected_attribute_names=[PROTECTED_ATTRIBUTE],\n",
    "                                        )"
   ],
   "metadata": {
    "collapsed": false,
    "ExecuteTime": {
     "end_time": "2024-03-20T15:43:37.463871200Z",
     "start_time": "2024-03-20T15:43:37.390064400Z"
    }
   },
   "id": "3cde55c427321931"
  },
  {
   "cell_type": "markdown",
   "source": [
    "#### Detection\n",
    "\n",
    "_\"Since the main computation of confusion matrices is common for a large set of metrics, we utilize memoization and caching of computations for performance on large-scale datasets.\"_"
   ],
   "metadata": {
    "collapsed": false
   },
   "id": "c2dd4adbf0904615"
  },
  {
   "cell_type": "code",
   "execution_count": 26,
   "outputs": [
    {
     "name": "stderr",
     "output_type": "stream",
     "text": [
      "WARNING:root:No module named 'tensorflow': AdversarialDebiasing will be unavailable. To install, run:\n",
      "pip install 'aif360[AdversarialDebiasing]'\n",
      "WARNING:root:No module named 'tensorflow': AdversarialDebiasing will be unavailable. To install, run:\n",
      "pip install 'aif360[AdversarialDebiasing]'\n",
      "WARNING:root:No module named 'inFairness': SenSeI and SenSR will be unavailable. To install, run:\n",
      "pip install 'aif360[inFairness]'\n"
     ]
    }
   ],
   "source": [
    "from aif360.metrics import BinaryLabelDatasetMetric, ClassificationMetric\n",
    "from aif360.explainers import MetricTextExplainer"
   ],
   "metadata": {
    "collapsed": false,
    "ExecuteTime": {
     "end_time": "2024-03-20T15:43:40.552830800Z",
     "start_time": "2024-03-20T15:43:38.928211700Z"
    }
   },
   "id": "15262a0e746933a5"
  },
  {
   "cell_type": "code",
   "execution_count": 34,
   "outputs": [],
   "source": [
    "priv = [{PROTECTED_ATTRIBUTE: 1}, {PROTECTED_ATTRIBUTE: 3}, {PROTECTED_ATTRIBUTE: 4}]\n",
    "unpriv = [{PROTECTED_ATTRIBUTE: 2}]"
   ],
   "metadata": {
    "collapsed": false,
    "ExecuteTime": {
     "end_time": "2024-03-20T15:45:07.811939700Z",
     "start_time": "2024-03-20T15:45:07.810746400Z"
    }
   },
   "id": "63d1aab2d377bfe1"
  },
  {
   "cell_type": "code",
   "execution_count": 38,
   "outputs": [],
   "source": [
    "cm = ClassificationMetric(dataset_aif360,\n",
    "                         predictions_aif360,\n",
    "                         privileged_groups=priv,\n",
    "                         unprivileged_groups=unpriv,\n",
    "                         )"
   ],
   "metadata": {
    "collapsed": false,
    "ExecuteTime": {
     "end_time": "2024-03-20T15:45:08.807884900Z",
     "start_time": "2024-03-20T15:45:08.793107600Z"
    }
   },
   "id": "363ab7548e1e9cc5"
  },
  {
   "cell_type": "code",
   "execution_count": 39,
   "outputs": [
    {
     "data": {
      "text/plain": "0.8355555555555556"
     },
     "execution_count": 39,
     "metadata": {},
     "output_type": "execute_result"
    }
   ],
   "source": [
    "cm.disparate_impact()"
   ],
   "metadata": {
    "collapsed": false,
    "ExecuteTime": {
     "end_time": "2024-03-20T15:45:09.105812400Z",
     "start_time": "2024-03-20T15:45:09.092454300Z"
    }
   },
   "id": "1882dd895a4121da"
  },
  {
   "cell_type": "code",
   "execution_count": 40,
   "outputs": [
    {
     "data": {
      "text/plain": "-0.1284722222222222"
     },
     "execution_count": 40,
     "metadata": {},
     "output_type": "execute_result"
    }
   ],
   "source": [
    "cm.statistical_parity_difference()"
   ],
   "metadata": {
    "collapsed": false,
    "ExecuteTime": {
     "end_time": "2024-03-20T15:45:09.589853600Z",
     "start_time": "2024-03-20T15:45:09.577503900Z"
    }
   },
   "id": "f49c1f081289e3c1"
  },
  {
   "cell_type": "code",
   "execution_count": 60,
   "outputs": [],
   "source": [
    "text_expl = MetricTextExplainer(cm)"
   ],
   "metadata": {
    "collapsed": false,
    "ExecuteTime": {
     "end_time": "2024-03-20T16:13:42.570396900Z",
     "start_time": "2024-03-20T16:13:42.536397800Z"
    }
   },
   "id": "8187b8c00eb5b60d"
  },
  {
   "cell_type": "code",
   "execution_count": 61,
   "outputs": [
    {
     "data": {
      "text/plain": "'Statistical parity difference (probability of favorable outcome for unprivileged instances - probability of favorable outcome for privileged instances): -0.1284722222222222'"
     },
     "execution_count": 61,
     "metadata": {},
     "output_type": "execute_result"
    }
   ],
   "source": [
    "text_expl.statistical_parity_difference()"
   ],
   "metadata": {
    "collapsed": false,
    "ExecuteTime": {
     "end_time": "2024-03-20T16:13:42.806487900Z",
     "start_time": "2024-03-20T16:13:42.803244Z"
    }
   },
   "id": "aa0c2e189a557ca2"
  },
  {
   "cell_type": "code",
   "execution_count": 53,
   "outputs": [],
   "source": [
    "from aif360.sklearn.metrics import statistical_parity_difference, disparate_impact_ratio"
   ],
   "metadata": {
    "collapsed": false,
    "ExecuteTime": {
     "end_time": "2024-03-20T15:53:12.664018700Z",
     "start_time": "2024-03-20T15:53:12.624909800Z"
    }
   },
   "id": "2755216b2f9b2f89"
  },
  {
   "cell_type": "code",
   "execution_count": 120,
   "outputs": [
    {
     "data": {
      "text/plain": "6"
     },
     "execution_count": 120,
     "metadata": {},
     "output_type": "execute_result"
    }
   ],
   "source": [
    "z_test.eq(1).sum()"
   ],
   "metadata": {
    "collapsed": false,
    "ExecuteTime": {
     "end_time": "2024-03-20T16:54:23.870222400Z",
     "start_time": "2024-03-20T16:54:23.840680100Z"
    }
   },
   "id": "fc1f2717a705d69"
  },
  {
   "cell_type": "code",
   "execution_count": 130,
   "outputs": [
    {
     "data": {
      "text/plain": "-0.15689223057644108"
     },
     "execution_count": 130,
     "metadata": {},
     "output_type": "execute_result"
    }
   ],
   "source": [
    "statistical_parity_difference(y_test, y_pred, prot_attr=z_test, priv_group=3)"
   ],
   "metadata": {
    "collapsed": false,
    "ExecuteTime": {
     "end_time": "2024-03-20T16:58:14.620500800Z",
     "start_time": "2024-03-20T16:58:14.585324800Z"
    }
   },
   "id": "e9d3c36ffe4b32ef"
  },
  {
   "cell_type": "code",
   "execution_count": 131,
   "outputs": [
    {
     "data": {
      "text/plain": "0.8061919504643963"
     },
     "execution_count": 131,
     "metadata": {},
     "output_type": "execute_result"
    }
   ],
   "source": [
    "disparate_impact_ratio(y_test, y_pred, prot_attr=z_test, priv_group=3)"
   ],
   "metadata": {
    "collapsed": false,
    "ExecuteTime": {
     "end_time": "2024-03-20T16:58:14.970687400Z",
     "start_time": "2024-03-20T16:58:14.941060300Z"
    }
   },
   "id": "bdbdaeec4f9a8d47"
  },
  {
   "cell_type": "markdown",
   "source": [
    "___"
   ],
   "metadata": {
    "collapsed": false
   },
   "id": "e4652c743e994c9"
  },
  {
   "cell_type": "code",
   "execution_count": 135,
   "outputs": [
    {
     "data": {
      "text/plain": "                      Creditability    y_pred\nSex & Marital Status                         \n1                          0.666667  0.500000\n2                          0.625000  0.652778\n3                          0.761905  0.809524\n4                          0.647059  0.705882",
      "text/html": "<div>\n<style scoped>\n    .dataframe tbody tr th:only-of-type {\n        vertical-align: middle;\n    }\n\n    .dataframe tbody tr th {\n        vertical-align: top;\n    }\n\n    .dataframe thead th {\n        text-align: right;\n    }\n</style>\n<table border=\"1\" class=\"dataframe\">\n  <thead>\n    <tr style=\"text-align: right;\">\n      <th></th>\n      <th>Creditability</th>\n      <th>y_pred</th>\n    </tr>\n    <tr>\n      <th>Sex &amp; Marital Status</th>\n      <th></th>\n      <th></th>\n    </tr>\n  </thead>\n  <tbody>\n    <tr>\n      <th>1</th>\n      <td>0.666667</td>\n      <td>0.500000</td>\n    </tr>\n    <tr>\n      <th>2</th>\n      <td>0.625000</td>\n      <td>0.652778</td>\n    </tr>\n    <tr>\n      <th>3</th>\n      <td>0.761905</td>\n      <td>0.809524</td>\n    </tr>\n    <tr>\n      <th>4</th>\n      <td>0.647059</td>\n      <td>0.705882</td>\n    </tr>\n  </tbody>\n</table>\n</div>"
     },
     "execution_count": 135,
     "metadata": {},
     "output_type": "execute_result"
    }
   ],
   "source": [
    "pd.concat([y_test, y_pred], axis=1).groupby(z_test, sort=False).sum().div(z_test.value_counts(), axis=0)"
   ],
   "metadata": {
    "collapsed": false,
    "ExecuteTime": {
     "end_time": "2024-03-20T17:00:55.635140100Z",
     "start_time": "2024-03-20T17:00:55.576217300Z"
    }
   },
   "id": "cfb5769e7b41c70f"
  },
  {
   "cell_type": "code",
   "execution_count": 136,
   "outputs": [
    {
     "data": {
      "text/plain": "Creditability    0.700\ny_pred           0.735\ndtype: float64"
     },
     "execution_count": 136,
     "metadata": {},
     "output_type": "execute_result"
    }
   ],
   "source": [
    "pd.concat([y_test, y_pred], axis=1).mean()"
   ],
   "metadata": {
    "collapsed": false,
    "ExecuteTime": {
     "end_time": "2024-03-20T17:00:56.070417200Z",
     "start_time": "2024-03-20T17:00:56.034624Z"
    }
   },
   "id": "809f135a5b780c8e"
  },
  {
   "cell_type": "code",
   "execution_count": 137,
   "outputs": [
    {
     "data": {
      "text/plain": "-0.15689223057644108"
     },
     "execution_count": 137,
     "metadata": {},
     "output_type": "execute_result"
    }
   ],
   "source": [
    "y_pred.loc[z_test.ne(3)].mean() - y_pred.loc[z_test.eq(3)].mean() "
   ],
   "metadata": {
    "collapsed": false,
    "ExecuteTime": {
     "end_time": "2024-03-20T17:00:57.556453900Z",
     "start_time": "2024-03-20T17:00:57.470692300Z"
    }
   },
   "id": "fb03503a74e69b45"
  },
  {
   "cell_type": "markdown",
   "source": [
    "#### Mitigation"
   ],
   "metadata": {
    "collapsed": false
   },
   "id": "9f8c22f681822c06"
  },
  {
   "cell_type": "code",
   "execution_count": null,
   "outputs": [],
   "source": [],
   "metadata": {
    "collapsed": false
   },
   "id": "b1bd7b9630a82a6a"
  }
 ],
 "metadata": {
  "kernelspec": {
   "display_name": "Python 3",
   "language": "python",
   "name": "python3"
  },
  "language_info": {
   "codemirror_mode": {
    "name": "ipython",
    "version": 2
   },
   "file_extension": ".py",
   "mimetype": "text/x-python",
   "name": "python",
   "nbconvert_exporter": "python",
   "pygments_lexer": "ipython2",
   "version": "2.7.6"
  }
 },
 "nbformat": 4,
 "nbformat_minor": 5
}
