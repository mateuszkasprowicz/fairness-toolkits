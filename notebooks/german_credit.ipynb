{
 "cells": [
  {
   "cell_type": "markdown",
   "source": [
    "# Evaluating Fairness in Machine Learning: Comparative Analysis and Benchmarking of Fairlearn and AIF360 | German Credit Dataset"
   ],
   "metadata": {
    "collapsed": false
   },
   "id": "3dab28c6a8ebdde5"
  },
  {
   "cell_type": "code",
   "execution_count": 1,
   "outputs": [],
   "source": [
    "import os\n",
    "import random\n",
    "\n",
    "import pandas as pd\n",
    "import numpy as np\n",
    "\n",
    "import sklearn\n",
    "from sklearn.model_selection import train_test_split\n",
    "from catboost import CatBoostClassifier\n",
    "\n",
    "from src.constants import RANDOM_STATE, DEFAULT_MODEL_CONFIG"
   ],
   "metadata": {
    "collapsed": false,
    "ExecuteTime": {
     "end_time": "2024-03-26T19:17:59.856406400Z",
     "start_time": "2024-03-26T19:17:56.741256500Z"
    }
   },
   "id": "initial_id"
  },
  {
   "cell_type": "code",
   "execution_count": 2,
   "outputs": [],
   "source": [
    "sklearn.set_config(transform_output=\"pandas\")"
   ],
   "metadata": {
    "collapsed": false,
    "ExecuteTime": {
     "end_time": "2024-03-26T19:17:59.858412Z",
     "start_time": "2024-03-26T19:17:59.855090600Z"
    }
   },
   "id": "46df34862adf4d9a"
  },
  {
   "cell_type": "markdown",
   "source": [
    "## Ensure reproducibility\n",
    "\n",
    "Set random seeds for reproducibility."
   ],
   "metadata": {
    "collapsed": false
   },
   "id": "18bb741c498fb006"
  },
  {
   "cell_type": "code",
   "execution_count": 3,
   "outputs": [],
   "source": [
    "np.random.seed(RANDOM_STATE)\n",
    "os.environ[\"PYTHONHASHSEED\"] = str(RANDOM_STATE)\n",
    "random.seed(RANDOM_STATE)"
   ],
   "metadata": {
    "collapsed": false,
    "ExecuteTime": {
     "end_time": "2024-03-26T19:17:59.875526700Z",
     "start_time": "2024-03-26T19:17:59.860412200Z"
    }
   },
   "id": "e16484de6065a680"
  },
  {
   "cell_type": "markdown",
   "source": [
    "## Load data"
   ],
   "metadata": {
    "collapsed": false
   },
   "id": "186976c34c79d08d"
  },
  {
   "cell_type": "code",
   "execution_count": 4,
   "outputs": [],
   "source": [
    "TARGET = \"Creditability\"\n",
    "PROTECTED_ATTRIBUTE = \"Sex & Marital Status\""
   ],
   "metadata": {
    "collapsed": false,
    "ExecuteTime": {
     "end_time": "2024-03-26T19:17:59.877534800Z",
     "start_time": "2024-03-26T19:17:59.870306Z"
    }
   },
   "id": "4c826daffb4194a5"
  },
  {
   "cell_type": "code",
   "execution_count": 5,
   "outputs": [],
   "source": [
    "data = pd.read_csv(\"../data/german_credit_data.csv\")"
   ],
   "metadata": {
    "collapsed": false,
    "ExecuteTime": {
     "end_time": "2024-03-26T19:17:59.905716300Z",
     "start_time": "2024-03-26T19:17:59.880534100Z"
    }
   },
   "id": "b2d5a6bf84200a1"
  },
  {
   "cell_type": "code",
   "execution_count": 6,
   "outputs": [
    {
     "name": "stdout",
     "output_type": "stream",
     "text": [
      "<class 'pandas.core.frame.DataFrame'>\n",
      "RangeIndex: 1000 entries, 0 to 999\n",
      "Data columns (total 21 columns):\n",
      " #   Column                             Non-Null Count  Dtype\n",
      "---  ------                             --------------  -----\n",
      " 0   Creditability                      1000 non-null   int64\n",
      " 1   Account Balance                    1000 non-null   int64\n",
      " 2   Duration of Credit (month)         1000 non-null   int64\n",
      " 3   Payment Status of Previous Credit  1000 non-null   int64\n",
      " 4   Purpose                            1000 non-null   int64\n",
      " 5   Credit Amount                      1000 non-null   int64\n",
      " 6   Value Savings/Stocks               1000 non-null   int64\n",
      " 7   Length of current employment       1000 non-null   int64\n",
      " 8   Instalment per cent                1000 non-null   int64\n",
      " 9   Sex & Marital Status               1000 non-null   int64\n",
      " 10  Guarantors                         1000 non-null   int64\n",
      " 11  Duration in Current address        1000 non-null   int64\n",
      " 12  Most valuable available asset      1000 non-null   int64\n",
      " 13  Age (years)                        1000 non-null   int64\n",
      " 14  Concurrent Credits                 1000 non-null   int64\n",
      " 15  Type of apartment                  1000 non-null   int64\n",
      " 16  No of Credits at this Bank         1000 non-null   int64\n",
      " 17  Occupation                         1000 non-null   int64\n",
      " 18  No of dependents                   1000 non-null   int64\n",
      " 19  Telephone                          1000 non-null   int64\n",
      " 20  Foreign Worker                     1000 non-null   int64\n",
      "dtypes: int64(21)\n",
      "memory usage: 164.2 KB\n"
     ]
    }
   ],
   "source": [
    "data.info()"
   ],
   "metadata": {
    "collapsed": false,
    "ExecuteTime": {
     "end_time": "2024-03-26T19:17:59.926013300Z",
     "start_time": "2024-03-26T19:17:59.899717700Z"
    }
   },
   "id": "818a51de8d431774"
  },
  {
   "cell_type": "code",
   "execution_count": 7,
   "outputs": [
    {
     "data": {
      "text/plain": "Creditability\n1    700\n0    300\nName: count, dtype: int64"
     },
     "execution_count": 7,
     "metadata": {},
     "output_type": "execute_result"
    }
   ],
   "source": [
    "data[TARGET].value_counts()"
   ],
   "metadata": {
    "collapsed": false,
    "ExecuteTime": {
     "end_time": "2024-03-26T19:17:59.950270600Z",
     "start_time": "2024-03-26T19:17:59.920012900Z"
    }
   },
   "id": "df3c033e2c0c7c0d"
  },
  {
   "cell_type": "code",
   "execution_count": 8,
   "outputs": [
    {
     "data": {
      "text/plain": "Sex & Marital Status\n3    548\n2    310\n4     92\n1     50\nName: count, dtype: int64"
     },
     "execution_count": 8,
     "metadata": {},
     "output_type": "execute_result"
    }
   ],
   "source": [
    "data[PROTECTED_ATTRIBUTE].value_counts()"
   ],
   "metadata": {
    "collapsed": false,
    "ExecuteTime": {
     "end_time": "2024-03-26T19:17:59.953268800Z",
     "start_time": "2024-03-26T19:17:59.931415200Z"
    }
   },
   "id": "7b5ca13ce10f0b3d"
  },
  {
   "cell_type": "code",
   "execution_count": 9,
   "outputs": [],
   "source": [
    "y = data.loc[:, TARGET]\n",
    "z = data.loc[:, PROTECTED_ATTRIBUTE]\n",
    "X = data.drop(columns=TARGET)"
   ],
   "metadata": {
    "collapsed": false,
    "ExecuteTime": {
     "end_time": "2024-03-26T19:18:00.027739700Z",
     "start_time": "2024-03-26T19:17:59.939550200Z"
    }
   },
   "id": "d4355e31612e83b1"
  },
  {
   "cell_type": "code",
   "execution_count": 10,
   "outputs": [],
   "source": [
    "X_train, X_test, y_train, y_test, z_train, z_test = train_test_split(X, y, z, test_size=0.2, random_state=RANDOM_STATE, stratify=y)"
   ],
   "metadata": {
    "collapsed": false,
    "ExecuteTime": {
     "end_time": "2024-03-26T19:18:00.081738500Z",
     "start_time": "2024-03-26T19:17:59.949270100Z"
    }
   },
   "id": "14adf46e9fb5a995"
  },
  {
   "cell_type": "code",
   "execution_count": 11,
   "outputs": [],
   "source": [
    "MODEL_CONFIG = dict(DEFAULT_MODEL_CONFIG, cat_features=X.select_dtypes(\"object\").columns.to_list())"
   ],
   "metadata": {
    "collapsed": false,
    "ExecuteTime": {
     "end_time": "2024-03-26T19:18:00.082739400Z",
     "start_time": "2024-03-26T19:17:59.962675900Z"
    }
   },
   "id": "77bed94dd8d730aa"
  },
  {
   "cell_type": "code",
   "execution_count": 58,
   "outputs": [],
   "source": [
    "default_model = CatBoostClassifier(**MODEL_CONFIG)\n",
    "model = default_model.copy()"
   ],
   "metadata": {
    "collapsed": false,
    "ExecuteTime": {
     "end_time": "2024-03-26T20:15:31.492105200Z",
     "start_time": "2024-03-26T20:15:31.356059500Z"
    }
   },
   "id": "decc0e42c91fa4f1"
  },
  {
   "cell_type": "code",
   "execution_count": 13,
   "outputs": [
    {
     "name": "stdout",
     "output_type": "stream",
     "text": [
      "0:\tlearn: 0.6899835\ttotal: 154ms\tremaining: 7m 42s\n",
      "250:\tlearn: 0.4704244\ttotal: 588ms\tremaining: 6.44s\n",
      "500:\tlearn: 0.4235692\ttotal: 1.03s\tremaining: 5.15s\n",
      "750:\tlearn: 0.3888618\ttotal: 1.43s\tremaining: 4.28s\n",
      "1000:\tlearn: 0.3559247\ttotal: 1.83s\tremaining: 3.65s\n",
      "1250:\tlearn: 0.3269348\ttotal: 2.21s\tremaining: 3.09s\n",
      "1500:\tlearn: 0.3030500\ttotal: 2.63s\tremaining: 2.63s\n",
      "1750:\tlearn: 0.2826410\ttotal: 3.04s\tremaining: 2.17s\n",
      "2000:\tlearn: 0.2646425\ttotal: 3.45s\tremaining: 1.72s\n",
      "2250:\tlearn: 0.2486124\ttotal: 3.85s\tremaining: 1.28s\n",
      "2500:\tlearn: 0.2337442\ttotal: 4.26s\tremaining: 849ms\n",
      "2750:\tlearn: 0.2201144\ttotal: 4.64s\tremaining: 420ms\n",
      "2999:\tlearn: 0.2080692\ttotal: 5.02s\tremaining: 0us\n"
     ]
    },
    {
     "data": {
      "text/plain": "<catboost.core.CatBoostClassifier at 0x19505e4eed0>"
     },
     "execution_count": 13,
     "metadata": {},
     "output_type": "execute_result"
    }
   ],
   "source": [
    "model.fit(X_train, y_train)"
   ],
   "metadata": {
    "collapsed": false,
    "ExecuteTime": {
     "end_time": "2024-03-26T19:18:05.402784Z",
     "start_time": "2024-03-26T19:17:59.979742600Z"
    }
   },
   "id": "4d3290acf9a8a01"
  },
  {
   "cell_type": "code",
   "execution_count": 14,
   "outputs": [],
   "source": [
    "y_pred = pd.Series(model.predict(X_test), name=\"y_pred\", index=y_test.index)"
   ],
   "metadata": {
    "collapsed": false,
    "ExecuteTime": {
     "end_time": "2024-03-26T19:18:05.424421300Z",
     "start_time": "2024-03-26T19:18:05.404784600Z"
    }
   },
   "id": "273817d998d1c159"
  },
  {
   "cell_type": "markdown",
   "source": [
    "## Fairness assessment"
   ],
   "metadata": {
    "collapsed": false
   },
   "id": "b1772a8c54a878b4"
  },
  {
   "cell_type": "markdown",
   "source": [
    "### Fairlearn"
   ],
   "metadata": {
    "collapsed": false
   },
   "id": "9dc507cbb6b9a9db"
  },
  {
   "cell_type": "markdown",
   "source": [
    "#### Detection"
   ],
   "metadata": {
    "collapsed": false
   },
   "id": "60c118c1cf05c8e8"
  },
  {
   "cell_type": "code",
   "execution_count": 15,
   "outputs": [],
   "source": [
    "from fairlearn.metrics import demographic_parity_ratio, demographic_parity_difference, equalized_odds_ratio, equalized_odds_difference"
   ],
   "metadata": {
    "collapsed": false,
    "ExecuteTime": {
     "end_time": "2024-03-26T19:18:05.496315Z",
     "start_time": "2024-03-26T19:18:05.414417800Z"
    }
   },
   "id": "d15f9e047e368a71"
  },
  {
   "cell_type": "code",
   "execution_count": 16,
   "outputs": [
    {
     "data": {
      "text/plain": "0.30952380952380953"
     },
     "execution_count": 16,
     "metadata": {},
     "output_type": "execute_result"
    }
   ],
   "source": [
    "demographic_parity_difference(y_test, y_pred, sensitive_features=z_test, method=\"between_groups\")"
   ],
   "metadata": {
    "collapsed": false,
    "ExecuteTime": {
     "end_time": "2024-03-26T19:18:05.521032800Z",
     "start_time": "2024-03-26T19:18:05.454679900Z"
    }
   },
   "id": "66ea2e18ccc97745"
  },
  {
   "cell_type": "code",
   "execution_count": 17,
   "outputs": [
    {
     "data": {
      "text/plain": "0.235"
     },
     "execution_count": 17,
     "metadata": {},
     "output_type": "execute_result"
    }
   ],
   "source": [
    "demographic_parity_difference(y_test, y_pred, sensitive_features=z_test, method=\"to_overall\")"
   ],
   "metadata": {
    "collapsed": false,
    "ExecuteTime": {
     "end_time": "2024-03-26T19:18:05.525032900Z",
     "start_time": "2024-03-26T19:18:05.478436800Z"
    }
   },
   "id": "3c2cea80b8c6504"
  },
  {
   "cell_type": "code",
   "execution_count": 18,
   "outputs": [
    {
     "data": {
      "text/plain": "0.6176470588235294"
     },
     "execution_count": 18,
     "metadata": {},
     "output_type": "execute_result"
    }
   ],
   "source": [
    "demographic_parity_ratio(y_test, y_pred, sensitive_features=z_test)"
   ],
   "metadata": {
    "collapsed": false,
    "ExecuteTime": {
     "end_time": "2024-03-26T19:18:05.543307700Z",
     "start_time": "2024-03-26T19:18:05.500837300Z"
    }
   },
   "id": "5e6e573628dcae13"
  },
  {
   "cell_type": "markdown",
   "source": [
    "#### Mitigation"
   ],
   "metadata": {
    "collapsed": false
   },
   "id": "2de94abc45d20ecf"
  },
  {
   "cell_type": "code",
   "execution_count": 24,
   "outputs": [],
   "source": [
    "from fairlearn.reductions import DemographicParity, ExponentiatedGradient"
   ],
   "metadata": {
    "collapsed": false,
    "ExecuteTime": {
     "end_time": "2024-03-26T19:25:45.789362600Z",
     "start_time": "2024-03-26T19:25:45.759282900Z"
    }
   },
   "id": "cb5a058fc758f4e4"
  },
  {
   "cell_type": "code",
   "execution_count": 38,
   "outputs": [],
   "source": [
    "dp = DemographicParity(difference_bound=0.01)"
   ],
   "metadata": {
    "collapsed": false,
    "ExecuteTime": {
     "end_time": "2024-03-26T19:52:21.207706600Z",
     "start_time": "2024-03-26T19:52:21.156711300Z"
    }
   },
   "id": "f0abce768b86bf4b"
  },
  {
   "cell_type": "code",
   "execution_count": 39,
   "outputs": [
    {
     "name": "stderr",
     "output_type": "stream",
     "text": [
      "C:\\Users\\Mateusz\\miniconda3\\envs\\fairness-toolkits\\Lib\\site-packages\\fairlearn\\reductions\\_moments\\utility_parity.py:214: FutureWarning: ChainedAssignmentError: behaviour will change in pandas 3.0!\n",
      "You are setting values through chained assignment. Currently this works in certain cases, but when using Copy-on-Write (which will become the default behaviour in pandas 3.0) this will never work to update the original DataFrame or Series, because the intermediate object on which we are setting values will behave as a copy.\n",
      "A typical example is when you are setting values in a column of a DataFrame, like:\n",
      "\n",
      "df[\"col\"][row_indexer] = value\n",
      "\n",
      "Use `df.loc[row_indexer, \"col\"] = values` instead, to perform the assignment in a single step and ensure this keeps updating the original `df`.\n",
      "\n",
      "See the caveats in the documentation: https://pandas.pydata.org/pandas-docs/stable/user_guide/indexing.html#returning-a-view-versus-a-copy\n",
      "\n",
      "  self.pos_basis[i][\"+\", e, g] = 1\n",
      "C:\\Users\\Mateusz\\miniconda3\\envs\\fairness-toolkits\\Lib\\site-packages\\fairlearn\\reductions\\_moments\\utility_parity.py:215: FutureWarning: ChainedAssignmentError: behaviour will change in pandas 3.0!\n",
      "You are setting values through chained assignment. Currently this works in certain cases, but when using Copy-on-Write (which will become the default behaviour in pandas 3.0) this will never work to update the original DataFrame or Series, because the intermediate object on which we are setting values will behave as a copy.\n",
      "A typical example is when you are setting values in a column of a DataFrame, like:\n",
      "\n",
      "df[\"col\"][row_indexer] = value\n",
      "\n",
      "Use `df.loc[row_indexer, \"col\"] = values` instead, to perform the assignment in a single step and ensure this keeps updating the original `df`.\n",
      "\n",
      "See the caveats in the documentation: https://pandas.pydata.org/pandas-docs/stable/user_guide/indexing.html#returning-a-view-versus-a-copy\n",
      "\n",
      "  self.neg_basis[i][\"-\", e, g] = 1\n",
      "C:\\Users\\Mateusz\\miniconda3\\envs\\fairness-toolkits\\Lib\\site-packages\\fairlearn\\reductions\\_moments\\utility_parity.py:214: FutureWarning: ChainedAssignmentError: behaviour will change in pandas 3.0!\n",
      "You are setting values through chained assignment. Currently this works in certain cases, but when using Copy-on-Write (which will become the default behaviour in pandas 3.0) this will never work to update the original DataFrame or Series, because the intermediate object on which we are setting values will behave as a copy.\n",
      "A typical example is when you are setting values in a column of a DataFrame, like:\n",
      "\n",
      "df[\"col\"][row_indexer] = value\n",
      "\n",
      "Use `df.loc[row_indexer, \"col\"] = values` instead, to perform the assignment in a single step and ensure this keeps updating the original `df`.\n",
      "\n",
      "See the caveats in the documentation: https://pandas.pydata.org/pandas-docs/stable/user_guide/indexing.html#returning-a-view-versus-a-copy\n",
      "\n",
      "  self.pos_basis[i][\"+\", e, g] = 1\n",
      "C:\\Users\\Mateusz\\miniconda3\\envs\\fairness-toolkits\\Lib\\site-packages\\fairlearn\\reductions\\_moments\\utility_parity.py:215: FutureWarning: ChainedAssignmentError: behaviour will change in pandas 3.0!\n",
      "You are setting values through chained assignment. Currently this works in certain cases, but when using Copy-on-Write (which will become the default behaviour in pandas 3.0) this will never work to update the original DataFrame or Series, because the intermediate object on which we are setting values will behave as a copy.\n",
      "A typical example is when you are setting values in a column of a DataFrame, like:\n",
      "\n",
      "df[\"col\"][row_indexer] = value\n",
      "\n",
      "Use `df.loc[row_indexer, \"col\"] = values` instead, to perform the assignment in a single step and ensure this keeps updating the original `df`.\n",
      "\n",
      "See the caveats in the documentation: https://pandas.pydata.org/pandas-docs/stable/user_guide/indexing.html#returning-a-view-versus-a-copy\n",
      "\n",
      "  self.neg_basis[i][\"-\", e, g] = 1\n",
      "C:\\Users\\Mateusz\\miniconda3\\envs\\fairness-toolkits\\Lib\\site-packages\\fairlearn\\reductions\\_moments\\utility_parity.py:214: FutureWarning: ChainedAssignmentError: behaviour will change in pandas 3.0!\n",
      "You are setting values through chained assignment. Currently this works in certain cases, but when using Copy-on-Write (which will become the default behaviour in pandas 3.0) this will never work to update the original DataFrame or Series, because the intermediate object on which we are setting values will behave as a copy.\n",
      "A typical example is when you are setting values in a column of a DataFrame, like:\n",
      "\n",
      "df[\"col\"][row_indexer] = value\n",
      "\n",
      "Use `df.loc[row_indexer, \"col\"] = values` instead, to perform the assignment in a single step and ensure this keeps updating the original `df`.\n",
      "\n",
      "See the caveats in the documentation: https://pandas.pydata.org/pandas-docs/stable/user_guide/indexing.html#returning-a-view-versus-a-copy\n",
      "\n",
      "  self.pos_basis[i][\"+\", e, g] = 1\n",
      "C:\\Users\\Mateusz\\miniconda3\\envs\\fairness-toolkits\\Lib\\site-packages\\fairlearn\\reductions\\_moments\\utility_parity.py:215: FutureWarning: ChainedAssignmentError: behaviour will change in pandas 3.0!\n",
      "You are setting values through chained assignment. Currently this works in certain cases, but when using Copy-on-Write (which will become the default behaviour in pandas 3.0) this will never work to update the original DataFrame or Series, because the intermediate object on which we are setting values will behave as a copy.\n",
      "A typical example is when you are setting values in a column of a DataFrame, like:\n",
      "\n",
      "df[\"col\"][row_indexer] = value\n",
      "\n",
      "Use `df.loc[row_indexer, \"col\"] = values` instead, to perform the assignment in a single step and ensure this keeps updating the original `df`.\n",
      "\n",
      "See the caveats in the documentation: https://pandas.pydata.org/pandas-docs/stable/user_guide/indexing.html#returning-a-view-versus-a-copy\n",
      "\n",
      "  self.neg_basis[i][\"-\", e, g] = 1\n"
     ]
    },
    {
     "name": "stdout",
     "output_type": "stream",
     "text": [
      "0:\tlearn: 0.6899835\ttotal: 5.55ms\tremaining: 16.7s\n",
      "250:\tlearn: 0.4704244\ttotal: 1.79s\tremaining: 19.6s\n",
      "500:\tlearn: 0.4235692\ttotal: 4.33s\tremaining: 21.6s\n",
      "750:\tlearn: 0.3888618\ttotal: 6.52s\tremaining: 19.5s\n",
      "1000:\tlearn: 0.3559247\ttotal: 8.78s\tremaining: 17.5s\n",
      "1250:\tlearn: 0.3269348\ttotal: 10.3s\tremaining: 14.3s\n",
      "1500:\tlearn: 0.3030500\ttotal: 11.3s\tremaining: 11.3s\n",
      "1750:\tlearn: 0.2826410\ttotal: 12.1s\tremaining: 8.65s\n",
      "2000:\tlearn: 0.2646425\ttotal: 13s\tremaining: 6.5s\n",
      "2250:\tlearn: 0.2486124\ttotal: 13.7s\tremaining: 4.57s\n",
      "2500:\tlearn: 0.2337442\ttotal: 14.6s\tremaining: 2.92s\n",
      "2750:\tlearn: 0.2201144\ttotal: 15.6s\tremaining: 1.41s\n",
      "2999:\tlearn: 0.2080692\ttotal: 16.4s\tremaining: 0us\n",
      "0:\tlearn: 0.6899835\ttotal: 2.92ms\tremaining: 8.77s\n",
      "250:\tlearn: 0.4704244\ttotal: 731ms\tremaining: 8.01s\n",
      "500:\tlearn: 0.4235692\ttotal: 1.42s\tremaining: 7.1s\n",
      "750:\tlearn: 0.3888618\ttotal: 2.14s\tremaining: 6.42s\n",
      "1000:\tlearn: 0.3559247\ttotal: 2.8s\tremaining: 5.6s\n",
      "1250:\tlearn: 0.3269348\ttotal: 3.48s\tremaining: 4.86s\n",
      "1500:\tlearn: 0.3030500\ttotal: 4.31s\tremaining: 4.3s\n",
      "1750:\tlearn: 0.2826410\ttotal: 5.28s\tremaining: 3.77s\n",
      "2000:\tlearn: 0.2646425\ttotal: 6.26s\tremaining: 3.12s\n",
      "2250:\tlearn: 0.2486124\ttotal: 7.05s\tremaining: 2.35s\n",
      "2500:\tlearn: 0.2337442\ttotal: 7.85s\tremaining: 1.57s\n",
      "2750:\tlearn: 0.2201144\ttotal: 8.59s\tremaining: 777ms\n",
      "2999:\tlearn: 0.2080692\ttotal: 9.3s\tremaining: 0us\n",
      "0:\tlearn: 0.6899500\ttotal: 3.1ms\tremaining: 9.29s\n",
      "250:\tlearn: 0.4631758\ttotal: 976ms\tremaining: 10.7s\n",
      "500:\tlearn: 0.4128834\ttotal: 1.87s\tremaining: 9.35s\n",
      "750:\tlearn: 0.3766196\ttotal: 2.56s\tremaining: 7.67s\n",
      "1000:\tlearn: 0.3432239\ttotal: 3.37s\tremaining: 6.74s\n",
      "1250:\tlearn: 0.3141468\ttotal: 4.45s\tremaining: 6.22s\n",
      "1500:\tlearn: 0.2901405\ttotal: 5.38s\tremaining: 5.37s\n",
      "1750:\tlearn: 0.2699466\ttotal: 6.2s\tremaining: 4.42s\n",
      "2000:\tlearn: 0.2514411\ttotal: 6.94s\tremaining: 3.46s\n",
      "2250:\tlearn: 0.2346311\ttotal: 7.82s\tremaining: 2.6s\n",
      "2500:\tlearn: 0.2196269\ttotal: 8.7s\tremaining: 1.74s\n",
      "2750:\tlearn: 0.2058536\ttotal: 9.77s\tremaining: 884ms\n",
      "2999:\tlearn: 0.1935879\ttotal: 10.6s\tremaining: 0us\n",
      "0:\tlearn: 0.6899677\ttotal: 3.5ms\tremaining: 10.5s\n",
      "250:\tlearn: 0.4709117\ttotal: 721ms\tremaining: 7.89s\n",
      "500:\tlearn: 0.4239841\ttotal: 1.46s\tremaining: 7.27s\n",
      "750:\tlearn: 0.3892670\ttotal: 2.13s\tremaining: 6.38s\n",
      "1000:\tlearn: 0.3554414\ttotal: 2.87s\tremaining: 5.73s\n",
      "1250:\tlearn: 0.3268816\ttotal: 3.55s\tremaining: 4.97s\n",
      "1500:\tlearn: 0.3031370\ttotal: 4.24s\tremaining: 4.23s\n",
      "1750:\tlearn: 0.2821845\ttotal: 4.99s\tremaining: 3.56s\n",
      "2000:\tlearn: 0.2645827\ttotal: 5.72s\tremaining: 2.86s\n",
      "2250:\tlearn: 0.2484034\ttotal: 6.53s\tremaining: 2.17s\n",
      "2500:\tlearn: 0.2337194\ttotal: 7.22s\tremaining: 1.44s\n",
      "2750:\tlearn: 0.2203759\ttotal: 8s\tremaining: 724ms\n",
      "2999:\tlearn: 0.2081542\ttotal: 8.93s\tremaining: 0us\n",
      "0:\tlearn: 0.6630190\ttotal: 2.81ms\tremaining: 8.44s\n",
      "250:\tlearn: 0.0022405\ttotal: 780ms\tremaining: 8.55s\n",
      "500:\tlearn: 0.0007476\ttotal: 1.51s\tremaining: 7.53s\n",
      "750:\tlearn: 0.0007332\ttotal: 2.06s\tremaining: 6.17s\n",
      "1000:\tlearn: 0.0007228\ttotal: 2.68s\tremaining: 5.34s\n",
      "1250:\tlearn: 0.0007175\ttotal: 3.18s\tremaining: 4.45s\n",
      "1500:\tlearn: 0.0007165\ttotal: 3.58s\tremaining: 3.58s\n",
      "1750:\tlearn: 0.0007158\ttotal: 4.11s\tremaining: 2.93s\n",
      "2000:\tlearn: 0.0007155\ttotal: 4.64s\tremaining: 2.31s\n",
      "2250:\tlearn: 0.0007147\ttotal: 5.16s\tremaining: 1.72s\n",
      "2500:\tlearn: 0.0007131\ttotal: 5.64s\tremaining: 1.13s\n",
      "2750:\tlearn: 0.0007127\ttotal: 6.07s\tremaining: 550ms\n",
      "2999:\tlearn: 0.0007123\ttotal: 6.67s\tremaining: 0us\n",
      "0:\tlearn: 0.6891886\ttotal: 3.64ms\tremaining: 10.9s\n",
      "250:\tlearn: 0.4452971\ttotal: 767ms\tremaining: 8.4s\n",
      "500:\tlearn: 0.3975713\ttotal: 1.51s\tremaining: 7.53s\n",
      "750:\tlearn: 0.3628981\ttotal: 2.27s\tremaining: 6.79s\n",
      "1000:\tlearn: 0.3322874\ttotal: 2.96s\tremaining: 5.91s\n",
      "1250:\tlearn: 0.3042153\ttotal: 3.81s\tremaining: 5.33s\n",
      "1500:\tlearn: 0.2807674\ttotal: 4.52s\tremaining: 4.52s\n",
      "1750:\tlearn: 0.2612154\ttotal: 5.17s\tremaining: 3.69s\n",
      "2000:\tlearn: 0.2447521\ttotal: 5.84s\tremaining: 2.91s\n",
      "2250:\tlearn: 0.2295484\ttotal: 6.58s\tremaining: 2.19s\n",
      "2500:\tlearn: 0.2149353\ttotal: 7.52s\tremaining: 1.5s\n",
      "2750:\tlearn: 0.2015764\ttotal: 8.28s\tremaining: 749ms\n",
      "2999:\tlearn: 0.1891914\ttotal: 9.07s\tremaining: 0us\n",
      "0:\tlearn: 0.6899745\ttotal: 3.88ms\tremaining: 11.6s\n",
      "250:\tlearn: 0.4704906\ttotal: 913ms\tremaining: 9.99s\n",
      "500:\tlearn: 0.4251132\ttotal: 1.85s\tremaining: 9.24s\n",
      "750:\tlearn: 0.3896194\ttotal: 2.79s\tremaining: 8.36s\n",
      "1000:\tlearn: 0.3561192\ttotal: 3.53s\tremaining: 7.06s\n",
      "1250:\tlearn: 0.3279310\ttotal: 4.29s\tremaining: 6s\n",
      "1500:\tlearn: 0.3044877\ttotal: 5.08s\tremaining: 5.07s\n",
      "1750:\tlearn: 0.2840253\ttotal: 5.88s\tremaining: 4.19s\n",
      "2000:\tlearn: 0.2661335\ttotal: 6.79s\tremaining: 3.39s\n",
      "2250:\tlearn: 0.2496685\ttotal: 7.54s\tremaining: 2.51s\n",
      "2500:\tlearn: 0.2344742\ttotal: 8.32s\tremaining: 1.66s\n",
      "2750:\tlearn: 0.2208484\ttotal: 9.08s\tremaining: 822ms\n",
      "2999:\tlearn: 0.2085607\ttotal: 9.84s\tremaining: 0us\n",
      "0:\tlearn: 0.6630251\ttotal: 4.53ms\tremaining: 13.6s\n",
      "250:\tlearn: 0.0023086\ttotal: 762ms\tremaining: 8.35s\n",
      "500:\tlearn: 0.0007721\ttotal: 1.41s\tremaining: 7.05s\n",
      "750:\tlearn: 0.0007087\ttotal: 1.93s\tremaining: 5.77s\n",
      "1000:\tlearn: 0.0007080\ttotal: 2.39s\tremaining: 4.78s\n",
      "1250:\tlearn: 0.0007074\ttotal: 2.97s\tremaining: 4.16s\n",
      "1500:\tlearn: 0.0007065\ttotal: 3.59s\tremaining: 3.59s\n",
      "1750:\tlearn: 0.0007059\ttotal: 4.1s\tremaining: 2.92s\n",
      "2000:\tlearn: 0.0007055\ttotal: 4.64s\tremaining: 2.31s\n",
      "2250:\tlearn: 0.0007052\ttotal: 5.24s\tremaining: 1.74s\n",
      "2500:\tlearn: 0.0007045\ttotal: 6.23s\tremaining: 1.24s\n",
      "2750:\tlearn: 0.0007035\ttotal: 7.37s\tremaining: 667ms\n",
      "2999:\tlearn: 0.0007030\ttotal: 8.01s\tremaining: 0us\n",
      "0:\tlearn: 0.6899585\ttotal: 2.59ms\tremaining: 7.76s\n",
      "250:\tlearn: 0.4695291\ttotal: 766ms\tremaining: 8.38s\n",
      "500:\tlearn: 0.4222586\ttotal: 1.44s\tremaining: 7.16s\n",
      "750:\tlearn: 0.3884039\ttotal: 2.04s\tremaining: 6.13s\n",
      "1000:\tlearn: 0.3564599\ttotal: 2.75s\tremaining: 5.5s\n",
      "1250:\tlearn: 0.3273422\ttotal: 4.5s\tremaining: 6.29s\n",
      "1500:\tlearn: 0.3042266\ttotal: 7.33s\tremaining: 7.32s\n",
      "1750:\tlearn: 0.2839391\ttotal: 9.4s\tremaining: 6.71s\n",
      "2000:\tlearn: 0.2654880\ttotal: 10.5s\tremaining: 5.25s\n",
      "2250:\tlearn: 0.2493326\ttotal: 11.8s\tremaining: 3.93s\n",
      "2500:\tlearn: 0.2350088\ttotal: 13.5s\tremaining: 2.69s\n",
      "2750:\tlearn: 0.2221322\ttotal: 14.3s\tremaining: 1.29s\n",
      "2999:\tlearn: 0.2095361\ttotal: 15s\tremaining: 0us\n",
      "0:\tlearn: 0.6899718\ttotal: 2.27ms\tremaining: 6.82s\n",
      "250:\tlearn: 0.4706670\ttotal: 1.14s\tremaining: 12.4s\n",
      "500:\tlearn: 0.4244621\ttotal: 2.09s\tremaining: 10.4s\n",
      "750:\tlearn: 0.3901837\ttotal: 3.07s\tremaining: 9.18s\n",
      "1000:\tlearn: 0.3572063\ttotal: 4.39s\tremaining: 8.78s\n",
      "1250:\tlearn: 0.3280721\ttotal: 5.29s\tremaining: 7.4s\n",
      "1500:\tlearn: 0.3049256\ttotal: 6.13s\tremaining: 6.12s\n",
      "1750:\tlearn: 0.2845597\ttotal: 7s\tremaining: 4.99s\n",
      "2000:\tlearn: 0.2663914\ttotal: 7.69s\tremaining: 3.84s\n",
      "2250:\tlearn: 0.2501520\ttotal: 8.34s\tremaining: 2.78s\n",
      "2500:\tlearn: 0.2352781\ttotal: 9.02s\tremaining: 1.8s\n",
      "2750:\tlearn: 0.2214119\ttotal: 9.7s\tremaining: 878ms\n",
      "2999:\tlearn: 0.2087933\ttotal: 10.5s\tremaining: 0us\n",
      "0:\tlearn: 0.6835481\ttotal: 3.13ms\tremaining: 9.39s\n",
      "250:\tlearn: 0.2325456\ttotal: 784ms\tremaining: 8.59s\n",
      "500:\tlearn: 0.1963082\ttotal: 1.58s\tremaining: 7.88s\n",
      "750:\tlearn: 0.1739115\ttotal: 2.22s\tremaining: 6.65s\n",
      "1000:\tlearn: 0.1557120\ttotal: 2.88s\tremaining: 5.76s\n",
      "1250:\tlearn: 0.1418244\ttotal: 3.66s\tremaining: 5.12s\n",
      "1500:\tlearn: 0.1291764\ttotal: 4.41s\tremaining: 4.4s\n",
      "1750:\tlearn: 0.1185593\ttotal: 5.09s\tremaining: 3.63s\n",
      "2000:\tlearn: 0.1104041\ttotal: 5.91s\tremaining: 2.95s\n",
      "2250:\tlearn: 0.1029025\ttotal: 6.86s\tremaining: 2.28s\n",
      "2500:\tlearn: 0.0960670\ttotal: 7.66s\tremaining: 1.53s\n",
      "2750:\tlearn: 0.0896047\ttotal: 8.66s\tremaining: 784ms\n",
      "2999:\tlearn: 0.0838930\ttotal: 9.53s\tremaining: 0us\n",
      "0:\tlearn: 0.6899229\ttotal: 2.54ms\tremaining: 7.62s\n",
      "250:\tlearn: 0.4584173\ttotal: 861ms\tremaining: 9.42s\n",
      "500:\tlearn: 0.4069327\ttotal: 1.93s\tremaining: 9.62s\n",
      "750:\tlearn: 0.3707431\ttotal: 2.92s\tremaining: 8.73s\n",
      "1000:\tlearn: 0.3380550\ttotal: 3.85s\tremaining: 7.68s\n",
      "1250:\tlearn: 0.3093534\ttotal: 4.76s\tremaining: 6.65s\n",
      "1500:\tlearn: 0.2854396\ttotal: 5.47s\tremaining: 5.46s\n",
      "1750:\tlearn: 0.2657100\ttotal: 6.18s\tremaining: 4.41s\n",
      "2000:\tlearn: 0.2478214\ttotal: 7.12s\tremaining: 3.55s\n",
      "2250:\tlearn: 0.2323777\ttotal: 8.04s\tremaining: 2.68s\n",
      "2500:\tlearn: 0.2181073\ttotal: 8.88s\tremaining: 1.77s\n",
      "2750:\tlearn: 0.2052406\ttotal: 9.67s\tremaining: 876ms\n",
      "2999:\tlearn: 0.1936769\ttotal: 10.3s\tremaining: 0us\n",
      "0:\tlearn: 0.6899650\ttotal: 2.1ms\tremaining: 6.31s\n",
      "250:\tlearn: 0.4698899\ttotal: 665ms\tremaining: 7.28s\n",
      "500:\tlearn: 0.4250963\ttotal: 1.42s\tremaining: 7.07s\n",
      "750:\tlearn: 0.3905134\ttotal: 2.31s\tremaining: 6.91s\n",
      "1000:\tlearn: 0.3565375\ttotal: 3.1s\tremaining: 6.2s\n",
      "1250:\tlearn: 0.3285141\ttotal: 3.92s\tremaining: 5.48s\n",
      "1500:\tlearn: 0.3054525\ttotal: 4.72s\tremaining: 4.72s\n",
      "1750:\tlearn: 0.2855428\ttotal: 5.47s\tremaining: 3.9s\n",
      "2000:\tlearn: 0.2675938\ttotal: 6.27s\tremaining: 3.13s\n",
      "2250:\tlearn: 0.2512037\ttotal: 7.08s\tremaining: 2.36s\n",
      "2500:\tlearn: 0.2363784\ttotal: 7.98s\tremaining: 1.59s\n",
      "2750:\tlearn: 0.2233520\ttotal: 8.97s\tremaining: 812ms\n",
      "2999:\tlearn: 0.2109088\ttotal: 10s\tremaining: 0us\n",
      "0:\tlearn: 0.6741421\ttotal: 4.01ms\tremaining: 12s\n",
      "250:\tlearn: 0.0648678\ttotal: 914ms\tremaining: 10s\n",
      "500:\tlearn: 0.0503299\ttotal: 1.79s\tremaining: 8.92s\n",
      "750:\tlearn: 0.0453767\ttotal: 2.68s\tremaining: 8.02s\n",
      "1000:\tlearn: 0.0430565\ttotal: 3.55s\tremaining: 7.1s\n",
      "1250:\tlearn: 0.0384339\ttotal: 4.31s\tremaining: 6.03s\n",
      "1500:\tlearn: 0.0333276\ttotal: 5.06s\tremaining: 5.06s\n",
      "1750:\tlearn: 0.0286565\ttotal: 5.76s\tremaining: 4.11s\n",
      "2000:\tlearn: 0.0244500\ttotal: 6.58s\tremaining: 3.29s\n",
      "2250:\tlearn: 0.0217650\ttotal: 7.37s\tremaining: 2.45s\n",
      "2500:\tlearn: 0.0197186\ttotal: 8.2s\tremaining: 1.64s\n",
      "2750:\tlearn: 0.0181237\ttotal: 8.92s\tremaining: 808ms\n",
      "2999:\tlearn: 0.0171060\ttotal: 9.76s\tremaining: 0us\n",
      "0:\tlearn: 0.6890846\ttotal: 3.48ms\tremaining: 10.4s\n",
      "250:\tlearn: 0.4336167\ttotal: 834ms\tremaining: 9.13s\n",
      "500:\tlearn: 0.3839149\ttotal: 1.58s\tremaining: 7.86s\n",
      "750:\tlearn: 0.3490567\ttotal: 2.38s\tremaining: 7.13s\n",
      "1000:\tlearn: 0.3196903\ttotal: 3.29s\tremaining: 6.58s\n",
      "1250:\tlearn: 0.2923006\ttotal: 4.04s\tremaining: 5.64s\n",
      "1500:\tlearn: 0.2692671\ttotal: 4.8s\tremaining: 4.8s\n",
      "1750:\tlearn: 0.2495098\ttotal: 5.69s\tremaining: 4.06s\n",
      "2000:\tlearn: 0.2334231\ttotal: 6.52s\tremaining: 3.25s\n",
      "2250:\tlearn: 0.2184987\ttotal: 7.25s\tremaining: 2.41s\n",
      "2500:\tlearn: 0.2050441\ttotal: 7.89s\tremaining: 1.57s\n",
      "2750:\tlearn: 0.1926018\ttotal: 8.54s\tremaining: 773ms\n",
      "2999:\tlearn: 0.1811931\ttotal: 9.22s\tremaining: 0us\n",
      "0:\tlearn: 0.6899621\ttotal: 2.46ms\tremaining: 7.39s\n",
      "250:\tlearn: 0.4687431\ttotal: 704ms\tremaining: 7.71s\n",
      "500:\tlearn: 0.4229362\ttotal: 1.39s\tremaining: 6.94s\n",
      "750:\tlearn: 0.3876762\ttotal: 2.02s\tremaining: 6.06s\n",
      "1000:\tlearn: 0.3549333\ttotal: 2.93s\tremaining: 5.85s\n",
      "1250:\tlearn: 0.3268049\ttotal: 4.51s\tremaining: 6.31s\n",
      "1500:\tlearn: 0.3032963\ttotal: 5.55s\tremaining: 5.54s\n",
      "1750:\tlearn: 0.2832052\ttotal: 6.37s\tremaining: 4.54s\n",
      "2000:\tlearn: 0.2655083\ttotal: 7.12s\tremaining: 3.55s\n",
      "2250:\tlearn: 0.2492089\ttotal: 7.96s\tremaining: 2.65s\n",
      "2500:\tlearn: 0.2344668\ttotal: 8.81s\tremaining: 1.76s\n",
      "2750:\tlearn: 0.2209785\ttotal: 9.89s\tremaining: 895ms\n",
      "2999:\tlearn: 0.2087411\ttotal: 11.1s\tremaining: 0us\n",
      "0:\tlearn: 0.6839202\ttotal: 4.46ms\tremaining: 13.4s\n",
      "250:\tlearn: 0.2436274\ttotal: 1.25s\tremaining: 13.7s\n",
      "500:\tlearn: 0.2039725\ttotal: 2.16s\tremaining: 10.8s\n",
      "750:\tlearn: 0.1803105\ttotal: 3.02s\tremaining: 9.06s\n",
      "1000:\tlearn: 0.1635609\ttotal: 3.8s\tremaining: 7.59s\n",
      "1250:\tlearn: 0.1498475\ttotal: 4.59s\tremaining: 6.42s\n",
      "1500:\tlearn: 0.1381152\ttotal: 5.29s\tremaining: 5.28s\n",
      "1750:\tlearn: 0.1285015\ttotal: 6.09s\tremaining: 4.34s\n",
      "2000:\tlearn: 0.1196055\ttotal: 6.88s\tremaining: 3.43s\n",
      "2250:\tlearn: 0.1112971\ttotal: 7.54s\tremaining: 2.51s\n",
      "2500:\tlearn: 0.1037443\ttotal: 8.25s\tremaining: 1.65s\n",
      "2750:\tlearn: 0.0970214\ttotal: 9.21s\tremaining: 834ms\n",
      "2999:\tlearn: 0.0916138\ttotal: 10.2s\tremaining: 0us\n",
      "0:\tlearn: 0.6861535\ttotal: 3.92ms\tremaining: 11.8s\n",
      "250:\tlearn: 0.4163345\ttotal: 1.17s\tremaining: 12.8s\n",
      "500:\tlearn: 0.3666416\ttotal: 2.28s\tremaining: 11.4s\n",
      "750:\tlearn: 0.3327081\ttotal: 4.19s\tremaining: 12.6s\n",
      "1000:\tlearn: 0.3026499\ttotal: 5.58s\tremaining: 11.1s\n",
      "1250:\tlearn: 0.2760996\ttotal: 7.48s\tremaining: 10.5s\n",
      "1500:\tlearn: 0.2539005\ttotal: 9.18s\tremaining: 9.17s\n",
      "1750:\tlearn: 0.2348332\ttotal: 10.7s\tremaining: 7.64s\n",
      "2000:\tlearn: 0.2186364\ttotal: 12.3s\tremaining: 6.12s\n",
      "2250:\tlearn: 0.2041812\ttotal: 13.7s\tremaining: 4.54s\n",
      "2500:\tlearn: 0.1912645\ttotal: 15s\tremaining: 2.98s\n",
      "2750:\tlearn: 0.1801541\ttotal: 16.8s\tremaining: 1.52s\n",
      "2999:\tlearn: 0.1694044\ttotal: 18.3s\tremaining: 0us\n",
      "0:\tlearn: 0.6899449\ttotal: 5.07ms\tremaining: 15.2s\n",
      "250:\tlearn: 0.4696921\ttotal: 1.56s\tremaining: 17.1s\n",
      "500:\tlearn: 0.4216257\ttotal: 3.57s\tremaining: 17.8s\n",
      "750:\tlearn: 0.3859263\ttotal: 5.35s\tremaining: 16s\n",
      "1000:\tlearn: 0.3521854\ttotal: 7.22s\tremaining: 14.4s\n",
      "1250:\tlearn: 0.3234216\ttotal: 8.63s\tremaining: 12.1s\n",
      "1500:\tlearn: 0.3000415\ttotal: 10.9s\tremaining: 10.9s\n",
      "1750:\tlearn: 0.2795383\ttotal: 12.4s\tremaining: 8.83s\n",
      "2000:\tlearn: 0.2616474\ttotal: 13.9s\tremaining: 6.96s\n",
      "2250:\tlearn: 0.2465651\ttotal: 15.3s\tremaining: 5.08s\n",
      "2500:\tlearn: 0.2328686\ttotal: 17s\tremaining: 3.4s\n",
      "2750:\tlearn: 0.2195826\ttotal: 18.5s\tremaining: 1.67s\n",
      "2999:\tlearn: 0.2070103\ttotal: 19.7s\tremaining: 0us\n",
      "0:\tlearn: 0.6861799\ttotal: 6.43ms\tremaining: 19.3s\n",
      "250:\tlearn: 0.3254746\ttotal: 1.76s\tremaining: 19.3s\n",
      "500:\tlearn: 0.2778542\ttotal: 3.65s\tremaining: 18.2s\n",
      "750:\tlearn: 0.2456714\ttotal: 4.99s\tremaining: 14.9s\n",
      "1000:\tlearn: 0.2208612\ttotal: 6.24s\tremaining: 12.5s\n",
      "1250:\tlearn: 0.2011549\ttotal: 8.02s\tremaining: 11.2s\n",
      "1500:\tlearn: 0.1836407\ttotal: 9.31s\tremaining: 9.29s\n",
      "1750:\tlearn: 0.1684186\ttotal: 10.6s\tremaining: 7.55s\n",
      "2000:\tlearn: 0.1557207\ttotal: 11.9s\tremaining: 5.94s\n",
      "2250:\tlearn: 0.1433176\ttotal: 13.7s\tremaining: 4.54s\n",
      "2500:\tlearn: 0.1333231\ttotal: 15.1s\tremaining: 3.02s\n",
      "2750:\tlearn: 0.1239907\ttotal: 18.1s\tremaining: 1.64s\n",
      "2999:\tlearn: 0.1156496\ttotal: 20.8s\tremaining: 0us\n",
      "0:\tlearn: 0.6902306\ttotal: 5.81ms\tremaining: 17.4s\n",
      "250:\tlearn: 0.4487058\ttotal: 2.87s\tremaining: 31.5s\n",
      "500:\tlearn: 0.3971728\ttotal: 5.58s\tremaining: 27.8s\n",
      "750:\tlearn: 0.3608431\ttotal: 7.88s\tremaining: 23.6s\n",
      "1000:\tlearn: 0.3286946\ttotal: 9.76s\tremaining: 19.5s\n",
      "1250:\tlearn: 0.3011752\ttotal: 11.8s\tremaining: 16.5s\n",
      "1500:\tlearn: 0.2773286\ttotal: 13.9s\tremaining: 13.9s\n",
      "1750:\tlearn: 0.2570427\ttotal: 15.7s\tremaining: 11.2s\n",
      "2000:\tlearn: 0.2391159\ttotal: 17.5s\tremaining: 8.71s\n",
      "2250:\tlearn: 0.2229928\ttotal: 19.2s\tremaining: 6.39s\n",
      "2500:\tlearn: 0.2086691\ttotal: 20.8s\tremaining: 4.14s\n",
      "2750:\tlearn: 0.1951178\ttotal: 23.3s\tremaining: 2.11s\n",
      "2999:\tlearn: 0.1832561\ttotal: 24.7s\tremaining: 0us\n",
      "0:\tlearn: 0.6899441\ttotal: 8.96ms\tremaining: 26.9s\n",
      "250:\tlearn: 0.4670539\ttotal: 1.19s\tremaining: 13s\n",
      "500:\tlearn: 0.4184932\ttotal: 2.48s\tremaining: 12.4s\n",
      "750:\tlearn: 0.3825171\ttotal: 4.7s\tremaining: 14.1s\n",
      "1000:\tlearn: 0.3478657\ttotal: 10s\tremaining: 20s\n",
      "1250:\tlearn: 0.3189049\ttotal: 11.7s\tremaining: 16.3s\n",
      "1500:\tlearn: 0.2956620\ttotal: 12.9s\tremaining: 12.9s\n",
      "1750:\tlearn: 0.2752159\ttotal: 14s\tremaining: 9.99s\n",
      "2000:\tlearn: 0.2573422\ttotal: 15.1s\tremaining: 7.52s\n",
      "2250:\tlearn: 0.2409951\ttotal: 16.1s\tremaining: 5.35s\n",
      "2500:\tlearn: 0.2269115\ttotal: 17.1s\tremaining: 3.4s\n",
      "2750:\tlearn: 0.2139650\ttotal: 18.1s\tremaining: 1.64s\n",
      "2999:\tlearn: 0.2019268\ttotal: 19.2s\tremaining: 0us\n",
      "0:\tlearn: 0.6883698\ttotal: 4.82ms\tremaining: 14.4s\n",
      "250:\tlearn: 0.4227213\ttotal: 1.08s\tremaining: 11.8s\n",
      "500:\tlearn: 0.3767414\ttotal: 2.21s\tremaining: 11s\n",
      "750:\tlearn: 0.3423982\ttotal: 3.36s\tremaining: 10.1s\n",
      "1000:\tlearn: 0.3115691\ttotal: 4.35s\tremaining: 8.7s\n",
      "1250:\tlearn: 0.2915875\ttotal: 5.43s\tremaining: 7.59s\n",
      "1500:\tlearn: 0.2743084\ttotal: 6.62s\tremaining: 6.61s\n",
      "1750:\tlearn: 0.2570685\ttotal: 7.8s\tremaining: 5.56s\n",
      "2000:\tlearn: 0.2410989\ttotal: 9.35s\tremaining: 4.67s\n",
      "2250:\tlearn: 0.2257921\ttotal: 10.8s\tremaining: 3.6s\n",
      "2500:\tlearn: 0.2117510\ttotal: 12.1s\tremaining: 2.41s\n",
      "2750:\tlearn: 0.1990451\ttotal: 13.8s\tremaining: 1.25s\n",
      "2999:\tlearn: 0.1878619\ttotal: 15.3s\tremaining: 0us\n",
      "0:\tlearn: 0.6899556\ttotal: 10.4ms\tremaining: 31.1s\n",
      "250:\tlearn: 0.4681486\ttotal: 1.45s\tremaining: 15.9s\n",
      "500:\tlearn: 0.4223019\ttotal: 2.93s\tremaining: 14.6s\n",
      "750:\tlearn: 0.3869097\ttotal: 5.51s\tremaining: 16.5s\n",
      "1000:\tlearn: 0.3559482\ttotal: 7.83s\tremaining: 15.6s\n",
      "1250:\tlearn: 0.3270705\ttotal: 9.37s\tremaining: 13.1s\n",
      "1500:\tlearn: 0.3042090\ttotal: 10.7s\tremaining: 10.7s\n",
      "1750:\tlearn: 0.2848089\ttotal: 11.8s\tremaining: 8.44s\n",
      "2000:\tlearn: 0.2671006\ttotal: 13.3s\tremaining: 6.65s\n",
      "2250:\tlearn: 0.2502889\ttotal: 14.6s\tremaining: 4.85s\n",
      "2500:\tlearn: 0.2354698\ttotal: 15.7s\tremaining: 3.12s\n",
      "2750:\tlearn: 0.2219151\ttotal: 16.5s\tremaining: 1.49s\n",
      "2999:\tlearn: 0.2094950\ttotal: 17.5s\tremaining: 0us\n",
      "0:\tlearn: 0.6899429\ttotal: 3.29ms\tremaining: 9.88s\n",
      "250:\tlearn: 0.4678281\ttotal: 816ms\tremaining: 8.93s\n",
      "500:\tlearn: 0.4209708\ttotal: 1.51s\tremaining: 7.54s\n",
      "750:\tlearn: 0.3847519\ttotal: 2.17s\tremaining: 6.49s\n",
      "1000:\tlearn: 0.3509961\ttotal: 2.88s\tremaining: 5.75s\n",
      "1250:\tlearn: 0.3223674\ttotal: 3.65s\tremaining: 5.11s\n",
      "1500:\tlearn: 0.2987946\ttotal: 4.31s\tremaining: 4.3s\n",
      "1750:\tlearn: 0.2789808\ttotal: 4.89s\tremaining: 3.49s\n",
      "2000:\tlearn: 0.2603732\ttotal: 5.53s\tremaining: 2.76s\n",
      "2250:\tlearn: 0.2444979\ttotal: 6.27s\tremaining: 2.08s\n",
      "2500:\tlearn: 0.2297100\ttotal: 6.96s\tremaining: 1.39s\n",
      "2750:\tlearn: 0.2164472\ttotal: 7.63s\tremaining: 691ms\n",
      "2999:\tlearn: 0.2042650\ttotal: 8.43s\tremaining: 0us\n",
      "0:\tlearn: 0.6885896\ttotal: 3.63ms\tremaining: 10.9s\n",
      "250:\tlearn: 0.3957485\ttotal: 997ms\tremaining: 10.9s\n",
      "500:\tlearn: 0.3497847\ttotal: 1.82s\tremaining: 9.1s\n",
      "750:\tlearn: 0.3167237\ttotal: 2.67s\tremaining: 8s\n",
      "1000:\tlearn: 0.2920276\ttotal: 3.4s\tremaining: 6.78s\n",
      "1250:\tlearn: 0.2746813\ttotal: 4.05s\tremaining: 5.66s\n",
      "1500:\tlearn: 0.2569750\ttotal: 4.59s\tremaining: 4.58s\n",
      "1750:\tlearn: 0.2397494\ttotal: 5.3s\tremaining: 3.78s\n",
      "2000:\tlearn: 0.2240952\ttotal: 5.99s\tremaining: 2.99s\n",
      "2250:\tlearn: 0.2098297\ttotal: 6.6s\tremaining: 2.2s\n",
      "2500:\tlearn: 0.1969731\ttotal: 7.25s\tremaining: 1.45s\n",
      "2750:\tlearn: 0.1850525\ttotal: 7.88s\tremaining: 713ms\n",
      "2999:\tlearn: 0.1746235\ttotal: 8.57s\tremaining: 0us\n",
      "0:\tlearn: 0.6899331\ttotal: 2.68ms\tremaining: 8.04s\n",
      "250:\tlearn: 0.4572552\ttotal: 684ms\tremaining: 7.49s\n",
      "500:\tlearn: 0.4051091\ttotal: 1.42s\tremaining: 7.06s\n",
      "750:\tlearn: 0.3677993\ttotal: 2.1s\tremaining: 6.29s\n",
      "1000:\tlearn: 0.3348925\ttotal: 2.85s\tremaining: 5.68s\n",
      "1250:\tlearn: 0.3063643\ttotal: 3.57s\tremaining: 4.99s\n",
      "1500:\tlearn: 0.2819412\ttotal: 4.29s\tremaining: 4.28s\n",
      "1750:\tlearn: 0.2608987\ttotal: 4.95s\tremaining: 3.53s\n",
      "2000:\tlearn: 0.2432949\ttotal: 5.64s\tremaining: 2.82s\n",
      "2250:\tlearn: 0.2272265\ttotal: 6.43s\tremaining: 2.14s\n",
      "2500:\tlearn: 0.2124421\ttotal: 7.11s\tremaining: 1.42s\n",
      "2750:\tlearn: 0.1987336\ttotal: 7.75s\tremaining: 702ms\n",
      "2999:\tlearn: 0.1863733\ttotal: 8.47s\tremaining: 0us\n",
      "0:\tlearn: 0.6899427\ttotal: 3.65ms\tremaining: 11s\n",
      "250:\tlearn: 0.4658897\ttotal: 752ms\tremaining: 8.24s\n",
      "500:\tlearn: 0.4174767\ttotal: 1.61s\tremaining: 8.02s\n",
      "750:\tlearn: 0.3818790\ttotal: 2.55s\tremaining: 7.64s\n",
      "1000:\tlearn: 0.3491312\ttotal: 3.31s\tremaining: 6.62s\n",
      "1250:\tlearn: 0.3203114\ttotal: 4.33s\tremaining: 6.05s\n",
      "1500:\tlearn: 0.2969719\ttotal: 5.13s\tremaining: 5.12s\n",
      "1750:\tlearn: 0.2764516\ttotal: 6.02s\tremaining: 4.29s\n",
      "2000:\tlearn: 0.2588180\ttotal: 6.93s\tremaining: 3.46s\n",
      "2250:\tlearn: 0.2424255\ttotal: 7.78s\tremaining: 2.59s\n",
      "2500:\tlearn: 0.2281610\ttotal: 8.79s\tremaining: 1.75s\n",
      "2750:\tlearn: 0.2151734\ttotal: 10s\tremaining: 905ms\n",
      "2999:\tlearn: 0.2036069\ttotal: 11.1s\tremaining: 0us\n",
      "0:\tlearn: 0.6883061\ttotal: 4.11ms\tremaining: 12.3s\n",
      "250:\tlearn: 0.3977617\ttotal: 972ms\tremaining: 10.6s\n",
      "500:\tlearn: 0.3509708\ttotal: 1.65s\tremaining: 8.23s\n",
      "750:\tlearn: 0.3169952\ttotal: 2.33s\tremaining: 6.99s\n",
      "1000:\tlearn: 0.2922375\ttotal: 3.07s\tremaining: 6.14s\n",
      "1250:\tlearn: 0.2742978\ttotal: 3.82s\tremaining: 5.34s\n",
      "1500:\tlearn: 0.2555143\ttotal: 4.58s\tremaining: 4.57s\n",
      "1750:\tlearn: 0.2376465\ttotal: 5.53s\tremaining: 3.95s\n",
      "2000:\tlearn: 0.2224806\ttotal: 6.46s\tremaining: 3.22s\n",
      "2250:\tlearn: 0.2089858\ttotal: 7.79s\tremaining: 2.59s\n",
      "2500:\tlearn: 0.1959856\ttotal: 8.79s\tremaining: 1.75s\n",
      "2750:\tlearn: 0.1843176\ttotal: 10s\tremaining: 907ms\n",
      "2999:\tlearn: 0.1740054\ttotal: 11.3s\tremaining: 0us\n",
      "0:\tlearn: 0.6833358\ttotal: 3.77ms\tremaining: 11.3s\n",
      "250:\tlearn: 0.2543084\ttotal: 1.21s\tremaining: 13.2s\n",
      "500:\tlearn: 0.2179310\ttotal: 2.17s\tremaining: 10.9s\n",
      "750:\tlearn: 0.1915673\ttotal: 3.04s\tremaining: 9.11s\n",
      "1000:\tlearn: 0.1715539\ttotal: 3.94s\tremaining: 7.87s\n",
      "1250:\tlearn: 0.1559941\ttotal: 4.75s\tremaining: 6.65s\n",
      "1500:\tlearn: 0.1426174\ttotal: 5.54s\tremaining: 5.53s\n",
      "1750:\tlearn: 0.1312592\ttotal: 6.38s\tremaining: 4.55s\n",
      "2000:\tlearn: 0.1211898\ttotal: 7.25s\tremaining: 3.62s\n",
      "2250:\tlearn: 0.1125692\ttotal: 8.25s\tremaining: 2.74s\n",
      "2500:\tlearn: 0.1044867\ttotal: 9.01s\tremaining: 1.8s\n",
      "2750:\tlearn: 0.0971010\ttotal: 9.83s\tremaining: 890ms\n",
      "2999:\tlearn: 0.0904459\ttotal: 10.6s\tremaining: 0us\n",
      "0:\tlearn: 0.6630252\ttotal: 2.44ms\tremaining: 7.31s\n",
      "250:\tlearn: 0.0023663\ttotal: 665ms\tremaining: 7.28s\n",
      "500:\tlearn: 0.0008190\ttotal: 1.27s\tremaining: 6.32s\n",
      "750:\tlearn: 0.0007398\ttotal: 1.78s\tremaining: 5.33s\n",
      "1000:\tlearn: 0.0007340\ttotal: 2.22s\tremaining: 4.44s\n",
      "1250:\tlearn: 0.0007332\ttotal: 2.75s\tremaining: 3.85s\n",
      "1500:\tlearn: 0.0007329\ttotal: 3.29s\tremaining: 3.29s\n",
      "1750:\tlearn: 0.0007329\ttotal: 3.77s\tremaining: 2.69s\n",
      "2000:\tlearn: 0.0007329\ttotal: 4.15s\tremaining: 2.07s\n",
      "2250:\tlearn: 0.0007329\ttotal: 4.57s\tremaining: 1.52s\n",
      "2500:\tlearn: 0.0007329\ttotal: 4.95s\tremaining: 988ms\n",
      "2750:\tlearn: 0.0007329\ttotal: 5.36s\tremaining: 485ms\n",
      "2999:\tlearn: 0.0007329\ttotal: 5.79s\tremaining: 0us\n",
      "0:\tlearn: 0.6631200\ttotal: 2.38ms\tremaining: 7.14s\n",
      "250:\tlearn: 0.0023673\ttotal: 613ms\tremaining: 6.71s\n",
      "500:\tlearn: 0.0007651\ttotal: 1.2s\tremaining: 5.99s\n",
      "750:\tlearn: 0.0007036\ttotal: 1.61s\tremaining: 4.83s\n",
      "1000:\tlearn: 0.0006986\ttotal: 2.08s\tremaining: 4.15s\n",
      "1250:\tlearn: 0.0006984\ttotal: 2.5s\tremaining: 3.49s\n",
      "1500:\tlearn: 0.0006984\ttotal: 3s\tremaining: 2.99s\n",
      "1750:\tlearn: 0.0006984\ttotal: 3.47s\tremaining: 2.47s\n",
      "2000:\tlearn: 0.0006984\ttotal: 3.9s\tremaining: 1.95s\n",
      "2250:\tlearn: 0.0006984\ttotal: 4.28s\tremaining: 1.42s\n",
      "2500:\tlearn: 0.0006984\ttotal: 4.63s\tremaining: 924ms\n",
      "2750:\tlearn: 0.0006984\ttotal: 5.03s\tremaining: 455ms\n",
      "2999:\tlearn: 0.0006984\ttotal: 5.44s\tremaining: 0us\n"
     ]
    },
    {
     "data": {
      "text/plain": "ExponentiatedGradient(constraints=<fairlearn.reductions._moments.utility_parity.DemographicParity object at 0x00000195075E0B10>,\n                      estimator=<catboost.core.CatBoostClassifier object at 0x0000019505E0DB90>,\n                      max_iter=10, nu=0.003809177931574343)",
      "text/html": "<style>#sk-container-id-1 {\n  /* Definition of color scheme common for light and dark mode */\n  --sklearn-color-text: black;\n  --sklearn-color-line: gray;\n  /* Definition of color scheme for unfitted estimators */\n  --sklearn-color-unfitted-level-0: #fff5e6;\n  --sklearn-color-unfitted-level-1: #f6e4d2;\n  --sklearn-color-unfitted-level-2: #ffe0b3;\n  --sklearn-color-unfitted-level-3: chocolate;\n  /* Definition of color scheme for fitted estimators */\n  --sklearn-color-fitted-level-0: #f0f8ff;\n  --sklearn-color-fitted-level-1: #d4ebff;\n  --sklearn-color-fitted-level-2: #b3dbfd;\n  --sklearn-color-fitted-level-3: cornflowerblue;\n\n  /* Specific color for light theme */\n  --sklearn-color-text-on-default-background: var(--sg-text-color, var(--theme-code-foreground, var(--jp-content-font-color1, black)));\n  --sklearn-color-background: var(--sg-background-color, var(--theme-background, var(--jp-layout-color0, white)));\n  --sklearn-color-border-box: var(--sg-text-color, var(--theme-code-foreground, var(--jp-content-font-color1, black)));\n  --sklearn-color-icon: #696969;\n\n  @media (prefers-color-scheme: dark) {\n    /* Redefinition of color scheme for dark theme */\n    --sklearn-color-text-on-default-background: var(--sg-text-color, var(--theme-code-foreground, var(--jp-content-font-color1, white)));\n    --sklearn-color-background: var(--sg-background-color, var(--theme-background, var(--jp-layout-color0, #111)));\n    --sklearn-color-border-box: var(--sg-text-color, var(--theme-code-foreground, var(--jp-content-font-color1, white)));\n    --sklearn-color-icon: #878787;\n  }\n}\n\n#sk-container-id-1 {\n  color: var(--sklearn-color-text);\n}\n\n#sk-container-id-1 pre {\n  padding: 0;\n}\n\n#sk-container-id-1 input.sk-hidden--visually {\n  border: 0;\n  clip: rect(1px 1px 1px 1px);\n  clip: rect(1px, 1px, 1px, 1px);\n  height: 1px;\n  margin: -1px;\n  overflow: hidden;\n  padding: 0;\n  position: absolute;\n  width: 1px;\n}\n\n#sk-container-id-1 div.sk-dashed-wrapped {\n  border: 1px dashed var(--sklearn-color-line);\n  margin: 0 0.4em 0.5em 0.4em;\n  box-sizing: border-box;\n  padding-bottom: 0.4em;\n  background-color: var(--sklearn-color-background);\n}\n\n#sk-container-id-1 div.sk-container {\n  /* jupyter's `normalize.less` sets `[hidden] { display: none; }`\n     but bootstrap.min.css set `[hidden] { display: none !important; }`\n     so we also need the `!important` here to be able to override the\n     default hidden behavior on the sphinx rendered scikit-learn.org.\n     See: https://github.com/scikit-learn/scikit-learn/issues/21755 */\n  display: inline-block !important;\n  position: relative;\n}\n\n#sk-container-id-1 div.sk-text-repr-fallback {\n  display: none;\n}\n\ndiv.sk-parallel-item,\ndiv.sk-serial,\ndiv.sk-item {\n  /* draw centered vertical line to link estimators */\n  background-image: linear-gradient(var(--sklearn-color-text-on-default-background), var(--sklearn-color-text-on-default-background));\n  background-size: 2px 100%;\n  background-repeat: no-repeat;\n  background-position: center center;\n}\n\n/* Parallel-specific style estimator block */\n\n#sk-container-id-1 div.sk-parallel-item::after {\n  content: \"\";\n  width: 100%;\n  border-bottom: 2px solid var(--sklearn-color-text-on-default-background);\n  flex-grow: 1;\n}\n\n#sk-container-id-1 div.sk-parallel {\n  display: flex;\n  align-items: stretch;\n  justify-content: center;\n  background-color: var(--sklearn-color-background);\n  position: relative;\n}\n\n#sk-container-id-1 div.sk-parallel-item {\n  display: flex;\n  flex-direction: column;\n}\n\n#sk-container-id-1 div.sk-parallel-item:first-child::after {\n  align-self: flex-end;\n  width: 50%;\n}\n\n#sk-container-id-1 div.sk-parallel-item:last-child::after {\n  align-self: flex-start;\n  width: 50%;\n}\n\n#sk-container-id-1 div.sk-parallel-item:only-child::after {\n  width: 0;\n}\n\n/* Serial-specific style estimator block */\n\n#sk-container-id-1 div.sk-serial {\n  display: flex;\n  flex-direction: column;\n  align-items: center;\n  background-color: var(--sklearn-color-background);\n  padding-right: 1em;\n  padding-left: 1em;\n}\n\n\n/* Toggleable style: style used for estimator/Pipeline/ColumnTransformer box that is\nclickable and can be expanded/collapsed.\n- Pipeline and ColumnTransformer use this feature and define the default style\n- Estimators will overwrite some part of the style using the `sk-estimator` class\n*/\n\n/* Pipeline and ColumnTransformer style (default) */\n\n#sk-container-id-1 div.sk-toggleable {\n  /* Default theme specific background. It is overwritten whether we have a\n  specific estimator or a Pipeline/ColumnTransformer */\n  background-color: var(--sklearn-color-background);\n}\n\n/* Toggleable label */\n#sk-container-id-1 label.sk-toggleable__label {\n  cursor: pointer;\n  display: block;\n  width: 100%;\n  margin-bottom: 0;\n  padding: 0.5em;\n  box-sizing: border-box;\n  text-align: center;\n}\n\n#sk-container-id-1 label.sk-toggleable__label-arrow:before {\n  /* Arrow on the left of the label */\n  content: \"▸\";\n  float: left;\n  margin-right: 0.25em;\n  color: var(--sklearn-color-icon);\n}\n\n#sk-container-id-1 label.sk-toggleable__label-arrow:hover:before {\n  color: var(--sklearn-color-text);\n}\n\n/* Toggleable content - dropdown */\n\n#sk-container-id-1 div.sk-toggleable__content {\n  max-height: 0;\n  max-width: 0;\n  overflow: hidden;\n  text-align: left;\n  /* unfitted */\n  background-color: var(--sklearn-color-unfitted-level-0);\n}\n\n#sk-container-id-1 div.sk-toggleable__content.fitted {\n  /* fitted */\n  background-color: var(--sklearn-color-fitted-level-0);\n}\n\n#sk-container-id-1 div.sk-toggleable__content pre {\n  margin: 0.2em;\n  border-radius: 0.25em;\n  color: var(--sklearn-color-text);\n  /* unfitted */\n  background-color: var(--sklearn-color-unfitted-level-0);\n}\n\n#sk-container-id-1 div.sk-toggleable__content.fitted pre {\n  /* unfitted */\n  background-color: var(--sklearn-color-fitted-level-0);\n}\n\n#sk-container-id-1 input.sk-toggleable__control:checked~div.sk-toggleable__content {\n  /* Expand drop-down */\n  max-height: 200px;\n  max-width: 100%;\n  overflow: auto;\n}\n\n#sk-container-id-1 input.sk-toggleable__control:checked~label.sk-toggleable__label-arrow:before {\n  content: \"▾\";\n}\n\n/* Pipeline/ColumnTransformer-specific style */\n\n#sk-container-id-1 div.sk-label input.sk-toggleable__control:checked~label.sk-toggleable__label {\n  color: var(--sklearn-color-text);\n  background-color: var(--sklearn-color-unfitted-level-2);\n}\n\n#sk-container-id-1 div.sk-label.fitted input.sk-toggleable__control:checked~label.sk-toggleable__label {\n  background-color: var(--sklearn-color-fitted-level-2);\n}\n\n/* Estimator-specific style */\n\n/* Colorize estimator box */\n#sk-container-id-1 div.sk-estimator input.sk-toggleable__control:checked~label.sk-toggleable__label {\n  /* unfitted */\n  background-color: var(--sklearn-color-unfitted-level-2);\n}\n\n#sk-container-id-1 div.sk-estimator.fitted input.sk-toggleable__control:checked~label.sk-toggleable__label {\n  /* fitted */\n  background-color: var(--sklearn-color-fitted-level-2);\n}\n\n#sk-container-id-1 div.sk-label label.sk-toggleable__label,\n#sk-container-id-1 div.sk-label label {\n  /* The background is the default theme color */\n  color: var(--sklearn-color-text-on-default-background);\n}\n\n/* On hover, darken the color of the background */\n#sk-container-id-1 div.sk-label:hover label.sk-toggleable__label {\n  color: var(--sklearn-color-text);\n  background-color: var(--sklearn-color-unfitted-level-2);\n}\n\n/* Label box, darken color on hover, fitted */\n#sk-container-id-1 div.sk-label.fitted:hover label.sk-toggleable__label.fitted {\n  color: var(--sklearn-color-text);\n  background-color: var(--sklearn-color-fitted-level-2);\n}\n\n/* Estimator label */\n\n#sk-container-id-1 div.sk-label label {\n  font-family: monospace;\n  font-weight: bold;\n  display: inline-block;\n  line-height: 1.2em;\n}\n\n#sk-container-id-1 div.sk-label-container {\n  text-align: center;\n}\n\n/* Estimator-specific */\n#sk-container-id-1 div.sk-estimator {\n  font-family: monospace;\n  border: 1px dotted var(--sklearn-color-border-box);\n  border-radius: 0.25em;\n  box-sizing: border-box;\n  margin-bottom: 0.5em;\n  /* unfitted */\n  background-color: var(--sklearn-color-unfitted-level-0);\n}\n\n#sk-container-id-1 div.sk-estimator.fitted {\n  /* fitted */\n  background-color: var(--sklearn-color-fitted-level-0);\n}\n\n/* on hover */\n#sk-container-id-1 div.sk-estimator:hover {\n  /* unfitted */\n  background-color: var(--sklearn-color-unfitted-level-2);\n}\n\n#sk-container-id-1 div.sk-estimator.fitted:hover {\n  /* fitted */\n  background-color: var(--sklearn-color-fitted-level-2);\n}\n\n/* Specification for estimator info (e.g. \"i\" and \"?\") */\n\n/* Common style for \"i\" and \"?\" */\n\n.sk-estimator-doc-link,\na:link.sk-estimator-doc-link,\na:visited.sk-estimator-doc-link {\n  float: right;\n  font-size: smaller;\n  line-height: 1em;\n  font-family: monospace;\n  background-color: var(--sklearn-color-background);\n  border-radius: 1em;\n  height: 1em;\n  width: 1em;\n  text-decoration: none !important;\n  margin-left: 1ex;\n  /* unfitted */\n  border: var(--sklearn-color-unfitted-level-1) 1pt solid;\n  color: var(--sklearn-color-unfitted-level-1);\n}\n\n.sk-estimator-doc-link.fitted,\na:link.sk-estimator-doc-link.fitted,\na:visited.sk-estimator-doc-link.fitted {\n  /* fitted */\n  border: var(--sklearn-color-fitted-level-1) 1pt solid;\n  color: var(--sklearn-color-fitted-level-1);\n}\n\n/* On hover */\ndiv.sk-estimator:hover .sk-estimator-doc-link:hover,\n.sk-estimator-doc-link:hover,\ndiv.sk-label-container:hover .sk-estimator-doc-link:hover,\n.sk-estimator-doc-link:hover {\n  /* unfitted */\n  background-color: var(--sklearn-color-unfitted-level-3);\n  color: var(--sklearn-color-background);\n  text-decoration: none;\n}\n\ndiv.sk-estimator.fitted:hover .sk-estimator-doc-link.fitted:hover,\n.sk-estimator-doc-link.fitted:hover,\ndiv.sk-label-container:hover .sk-estimator-doc-link.fitted:hover,\n.sk-estimator-doc-link.fitted:hover {\n  /* fitted */\n  background-color: var(--sklearn-color-fitted-level-3);\n  color: var(--sklearn-color-background);\n  text-decoration: none;\n}\n\n/* Span, style for the box shown on hovering the info icon */\n.sk-estimator-doc-link span {\n  display: none;\n  z-index: 9999;\n  position: relative;\n  font-weight: normal;\n  right: .2ex;\n  padding: .5ex;\n  margin: .5ex;\n  width: min-content;\n  min-width: 20ex;\n  max-width: 50ex;\n  color: var(--sklearn-color-text);\n  box-shadow: 2pt 2pt 4pt #999;\n  /* unfitted */\n  background: var(--sklearn-color-unfitted-level-0);\n  border: .5pt solid var(--sklearn-color-unfitted-level-3);\n}\n\n.sk-estimator-doc-link.fitted span {\n  /* fitted */\n  background: var(--sklearn-color-fitted-level-0);\n  border: var(--sklearn-color-fitted-level-3);\n}\n\n.sk-estimator-doc-link:hover span {\n  display: block;\n}\n\n/* \"?\"-specific style due to the `<a>` HTML tag */\n\n#sk-container-id-1 a.estimator_doc_link {\n  float: right;\n  font-size: 1rem;\n  line-height: 1em;\n  font-family: monospace;\n  background-color: var(--sklearn-color-background);\n  border-radius: 1rem;\n  height: 1rem;\n  width: 1rem;\n  text-decoration: none;\n  /* unfitted */\n  color: var(--sklearn-color-unfitted-level-1);\n  border: var(--sklearn-color-unfitted-level-1) 1pt solid;\n}\n\n#sk-container-id-1 a.estimator_doc_link.fitted {\n  /* fitted */\n  border: var(--sklearn-color-fitted-level-1) 1pt solid;\n  color: var(--sklearn-color-fitted-level-1);\n}\n\n/* On hover */\n#sk-container-id-1 a.estimator_doc_link:hover {\n  /* unfitted */\n  background-color: var(--sklearn-color-unfitted-level-3);\n  color: var(--sklearn-color-background);\n  text-decoration: none;\n}\n\n#sk-container-id-1 a.estimator_doc_link.fitted:hover {\n  /* fitted */\n  background-color: var(--sklearn-color-fitted-level-3);\n}\n</style><div id=\"sk-container-id-1\" class=\"sk-top-container\"><div class=\"sk-text-repr-fallback\"><pre>ExponentiatedGradient(constraints=&lt;fairlearn.reductions._moments.utility_parity.DemographicParity object at 0x00000195075E0B10&gt;,\n                      estimator=&lt;catboost.core.CatBoostClassifier object at 0x0000019505E0DB90&gt;,\n                      max_iter=10, nu=0.003809177931574343)</pre><b>In a Jupyter environment, please rerun this cell to show the HTML representation or trust the notebook. <br />On GitHub, the HTML representation is unable to render, please try loading this page with nbviewer.org.</b></div><div class=\"sk-container\" hidden><div class=\"sk-item sk-dashed-wrapped\"><div class=\"sk-label-container\"><div class=\"sk-label fitted sk-toggleable\"><input class=\"sk-toggleable__control sk-hidden--visually\" id=\"sk-estimator-id-1\" type=\"checkbox\" ><label for=\"sk-estimator-id-1\" class=\"sk-toggleable__label fitted sk-toggleable__label-arrow fitted\">&nbsp;ExponentiatedGradient<span class=\"sk-estimator-doc-link fitted\">i<span>Fitted</span></span></label><div class=\"sk-toggleable__content fitted\"><pre>ExponentiatedGradient(constraints=&lt;fairlearn.reductions._moments.utility_parity.DemographicParity object at 0x00000195075E0B10&gt;,\n                      estimator=&lt;catboost.core.CatBoostClassifier object at 0x0000019505E0DB90&gt;,\n                      max_iter=10, nu=0.003809177931574343)</pre></div> </div></div><div class=\"sk-parallel\"><div class=\"sk-parallel-item\"><div class=\"sk-item\"><div class=\"sk-label-container\"><div class=\"sk-label fitted sk-toggleable\"><input class=\"sk-toggleable__control sk-hidden--visually\" id=\"sk-estimator-id-2\" type=\"checkbox\" ><label for=\"sk-estimator-id-2\" class=\"sk-toggleable__label fitted sk-toggleable__label-arrow fitted\">estimator: CatBoostClassifier</label><div class=\"sk-toggleable__content fitted\"><pre>&lt;catboost.core.CatBoostClassifier object at 0x0000019505E0DB90&gt;</pre></div> </div></div><div class=\"sk-serial\"><div class=\"sk-item\"><div class=\"sk-estimator fitted sk-toggleable\"><input class=\"sk-toggleable__control sk-hidden--visually\" id=\"sk-estimator-id-3\" type=\"checkbox\" ><label for=\"sk-estimator-id-3\" class=\"sk-toggleable__label fitted sk-toggleable__label-arrow fitted\">CatBoostClassifier</label><div class=\"sk-toggleable__content fitted\"><pre>&lt;catboost.core.CatBoostClassifier object at 0x0000019505E0DB90&gt;</pre></div> </div></div></div></div></div></div></div></div></div>"
     },
     "execution_count": 39,
     "metadata": {},
     "output_type": "execute_result"
    }
   ],
   "source": [
    "reduction = ExponentiatedGradient(estimator=default_model.copy(), constraints=dp, max_iter=10)\n",
    "reduction.fit(X_train, y_train, sensitive_features=z_train)"
   ],
   "metadata": {
    "collapsed": false,
    "ExecuteTime": {
     "end_time": "2024-03-26T19:59:09.048923Z",
     "start_time": "2024-03-26T19:52:21.883775400Z"
    }
   },
   "id": "28de82c8c17d6bd5"
  },
  {
   "cell_type": "code",
   "execution_count": 42,
   "outputs": [],
   "source": [
    "y_pred_reduced = reduction.predict(X_test)"
   ],
   "metadata": {
    "collapsed": false,
    "ExecuteTime": {
     "end_time": "2024-03-26T20:02:31.844262100Z",
     "start_time": "2024-03-26T20:02:31.585519Z"
    }
   },
   "id": "8e97b4c932ad0e0"
  },
  {
   "cell_type": "code",
   "execution_count": 45,
   "outputs": [
    {
     "data": {
      "text/plain": "0.08333333333333337"
     },
     "execution_count": 45,
     "metadata": {},
     "output_type": "execute_result"
    }
   ],
   "source": [
    "demographic_parity_difference(y_test, y_pred_reduced, sensitive_features=z_test, method=\"to_overall\")"
   ],
   "metadata": {
    "collapsed": false,
    "ExecuteTime": {
     "end_time": "2024-03-26T20:02:56.560246900Z",
     "start_time": "2024-03-26T20:02:56.468609600Z"
    }
   },
   "id": "a1efa8e280c05d2e"
  },
  {
   "cell_type": "code",
   "execution_count": 46,
   "outputs": [
    {
     "data": {
      "text/plain": "0.8888888888888888"
     },
     "execution_count": 46,
     "metadata": {},
     "output_type": "execute_result"
    }
   ],
   "source": [
    "demographic_parity_ratio(y_test, y_pred_reduced, sensitive_features=z_test, method=\"to_overall\")"
   ],
   "metadata": {
    "collapsed": false,
    "ExecuteTime": {
     "end_time": "2024-03-26T20:03:13.738290600Z",
     "start_time": "2024-03-26T20:03:13.672889600Z"
    }
   },
   "id": "4a21701b538881fc"
  },
  {
   "cell_type": "markdown",
   "source": [
    "### AIF360"
   ],
   "metadata": {
    "collapsed": false
   },
   "id": "a1d0a355b0f46f8c"
  },
  {
   "cell_type": "code",
   "execution_count": 51,
   "outputs": [],
   "source": [
    "import aif360\n",
    "from aif360.datasets import BinaryLabelDataset"
   ],
   "metadata": {
    "collapsed": false,
    "ExecuteTime": {
     "end_time": "2024-03-26T20:14:33.091575900Z",
     "start_time": "2024-03-26T20:14:33.048114500Z"
    }
   },
   "id": "79d0784d67267853"
  },
  {
   "cell_type": "code",
   "execution_count": 52,
   "outputs": [],
   "source": [
    "dataset_aif360_train = BinaryLabelDataset(df=pd.concat([X_train, y_train], axis=1), \n",
    "                                    label_names=[TARGET],\n",
    "                                    protected_attribute_names=[PROTECTED_ATTRIBUTE],\n",
    "                                    )\n",
    "\n",
    "dataset_aif360_test = BinaryLabelDataset(df=pd.concat([X_test, y_test], axis=1), \n",
    "                                    label_names=[TARGET],\n",
    "                                    protected_attribute_names=[PROTECTED_ATTRIBUTE],\n",
    "                                    )\n",
    "\n",
    "predictions_aif360 = BinaryLabelDataset(df=X_test.assign(**{TARGET: y_pred}), \n",
    "                                        label_names=[TARGET],\n",
    "                                        protected_attribute_names=[PROTECTED_ATTRIBUTE],\n",
    "                                        )"
   ],
   "metadata": {
    "collapsed": false,
    "ExecuteTime": {
     "end_time": "2024-03-26T20:14:33.623415Z",
     "start_time": "2024-03-26T20:14:33.532048100Z"
    }
   },
   "id": "3cde55c427321931"
  },
  {
   "cell_type": "markdown",
   "source": [
    "#### Detection\n",
    "\n",
    "_\"Since the main computation of confusion matrices is common for a large set of metrics, we utilize memoization and caching of computations for performance on large-scale datasets.\"_"
   ],
   "metadata": {
    "collapsed": false
   },
   "id": "c2dd4adbf0904615"
  },
  {
   "cell_type": "code",
   "execution_count": 53,
   "outputs": [],
   "source": [
    "from aif360.metrics import BinaryLabelDatasetMetric, ClassificationMetric\n",
    "from aif360.explainers import MetricTextExplainer"
   ],
   "metadata": {
    "collapsed": false,
    "ExecuteTime": {
     "end_time": "2024-03-26T20:14:37.515651800Z",
     "start_time": "2024-03-26T20:14:37.246599Z"
    }
   },
   "id": "15262a0e746933a5"
  },
  {
   "cell_type": "code",
   "execution_count": 54,
   "outputs": [],
   "source": [
    "priv = [{PROTECTED_ATTRIBUTE: 1}, {PROTECTED_ATTRIBUTE: 3}, {PROTECTED_ATTRIBUTE: 4}]\n",
    "unpriv = [{PROTECTED_ATTRIBUTE: 2}]"
   ],
   "metadata": {
    "collapsed": false,
    "ExecuteTime": {
     "end_time": "2024-03-26T20:14:39.570181600Z",
     "start_time": "2024-03-26T20:14:39.461164300Z"
    }
   },
   "id": "63d1aab2d377bfe1"
  },
  {
   "cell_type": "code",
   "execution_count": 55,
   "outputs": [
    {
     "ename": "NameError",
     "evalue": "name 'dataset_aif360' is not defined",
     "output_type": "error",
     "traceback": [
      "\u001B[1;31m---------------------------------------------------------------------------\u001B[0m",
      "\u001B[1;31mNameError\u001B[0m                                 Traceback (most recent call last)",
      "Cell \u001B[1;32mIn[55], line 1\u001B[0m\n\u001B[1;32m----> 1\u001B[0m cm \u001B[38;5;241m=\u001B[39m ClassificationMetric(dataset_aif360,\n\u001B[0;32m      2\u001B[0m                          predictions_aif360,\n\u001B[0;32m      3\u001B[0m                          privileged_groups\u001B[38;5;241m=\u001B[39mpriv,\n\u001B[0;32m      4\u001B[0m                          unprivileged_groups\u001B[38;5;241m=\u001B[39munpriv,\n\u001B[0;32m      5\u001B[0m                          )\n",
      "\u001B[1;31mNameError\u001B[0m: name 'dataset_aif360' is not defined"
     ]
    }
   ],
   "source": [
    "cm = ClassificationMetric(dataset_aif360,\n",
    "                         predictions_aif360,\n",
    "                         privileged_groups=priv,\n",
    "                         unprivileged_groups=unpriv,\n",
    "                         )"
   ],
   "metadata": {
    "collapsed": false,
    "ExecuteTime": {
     "end_time": "2024-03-26T20:14:41.658430900Z",
     "start_time": "2024-03-26T20:14:41.533312100Z"
    }
   },
   "id": "363ab7548e1e9cc5"
  },
  {
   "cell_type": "code",
   "execution_count": 39,
   "outputs": [
    {
     "data": {
      "text/plain": "0.8355555555555556"
     },
     "execution_count": 39,
     "metadata": {},
     "output_type": "execute_result"
    }
   ],
   "source": [
    "cm.disparate_impact()"
   ],
   "metadata": {
    "collapsed": false,
    "ExecuteTime": {
     "end_time": "2024-03-20T15:45:09.105812400Z",
     "start_time": "2024-03-20T15:45:09.092454300Z"
    }
   },
   "id": "1882dd895a4121da"
  },
  {
   "cell_type": "code",
   "execution_count": 40,
   "outputs": [
    {
     "data": {
      "text/plain": "-0.1284722222222222"
     },
     "execution_count": 40,
     "metadata": {},
     "output_type": "execute_result"
    }
   ],
   "source": [
    "cm.statistical_parity_difference()"
   ],
   "metadata": {
    "collapsed": false,
    "ExecuteTime": {
     "end_time": "2024-03-20T15:45:09.589853600Z",
     "start_time": "2024-03-20T15:45:09.577503900Z"
    }
   },
   "id": "f49c1f081289e3c1"
  },
  {
   "cell_type": "code",
   "execution_count": 60,
   "outputs": [],
   "source": [
    "text_expl = MetricTextExplainer(cm)"
   ],
   "metadata": {
    "collapsed": false,
    "ExecuteTime": {
     "end_time": "2024-03-20T16:13:42.570396900Z",
     "start_time": "2024-03-20T16:13:42.536397800Z"
    }
   },
   "id": "8187b8c00eb5b60d"
  },
  {
   "cell_type": "code",
   "execution_count": 61,
   "outputs": [
    {
     "data": {
      "text/plain": "'Statistical parity difference (probability of favorable outcome for unprivileged instances - probability of favorable outcome for privileged instances): -0.1284722222222222'"
     },
     "execution_count": 61,
     "metadata": {},
     "output_type": "execute_result"
    }
   ],
   "source": [
    "text_expl.statistical_parity_difference()"
   ],
   "metadata": {
    "collapsed": false,
    "ExecuteTime": {
     "end_time": "2024-03-20T16:13:42.806487900Z",
     "start_time": "2024-03-20T16:13:42.803244Z"
    }
   },
   "id": "aa0c2e189a557ca2"
  },
  {
   "cell_type": "code",
   "execution_count": 53,
   "outputs": [],
   "source": [
    "from aif360.sklearn.metrics import statistical_parity_difference, disparate_impact_ratio"
   ],
   "metadata": {
    "collapsed": false,
    "ExecuteTime": {
     "end_time": "2024-03-20T15:53:12.664018700Z",
     "start_time": "2024-03-20T15:53:12.624909800Z"
    }
   },
   "id": "2755216b2f9b2f89"
  },
  {
   "cell_type": "code",
   "execution_count": 120,
   "outputs": [
    {
     "data": {
      "text/plain": "6"
     },
     "execution_count": 120,
     "metadata": {},
     "output_type": "execute_result"
    }
   ],
   "source": [
    "z_test.eq(1).sum()"
   ],
   "metadata": {
    "collapsed": false,
    "ExecuteTime": {
     "end_time": "2024-03-20T16:54:23.870222400Z",
     "start_time": "2024-03-20T16:54:23.840680100Z"
    }
   },
   "id": "fc1f2717a705d69"
  },
  {
   "cell_type": "code",
   "execution_count": 130,
   "outputs": [
    {
     "data": {
      "text/plain": "-0.15689223057644108"
     },
     "execution_count": 130,
     "metadata": {},
     "output_type": "execute_result"
    }
   ],
   "source": [
    "statistical_parity_difference(y_test, y_pred, prot_attr=z_test, priv_group=3)"
   ],
   "metadata": {
    "collapsed": false,
    "ExecuteTime": {
     "end_time": "2024-03-20T16:58:14.620500800Z",
     "start_time": "2024-03-20T16:58:14.585324800Z"
    }
   },
   "id": "e9d3c36ffe4b32ef"
  },
  {
   "cell_type": "code",
   "execution_count": 131,
   "outputs": [
    {
     "data": {
      "text/plain": "0.8061919504643963"
     },
     "execution_count": 131,
     "metadata": {},
     "output_type": "execute_result"
    }
   ],
   "source": [
    "disparate_impact_ratio(y_test, y_pred, prot_attr=z_test, priv_group=3)"
   ],
   "metadata": {
    "collapsed": false,
    "ExecuteTime": {
     "end_time": "2024-03-20T16:58:14.970687400Z",
     "start_time": "2024-03-20T16:58:14.941060300Z"
    }
   },
   "id": "bdbdaeec4f9a8d47"
  },
  {
   "cell_type": "markdown",
   "source": [
    "___"
   ],
   "metadata": {
    "collapsed": false
   },
   "id": "e4652c743e994c9"
  },
  {
   "cell_type": "code",
   "execution_count": 135,
   "outputs": [
    {
     "data": {
      "text/plain": "                      Creditability    y_pred\nSex & Marital Status                         \n1                          0.666667  0.500000\n2                          0.625000  0.652778\n3                          0.761905  0.809524\n4                          0.647059  0.705882",
      "text/html": "<div>\n<style scoped>\n    .dataframe tbody tr th:only-of-type {\n        vertical-align: middle;\n    }\n\n    .dataframe tbody tr th {\n        vertical-align: top;\n    }\n\n    .dataframe thead th {\n        text-align: right;\n    }\n</style>\n<table border=\"1\" class=\"dataframe\">\n  <thead>\n    <tr style=\"text-align: right;\">\n      <th></th>\n      <th>Creditability</th>\n      <th>y_pred</th>\n    </tr>\n    <tr>\n      <th>Sex &amp; Marital Status</th>\n      <th></th>\n      <th></th>\n    </tr>\n  </thead>\n  <tbody>\n    <tr>\n      <th>1</th>\n      <td>0.666667</td>\n      <td>0.500000</td>\n    </tr>\n    <tr>\n      <th>2</th>\n      <td>0.625000</td>\n      <td>0.652778</td>\n    </tr>\n    <tr>\n      <th>3</th>\n      <td>0.761905</td>\n      <td>0.809524</td>\n    </tr>\n    <tr>\n      <th>4</th>\n      <td>0.647059</td>\n      <td>0.705882</td>\n    </tr>\n  </tbody>\n</table>\n</div>"
     },
     "execution_count": 135,
     "metadata": {},
     "output_type": "execute_result"
    }
   ],
   "source": [
    "pd.concat([y_test, y_pred], axis=1).groupby(z_test, sort=False).sum().div(z_test.value_counts(), axis=0)"
   ],
   "metadata": {
    "collapsed": false,
    "ExecuteTime": {
     "end_time": "2024-03-20T17:00:55.635140100Z",
     "start_time": "2024-03-20T17:00:55.576217300Z"
    }
   },
   "id": "cfb5769e7b41c70f"
  },
  {
   "cell_type": "code",
   "execution_count": 136,
   "outputs": [
    {
     "data": {
      "text/plain": "Creditability    0.700\ny_pred           0.735\ndtype: float64"
     },
     "execution_count": 136,
     "metadata": {},
     "output_type": "execute_result"
    }
   ],
   "source": [
    "pd.concat([y_test, y_pred], axis=1).mean()"
   ],
   "metadata": {
    "collapsed": false,
    "ExecuteTime": {
     "end_time": "2024-03-20T17:00:56.070417200Z",
     "start_time": "2024-03-20T17:00:56.034624Z"
    }
   },
   "id": "809f135a5b780c8e"
  },
  {
   "cell_type": "code",
   "execution_count": 137,
   "outputs": [
    {
     "data": {
      "text/plain": "-0.15689223057644108"
     },
     "execution_count": 137,
     "metadata": {},
     "output_type": "execute_result"
    }
   ],
   "source": [
    "y_pred.loc[z_test.ne(3)].mean() - y_pred.loc[z_test.eq(3)].mean() "
   ],
   "metadata": {
    "collapsed": false,
    "ExecuteTime": {
     "end_time": "2024-03-20T17:00:57.556453900Z",
     "start_time": "2024-03-20T17:00:57.470692300Z"
    }
   },
   "id": "fb03503a74e69b45"
  },
  {
   "cell_type": "markdown",
   "source": [
    "#### Mitigation"
   ],
   "metadata": {
    "collapsed": false
   },
   "id": "9f8c22f681822c06"
  },
  {
   "cell_type": "code",
   "execution_count": 59,
   "outputs": [],
   "source": [
    "from aif360.algorithms.inprocessing import ExponentiatedGradientReduction as ExponentiatedGradientReductionAif"
   ],
   "metadata": {
    "collapsed": false,
    "ExecuteTime": {
     "end_time": "2024-03-26T20:16:06.562248700Z",
     "start_time": "2024-03-26T20:16:06.509722200Z"
    }
   },
   "id": "b1bd7b9630a82a6a"
  },
  {
   "cell_type": "code",
   "execution_count": 60,
   "outputs": [
    {
     "name": "stderr",
     "output_type": "stream",
     "text": [
      "C:\\Users\\Mateusz\\miniconda3\\envs\\fairness-toolkits\\Lib\\site-packages\\sklearn\\preprocessing\\_label.py:114: DataConversionWarning: A column-vector y was passed when a 1d array was expected. Please change the shape of y to (n_samples, ), for example using ravel().\n",
      "  y = column_or_1d(y, warn=True)\n"
     ]
    },
    {
     "ename": "AssertionError",
     "evalue": "data can be loaded only once",
     "output_type": "error",
     "traceback": [
      "\u001B[1;31m---------------------------------------------------------------------------\u001B[0m",
      "\u001B[1;31mAssertionError\u001B[0m                            Traceback (most recent call last)",
      "Cell \u001B[1;32mIn[60], line 3\u001B[0m\n\u001B[0;32m      1\u001B[0m dp_aif \u001B[38;5;241m=\u001B[39m DemographicParity(difference_bound\u001B[38;5;241m=\u001B[39m\u001B[38;5;241m0.01\u001B[39m)\n\u001B[0;32m      2\u001B[0m reduction_aif \u001B[38;5;241m=\u001B[39m ExponentiatedGradientReductionAif(estimator\u001B[38;5;241m=\u001B[39mdefault_model\u001B[38;5;241m.\u001B[39mcopy(), constraints\u001B[38;5;241m=\u001B[39mdp, max_iter\u001B[38;5;241m=\u001B[39m\u001B[38;5;241m10\u001B[39m)\n\u001B[1;32m----> 3\u001B[0m reduction_aif\u001B[38;5;241m.\u001B[39mfit(dataset_aif360_train)\n",
      "File \u001B[1;32m~\\miniconda3\\envs\\fairness-toolkits\\Lib\\site-packages\\aif360\\algorithms\\transformer.py:27\u001B[0m, in \u001B[0;36maddmetadata.<locals>.wrapper\u001B[1;34m(self, *args, **kwargs)\u001B[0m\n\u001B[0;32m     25\u001B[0m \u001B[38;5;129m@wraps\u001B[39m(func)\n\u001B[0;32m     26\u001B[0m \u001B[38;5;28;01mdef\u001B[39;00m \u001B[38;5;21mwrapper\u001B[39m(\u001B[38;5;28mself\u001B[39m, \u001B[38;5;241m*\u001B[39margs, \u001B[38;5;241m*\u001B[39m\u001B[38;5;241m*\u001B[39mkwargs):\n\u001B[1;32m---> 27\u001B[0m     new_dataset \u001B[38;5;241m=\u001B[39m func(\u001B[38;5;28mself\u001B[39m, \u001B[38;5;241m*\u001B[39margs, \u001B[38;5;241m*\u001B[39m\u001B[38;5;241m*\u001B[39mkwargs)\n\u001B[0;32m     28\u001B[0m     \u001B[38;5;28;01mif\u001B[39;00m \u001B[38;5;28misinstance\u001B[39m(new_dataset, Dataset):\n\u001B[0;32m     29\u001B[0m         new_dataset\u001B[38;5;241m.\u001B[39mmetadata \u001B[38;5;241m=\u001B[39m new_dataset\u001B[38;5;241m.\u001B[39mmetadata\u001B[38;5;241m.\u001B[39mcopy()\n",
      "File \u001B[1;32m~\\miniconda3\\envs\\fairness-toolkits\\Lib\\site-packages\\aif360\\algorithms\\inprocessing\\exponentiated_gradient_reduction.py:94\u001B[0m, in \u001B[0;36mExponentiatedGradientReduction.fit\u001B[1;34m(self, dataset)\u001B[0m\n\u001B[0;32m     91\u001B[0m X_df \u001B[38;5;241m=\u001B[39m pd\u001B[38;5;241m.\u001B[39mDataFrame(dataset\u001B[38;5;241m.\u001B[39mfeatures, columns\u001B[38;5;241m=\u001B[39mdataset\u001B[38;5;241m.\u001B[39mfeature_names)\n\u001B[0;32m     92\u001B[0m Y \u001B[38;5;241m=\u001B[39m dataset\u001B[38;5;241m.\u001B[39mlabels\n\u001B[1;32m---> 94\u001B[0m \u001B[38;5;28mself\u001B[39m\u001B[38;5;241m.\u001B[39mmodel\u001B[38;5;241m.\u001B[39mfit(X_df, Y)\n\u001B[0;32m     96\u001B[0m \u001B[38;5;28;01mreturn\u001B[39;00m \u001B[38;5;28mself\u001B[39m\n",
      "File \u001B[1;32m~\\miniconda3\\envs\\fairness-toolkits\\Lib\\site-packages\\aif360\\sklearn\\inprocessing\\exponentiated_gradient_reduction.py:123\u001B[0m, in \u001B[0;36mExponentiatedGradientReduction.fit\u001B[1;34m(self, X, y)\u001B[0m\n\u001B[0;32m    120\u001B[0m y \u001B[38;5;241m=\u001B[39m le\u001B[38;5;241m.\u001B[39mfit_transform(y)\n\u001B[0;32m    121\u001B[0m \u001B[38;5;28mself\u001B[39m\u001B[38;5;241m.\u001B[39mclasses_ \u001B[38;5;241m=\u001B[39m le\u001B[38;5;241m.\u001B[39mclasses_\n\u001B[1;32m--> 123\u001B[0m \u001B[38;5;28mself\u001B[39m\u001B[38;5;241m.\u001B[39mmodel_\u001B[38;5;241m.\u001B[39mfit(X, y, sensitive_features\u001B[38;5;241m=\u001B[39mA)\n\u001B[0;32m    125\u001B[0m \u001B[38;5;28;01mreturn\u001B[39;00m \u001B[38;5;28mself\u001B[39m\n",
      "File \u001B[1;32m~\\miniconda3\\envs\\fairness-toolkits\\Lib\\site-packages\\fairlearn\\reductions\\_exponentiated_gradient\\exponentiated_gradient.py:140\u001B[0m, in \u001B[0;36mExponentiatedGradient.fit\u001B[1;34m(self, X, y, **kwargs)\u001B[0m\n\u001B[0;32m    137\u001B[0m logger\u001B[38;5;241m.\u001B[39mdebug(\u001B[38;5;124m\"\u001B[39m\u001B[38;5;124m...Exponentiated Gradient STARTING\u001B[39m\u001B[38;5;124m\"\u001B[39m)\n\u001B[0;32m    139\u001B[0m B \u001B[38;5;241m=\u001B[39m \u001B[38;5;241m1\u001B[39m \u001B[38;5;241m/\u001B[39m \u001B[38;5;28mself\u001B[39m\u001B[38;5;241m.\u001B[39meps\n\u001B[1;32m--> 140\u001B[0m lagrangian \u001B[38;5;241m=\u001B[39m _Lagrangian(\n\u001B[0;32m    141\u001B[0m     X\u001B[38;5;241m=\u001B[39mX,\n\u001B[0;32m    142\u001B[0m     y\u001B[38;5;241m=\u001B[39my,\n\u001B[0;32m    143\u001B[0m     estimator\u001B[38;5;241m=\u001B[39m\u001B[38;5;28mself\u001B[39m\u001B[38;5;241m.\u001B[39mestimator,\n\u001B[0;32m    144\u001B[0m     constraints\u001B[38;5;241m=\u001B[39m\u001B[38;5;28mself\u001B[39m\u001B[38;5;241m.\u001B[39mconstraints,\n\u001B[0;32m    145\u001B[0m     B\u001B[38;5;241m=\u001B[39mB,\n\u001B[0;32m    146\u001B[0m     objective\u001B[38;5;241m=\u001B[39m\u001B[38;5;28mself\u001B[39m\u001B[38;5;241m.\u001B[39mobjective,\n\u001B[0;32m    147\u001B[0m     sample_weight_name\u001B[38;5;241m=\u001B[39m\u001B[38;5;28mself\u001B[39m\u001B[38;5;241m.\u001B[39msample_weight_name,\n\u001B[0;32m    148\u001B[0m     \u001B[38;5;241m*\u001B[39m\u001B[38;5;241m*\u001B[39mkwargs,\n\u001B[0;32m    149\u001B[0m )\n\u001B[0;32m    151\u001B[0m theta \u001B[38;5;241m=\u001B[39m pd\u001B[38;5;241m.\u001B[39mSeries(\u001B[38;5;241m0\u001B[39m, lagrangian\u001B[38;5;241m.\u001B[39mconstraints\u001B[38;5;241m.\u001B[39mindex)\n\u001B[0;32m    152\u001B[0m Qsum \u001B[38;5;241m=\u001B[39m pd\u001B[38;5;241m.\u001B[39mSeries(dtype\u001B[38;5;241m=\u001B[39m\u001B[38;5;124m\"\u001B[39m\u001B[38;5;124mfloat64\u001B[39m\u001B[38;5;124m\"\u001B[39m)\n",
      "File \u001B[1;32m~\\miniconda3\\envs\\fairness-toolkits\\Lib\\site-packages\\fairlearn\\reductions\\_exponentiated_gradient\\_lagrangian.py:78\u001B[0m, in \u001B[0;36m_Lagrangian.__init__\u001B[1;34m(self, X, y, estimator, constraints, B, objective, opt_lambda, sample_weight_name, **kwargs)\u001B[0m\n\u001B[0;32m     64\u001B[0m \u001B[38;5;28;01mdef\u001B[39;00m \u001B[38;5;21m__init__\u001B[39m(\n\u001B[0;32m     65\u001B[0m     \u001B[38;5;28mself\u001B[39m,\n\u001B[0;32m     66\u001B[0m     \u001B[38;5;241m*\u001B[39m,\n\u001B[1;32m   (...)\u001B[0m\n\u001B[0;32m     75\u001B[0m     \u001B[38;5;241m*\u001B[39m\u001B[38;5;241m*\u001B[39mkwargs,\n\u001B[0;32m     76\u001B[0m ):\n\u001B[0;32m     77\u001B[0m     \u001B[38;5;28mself\u001B[39m\u001B[38;5;241m.\u001B[39mconstraints \u001B[38;5;241m=\u001B[39m constraints\n\u001B[1;32m---> 78\u001B[0m     \u001B[38;5;28mself\u001B[39m\u001B[38;5;241m.\u001B[39mconstraints\u001B[38;5;241m.\u001B[39mload_data(X, y, \u001B[38;5;241m*\u001B[39m\u001B[38;5;241m*\u001B[39mkwargs)\n\u001B[0;32m     79\u001B[0m     \u001B[38;5;28;01mif\u001B[39;00m objective \u001B[38;5;129;01mis\u001B[39;00m \u001B[38;5;28;01mNone\u001B[39;00m:\n\u001B[0;32m     80\u001B[0m         \u001B[38;5;28mself\u001B[39m\u001B[38;5;241m.\u001B[39mobj \u001B[38;5;241m=\u001B[39m \u001B[38;5;28mself\u001B[39m\u001B[38;5;241m.\u001B[39mconstraints\u001B[38;5;241m.\u001B[39mdefault_objective()\n",
      "File \u001B[1;32m~\\miniconda3\\envs\\fairness-toolkits\\Lib\\site-packages\\fairlearn\\reductions\\_moments\\utility_parity.py:328\u001B[0m, in \u001B[0;36mDemographicParity.load_data\u001B[1;34m(self, X, y, sensitive_features, control_features)\u001B[0m\n\u001B[0;32m    326\u001B[0m base_event \u001B[38;5;241m=\u001B[39m pd\u001B[38;5;241m.\u001B[39mSeries(data\u001B[38;5;241m=\u001B[39m_ALL, index\u001B[38;5;241m=\u001B[39my_train\u001B[38;5;241m.\u001B[39mindex)\n\u001B[0;32m    327\u001B[0m event \u001B[38;5;241m=\u001B[39m _merge_event_and_control_columns(base_event, cf_train)\n\u001B[1;32m--> 328\u001B[0m \u001B[38;5;28msuper\u001B[39m()\u001B[38;5;241m.\u001B[39mload_data(X, y_train, event\u001B[38;5;241m=\u001B[39mevent, sensitive_features\u001B[38;5;241m=\u001B[39msf_train)\n",
      "File \u001B[1;32m~\\miniconda3\\envs\\fairness-toolkits\\Lib\\site-packages\\fairlearn\\reductions\\_moments\\utility_parity.py:145\u001B[0m, in \u001B[0;36mUtilityParity.load_data\u001B[1;34m(self, X, y, sensitive_features, event, utilities)\u001B[0m\n\u001B[0;32m    122\u001B[0m \u001B[38;5;28;01mdef\u001B[39;00m \u001B[38;5;21mload_data\u001B[39m(\n\u001B[0;32m    123\u001B[0m     \u001B[38;5;28mself\u001B[39m,\n\u001B[0;32m    124\u001B[0m     X,\n\u001B[1;32m   (...)\u001B[0m\n\u001B[0;32m    129\u001B[0m     utilities\u001B[38;5;241m=\u001B[39m\u001B[38;5;28;01mNone\u001B[39;00m,\n\u001B[0;32m    130\u001B[0m ):\n\u001B[0;32m    131\u001B[0m \u001B[38;5;250m    \u001B[39m\u001B[38;5;124;03m\"\"\"Load the specified data into this object.\u001B[39;00m\n\u001B[0;32m    132\u001B[0m \n\u001B[0;32m    133\u001B[0m \u001B[38;5;124;03m    This adds a column `event` to the `tags` field.\u001B[39;00m\n\u001B[1;32m   (...)\u001B[0m\n\u001B[0;32m    143\u001B[0m \n\u001B[0;32m    144\u001B[0m \u001B[38;5;124;03m    \"\"\"\u001B[39;00m\n\u001B[1;32m--> 145\u001B[0m     \u001B[38;5;28msuper\u001B[39m()\u001B[38;5;241m.\u001B[39mload_data(X, y, sensitive_features\u001B[38;5;241m=\u001B[39msensitive_features)\n\u001B[0;32m    146\u001B[0m     \u001B[38;5;28mself\u001B[39m\u001B[38;5;241m.\u001B[39mtags[_EVENT] \u001B[38;5;241m=\u001B[39m event\n\u001B[0;32m    147\u001B[0m     \u001B[38;5;28;01mif\u001B[39;00m utilities \u001B[38;5;129;01mis\u001B[39;00m \u001B[38;5;28;01mNone\u001B[39;00m:\n",
      "File \u001B[1;32m~\\miniconda3\\envs\\fairness-toolkits\\Lib\\site-packages\\fairlearn\\reductions\\_moments\\moment.py:42\u001B[0m, in \u001B[0;36mMoment.load_data\u001B[1;34m(self, X, y, sensitive_features)\u001B[0m\n\u001B[0;32m     30\u001B[0m \u001B[38;5;28;01mdef\u001B[39;00m \u001B[38;5;21mload_data\u001B[39m(\u001B[38;5;28mself\u001B[39m, X, y: pd\u001B[38;5;241m.\u001B[39mSeries, \u001B[38;5;241m*\u001B[39m, sensitive_features: pd\u001B[38;5;241m.\u001B[39mSeries \u001B[38;5;241m=\u001B[39m \u001B[38;5;28;01mNone\u001B[39;00m):\n\u001B[0;32m     31\u001B[0m \u001B[38;5;250m    \u001B[39m\u001B[38;5;124;03m\"\"\"Load a set of data for use by this object.\u001B[39;00m\n\u001B[0;32m     32\u001B[0m \n\u001B[0;32m     33\u001B[0m \u001B[38;5;124;03m    Parameters\u001B[39;00m\n\u001B[1;32m   (...)\u001B[0m\n\u001B[0;32m     40\u001B[0m \u001B[38;5;124;03m        The sensitive feature vector (default None)\u001B[39;00m\n\u001B[0;32m     41\u001B[0m \u001B[38;5;124;03m    \"\"\"\u001B[39;00m\n\u001B[1;32m---> 42\u001B[0m     \u001B[38;5;28;01massert\u001B[39;00m \u001B[38;5;28mself\u001B[39m\u001B[38;5;241m.\u001B[39mdata_loaded \u001B[38;5;129;01mis\u001B[39;00m \u001B[38;5;28;01mFalse\u001B[39;00m, \u001B[38;5;124m\"\u001B[39m\u001B[38;5;124mdata can be loaded only once\u001B[39m\u001B[38;5;124m\"\u001B[39m\n\u001B[0;32m     43\u001B[0m     \u001B[38;5;28;01mif\u001B[39;00m sensitive_features \u001B[38;5;129;01mis\u001B[39;00m \u001B[38;5;129;01mnot\u001B[39;00m \u001B[38;5;28;01mNone\u001B[39;00m:\n\u001B[0;32m     44\u001B[0m         \u001B[38;5;28;01massert\u001B[39;00m \u001B[38;5;28misinstance\u001B[39m(sensitive_features, pd\u001B[38;5;241m.\u001B[39mSeries)\n",
      "\u001B[1;31mAssertionError\u001B[0m: data can be loaded only once"
     ]
    }
   ],
   "source": [
    "dp_aif = DemographicParity(difference_bound=0.01)\n",
    "reduction_aif = ExponentiatedGradientReductionAif(estimator=default_model.copy(), constraints=dp, max_iter=10)\n",
    "reduction_aif.fit(dataset_aif360_train)"
   ],
   "metadata": {
    "collapsed": false,
    "ExecuteTime": {
     "end_time": "2024-03-26T20:16:07.612045800Z",
     "start_time": "2024-03-26T20:16:07.275745500Z"
    }
   },
   "id": "d754919b9fc7dfd7"
  },
  {
   "cell_type": "code",
   "execution_count": null,
   "outputs": [],
   "source": [
    "y_pred_reduced_aif = reduction_aif.predict(dataset_aif360_test)"
   ],
   "metadata": {
    "collapsed": false
   },
   "id": "725378210757dd46"
  },
  {
   "cell_type": "code",
   "execution_count": null,
   "outputs": [],
   "source": [
    "statistical_parity_difference(y_test, y_pred, prot_attr=z_test, priv_group=3)"
   ],
   "metadata": {
    "collapsed": false
   },
   "id": "8c92839f7859154b"
  }
 ],
 "metadata": {
  "kernelspec": {
   "display_name": "Python 3",
   "language": "python",
   "name": "python3"
  },
  "language_info": {
   "codemirror_mode": {
    "name": "ipython",
    "version": 2
   },
   "file_extension": ".py",
   "mimetype": "text/x-python",
   "name": "python",
   "nbconvert_exporter": "python",
   "pygments_lexer": "ipython2",
   "version": "2.7.6"
  }
 },
 "nbformat": 4,
 "nbformat_minor": 5
}
