{
 "cells": [
  {
   "cell_type": "markdown",
   "source": [
    "# Evaluating Fairness in Machine Learning: Comparative Analysis and Benchmarking of Fairlearn and AIF360 | German Credit Dataset"
   ],
   "metadata": {
    "collapsed": false
   },
   "id": "3dab28c6a8ebdde5"
  },
  {
   "cell_type": "code",
   "execution_count": 15,
   "outputs": [],
   "source": [
    "import os\n",
    "import random\n",
    "\n",
    "import pandas as pd\n",
    "import numpy as np\n",
    "\n",
    "from sklearn.model_selection import train_test_split\n",
    "from catboost import CatBoostClassifier\n",
    "\n",
    "from src.constants import RANDOM_STATE, DEFAULT_MODEL_CONFIG"
   ],
   "metadata": {
    "collapsed": false,
    "ExecuteTime": {
     "end_time": "2024-03-15T18:37:08.452007200Z",
     "start_time": "2024-03-15T18:37:08.246612100Z"
    }
   },
   "id": "initial_id"
  },
  {
   "cell_type": "markdown",
   "source": [
    "## Ensure reproducibility\n",
    "\n",
    "Set random seeds for reproducibility."
   ],
   "metadata": {
    "collapsed": false
   },
   "id": "18bb741c498fb006"
  },
  {
   "cell_type": "code",
   "execution_count": 27,
   "outputs": [],
   "source": [
    "np.random.seed(RANDOM_STATE)\n",
    "os.environ[\"PYTHONHASHSEED\"] = str(RANDOM_STATE)\n",
    "random.seed(RANDOM_STATE)"
   ],
   "metadata": {
    "collapsed": false,
    "ExecuteTime": {
     "end_time": "2024-03-15T18:48:53.875951800Z",
     "start_time": "2024-03-15T18:48:53.818084800Z"
    }
   },
   "id": "e16484de6065a680"
  },
  {
   "cell_type": "markdown",
   "source": [
    "## Load data"
   ],
   "metadata": {
    "collapsed": false
   },
   "id": "186976c34c79d08d"
  },
  {
   "cell_type": "code",
   "execution_count": 28,
   "outputs": [],
   "source": [
    "TARGET = \"Creditability\"\n",
    "PROTECTED_ATTRIBUTE = \"Sex & Marital Status\""
   ],
   "metadata": {
    "collapsed": false,
    "ExecuteTime": {
     "end_time": "2024-03-15T18:48:54.155547Z",
     "start_time": "2024-03-15T18:48:54.134923300Z"
    }
   },
   "id": "4c826daffb4194a5"
  },
  {
   "cell_type": "code",
   "execution_count": 29,
   "outputs": [],
   "source": [
    "data = pd.read_csv(\"../data/german_credit_data.csv\")"
   ],
   "metadata": {
    "collapsed": false,
    "ExecuteTime": {
     "end_time": "2024-03-15T18:48:54.821319100Z",
     "start_time": "2024-03-15T18:48:54.796480400Z"
    }
   },
   "id": "b2d5a6bf84200a1"
  },
  {
   "cell_type": "code",
   "execution_count": 30,
   "outputs": [
    {
     "name": "stdout",
     "output_type": "stream",
     "text": [
      "<class 'pandas.core.frame.DataFrame'>\n",
      "RangeIndex: 1000 entries, 0 to 999\n",
      "Data columns (total 21 columns):\n",
      " #   Column                             Non-Null Count  Dtype\n",
      "---  ------                             --------------  -----\n",
      " 0   Creditability                      1000 non-null   int64\n",
      " 1   Account Balance                    1000 non-null   int64\n",
      " 2   Duration of Credit (month)         1000 non-null   int64\n",
      " 3   Payment Status of Previous Credit  1000 non-null   int64\n",
      " 4   Purpose                            1000 non-null   int64\n",
      " 5   Credit Amount                      1000 non-null   int64\n",
      " 6   Value Savings/Stocks               1000 non-null   int64\n",
      " 7   Length of current employment       1000 non-null   int64\n",
      " 8   Instalment per cent                1000 non-null   int64\n",
      " 9   Sex & Marital Status               1000 non-null   int64\n",
      " 10  Guarantors                         1000 non-null   int64\n",
      " 11  Duration in Current address        1000 non-null   int64\n",
      " 12  Most valuable available asset      1000 non-null   int64\n",
      " 13  Age (years)                        1000 non-null   int64\n",
      " 14  Concurrent Credits                 1000 non-null   int64\n",
      " 15  Type of apartment                  1000 non-null   int64\n",
      " 16  No of Credits at this Bank         1000 non-null   int64\n",
      " 17  Occupation                         1000 non-null   int64\n",
      " 18  No of dependents                   1000 non-null   int64\n",
      " 19  Telephone                          1000 non-null   int64\n",
      " 20  Foreign Worker                     1000 non-null   int64\n",
      "dtypes: int64(21)\n",
      "memory usage: 164.2 KB\n"
     ]
    }
   ],
   "source": [
    "data.info()"
   ],
   "metadata": {
    "collapsed": false,
    "ExecuteTime": {
     "end_time": "2024-03-15T18:48:57.506974900Z",
     "start_time": "2024-03-15T18:48:57.470225300Z"
    }
   },
   "id": "818a51de8d431774"
  },
  {
   "cell_type": "code",
   "execution_count": 31,
   "outputs": [],
   "source": [
    "y = data.loc[:, TARGET]\n",
    "z = data.loc[:, PROTECTED_ATTRIBUTE]\n",
    "X = data.drop(columns=TARGET)"
   ],
   "metadata": {
    "collapsed": false,
    "ExecuteTime": {
     "end_time": "2024-03-15T18:48:59.387584100Z",
     "start_time": "2024-03-15T18:48:59.350992800Z"
    }
   },
   "id": "d4355e31612e83b1"
  },
  {
   "cell_type": "code",
   "execution_count": 32,
   "outputs": [],
   "source": [
    "X_train, X_test, y_train, y_test, z_train, z_test = train_test_split(X, y, z, test_size=0.2, random_state=RANDOM_STATE, stratify=y)"
   ],
   "metadata": {
    "collapsed": false,
    "ExecuteTime": {
     "end_time": "2024-03-15T18:49:00.321773900Z",
     "start_time": "2024-03-15T18:49:00.288202900Z"
    }
   },
   "id": "14adf46e9fb5a995"
  },
  {
   "cell_type": "code",
   "execution_count": 33,
   "outputs": [],
   "source": [
    "MODEL_CONFIG = dict(DEFAULT_MODEL_CONFIG, cat_features=X.select_dtypes(\"object\").columns.to_list())"
   ],
   "metadata": {
    "collapsed": false,
    "ExecuteTime": {
     "end_time": "2024-03-15T18:49:00.755191500Z",
     "start_time": "2024-03-15T18:49:00.735576300Z"
    }
   },
   "id": "77bed94dd8d730aa"
  },
  {
   "cell_type": "code",
   "execution_count": 34,
   "outputs": [],
   "source": [
    "model = CatBoostClassifier(**MODEL_CONFIG)"
   ],
   "metadata": {
    "collapsed": false,
    "ExecuteTime": {
     "end_time": "2024-03-15T18:49:01.201492500Z",
     "start_time": "2024-03-15T18:49:01.168357800Z"
    }
   },
   "id": "decc0e42c91fa4f1"
  },
  {
   "cell_type": "code",
   "execution_count": 35,
   "outputs": [
    {
     "name": "stdout",
     "output_type": "stream",
     "text": [
      "0:\tlearn: 0.6899835\ttotal: 140ms\tremaining: 6m 59s\n",
      "250:\tlearn: 0.4704244\ttotal: 1.68s\tremaining: 18.4s\n",
      "500:\tlearn: 0.4235692\ttotal: 3.88s\tremaining: 19.4s\n",
      "750:\tlearn: 0.3888618\ttotal: 20.6s\tremaining: 1m 1s\n",
      "1000:\tlearn: 0.3559247\ttotal: 22.1s\tremaining: 44.1s\n",
      "1250:\tlearn: 0.3269348\ttotal: 22.9s\tremaining: 32s\n",
      "1500:\tlearn: 0.3030500\ttotal: 24.1s\tremaining: 24.1s\n",
      "1750:\tlearn: 0.2826410\ttotal: 25.3s\tremaining: 18.1s\n",
      "2000:\tlearn: 0.2646425\ttotal: 26.6s\tremaining: 13.3s\n",
      "2250:\tlearn: 0.2486124\ttotal: 28.1s\tremaining: 9.34s\n",
      "2500:\tlearn: 0.2337442\ttotal: 29.3s\tremaining: 5.85s\n",
      "2750:\tlearn: 0.2201144\ttotal: 31s\tremaining: 2.8s\n",
      "2999:\tlearn: 0.2080692\ttotal: 32.6s\tremaining: 0us\n"
     ]
    },
    {
     "data": {
      "text/plain": "<catboost.core.CatBoostClassifier at 0x1feacf66f10>"
     },
     "execution_count": 35,
     "metadata": {},
     "output_type": "execute_result"
    }
   ],
   "source": [
    "model.fit(X_train, y_train)"
   ],
   "metadata": {
    "collapsed": false,
    "ExecuteTime": {
     "end_time": "2024-03-15T18:49:37.934440300Z",
     "start_time": "2024-03-15T18:49:01.985095900Z"
    }
   },
   "id": "4d3290acf9a8a01"
  },
  {
   "cell_type": "code",
   "execution_count": 36,
   "outputs": [],
   "source": [
    "y_pred = model.predict(X_test)"
   ],
   "metadata": {
    "collapsed": false,
    "ExecuteTime": {
     "end_time": "2024-03-15T18:49:37.935458300Z",
     "start_time": "2024-03-15T18:49:37.715877100Z"
    }
   },
   "id": "273817d998d1c159"
  },
  {
   "cell_type": "markdown",
   "source": [
    "## Detection"
   ],
   "metadata": {
    "collapsed": false
   },
   "id": "60c118c1cf05c8e8"
  },
  {
   "cell_type": "code",
   "execution_count": 37,
   "outputs": [],
   "source": [
    "from fairlearn.metrics import demographic_parity_ratio, demographic_parity_difference, equalized_odds_ratio"
   ],
   "metadata": {
    "collapsed": false,
    "ExecuteTime": {
     "end_time": "2024-03-15T18:50:26.059377800Z",
     "start_time": "2024-03-15T18:50:25.998894800Z"
    }
   },
   "id": "d15f9e047e368a71"
  },
  {
   "cell_type": "code",
   "execution_count": 38,
   "outputs": [
    {
     "data": {
      "text/plain": "0.6176470588235294"
     },
     "execution_count": 38,
     "metadata": {},
     "output_type": "execute_result"
    }
   ],
   "source": [
    "demographic_parity_ratio(y_test, y_pred, sensitive_features=z_test)\n"
   ],
   "metadata": {
    "collapsed": false,
    "ExecuteTime": {
     "end_time": "2024-03-15T18:50:26.526755400Z",
     "start_time": "2024-03-15T18:50:26.460641Z"
    }
   },
   "id": "5e6e573628dcae13"
  },
  {
   "cell_type": "markdown",
   "source": [
    "## Mitigation"
   ],
   "metadata": {
    "collapsed": false
   },
   "id": "2de94abc45d20ecf"
  },
  {
   "cell_type": "code",
   "execution_count": null,
   "outputs": [],
   "source": [],
   "metadata": {
    "collapsed": false
   },
   "id": "82764cf5351da633"
  }
 ],
 "metadata": {
  "kernelspec": {
   "display_name": "Python 3",
   "language": "python",
   "name": "python3"
  },
  "language_info": {
   "codemirror_mode": {
    "name": "ipython",
    "version": 2
   },
   "file_extension": ".py",
   "mimetype": "text/x-python",
   "name": "python",
   "nbconvert_exporter": "python",
   "pygments_lexer": "ipython2",
   "version": "2.7.6"
  }
 },
 "nbformat": 4,
 "nbformat_minor": 5
}
