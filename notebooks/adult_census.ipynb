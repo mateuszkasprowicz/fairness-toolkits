{
 "cells": [
  {
   "cell_type": "markdown",
   "source": [
    "# Evaluating Fairness in Machine Learning: Comparative Analysis and Benchmarking of Fairlearn and AIF360 | Adult Census Income"
   ],
   "metadata": {
    "collapsed": false
   },
   "id": "3dab28c6a8ebdde5"
  },
  {
   "cell_type": "code",
   "execution_count": 112,
   "outputs": [
    {
     "name": "stdout",
     "output_type": "stream",
     "text": [
      "The autoreload extension is already loaded. To reload it, use:\n",
      "  %reload_ext autoreload\n"
     ]
    }
   ],
   "source": [
    "%load_ext autoreload\n",
    "%autoreload 2\n",
    "\n",
    "import os\n",
    "import random\n",
    "\n",
    "import pandas as pd\n",
    "import numpy as np\n",
    "from matplotlib import pyplot as plt\n",
    "import sklearn\n",
    "from sklearn.metrics import classification_report\n",
    "from sklearn.model_selection import train_test_split\n",
    "from catboost import CatBoostClassifier\n",
    "\n",
    "from src.constants import RANDOM_STATE, DEFAULT_MODEL_CONFIG, METRICFRAME_METRICS\n",
    "from src.evaluation import plot_roc, print_confusion_matrix, calculate_fairlearn_metrics, calculate_aif360_metrics"
   ],
   "metadata": {
    "collapsed": false,
    "ExecuteTime": {
     "end_time": "2024-03-27T15:38:04.567372Z",
     "start_time": "2024-03-27T15:38:04.532286Z"
    }
   },
   "id": "initial_id"
  },
  {
   "cell_type": "code",
   "outputs": [],
   "source": [
    "sklearn.set_config(transform_output=\"pandas\")"
   ],
   "metadata": {
    "collapsed": false,
    "ExecuteTime": {
     "end_time": "2024-03-27T14:33:44.580907Z",
     "start_time": "2024-03-27T14:33:44.548669Z"
    }
   },
   "id": "3ce6aa85256c2cea",
   "execution_count": 82
  },
  {
   "cell_type": "markdown",
   "source": [
    "## Ensure reproducibility\n",
    "\n",
    "Set random seeds for reproducibility."
   ],
   "metadata": {
    "collapsed": false
   },
   "id": "18bb741c498fb006"
  },
  {
   "cell_type": "code",
   "execution_count": 83,
   "outputs": [],
   "source": [
    "np.random.seed(RANDOM_STATE)\n",
    "os.environ[\"PYTHONHASHSEED\"] = str(RANDOM_STATE)\n",
    "random.seed(RANDOM_STATE)"
   ],
   "metadata": {
    "collapsed": false,
    "ExecuteTime": {
     "end_time": "2024-03-27T14:33:44.875933Z",
     "start_time": "2024-03-27T14:33:44.856839Z"
    }
   },
   "id": "e16484de6065a680"
  },
  {
   "cell_type": "markdown",
   "source": [
    "## Load data"
   ],
   "metadata": {
    "collapsed": false
   },
   "id": "186976c34c79d08d"
  },
  {
   "cell_type": "code",
   "execution_count": 84,
   "outputs": [],
   "source": [
    "TARGET = \"income\"\n",
    "PROTECTED_ATTRIBUTE = \"gender\""
   ],
   "metadata": {
    "collapsed": false,
    "ExecuteTime": {
     "end_time": "2024-03-27T14:33:45.187480Z",
     "start_time": "2024-03-27T14:33:45.165782Z"
    }
   },
   "id": "4c826daffb4194a5"
  },
  {
   "cell_type": "code",
   "execution_count": 85,
   "outputs": [],
   "source": [
    "data_raw = pd.read_csv(\"../data/adult.csv\")\n",
    "data = data_raw.copy()"
   ],
   "metadata": {
    "collapsed": false,
    "ExecuteTime": {
     "end_time": "2024-03-27T14:33:45.407834Z",
     "start_time": "2024-03-27T14:33:45.332766Z"
    }
   },
   "id": "b2d5a6bf84200a1"
  },
  {
   "cell_type": "code",
   "execution_count": 86,
   "outputs": [
    {
     "name": "stdout",
     "output_type": "stream",
     "text": [
      "<class 'pandas.core.frame.DataFrame'>\n",
      "RangeIndex: 48842 entries, 0 to 48841\n",
      "Data columns (total 15 columns):\n",
      " #   Column           Non-Null Count  Dtype \n",
      "---  ------           --------------  ----- \n",
      " 0   age              48842 non-null  int64 \n",
      " 1   workclass        48842 non-null  object\n",
      " 2   fnlwgt           48842 non-null  int64 \n",
      " 3   education        48842 non-null  object\n",
      " 4   educational-num  48842 non-null  int64 \n",
      " 5   marital-status   48842 non-null  object\n",
      " 6   occupation       48842 non-null  object\n",
      " 7   relationship     48842 non-null  object\n",
      " 8   race             48842 non-null  object\n",
      " 9   gender           48842 non-null  object\n",
      " 10  capital-gain     48842 non-null  int64 \n",
      " 11  capital-loss     48842 non-null  int64 \n",
      " 12  hours-per-week   48842 non-null  int64 \n",
      " 13  native-country   48842 non-null  object\n",
      " 14  income           48842 non-null  object\n",
      "dtypes: int64(6), object(9)\n",
      "memory usage: 5.6+ MB\n"
     ]
    }
   ],
   "source": [
    "data.info()"
   ],
   "metadata": {
    "collapsed": false,
    "ExecuteTime": {
     "end_time": "2024-03-27T14:33:45.522322Z",
     "start_time": "2024-03-27T14:33:45.490947Z"
    }
   },
   "id": "818a51de8d431774"
  },
  {
   "cell_type": "code",
   "outputs": [
    {
     "data": {
      "text/plain": "age                0\nworkclass          0\nfnlwgt             0\neducation          0\neducational-num    0\nmarital-status     0\noccupation         0\nrelationship       0\nrace               0\ngender             0\ncapital-gain       0\ncapital-loss       0\nhours-per-week     0\nnative-country     0\nincome             0\ndtype: int64"
     },
     "execution_count": 87,
     "metadata": {},
     "output_type": "execute_result"
    }
   ],
   "source": [
    "data.isna().sum()"
   ],
   "metadata": {
    "collapsed": false,
    "ExecuteTime": {
     "end_time": "2024-03-27T14:33:45.655728Z",
     "start_time": "2024-03-27T14:33:45.631392Z"
    }
   },
   "id": "8df44b3b1e729e5f",
   "execution_count": 87
  },
  {
   "cell_type": "code",
   "outputs": [
    {
     "data": {
      "text/plain": "income\n<=50K    37155\n>50K     11687\nName: count, dtype: int64"
     },
     "execution_count": 88,
     "metadata": {},
     "output_type": "execute_result"
    }
   ],
   "source": [
    "data[TARGET].value_counts()"
   ],
   "metadata": {
    "collapsed": false,
    "ExecuteTime": {
     "end_time": "2024-03-27T14:33:45.829054Z",
     "start_time": "2024-03-27T14:33:45.808770Z"
    }
   },
   "id": "9695ccb2ec36b7ca",
   "execution_count": 88
  },
  {
   "cell_type": "code",
   "outputs": [
    {
     "data": {
      "text/plain": "gender\nMale      32650\nFemale    16192\nName: count, dtype: int64"
     },
     "execution_count": 89,
     "metadata": {},
     "output_type": "execute_result"
    }
   ],
   "source": [
    "data[PROTECTED_ATTRIBUTE].value_counts()"
   ],
   "metadata": {
    "collapsed": false,
    "ExecuteTime": {
     "end_time": "2024-03-27T14:33:46.011391Z",
     "start_time": "2024-03-27T14:33:45.963197Z"
    }
   },
   "id": "27e9d7b0d4594671",
   "execution_count": 89
  },
  {
   "cell_type": "code",
   "execution_count": 90,
   "outputs": [
    {
     "name": "stderr",
     "output_type": "stream",
     "text": [
      "/var/folders/jw/2qdy78hj131965_p8gvscxqc0000gq/T/ipykernel_12004/3664918217.py:1: FutureWarning: Downcasting behavior in `replace` is deprecated and will be removed in a future version. To retain the old behavior, explicitly call `result.infer_objects(copy=False)`. To opt-in to the future behavior, set `pd.set_option('future.no_silent_downcasting', True)`\n",
      "  data.income = data.income.replace({\">50K\": 1, \"<=50K\": 0})\n"
     ]
    }
   ],
   "source": [
    "data.income = data.income.replace({\">50K\": 1, \"<=50K\": 0})"
   ],
   "metadata": {
    "collapsed": false,
    "ExecuteTime": {
     "end_time": "2024-03-27T14:33:46.189465Z",
     "start_time": "2024-03-27T14:33:46.147171Z"
    }
   },
   "id": "1de53aa059c4b66a"
  },
  {
   "cell_type": "code",
   "execution_count": 91,
   "outputs": [],
   "source": [
    "y = data.loc[:, TARGET]\n",
    "z = data.loc[:, PROTECTED_ATTRIBUTE]\n",
    "X = data.drop(columns=TARGET)"
   ],
   "metadata": {
    "collapsed": false,
    "ExecuteTime": {
     "end_time": "2024-03-27T14:33:46.315234Z",
     "start_time": "2024-03-27T14:33:46.293473Z"
    }
   },
   "id": "d4355e31612e83b1"
  },
  {
   "cell_type": "code",
   "execution_count": 92,
   "outputs": [],
   "source": [
    "X_train, X_test, y_train, y_test, z_train, z_test = train_test_split(X, y, z, test_size=0.2, random_state=RANDOM_STATE, stratify=y)"
   ],
   "metadata": {
    "collapsed": false,
    "ExecuteTime": {
     "end_time": "2024-03-27T14:33:46.478345Z",
     "start_time": "2024-03-27T14:33:46.438573Z"
    }
   },
   "id": "14adf46e9fb5a995"
  },
  {
   "cell_type": "code",
   "execution_count": 93,
   "outputs": [],
   "source": [
    "MODEL_CONFIG = dict(DEFAULT_MODEL_CONFIG, cat_features=X.select_dtypes(\"object\").columns.to_list())"
   ],
   "metadata": {
    "collapsed": false,
    "ExecuteTime": {
     "end_time": "2024-03-27T14:33:46.663837Z",
     "start_time": "2024-03-27T14:33:46.622044Z"
    }
   },
   "id": "77bed94dd8d730aa"
  },
  {
   "cell_type": "code",
   "execution_count": 94,
   "outputs": [],
   "source": [
    "default_model = CatBoostClassifier(**MODEL_CONFIG)\n",
    "model = default_model.copy()"
   ],
   "metadata": {
    "collapsed": false,
    "ExecuteTime": {
     "end_time": "2024-03-27T14:33:46.925707Z",
     "start_time": "2024-03-27T14:33:46.865422Z"
    }
   },
   "id": "decc0e42c91fa4f1"
  },
  {
   "cell_type": "code",
   "execution_count": 95,
   "outputs": [
    {
     "name": "stdout",
     "output_type": "stream",
     "text": [
      "0:\tlearn: 0.6834529\ttotal: 22.6ms\tremaining: 1m 7s\n",
      "250:\tlearn: 0.3245970\ttotal: 3.94s\tremaining: 43.2s\n",
      "500:\tlearn: 0.3056956\ttotal: 7.41s\tremaining: 36.9s\n",
      "750:\tlearn: 0.2972588\ttotal: 10.6s\tremaining: 31.8s\n",
      "1000:\tlearn: 0.2919571\ttotal: 14.2s\tremaining: 28.3s\n",
      "1250:\tlearn: 0.2871027\ttotal: 18.2s\tremaining: 25.4s\n",
      "1500:\tlearn: 0.2837078\ttotal: 23.7s\tremaining: 23.6s\n",
      "1750:\tlearn: 0.2816475\ttotal: 26.4s\tremaining: 18.8s\n",
      "2000:\tlearn: 0.2799080\ttotal: 29.2s\tremaining: 14.6s\n",
      "2250:\tlearn: 0.2784999\ttotal: 31.9s\tremaining: 10.6s\n",
      "2500:\tlearn: 0.2773517\ttotal: 34.7s\tremaining: 6.92s\n",
      "2750:\tlearn: 0.2763439\ttotal: 37.4s\tremaining: 3.39s\n",
      "2999:\tlearn: 0.2754376\ttotal: 40.4s\tremaining: 0us\n"
     ]
    },
    {
     "data": {
      "text/plain": "<catboost.core.CatBoostClassifier at 0x29a3fe9b0>"
     },
     "execution_count": 95,
     "metadata": {},
     "output_type": "execute_result"
    }
   ],
   "source": [
    "model.fit(X_train, y_train)"
   ],
   "metadata": {
    "collapsed": false,
    "ExecuteTime": {
     "end_time": "2024-03-27T14:34:27.791017Z",
     "start_time": "2024-03-27T14:33:47.031599Z"
    }
   },
   "id": "4d3290acf9a8a01"
  },
  {
   "cell_type": "code",
   "execution_count": 96,
   "outputs": [],
   "source": [
    "y_pred = pd.Series(model.predict(X_test), name=\"y_pred\", index=y_test.index)"
   ],
   "metadata": {
    "collapsed": false,
    "ExecuteTime": {
     "end_time": "2024-03-27T14:34:27.832029Z",
     "start_time": "2024-03-27T14:34:27.791987Z"
    }
   },
   "id": "82764cf5351da633"
  },
  {
   "cell_type": "code",
   "outputs": [
    {
     "name": "stdout",
     "output_type": "stream",
     "text": [
      "              precision    recall  f1-score   support\n",
      "\n",
      "           0       0.89      0.94      0.92      7431\n",
      "           1       0.78      0.64      0.71      2338\n",
      "\n",
      "    accuracy                           0.87      9769\n",
      "   macro avg       0.84      0.79      0.81      9769\n",
      "weighted avg       0.87      0.87      0.87      9769\n"
     ]
    }
   ],
   "source": [
    "print(classification_report(y_test, y_pred))"
   ],
   "metadata": {
    "collapsed": false,
    "ExecuteTime": {
     "end_time": "2024-03-27T14:34:27.853557Z",
     "start_time": "2024-03-27T14:34:27.821657Z"
    }
   },
   "id": "c8034eeb0701b4cf",
   "execution_count": 97
  },
  {
   "cell_type": "code",
   "outputs": [
    {
     "data": {
      "text/plain": "<Figure size 640x480 with 1 Axes>",
      "image/png": "[encoded data removed]"
     },
     "metadata": {},
     "output_type": "display_data"
    }
   ],
   "source": [
    "fig, ax = plt.subplots()\n",
    "plot_roc(model, X_test, y_test, ax)"
   ],
   "metadata": {
    "collapsed": false,
    "ExecuteTime": {
     "end_time": "2024-03-27T14:34:27.968252Z",
     "start_time": "2024-03-27T14:34:27.847216Z"
    }
   },
   "id": "418d616530374f3d",
   "execution_count": 98
  },
  {
   "cell_type": "code",
   "outputs": [
    {
     "name": "stdout",
     "output_type": "stream",
     "text": [
      "Confusion Matrix:\n",
      "[[7012  419]\n",
      " [ 835 1503]]\n"
     ]
    }
   ],
   "source": [
    "print_confusion_matrix(model, X_test, y_test)"
   ],
   "metadata": {
    "collapsed": false,
    "ExecuteTime": {
     "end_time": "2024-03-28T10:35:34.604893Z",
     "start_time": "2024-03-28T10:35:34.550599Z"
    }
   },
   "id": "344d07ada3f1818",
   "execution_count": 133
  },
  {
   "cell_type": "markdown",
   "source": [
    "## Fairness assessment"
   ],
   "metadata": {
    "collapsed": false
   },
   "id": "29b13500e5f32fc0"
  },
  {
   "cell_type": "markdown",
   "source": [
    "### Fairlearn"
   ],
   "metadata": {
    "collapsed": false
   },
   "id": "5687756ca9655407"
  },
  {
   "cell_type": "markdown",
   "source": [
    "#### Detection"
   ],
   "metadata": {
    "collapsed": false
   },
   "id": "11b95d19099133fe"
  },
  {
   "cell_type": "code",
   "outputs": [],
   "source": [
    "from fairlearn.metrics import MetricFrame"
   ],
   "metadata": {
    "collapsed": false,
    "ExecuteTime": {
     "end_time": "2024-03-27T15:38:39.717413Z",
     "start_time": "2024-03-27T15:38:39.689808Z"
    }
   },
   "id": "d34761eeca4a3a50",
   "execution_count": 113
  },
  {
   "cell_type": "code",
   "outputs": [],
   "source": [
    "mf = MetricFrame(\n",
    "    metrics=METRICFRAME_METRICS,\n",
    "    y_true=y_test,\n",
    "    y_pred=y_pred,\n",
    "    sensitive_features=z_test,\n",
    "    random_state=RANDOM_STATE,\n",
    ")"
   ],
   "metadata": {
    "collapsed": false,
    "ExecuteTime": {
     "end_time": "2024-03-28T10:35:42.602419Z",
     "start_time": "2024-03-28T10:35:42.529119Z"
    }
   },
   "id": "fbc20fc160f5cc2",
   "execution_count": 134
  },
  {
   "cell_type": "code",
   "outputs": [
    {
     "data": {
      "text/plain": "tpr         0.642857\nfpr         0.056385\nsel         0.196745\ncount    9769.000000\ndtype: float64"
     },
     "execution_count": 135,
     "metadata": {},
     "output_type": "execute_result"
    }
   ],
   "source": [
    "mf.overall"
   ],
   "metadata": {
    "collapsed": false,
    "ExecuteTime": {
     "end_time": "2024-03-28T10:35:42.905535Z",
     "start_time": "2024-03-28T10:35:42.876823Z"
    }
   },
   "id": "fb44259c3c214d6b",
   "execution_count": 135
  },
  {
   "cell_type": "code",
   "outputs": [
    {
     "data": {
      "text/plain": "             tpr       fpr       sel   count\ngender                                      \nFemale  0.566474  0.016632  0.075495  3232.0\nMale    0.656124  0.081628  0.256693  6537.0",
      "text/html": "<div>\n<style scoped>\n    .dataframe tbody tr th:only-of-type {\n        vertical-align: middle;\n    }\n\n    .dataframe tbody tr th {\n        vertical-align: top;\n    }\n\n    .dataframe thead th {\n        text-align: right;\n    }\n</style>\n<table border=\"1\" class=\"dataframe\">\n  <thead>\n    <tr style=\"text-align: right;\">\n      <th></th>\n      <th>tpr</th>\n      <th>fpr</th>\n      <th>sel</th>\n      <th>count</th>\n    </tr>\n    <tr>\n      <th>gender</th>\n      <th></th>\n      <th></th>\n      <th></th>\n      <th></th>\n    </tr>\n  </thead>\n  <tbody>\n    <tr>\n      <th>Female</th>\n      <td>0.566474</td>\n      <td>0.016632</td>\n      <td>0.075495</td>\n      <td>3232.0</td>\n    </tr>\n    <tr>\n      <th>Male</th>\n      <td>0.656124</td>\n      <td>0.081628</td>\n      <td>0.256693</td>\n      <td>6537.0</td>\n    </tr>\n  </tbody>\n</table>\n</div>"
     },
     "execution_count": 136,
     "metadata": {},
     "output_type": "execute_result"
    }
   ],
   "source": [
    "mf.by_group"
   ],
   "metadata": {
    "collapsed": false,
    "ExecuteTime": {
     "end_time": "2024-03-28T10:35:43.229312Z",
     "start_time": "2024-03-28T10:35:43.195466Z"
    }
   },
   "id": "44eaf1c530494f9e",
   "execution_count": 136
  },
  {
   "cell_type": "code",
   "outputs": [
    {
     "data": {
      "text/plain": "                metric        type          method     value\n8   demographic_parity  difference  between_groups  0.181198\n10  demographic_parity  difference      to_overall  0.121250\n9   demographic_parity       ratio  between_groups  0.294107\n11  demographic_parity       ratio      to_overall  0.383721\n0    equal_opportunity  difference  between_groups  0.089651\n2    equal_opportunity  difference      to_overall  0.076383\n1    equal_opportunity       ratio  between_groups  0.863364\n3    equal_opportunity       ratio      to_overall  0.881182\n4       equalized_odds  difference  between_groups  0.089651\n6       equalized_odds  difference      to_overall  0.076383\n5       equalized_odds       ratio  between_groups  0.203753\n7       equalized_odds       ratio      to_overall  0.294970",
      "text/html": "<div>\n<style scoped>\n    .dataframe tbody tr th:only-of-type {\n        vertical-align: middle;\n    }\n\n    .dataframe tbody tr th {\n        vertical-align: top;\n    }\n\n    .dataframe thead th {\n        text-align: right;\n    }\n</style>\n<table border=\"1\" class=\"dataframe\">\n  <thead>\n    <tr style=\"text-align: right;\">\n      <th></th>\n      <th>metric</th>\n      <th>type</th>\n      <th>method</th>\n      <th>value</th>\n    </tr>\n  </thead>\n  <tbody>\n    <tr>\n      <th>8</th>\n      <td>demographic_parity</td>\n      <td>difference</td>\n      <td>between_groups</td>\n      <td>0.181198</td>\n    </tr>\n    <tr>\n      <th>10</th>\n      <td>demographic_parity</td>\n      <td>difference</td>\n      <td>to_overall</td>\n      <td>0.121250</td>\n    </tr>\n    <tr>\n      <th>9</th>\n      <td>demographic_parity</td>\n      <td>ratio</td>\n      <td>between_groups</td>\n      <td>0.294107</td>\n    </tr>\n    <tr>\n      <th>11</th>\n      <td>demographic_parity</td>\n      <td>ratio</td>\n      <td>to_overall</td>\n      <td>0.383721</td>\n    </tr>\n    <tr>\n      <th>0</th>\n      <td>equal_opportunity</td>\n      <td>difference</td>\n      <td>between_groups</td>\n      <td>0.089651</td>\n    </tr>\n    <tr>\n      <th>2</th>\n      <td>equal_opportunity</td>\n      <td>difference</td>\n      <td>to_overall</td>\n      <td>0.076383</td>\n    </tr>\n    <tr>\n      <th>1</th>\n      <td>equal_opportunity</td>\n      <td>ratio</td>\n      <td>between_groups</td>\n      <td>0.863364</td>\n    </tr>\n    <tr>\n      <th>3</th>\n      <td>equal_opportunity</td>\n      <td>ratio</td>\n      <td>to_overall</td>\n      <td>0.881182</td>\n    </tr>\n    <tr>\n      <th>4</th>\n      <td>equalized_odds</td>\n      <td>difference</td>\n      <td>between_groups</td>\n      <td>0.089651</td>\n    </tr>\n    <tr>\n      <th>6</th>\n      <td>equalized_odds</td>\n      <td>difference</td>\n      <td>to_overall</td>\n      <td>0.076383</td>\n    </tr>\n    <tr>\n      <th>5</th>\n      <td>equalized_odds</td>\n      <td>ratio</td>\n      <td>between_groups</td>\n      <td>0.203753</td>\n    </tr>\n    <tr>\n      <th>7</th>\n      <td>equalized_odds</td>\n      <td>ratio</td>\n      <td>to_overall</td>\n      <td>0.294970</td>\n    </tr>\n  </tbody>\n</table>\n</div>"
     },
     "execution_count": 137,
     "metadata": {},
     "output_type": "execute_result"
    }
   ],
   "source": [
    "calculate_fairlearn_metrics(y_test, y_pred, z_test)"
   ],
   "metadata": {
    "collapsed": false,
    "ExecuteTime": {
     "end_time": "2024-03-28T10:35:44.530067Z",
     "start_time": "2024-03-28T10:35:44.118692Z"
    }
   },
   "id": "cffab7e053ad57",
   "execution_count": 137
  },
  {
   "cell_type": "markdown",
   "source": [
    "#### Mitigation"
   ],
   "metadata": {
    "collapsed": false
   },
   "id": "7aeef9ddb2d0672e"
  },
  {
   "cell_type": "code",
   "outputs": [],
   "source": [
    "from fairlearn.reductions import DemographicParity, ExponentiatedGradient"
   ],
   "metadata": {
    "collapsed": false,
    "ExecuteTime": {
     "end_time": "2024-03-28T10:35:58.530264Z",
     "start_time": "2024-03-28T10:35:58.500275Z"
    }
   },
   "id": "196adcd93db996f8",
   "execution_count": 138
  },
  {
   "cell_type": "code",
   "outputs": [
    {
     "name": "stderr",
     "output_type": "stream",
     "text": [
      "/opt/homebrew/Caskroom/miniconda/base/envs/fairness-toolkits/lib/python3.10/site-packages/fairlearn/reductions/_moments/utility_parity.py:214: FutureWarning: ChainedAssignmentError: behaviour will change in pandas 3.0!\n",
      "You are setting values through chained assignment. Currently this works in certain cases, but when using Copy-on-Write (which will become the default behaviour in pandas 3.0) this will never work to update the original DataFrame or Series, because the intermediate object on which we are setting values will behave as a copy.\n",
      "A typical example is when you are setting values in a column of a DataFrame, like:\n",
      "\n",
      "df[\"col\"][row_indexer] = value\n",
      "\n",
      "Use `df.loc[row_indexer, \"col\"] = values` instead, to perform the assignment in a single step and ensure this keeps updating the original `df`.\n",
      "\n",
      "See the caveats in the documentation: https://pandas.pydata.org/pandas-docs/stable/user_guide/indexing.html#returning-a-view-versus-a-copy\n",
      "\n",
      "  self.pos_basis[i][\"+\", e, g] = 1\n",
      "/opt/homebrew/Caskroom/miniconda/base/envs/fairness-toolkits/lib/python3.10/site-packages/fairlearn/reductions/_moments/utility_parity.py:215: FutureWarning: ChainedAssignmentError: behaviour will change in pandas 3.0!\n",
      "You are setting values through chained assignment. Currently this works in certain cases, but when using Copy-on-Write (which will become the default behaviour in pandas 3.0) this will never work to update the original DataFrame or Series, because the intermediate object on which we are setting values will behave as a copy.\n",
      "A typical example is when you are setting values in a column of a DataFrame, like:\n",
      "\n",
      "df[\"col\"][row_indexer] = value\n",
      "\n",
      "Use `df.loc[row_indexer, \"col\"] = values` instead, to perform the assignment in a single step and ensure this keeps updating the original `df`.\n",
      "\n",
      "See the caveats in the documentation: https://pandas.pydata.org/pandas-docs/stable/user_guide/indexing.html#returning-a-view-versus-a-copy\n",
      "\n",
      "  self.neg_basis[i][\"-\", e, g] = 1\n"
     ]
    },
    {
     "name": "stdout",
     "output_type": "stream",
     "text": [
      "0:\tlearn: 0.6834529\ttotal: 61ms\tremaining: 3m 3s\n",
      "250:\tlearn: 0.3245970\ttotal: 4.89s\tremaining: 53.6s\n",
      "500:\tlearn: 0.3056956\ttotal: 10.5s\tremaining: 52.3s\n",
      "750:\tlearn: 0.2972588\ttotal: 12.8s\tremaining: 38.2s\n",
      "1000:\tlearn: 0.2919571\ttotal: 15.1s\tremaining: 30.1s\n",
      "1250:\tlearn: 0.2871027\ttotal: 17.6s\tremaining: 24.6s\n",
      "1500:\tlearn: 0.2837078\ttotal: 20.2s\tremaining: 20.2s\n",
      "1750:\tlearn: 0.2816475\ttotal: 22.7s\tremaining: 16.2s\n",
      "2000:\tlearn: 0.2799080\ttotal: 25.2s\tremaining: 12.6s\n",
      "2250:\tlearn: 0.2784999\ttotal: 27.5s\tremaining: 9.16s\n",
      "2500:\tlearn: 0.2773517\ttotal: 29.8s\tremaining: 5.95s\n",
      "2750:\tlearn: 0.2763439\ttotal: 32.1s\tremaining: 2.91s\n",
      "2999:\tlearn: 0.2754376\ttotal: 34.5s\tremaining: 0us\n",
      "0:\tlearn: 0.6834529\ttotal: 18.4ms\tremaining: 55.3s\n",
      "250:\tlearn: 0.3245970\ttotal: 2.24s\tremaining: 24.5s\n",
      "500:\tlearn: 0.3056956\ttotal: 4.43s\tremaining: 22.1s\n",
      "750:\tlearn: 0.2972588\ttotal: 6.98s\tremaining: 20.9s\n",
      "1000:\tlearn: 0.2919571\ttotal: 9.25s\tremaining: 18.5s\n",
      "1250:\tlearn: 0.2871027\ttotal: 11.6s\tremaining: 16.2s\n",
      "1500:\tlearn: 0.2837078\ttotal: 14.1s\tremaining: 14s\n",
      "1750:\tlearn: 0.2816475\ttotal: 16.6s\tremaining: 11.8s\n",
      "2000:\tlearn: 0.2799080\ttotal: 19s\tremaining: 9.46s\n",
      "2250:\tlearn: 0.2784999\ttotal: 21.3s\tremaining: 7.08s\n",
      "2500:\tlearn: 0.2773517\ttotal: 23.7s\tremaining: 4.72s\n",
      "2750:\tlearn: 0.2763439\ttotal: 26.1s\tremaining: 2.36s\n",
      "2999:\tlearn: 0.2754376\ttotal: 28.5s\tremaining: 0us\n",
      "0:\tlearn: 0.6838194\ttotal: 44.7ms\tremaining: 2m 13s\n",
      "250:\tlearn: 0.3320293\ttotal: 2.27s\tremaining: 24.8s\n",
      "500:\tlearn: 0.3117100\ttotal: 4.44s\tremaining: 22.2s\n",
      "750:\tlearn: 0.3034411\ttotal: 6.62s\tremaining: 19.8s\n",
      "1000:\tlearn: 0.2975885\ttotal: 8.86s\tremaining: 17.7s\n",
      "1250:\tlearn: 0.2922439\ttotal: 11.2s\tremaining: 15.7s\n",
      "1500:\tlearn: 0.2886415\ttotal: 13.7s\tremaining: 13.7s\n",
      "1750:\tlearn: 0.2864132\ttotal: 16.3s\tremaining: 11.6s\n",
      "2000:\tlearn: 0.2844430\ttotal: 18.8s\tremaining: 9.38s\n",
      "2250:\tlearn: 0.2827795\ttotal: 21.1s\tremaining: 7.01s\n",
      "2500:\tlearn: 0.2813927\ttotal: 23.4s\tremaining: 4.67s\n",
      "2750:\tlearn: 0.2803910\ttotal: 25.8s\tremaining: 2.33s\n",
      "2999:\tlearn: 0.2794201\ttotal: 28.4s\tremaining: 0us\n",
      "0:\tlearn: 0.6836444\ttotal: 36.4ms\tremaining: 1m 49s\n",
      "250:\tlearn: 0.3288774\ttotal: 2.36s\tremaining: 25.8s\n",
      "500:\tlearn: 0.3093364\ttotal: 4.67s\tremaining: 23.3s\n",
      "750:\tlearn: 0.3010903\ttotal: 6.94s\tremaining: 20.8s\n",
      "1000:\tlearn: 0.2957198\ttotal: 9.23s\tremaining: 18.4s\n",
      "1250:\tlearn: 0.2900410\ttotal: 11.6s\tremaining: 16.2s\n",
      "1500:\tlearn: 0.2866943\ttotal: 14s\tremaining: 13.9s\n",
      "1750:\tlearn: 0.2849359\ttotal: 16.4s\tremaining: 11.7s\n",
      "2000:\tlearn: 0.2833043\ttotal: 18.8s\tremaining: 9.37s\n",
      "2250:\tlearn: 0.2817307\ttotal: 21.4s\tremaining: 7.12s\n",
      "2500:\tlearn: 0.2804872\ttotal: 23.7s\tremaining: 4.73s\n",
      "2750:\tlearn: 0.2794533\ttotal: 26s\tremaining: 2.35s\n",
      "2999:\tlearn: 0.2785851\ttotal: 28.3s\tremaining: 0us\n",
      "0:\tlearn: 0.6503391\ttotal: 37.6ms\tremaining: 1m 52s\n",
      "250:\tlearn: 0.0001782\ttotal: 2.29s\tremaining: 25.1s\n",
      "500:\tlearn: 0.0000977\ttotal: 4.12s\tremaining: 20.6s\n",
      "750:\tlearn: 0.0000972\ttotal: 6.08s\tremaining: 18.2s\n",
      "1000:\tlearn: 0.0000971\ttotal: 8.05s\tremaining: 16.1s\n",
      "1250:\tlearn: 0.0000971\ttotal: 9.83s\tremaining: 13.7s\n",
      "1500:\tlearn: 0.0000971\ttotal: 11.6s\tremaining: 11.6s\n",
      "1750:\tlearn: 0.0000971\ttotal: 13.2s\tremaining: 9.4s\n",
      "2000:\tlearn: 0.0000971\ttotal: 14.8s\tremaining: 7.38s\n",
      "2250:\tlearn: 0.0000971\ttotal: 16.4s\tremaining: 5.44s\n",
      "2500:\tlearn: 0.0000971\ttotal: 17.9s\tremaining: 3.58s\n",
      "2750:\tlearn: 0.0000971\ttotal: 19.5s\tremaining: 1.76s\n",
      "2999:\tlearn: 0.0000971\ttotal: 21s\tremaining: 0us\n",
      "0:\tlearn: 0.6840821\ttotal: 63ms\tremaining: 3m 8s\n",
      "250:\tlearn: 0.3329326\ttotal: 2.56s\tremaining: 28s\n",
      "500:\tlearn: 0.3108664\ttotal: 5.11s\tremaining: 25.5s\n",
      "750:\tlearn: 0.3017482\ttotal: 7.38s\tremaining: 22.1s\n",
      "1000:\tlearn: 0.2957549\ttotal: 9.73s\tremaining: 19.4s\n",
      "1250:\tlearn: 0.2910706\ttotal: 12.1s\tremaining: 16.9s\n",
      "1500:\tlearn: 0.2870985\ttotal: 14.5s\tremaining: 14.4s\n",
      "1750:\tlearn: 0.2848709\ttotal: 16.8s\tremaining: 12s\n",
      "2000:\tlearn: 0.2831505\ttotal: 19.1s\tremaining: 9.53s\n",
      "2250:\tlearn: 0.2814372\ttotal: 21.4s\tremaining: 7.13s\n",
      "2500:\tlearn: 0.2800738\ttotal: 24.6s\tremaining: 4.91s\n",
      "2750:\tlearn: 0.2790394\ttotal: 29.6s\tremaining: 2.68s\n",
      "2999:\tlearn: 0.2779439\ttotal: 34.3s\tremaining: 0us\n",
      "0:\tlearn: 0.6837862\ttotal: 23ms\tremaining: 1m 9s\n",
      "250:\tlearn: 0.3314474\ttotal: 2.32s\tremaining: 25.5s\n",
      "500:\tlearn: 0.3115551\ttotal: 4.56s\tremaining: 22.7s\n",
      "750:\tlearn: 0.3030965\ttotal: 6.84s\tremaining: 20.5s\n",
      "1000:\tlearn: 0.2975610\ttotal: 9.07s\tremaining: 18.1s\n",
      "1250:\tlearn: 0.2918435\ttotal: 11.5s\tremaining: 16s\n",
      "1500:\tlearn: 0.2887247\ttotal: 13.8s\tremaining: 13.8s\n",
      "1750:\tlearn: 0.2866687\ttotal: 16.1s\tremaining: 11.5s\n",
      "2000:\tlearn: 0.2847009\ttotal: 18.4s\tremaining: 9.21s\n",
      "2250:\tlearn: 0.2832965\ttotal: 20.7s\tremaining: 6.89s\n",
      "2500:\tlearn: 0.2817779\ttotal: 23s\tremaining: 4.58s\n",
      "2750:\tlearn: 0.2807632\ttotal: 25.3s\tremaining: 2.29s\n",
      "2999:\tlearn: 0.2797262\ttotal: 27.6s\tremaining: 0us\n",
      "0:\tlearn: 0.6821688\ttotal: 62.2ms\tremaining: 3m 6s\n",
      "250:\tlearn: 0.2344000\ttotal: 2.4s\tremaining: 26.3s\n",
      "500:\tlearn: 0.2178248\ttotal: 4.72s\tremaining: 23.6s\n",
      "750:\tlearn: 0.2116652\ttotal: 7s\tremaining: 21s\n",
      "1000:\tlearn: 0.2076024\ttotal: 9.3s\tremaining: 18.6s\n",
      "1250:\tlearn: 0.2047613\ttotal: 11.6s\tremaining: 16.2s\n",
      "1500:\tlearn: 0.2036722\ttotal: 13.6s\tremaining: 13.6s\n",
      "1750:\tlearn: 0.2026367\ttotal: 15.8s\tremaining: 11.2s\n",
      "2000:\tlearn: 0.2017662\ttotal: 18s\tremaining: 8.97s\n",
      "2250:\tlearn: 0.2008331\ttotal: 20.2s\tremaining: 6.74s\n",
      "2500:\tlearn: 0.1998868\ttotal: 22.5s\tremaining: 4.48s\n",
      "2750:\tlearn: 0.1988938\ttotal: 24.7s\tremaining: 2.24s\n",
      "2999:\tlearn: 0.1980410\ttotal: 27s\tremaining: 0us\n",
      "0:\tlearn: 0.6842320\ttotal: 45ms\tremaining: 2m 14s\n",
      "250:\tlearn: 0.3303301\ttotal: 2.27s\tremaining: 24.9s\n",
      "500:\tlearn: 0.3074139\ttotal: 4.43s\tremaining: 22.1s\n",
      "750:\tlearn: 0.2977777\ttotal: 6.65s\tremaining: 19.9s\n",
      "1000:\tlearn: 0.2920902\ttotal: 8.9s\tremaining: 17.8s\n",
      "1250:\tlearn: 0.2869761\ttotal: 11.2s\tremaining: 15.7s\n",
      "1500:\tlearn: 0.2835385\ttotal: 13.5s\tremaining: 13.5s\n",
      "1750:\tlearn: 0.2812334\ttotal: 15.7s\tremaining: 11.2s\n",
      "2000:\tlearn: 0.2792735\ttotal: 18s\tremaining: 8.98s\n",
      "2250:\tlearn: 0.2776631\ttotal: 20.2s\tremaining: 6.73s\n",
      "2500:\tlearn: 0.2764362\ttotal: 22.5s\tremaining: 4.5s\n",
      "2750:\tlearn: 0.2753690\ttotal: 24.8s\tremaining: 2.25s\n",
      "2999:\tlearn: 0.2743925\ttotal: 27.1s\tremaining: 0us\n",
      "0:\tlearn: 0.6838986\ttotal: 55.8ms\tremaining: 2m 47s\n",
      "250:\tlearn: 0.3331413\ttotal: 2.27s\tremaining: 24.9s\n",
      "500:\tlearn: 0.3125739\ttotal: 4.37s\tremaining: 21.8s\n",
      "750:\tlearn: 0.3036062\ttotal: 6.66s\tremaining: 20s\n",
      "1000:\tlearn: 0.2975848\ttotal: 8.91s\tremaining: 17.8s\n",
      "1250:\tlearn: 0.2921065\ttotal: 11.2s\tremaining: 15.7s\n",
      "1500:\tlearn: 0.2888648\ttotal: 13.5s\tremaining: 13.5s\n",
      "1750:\tlearn: 0.2867010\ttotal: 15.7s\tremaining: 11.2s\n",
      "2000:\tlearn: 0.2846925\ttotal: 18s\tremaining: 9.01s\n",
      "2250:\tlearn: 0.2831215\ttotal: 20.3s\tremaining: 6.76s\n",
      "2500:\tlearn: 0.2817546\ttotal: 22.5s\tremaining: 4.5s\n",
      "2750:\tlearn: 0.2805723\ttotal: 24.8s\tremaining: 2.24s\n",
      "2999:\tlearn: 0.2796426\ttotal: 27s\tremaining: 0us\n",
      "0:\tlearn: 0.6849755\ttotal: 63.3ms\tremaining: 3m 9s\n",
      "250:\tlearn: 0.2752816\ttotal: 2.26s\tremaining: 24.7s\n",
      "500:\tlearn: 0.2538224\ttotal: 4.43s\tremaining: 22.1s\n",
      "750:\tlearn: 0.2459533\ttotal: 6.68s\tremaining: 20s\n",
      "1000:\tlearn: 0.2409226\ttotal: 8.9s\tremaining: 17.8s\n",
      "1250:\tlearn: 0.2368190\ttotal: 11.2s\tremaining: 15.7s\n",
      "1500:\tlearn: 0.2338038\ttotal: 13.5s\tremaining: 13.5s\n",
      "1750:\tlearn: 0.2322695\ttotal: 15.8s\tremaining: 11.3s\n",
      "2000:\tlearn: 0.2308482\ttotal: 18.1s\tremaining: 9.02s\n",
      "2250:\tlearn: 0.2296262\ttotal: 20.3s\tremaining: 6.76s\n",
      "2500:\tlearn: 0.2286778\ttotal: 22.6s\tremaining: 4.51s\n",
      "2750:\tlearn: 0.2278491\ttotal: 24.8s\tremaining: 2.25s\n",
      "2999:\tlearn: 0.2270893\ttotal: 27.1s\tremaining: 0us\n",
      "0:\tlearn: 0.6843199\ttotal: 67.9ms\tremaining: 3m 23s\n",
      "250:\tlearn: 0.3266469\ttotal: 2.26s\tremaining: 24.8s\n",
      "500:\tlearn: 0.3032027\ttotal: 4.37s\tremaining: 21.8s\n",
      "750:\tlearn: 0.2937184\ttotal: 6.59s\tremaining: 19.7s\n",
      "1000:\tlearn: 0.2877748\ttotal: 8.85s\tremaining: 17.7s\n",
      "1250:\tlearn: 0.2822849\ttotal: 11.1s\tremaining: 15.5s\n",
      "1500:\tlearn: 0.2793775\ttotal: 13.3s\tremaining: 13.3s\n",
      "1750:\tlearn: 0.2773930\ttotal: 15.5s\tremaining: 11.1s\n",
      "2000:\tlearn: 0.2753780\ttotal: 17.8s\tremaining: 8.9s\n",
      "2250:\tlearn: 0.2737928\ttotal: 20.1s\tremaining: 6.69s\n",
      "2500:\tlearn: 0.2725224\ttotal: 22.4s\tremaining: 4.46s\n",
      "2750:\tlearn: 0.2715065\ttotal: 24.6s\tremaining: 2.23s\n",
      "2999:\tlearn: 0.2706263\ttotal: 26.8s\tremaining: 0us\n",
      "0:\tlearn: 0.6840016\ttotal: 38.8ms\tremaining: 1m 56s\n",
      "250:\tlearn: 0.3333031\ttotal: 2.24s\tremaining: 24.5s\n",
      "500:\tlearn: 0.3117877\ttotal: 4.39s\tremaining: 21.9s\n",
      "750:\tlearn: 0.3027819\ttotal: 6.53s\tremaining: 19.6s\n",
      "1000:\tlearn: 0.2970966\ttotal: 8.81s\tremaining: 17.6s\n",
      "1250:\tlearn: 0.2921400\ttotal: 11.1s\tremaining: 15.6s\n",
      "1500:\tlearn: 0.2883741\ttotal: 13.4s\tremaining: 13.3s\n",
      "1750:\tlearn: 0.2863253\ttotal: 15.5s\tremaining: 11.1s\n",
      "2000:\tlearn: 0.2840871\ttotal: 17.7s\tremaining: 8.85s\n",
      "2250:\tlearn: 0.2825604\ttotal: 19.9s\tremaining: 6.62s\n",
      "2500:\tlearn: 0.2811413\ttotal: 22.1s\tremaining: 4.41s\n",
      "2750:\tlearn: 0.2800645\ttotal: 24.3s\tremaining: 2.19s\n",
      "2999:\tlearn: 0.2791525\ttotal: 26.4s\tremaining: 0us\n",
      "0:\tlearn: 0.6855833\ttotal: 40.8ms\tremaining: 2m 2s\n",
      "250:\tlearn: 0.3018546\ttotal: 2.34s\tremaining: 25.6s\n",
      "500:\tlearn: 0.2780950\ttotal: 4.49s\tremaining: 22.4s\n",
      "750:\tlearn: 0.2691695\ttotal: 6.7s\tremaining: 20.1s\n",
      "1000:\tlearn: 0.2640283\ttotal: 8.9s\tremaining: 17.8s\n",
      "1250:\tlearn: 0.2595316\ttotal: 11.2s\tremaining: 15.6s\n",
      "1500:\tlearn: 0.2560467\ttotal: 13.5s\tremaining: 13.5s\n",
      "1750:\tlearn: 0.2540293\ttotal: 15.7s\tremaining: 11.2s\n",
      "2000:\tlearn: 0.2526170\ttotal: 18s\tremaining: 8.97s\n",
      "2250:\tlearn: 0.2512730\ttotal: 20.2s\tremaining: 6.71s\n",
      "2500:\tlearn: 0.2502584\ttotal: 22.4s\tremaining: 4.46s\n",
      "2750:\tlearn: 0.2490410\ttotal: 24.6s\tremaining: 2.23s\n",
      "2999:\tlearn: 0.2479860\ttotal: 26.8s\tremaining: 0us\n",
      "0:\tlearn: 0.6843647\ttotal: 66.1ms\tremaining: 3m 18s\n",
      "250:\tlearn: 0.3239648\ttotal: 2.28s\tremaining: 25s\n",
      "500:\tlearn: 0.2996158\ttotal: 4.41s\tremaining: 22s\n",
      "750:\tlearn: 0.2902944\ttotal: 6.54s\tremaining: 19.6s\n",
      "1000:\tlearn: 0.2846594\ttotal: 8.7s\tremaining: 17.4s\n",
      "1250:\tlearn: 0.2797188\ttotal: 11.1s\tremaining: 15.5s\n",
      "1500:\tlearn: 0.2760595\ttotal: 17.1s\tremaining: 17.1s\n",
      "1750:\tlearn: 0.2738694\ttotal: 19.4s\tremaining: 13.9s\n",
      "2000:\tlearn: 0.2722575\ttotal: 21.6s\tremaining: 10.8s\n",
      "2250:\tlearn: 0.2706804\ttotal: 23.8s\tremaining: 7.92s\n",
      "2500:\tlearn: 0.2696055\ttotal: 26s\tremaining: 5.19s\n",
      "2750:\tlearn: 0.2686808\ttotal: 28.2s\tremaining: 2.55s\n",
      "2999:\tlearn: 0.2677825\ttotal: 30.8s\tremaining: 0us\n",
      "0:\tlearn: 0.6840680\ttotal: 37.9ms\tremaining: 1m 53s\n",
      "250:\tlearn: 0.3329012\ttotal: 2.2s\tremaining: 24.1s\n",
      "500:\tlearn: 0.3112158\ttotal: 4.36s\tremaining: 21.8s\n",
      "750:\tlearn: 0.3022209\ttotal: 6.49s\tremaining: 19.4s\n",
      "1000:\tlearn: 0.2963409\ttotal: 8.77s\tremaining: 17.5s\n",
      "1250:\tlearn: 0.2909298\ttotal: 11s\tremaining: 15.4s\n",
      "1500:\tlearn: 0.2874979\ttotal: 13.2s\tremaining: 13.2s\n",
      "1750:\tlearn: 0.2853191\ttotal: 15.5s\tremaining: 11s\n",
      "2000:\tlearn: 0.2835076\ttotal: 17.7s\tremaining: 8.86s\n",
      "2250:\tlearn: 0.2820383\ttotal: 20.1s\tremaining: 6.7s\n",
      "2500:\tlearn: 0.2806269\ttotal: 22.5s\tremaining: 4.49s\n",
      "2750:\tlearn: 0.2794515\ttotal: 24.8s\tremaining: 2.25s\n",
      "2999:\tlearn: 0.2785157\ttotal: 27.2s\tremaining: 0us\n",
      "0:\tlearn: 0.6844687\ttotal: 28.1ms\tremaining: 1m 24s\n",
      "250:\tlearn: 0.3149177\ttotal: 2.42s\tremaining: 26.5s\n",
      "500:\tlearn: 0.2910213\ttotal: 4.56s\tremaining: 22.8s\n",
      "750:\tlearn: 0.2820296\ttotal: 6.93s\tremaining: 20.7s\n",
      "1000:\tlearn: 0.2764538\ttotal: 9.23s\tremaining: 18.4s\n",
      "1250:\tlearn: 0.2715723\ttotal: 11.6s\tremaining: 16.2s\n",
      "1500:\tlearn: 0.2683084\ttotal: 14s\tremaining: 14s\n",
      "1750:\tlearn: 0.2661836\ttotal: 16.2s\tremaining: 11.6s\n",
      "2000:\tlearn: 0.2643341\ttotal: 18.6s\tremaining: 9.29s\n",
      "2250:\tlearn: 0.2627927\ttotal: 20.8s\tremaining: 6.93s\n",
      "2500:\tlearn: 0.2615759\ttotal: 23.1s\tremaining: 4.6s\n",
      "2750:\tlearn: 0.2605439\ttotal: 25.3s\tremaining: 2.29s\n",
      "2999:\tlearn: 0.2595780\ttotal: 27.6s\tremaining: 0us\n",
      "0:\tlearn: 0.6736372\ttotal: 20ms\tremaining: 59.9s\n",
      "250:\tlearn: 0.1365221\ttotal: 2.42s\tremaining: 26.5s\n",
      "500:\tlearn: 0.1259468\ttotal: 4.76s\tremaining: 23.8s\n",
      "750:\tlearn: 0.1221209\ttotal: 7.02s\tremaining: 21s\n",
      "1000:\tlearn: 0.1201632\ttotal: 9.29s\tremaining: 18.5s\n",
      "1250:\tlearn: 0.1189397\ttotal: 11.7s\tremaining: 16.3s\n",
      "1500:\tlearn: 0.1184819\ttotal: 13.6s\tremaining: 13.6s\n",
      "1750:\tlearn: 0.1179942\ttotal: 15.6s\tremaining: 11.1s\n",
      "2000:\tlearn: 0.1174884\ttotal: 20.7s\tremaining: 10.4s\n",
      "2250:\tlearn: 0.1171015\ttotal: 22.9s\tremaining: 7.61s\n",
      "2500:\tlearn: 0.1168144\ttotal: 25.1s\tremaining: 5s\n",
      "2750:\tlearn: 0.1165576\ttotal: 27.2s\tremaining: 2.46s\n",
      "2999:\tlearn: 0.1161133\ttotal: 29.3s\tremaining: 0us\n",
      "0:\tlearn: 0.6503180\ttotal: 36.6ms\tremaining: 1m 49s\n",
      "250:\tlearn: 0.0001671\ttotal: 2.4s\tremaining: 26.2s\n",
      "500:\tlearn: 0.0000925\ttotal: 4.37s\tremaining: 21.8s\n",
      "750:\tlearn: 0.0000925\ttotal: 6.1s\tremaining: 18.3s\n",
      "1000:\tlearn: 0.0000925\ttotal: 7.88s\tremaining: 15.7s\n",
      "1250:\tlearn: 0.0000924\ttotal: 9.54s\tremaining: 13.3s\n",
      "1500:\tlearn: 0.0000924\ttotal: 11.2s\tremaining: 11.1s\n",
      "1750:\tlearn: 0.0000924\ttotal: 12.8s\tremaining: 9.11s\n",
      "2000:\tlearn: 0.0000924\ttotal: 14.4s\tremaining: 7.17s\n",
      "2250:\tlearn: 0.0000924\ttotal: 16s\tremaining: 5.31s\n",
      "2500:\tlearn: 0.0000924\ttotal: 17.5s\tremaining: 3.5s\n",
      "2750:\tlearn: 0.0000924\ttotal: 19.1s\tremaining: 1.73s\n",
      "2999:\tlearn: 0.0000924\ttotal: 20.6s\tremaining: 0us\n",
      "0:\tlearn: 0.6503512\ttotal: 79.2ms\tremaining: 3m 57s\n",
      "250:\tlearn: 0.0001975\ttotal: 2.15s\tremaining: 23.6s\n",
      "500:\tlearn: 0.0001101\ttotal: 3.9s\tremaining: 19.5s\n",
      "750:\tlearn: 0.0001101\ttotal: 5.52s\tremaining: 16.5s\n",
      "1000:\tlearn: 0.0001101\ttotal: 7.11s\tremaining: 14.2s\n",
      "1250:\tlearn: 0.0001101\ttotal: 8.71s\tremaining: 12.2s\n",
      "1500:\tlearn: 0.0001101\ttotal: 10.3s\tremaining: 10.3s\n",
      "1750:\tlearn: 0.0001101\ttotal: 11.9s\tremaining: 8.46s\n",
      "2000:\tlearn: 0.0001101\ttotal: 13.4s\tremaining: 6.69s\n",
      "2250:\tlearn: 0.0001101\ttotal: 15s\tremaining: 4.98s\n",
      "2500:\tlearn: 0.0001101\ttotal: 16.5s\tremaining: 3.29s\n",
      "2750:\tlearn: 0.0001101\ttotal: 18.1s\tremaining: 1.64s\n",
      "2999:\tlearn: 0.0001101\ttotal: 19.6s\tremaining: 0us\n"
     ]
    },
    {
     "data": {
      "text/plain": "ExponentiatedGradient(constraints=<fairlearn.reductions._moments.utility_parity.DemographicParity object at 0x2b48f3340>,\n                      estimator=<catboost.core.CatBoostClassifier object at 0x2b48f3be0>,\n                      max_iter=10, nu=0.0008363288569675996)",
      "text/html": "<style>#sk-container-id-3 {\n  /* Definition of color scheme common for light and dark mode */\n  --sklearn-color-text: black;\n  --sklearn-color-line: gray;\n  /* Definition of color scheme for unfitted estimators */\n  --sklearn-color-unfitted-level-0: #fff5e6;\n  --sklearn-color-unfitted-level-1: #f6e4d2;\n  --sklearn-color-unfitted-level-2: #ffe0b3;\n  --sklearn-color-unfitted-level-3: chocolate;\n  /* Definition of color scheme for fitted estimators */\n  --sklearn-color-fitted-level-0: #f0f8ff;\n  --sklearn-color-fitted-level-1: #d4ebff;\n  --sklearn-color-fitted-level-2: #b3dbfd;\n  --sklearn-color-fitted-level-3: cornflowerblue;\n\n  /* Specific color for light theme */\n  --sklearn-color-text-on-default-background: var(--sg-text-color, var(--theme-code-foreground, var(--jp-content-font-color1, black)));\n  --sklearn-color-background: var(--sg-background-color, var(--theme-background, var(--jp-layout-color0, white)));\n  --sklearn-color-border-box: var(--sg-text-color, var(--theme-code-foreground, var(--jp-content-font-color1, black)));\n  --sklearn-color-icon: #696969;\n\n  @media (prefers-color-scheme: dark) {\n    /* Redefinition of color scheme for dark theme */\n    --sklearn-color-text-on-default-background: var(--sg-text-color, var(--theme-code-foreground, var(--jp-content-font-color1, white)));\n    --sklearn-color-background: var(--sg-background-color, var(--theme-background, var(--jp-layout-color0, #111)));\n    --sklearn-color-border-box: var(--sg-text-color, var(--theme-code-foreground, var(--jp-content-font-color1, white)));\n    --sklearn-color-icon: #878787;\n  }\n}\n\n#sk-container-id-3 {\n  color: var(--sklearn-color-text);\n}\n\n#sk-container-id-3 pre {\n  padding: 0;\n}\n\n#sk-container-id-3 input.sk-hidden--visually {\n  border: 0;\n  clip: rect(1px 1px 1px 1px);\n  clip: rect(1px, 1px, 1px, 1px);\n  height: 1px;\n  margin: -1px;\n  overflow: hidden;\n  padding: 0;\n  position: absolute;\n  width: 1px;\n}\n\n#sk-container-id-3 div.sk-dashed-wrapped {\n  border: 1px dashed var(--sklearn-color-line);\n  margin: 0 0.4em 0.5em 0.4em;\n  box-sizing: border-box;\n  padding-bottom: 0.4em;\n  background-color: var(--sklearn-color-background);\n}\n\n#sk-container-id-3 div.sk-container {\n  /* jupyter's `normalize.less` sets `[hidden] { display: none; }`\n     but bootstrap.min.css set `[hidden] { display: none !important; }`\n     so we also need the `!important` here to be able to override the\n     default hidden behavior on the sphinx rendered scikit-learn.org.\n     See: https://github.com/scikit-learn/scikit-learn/issues/21755 */\n  display: inline-block !important;\n  position: relative;\n}\n\n#sk-container-id-3 div.sk-text-repr-fallback {\n  display: none;\n}\n\ndiv.sk-parallel-item,\ndiv.sk-serial,\ndiv.sk-item {\n  /* draw centered vertical line to link estimators */\n  background-image: linear-gradient(var(--sklearn-color-text-on-default-background), var(--sklearn-color-text-on-default-background));\n  background-size: 2px 100%;\n  background-repeat: no-repeat;\n  background-position: center center;\n}\n\n/* Parallel-specific style estimator block */\n\n#sk-container-id-3 div.sk-parallel-item::after {\n  content: \"\";\n  width: 100%;\n  border-bottom: 2px solid var(--sklearn-color-text-on-default-background);\n  flex-grow: 1;\n}\n\n#sk-container-id-3 div.sk-parallel {\n  display: flex;\n  align-items: stretch;\n  justify-content: center;\n  background-color: var(--sklearn-color-background);\n  position: relative;\n}\n\n#sk-container-id-3 div.sk-parallel-item {\n  display: flex;\n  flex-direction: column;\n}\n\n#sk-container-id-3 div.sk-parallel-item:first-child::after {\n  align-self: flex-end;\n  width: 50%;\n}\n\n#sk-container-id-3 div.sk-parallel-item:last-child::after {\n  align-self: flex-start;\n  width: 50%;\n}\n\n#sk-container-id-3 div.sk-parallel-item:only-child::after {\n  width: 0;\n}\n\n/* Serial-specific style estimator block */\n\n#sk-container-id-3 div.sk-serial {\n  display: flex;\n  flex-direction: column;\n  align-items: center;\n  background-color: var(--sklearn-color-background);\n  padding-right: 1em;\n  padding-left: 1em;\n}\n\n\n/* Toggleable style: style used for estimator/Pipeline/ColumnTransformer box that is\nclickable and can be expanded/collapsed.\n- Pipeline and ColumnTransformer use this feature and define the default style\n- Estimators will overwrite some part of the style using the `sk-estimator` class\n*/\n\n/* Pipeline and ColumnTransformer style (default) */\n\n#sk-container-id-3 div.sk-toggleable {\n  /* Default theme specific background. It is overwritten whether we have a\n  specific estimator or a Pipeline/ColumnTransformer */\n  background-color: var(--sklearn-color-background);\n}\n\n/* Toggleable label */\n#sk-container-id-3 label.sk-toggleable__label {\n  cursor: pointer;\n  display: block;\n  width: 100%;\n  margin-bottom: 0;\n  padding: 0.5em;\n  box-sizing: border-box;\n  text-align: center;\n}\n\n#sk-container-id-3 label.sk-toggleable__label-arrow:before {\n  /* Arrow on the left of the label */\n  content: \"▸\";\n  float: left;\n  margin-right: 0.25em;\n  color: var(--sklearn-color-icon);\n}\n\n#sk-container-id-3 label.sk-toggleable__label-arrow:hover:before {\n  color: var(--sklearn-color-text);\n}\n\n/* Toggleable content - dropdown */\n\n#sk-container-id-3 div.sk-toggleable__content {\n  max-height: 0;\n  max-width: 0;\n  overflow: hidden;\n  text-align: left;\n  /* unfitted */\n  background-color: var(--sklearn-color-unfitted-level-0);\n}\n\n#sk-container-id-3 div.sk-toggleable__content.fitted {\n  /* fitted */\n  background-color: var(--sklearn-color-fitted-level-0);\n}\n\n#sk-container-id-3 div.sk-toggleable__content pre {\n  margin: 0.2em;\n  border-radius: 0.25em;\n  color: var(--sklearn-color-text);\n  /* unfitted */\n  background-color: var(--sklearn-color-unfitted-level-0);\n}\n\n#sk-container-id-3 div.sk-toggleable__content.fitted pre {\n  /* unfitted */\n  background-color: var(--sklearn-color-fitted-level-0);\n}\n\n#sk-container-id-3 input.sk-toggleable__control:checked~div.sk-toggleable__content {\n  /* Expand drop-down */\n  max-height: 200px;\n  max-width: 100%;\n  overflow: auto;\n}\n\n#sk-container-id-3 input.sk-toggleable__control:checked~label.sk-toggleable__label-arrow:before {\n  content: \"▾\";\n}\n\n/* Pipeline/ColumnTransformer-specific style */\n\n#sk-container-id-3 div.sk-label input.sk-toggleable__control:checked~label.sk-toggleable__label {\n  color: var(--sklearn-color-text);\n  background-color: var(--sklearn-color-unfitted-level-2);\n}\n\n#sk-container-id-3 div.sk-label.fitted input.sk-toggleable__control:checked~label.sk-toggleable__label {\n  background-color: var(--sklearn-color-fitted-level-2);\n}\n\n/* Estimator-specific style */\n\n/* Colorize estimator box */\n#sk-container-id-3 div.sk-estimator input.sk-toggleable__control:checked~label.sk-toggleable__label {\n  /* unfitted */\n  background-color: var(--sklearn-color-unfitted-level-2);\n}\n\n#sk-container-id-3 div.sk-estimator.fitted input.sk-toggleable__control:checked~label.sk-toggleable__label {\n  /* fitted */\n  background-color: var(--sklearn-color-fitted-level-2);\n}\n\n#sk-container-id-3 div.sk-label label.sk-toggleable__label,\n#sk-container-id-3 div.sk-label label {\n  /* The background is the default theme color */\n  color: var(--sklearn-color-text-on-default-background);\n}\n\n/* On hover, darken the color of the background */\n#sk-container-id-3 div.sk-label:hover label.sk-toggleable__label {\n  color: var(--sklearn-color-text);\n  background-color: var(--sklearn-color-unfitted-level-2);\n}\n\n/* Label box, darken color on hover, fitted */\n#sk-container-id-3 div.sk-label.fitted:hover label.sk-toggleable__label.fitted {\n  color: var(--sklearn-color-text);\n  background-color: var(--sklearn-color-fitted-level-2);\n}\n\n/* Estimator label */\n\n#sk-container-id-3 div.sk-label label {\n  font-family: monospace;\n  font-weight: bold;\n  display: inline-block;\n  line-height: 1.2em;\n}\n\n#sk-container-id-3 div.sk-label-container {\n  text-align: center;\n}\n\n/* Estimator-specific */\n#sk-container-id-3 div.sk-estimator {\n  font-family: monospace;\n  border: 1px dotted var(--sklearn-color-border-box);\n  border-radius: 0.25em;\n  box-sizing: border-box;\n  margin-bottom: 0.5em;\n  /* unfitted */\n  background-color: var(--sklearn-color-unfitted-level-0);\n}\n\n#sk-container-id-3 div.sk-estimator.fitted {\n  /* fitted */\n  background-color: var(--sklearn-color-fitted-level-0);\n}\n\n/* on hover */\n#sk-container-id-3 div.sk-estimator:hover {\n  /* unfitted */\n  background-color: var(--sklearn-color-unfitted-level-2);\n}\n\n#sk-container-id-3 div.sk-estimator.fitted:hover {\n  /* fitted */\n  background-color: var(--sklearn-color-fitted-level-2);\n}\n\n/* Specification for estimator info (e.g. \"i\" and \"?\") */\n\n/* Common style for \"i\" and \"?\" */\n\n.sk-estimator-doc-link,\na:link.sk-estimator-doc-link,\na:visited.sk-estimator-doc-link {\n  float: right;\n  font-size: smaller;\n  line-height: 1em;\n  font-family: monospace;\n  background-color: var(--sklearn-color-background);\n  border-radius: 1em;\n  height: 1em;\n  width: 1em;\n  text-decoration: none !important;\n  margin-left: 1ex;\n  /* unfitted */\n  border: var(--sklearn-color-unfitted-level-1) 1pt solid;\n  color: var(--sklearn-color-unfitted-level-1);\n}\n\n.sk-estimator-doc-link.fitted,\na:link.sk-estimator-doc-link.fitted,\na:visited.sk-estimator-doc-link.fitted {\n  /* fitted */\n  border: var(--sklearn-color-fitted-level-1) 1pt solid;\n  color: var(--sklearn-color-fitted-level-1);\n}\n\n/* On hover */\ndiv.sk-estimator:hover .sk-estimator-doc-link:hover,\n.sk-estimator-doc-link:hover,\ndiv.sk-label-container:hover .sk-estimator-doc-link:hover,\n.sk-estimator-doc-link:hover {\n  /* unfitted */\n  background-color: var(--sklearn-color-unfitted-level-3);\n  color: var(--sklearn-color-background);\n  text-decoration: none;\n}\n\ndiv.sk-estimator.fitted:hover .sk-estimator-doc-link.fitted:hover,\n.sk-estimator-doc-link.fitted:hover,\ndiv.sk-label-container:hover .sk-estimator-doc-link.fitted:hover,\n.sk-estimator-doc-link.fitted:hover {\n  /* fitted */\n  background-color: var(--sklearn-color-fitted-level-3);\n  color: var(--sklearn-color-background);\n  text-decoration: none;\n}\n\n/* Span, style for the box shown on hovering the info icon */\n.sk-estimator-doc-link span {\n  display: none;\n  z-index: 9999;\n  position: relative;\n  font-weight: normal;\n  right: .2ex;\n  padding: .5ex;\n  margin: .5ex;\n  width: min-content;\n  min-width: 20ex;\n  max-width: 50ex;\n  color: var(--sklearn-color-text);\n  box-shadow: 2pt 2pt 4pt #999;\n  /* unfitted */\n  background: var(--sklearn-color-unfitted-level-0);\n  border: .5pt solid var(--sklearn-color-unfitted-level-3);\n}\n\n.sk-estimator-doc-link.fitted span {\n  /* fitted */\n  background: var(--sklearn-color-fitted-level-0);\n  border: var(--sklearn-color-fitted-level-3);\n}\n\n.sk-estimator-doc-link:hover span {\n  display: block;\n}\n\n/* \"?\"-specific style due to the `<a>` HTML tag */\n\n#sk-container-id-3 a.estimator_doc_link {\n  float: right;\n  font-size: 1rem;\n  line-height: 1em;\n  font-family: monospace;\n  background-color: var(--sklearn-color-background);\n  border-radius: 1rem;\n  height: 1rem;\n  width: 1rem;\n  text-decoration: none;\n  /* unfitted */\n  color: var(--sklearn-color-unfitted-level-1);\n  border: var(--sklearn-color-unfitted-level-1) 1pt solid;\n}\n\n#sk-container-id-3 a.estimator_doc_link.fitted {\n  /* fitted */\n  border: var(--sklearn-color-fitted-level-1) 1pt solid;\n  color: var(--sklearn-color-fitted-level-1);\n}\n\n/* On hover */\n#sk-container-id-3 a.estimator_doc_link:hover {\n  /* unfitted */\n  background-color: var(--sklearn-color-unfitted-level-3);\n  color: var(--sklearn-color-background);\n  text-decoration: none;\n}\n\n#sk-container-id-3 a.estimator_doc_link.fitted:hover {\n  /* fitted */\n  background-color: var(--sklearn-color-fitted-level-3);\n}\n</style><div id=\"sk-container-id-3\" class=\"sk-top-container\"><div class=\"sk-text-repr-fallback\"><pre>ExponentiatedGradient(constraints=&lt;fairlearn.reductions._moments.utility_parity.DemographicParity object at 0x2b48f3340&gt;,\n                      estimator=&lt;catboost.core.CatBoostClassifier object at 0x2b48f3be0&gt;,\n                      max_iter=10, nu=0.0008363288569675996)</pre><b>In a Jupyter environment, please rerun this cell to show the HTML representation or trust the notebook. <br />On GitHub, the HTML representation is unable to render, please try loading this page with nbviewer.org.</b></div><div class=\"sk-container\" hidden><div class=\"sk-item sk-dashed-wrapped\"><div class=\"sk-label-container\"><div class=\"sk-label fitted sk-toggleable\"><input class=\"sk-toggleable__control sk-hidden--visually\" id=\"sk-estimator-id-7\" type=\"checkbox\" ><label for=\"sk-estimator-id-7\" class=\"sk-toggleable__label fitted sk-toggleable__label-arrow fitted\">&nbsp;ExponentiatedGradient<span class=\"sk-estimator-doc-link fitted\">i<span>Fitted</span></span></label><div class=\"sk-toggleable__content fitted\"><pre>ExponentiatedGradient(constraints=&lt;fairlearn.reductions._moments.utility_parity.DemographicParity object at 0x2b48f3340&gt;,\n                      estimator=&lt;catboost.core.CatBoostClassifier object at 0x2b48f3be0&gt;,\n                      max_iter=10, nu=0.0008363288569675996)</pre></div> </div></div><div class=\"sk-parallel\"><div class=\"sk-parallel-item\"><div class=\"sk-item\"><div class=\"sk-label-container\"><div class=\"sk-label fitted sk-toggleable\"><input class=\"sk-toggleable__control sk-hidden--visually\" id=\"sk-estimator-id-8\" type=\"checkbox\" ><label for=\"sk-estimator-id-8\" class=\"sk-toggleable__label fitted sk-toggleable__label-arrow fitted\">estimator: CatBoostClassifier</label><div class=\"sk-toggleable__content fitted\"><pre>&lt;catboost.core.CatBoostClassifier object at 0x2b48f3be0&gt;</pre></div> </div></div><div class=\"sk-serial\"><div class=\"sk-item\"><div class=\"sk-estimator fitted sk-toggleable\"><input class=\"sk-toggleable__control sk-hidden--visually\" id=\"sk-estimator-id-9\" type=\"checkbox\" ><label for=\"sk-estimator-id-9\" class=\"sk-toggleable__label fitted sk-toggleable__label-arrow fitted\">CatBoostClassifier</label><div class=\"sk-toggleable__content fitted\"><pre>&lt;catboost.core.CatBoostClassifier object at 0x2b48f3be0&gt;</pre></div> </div></div></div></div></div></div></div></div></div>"
     },
     "execution_count": 139,
     "metadata": {},
     "output_type": "execute_result"
    }
   ],
   "source": [
    "reduction = ExponentiatedGradient(estimator=default_model.copy(), constraints=DemographicParity(difference_bound=0.01), max_iter=10)\n",
    "reduction.fit(X_train, y_train, sensitive_features=z_train)"
   ],
   "metadata": {
    "collapsed": false,
    "ExecuteTime": {
     "end_time": "2024-03-28T10:45:16.981587Z",
     "start_time": "2024-03-28T10:35:58.816945Z"
    }
   },
   "id": "444d7f761fceeb1c",
   "execution_count": 139
  },
  {
   "cell_type": "code",
   "outputs": [],
   "source": [
    "y_pred_reduced = reduction.predict(X_test)"
   ],
   "metadata": {
    "collapsed": false,
    "ExecuteTime": {
     "end_time": "2024-03-28T10:45:17.102328Z",
     "start_time": "2024-03-28T10:45:16.981604Z"
    }
   },
   "id": "3598bb6505820f10",
   "execution_count": 140
  },
  {
   "cell_type": "code",
   "outputs": [
    {
     "name": "stdout",
     "output_type": "stream",
     "text": [
      "              precision    recall  f1-score   support\n",
      "\n",
      "           0       0.87      0.95      0.91      7431\n",
      "           1       0.79      0.55      0.65      2338\n",
      "\n",
      "    accuracy                           0.86      9769\n",
      "   macro avg       0.83      0.75      0.78      9769\n",
      "weighted avg       0.85      0.86      0.85      9769\n"
     ]
    }
   ],
   "source": [
    "print(classification_report(y_test, y_pred_reduced))"
   ],
   "metadata": {
    "collapsed": false,
    "ExecuteTime": {
     "end_time": "2024-03-28T10:45:17.204488Z",
     "start_time": "2024-03-28T10:45:17.154041Z"
    }
   },
   "id": "b586d56045c91915",
   "execution_count": 141
  },
  {
   "cell_type": "markdown",
   "source": [
    "### AIF360"
   ],
   "metadata": {
    "collapsed": false
   },
   "id": "76de440278edc5f4"
  },
  {
   "cell_type": "markdown",
   "source": [
    "#### Detection\n",
    "\n",
    "_\"Since the main computation of confusion matrices is common for a large set of metrics, we utilize memoization and caching of computations for performance on large-scale datasets.\"_"
   ],
   "metadata": {
    "collapsed": false
   },
   "id": "53be8780847e05f6"
  },
  {
   "cell_type": "code",
   "outputs": [],
   "source": [
    "priv_group = \"Male\""
   ],
   "metadata": {
    "collapsed": false,
    "ExecuteTime": {
     "end_time": "2024-03-28T11:57:50.855494Z",
     "start_time": "2024-03-28T11:57:50.803056Z"
    }
   },
   "id": "f11b115c9803583e",
   "execution_count": 163
  },
  {
   "cell_type": "code",
   "outputs": [
    {
     "data": {
      "text/plain": "               metric        type method     value\n0  demographic_parity  difference  other -0.181198\n1  demographic_parity       ratio  other  0.294107\n2   equal_opportunity  difference  other -0.089651",
      "text/html": "<div>\n<style scoped>\n    .dataframe tbody tr th:only-of-type {\n        vertical-align: middle;\n    }\n\n    .dataframe tbody tr th {\n        vertical-align: top;\n    }\n\n    .dataframe thead th {\n        text-align: right;\n    }\n</style>\n<table border=\"1\" class=\"dataframe\">\n  <thead>\n    <tr style=\"text-align: right;\">\n      <th></th>\n      <th>metric</th>\n      <th>type</th>\n      <th>method</th>\n      <th>value</th>\n    </tr>\n  </thead>\n  <tbody>\n    <tr>\n      <th>0</th>\n      <td>demographic_parity</td>\n      <td>difference</td>\n      <td>other</td>\n      <td>-0.181198</td>\n    </tr>\n    <tr>\n      <th>1</th>\n      <td>demographic_parity</td>\n      <td>ratio</td>\n      <td>other</td>\n      <td>0.294107</td>\n    </tr>\n    <tr>\n      <th>2</th>\n      <td>equal_opportunity</td>\n      <td>difference</td>\n      <td>other</td>\n      <td>-0.089651</td>\n    </tr>\n  </tbody>\n</table>\n</div>"
     },
     "execution_count": 164,
     "metadata": {},
     "output_type": "execute_result"
    }
   ],
   "source": [
    "calculate_aif360_metrics(y_test, y_pred, z_test, priv_group=priv_group)"
   ],
   "metadata": {
    "collapsed": false,
    "ExecuteTime": {
     "end_time": "2024-03-28T11:57:50.967112Z",
     "start_time": "2024-03-28T11:57:50.924224Z"
    }
   },
   "id": "1d3aa193a4928de0",
   "execution_count": 164
  },
  {
   "cell_type": "markdown",
   "source": [
    "#### Mitigation"
   ],
   "metadata": {
    "collapsed": false
   },
   "id": "c7a161d42939f3d8"
  },
  {
   "cell_type": "code",
   "outputs": [],
   "source": [
    "from aif360.sklearn.inprocessing import ExponentiatedGradientReduction as ExponentiatedGradientReductionAif"
   ],
   "metadata": {
    "collapsed": false,
    "ExecuteTime": {
     "end_time": "2024-03-28T11:57:51.640226Z",
     "start_time": "2024-03-28T11:57:51.612524Z"
    }
   },
   "id": "b3b01d33732abfb8",
   "execution_count": 165
  },
  {
   "cell_type": "code",
   "outputs": [],
   "source": [
    "# drop_prot_attr=True is incompatible with catboost cat_features parameter\n",
    "reduction_aif = ExponentiatedGradientReductionAif(prot_attr=PROTECTED_ATTRIBUTE, estimator=default_model.copy(), constraints=DemographicParity(difference_bound=0.01), max_iter=10, drop_prot_attr=False)"
   ],
   "metadata": {
    "collapsed": false,
    "ExecuteTime": {
     "end_time": "2024-03-28T11:57:51.823352Z",
     "start_time": "2024-03-28T11:57:51.794898Z"
    }
   },
   "id": "3814f953cc8527c8",
   "execution_count": 166
  },
  {
   "cell_type": "code",
   "outputs": [
    {
     "name": "stderr",
     "output_type": "stream",
     "text": [
      "/opt/homebrew/Caskroom/miniconda/base/envs/fairness-toolkits/lib/python3.10/site-packages/fairlearn/reductions/_moments/utility_parity.py:214: FutureWarning: ChainedAssignmentError: behaviour will change in pandas 3.0!\n",
      "You are setting values through chained assignment. Currently this works in certain cases, but when using Copy-on-Write (which will become the default behaviour in pandas 3.0) this will never work to update the original DataFrame or Series, because the intermediate object on which we are setting values will behave as a copy.\n",
      "A typical example is when you are setting values in a column of a DataFrame, like:\n",
      "\n",
      "df[\"col\"][row_indexer] = value\n",
      "\n",
      "Use `df.loc[row_indexer, \"col\"] = values` instead, to perform the assignment in a single step and ensure this keeps updating the original `df`.\n",
      "\n",
      "See the caveats in the documentation: https://pandas.pydata.org/pandas-docs/stable/user_guide/indexing.html#returning-a-view-versus-a-copy\n",
      "\n",
      "  self.pos_basis[i][\"+\", e, g] = 1\n",
      "/opt/homebrew/Caskroom/miniconda/base/envs/fairness-toolkits/lib/python3.10/site-packages/fairlearn/reductions/_moments/utility_parity.py:215: FutureWarning: ChainedAssignmentError: behaviour will change in pandas 3.0!\n",
      "You are setting values through chained assignment. Currently this works in certain cases, but when using Copy-on-Write (which will become the default behaviour in pandas 3.0) this will never work to update the original DataFrame or Series, because the intermediate object on which we are setting values will behave as a copy.\n",
      "A typical example is when you are setting values in a column of a DataFrame, like:\n",
      "\n",
      "df[\"col\"][row_indexer] = value\n",
      "\n",
      "Use `df.loc[row_indexer, \"col\"] = values` instead, to perform the assignment in a single step and ensure this keeps updating the original `df`.\n",
      "\n",
      "See the caveats in the documentation: https://pandas.pydata.org/pandas-docs/stable/user_guide/indexing.html#returning-a-view-versus-a-copy\n",
      "\n",
      "  self.neg_basis[i][\"-\", e, g] = 1\n"
     ]
    },
    {
     "name": "stdout",
     "output_type": "stream",
     "text": [
      "0:\tlearn: 0.6834529\ttotal: 56.6ms\tremaining: 2m 49s\n",
      "250:\tlearn: 0.3245970\ttotal: 5.58s\tremaining: 1m 1s\n",
      "500:\tlearn: 0.3056956\ttotal: 8.95s\tremaining: 44.6s\n",
      "750:\tlearn: 0.2972588\ttotal: 11.6s\tremaining: 34.8s\n",
      "1000:\tlearn: 0.2919571\ttotal: 14.5s\tremaining: 28.9s\n",
      "1250:\tlearn: 0.2871027\ttotal: 17.2s\tremaining: 24.1s\n",
      "1500:\tlearn: 0.2837078\ttotal: 20s\tremaining: 19.9s\n",
      "1750:\tlearn: 0.2816475\ttotal: 22.9s\tremaining: 16.3s\n",
      "2000:\tlearn: 0.2799080\ttotal: 25.6s\tremaining: 12.8s\n",
      "2250:\tlearn: 0.2784999\ttotal: 28.5s\tremaining: 9.47s\n",
      "2500:\tlearn: 0.2773517\ttotal: 31.3s\tremaining: 6.24s\n",
      "2750:\tlearn: 0.2763439\ttotal: 34.2s\tremaining: 3.1s\n",
      "2999:\tlearn: 0.2754376\ttotal: 36.9s\tremaining: 0us\n",
      "0:\tlearn: 0.6834529\ttotal: 65.7ms\tremaining: 3m 17s\n",
      "250:\tlearn: 0.3245970\ttotal: 2.67s\tremaining: 29.2s\n",
      "500:\tlearn: 0.3056956\ttotal: 5.25s\tremaining: 26.2s\n",
      "750:\tlearn: 0.2972588\ttotal: 8.14s\tremaining: 24.4s\n",
      "1000:\tlearn: 0.2919571\ttotal: 10.8s\tremaining: 21.6s\n",
      "1250:\tlearn: 0.2871027\ttotal: 13.5s\tremaining: 18.8s\n",
      "1500:\tlearn: 0.2837078\ttotal: 16.4s\tremaining: 16.4s\n",
      "1750:\tlearn: 0.2816475\ttotal: 19.1s\tremaining: 13.6s\n",
      "2000:\tlearn: 0.2799080\ttotal: 22s\tremaining: 11s\n",
      "2250:\tlearn: 0.2784999\ttotal: 24.7s\tremaining: 8.23s\n",
      "2500:\tlearn: 0.2773517\ttotal: 27.7s\tremaining: 5.52s\n",
      "2750:\tlearn: 0.2763439\ttotal: 30.3s\tremaining: 2.75s\n",
      "2999:\tlearn: 0.2754376\ttotal: 33.1s\tremaining: 0us\n",
      "0:\tlearn: 0.6838194\ttotal: 66.6ms\tremaining: 3m 19s\n",
      "250:\tlearn: 0.3320293\ttotal: 2.7s\tremaining: 29.6s\n",
      "500:\tlearn: 0.3117100\ttotal: 5.57s\tremaining: 27.8s\n",
      "750:\tlearn: 0.3034411\ttotal: 8.19s\tremaining: 24.5s\n",
      "1000:\tlearn: 0.2975885\ttotal: 12.6s\tremaining: 25.2s\n",
      "1250:\tlearn: 0.2922439\ttotal: 15.8s\tremaining: 22.2s\n",
      "1500:\tlearn: 0.2886415\ttotal: 20.5s\tremaining: 20.5s\n",
      "1750:\tlearn: 0.2864132\ttotal: 25.1s\tremaining: 17.9s\n",
      "2000:\tlearn: 0.2844430\ttotal: 27.8s\tremaining: 13.9s\n",
      "2250:\tlearn: 0.2827795\ttotal: 30.8s\tremaining: 10.2s\n",
      "2500:\tlearn: 0.2813927\ttotal: 33.5s\tremaining: 6.68s\n",
      "2750:\tlearn: 0.2803910\ttotal: 36.1s\tremaining: 3.27s\n",
      "2999:\tlearn: 0.2794201\ttotal: 38.8s\tremaining: 0us\n",
      "0:\tlearn: 0.6836444\ttotal: 104ms\tremaining: 5m 11s\n",
      "250:\tlearn: 0.3288774\ttotal: 2.62s\tremaining: 28.6s\n",
      "500:\tlearn: 0.3093364\ttotal: 5.2s\tremaining: 25.9s\n",
      "750:\tlearn: 0.3010903\ttotal: 7.77s\tremaining: 23.3s\n",
      "1000:\tlearn: 0.2957198\ttotal: 10.4s\tremaining: 20.8s\n",
      "1250:\tlearn: 0.2900410\ttotal: 13.3s\tremaining: 18.6s\n",
      "1500:\tlearn: 0.2866943\ttotal: 16.1s\tremaining: 16s\n",
      "1750:\tlearn: 0.2849359\ttotal: 18.7s\tremaining: 13.3s\n",
      "2000:\tlearn: 0.2833043\ttotal: 21.6s\tremaining: 10.8s\n",
      "2250:\tlearn: 0.2817307\ttotal: 24.3s\tremaining: 8.09s\n",
      "2500:\tlearn: 0.2804872\ttotal: 27s\tremaining: 5.38s\n",
      "2750:\tlearn: 0.2794533\ttotal: 29.7s\tremaining: 2.69s\n",
      "2999:\tlearn: 0.2785851\ttotal: 32.6s\tremaining: 0us\n",
      "0:\tlearn: 0.6503391\ttotal: 49.3ms\tremaining: 2m 27s\n",
      "250:\tlearn: 0.0001782\ttotal: 2.5s\tremaining: 27.4s\n",
      "500:\tlearn: 0.0000977\ttotal: 4.5s\tremaining: 22.4s\n",
      "750:\tlearn: 0.0000972\ttotal: 6.44s\tremaining: 19.3s\n",
      "1000:\tlearn: 0.0000971\ttotal: 8.38s\tremaining: 16.7s\n",
      "1250:\tlearn: 0.0000971\ttotal: 10.5s\tremaining: 14.7s\n",
      "1500:\tlearn: 0.0000971\ttotal: 12.3s\tremaining: 12.3s\n",
      "1750:\tlearn: 0.0000971\ttotal: 14.1s\tremaining: 10.1s\n",
      "2000:\tlearn: 0.0000971\ttotal: 15.9s\tremaining: 7.94s\n",
      "2250:\tlearn: 0.0000971\ttotal: 17.7s\tremaining: 5.89s\n",
      "2500:\tlearn: 0.0000971\ttotal: 19.5s\tremaining: 3.89s\n",
      "2750:\tlearn: 0.0000971\ttotal: 21.6s\tremaining: 1.96s\n",
      "2999:\tlearn: 0.0000971\ttotal: 25.8s\tremaining: 0us\n",
      "0:\tlearn: 0.6840821\ttotal: 32ms\tremaining: 1m 36s\n",
      "250:\tlearn: 0.3329326\ttotal: 3.82s\tremaining: 41.8s\n",
      "500:\tlearn: 0.3108664\ttotal: 6.53s\tremaining: 32.6s\n",
      "750:\tlearn: 0.3017482\ttotal: 9.59s\tremaining: 28.7s\n",
      "1000:\tlearn: 0.2957549\ttotal: 12.2s\tremaining: 24.4s\n",
      "1250:\tlearn: 0.2910706\ttotal: 15s\tremaining: 20.9s\n",
      "1500:\tlearn: 0.2870985\ttotal: 17.6s\tremaining: 17.6s\n",
      "1750:\tlearn: 0.2848709\ttotal: 20.5s\tremaining: 14.6s\n",
      "2000:\tlearn: 0.2831505\ttotal: 23.2s\tremaining: 11.6s\n",
      "2250:\tlearn: 0.2814372\ttotal: 25.9s\tremaining: 8.63s\n",
      "2500:\tlearn: 0.2800738\ttotal: 28.8s\tremaining: 5.74s\n",
      "2750:\tlearn: 0.2790394\ttotal: 31.9s\tremaining: 2.88s\n",
      "2999:\tlearn: 0.2779439\ttotal: 34.7s\tremaining: 0us\n",
      "0:\tlearn: 0.6837862\ttotal: 122ms\tremaining: 6m 5s\n",
      "250:\tlearn: 0.3314474\ttotal: 4.78s\tremaining: 52.4s\n",
      "500:\tlearn: 0.3115551\ttotal: 8.76s\tremaining: 43.7s\n",
      "750:\tlearn: 0.3030965\ttotal: 12.6s\tremaining: 37.8s\n",
      "1000:\tlearn: 0.2975610\ttotal: 15.7s\tremaining: 31.4s\n",
      "1250:\tlearn: 0.2918435\ttotal: 20.1s\tremaining: 28.1s\n",
      "1500:\tlearn: 0.2887247\ttotal: 25.3s\tremaining: 25.3s\n",
      "1750:\tlearn: 0.2866687\ttotal: 27.9s\tremaining: 19.9s\n",
      "2000:\tlearn: 0.2847009\ttotal: 30.7s\tremaining: 15.3s\n",
      "2250:\tlearn: 0.2832965\ttotal: 33.6s\tremaining: 11.2s\n",
      "2500:\tlearn: 0.2817779\ttotal: 38s\tremaining: 7.58s\n",
      "2750:\tlearn: 0.2807632\ttotal: 42.3s\tremaining: 3.83s\n",
      "2999:\tlearn: 0.2797262\ttotal: 46.7s\tremaining: 0us\n",
      "0:\tlearn: 0.6821688\ttotal: 25.9ms\tremaining: 1m 17s\n",
      "250:\tlearn: 0.2344000\ttotal: 3.65s\tremaining: 40s\n",
      "500:\tlearn: 0.2178248\ttotal: 6.38s\tremaining: 31.8s\n",
      "750:\tlearn: 0.2116652\ttotal: 9.08s\tremaining: 27.2s\n",
      "1000:\tlearn: 0.2076024\ttotal: 12s\tremaining: 24s\n",
      "1250:\tlearn: 0.2047613\ttotal: 14.7s\tremaining: 20.5s\n",
      "1500:\tlearn: 0.2036722\ttotal: 19.6s\tremaining: 19.6s\n",
      "1750:\tlearn: 0.2026367\ttotal: 22.1s\tremaining: 15.8s\n",
      "2000:\tlearn: 0.2017662\ttotal: 24.3s\tremaining: 12.1s\n",
      "2250:\tlearn: 0.2008331\ttotal: 27.1s\tremaining: 9.03s\n",
      "2500:\tlearn: 0.1998868\ttotal: 31.9s\tremaining: 6.37s\n",
      "2750:\tlearn: 0.1988938\ttotal: 34.6s\tremaining: 3.13s\n",
      "2999:\tlearn: 0.1980410\ttotal: 37s\tremaining: 0us\n",
      "0:\tlearn: 0.6842320\ttotal: 40.2ms\tremaining: 2m\n",
      "250:\tlearn: 0.3303301\ttotal: 2.38s\tremaining: 26s\n",
      "500:\tlearn: 0.3074139\ttotal: 4.61s\tremaining: 23s\n",
      "750:\tlearn: 0.2977777\ttotal: 6.72s\tremaining: 20.1s\n",
      "1000:\tlearn: 0.2920902\ttotal: 9s\tremaining: 18s\n",
      "1250:\tlearn: 0.2869761\ttotal: 11.4s\tremaining: 15.9s\n",
      "1500:\tlearn: 0.2835385\ttotal: 13.7s\tremaining: 13.7s\n",
      "1750:\tlearn: 0.2812334\ttotal: 16s\tremaining: 11.4s\n",
      "2000:\tlearn: 0.2792735\ttotal: 18.2s\tremaining: 9.09s\n",
      "2250:\tlearn: 0.2776631\ttotal: 20.5s\tremaining: 6.82s\n",
      "2500:\tlearn: 0.2764362\ttotal: 22.8s\tremaining: 4.54s\n",
      "2750:\tlearn: 0.2753690\ttotal: 25.1s\tremaining: 2.27s\n",
      "2999:\tlearn: 0.2743925\ttotal: 27.3s\tremaining: 0us\n",
      "0:\tlearn: 0.6838986\ttotal: 24.5ms\tremaining: 1m 13s\n",
      "250:\tlearn: 0.3331413\ttotal: 2.27s\tremaining: 24.9s\n",
      "500:\tlearn: 0.3125739\ttotal: 4.63s\tremaining: 23.1s\n",
      "750:\tlearn: 0.3036062\ttotal: 7.02s\tremaining: 21s\n",
      "1000:\tlearn: 0.2975848\ttotal: 9.24s\tremaining: 18.5s\n",
      "1250:\tlearn: 0.2921065\ttotal: 11.6s\tremaining: 16.2s\n",
      "1500:\tlearn: 0.2888648\ttotal: 13.9s\tremaining: 13.9s\n",
      "1750:\tlearn: 0.2867010\ttotal: 16.2s\tremaining: 11.5s\n",
      "2000:\tlearn: 0.2846925\ttotal: 18.6s\tremaining: 9.28s\n",
      "2250:\tlearn: 0.2831215\ttotal: 21.3s\tremaining: 7.07s\n",
      "2500:\tlearn: 0.2817546\ttotal: 23.8s\tremaining: 4.75s\n",
      "2750:\tlearn: 0.2805723\ttotal: 26.1s\tremaining: 2.36s\n",
      "2999:\tlearn: 0.2796426\ttotal: 28.5s\tremaining: 0us\n",
      "0:\tlearn: 0.6849755\ttotal: 22.5ms\tremaining: 1m 7s\n",
      "250:\tlearn: 0.2752816\ttotal: 2.48s\tremaining: 27.2s\n",
      "500:\tlearn: 0.2538224\ttotal: 4.82s\tremaining: 24s\n",
      "750:\tlearn: 0.2459533\ttotal: 7.1s\tremaining: 21.3s\n",
      "1000:\tlearn: 0.2409226\ttotal: 9.42s\tremaining: 18.8s\n",
      "1250:\tlearn: 0.2368190\ttotal: 11.8s\tremaining: 16.5s\n",
      "1500:\tlearn: 0.2338038\ttotal: 14.2s\tremaining: 14.2s\n",
      "1750:\tlearn: 0.2322695\ttotal: 16.6s\tremaining: 11.8s\n",
      "2000:\tlearn: 0.2308482\ttotal: 18.9s\tremaining: 9.44s\n",
      "2250:\tlearn: 0.2296262\ttotal: 21.2s\tremaining: 7.05s\n",
      "2500:\tlearn: 0.2286778\ttotal: 23.4s\tremaining: 4.68s\n",
      "2750:\tlearn: 0.2278491\ttotal: 25.7s\tremaining: 2.33s\n",
      "2999:\tlearn: 0.2270893\ttotal: 27.9s\tremaining: 0us\n",
      "0:\tlearn: 0.6843199\ttotal: 48.8ms\tremaining: 2m 26s\n",
      "250:\tlearn: 0.3266469\ttotal: 2.25s\tremaining: 24.6s\n",
      "500:\tlearn: 0.3032027\ttotal: 4.3s\tremaining: 21.4s\n",
      "750:\tlearn: 0.2937184\ttotal: 6.45s\tremaining: 19.3s\n",
      "1000:\tlearn: 0.2877748\ttotal: 8.57s\tremaining: 17.1s\n",
      "1250:\tlearn: 0.2822849\ttotal: 10.8s\tremaining: 15.1s\n",
      "1500:\tlearn: 0.2793775\ttotal: 13.1s\tremaining: 13.1s\n",
      "1750:\tlearn: 0.2773930\ttotal: 15.7s\tremaining: 11.2s\n",
      "2000:\tlearn: 0.2753780\ttotal: 18s\tremaining: 9s\n",
      "2250:\tlearn: 0.2737928\ttotal: 20.3s\tremaining: 6.75s\n",
      "2500:\tlearn: 0.2725224\ttotal: 22.6s\tremaining: 4.5s\n",
      "2750:\tlearn: 0.2715065\ttotal: 24.8s\tremaining: 2.25s\n",
      "2999:\tlearn: 0.2706263\ttotal: 27.1s\tremaining: 0us\n",
      "0:\tlearn: 0.6840016\ttotal: 29.8ms\tremaining: 1m 29s\n",
      "250:\tlearn: 0.3333031\ttotal: 2.2s\tremaining: 24.1s\n",
      "500:\tlearn: 0.3117877\ttotal: 4.51s\tremaining: 22.5s\n",
      "750:\tlearn: 0.3027819\ttotal: 6.73s\tremaining: 20.2s\n",
      "1000:\tlearn: 0.2970966\ttotal: 9.01s\tremaining: 18s\n",
      "1250:\tlearn: 0.2921400\ttotal: 11.4s\tremaining: 16s\n",
      "1500:\tlearn: 0.2883741\ttotal: 13.7s\tremaining: 13.7s\n",
      "1750:\tlearn: 0.2863253\ttotal: 16.1s\tremaining: 11.5s\n",
      "2000:\tlearn: 0.2840871\ttotal: 18.6s\tremaining: 9.3s\n",
      "2250:\tlearn: 0.2825604\ttotal: 21s\tremaining: 6.98s\n",
      "2500:\tlearn: 0.2811413\ttotal: 23.4s\tremaining: 4.66s\n",
      "2750:\tlearn: 0.2800645\ttotal: 25.7s\tremaining: 2.32s\n",
      "2999:\tlearn: 0.2791525\ttotal: 28s\tremaining: 0us\n",
      "0:\tlearn: 0.6855833\ttotal: 29.4ms\tremaining: 1m 28s\n",
      "250:\tlearn: 0.3018546\ttotal: 2.34s\tremaining: 25.6s\n",
      "500:\tlearn: 0.2780950\ttotal: 4.49s\tremaining: 22.4s\n",
      "750:\tlearn: 0.2691695\ttotal: 6.66s\tremaining: 19.9s\n",
      "1000:\tlearn: 0.2640283\ttotal: 8.86s\tremaining: 17.7s\n",
      "1250:\tlearn: 0.2595316\ttotal: 11.2s\tremaining: 15.6s\n",
      "1500:\tlearn: 0.2560467\ttotal: 13.5s\tremaining: 13.4s\n",
      "1750:\tlearn: 0.2540293\ttotal: 15.7s\tremaining: 11.2s\n",
      "2000:\tlearn: 0.2526170\ttotal: 17.9s\tremaining: 8.92s\n",
      "2250:\tlearn: 0.2512730\ttotal: 20.1s\tremaining: 6.68s\n",
      "2500:\tlearn: 0.2502584\ttotal: 22.3s\tremaining: 4.44s\n",
      "2750:\tlearn: 0.2490410\ttotal: 24.5s\tremaining: 2.22s\n",
      "2999:\tlearn: 0.2479860\ttotal: 26.8s\tremaining: 0us\n",
      "0:\tlearn: 0.6843647\ttotal: 67.2ms\tremaining: 3m 21s\n",
      "250:\tlearn: 0.3239648\ttotal: 2.26s\tremaining: 24.8s\n",
      "500:\tlearn: 0.2996158\ttotal: 4.42s\tremaining: 22.1s\n",
      "750:\tlearn: 0.2902944\ttotal: 6.66s\tremaining: 19.9s\n",
      "1000:\tlearn: 0.2846594\ttotal: 8.87s\tremaining: 17.7s\n",
      "1250:\tlearn: 0.2797188\ttotal: 11.1s\tremaining: 15.6s\n",
      "1500:\tlearn: 0.2760595\ttotal: 13.4s\tremaining: 13.4s\n",
      "1750:\tlearn: 0.2738694\ttotal: 15.6s\tremaining: 11.1s\n",
      "2000:\tlearn: 0.2722575\ttotal: 17.9s\tremaining: 8.92s\n",
      "2250:\tlearn: 0.2706804\ttotal: 20.1s\tremaining: 6.69s\n",
      "2500:\tlearn: 0.2696055\ttotal: 22.3s\tremaining: 4.46s\n",
      "2750:\tlearn: 0.2686808\ttotal: 24.5s\tremaining: 2.22s\n",
      "2999:\tlearn: 0.2677825\ttotal: 26.7s\tremaining: 0us\n",
      "0:\tlearn: 0.6840680\ttotal: 71.8ms\tremaining: 3m 35s\n",
      "250:\tlearn: 0.3329012\ttotal: 2.27s\tremaining: 24.9s\n",
      "500:\tlearn: 0.3112158\ttotal: 4.44s\tremaining: 22.1s\n",
      "750:\tlearn: 0.3022209\ttotal: 6.6s\tremaining: 19.8s\n",
      "1000:\tlearn: 0.2963409\ttotal: 8.81s\tremaining: 17.6s\n",
      "1250:\tlearn: 0.2909298\ttotal: 11s\tremaining: 15.4s\n",
      "1500:\tlearn: 0.2874979\ttotal: 13.3s\tremaining: 13.3s\n",
      "1750:\tlearn: 0.2853191\ttotal: 15.5s\tremaining: 11.1s\n",
      "2000:\tlearn: 0.2835076\ttotal: 17.8s\tremaining: 8.88s\n",
      "2250:\tlearn: 0.2820383\ttotal: 20s\tremaining: 6.66s\n",
      "2500:\tlearn: 0.2806269\ttotal: 22.2s\tremaining: 4.43s\n",
      "2750:\tlearn: 0.2794515\ttotal: 24.5s\tremaining: 2.22s\n",
      "2999:\tlearn: 0.2785157\ttotal: 26.9s\tremaining: 0us\n",
      "0:\tlearn: 0.6844687\ttotal: 23.7ms\tremaining: 1m 11s\n",
      "250:\tlearn: 0.3149177\ttotal: 2.27s\tremaining: 24.9s\n",
      "500:\tlearn: 0.2910213\ttotal: 4.44s\tremaining: 22.2s\n",
      "750:\tlearn: 0.2820296\ttotal: 6.73s\tremaining: 20.2s\n",
      "1000:\tlearn: 0.2764538\ttotal: 9.14s\tremaining: 18.3s\n",
      "1250:\tlearn: 0.2715723\ttotal: 11.6s\tremaining: 16.3s\n",
      "1500:\tlearn: 0.2683084\ttotal: 14.2s\tremaining: 14.2s\n",
      "1750:\tlearn: 0.2661836\ttotal: 16.5s\tremaining: 11.8s\n",
      "2000:\tlearn: 0.2643341\ttotal: 18.8s\tremaining: 9.39s\n",
      "2250:\tlearn: 0.2627927\ttotal: 21.1s\tremaining: 7.02s\n",
      "2500:\tlearn: 0.2615759\ttotal: 23.6s\tremaining: 4.71s\n",
      "2750:\tlearn: 0.2605439\ttotal: 25.9s\tremaining: 2.35s\n",
      "2999:\tlearn: 0.2595780\ttotal: 28.3s\tremaining: 0us\n",
      "0:\tlearn: 0.6736372\ttotal: 36.8ms\tremaining: 1m 50s\n",
      "250:\tlearn: 0.1365221\ttotal: 2.46s\tremaining: 26.9s\n",
      "500:\tlearn: 0.1259468\ttotal: 4.67s\tremaining: 23.3s\n",
      "750:\tlearn: 0.1221209\ttotal: 6.96s\tremaining: 20.8s\n",
      "1000:\tlearn: 0.1201632\ttotal: 9.38s\tremaining: 18.7s\n",
      "1250:\tlearn: 0.1189397\ttotal: 11.7s\tremaining: 16.3s\n",
      "1500:\tlearn: 0.1184819\ttotal: 13.8s\tremaining: 13.7s\n",
      "1750:\tlearn: 0.1179942\ttotal: 15.8s\tremaining: 11.3s\n",
      "2000:\tlearn: 0.1174884\ttotal: 17.8s\tremaining: 8.87s\n",
      "2250:\tlearn: 0.1171015\ttotal: 19.8s\tremaining: 6.58s\n",
      "2500:\tlearn: 0.1168144\ttotal: 21.8s\tremaining: 4.34s\n",
      "2750:\tlearn: 0.1165576\ttotal: 23.9s\tremaining: 2.16s\n",
      "2999:\tlearn: 0.1161133\ttotal: 26s\tremaining: 0us\n",
      "0:\tlearn: 0.6503180\ttotal: 36.3ms\tremaining: 1m 48s\n",
      "250:\tlearn: 0.0001671\ttotal: 2.22s\tremaining: 24.3s\n",
      "500:\tlearn: 0.0000925\ttotal: 4.16s\tremaining: 20.7s\n",
      "750:\tlearn: 0.0000925\ttotal: 6.03s\tremaining: 18.1s\n",
      "1000:\tlearn: 0.0000925\ttotal: 7.84s\tremaining: 15.7s\n",
      "1250:\tlearn: 0.0000924\ttotal: 9.54s\tremaining: 13.3s\n",
      "1500:\tlearn: 0.0000924\ttotal: 11.2s\tremaining: 11.2s\n",
      "1750:\tlearn: 0.0000924\ttotal: 12.7s\tremaining: 9.07s\n",
      "2000:\tlearn: 0.0000924\ttotal: 14.3s\tremaining: 7.12s\n",
      "2250:\tlearn: 0.0000924\ttotal: 15.8s\tremaining: 5.26s\n",
      "2500:\tlearn: 0.0000924\ttotal: 17.4s\tremaining: 3.46s\n",
      "2750:\tlearn: 0.0000924\ttotal: 18.9s\tremaining: 1.71s\n",
      "2999:\tlearn: 0.0000924\ttotal: 20.5s\tremaining: 0us\n",
      "0:\tlearn: 0.6503512\ttotal: 39.6ms\tremaining: 1m 58s\n",
      "250:\tlearn: 0.0001975\ttotal: 2.11s\tremaining: 23.1s\n",
      "500:\tlearn: 0.0001101\ttotal: 3.73s\tremaining: 18.6s\n",
      "750:\tlearn: 0.0001101\ttotal: 5.3s\tremaining: 15.9s\n",
      "1000:\tlearn: 0.0001101\ttotal: 6.87s\tremaining: 13.7s\n",
      "1250:\tlearn: 0.0001101\ttotal: 8.46s\tremaining: 11.8s\n",
      "1500:\tlearn: 0.0001101\ttotal: 10.1s\tremaining: 10.1s\n",
      "1750:\tlearn: 0.0001101\ttotal: 11.7s\tremaining: 8.37s\n",
      "2000:\tlearn: 0.0001101\ttotal: 13.3s\tremaining: 6.66s\n",
      "2250:\tlearn: 0.0001101\ttotal: 14.8s\tremaining: 4.94s\n",
      "2500:\tlearn: 0.0001101\ttotal: 16.4s\tremaining: 3.27s\n",
      "2750:\tlearn: 0.0001101\ttotal: 18s\tremaining: 1.62s\n",
      "2999:\tlearn: 0.0001101\ttotal: 19.4s\tremaining: 0us\n"
     ]
    },
    {
     "data": {
      "text/plain": "ExponentiatedGradientReduction(constraints=<fairlearn.reductions._moments.utility_parity.DemographicParity object at 0x2b5fe83a0>,\n                               drop_prot_attr=False,\n                               estimator=<catboost.core.CatBoostClassifier object at 0x2b5fe8340>,\n                               max_iter=10, prot_attr='gender')",
      "text/html": "<style>#sk-container-id-4 {\n  /* Definition of color scheme common for light and dark mode */\n  --sklearn-color-text: black;\n  --sklearn-color-line: gray;\n  /* Definition of color scheme for unfitted estimators */\n  --sklearn-color-unfitted-level-0: #fff5e6;\n  --sklearn-color-unfitted-level-1: #f6e4d2;\n  --sklearn-color-unfitted-level-2: #ffe0b3;\n  --sklearn-color-unfitted-level-3: chocolate;\n  /* Definition of color scheme for fitted estimators */\n  --sklearn-color-fitted-level-0: #f0f8ff;\n  --sklearn-color-fitted-level-1: #d4ebff;\n  --sklearn-color-fitted-level-2: #b3dbfd;\n  --sklearn-color-fitted-level-3: cornflowerblue;\n\n  /* Specific color for light theme */\n  --sklearn-color-text-on-default-background: var(--sg-text-color, var(--theme-code-foreground, var(--jp-content-font-color1, black)));\n  --sklearn-color-background: var(--sg-background-color, var(--theme-background, var(--jp-layout-color0, white)));\n  --sklearn-color-border-box: var(--sg-text-color, var(--theme-code-foreground, var(--jp-content-font-color1, black)));\n  --sklearn-color-icon: #696969;\n\n  @media (prefers-color-scheme: dark) {\n    /* Redefinition of color scheme for dark theme */\n    --sklearn-color-text-on-default-background: var(--sg-text-color, var(--theme-code-foreground, var(--jp-content-font-color1, white)));\n    --sklearn-color-background: var(--sg-background-color, var(--theme-background, var(--jp-layout-color0, #111)));\n    --sklearn-color-border-box: var(--sg-text-color, var(--theme-code-foreground, var(--jp-content-font-color1, white)));\n    --sklearn-color-icon: #878787;\n  }\n}\n\n#sk-container-id-4 {\n  color: var(--sklearn-color-text);\n}\n\n#sk-container-id-4 pre {\n  padding: 0;\n}\n\n#sk-container-id-4 input.sk-hidden--visually {\n  border: 0;\n  clip: rect(1px 1px 1px 1px);\n  clip: rect(1px, 1px, 1px, 1px);\n  height: 1px;\n  margin: -1px;\n  overflow: hidden;\n  padding: 0;\n  position: absolute;\n  width: 1px;\n}\n\n#sk-container-id-4 div.sk-dashed-wrapped {\n  border: 1px dashed var(--sklearn-color-line);\n  margin: 0 0.4em 0.5em 0.4em;\n  box-sizing: border-box;\n  padding-bottom: 0.4em;\n  background-color: var(--sklearn-color-background);\n}\n\n#sk-container-id-4 div.sk-container {\n  /* jupyter's `normalize.less` sets `[hidden] { display: none; }`\n     but bootstrap.min.css set `[hidden] { display: none !important; }`\n     so we also need the `!important` here to be able to override the\n     default hidden behavior on the sphinx rendered scikit-learn.org.\n     See: https://github.com/scikit-learn/scikit-learn/issues/21755 */\n  display: inline-block !important;\n  position: relative;\n}\n\n#sk-container-id-4 div.sk-text-repr-fallback {\n  display: none;\n}\n\ndiv.sk-parallel-item,\ndiv.sk-serial,\ndiv.sk-item {\n  /* draw centered vertical line to link estimators */\n  background-image: linear-gradient(var(--sklearn-color-text-on-default-background), var(--sklearn-color-text-on-default-background));\n  background-size: 2px 100%;\n  background-repeat: no-repeat;\n  background-position: center center;\n}\n\n/* Parallel-specific style estimator block */\n\n#sk-container-id-4 div.sk-parallel-item::after {\n  content: \"\";\n  width: 100%;\n  border-bottom: 2px solid var(--sklearn-color-text-on-default-background);\n  flex-grow: 1;\n}\n\n#sk-container-id-4 div.sk-parallel {\n  display: flex;\n  align-items: stretch;\n  justify-content: center;\n  background-color: var(--sklearn-color-background);\n  position: relative;\n}\n\n#sk-container-id-4 div.sk-parallel-item {\n  display: flex;\n  flex-direction: column;\n}\n\n#sk-container-id-4 div.sk-parallel-item:first-child::after {\n  align-self: flex-end;\n  width: 50%;\n}\n\n#sk-container-id-4 div.sk-parallel-item:last-child::after {\n  align-self: flex-start;\n  width: 50%;\n}\n\n#sk-container-id-4 div.sk-parallel-item:only-child::after {\n  width: 0;\n}\n\n/* Serial-specific style estimator block */\n\n#sk-container-id-4 div.sk-serial {\n  display: flex;\n  flex-direction: column;\n  align-items: center;\n  background-color: var(--sklearn-color-background);\n  padding-right: 1em;\n  padding-left: 1em;\n}\n\n\n/* Toggleable style: style used for estimator/Pipeline/ColumnTransformer box that is\nclickable and can be expanded/collapsed.\n- Pipeline and ColumnTransformer use this feature and define the default style\n- Estimators will overwrite some part of the style using the `sk-estimator` class\n*/\n\n/* Pipeline and ColumnTransformer style (default) */\n\n#sk-container-id-4 div.sk-toggleable {\n  /* Default theme specific background. It is overwritten whether we have a\n  specific estimator or a Pipeline/ColumnTransformer */\n  background-color: var(--sklearn-color-background);\n}\n\n/* Toggleable label */\n#sk-container-id-4 label.sk-toggleable__label {\n  cursor: pointer;\n  display: block;\n  width: 100%;\n  margin-bottom: 0;\n  padding: 0.5em;\n  box-sizing: border-box;\n  text-align: center;\n}\n\n#sk-container-id-4 label.sk-toggleable__label-arrow:before {\n  /* Arrow on the left of the label */\n  content: \"▸\";\n  float: left;\n  margin-right: 0.25em;\n  color: var(--sklearn-color-icon);\n}\n\n#sk-container-id-4 label.sk-toggleable__label-arrow:hover:before {\n  color: var(--sklearn-color-text);\n}\n\n/* Toggleable content - dropdown */\n\n#sk-container-id-4 div.sk-toggleable__content {\n  max-height: 0;\n  max-width: 0;\n  overflow: hidden;\n  text-align: left;\n  /* unfitted */\n  background-color: var(--sklearn-color-unfitted-level-0);\n}\n\n#sk-container-id-4 div.sk-toggleable__content.fitted {\n  /* fitted */\n  background-color: var(--sklearn-color-fitted-level-0);\n}\n\n#sk-container-id-4 div.sk-toggleable__content pre {\n  margin: 0.2em;\n  border-radius: 0.25em;\n  color: var(--sklearn-color-text);\n  /* unfitted */\n  background-color: var(--sklearn-color-unfitted-level-0);\n}\n\n#sk-container-id-4 div.sk-toggleable__content.fitted pre {\n  /* unfitted */\n  background-color: var(--sklearn-color-fitted-level-0);\n}\n\n#sk-container-id-4 input.sk-toggleable__control:checked~div.sk-toggleable__content {\n  /* Expand drop-down */\n  max-height: 200px;\n  max-width: 100%;\n  overflow: auto;\n}\n\n#sk-container-id-4 input.sk-toggleable__control:checked~label.sk-toggleable__label-arrow:before {\n  content: \"▾\";\n}\n\n/* Pipeline/ColumnTransformer-specific style */\n\n#sk-container-id-4 div.sk-label input.sk-toggleable__control:checked~label.sk-toggleable__label {\n  color: var(--sklearn-color-text);\n  background-color: var(--sklearn-color-unfitted-level-2);\n}\n\n#sk-container-id-4 div.sk-label.fitted input.sk-toggleable__control:checked~label.sk-toggleable__label {\n  background-color: var(--sklearn-color-fitted-level-2);\n}\n\n/* Estimator-specific style */\n\n/* Colorize estimator box */\n#sk-container-id-4 div.sk-estimator input.sk-toggleable__control:checked~label.sk-toggleable__label {\n  /* unfitted */\n  background-color: var(--sklearn-color-unfitted-level-2);\n}\n\n#sk-container-id-4 div.sk-estimator.fitted input.sk-toggleable__control:checked~label.sk-toggleable__label {\n  /* fitted */\n  background-color: var(--sklearn-color-fitted-level-2);\n}\n\n#sk-container-id-4 div.sk-label label.sk-toggleable__label,\n#sk-container-id-4 div.sk-label label {\n  /* The background is the default theme color */\n  color: var(--sklearn-color-text-on-default-background);\n}\n\n/* On hover, darken the color of the background */\n#sk-container-id-4 div.sk-label:hover label.sk-toggleable__label {\n  color: var(--sklearn-color-text);\n  background-color: var(--sklearn-color-unfitted-level-2);\n}\n\n/* Label box, darken color on hover, fitted */\n#sk-container-id-4 div.sk-label.fitted:hover label.sk-toggleable__label.fitted {\n  color: var(--sklearn-color-text);\n  background-color: var(--sklearn-color-fitted-level-2);\n}\n\n/* Estimator label */\n\n#sk-container-id-4 div.sk-label label {\n  font-family: monospace;\n  font-weight: bold;\n  display: inline-block;\n  line-height: 1.2em;\n}\n\n#sk-container-id-4 div.sk-label-container {\n  text-align: center;\n}\n\n/* Estimator-specific */\n#sk-container-id-4 div.sk-estimator {\n  font-family: monospace;\n  border: 1px dotted var(--sklearn-color-border-box);\n  border-radius: 0.25em;\n  box-sizing: border-box;\n  margin-bottom: 0.5em;\n  /* unfitted */\n  background-color: var(--sklearn-color-unfitted-level-0);\n}\n\n#sk-container-id-4 div.sk-estimator.fitted {\n  /* fitted */\n  background-color: var(--sklearn-color-fitted-level-0);\n}\n\n/* on hover */\n#sk-container-id-4 div.sk-estimator:hover {\n  /* unfitted */\n  background-color: var(--sklearn-color-unfitted-level-2);\n}\n\n#sk-container-id-4 div.sk-estimator.fitted:hover {\n  /* fitted */\n  background-color: var(--sklearn-color-fitted-level-2);\n}\n\n/* Specification for estimator info (e.g. \"i\" and \"?\") */\n\n/* Common style for \"i\" and \"?\" */\n\n.sk-estimator-doc-link,\na:link.sk-estimator-doc-link,\na:visited.sk-estimator-doc-link {\n  float: right;\n  font-size: smaller;\n  line-height: 1em;\n  font-family: monospace;\n  background-color: var(--sklearn-color-background);\n  border-radius: 1em;\n  height: 1em;\n  width: 1em;\n  text-decoration: none !important;\n  margin-left: 1ex;\n  /* unfitted */\n  border: var(--sklearn-color-unfitted-level-1) 1pt solid;\n  color: var(--sklearn-color-unfitted-level-1);\n}\n\n.sk-estimator-doc-link.fitted,\na:link.sk-estimator-doc-link.fitted,\na:visited.sk-estimator-doc-link.fitted {\n  /* fitted */\n  border: var(--sklearn-color-fitted-level-1) 1pt solid;\n  color: var(--sklearn-color-fitted-level-1);\n}\n\n/* On hover */\ndiv.sk-estimator:hover .sk-estimator-doc-link:hover,\n.sk-estimator-doc-link:hover,\ndiv.sk-label-container:hover .sk-estimator-doc-link:hover,\n.sk-estimator-doc-link:hover {\n  /* unfitted */\n  background-color: var(--sklearn-color-unfitted-level-3);\n  color: var(--sklearn-color-background);\n  text-decoration: none;\n}\n\ndiv.sk-estimator.fitted:hover .sk-estimator-doc-link.fitted:hover,\n.sk-estimator-doc-link.fitted:hover,\ndiv.sk-label-container:hover .sk-estimator-doc-link.fitted:hover,\n.sk-estimator-doc-link.fitted:hover {\n  /* fitted */\n  background-color: var(--sklearn-color-fitted-level-3);\n  color: var(--sklearn-color-background);\n  text-decoration: none;\n}\n\n/* Span, style for the box shown on hovering the info icon */\n.sk-estimator-doc-link span {\n  display: none;\n  z-index: 9999;\n  position: relative;\n  font-weight: normal;\n  right: .2ex;\n  padding: .5ex;\n  margin: .5ex;\n  width: min-content;\n  min-width: 20ex;\n  max-width: 50ex;\n  color: var(--sklearn-color-text);\n  box-shadow: 2pt 2pt 4pt #999;\n  /* unfitted */\n  background: var(--sklearn-color-unfitted-level-0);\n  border: .5pt solid var(--sklearn-color-unfitted-level-3);\n}\n\n.sk-estimator-doc-link.fitted span {\n  /* fitted */\n  background: var(--sklearn-color-fitted-level-0);\n  border: var(--sklearn-color-fitted-level-3);\n}\n\n.sk-estimator-doc-link:hover span {\n  display: block;\n}\n\n/* \"?\"-specific style due to the `<a>` HTML tag */\n\n#sk-container-id-4 a.estimator_doc_link {\n  float: right;\n  font-size: 1rem;\n  line-height: 1em;\n  font-family: monospace;\n  background-color: var(--sklearn-color-background);\n  border-radius: 1rem;\n  height: 1rem;\n  width: 1rem;\n  text-decoration: none;\n  /* unfitted */\n  color: var(--sklearn-color-unfitted-level-1);\n  border: var(--sklearn-color-unfitted-level-1) 1pt solid;\n}\n\n#sk-container-id-4 a.estimator_doc_link.fitted {\n  /* fitted */\n  border: var(--sklearn-color-fitted-level-1) 1pt solid;\n  color: var(--sklearn-color-fitted-level-1);\n}\n\n/* On hover */\n#sk-container-id-4 a.estimator_doc_link:hover {\n  /* unfitted */\n  background-color: var(--sklearn-color-unfitted-level-3);\n  color: var(--sklearn-color-background);\n  text-decoration: none;\n}\n\n#sk-container-id-4 a.estimator_doc_link.fitted:hover {\n  /* fitted */\n  background-color: var(--sklearn-color-fitted-level-3);\n}\n</style><div id=\"sk-container-id-4\" class=\"sk-top-container\"><div class=\"sk-text-repr-fallback\"><pre>ExponentiatedGradientReduction(constraints=&lt;fairlearn.reductions._moments.utility_parity.DemographicParity object at 0x2b5fe83a0&gt;,\n                               drop_prot_attr=False,\n                               estimator=&lt;catboost.core.CatBoostClassifier object at 0x2b5fe8340&gt;,\n                               max_iter=10, prot_attr=&#x27;gender&#x27;)</pre><b>In a Jupyter environment, please rerun this cell to show the HTML representation or trust the notebook. <br />On GitHub, the HTML representation is unable to render, please try loading this page with nbviewer.org.</b></div><div class=\"sk-container\" hidden><div class=\"sk-item sk-dashed-wrapped\"><div class=\"sk-label-container\"><div class=\"sk-label fitted sk-toggleable\"><input class=\"sk-toggleable__control sk-hidden--visually\" id=\"sk-estimator-id-10\" type=\"checkbox\" ><label for=\"sk-estimator-id-10\" class=\"sk-toggleable__label fitted sk-toggleable__label-arrow fitted\">&nbsp;ExponentiatedGradientReduction<span class=\"sk-estimator-doc-link fitted\">i<span>Fitted</span></span></label><div class=\"sk-toggleable__content fitted\"><pre>ExponentiatedGradientReduction(constraints=&lt;fairlearn.reductions._moments.utility_parity.DemographicParity object at 0x2b5fe83a0&gt;,\n                               drop_prot_attr=False,\n                               estimator=&lt;catboost.core.CatBoostClassifier object at 0x2b5fe8340&gt;,\n                               max_iter=10, prot_attr=&#x27;gender&#x27;)</pre></div> </div></div><div class=\"sk-parallel\"><div class=\"sk-parallel-item\"><div class=\"sk-item\"><div class=\"sk-label-container\"><div class=\"sk-label fitted sk-toggleable\"><input class=\"sk-toggleable__control sk-hidden--visually\" id=\"sk-estimator-id-11\" type=\"checkbox\" ><label for=\"sk-estimator-id-11\" class=\"sk-toggleable__label fitted sk-toggleable__label-arrow fitted\">estimator: CatBoostClassifier</label><div class=\"sk-toggleable__content fitted\"><pre>&lt;catboost.core.CatBoostClassifier object at 0x2b5fe8340&gt;</pre></div> </div></div><div class=\"sk-serial\"><div class=\"sk-item\"><div class=\"sk-estimator fitted sk-toggleable\"><input class=\"sk-toggleable__control sk-hidden--visually\" id=\"sk-estimator-id-12\" type=\"checkbox\" ><label for=\"sk-estimator-id-12\" class=\"sk-toggleable__label fitted sk-toggleable__label-arrow fitted\">CatBoostClassifier</label><div class=\"sk-toggleable__content fitted\"><pre>&lt;catboost.core.CatBoostClassifier object at 0x2b5fe8340&gt;</pre></div> </div></div></div></div></div></div></div></div></div>"
     },
     "execution_count": 167,
     "metadata": {},
     "output_type": "execute_result"
    }
   ],
   "source": [
    "reduction_aif.fit(X_train, y_train)"
   ],
   "metadata": {
    "collapsed": false,
    "ExecuteTime": {
     "end_time": "2024-03-28T12:08:02.753929Z",
     "start_time": "2024-03-28T11:57:51.996808Z"
    }
   },
   "id": "324bcdeed6101c6c",
   "execution_count": 167
  },
  {
   "cell_type": "code",
   "outputs": [],
   "source": [
    "y_pred_reduced_aif = reduction_aif.predict(X_test)"
   ],
   "metadata": {
    "collapsed": false,
    "ExecuteTime": {
     "end_time": "2024-03-28T12:08:03.067237Z",
     "start_time": "2024-03-28T12:08:02.691625Z"
    }
   },
   "id": "b30461390aa17293",
   "execution_count": 168
  },
  {
   "cell_type": "code",
   "outputs": [
    {
     "data": {
      "text/plain": "               metric        type method     value\n0  demographic_parity  difference  other -0.025874\n1  demographic_parity       ratio  other  0.851895\n2   equal_opportunity  difference  other  0.279099",
      "text/html": "<div>\n<style scoped>\n    .dataframe tbody tr th:only-of-type {\n        vertical-align: middle;\n    }\n\n    .dataframe tbody tr th {\n        vertical-align: top;\n    }\n\n    .dataframe thead th {\n        text-align: right;\n    }\n</style>\n<table border=\"1\" class=\"dataframe\">\n  <thead>\n    <tr style=\"text-align: right;\">\n      <th></th>\n      <th>metric</th>\n      <th>type</th>\n      <th>method</th>\n      <th>value</th>\n    </tr>\n  </thead>\n  <tbody>\n    <tr>\n      <th>0</th>\n      <td>demographic_parity</td>\n      <td>difference</td>\n      <td>other</td>\n      <td>-0.025874</td>\n    </tr>\n    <tr>\n      <th>1</th>\n      <td>demographic_parity</td>\n      <td>ratio</td>\n      <td>other</td>\n      <td>0.851895</td>\n    </tr>\n    <tr>\n      <th>2</th>\n      <td>equal_opportunity</td>\n      <td>difference</td>\n      <td>other</td>\n      <td>0.279099</td>\n    </tr>\n  </tbody>\n</table>\n</div>"
     },
     "execution_count": 169,
     "metadata": {},
     "output_type": "execute_result"
    }
   ],
   "source": [
    "calculate_aif360_metrics(y_test, y_pred_reduced_aif, z_test, priv_group=priv_group)"
   ],
   "metadata": {
    "collapsed": false,
    "ExecuteTime": {
     "end_time": "2024-03-28T12:08:03.138672Z",
     "start_time": "2024-03-28T12:08:02.965331Z"
    }
   },
   "id": "7aadad702f6a592e",
   "execution_count": 169
  },
  {
   "cell_type": "code",
   "outputs": [
    {
     "name": "stdout",
     "output_type": "stream",
     "text": [
      "              precision    recall  f1-score   support\n",
      "\n",
      "           0       0.87      0.95      0.91      7431\n",
      "           1       0.79      0.55      0.65      2338\n",
      "\n",
      "    accuracy                           0.86      9769\n",
      "   macro avg       0.83      0.75      0.78      9769\n",
      "weighted avg       0.85      0.86      0.85      9769\n"
     ]
    }
   ],
   "source": [
    "print(classification_report(y_test, y_pred_reduced_aif))\n"
   ],
   "metadata": {
    "collapsed": false,
    "ExecuteTime": {
     "end_time": "2024-03-28T12:08:03.231329Z",
     "start_time": "2024-03-28T12:08:02.965588Z"
    }
   },
   "id": "753e91e2ba68a5d6",
   "execution_count": 170
  },
  {
   "cell_type": "code",
   "outputs": [],
   "source": [],
   "metadata": {
    "collapsed": false
   },
   "id": "b270c4aa4ca1a412"
  }
 ],
 "metadata": {
  "kernelspec": {
   "display_name": "Python 3",
   "language": "python",
   "name": "python3"
  },
  "language_info": {
   "codemirror_mode": {
    "name": "ipython",
    "version": 2
   },
   "file_extension": ".py",
   "mimetype": "text/x-python",
   "name": "python",
   "nbconvert_exporter": "python",
   "pygments_lexer": "ipython2",
   "version": "2.7.6"
  }
 },
 "nbformat": 4,
 "nbformat_minor": 5
}
